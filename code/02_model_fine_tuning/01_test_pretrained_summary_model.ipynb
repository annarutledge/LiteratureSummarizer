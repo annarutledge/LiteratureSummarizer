{
  "cells": [
    {
      "cell_type": "markdown",
      "metadata": {
        "id": "CfONYAh3o5q5"
      },
      "source": [
        "##### In this notebook, the predictive power of a pretrained Hugging Face transformer model without any extra fine tuning is tested in generating summaries. This gives an idea of what the base capability of these models may be, although this is very much just an approximation as only one model is used and only a small amount of example summaries are generated. This example also allows for some exploratory analysis of generated summaries and a metric for judging model performance going forward."
      ]
    },
    {
      "cell_type": "markdown",
      "metadata": {},
      "source": [
        "# Imports"
      ]
    },
    {
      "cell_type": "code",
      "execution_count": 88,
      "metadata": {
        "id": "3vDDJNLwo6Th"
      },
      "outputs": [],
      "source": [
        "from transformers import AutoTokenizer, AutoModelForSeq2SeqLM, BartTokenizer, BartForConditionalGeneration, AutoModelForSequenceClassification\n",
        "import pandas as pd\n",
        "import torch\n",
        "import spacy\n",
        "from rouge_score import rouge_scorer\n",
        "from rouge import Rouge\n",
        "import random\n",
        "import numpy as np"
      ]
    },
    {
      "cell_type": "code",
      "execution_count": 2,
      "metadata": {
        "colab": {
          "base_uri": "https://localhost:8080/"
        },
        "id": "T69XksgOPmhs",
        "outputId": "5734d886-755a-400f-b364-d1dd9fd16b75"
      },
      "outputs": [
        {
          "name": "stdout",
          "output_type": "stream",
          "text": [
            "\u001b[38;5;2m✔ Download and installation successful\u001b[0m\n",
            "You can now load the package via spacy.load('en_core_web_md')\n"
          ]
        }
      ],
      "source": [
        "spacy.cli.download(\"en_core_web_md\")\n",
        "nlp = spacy.load(\"en_core_web_md\") "
      ]
    },
    {
      "cell_type": "markdown",
      "metadata": {
        "id": "afIYTKdOo7y0"
      },
      "source": [
        "# Read in data"
      ]
    },
    {
      "cell_type": "code",
      "execution_count": 3,
      "metadata": {
        "id": "sqGpIXUPZ78k"
      },
      "outputs": [],
      "source": [
        "df_chapters = pd.read_csv('./cleaned_data_copy/cleaned_summaries_and_texts.csv')"
      ]
    },
    {
      "cell_type": "code",
      "execution_count": 4,
      "metadata": {
        "colab": {
          "base_uri": "https://localhost:8080/",
          "height": 677
        },
        "id": "oYRTHnf1al83",
        "outputId": "603954d1-1918-42e3-ec55-f567917c0282"
      },
      "outputs": [
        {
          "data": {
            "text/html": [
              "\n",
              "  <div id=\"df-d83a93f0-0c48-4463-8304-cd59a9d8fe4b\">\n",
              "    <div class=\"colab-df-container\">\n",
              "      <div>\n",
              "<style scoped>\n",
              "    .dataframe tbody tr th:only-of-type {\n",
              "        vertical-align: middle;\n",
              "    }\n",
              "\n",
              "    .dataframe tbody tr th {\n",
              "        vertical-align: top;\n",
              "    }\n",
              "\n",
              "    .dataframe thead th {\n",
              "        text-align: right;\n",
              "    }\n",
              "</style>\n",
              "<table border=\"1\" class=\"dataframe\">\n",
              "  <thead>\n",
              "    <tr style=\"text-align: right;\">\n",
              "      <th></th>\n",
              "      <th>chapter_title</th>\n",
              "      <th>chapter_summary</th>\n",
              "      <th>book_title</th>\n",
              "      <th>chapters</th>\n",
              "      <th>chapter_text</th>\n",
              "    </tr>\n",
              "  </thead>\n",
              "  <tbody>\n",
              "    <tr>\n",
              "      <th>0</th>\n",
              "      <td>The Age of Innocence: Novel Summary: Chapters 1-3</td>\n",
              "      <td>The story opens at the opera in New York....</td>\n",
              "      <td>The Age of Innocence</td>\n",
              "      <td>Chapters 1-3</td>\n",
              "      <td>byEdith Wharton Etext prepared by JudithBoss,...</td>\n",
              "    </tr>\n",
              "    <tr>\n",
              "      <th>1</th>\n",
              "      <td>The Age of Innocence: Novel Summary: Chapters 4-6</td>\n",
              "      <td>Archer and May begin their round of betrotha...</td>\n",
              "      <td>The Age of Innocence</td>\n",
              "      <td>Chapters 4-6</td>\n",
              "      <td>In the course of the next day the first of th...</td>\n",
              "    </tr>\n",
              "    <tr>\n",
              "      <th>2</th>\n",
              "      <td>The Age of Innocence: Novel Summary: Chapters 7-9</td>\n",
              "      <td>Mrs Archer and her son call on the van der L...</td>\n",
              "      <td>The Age of Innocence</td>\n",
              "      <td>Chapters 7-9</td>\n",
              "      <td>Mrs. Henry van der Luyden listened in silence...</td>\n",
              "    </tr>\n",
              "    <tr>\n",
              "      <th>3</th>\n",
              "      <td>The Age of Innocence: Novel Summary: Chapters ...</td>\n",
              "      <td>Archer tells May about his having sent roses...</td>\n",
              "      <td>The Age of Innocence</td>\n",
              "      <td>Chapters 10-12</td>\n",
              "      <td>The Countess Olenska had said \"after five\"; a...</td>\n",
              "    </tr>\n",
              "    <tr>\n",
              "      <th>4</th>\n",
              "      <td>The Age of Innocence: Novel Summary: Chapters ...</td>\n",
              "      <td>At the theatre, Archer is moved by an incide...</td>\n",
              "      <td>The Age of Innocence</td>\n",
              "      <td>Chapters 13-15</td>\n",
              "      <td>It was a crowded night at Wallack's theatre. ...</td>\n",
              "    </tr>\n",
              "    <tr>\n",
              "      <th>5</th>\n",
              "      <td>The Age of Innocence: Novel Summary: Chapters ...</td>\n",
              "      <td>Archer arrives at St Augustine, impatient to...</td>\n",
              "      <td>The Age of Innocence</td>\n",
              "      <td>Chapters 16-18</td>\n",
              "      <td>When Archer walked down the sandy main street...</td>\n",
              "    </tr>\n",
              "    <tr>\n",
              "      <th>6</th>\n",
              "      <td>The Age of Innocence: Novel Summary: Chapters ...</td>\n",
              "      <td>Under the eyes of New York society, Archer m...</td>\n",
              "      <td>The Age of Innocence</td>\n",
              "      <td>Chapters 19-21</td>\n",
              "      <td>The day was fresh, with a lively spring wind ...</td>\n",
              "    </tr>\n",
              "    <tr>\n",
              "      <th>7</th>\n",
              "      <td>The Age of Innocence: Novel Summary: Chapters ...</td>\n",
              "      <td>Mr and Mrs Emerson Sillerton invite the Well...</td>\n",
              "      <td>The Age of Innocence</td>\n",
              "      <td>Chapters 22-24</td>\n",
              "      <td>A party for the Blenkers--the Blenkers?\" Mr. ...</td>\n",
              "    </tr>\n",
              "    <tr>\n",
              "      <th>8</th>\n",
              "      <td>The Age of Innocence: Novel Summary: Chapters ...</td>\n",
              "      <td>As he leaves Boston, Archer feels tranquil, ...</td>\n",
              "      <td>The Age of Innocence</td>\n",
              "      <td>Chapters 25-27</td>\n",
              "      <td>Once more on the boat, and in the presence of...</td>\n",
              "    </tr>\n",
              "    <tr>\n",
              "      <th>9</th>\n",
              "      <td>The Age of Innocence: Novel Summary: Chapters ...</td>\n",
              "      <td>Archer sends a telegram to Ellen asking her ...</td>\n",
              "      <td>The Age of Innocence</td>\n",
              "      <td>Chapters 28-30</td>\n",
              "      <td>Ol-ol--howjer spell it, anyhow?\" asked the ta...</td>\n",
              "    </tr>\n",
              "    <tr>\n",
              "      <th>10</th>\n",
              "      <td>The Age of Innocence: Novel Summary: Chapters ...</td>\n",
              "      <td>Archer is stunned at Mrs Mingott's news. He ...</td>\n",
              "      <td>The Age of Innocence</td>\n",
              "      <td>Chapters 31-33</td>\n",
              "      <td>Archer had been stunned by old Catherine's ne...</td>\n",
              "    </tr>\n",
              "    <tr>\n",
              "      <th>11</th>\n",
              "      <td>The Age of Innocence: Novel Summary: Chapter 34</td>\n",
              "      <td>It is twenty-five years after the Archers' d...</td>\n",
              "      <td>The Age of Innocence</td>\n",
              "      <td>Chapter 34</td>\n",
              "      <td>Newland Archer sat at the writing-table in hi...</td>\n",
              "    </tr>\n",
              "    <tr>\n",
              "      <th>12</th>\n",
              "      <td>Pride and Prejudice: Novel Summary: Chapters 1-4</td>\n",
              "      <td>Chapter one introduces Mr. and Mrs. Bennet of...</td>\n",
              "      <td>Pride and Prejudice</td>\n",
              "      <td>Chapters 1-4</td>\n",
              "      <td>byJane Austen   by Jane Austen Chapter 1  It ...</td>\n",
              "    </tr>\n",
              "    <tr>\n",
              "      <th>13</th>\n",
              "      <td>Pride and Prejudice: Novel Summary: Chapters 5-8</td>\n",
              "      <td>Sir William and Lady Lucas are further introd...</td>\n",
              "      <td>Pride and Prejudice</td>\n",
              "      <td>Chapters 5-8</td>\n",
              "      <td>Within a short walk of Longbourn lived a fam...</td>\n",
              "    </tr>\n",
              "    <tr>\n",
              "      <th>14</th>\n",
              "      <td>Pride and Prejudice: Novel Summary: Chapters 9-12</td>\n",
              "      <td>Mrs. Bingley and her two youngest daughters (...</td>\n",
              "      <td>Pride and Prejudice</td>\n",
              "      <td>Chapters 9-12</td>\n",
              "      <td>Elizabeth passed the chief of the night in h...</td>\n",
              "    </tr>\n",
              "    <tr>\n",
              "      <th>15</th>\n",
              "      <td>Pride and Prejudice: Novel Summary: Chapters 1...</td>\n",
              "      <td>Mr. Bennet reveals that he has received a let...</td>\n",
              "      <td>Pride and Prejudice</td>\n",
              "      <td>Chapters 13-16</td>\n",
              "      <td>\"I hope, my dear,\" said Mr. Bennet to his wi...</td>\n",
              "    </tr>\n",
              "    <tr>\n",
              "      <th>16</th>\n",
              "      <td>Pride and Prejudice: Novel Summary: Chapters 1...</td>\n",
              "      <td>The next day Elizabeth tells Jane all that Wi...</td>\n",
              "      <td>Pride and Prejudice</td>\n",
              "      <td>Chapters 17-20</td>\n",
              "      <td>Elizabeth related to Jane the next day what ...</td>\n",
              "    </tr>\n",
              "    <tr>\n",
              "      <th>17</th>\n",
              "      <td>Pride and Prejudice: Novel Summary: Chapters 2...</td>\n",
              "      <td>Mr. Collins begins to ignore Elizabeth, and h...</td>\n",
              "      <td>Pride and Prejudice</td>\n",
              "      <td>Chapters 21-24</td>\n",
              "      <td>The discussion of Mr. Collins's offer was no...</td>\n",
              "    </tr>\n",
              "    <tr>\n",
              "      <th>18</th>\n",
              "      <td>Pride and Prejudice: Novel Summary: Chapters 2...</td>\n",
              "      <td>Mr. Collins returns to his parish, and soon M...</td>\n",
              "      <td>Pride and Prejudice</td>\n",
              "      <td>Chapters 25-28</td>\n",
              "      <td>After a week spent in professions of love an...</td>\n",
              "    </tr>\n",
              "    <tr>\n",
              "      <th>19</th>\n",
              "      <td>Pride and Prejudice: Novel Summary: Chapters 2...</td>\n",
              "      <td>The next day Collins talks about on how lucky...</td>\n",
              "      <td>Pride and Prejudice</td>\n",
              "      <td>Chapters 29-32</td>\n",
              "      <td>Mr. Collins's triumph, in consequence of thi...</td>\n",
              "    </tr>\n",
              "  </tbody>\n",
              "</table>\n",
              "</div>\n",
              "      <button class=\"colab-df-convert\" onclick=\"convertToInteractive('df-d83a93f0-0c48-4463-8304-cd59a9d8fe4b')\"\n",
              "              title=\"Convert this dataframe to an interactive table.\"\n",
              "              style=\"display:none;\">\n",
              "        \n",
              "  <svg xmlns=\"http://www.w3.org/2000/svg\" height=\"24px\"viewBox=\"0 0 24 24\"\n",
              "       width=\"24px\">\n",
              "    <path d=\"M0 0h24v24H0V0z\" fill=\"none\"/>\n",
              "    <path d=\"M18.56 5.44l.94 2.06.94-2.06 2.06-.94-2.06-.94-.94-2.06-.94 2.06-2.06.94zm-11 1L8.5 8.5l.94-2.06 2.06-.94-2.06-.94L8.5 2.5l-.94 2.06-2.06.94zm10 10l.94 2.06.94-2.06 2.06-.94-2.06-.94-.94-2.06-.94 2.06-2.06.94z\"/><path d=\"M17.41 7.96l-1.37-1.37c-.4-.4-.92-.59-1.43-.59-.52 0-1.04.2-1.43.59L10.3 9.45l-7.72 7.72c-.78.78-.78 2.05 0 2.83L4 21.41c.39.39.9.59 1.41.59.51 0 1.02-.2 1.41-.59l7.78-7.78 2.81-2.81c.8-.78.8-2.07 0-2.86zM5.41 20L4 18.59l7.72-7.72 1.47 1.35L5.41 20z\"/>\n",
              "  </svg>\n",
              "      </button>\n",
              "      \n",
              "  <style>\n",
              "    .colab-df-container {\n",
              "      display:flex;\n",
              "      flex-wrap:wrap;\n",
              "      gap: 12px;\n",
              "    }\n",
              "\n",
              "    .colab-df-convert {\n",
              "      background-color: #E8F0FE;\n",
              "      border: none;\n",
              "      border-radius: 50%;\n",
              "      cursor: pointer;\n",
              "      display: none;\n",
              "      fill: #1967D2;\n",
              "      height: 32px;\n",
              "      padding: 0 0 0 0;\n",
              "      width: 32px;\n",
              "    }\n",
              "\n",
              "    .colab-df-convert:hover {\n",
              "      background-color: #E2EBFA;\n",
              "      box-shadow: 0px 1px 2px rgba(60, 64, 67, 0.3), 0px 1px 3px 1px rgba(60, 64, 67, 0.15);\n",
              "      fill: #174EA6;\n",
              "    }\n",
              "\n",
              "    [theme=dark] .colab-df-convert {\n",
              "      background-color: #3B4455;\n",
              "      fill: #D2E3FC;\n",
              "    }\n",
              "\n",
              "    [theme=dark] .colab-df-convert:hover {\n",
              "      background-color: #434B5C;\n",
              "      box-shadow: 0px 1px 3px 1px rgba(0, 0, 0, 0.15);\n",
              "      filter: drop-shadow(0px 1px 2px rgba(0, 0, 0, 0.3));\n",
              "      fill: #FFFFFF;\n",
              "    }\n",
              "  </style>\n",
              "\n",
              "      <script>\n",
              "        const buttonEl =\n",
              "          document.querySelector('#df-d83a93f0-0c48-4463-8304-cd59a9d8fe4b button.colab-df-convert');\n",
              "        buttonEl.style.display =\n",
              "          google.colab.kernel.accessAllowed ? 'block' : 'none';\n",
              "\n",
              "        async function convertToInteractive(key) {\n",
              "          const element = document.querySelector('#df-d83a93f0-0c48-4463-8304-cd59a9d8fe4b');\n",
              "          const dataTable =\n",
              "            await google.colab.kernel.invokeFunction('convertToInteractive',\n",
              "                                                     [key], {});\n",
              "          if (!dataTable) return;\n",
              "\n",
              "          const docLinkHtml = 'Like what you see? Visit the ' +\n",
              "            '<a target=\"_blank\" href=https://colab.research.google.com/notebooks/data_table.ipynb>data table notebook</a>'\n",
              "            + ' to learn more about interactive tables.';\n",
              "          element.innerHTML = '';\n",
              "          dataTable['output_type'] = 'display_data';\n",
              "          await google.colab.output.renderOutput(dataTable, element);\n",
              "          const docLink = document.createElement('div');\n",
              "          docLink.innerHTML = docLinkHtml;\n",
              "          element.appendChild(docLink);\n",
              "        }\n",
              "      </script>\n",
              "    </div>\n",
              "  </div>\n",
              "  "
            ],
            "text/plain": [
              "                                        chapter_title  \\\n",
              "0   The Age of Innocence: Novel Summary: Chapters 1-3   \n",
              "1   The Age of Innocence: Novel Summary: Chapters 4-6   \n",
              "2   The Age of Innocence: Novel Summary: Chapters 7-9   \n",
              "3   The Age of Innocence: Novel Summary: Chapters ...   \n",
              "4   The Age of Innocence: Novel Summary: Chapters ...   \n",
              "5   The Age of Innocence: Novel Summary: Chapters ...   \n",
              "6   The Age of Innocence: Novel Summary: Chapters ...   \n",
              "7   The Age of Innocence: Novel Summary: Chapters ...   \n",
              "8   The Age of Innocence: Novel Summary: Chapters ...   \n",
              "9   The Age of Innocence: Novel Summary: Chapters ...   \n",
              "10  The Age of Innocence: Novel Summary: Chapters ...   \n",
              "11    The Age of Innocence: Novel Summary: Chapter 34   \n",
              "12   Pride and Prejudice: Novel Summary: Chapters 1-4   \n",
              "13   Pride and Prejudice: Novel Summary: Chapters 5-8   \n",
              "14  Pride and Prejudice: Novel Summary: Chapters 9-12   \n",
              "15  Pride and Prejudice: Novel Summary: Chapters 1...   \n",
              "16  Pride and Prejudice: Novel Summary: Chapters 1...   \n",
              "17  Pride and Prejudice: Novel Summary: Chapters 2...   \n",
              "18  Pride and Prejudice: Novel Summary: Chapters 2...   \n",
              "19  Pride and Prejudice: Novel Summary: Chapters 2...   \n",
              "\n",
              "                                      chapter_summary            book_title  \\\n",
              "0        The story opens at the opera in New York....  The Age of Innocence   \n",
              "1     Archer and May begin their round of betrotha...  The Age of Innocence   \n",
              "2     Mrs Archer and her son call on the van der L...  The Age of Innocence   \n",
              "3     Archer tells May about his having sent roses...  The Age of Innocence   \n",
              "4     At the theatre, Archer is moved by an incide...  The Age of Innocence   \n",
              "5     Archer arrives at St Augustine, impatient to...  The Age of Innocence   \n",
              "6     Under the eyes of New York society, Archer m...  The Age of Innocence   \n",
              "7     Mr and Mrs Emerson Sillerton invite the Well...  The Age of Innocence   \n",
              "8     As he leaves Boston, Archer feels tranquil, ...  The Age of Innocence   \n",
              "9     Archer sends a telegram to Ellen asking her ...  The Age of Innocence   \n",
              "10    Archer is stunned at Mrs Mingott's news. He ...  The Age of Innocence   \n",
              "11    It is twenty-five years after the Archers' d...  The Age of Innocence   \n",
              "12   Chapter one introduces Mr. and Mrs. Bennet of...   Pride and Prejudice   \n",
              "13   Sir William and Lady Lucas are further introd...   Pride and Prejudice   \n",
              "14   Mrs. Bingley and her two youngest daughters (...   Pride and Prejudice   \n",
              "15   Mr. Bennet reveals that he has received a let...   Pride and Prejudice   \n",
              "16   The next day Elizabeth tells Jane all that Wi...   Pride and Prejudice   \n",
              "17   Mr. Collins begins to ignore Elizabeth, and h...   Pride and Prejudice   \n",
              "18   Mr. Collins returns to his parish, and soon M...   Pride and Prejudice   \n",
              "19   The next day Collins talks about on how lucky...   Pride and Prejudice   \n",
              "\n",
              "          chapters                                       chapter_text  \n",
              "0     Chapters 1-3   byEdith Wharton Etext prepared by JudithBoss,...  \n",
              "1     Chapters 4-6   In the course of the next day the first of th...  \n",
              "2     Chapters 7-9   Mrs. Henry van der Luyden listened in silence...  \n",
              "3   Chapters 10-12   The Countess Olenska had said \"after five\"; a...  \n",
              "4   Chapters 13-15   It was a crowded night at Wallack's theatre. ...  \n",
              "5   Chapters 16-18   When Archer walked down the sandy main street...  \n",
              "6   Chapters 19-21   The day was fresh, with a lively spring wind ...  \n",
              "7   Chapters 22-24   A party for the Blenkers--the Blenkers?\" Mr. ...  \n",
              "8   Chapters 25-27   Once more on the boat, and in the presence of...  \n",
              "9   Chapters 28-30   Ol-ol--howjer spell it, anyhow?\" asked the ta...  \n",
              "10  Chapters 31-33   Archer had been stunned by old Catherine's ne...  \n",
              "11      Chapter 34   Newland Archer sat at the writing-table in hi...  \n",
              "12    Chapters 1-4   byJane Austen   by Jane Austen Chapter 1  It ...  \n",
              "13    Chapters 5-8    Within a short walk of Longbourn lived a fam...  \n",
              "14   Chapters 9-12    Elizabeth passed the chief of the night in h...  \n",
              "15  Chapters 13-16    \"I hope, my dear,\" said Mr. Bennet to his wi...  \n",
              "16  Chapters 17-20    Elizabeth related to Jane the next day what ...  \n",
              "17  Chapters 21-24    The discussion of Mr. Collins's offer was no...  \n",
              "18  Chapters 25-28    After a week spent in professions of love an...  \n",
              "19  Chapters 29-32    Mr. Collins's triumph, in consequence of thi...  "
            ]
          },
          "execution_count": 4,
          "metadata": {},
          "output_type": "execute_result"
        }
      ],
      "source": [
        "df_chapters.head(20)"
      ]
    },
    {
      "cell_type": "markdown",
      "metadata": {
        "id": "BCOF2HdfbPW-"
      },
      "source": [
        "# Test pretrained summarization model with one row of data\n",
        "model from https://huggingface.co/docs/transformers/master/en/model_doc/bart#transformers.BartForConditionalGeneration"
      ]
    },
    {
      "cell_type": "code",
      "execution_count": 5,
      "metadata": {
        "id": "SCviyaSJay-D"
      },
      "outputs": [],
      "source": [
        "test_text = df_chapters.iloc[10]['chapter_text']"
      ]
    },
    {
      "cell_type": "code",
      "execution_count": 6,
      "metadata": {
        "id": "6o1x7wmkbTIW"
      },
      "outputs": [],
      "source": [
        "checkpoint = \"sshleifer/distilbart-xsum-1-1\""
      ]
    },
    {
      "cell_type": "code",
      "execution_count": 7,
      "metadata": {
        "id": "Bg-Nhn6R7CDp"
      },
      "outputs": [],
      "source": [
        "model = BartForConditionalGeneration.from_pretrained(checkpoint)"
      ]
    },
    {
      "cell_type": "code",
      "execution_count": 8,
      "metadata": {
        "id": "Eix0Uo527awx"
      },
      "outputs": [],
      "source": [
        "tokenizer = BartTokenizer.from_pretrained(checkpoint)"
      ]
    },
    {
      "cell_type": "code",
      "execution_count": 9,
      "metadata": {
        "colab": {
          "base_uri": "https://localhost:8080/"
        },
        "id": "bVZTaXaK7fxa",
        "outputId": "e6eb9897-0b37-401d-b268-941a18b86308"
      },
      "outputs": [
        {
          "name": "stderr",
          "output_type": "stream",
          "text": [
            "Truncation was not explicitly activated but `max_length` is provided a specific value, please use `truncation=True` to explicitly truncate examples to max length. Defaulting to 'longest_first' truncation strategy. If you encode pairs of sequences (GLUE-style) with the tokenizer you can select this strategy more precisely by providing a specific strategy to `truncation`.\n"
          ]
        }
      ],
      "source": [
        "inputs = tokenizer(test_text, max_length=1024, return_tensors=\"pt\")"
      ]
    },
    {
      "cell_type": "code",
      "execution_count": 10,
      "metadata": {
        "id": "cmgWRiYs7nh2"
      },
      "outputs": [],
      "source": [
        "summary_ids = model.generate(inputs[\"input_ids\"], num_beams=2, max_length=2000)"
      ]
    },
    {
      "cell_type": "code",
      "execution_count": 11,
      "metadata": {
        "colab": {
          "base_uri": "https://localhost:8080/",
          "height": 35
        },
        "id": "0hhza-2I7wBW",
        "outputId": "4be54962-7729-4f27-8ac5-e78f9e698281"
      },
      "outputs": [
        {
          "data": {
            "application/vnd.google.colaboratory.intrinsic+json": {
              "type": "string"
            },
            "text/plain": [
              "' The mother of a woman who died in a head-to-be-hought Hibernian was a bit of her life, the BBC has learned.'"
            ]
          },
          "execution_count": 11,
          "metadata": {},
          "output_type": "execute_result"
        }
      ],
      "source": [
        "model_summary1 = tokenizer.batch_decode(summary_ids, skip_special_tokens=True, clean_up_tokenization_spaces=False)[0]\n",
        "model_summary1"
      ]
    },
    {
      "cell_type": "markdown",
      "metadata": {
        "id": "F0ISjBwqEv-s"
      },
      "source": [
        "This model-generated summary does not make much sense. The influence of the training on the model of new sources can definitely be seen in the reference to 'the BBC.'"
      ]
    },
    {
      "cell_type": "markdown",
      "metadata": {
        "id": "L4yIFcCv9PSs"
      },
      "source": [
        "## Try another model\n",
        "model from https://huggingface.co/facebook/bart-large-xsum"
      ]
    },
    {
      "cell_type": "code",
      "execution_count": 12,
      "metadata": {
        "id": "FPqwBF9b7y0p"
      },
      "outputs": [],
      "source": [
        "checkpoint2 = \"facebook/bart-large-xsum\""
      ]
    },
    {
      "cell_type": "code",
      "execution_count": 13,
      "metadata": {
        "id": "u_yjlLAd9WmW"
      },
      "outputs": [],
      "source": [
        "tokenizer2 = AutoTokenizer.from_pretrained(checkpoint2)"
      ]
    },
    {
      "cell_type": "code",
      "execution_count": 14,
      "metadata": {
        "id": "CijLeD869dKm"
      },
      "outputs": [],
      "source": [
        "inputs2 = tokenizer2(test_text, padding=True, truncation=True, return_tensors=\"pt\")"
      ]
    },
    {
      "cell_type": "code",
      "execution_count": 15,
      "metadata": {
        "id": "1SEZ3M159nMy"
      },
      "outputs": [],
      "source": [
        "model2 = AutoModelForSeq2SeqLM.from_pretrained(checkpoint2)"
      ]
    },
    {
      "cell_type": "code",
      "execution_count": 16,
      "metadata": {
        "id": "D72yfU1x9xOF"
      },
      "outputs": [],
      "source": [
        "summary_ids2 = model2.generate(inputs2[\"input_ids\"], num_beams=2, max_length=5000)"
      ]
    },
    {
      "cell_type": "code",
      "execution_count": 17,
      "metadata": {
        "colab": {
          "base_uri": "https://localhost:8080/",
          "height": 35
        },
        "id": "4e4-QHM9-RzB",
        "outputId": "74ebc2f1-16e5-4a48-b9ac-4f7ac52aebb6"
      },
      "outputs": [
        {
          "data": {
            "application/vnd.google.colaboratory.intrinsic+json": {
              "type": "string"
            },
            "text/plain": [
              "\"As he walked home from Mrs. Mingott's house, he was conscious of a growing distaste for what lay before him.\""
            ]
          },
          "execution_count": 17,
          "metadata": {},
          "output_type": "execute_result"
        }
      ],
      "source": [
        "#Model-generated summary\n",
        "\n",
        "model_summary2 = tokenizer2.batch_decode(summary_ids2, skip_special_tokens=True, clean_up_tokenization_spaces=False)[0]\n",
        "model_summary2"
      ]
    },
    {
      "cell_type": "code",
      "execution_count": 18,
      "metadata": {
        "colab": {
          "base_uri": "https://localhost:8080/",
          "height": 122
        },
        "id": "eG9DK-Nf-Wek",
        "outputId": "13e2fef2-7178-43b4-bc11-ff690d6f026a"
      },
      "outputs": [
        {
          "data": {
            "application/vnd.google.colaboratory.intrinsic+json": {
              "type": "string"
            },
            "text/plain": [
              "'  Archer is stunned at Mrs Mingott\\'s news. He feels that Ellen, frightened at the prospect of his making a decisive step from which there would be no possibility of return, has decided to compromise and have an affair with him. He worries that an affair might draw them into a life of lies and deceptions, and is concerned about how he will be perceived by society. He waits near Beaufort\\'s house for Ellen. When she comes out, he grasps her hand and tells her that they will be together. He notices Lefferts and Chivers discreetly avoiding them, and is sickened by the thought that this could be their future. They arrange to meet the next day at the Metropolitan Museum. In the museum, Ellen tells Archer that she has decided to stay with Mrs Mingott because she feels she will be safer from temptation. She does not want to do irreparable harm, as others do in such situations. Archer protests that he is no different from the others; he has the same longings. She wavers, and asks if she should come once to him and then leave New York and go back to her husband. Archer does not believe they can give up their current lives. He miserably agrees that she will come to him the day after tomorrow. At home, May tells Archer that she has seen Ellen and had a long talk with her. She has decided that she has judged her too harshly and that she is fond of her despite her tendency to take up odd people. But she remarks that she has alienated the van der Luydens by going to visit the disgraced Regina Beaufort. The following evening, at the van der Luydens\\' pre-opera dinner, the topic of discussion is the Beauforts\\' ruin. Mrs van der Luyden asks May if it is true that Mrs Manson Mingott\\'s carriage was outside Mrs Beaufort\\'s door, an action they consider improper, given the Beauforts\\' disgrace. Archer and May go to the opera. May is dressed in her wedding dress, a common custom during the first year or so of marriage. Moved by the memory of her generosity when she told him she did not want her happiness to be made out of another\\'s misery, he feels inspired to tell her the truth about Ellen, and ask for his freedom. At home, he begins to confess about himself and Ellen, but May stops him, saying that none of this matters now that \"it\\'s all over\": Ellen is returning to Europe to live with Medora. Archer laughs bitterly, and goes to bed. May tells Archer that she wants to hold their first big dinner party, in honor of Ellen, who is leaving for Europe. Ellen is not, however, returning to her husband, and Archer thinks there is nothing to prevent him following her. His confidence in their future together has enabled him to restrain himself from contacting her. Mrs Mingott has given Ellen a generous trust fund. Ellen arrives at the Archers\\' dinner party, looking pale and almost ugly, though Archer thinks that he has never loved her more than at that moment. The guests are all kind to Ellen, now that she is leaving and will no longer pose a threat to their conventions. Suddenly, he realizes that everyone there thinks that he and Ellen are lovers. He now sees the dinner guests as conspirators in an elaborate ritual to mark the expulsion from the tribe of a member who has transgressed its code. He catches May\\'s triumphant eyes; in the secret war between her and Ellen over Archer, she is the victor. As Archer bids Ellen goodbye, he says he will see her in Paris. She replies pointedly that he and May will be welcome. Lefferts catches him by the sleeve, asking him to cover for an illicit rendezvous. After their guests have left, Archer tries to tell May once more of his feelings for Ellen. He begins by saying that he wants to go away on a long trip. May says that he must take her with him, because she is pregnant. She is now sure, though she suspected it two weeks ago, and pretended to Ellen even then that she was sure. Analysis Faced with the prospect of an affair with Ellen, Archer is concerned about how this would appear to society. Contrary to his earlier belief that men who have illicit love affairs are seen as foolish, whereas women who do so are seen as criminal, he is now convinced that the men are judged more harshly than the women. Archer\\'s fears about how such things are perceived are confirmed by the dinner party scene in Chapter 33. The guests assume, wrongly, that Archer has been unfaithful to May, and rally around her. Ellen\\'s observation about the exhibits from dead cultures in the museum - that eventually, everything that seems important ceases to matter and ends up with a label saying, \"Use unknown\" - has immense resonance. The customs and traditions of New York society that circumscribe Archer\\'s and Ellen\\'s lives will one day be forgotten and irrelevant. Though  is set in the 1870s, Wharton wrote it after World War I and published it in 1920, when the society portrayed in it was already defunct. It is the more tragic, then, that Archer\\'s and Ellen\\'s heartfelt desires are sacrificed to mores that have no more permanent value than obscure items in a glass case. The scene at the opera echoes the opening scene of the novel. On the face of it, little has changed. But there are important and revealing differences. Then, he was impatient to bring forward the announcement of his engagement to May; now, he is equally eager to dissolve their union. Then, his aim was to protect the honor of the family of his wife-to-be; now, he has less respect for convention and wants to pursue his illicit relationship with Ellen. May\\'s tearing and soiling her wedding dress as she gets out of the carriage after the opera is symbolic of their decayed marriage. He is on the verge of confessing to May his love for Ellen when she tells him that Ellen is leaving for Europe. Once again, Archer is prevented from pursuing his love for Ellen, and responds with bitter laughter. (The first time was in Chapter 18.) However, these events are not the workings of a cruel fate. Both events have been prompted by Archer\\'s own actions: the first time, by his persistent requests to May\\'s family to bring forward his marriage; and the second, by his reckless decision to push his affair with Ellen into action, and also by his pursuance of family life with May to the point of starting a family. It is later revealed that May too has played a calculating part in Ellen\\'s decision, challenging her husband\\'s view of her as passive and unaware. The Archers\\' dinner party in honor of Ellen\\'s departure is perhaps the most bitterly ironic scene in the novel. At last, New York society is behaving generously towards Ellen - but Archer realizes it is only because they are celebrating the expulsion from the tribe of a person who has transgressed their code. He also realizes the reason why it is essential, from their point of view, that she goes: they believe that Archer and Ellen are lovers. The deepest irony lies in the fact that this is the one thing that they have been unable to be. We are left to wonder whether, had they given in to temptation, they would have been any worse off. Has their sacrifice been for nothing? Archer feels \"like a prisoner in the center of an armed camp\" (Chapter 33, p. 286), reinforcing the sense that Wharton creates of a war between the individual and society. Prompted by this feeling of imprisonment, Archer announces loudly that he intends to travel soon. Later, he catches May\\'s triumphant eyes and knows that she is the victor in an unspoken war with Ellen, with Archer as the prize. After the dinner party, Archer makes one more effort to tell May of his feelings for Ellen and break free. He is foiled once again, by her revelation that she is pregnant. Though she was not sure two weeks before, when she had her long talk with Ellen, she told Ellen that she was. This, Archer now knows, was what prompted Ellen not to follow through on the affair with Archer and to go instead to Europe. Faced with a pregnant wife, a mistress has no rights. As May tells Archer her news, her eyes are wet with victory - again, a war metaphor. May, far from the dull-minded innocent that Archer has believed her to be, has revealed herself to be a calculating opponent who glories in her triumph over her rival, Ellen. '"
            ]
          },
          "execution_count": 18,
          "metadata": {},
          "output_type": "execute_result"
        }
      ],
      "source": [
        "#Actual summary for chapter text passed to model\n",
        "\n",
        "df_chapters.iloc[10]['chapter_summary']"
      ]
    },
    {
      "cell_type": "markdown",
      "metadata": {
        "id": "P-mkQR7JFX0S"
      },
      "source": [
        "This summary seems to be better than the one generated by the last model"
      ]
    },
    {
      "cell_type": "markdown",
      "metadata": {
        "id": "f0dbweaUAJq8"
      },
      "source": [
        "## Try with another test text"
      ]
    },
    {
      "cell_type": "code",
      "execution_count": 19,
      "metadata": {
        "id": "dJ5kDbja-0NE"
      },
      "outputs": [],
      "source": [
        "test_text2 = df_chapters.iloc[12]['chapter_text']"
      ]
    },
    {
      "cell_type": "code",
      "execution_count": 20,
      "metadata": {
        "colab": {
          "base_uri": "https://localhost:8080/",
          "height": 122
        },
        "id": "c70KZzWTASfH",
        "outputId": "6bdcabd6-89be-4db9-ace2-46140ccd5fc2"
      },
      "outputs": [
        {
          "data": {
            "application/vnd.google.colaboratory.intrinsic+json": {
              "type": "string"
            },
            "text/plain": [
              "' Chapter one introduces Mr. and Mrs. Bennet of the Longbourn estate.\\xa0 Mrs. Bennet has been told that a \"young man of large fortune from the north of England\" is moving to Netherfield, an estate near theirs, and she has designs on marrying him to one of her daughters.\\xa0 Mrs. Bennet says that Mr. Bennet must go and see Bingley, the new neighbor, \"as soon as he comes,\" and that he should think of his daughters and what a good marriage it would be. Mr. Bennet\\'s preference for his daughter Elizabeth also becomes evident, when he says she \"has something more of quickness than her sisters,\" whom he describes as \"silly and ignorant like other girls.\" Mr. Bennet teasingly questions why his visit to Bingley could be so important.  Elizabeth, as well as three of her four sisters, Kitty, Mary, and Lydia are briefly introduced in chapter two.\\xa0 While in Chapter one Mr. Bennet teases his wife saying he will not visit Bingley as soon as he arrives, in Chapter two we learn that indeed \"Mr. Bennet was among the earliest of those who waited on Mr. Bingley.\" \"The rest of the evening is spent in conjecturing how soon [Bingley] will return Mr. Bennet\\'s visit, and determining when they should ask him to dinner.\"  Bingley is invited to dinner when he returns Mr. Bennet\\'s visit, but declines the offer, as he must go to town on business.\\xa0 He returns in time for a ball at Sir William and Lady Lucas\\' (neighbors of the Bennet\\'s), and brings his sisters and his friend, Mr. Darcy.\\xa0 While all agree at first that Mr. Darcy is a good looking, rich man, soon he is thought to be proud, and all are disgusted by him. He says of Elizabeth, \"She is tolerable; but not handsome enough to tempt me.\" Jane, the eldest of the Bennet\\'s daughters dances with Bingley twice, and that joy is enough to make Mrs. Bennet \"quite delighted\" with him.\\xa0  When Jane and Elizabeth are alone, Jane admits how much she admires Bingley, and that she finds his sisters, Miss Bingley and Mrs. Hurst, charming.\\xa0 Elizabeth however, wonders at how her sister never finds fault with anybody, and how she can be \"so honestly blind to the follies and nonsense of others.\" Elizabeth does not find Bingley\\'s sisters charming, but rather proud and conceited. It is told that Bingley inherited money from his father, and that his sisters are anxious for him to have an estate of his own.\\xa0 Miss Bingley is going to live at Netherfield with Bingley, and despite the differences between Bingley and Darcy, theirs is a \"very steady friendship,\" and Bingley thinks very highly of Darcy\\'s judgement and regard. '"
            ]
          },
          "execution_count": 20,
          "metadata": {},
          "output_type": "execute_result"
        }
      ],
      "source": [
        "#Actual summary for chapter text passed to model\n",
        "\n",
        "text_summary = df_chapters.iloc[12]['chapter_summary']\n",
        "text_summary"
      ]
    },
    {
      "cell_type": "code",
      "execution_count": 21,
      "metadata": {
        "id": "K48lHXTdAbVX"
      },
      "outputs": [],
      "source": [
        "inputs3 = tokenizer2(test_text2, padding=True, truncation=True, return_tensors=\"pt\")"
      ]
    },
    {
      "cell_type": "code",
      "execution_count": 22,
      "metadata": {
        "id": "1U5QDG0TAlvu"
      },
      "outputs": [],
      "source": [
        "summary_ids3 = model2.generate(inputs3[\"input_ids\"], num_beams=2, max_length=5000)"
      ]
    },
    {
      "cell_type": "code",
      "execution_count": 23,
      "metadata": {
        "colab": {
          "base_uri": "https://localhost:8080/",
          "height": 35
        },
        "id": "1xPOlR7mAsE9",
        "outputId": "d1caa106-a3a4-49ca-983b-603728845c40"
      },
      "outputs": [
        {
          "data": {
            "application/vnd.google.colaboratory.intrinsic+json": {
              "type": "string"
            },
            "text/plain": [
              "'A young man of large fortune is to take Netherfield Park, and his daughters are to be the first to see him, writes Jane Austen.'"
            ]
          },
          "execution_count": 23,
          "metadata": {},
          "output_type": "execute_result"
        }
      ],
      "source": [
        "#Model-generated summary\n",
        "\n",
        "model_summary3 = tokenizer2.batch_decode(summary_ids3, skip_special_tokens=True, clean_up_tokenization_spaces=False)[0]\n",
        "model_summary3"
      ]
    },
    {
      "cell_type": "markdown",
      "metadata": {
        "id": "--uQPYFSFxJ7"
      },
      "source": [
        "Based on subjective comparison to the provided test summary, this summary is not very accurate, but does make grammatical sense and seems to capture the overall tone of and some of and the most important words in the test summary"
      ]
    },
    {
      "cell_type": "markdown",
      "metadata": {
        "id": "6hDTKSP6Gaqq"
      },
      "source": [
        "# Exploratory analysis of model and evaluation metrics"
      ]
    },
    {
      "cell_type": "markdown",
      "metadata": {
        "id": "B-cWG5TGHoGq"
      },
      "source": [
        "## Comparison of sentiment of test and model-generated summaries"
      ]
    },
    {
      "cell_type": "markdown",
      "metadata": {
        "id": "CMz9YdeTSWjv"
      },
      "source": [
        "### Function to return sentiment analysis scores of text \n",
        "This needs to be done in a step by step as oppsoed to with the Huggingface transformers piepline in order to be able to handle longer pieces of text"
      ]
    },
    {
      "cell_type": "code",
      "execution_count": 24,
      "metadata": {
        "id": "acXyeJRWJEZz"
      },
      "outputs": [],
      "source": [
        "def sentiment_analyzer(text):\n",
        "  sent_checkpoint = \"distilbert-base-uncased-finetuned-sst-2-english\"\n",
        "  sent_tokenizer = AutoTokenizer.from_pretrained(sent_checkpoint)\n",
        "  sent_inputs = sent_tokenizer(text, padding=True, truncation=True, return_tensors=\"pt\")\n",
        "  sent_model = AutoModelForSequenceClassification.from_pretrained(sent_checkpoint)\n",
        "  sent_outputs = sent_model(**sent_inputs)\n",
        "  sent_preds = torch.nn.functional.softmax(sent_outputs.logits, dim=-1)\n",
        "  return f'POSITIVE: {sent_preds[0][1]}  ---  NEGATIVE: {sent_preds[0][0]}'"
      ]
    },
    {
      "cell_type": "code",
      "execution_count": 25,
      "metadata": {
        "colab": {
          "base_uri": "https://localhost:8080/",
          "height": 35
        },
        "id": "NozwQQRrJs7u",
        "outputId": "0c9fa893-1ab6-405b-a776-d11732a9e6e1"
      },
      "outputs": [
        {
          "data": {
            "application/vnd.google.colaboratory.intrinsic+json": {
              "type": "string"
            },
            "text/plain": [
              "'POSITIVE: 0.6427821516990662  ---  NEGATIVE: 0.35721784830093384'"
            ]
          },
          "execution_count": 25,
          "metadata": {},
          "output_type": "execute_result"
        }
      ],
      "source": [
        "sentiment_analyzer(text_summary)"
      ]
    },
    {
      "cell_type": "code",
      "execution_count": 26,
      "metadata": {
        "colab": {
          "base_uri": "https://localhost:8080/",
          "height": 35
        },
        "id": "CK01s_S3LAOY",
        "outputId": "23c69621-ebc6-4dea-c291-5e0f0fdc07a0"
      },
      "outputs": [
        {
          "data": {
            "application/vnd.google.colaboratory.intrinsic+json": {
              "type": "string"
            },
            "text/plain": [
              "'POSITIVE: 0.998404324054718  ---  NEGATIVE: 0.001595696434378624'"
            ]
          },
          "execution_count": 26,
          "metadata": {},
          "output_type": "execute_result"
        }
      ],
      "source": [
        "sentiment_analyzer(model_summary3)"
      ]
    },
    {
      "cell_type": "markdown",
      "metadata": {
        "id": "zXs6mK-KSrUW"
      },
      "source": [
        "### Function to compare sentiment analysis scores of two pieces of text\n",
        "Returns the absolute value of the difference between scores for the two texts (a value between 0 and 1, closer to 0 is more similar)"
      ]
    },
    {
      "cell_type": "code",
      "execution_count": 27,
      "metadata": {
        "id": "bIOmVj21Mlq9"
      },
      "outputs": [],
      "source": [
        "def sentiment_comparison(test_summary_text, model_summary_text):\n",
        "    sent_checkpoint = \"distilbert-base-uncased-finetuned-sst-2-english\"\n",
        "    sent_tokenizer = AutoTokenizer.from_pretrained(sent_checkpoint)\n",
        "    sent_model = AutoModelForSequenceClassification.from_pretrained(sent_checkpoint)\n",
        "\n",
        "    test_sent_inputs = sent_tokenizer(test_summary_text, padding=True, truncation=True, return_tensors=\"pt\")\n",
        "    test_sent_outputs = sent_model(**test_sent_inputs)\n",
        "    test_sent_preds = torch.nn.functional.softmax(test_sent_outputs.logits, dim=-1)\n",
        "    test_positive = test_sent_preds[0][1]\n",
        "\n",
        "    model_sent_inputs = sent_tokenizer(model_summary_text, padding=True, truncation=True, return_tensors=\"pt\")\n",
        "    model_sent_outputs = sent_model(**model_sent_inputs)\n",
        "    model_sent_preds = torch.nn.functional.softmax(model_sent_outputs.logits, dim=-1)\n",
        "    model_positive = model_sent_preds[0][1]\n",
        "\n",
        "    return abs(float(model_positive) - float(test_positive))\n",
        "\n",
        "    "
      ]
    },
    {
      "cell_type": "code",
      "execution_count": 28,
      "metadata": {
        "colab": {
          "base_uri": "https://localhost:8080/"
        },
        "id": "k0prZ68bOhHD",
        "outputId": "2acbf22b-a057-4db1-9551-11b3bbea42ed"
      },
      "outputs": [
        {
          "data": {
            "text/plain": [
              "0.35562217235565186"
            ]
          },
          "execution_count": 28,
          "metadata": {},
          "output_type": "execute_result"
        }
      ],
      "source": [
        "sentiment_comparison(text_summary, model_summary3)"
      ]
    },
    {
      "cell_type": "markdown",
      "metadata": {},
      "source": [
        "The sentiment analysis scores of the reference summary and the model-generated summary in this case are quite different. The model-generated summary is much higher on the positivity scale. This is likely due in part to the much shorter word count of the model-generated summary. It seems logical that a longer piece of text would be more liekly to be more neutral as there are more words able to balance out the score"
      ]
    },
    {
      "cell_type": "markdown",
      "metadata": {
        "id": "lB4x1RU3RTOc"
      },
      "source": [
        "## Spacy similarity"
      ]
    },
    {
      "cell_type": "markdown",
      "metadata": {
        "id": "vl6oSH4cTC2w"
      },
      "source": [
        "### Function to find spacy similarity (estimated similarity score) between to pieces of text (1 is most similar, 0 is least)"
      ]
    },
    {
      "cell_type": "code",
      "execution_count": 31,
      "metadata": {
        "id": "eM64URj0OxpU"
      },
      "outputs": [],
      "source": [
        "def get_similarity(test_summary_text, model_summary_text):\n",
        "  test_doc = nlp(test_summary_text)\n",
        "  model_doc = nlp(model_summary_text)\n",
        "  return test_doc.similarity(model_doc)"
      ]
    },
    {
      "cell_type": "code",
      "execution_count": 32,
      "metadata": {
        "colab": {
          "base_uri": "https://localhost:8080/"
        },
        "id": "MOLlh4oxSGfE",
        "outputId": "15d142a7-6c52-4e69-e9c0-6fad55334c11"
      },
      "outputs": [
        {
          "data": {
            "text/plain": [
              "0.9693890661161696"
            ]
          },
          "execution_count": 32,
          "metadata": {},
          "output_type": "execute_result"
        }
      ],
      "source": [
        "get_similarity(text_summary, model_summary3)"
      ]
    },
    {
      "cell_type": "markdown",
      "metadata": {
        "id": "ymGPJ7zdTQUw"
      },
      "source": [
        "The model-generated summary is very close to the actual summary for this example based on this score"
      ]
    },
    {
      "cell_type": "markdown",
      "metadata": {
        "id": "lxerpAaYUlFZ"
      },
      "source": [
        "## Rouge score - primary method for summarization model analysis\n",
        "Rouge calculates precision, recall, and f scores for the two texts based on the overlap of words within them. Rouge1 considers unigrams, Rouge2 considers bigrams, and RougeL looks for the 'longest matching sequence' of words. All scores are between 0 and 1, and for all a score closer to 1 is better\n",
        "<br>\n",
        "source: https://www.freecodecamp.org/news/what-is-rouge-and-how-it-works-for-evaluation-of-summaries-e059fb8ac840/ "
      ]
    },
    {
      "cell_type": "code",
      "execution_count": 41,
      "metadata": {
        "id": "IlNrlCltSMX6"
      },
      "outputs": [],
      "source": [
        "scorer = rouge_scorer.RougeScorer(rouge_types=['rouge1', 'rouge2', 'rougeL'], use_stemmer=True)"
      ]
    },
    {
      "cell_type": "code",
      "execution_count": 42,
      "metadata": {
        "id": "QrAKpCHRVcBS"
      },
      "outputs": [],
      "source": [
        "scores = scorer.score(target=text_summary, prediction=model_summary3)"
      ]
    },
    {
      "cell_type": "code",
      "execution_count": 43,
      "metadata": {
        "colab": {
          "base_uri": "https://localhost:8080/"
        },
        "id": "FCrP6T17VyRb",
        "outputId": "a80dbd49-90ea-4d1c-b230-1a32b02e7b2f"
      },
      "outputs": [
        {
          "data": {
            "text/plain": [
              "{'rouge1': Score(precision=0.84, recall=0.045951859956236324, fmeasure=0.08713692946058092),\n",
              " 'rouge2': Score(precision=0.3333333333333333, recall=0.017543859649122806, fmeasure=0.03333333333333333),\n",
              " 'rougeL': Score(precision=0.76, recall=0.04157549234135667, fmeasure=0.07883817427385892)}"
            ]
          },
          "execution_count": 43,
          "metadata": {},
          "output_type": "execute_result"
        }
      ],
      "source": [
        "scores"
      ]
    },
    {
      "cell_type": "code",
      "execution_count": 63,
      "metadata": {
        "colab": {
          "base_uri": "https://localhost:8080/"
        },
        "id": "R3lL2IcRxKs4",
        "outputId": "5b8893e8-f41b-489e-e195-603786197812"
      },
      "outputs": [
        {
          "data": {
            "text/plain": [
              "Score(precision=0.84, recall=0.045951859956236324, fmeasure=0.08713692946058092)"
            ]
          },
          "execution_count": 63,
          "metadata": {},
          "output_type": "execute_result"
        }
      ],
      "source": [
        "scores['rouge1']"
      ]
    },
    {
      "cell_type": "markdown",
      "metadata": {
        "id": "GBIcRBrfaFis"
      },
      "source": [
        "The value of n for the n-grams being considered in the score can be increased"
      ]
    },
    {
      "cell_type": "code",
      "execution_count": 44,
      "metadata": {
        "id": "K8e6W_o5Zvz9"
      },
      "outputs": [],
      "source": [
        "scorer2 = scorer = rouge_scorer.RougeScorer(rouge_types=['rouge5'], use_stemmer=True)"
      ]
    },
    {
      "cell_type": "code",
      "execution_count": 45,
      "metadata": {
        "colab": {
          "base_uri": "https://localhost:8080/"
        },
        "id": "YBv90BbBZ3XD",
        "outputId": "38ffff82-6aac-421b-e418-f0b61c616963"
      },
      "outputs": [
        {
          "data": {
            "text/plain": [
              "{'rouge5': Score(precision=0.09523809523809523, recall=0.004415011037527594, fmeasure=0.008438818565400845)}"
            ]
          },
          "execution_count": 45,
          "metadata": {},
          "output_type": "execute_result"
        }
      ],
      "source": [
        "scores2 = scorer2.score(target=text_summary, prediction=model_summary3)\n",
        "scores2"
      ]
    },
    {
      "cell_type": "markdown",
      "metadata": {
        "id": "DFQwlLtQkLmh"
      },
      "source": [
        "# Pre-trained model for summarization"
      ]
    },
    {
      "cell_type": "markdown",
      "metadata": {
        "id": "lY4aLUXhkOAu"
      },
      "source": [
        "## Select data"
      ]
    },
    {
      "cell_type": "code",
      "execution_count": 54,
      "metadata": {
        "id": "cSU56e8ykQ7A"
      },
      "outputs": [],
      "source": [
        "data = df_chapters[['chapter_text', 'chapter_summary']]"
      ]
    },
    {
      "cell_type": "markdown",
      "metadata": {
        "id": "xR2A6DUemup8"
      },
      "source": [
        "## Set up model"
      ]
    },
    {
      "cell_type": "code",
      "execution_count": 60,
      "metadata": {
        "id": "9bO190P8lghw"
      },
      "outputs": [],
      "source": [
        "bl_checkpoint = \"facebook/bart-large-xsum\"\n",
        "bl_tokenizer = AutoTokenizer.from_pretrained(bl_checkpoint)\n",
        "baseline_model = AutoModelForSeq2SeqLM.from_pretrained(bl_checkpoint)\n",
        "\n",
        "baseline_model_summaries = []\n",
        "\n",
        "def baseline_summary(chapter):\n",
        "  bl_inputs = bl_tokenizer(chapter, padding=True, truncation=True, return_tensors=\"pt\")\n",
        "  bl_summary_ids = baseline_model.generate(bl_inputs[\"input_ids\"], num_beams=2, max_length=5000)  \n",
        "  bl_summary = bl_tokenizer.batch_decode(bl_summary_ids, skip_special_tokens=True, clean_up_tokenization_spaces=False)[0]\n",
        "  return bl_summary"
      ]
    },
    {
      "cell_type": "markdown",
      "metadata": {
        "id": "UQQLGEC8nr8_"
      },
      "source": [
        "## Run and score model"
      ]
    },
    {
      "cell_type": "markdown",
      "metadata": {
        "id": "-ELV4SPk3z9b"
      },
      "source": [
        "### Test run 10 randomly selected chapters"
      ]
    },
    {
      "cell_type": "code",
      "execution_count": 66,
      "metadata": {
        "id": "7uYqO67i38fR"
      },
      "outputs": [],
      "source": [
        "rand_indexes = []\n",
        "for i in range(10):\n",
        "  rand_indexes.append(random.randint(0,295))"
      ]
    },
    {
      "cell_type": "code",
      "execution_count": 67,
      "metadata": {
        "colab": {
          "base_uri": "https://localhost:8080/"
        },
        "id": "hLNsDtax4Jdc",
        "outputId": "d4aafad1-925c-48e6-e63f-043cbda0ee96"
      },
      "outputs": [
        {
          "data": {
            "text/plain": [
              "[206, 256, 233, 270, 258, 117, 80, 10, 51, 121]"
            ]
          },
          "execution_count": 67,
          "metadata": {},
          "output_type": "execute_result"
        }
      ],
      "source": [
        "rand_indexes"
      ]
    },
    {
      "cell_type": "code",
      "execution_count": 89,
      "metadata": {
        "colab": {
          "base_uri": "https://localhost:8080/"
        },
        "id": "m8PSV6aWnZVo",
        "outputId": "13a6c55f-a809-436b-daf5-da4e8ed19416"
      },
      "outputs": [
        {
          "data": {
            "text/plain": [
              "{'rouge-1': {'f': 0.06483084507293815,\n",
              "  'p': 0.400385158298044,\n",
              "  'r': 0.03683754277250695},\n",
              " 'rouge-2': {'f': 0.005290374588741339,\n",
              "  'p': 0.060648282072430684,\n",
              "  'r': 0.0028607933694909564},\n",
              " 'rouge-l': {'f': 0.05838192852861028,\n",
              "  'p': 0.36527021576930835,\n",
              "  'r': 0.03314770206159899}}"
            ]
          },
          "execution_count": 89,
          "metadata": {},
          "output_type": "execute_result"
        }
      ],
      "source": [
        "reference_summaries = []\n",
        "model_summaries = []\n",
        "\n",
        "\n",
        "for i in rand_indexes:\n",
        "  chapter_text = data.iloc[i]['chapter_text']\n",
        "  chapter_summary = data.iloc[i]['chapter_summary']\n",
        "\n",
        "  model_summary = baseline_summary(chapter_text)\n",
        "\n",
        "  reference_summaries.append(chapter_summary)\n",
        "  model_summaries.append(model_summary)\n",
        "\n",
        "\n",
        "rouge = Rouge()\n",
        "rouge.get_scores(model_summaries, reference_summaries, avg=True)"
      ]
    },
    {
      "cell_type": "markdown",
      "metadata": {
        "id": "_-GRu2Tu_4bT"
      },
      "source": [
        "Overall, based on rouge scores this model did not perform very well.\n",
        "<br>\n",
        "Future fine-tuned models should score higher on these metrics than this baseline model. This model was also tested on a small subset fo the data in the interest of time. Future models will be trained and tested with a larger portion of the book texts and summaries dataset"
      ]
    }
  ],
  "metadata": {
    "colab": {
      "name": "01_baseline_summary_model.ipynb",
      "provenance": []
    },
    "kernelspec": {
      "display_name": "Python 3",
      "name": "python3"
    },
    "language_info": {
      "name": "python"
    }
  },
  "nbformat": 4,
  "nbformat_minor": 0
}
