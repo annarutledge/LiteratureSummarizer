{
  "cells": [
    {
      "cell_type": "markdown",
      "metadata": {
        "id": "gzkDxjKgTysQ"
      },
      "source": [
        "##### This model follows the same fine tuning process as model 08, but with a change in the model optimizer. Previous models have used the transformers tool 'create_optimizer' to set up the optimizer recommended in referenced Hugging Face tutorials. Based on documentation, this optimizer appears to utilize 'adam' in the backend, but I am curious to see if there is a change between using this set up versus just the usual 'adam' optimizer alone."
      ]
    },
    {
      "cell_type": "markdown",
      "metadata": {
        "id": "8iW8PVEEm_i1"
      },
      "source": [
        "# Imports"
      ]
    },
    {
      "cell_type": "code",
      "execution_count": 2,
      "metadata": {
        "id": "NrjgspUOtybJ"
      },
      "outputs": [],
      "source": [
        "from datasets import load_dataset, load_metric\n",
        "from transformers import AutoTokenizer, TFAutoModelForSeq2SeqLM, DataCollatorForSeq2Seq, create_optimizer\n",
        "import tensorflow as tf\n",
        "from tensorflow.keras.callbacks import EarlyStopping\n",
        "from tqdm import tqdm\n",
        "import numpy as np\n",
        "import nltk\n",
        "from nltk.tokenize import sent_tokenize\n",
        "import random\n",
        "import matplotlib.pyplot as plt"
      ]
    },
    {
      "cell_type": "code",
      "execution_count": 3,
      "metadata": {
        "colab": {
          "base_uri": "https://localhost:8080/"
        },
        "id": "qPb3tWvAt3s6",
        "outputId": "ece633ba-295e-4874-d7b1-c080672ee4da"
      },
      "outputs": [
        {
          "name": "stdout",
          "output_type": "stream",
          "text": [
            "[nltk_data] Downloading package punkt to /root/nltk_data...\n",
            "[nltk_data]   Package punkt is already up-to-date!\n"
          ]
        },
        {
          "data": {
            "text/plain": [
              "True"
            ]
          },
          "execution_count": 3,
          "metadata": {},
          "output_type": "execute_result"
        }
      ],
      "source": [
        "nltk.download('punkt')"
      ]
    },
    {
      "cell_type": "markdown",
      "metadata": {
        "id": "36l_JDYmt-f0"
      },
      "source": [
        "# Read in data"
      ]
    },
    {
      "cell_type": "code",
      "execution_count": 4,
      "metadata": {
        "colab": {
          "base_uri": "https://localhost:8080/",
          "height": 104,
          "referenced_widgets": [
            "14158ef5677941479a922b6eca3260a6",
            "fd5ebc74704c4d08b5b1a11807513bd7",
            "acc51703874c42e0a71b92812d83f263",
            "dd1a0d7f16e64a34b08a510000c8d517",
            "16d6e3954d8e45f4acabe32b4a948a54",
            "386bd54a289d46c898ffb23b857572b7",
            "722e02f1099f4fcfa85c4ff369daced1",
            "26c1cd89d59a47748b5a00819fe5c242",
            "f585394b58784afabb12c9e0f373c7ab",
            "82505d57fe204ee593b2cc3267ecd396",
            "064696decb004820a0d77817f6b653af"
          ]
        },
        "id": "WL22TJiFuTKh",
        "outputId": "7808a5f0-37cd-42fe-acf5-37a04f1fbd2e"
      },
      "outputs": [
        {
          "name": "stderr",
          "output_type": "stream",
          "text": [
            "Using custom data configuration default-74d066c3e8549d77\n",
            "Reusing dataset csv (/root/.cache/huggingface/datasets/csv/default-74d066c3e8549d77/0.0.0/433e0ccc46f9880962cc2b12065189766fbb2bee57a221866138fb9203c83519)\n"
          ]
        },
        {
          "data": {
            "application/vnd.jupyter.widget-view+json": {
              "model_id": "14158ef5677941479a922b6eca3260a6",
              "version_major": 2,
              "version_minor": 0
            },
            "text/plain": [
              "  0%|          | 0/3 [00:00<?, ?it/s]"
            ]
          },
          "metadata": {},
          "output_type": "display_data"
        }
      ],
      "source": [
        "data = load_dataset(\n",
        "    'csv', data_files={\n",
        "        'train':'./modeling_data/training_data.csv',\n",
        "        'test':'./modeling_data/testing_data.csv',\n",
        "        'validation':'./modeling_data/validation_data.csv'\n",
        "        }\n",
        "    )"
      ]
    },
    {
      "cell_type": "markdown",
      "metadata": {
        "id": "SGnGK7o7umOg"
      },
      "source": [
        "# Pre-process data for input to model\n",
        "code from https://huggingface.co/course/chapter7/5?fw=tf"
      ]
    },
    {
      "cell_type": "markdown",
      "metadata": {
        "id": "OUsucHTEupbd"
      },
      "source": [
        "## Set up model tokenizer"
      ]
    },
    {
      "cell_type": "code",
      "execution_count": 5,
      "metadata": {
        "id": "_1rwE_nguZpq"
      },
      "outputs": [],
      "source": [
        "model_checkpoint = 'sshleifer/distilbart-xsum-1-1'\n",
        "tokenizer = AutoTokenizer.from_pretrained(model_checkpoint)"
      ]
    },
    {
      "cell_type": "markdown",
      "metadata": {
        "id": "7-UTvbJMu0h5"
      },
      "source": [
        "## Tokenize data"
      ]
    },
    {
      "cell_type": "code",
      "execution_count": 6,
      "metadata": {
        "id": "yToApEctuwQT"
      },
      "outputs": [],
      "source": [
        "def preprocess_function(text_data):\n",
        "  model_inputs = tokenizer(\n",
        "      text_data['chapter_text'], max_length=1024, truncation=True)     \n",
        "\n",
        "  with tokenizer.as_target_tokenizer():\n",
        "    labels = tokenizer(\n",
        "        text_data['chapter_summary'], max_length=1024, truncation=True)   \n",
        "    model_inputs['labels'] = labels['input_ids']\n",
        "    return model_inputs"
      ]
    },
    {
      "cell_type": "code",
      "execution_count": 7,
      "metadata": {
        "colab": {
          "base_uri": "https://localhost:8080/",
          "height": 104,
          "referenced_widgets": [
            "b7ef20f62e1242d1b7761ff4954fc8df",
            "8aaaa7d00fd9407ca96f74ffd0876793",
            "c30988b219344c1c862a894a53d6b0f5",
            "2ef9befa4ff54f62b3b7a0fd604210ed",
            "4008152af51e4f2f84f8adce14629a0a",
            "1e885fd0a77842459824b9a6ed4c9a09",
            "03670e09ef9f42b1a6d1ffd42c395d8e",
            "c716527002fa45f6bd5f8fc8632b5a14",
            "6ecfb6946a71426c9276feb9872ed4c8",
            "9f9d57180efe47999ed69b64f8a97c6c",
            "e4db82bf10d140ceb48f5f4f48094c43"
          ]
        },
        "id": "zKkMsW3Qu4HC",
        "outputId": "bab0b2ae-f513-49b0-9866-ccda6c41db13"
      },
      "outputs": [
        {
          "name": "stderr",
          "output_type": "stream",
          "text": [
            "Loading cached processed dataset at /root/.cache/huggingface/datasets/csv/default-74d066c3e8549d77/0.0.0/433e0ccc46f9880962cc2b12065189766fbb2bee57a221866138fb9203c83519/cache-09e4e2a19ffda2e7.arrow\n",
            "Loading cached processed dataset at /root/.cache/huggingface/datasets/csv/default-74d066c3e8549d77/0.0.0/433e0ccc46f9880962cc2b12065189766fbb2bee57a221866138fb9203c83519/cache-33199c6e54546ed7.arrow\n"
          ]
        },
        {
          "data": {
            "application/vnd.jupyter.widget-view+json": {
              "model_id": "b7ef20f62e1242d1b7761ff4954fc8df",
              "version_major": 2,
              "version_minor": 0
            },
            "text/plain": [
              "0ex [00:00, ?ex/s]"
            ]
          },
          "metadata": {},
          "output_type": "display_data"
        }
      ],
      "source": [
        "tokenized_data = data.map(preprocess_function)"
      ]
    },
    {
      "cell_type": "markdown",
      "metadata": {
        "id": "wvaY2TtovGtu"
      },
      "source": [
        "# Fine tune model"
      ]
    },
    {
      "cell_type": "markdown",
      "metadata": {
        "id": "jQfNvkOhvJE_"
      },
      "source": [
        "## Set up model"
      ]
    },
    {
      "cell_type": "code",
      "execution_count": 8,
      "metadata": {
        "colab": {
          "base_uri": "https://localhost:8080/"
        },
        "id": "F2zUydtSvGIc",
        "outputId": "6a4f3bf1-0158-4fa1-d3c7-57435c877c93"
      },
      "outputs": [
        {
          "name": "stderr",
          "output_type": "stream",
          "text": [
            "All model checkpoint layers were used when initializing TFBartForConditionalGeneration.\n",
            "\n",
            "All the layers of TFBartForConditionalGeneration were initialized from the model checkpoint at sshleifer/distilbart-xsum-1-1.\n",
            "If your task is similar to the task the model of the checkpoint was trained on, you can already use TFBartForConditionalGeneration for predictions without further training.\n"
          ]
        }
      ],
      "source": [
        "model = TFAutoModelForSeq2SeqLM.from_pretrained(model_checkpoint)"
      ]
    },
    {
      "cell_type": "markdown",
      "metadata": {
        "id": "-XrnHjYiwQNn"
      },
      "source": [
        "## Final processing of data for input to model"
      ]
    },
    {
      "cell_type": "markdown",
      "metadata": {
        "id": "Y2hIvzgRwSg-"
      },
      "source": [
        "### Remove non-encoded columns from tokenized_data"
      ]
    },
    {
      "cell_type": "code",
      "execution_count": 9,
      "metadata": {
        "id": "iAc3UoaKu7Qs"
      },
      "outputs": [],
      "source": [
        "tokenized_data_features = tokenized_data.remove_columns(\n",
        "    data['train'].column_names\n",
        ")"
      ]
    },
    {
      "cell_type": "markdown",
      "metadata": {
        "id": "jDMddlEnwXwI"
      },
      "source": [
        "### Set up data collator to dynmaically pad inputs and labels"
      ]
    },
    {
      "cell_type": "code",
      "execution_count": 10,
      "metadata": {
        "id": "V1cdHQNrwVfg"
      },
      "outputs": [],
      "source": [
        "data_collator = DataCollatorForSeq2Seq(tokenizer, model=model, return_tensors='tf')"
      ]
    },
    {
      "cell_type": "markdown",
      "metadata": {
        "id": "XsQXBL1NwbwH"
      },
      "source": [
        "### Use data collator to perform final processing on tokenized_data_features for input to model"
      ]
    },
    {
      "cell_type": "code",
      "execution_count": 11,
      "metadata": {
        "id": "glqk-DApwbCa"
      },
      "outputs": [],
      "source": [
        "tf_train = tokenized_data_features['train'].to_tf_dataset(\n",
        "    columns=['input_ids', 'attention_mask', 'labels'],\n",
        "    collate_fn=data_collator,\n",
        "    shuffle=True,\n",
        "    batch_size=1\n",
        ")\n",
        "\n",
        "tf_validation = tokenized_data_features['validation'].to_tf_dataset(\n",
        "    columns=['input_ids', 'attention_mask', 'labels'],\n",
        "    collate_fn=data_collator,\n",
        "    shuffle=False,\n",
        "    batch_size=1\n",
        ")"
      ]
    },
    {
      "cell_type": "markdown",
      "metadata": {
        "id": "o5LBIQ_lwtcJ"
      },
      "source": [
        "## Compile model"
      ]
    },
    {
      "cell_type": "code",
      "execution_count": 12,
      "metadata": {
        "colab": {
          "base_uri": "https://localhost:8080/"
        },
        "id": "AGiaaqkiwvGn",
        "outputId": "3c428340-64b6-4b27-ba78-a735382031da"
      },
      "outputs": [
        {
          "name": "stderr",
          "output_type": "stream",
          "text": [
            "No loss specified in compile() - the model's internal loss computation will be used as the loss. Don't panic - this is a common way to train TensorFlow models in Transformers! Please ensure your labels are passed as keys in the input dict so that they are accessible to the model during the forward pass. To disable this behaviour, please pass a loss argument, or explicitly pass loss=None if you do not want your model to compute a loss.\n"
          ]
        }
      ],
      "source": [
        "model.compile(optimizer='adam')"
      ]
    },
    {
      "cell_type": "markdown",
      "metadata": {
        "id": "scMQQERewxoZ"
      },
      "source": [
        "## Fit model"
      ]
    },
    {
      "cell_type": "code",
      "execution_count": 13,
      "metadata": {
        "id": "kdeLX37qm2Ze"
      },
      "outputs": [],
      "source": [
        "early_stop = EarlyStopping(monitor='val_loss', min_delta=0, patience=5, verbose=1, mode='auto', restore_best_weights=True)"
      ]
    },
    {
      "cell_type": "code",
      "execution_count": 14,
      "metadata": {
        "colab": {
          "base_uri": "https://localhost:8080/"
        },
        "id": "CHzqepjpw1xQ",
        "outputId": "df555de3-9fbb-412b-bbac-9e666f0421fe"
      },
      "outputs": [
        {
          "name": "stdout",
          "output_type": "stream",
          "text": [
            "Epoch 1/25\n",
            "212/212 [==============================] - 31s 101ms/step - loss: 5.4499 - val_loss: 4.9146\n",
            "Epoch 2/25\n",
            "212/212 [==============================] - 20s 95ms/step - loss: 4.3285 - val_loss: 4.8186\n",
            "Epoch 3/25\n",
            "212/212 [==============================] - 19s 91ms/step - loss: 3.6931 - val_loss: 4.9039\n",
            "Epoch 4/25\n",
            "212/212 [==============================] - 19s 91ms/step - loss: 3.0674 - val_loss: 5.2131\n",
            "Epoch 5/25\n",
            "212/212 [==============================] - 20s 93ms/step - loss: 2.4337 - val_loss: 5.5558\n",
            "Epoch 6/25\n",
            "212/212 [==============================] - 20s 93ms/step - loss: 1.8494 - val_loss: 6.0162\n",
            "Epoch 7/25\n",
            "212/212 [==============================] - ETA: 0s - loss: 1.3655Restoring model weights from the end of the best epoch: 2.\n",
            "212/212 [==============================] - 19s 91ms/step - loss: 1.3655 - val_loss: 6.4418\n",
            "Epoch 7: early stopping\n"
          ]
        }
      ],
      "source": [
        "model_history = model.fit(tf_train, validation_data=tf_validation, callbacks=[early_stop], epochs=25)"
      ]
    },
    {
      "cell_type": "markdown",
      "metadata": {
        "id": "4C0EsD6xy8sL"
      },
      "source": [
        "# Visualize model"
      ]
    },
    {
      "cell_type": "code",
      "execution_count": 15,
      "metadata": {
        "colab": {
          "base_uri": "https://localhost:8080/",
          "height": 497
        },
        "id": "tDT4Q9Nixe0I",
        "outputId": "d6846be0-0cb4-4914-86a2-2ef118b286b3"
      },
      "outputs": [
        {
          "data": {
            "image/png": "[encoded data removed]",
            "text/plain": [
              "<Figure size 864x576 with 1 Axes>"
            ]
          },
          "metadata": {
            "needs_background": "light"
          },
          "output_type": "display_data"
        }
      ],
      "source": [
        "train_loss = model_history.history['loss']\n",
        "validation_loss = model_history.history['val_loss']\n",
        "\n",
        "plt.figure(figsize=(12, 8))\n",
        "plt.plot(train_loss, label='Training Loss', color='navy')\n",
        "plt.plot(validation_loss, label='Testing Loss', color='skyblue')\n",
        "plt.xlabel('Training Epochs')\n",
        "plt.ylabel('Loss')\n",
        "plt.legend();"
      ]
    },
    {
      "cell_type": "markdown",
      "metadata": {},
      "source": [
        "The loss for the validation data in the model is muchhigher than the loss for the training data, and they appear to be very rapidly diverging, indicating that the model is overfitting. The difference in the loss functions of this model is greater than that of model 8."
      ]
    },
    {
      "cell_type": "markdown",
      "metadata": {
        "id": "KCpPVV1nDdsD"
      },
      "source": [
        "# Rouge scores for training data"
      ]
    },
    {
      "cell_type": "code",
      "execution_count": 16,
      "metadata": {
        "colab": {
          "base_uri": "https://localhost:8080/"
        },
        "id": "-FrxRSG20tKT",
        "outputId": "cd6a82d8-95b7-4899-b7be-2c754936c545"
      },
      "outputs": [
        {
          "name": "stderr",
          "output_type": "stream",
          "text": [
            "100%|██████████| 212/212 [30:21<00:00,  8.59s/it]\n"
          ]
        }
      ],
      "source": [
        "train_labels = []\n",
        "train_preds = []\n",
        "\n",
        "for batch in tqdm(tf_train):\n",
        "    predictions = model.generate(batch['input_ids'])\n",
        "    decoded_preds = tokenizer.batch_decode(predictions, skip_special_tokens=True)\n",
        "    labels = batch[\"labels\"].numpy()\n",
        "    labels = np.where(labels != -100, labels, tokenizer.pad_token_id)\n",
        "    decoded_labels = tokenizer.batch_decode(labels, skip_special_tokens=True)\n",
        "    decoded_preds = [\"\\n\".join(sent_tokenize(pred.strip())) for pred in decoded_preds]\n",
        "    decoded_labels = [\"\\n\".join(sent_tokenize(label.strip())) for label in decoded_labels]\n",
        "    train_preds.extend(decoded_preds)\n",
        "    train_labels.extend(decoded_labels)\n"
      ]
    },
    {
      "cell_type": "code",
      "execution_count": 17,
      "metadata": {
        "colab": {
          "base_uri": "https://localhost:8080/"
        },
        "id": "3U7ixHkNzeY3",
        "outputId": "697a79b5-3c4e-4029-b918-fea652b7c96d"
      },
      "outputs": [
        {
          "name": "stdout",
          "output_type": "stream",
          "text": [
            "rouge1\n",
            "precision: 78.72340425531915\n",
            "recall: 7.198443579766536\n",
            "f-measure: 13.19073083778966\n",
            "***************\n",
            "rouge2\n",
            "precision: 26.08695652173913\n",
            "recall: 2.3391812865497075\n",
            "f-measure: 4.293381037567084\n",
            "***************\n",
            "rougeL\n",
            "precision: 46.808510638297875\n",
            "recall: 4.280155642023346\n",
            "f-measure: 7.843137254901962\n",
            "***************\n",
            "rougeLsum\n",
            "precision: 76.59574468085107\n",
            "recall: 7.003891050583658\n",
            "f-measure: 12.83422459893048\n",
            "***************\n"
          ]
        }
      ],
      "source": [
        "rouge = load_metric('rouge')\n",
        "\n",
        "train_results = rouge.compute(\n",
        "    predictions=decoded_preds, references=decoded_labels, use_stemmer=True)\n",
        "\n",
        "for key in list(train_results.keys()):\n",
        "  mid_scores = train_results[key].mid\n",
        "  print(key)\n",
        "  print(f'precision: {mid_scores[0]*100}')\n",
        "  print(f'recall: {mid_scores[1]*100}')\n",
        "  print(f'f-measure: {mid_scores[2]*100}')\n",
        "  print('***************')"
      ]
    },
    {
      "cell_type": "markdown",
      "metadata": {
        "id": "fOC8PXDfDiA7"
      },
      "source": [
        "# Rouge scores for test data"
      ]
    },
    {
      "cell_type": "code",
      "execution_count": 18,
      "metadata": {
        "id": "URYUoqKrD0gd"
      },
      "outputs": [],
      "source": [
        "tf_test = tokenized_data_features['test'].to_tf_dataset(\n",
        "    columns=['input_ids', 'attention_mask', 'labels'],\n",
        "    collate_fn=data_collator,\n",
        "    shuffle=False,\n",
        "    batch_size=1\n",
        ")"
      ]
    },
    {
      "cell_type": "code",
      "execution_count": 19,
      "metadata": {
        "colab": {
          "base_uri": "https://localhost:8080/"
        },
        "id": "n1vHmg-K0imX",
        "outputId": "85cea0eb-f33a-4d40-ece7-9bcfe43952b0"
      },
      "outputs": [
        {
          "name": "stderr",
          "output_type": "stream",
          "text": [
            "100%|██████████| 59/59 [08:12<00:00,  8.34s/it]\n"
          ]
        }
      ],
      "source": [
        "test_labels = []\n",
        "test_preds = []\n",
        "\n",
        "for batch in tqdm(tf_test):\n",
        "    predictions = model.generate(batch['input_ids'])\n",
        "    decoded_preds = tokenizer.batch_decode(predictions, skip_special_tokens=True)\n",
        "    labels = batch[\"labels\"].numpy()\n",
        "    labels = np.where(labels != -100, labels, tokenizer.pad_token_id)\n",
        "    decoded_labels = tokenizer.batch_decode(labels, skip_special_tokens=True)\n",
        "    decoded_preds = [\"\\n\".join(sent_tokenize(pred.strip())) for pred in decoded_preds]\n",
        "    decoded_labels = [\"\\n\".join(sent_tokenize(label.strip())) for label in decoded_labels]\n",
        "    test_preds.extend(decoded_preds)\n",
        "    test_labels.extend(decoded_labels)"
      ]
    },
    {
      "cell_type": "code",
      "execution_count": 20,
      "metadata": {
        "colab": {
          "base_uri": "https://localhost:8080/"
        },
        "id": "vNAT0G8BD6Wi",
        "outputId": "4974ee43-7d47-4b7b-ceb9-ee97ca2f69b8"
      },
      "outputs": [
        {
          "name": "stdout",
          "output_type": "stream",
          "text": [
            "rouge1\n",
            "precision: 57.14285714285714\n",
            "recall: 3.4934497816593884\n",
            "f-measure: 6.584362139917695\n",
            "***************\n",
            "rouge2\n",
            "precision: 15.384615384615385\n",
            "recall: 0.8771929824561403\n",
            "f-measure: 1.6597510373443984\n",
            "***************\n",
            "rougeL\n",
            "precision: 35.714285714285715\n",
            "recall: 2.1834061135371177\n",
            "f-measure: 4.11522633744856\n",
            "***************\n",
            "rougeLsum\n",
            "precision: 42.857142857142854\n",
            "recall: 2.6200873362445414\n",
            "f-measure: 4.938271604938271\n",
            "***************\n"
          ]
        }
      ],
      "source": [
        "rouge = load_metric('rouge')\n",
        "\n",
        "test_results = rouge.compute(\n",
        "    predictions=decoded_preds, references=decoded_labels, use_stemmer=True)\n",
        "\n",
        "for key in list(test_results.keys()):\n",
        "  mid_scores = test_results[key].mid\n",
        "  print(key)\n",
        "  print(f'precision: {mid_scores[0]*100}')\n",
        "  print(f'recall: {mid_scores[1]*100}')\n",
        "  print(f'f-measure: {mid_scores[2]*100}')\n",
        "  print('***************')"
      ]
    },
    {
      "cell_type": "markdown",
      "metadata": {
        "id": "SExE2ujyHJs9"
      },
      "source": [
        "# Example model-generated summaries"
      ]
    },
    {
      "cell_type": "code",
      "execution_count": 21,
      "metadata": {
        "id": "vWFx2waIGoE_"
      },
      "outputs": [],
      "source": [
        "rand_indexes = []\n",
        "for i in range(3):\n",
        "  rand_indexes.append(random.randint(0,59))"
      ]
    },
    {
      "cell_type": "code",
      "execution_count": 22,
      "metadata": {
        "colab": {
          "base_uri": "https://localhost:8080/"
        },
        "id": "U1puyducHMDI",
        "outputId": "33ca1445-24c8-4ef3-c6ce-bf766ef4c3f8"
      },
      "outputs": [
        {
          "name": "stdout",
          "output_type": "stream",
          "text": [
            "[51, 55, 29]\n"
          ]
        }
      ],
      "source": [
        "print(rand_indexes)"
      ]
    },
    {
      "cell_type": "code",
      "execution_count": 23,
      "metadata": {
        "colab": {
          "base_uri": "https://localhost:8080/"
        },
        "id": "XqzEuknfHZmZ",
        "outputId": "707b6580-823b-49bc-95e8-6f7a26a85df0"
      },
      "outputs": [
        {
          "name": "stdout",
          "output_type": "stream",
          "text": [
            "Dante tells us the shape of the Eighth Circle; he calls it Malebolge, evil pouches.\n",
            "Each \"pouch,\" or bolgia, goes all the way around the yet deeper pit that yawns in the center, and each one holds a different kind of sinner.\n",
            "Dante and Virgil cross each bolgia by a spur of rock that forms a bridge over it.\n",
            "Around the bottom of  Pouch, lashed by horned demons, go the panders and seducers.\n",
            "Among the panders in  Bolgia is someone Dante recognizes who confesses that is true that he made his sister sleep with a powerful nobleman, and among the seducers is Jason, the \"hero\" who brought back the Golden Fleece to Greece, using and leaving several women in the process.\n",
            "In  Bolgia, plunged in what looks and smells like excrement from human outhouses, are the flatterers.\n",
            "Analysis No one in either of these bolgias asks to be remembered when Dante returns to the world; their sins, which involve either betraying innocent women or using the uniquely human gift of speech to manipulate rather than to tell the truth, are too vile.\n",
            "Dante and Virgil do not linger.\n"
          ]
        }
      ],
      "source": [
        "print(test_labels[51])"
      ]
    },
    {
      "cell_type": "code",
      "execution_count": 24,
      "metadata": {
        "colab": {
          "base_uri": "https://localhost:8080/"
        },
        "id": "OlUPVS2DHcQ2",
        "outputId": "a97686f3-a039-4d00-de70-d88d0c1e70f9"
      },
      "outputs": [
        {
          "name": "stdout",
          "output_type": "stream",
          "text": [
            "In the Ninth Bolgia, Monte Cristo has become a member of the Crusades.\n"
          ]
        }
      ],
      "source": [
        "print(test_preds[51])"
      ]
    },
    {
      "cell_type": "code",
      "execution_count": 25,
      "metadata": {
        "colab": {
          "base_uri": "https://localhost:8080/"
        },
        "id": "a6ZTUK9PHfZB",
        "outputId": "4ee91ea4-9475-4a0d-962c-f5d4b0d2f20f"
      },
      "outputs": [
        {
          "name": "stdout",
          "output_type": "stream",
          "text": [
            "Archer and May begin their round of betrothal visits by calling on May's family matriarch, Catherine Manson Mingott, at her home.\n",
            "Mrs Mingott cannot go upstairs because of her obesity, and has arranged her sitting room on the ground floor, with her bedroom in full view of guests.\n",
            "This shockingly recalls \"scenes in French fiction, and architectural incentives to immorality such as the simple American had never dreamed of.\n",
            "That was how women with lovers lived in the wicked old societies..\" It amuses Archer to think of \"her blameless life led in the stage-setting of adultery\" (Chapter 4, p. 24).\n",
            "To everyone's relief, Ellen Olenska is not present when the betrothed couple arrive.\n",
            "Mrs Mingott gives the couple her blessing and asks when the wedding will be.\n",
            "Mrs Welland offers a show of reluctance to hurry it.\n",
            "Ellen enters with Julius Beaufort.\n",
            "Archer tells her about the engagement, which she already knows of.\n",
            "As she bids him goodbye, she asks him to come and visit her.\n",
            "After the Wellands leave, they discuss the occasion, taking care not to mention Ellen.\n",
            "But Archer knows that Mrs Welland disapproves of Ellen's being seen out walking with Beaufort, and also feels that Ellen should know that a recently engaged man does not call on married women.\n",
            "He is glad that he is to marry \"one of his own kind.\"\n",
            "Archer's mother, Mrs Archer, is shy but likes to know what is going on in society, so she invites the expert, Sillerton Jackson, to dinner.\n",
            "The unspoken implication is that she wants to know about Ellen.\n",
            "Archer is at the dinner, as is his sister Janey.\n",
            "Eventually, after pretending to be interested in other topics of conversation, Mrs Archer asks Sillerton if Ellen was at the Beauforts' ball, and Sillerton replies that she was not.\n",
            "They discuss her in patronizing terms, Mrs Archer remarking that little can be expected of a girl who was allowed to wear black satin at her coming-out ball (presumably, a more demure color and fabric would be more fitting).\n",
            "During the discussion about Ellen that follows, Archer defends her actions against the disapproving company.\n",
            "He defends her right to be conspicuous if she wishes, applauds the secretary for helping her escape from her husband, and hopes that she gets a divorce (divorce was an unusual and stigmatizing action at this time).\n",
            "After dinner, Archer and Sillerton retire to the library.\n",
            "Sillerton tells Archer that the secretary did not merely help Ellen, but was living with her a year later in Lausanne, Switzerland.\n",
            "Archer is embarrassed but continues to stand up for Ellen, defending her right to make her life anew with whoever she pleases, especially since her husband preferred to live with harlots.\n",
            "\"Women ought to be free - as free as we are,\" he says, condemning the double standard prevalent at the time that allowed men, but not women, to seek fulfillment outside a failed marriage.\n",
            "Sillerton comments that Count Olenski evidently agrees with Archer, since he has not tried to get his wife back.\n",
            "Archer reflects on the case of the unconventional Ellen and his approaching marriage to the traditional May, \"that terrifying product of the social system he belonged to and believed in, the young girl who knew nothing and expected everything.\"\n",
            "Now that his settled convictions have been shaken up by Ellen's story, May seems like a stranger, and marriage no longer a \"safe anchorage\" but \"a voyage on uncharted seas\" (Chapter 6, p. 36).\n",
            "The author undermines Archer's championing of the freedom of women by commenting that, from his point of view, \" 'Nice' women, however wronged, would never claim the kind of freedom he meant, and generous-minded men like himself were therefore - in the heat of argument - the more ready to concede it to them.\"\n",
            "(Chapter 6, p. 37) However, it is clear that Archer is questioning the convention whereby out of decency, men were expected to conceal their past from their wives-to-be, and women were not allowed to have any past at all: what could he and May really know of each other?\n",
            "He worries that his marriage might become what most other marriages around him were: \"a dull association of material and social interests held together by ignorance on one side and hypocrisy on the other.\"\n",
            "(Chapter 6, p. 37) An example is Lawrence Lefferts, whose well-trained wife averts her gaze indignantly when someone mentions Julius Beaufort's maintaining a mistress and yet turns a blind eye to her husband's love affairs.\n",
            "Archer is also questioning the value of May's innocence, which he now views as oppressive, a creation \"manufactured by a conspiracy of mothers and aunts and grandmothers and long-dead ancestresses, because it was supposed to be what he wanted.\"\n",
            "(Chapter 6, p. 39).\n",
            "His doubts have been prompted by the case of Ellen.\n",
            "Mrs Lovell Ming\n"
          ]
        }
      ],
      "source": [
        "print(test_labels[55])"
      ]
    },
    {
      "cell_type": "code",
      "execution_count": 26,
      "metadata": {
        "colab": {
          "base_uri": "https://localhost:8080/"
        },
        "id": "hoAMGb0oHtbl",
        "outputId": "d3f7d7cf-8dcf-4e9b-b632-9254bcab293f"
      },
      "outputs": [
        {
          "name": "stdout",
          "output_type": "stream",
          "text": [
            "Viola's daughter, has been taken out of the house of Lady Catherine's house, and she finds her love with her.\n"
          ]
        }
      ],
      "source": [
        "print(test_preds[55])"
      ]
    },
    {
      "cell_type": "code",
      "execution_count": 27,
      "metadata": {
        "colab": {
          "base_uri": "https://localhost:8080/"
        },
        "id": "zSYyYHIWHv9n",
        "outputId": "67cd952c-7453-4744-8f4a-9032752c6dc5"
      },
      "outputs": [
        {
          "name": "stdout",
          "output_type": "stream",
          "text": [
            "Two of Mr. Sikes cohorts are waiting inside, Toby Crackit and Barney.\n",
            "They eat dinner and go to sleep for a time.\n",
            "At one they wake up and set out to rob the house they planned.\n",
            "Mr. Sikes threatens Oliver more and they explain to him his job of going through the small window and opening the door.\n",
            "Once Oliver realizes that he is going to be stealing, he begs and pleads to be set free to die in the fields.\n",
            "Sikes puts a gun to his head and is ready to pull the trigger when Toby grabs Oliver and says it would be quieter to break his neck.\n",
            "Sikes instructs the boy to do his job, pushes him through the cellar window, and hands him a lantern.\n",
            "Just as Oliver is about to run through the house and wake the family, two men burst in on him and fire a gun.\n",
            "Sikes warns him off, but when Oliver does not move, Sikes grabs him by the collar and drags him out through the window, which he came.\n",
            "Sikes realizes that Oliver has been shot in the arm, and carries him away exclaiming at the loss of blood.\n",
            "Oliver passes out.\n",
            "Mr. Bumble stopped by to see Mrs. Corney, the matron of the workhouse where  was born.\n",
            "He brought her a bottle of wine, and accepted a cup of tea from her.\n",
            "As they were sitting around the round table, Mr. Bumble kept scooting his chair closer to the old woman.\n",
            "Finally, he grabbed and kissed her.\n",
            "Then came a knock at the door, and the beadle pretended to be doing something away from the matron, while the visitor entered.\n",
            "An old woman from the workhouse came in to tell Mrs. Corney that another woman was dying and was requesting her presence.\n",
            "Mrs. Corney left with the woman, and the beadle waited by looking at her silverware and china.\n",
            "The matron went down to the room of the sick old woman.\n",
            "The apocrathy's apprentice was there but there was nothing he could do for the old woman and soon left.\n",
            "The two crones who were the woman's best friends hovered around her, and the matron decided that she would leave before the woman awoke again.\n",
            "As Mrs. Corney was leaving, the dying woman sat up in bed and called to her.\n",
            "Mrs. Corney went to her and the woman began telling her the tale of a young woman she nursed a long time ago.\n",
            "The woman was Oliver's mother, and the old nurse kept saying that she stole the gold from the young woman soon after she died.\n",
            "Before she could reveal the identity of the dead young mother, or the secrets that only the nurse knew, she herself died.\n",
            "Mrs. Corney was disappointed she did not find out more information and left the room.\n"
          ]
        }
      ],
      "source": [
        "print(test_labels[29])"
      ]
    },
    {
      "cell_type": "code",
      "execution_count": 28,
      "metadata": {
        "colab": {
          "base_uri": "https://localhost:8080/"
        },
        "id": "961LOfOsH6dZ",
        "outputId": "3725ea36-be56-4d93-d624-5a98ed3549d4"
      },
      "outputs": [
        {
          "name": "stdout",
          "output_type": "stream",
          "text": [
            "Mr. Sowerberry runs into Oliver, and Mr. Bumble, and tries to talk him out of his father.\n"
          ]
        }
      ],
      "source": [
        "print(test_preds[29])"
      ]
    },
    {
      "cell_type": "markdown",
      "metadata": {
        "id": "_wwpG04SJSpy"
      },
      "source": [
        "# Evaluation of model"
      ]
    },
    {
      "cell_type": "markdown",
      "metadata": {
        "id": "hmzYw2S4JU8Z"
      },
      "source": [
        "Based on rouge scores, this model did not perform better than the baseline. The Rouge2 score is very slightly higher than the baseline, but all other scores are lower."
      ]
    }
  ],
  "metadata": {
    "accelerator": "GPU",
    "colab": {
      "collapsed_sections": [],
      "name": "13_finetuned_summary_model.ipynb",
      "provenance": []
    },
    "kernelspec": {
      "display_name": "Python 3",
      "name": "python3"
    },
    "language_info": {
      "name": "python"
    },
    "widgets": {
      "application/vnd.jupyter.widget-state+json": {
        "03670e09ef9f42b1a6d1ffd42c395d8e": {
          "model_module": "@jupyter-widgets/controls",
          "model_module_version": "1.5.0",
          "model_name": "DescriptionStyleModel",
          "state": {
            "_model_module": "@jupyter-widgets/controls",
            "_model_module_version": "1.5.0",
            "_model_name": "DescriptionStyleModel",
            "_view_count": null,
            "_view_module": "@jupyter-widgets/base",
            "_view_module_version": "1.2.0",
            "_view_name": "StyleView",
            "description_width": ""
          }
        },
        "064696decb004820a0d77817f6b653af": {
          "model_module": "@jupyter-widgets/controls",
          "model_module_version": "1.5.0",
          "model_name": "DescriptionStyleModel",
          "state": {
            "_model_module": "@jupyter-widgets/controls",
            "_model_module_version": "1.5.0",
            "_model_name": "DescriptionStyleModel",
            "_view_count": null,
            "_view_module": "@jupyter-widgets/base",
            "_view_module_version": "1.2.0",
            "_view_name": "StyleView",
            "description_width": ""
          }
        },
        "14158ef5677941479a922b6eca3260a6": {
          "model_module": "@jupyter-widgets/controls",
          "model_module_version": "1.5.0",
          "model_name": "HBoxModel",
          "state": {
            "_dom_classes": [],
            "_model_module": "@jupyter-widgets/controls",
            "_model_module_version": "1.5.0",
            "_model_name": "HBoxModel",
            "_view_count": null,
            "_view_module": "@jupyter-widgets/controls",
            "_view_module_version": "1.5.0",
            "_view_name": "HBoxView",
            "box_style": "",
            "children": [
              "IPY_MODEL_fd5ebc74704c4d08b5b1a11807513bd7",
              "IPY_MODEL_acc51703874c42e0a71b92812d83f263",
              "IPY_MODEL_dd1a0d7f16e64a34b08a510000c8d517"
            ],
            "layout": "IPY_MODEL_16d6e3954d8e45f4acabe32b4a948a54"
          }
        },
        "16d6e3954d8e45f4acabe32b4a948a54": {
          "model_module": "@jupyter-widgets/base",
          "model_module_version": "1.2.0",
          "model_name": "LayoutModel",
          "state": {
            "_model_module": "@jupyter-widgets/base",
            "_model_module_version": "1.2.0",
            "_model_name": "LayoutModel",
            "_view_count": null,
            "_view_module": "@jupyter-widgets/base",
            "_view_module_version": "1.2.0",
            "_view_name": "LayoutView",
            "align_content": null,
            "align_items": null,
            "align_self": null,
            "border": null,
            "bottom": null,
            "display": null,
            "flex": null,
            "flex_flow": null,
            "grid_area": null,
            "grid_auto_columns": null,
            "grid_auto_flow": null,
            "grid_auto_rows": null,
            "grid_column": null,
            "grid_gap": null,
            "grid_row": null,
            "grid_template_areas": null,
            "grid_template_columns": null,
            "grid_template_rows": null,
            "height": null,
            "justify_content": null,
            "justify_items": null,
            "left": null,
            "margin": null,
            "max_height": null,
            "max_width": null,
            "min_height": null,
            "min_width": null,
            "object_fit": null,
            "object_position": null,
            "order": null,
            "overflow": null,
            "overflow_x": null,
            "overflow_y": null,
            "padding": null,
            "right": null,
            "top": null,
            "visibility": null,
            "width": null
          }
        },
        "1e885fd0a77842459824b9a6ed4c9a09": {
          "model_module": "@jupyter-widgets/base",
          "model_module_version": "1.2.0",
          "model_name": "LayoutModel",
          "state": {
            "_model_module": "@jupyter-widgets/base",
            "_model_module_version": "1.2.0",
            "_model_name": "LayoutModel",
            "_view_count": null,
            "_view_module": "@jupyter-widgets/base",
            "_view_module_version": "1.2.0",
            "_view_name": "LayoutView",
            "align_content": null,
            "align_items": null,
            "align_self": null,
            "border": null,
            "bottom": null,
            "display": null,
            "flex": null,
            "flex_flow": null,
            "grid_area": null,
            "grid_auto_columns": null,
            "grid_auto_flow": null,
            "grid_auto_rows": null,
            "grid_column": null,
            "grid_gap": null,
            "grid_row": null,
            "grid_template_areas": null,
            "grid_template_columns": null,
            "grid_template_rows": null,
            "height": null,
            "justify_content": null,
            "justify_items": null,
            "left": null,
            "margin": null,
            "max_height": null,
            "max_width": null,
            "min_height": null,
            "min_width": null,
            "object_fit": null,
            "object_position": null,
            "order": null,
            "overflow": null,
            "overflow_x": null,
            "overflow_y": null,
            "padding": null,
            "right": null,
            "top": null,
            "visibility": null,
            "width": null
          }
        },
        "26c1cd89d59a47748b5a00819fe5c242": {
          "model_module": "@jupyter-widgets/base",
          "model_module_version": "1.2.0",
          "model_name": "LayoutModel",
          "state": {
            "_model_module": "@jupyter-widgets/base",
            "_model_module_version": "1.2.0",
            "_model_name": "LayoutModel",
            "_view_count": null,
            "_view_module": "@jupyter-widgets/base",
            "_view_module_version": "1.2.0",
            "_view_name": "LayoutView",
            "align_content": null,
            "align_items": null,
            "align_self": null,
            "border": null,
            "bottom": null,
            "display": null,
            "flex": null,
            "flex_flow": null,
            "grid_area": null,
            "grid_auto_columns": null,
            "grid_auto_flow": null,
            "grid_auto_rows": null,
            "grid_column": null,
            "grid_gap": null,
            "grid_row": null,
            "grid_template_areas": null,
            "grid_template_columns": null,
            "grid_template_rows": null,
            "height": null,
            "justify_content": null,
            "justify_items": null,
            "left": null,
            "margin": null,
            "max_height": null,
            "max_width": null,
            "min_height": null,
            "min_width": null,
            "object_fit": null,
            "object_position": null,
            "order": null,
            "overflow": null,
            "overflow_x": null,
            "overflow_y": null,
            "padding": null,
            "right": null,
            "top": null,
            "visibility": null,
            "width": null
          }
        },
        "2ef9befa4ff54f62b3b7a0fd604210ed": {
          "model_module": "@jupyter-widgets/controls",
          "model_module_version": "1.5.0",
          "model_name": "HTMLModel",
          "state": {
            "_dom_classes": [],
            "_model_module": "@jupyter-widgets/controls",
            "_model_module_version": "1.5.0",
            "_model_name": "HTMLModel",
            "_view_count": null,
            "_view_module": "@jupyter-widgets/controls",
            "_view_module_version": "1.5.0",
            "_view_name": "HTMLView",
            "description": "",
            "description_tooltip": null,
            "layout": "IPY_MODEL_9f9d57180efe47999ed69b64f8a97c6c",
            "placeholder": "​",
            "style": "IPY_MODEL_e4db82bf10d140ceb48f5f4f48094c43",
            "value": " 24/? [00:00&lt;00:00, 46.11ex/s]"
          }
        },
        "386bd54a289d46c898ffb23b857572b7": {
          "model_module": "@jupyter-widgets/base",
          "model_module_version": "1.2.0",
          "model_name": "LayoutModel",
          "state": {
            "_model_module": "@jupyter-widgets/base",
            "_model_module_version": "1.2.0",
            "_model_name": "LayoutModel",
            "_view_count": null,
            "_view_module": "@jupyter-widgets/base",
            "_view_module_version": "1.2.0",
            "_view_name": "LayoutView",
            "align_content": null,
            "align_items": null,
            "align_self": null,
            "border": null,
            "bottom": null,
            "display": null,
            "flex": null,
            "flex_flow": null,
            "grid_area": null,
            "grid_auto_columns": null,
            "grid_auto_flow": null,
            "grid_auto_rows": null,
            "grid_column": null,
            "grid_gap": null,
            "grid_row": null,
            "grid_template_areas": null,
            "grid_template_columns": null,
            "grid_template_rows": null,
            "height": null,
            "justify_content": null,
            "justify_items": null,
            "left": null,
            "margin": null,
            "max_height": null,
            "max_width": null,
            "min_height": null,
            "min_width": null,
            "object_fit": null,
            "object_position": null,
            "order": null,
            "overflow": null,
            "overflow_x": null,
            "overflow_y": null,
            "padding": null,
            "right": null,
            "top": null,
            "visibility": null,
            "width": null
          }
        },
        "4008152af51e4f2f84f8adce14629a0a": {
          "model_module": "@jupyter-widgets/base",
          "model_module_version": "1.2.0",
          "model_name": "LayoutModel",
          "state": {
            "_model_module": "@jupyter-widgets/base",
            "_model_module_version": "1.2.0",
            "_model_name": "LayoutModel",
            "_view_count": null,
            "_view_module": "@jupyter-widgets/base",
            "_view_module_version": "1.2.0",
            "_view_name": "LayoutView",
            "align_content": null,
            "align_items": null,
            "align_self": null,
            "border": null,
            "bottom": null,
            "display": null,
            "flex": null,
            "flex_flow": null,
            "grid_area": null,
            "grid_auto_columns": null,
            "grid_auto_flow": null,
            "grid_auto_rows": null,
            "grid_column": null,
            "grid_gap": null,
            "grid_row": null,
            "grid_template_areas": null,
            "grid_template_columns": null,
            "grid_template_rows": null,
            "height": null,
            "justify_content": null,
            "justify_items": null,
            "left": null,
            "margin": null,
            "max_height": null,
            "max_width": null,
            "min_height": null,
            "min_width": null,
            "object_fit": null,
            "object_position": null,
            "order": null,
            "overflow": null,
            "overflow_x": null,
            "overflow_y": null,
            "padding": null,
            "right": null,
            "top": null,
            "visibility": null,
            "width": null
          }
        },
        "6ecfb6946a71426c9276feb9872ed4c8": {
          "model_module": "@jupyter-widgets/controls",
          "model_module_version": "1.5.0",
          "model_name": "ProgressStyleModel",
          "state": {
            "_model_module": "@jupyter-widgets/controls",
            "_model_module_version": "1.5.0",
            "_model_name": "ProgressStyleModel",
            "_view_count": null,
            "_view_module": "@jupyter-widgets/base",
            "_view_module_version": "1.2.0",
            "_view_name": "StyleView",
            "bar_color": null,
            "description_width": ""
          }
        },
        "722e02f1099f4fcfa85c4ff369daced1": {
          "model_module": "@jupyter-widgets/controls",
          "model_module_version": "1.5.0",
          "model_name": "DescriptionStyleModel",
          "state": {
            "_model_module": "@jupyter-widgets/controls",
            "_model_module_version": "1.5.0",
            "_model_name": "DescriptionStyleModel",
            "_view_count": null,
            "_view_module": "@jupyter-widgets/base",
            "_view_module_version": "1.2.0",
            "_view_name": "StyleView",
            "description_width": ""
          }
        },
        "82505d57fe204ee593b2cc3267ecd396": {
          "model_module": "@jupyter-widgets/base",
          "model_module_version": "1.2.0",
          "model_name": "LayoutModel",
          "state": {
            "_model_module": "@jupyter-widgets/base",
            "_model_module_version": "1.2.0",
            "_model_name": "LayoutModel",
            "_view_count": null,
            "_view_module": "@jupyter-widgets/base",
            "_view_module_version": "1.2.0",
            "_view_name": "LayoutView",
            "align_content": null,
            "align_items": null,
            "align_self": null,
            "border": null,
            "bottom": null,
            "display": null,
            "flex": null,
            "flex_flow": null,
            "grid_area": null,
            "grid_auto_columns": null,
            "grid_auto_flow": null,
            "grid_auto_rows": null,
            "grid_column": null,
            "grid_gap": null,
            "grid_row": null,
            "grid_template_areas": null,
            "grid_template_columns": null,
            "grid_template_rows": null,
            "height": null,
            "justify_content": null,
            "justify_items": null,
            "left": null,
            "margin": null,
            "max_height": null,
            "max_width": null,
            "min_height": null,
            "min_width": null,
            "object_fit": null,
            "object_position": null,
            "order": null,
            "overflow": null,
            "overflow_x": null,
            "overflow_y": null,
            "padding": null,
            "right": null,
            "top": null,
            "visibility": null,
            "width": null
          }
        },
        "8aaaa7d00fd9407ca96f74ffd0876793": {
          "model_module": "@jupyter-widgets/controls",
          "model_module_version": "1.5.0",
          "model_name": "HTMLModel",
          "state": {
            "_dom_classes": [],
            "_model_module": "@jupyter-widgets/controls",
            "_model_module_version": "1.5.0",
            "_model_name": "HTMLModel",
            "_view_count": null,
            "_view_module": "@jupyter-widgets/controls",
            "_view_module_version": "1.5.0",
            "_view_name": "HTMLView",
            "description": "",
            "description_tooltip": null,
            "layout": "IPY_MODEL_1e885fd0a77842459824b9a6ed4c9a09",
            "placeholder": "​",
            "style": "IPY_MODEL_03670e09ef9f42b1a6d1ffd42c395d8e",
            "value": ""
          }
        },
        "9f9d57180efe47999ed69b64f8a97c6c": {
          "model_module": "@jupyter-widgets/base",
          "model_module_version": "1.2.0",
          "model_name": "LayoutModel",
          "state": {
            "_model_module": "@jupyter-widgets/base",
            "_model_module_version": "1.2.0",
            "_model_name": "LayoutModel",
            "_view_count": null,
            "_view_module": "@jupyter-widgets/base",
            "_view_module_version": "1.2.0",
            "_view_name": "LayoutView",
            "align_content": null,
            "align_items": null,
            "align_self": null,
            "border": null,
            "bottom": null,
            "display": null,
            "flex": null,
            "flex_flow": null,
            "grid_area": null,
            "grid_auto_columns": null,
            "grid_auto_flow": null,
            "grid_auto_rows": null,
            "grid_column": null,
            "grid_gap": null,
            "grid_row": null,
            "grid_template_areas": null,
            "grid_template_columns": null,
            "grid_template_rows": null,
            "height": null,
            "justify_content": null,
            "justify_items": null,
            "left": null,
            "margin": null,
            "max_height": null,
            "max_width": null,
            "min_height": null,
            "min_width": null,
            "object_fit": null,
            "object_position": null,
            "order": null,
            "overflow": null,
            "overflow_x": null,
            "overflow_y": null,
            "padding": null,
            "right": null,
            "top": null,
            "visibility": null,
            "width": null
          }
        },
        "acc51703874c42e0a71b92812d83f263": {
          "model_module": "@jupyter-widgets/controls",
          "model_module_version": "1.5.0",
          "model_name": "FloatProgressModel",
          "state": {
            "_dom_classes": [],
            "_model_module": "@jupyter-widgets/controls",
            "_model_module_version": "1.5.0",
            "_model_name": "FloatProgressModel",
            "_view_count": null,
            "_view_module": "@jupyter-widgets/controls",
            "_view_module_version": "1.5.0",
            "_view_name": "ProgressView",
            "bar_style": "success",
            "description": "",
            "description_tooltip": null,
            "layout": "IPY_MODEL_26c1cd89d59a47748b5a00819fe5c242",
            "max": 3,
            "min": 0,
            "orientation": "horizontal",
            "style": "IPY_MODEL_f585394b58784afabb12c9e0f373c7ab",
            "value": 3
          }
        },
        "b7ef20f62e1242d1b7761ff4954fc8df": {
          "model_module": "@jupyter-widgets/controls",
          "model_module_version": "1.5.0",
          "model_name": "HBoxModel",
          "state": {
            "_dom_classes": [],
            "_model_module": "@jupyter-widgets/controls",
            "_model_module_version": "1.5.0",
            "_model_name": "HBoxModel",
            "_view_count": null,
            "_view_module": "@jupyter-widgets/controls",
            "_view_module_version": "1.5.0",
            "_view_name": "HBoxView",
            "box_style": "",
            "children": [
              "IPY_MODEL_8aaaa7d00fd9407ca96f74ffd0876793",
              "IPY_MODEL_c30988b219344c1c862a894a53d6b0f5",
              "IPY_MODEL_2ef9befa4ff54f62b3b7a0fd604210ed"
            ],
            "layout": "IPY_MODEL_4008152af51e4f2f84f8adce14629a0a"
          }
        },
        "c30988b219344c1c862a894a53d6b0f5": {
          "model_module": "@jupyter-widgets/controls",
          "model_module_version": "1.5.0",
          "model_name": "FloatProgressModel",
          "state": {
            "_dom_classes": [],
            "_model_module": "@jupyter-widgets/controls",
            "_model_module_version": "1.5.0",
            "_model_name": "FloatProgressModel",
            "_view_count": null,
            "_view_module": "@jupyter-widgets/controls",
            "_view_module_version": "1.5.0",
            "_view_name": "ProgressView",
            "bar_style": "success",
            "description": "",
            "description_tooltip": null,
            "layout": "IPY_MODEL_c716527002fa45f6bd5f8fc8632b5a14",
            "max": 1,
            "min": 0,
            "orientation": "horizontal",
            "style": "IPY_MODEL_6ecfb6946a71426c9276feb9872ed4c8",
            "value": 1
          }
        },
        "c716527002fa45f6bd5f8fc8632b5a14": {
          "model_module": "@jupyter-widgets/base",
          "model_module_version": "1.2.0",
          "model_name": "LayoutModel",
          "state": {
            "_model_module": "@jupyter-widgets/base",
            "_model_module_version": "1.2.0",
            "_model_name": "LayoutModel",
            "_view_count": null,
            "_view_module": "@jupyter-widgets/base",
            "_view_module_version": "1.2.0",
            "_view_name": "LayoutView",
            "align_content": null,
            "align_items": null,
            "align_self": null,
            "border": null,
            "bottom": null,
            "display": null,
            "flex": null,
            "flex_flow": null,
            "grid_area": null,
            "grid_auto_columns": null,
            "grid_auto_flow": null,
            "grid_auto_rows": null,
            "grid_column": null,
            "grid_gap": null,
            "grid_row": null,
            "grid_template_areas": null,
            "grid_template_columns": null,
            "grid_template_rows": null,
            "height": null,
            "justify_content": null,
            "justify_items": null,
            "left": null,
            "margin": null,
            "max_height": null,
            "max_width": null,
            "min_height": null,
            "min_width": null,
            "object_fit": null,
            "object_position": null,
            "order": null,
            "overflow": null,
            "overflow_x": null,
            "overflow_y": null,
            "padding": null,
            "right": null,
            "top": null,
            "visibility": null,
            "width": "20px"
          }
        },
        "dd1a0d7f16e64a34b08a510000c8d517": {
          "model_module": "@jupyter-widgets/controls",
          "model_module_version": "1.5.0",
          "model_name": "HTMLModel",
          "state": {
            "_dom_classes": [],
            "_model_module": "@jupyter-widgets/controls",
            "_model_module_version": "1.5.0",
            "_model_name": "HTMLModel",
            "_view_count": null,
            "_view_module": "@jupyter-widgets/controls",
            "_view_module_version": "1.5.0",
            "_view_name": "HTMLView",
            "description": "",
            "description_tooltip": null,
            "layout": "IPY_MODEL_82505d57fe204ee593b2cc3267ecd396",
            "placeholder": "​",
            "style": "IPY_MODEL_064696decb004820a0d77817f6b653af",
            "value": " 3/3 [00:00&lt;00:00, 80.73it/s]"
          }
        },
        "e4db82bf10d140ceb48f5f4f48094c43": {
          "model_module": "@jupyter-widgets/controls",
          "model_module_version": "1.5.0",
          "model_name": "DescriptionStyleModel",
          "state": {
            "_model_module": "@jupyter-widgets/controls",
            "_model_module_version": "1.5.0",
            "_model_name": "DescriptionStyleModel",
            "_view_count": null,
            "_view_module": "@jupyter-widgets/base",
            "_view_module_version": "1.2.0",
            "_view_name": "StyleView",
            "description_width": ""
          }
        },
        "f585394b58784afabb12c9e0f373c7ab": {
          "model_module": "@jupyter-widgets/controls",
          "model_module_version": "1.5.0",
          "model_name": "ProgressStyleModel",
          "state": {
            "_model_module": "@jupyter-widgets/controls",
            "_model_module_version": "1.5.0",
            "_model_name": "ProgressStyleModel",
            "_view_count": null,
            "_view_module": "@jupyter-widgets/base",
            "_view_module_version": "1.2.0",
            "_view_name": "StyleView",
            "bar_color": null,
            "description_width": ""
          }
        },
        "fd5ebc74704c4d08b5b1a11807513bd7": {
          "model_module": "@jupyter-widgets/controls",
          "model_module_version": "1.5.0",
          "model_name": "HTMLModel",
          "state": {
            "_dom_classes": [],
            "_model_module": "@jupyter-widgets/controls",
            "_model_module_version": "1.5.0",
            "_model_name": "HTMLModel",
            "_view_count": null,
            "_view_module": "@jupyter-widgets/controls",
            "_view_module_version": "1.5.0",
            "_view_name": "HTMLView",
            "description": "",
            "description_tooltip": null,
            "layout": "IPY_MODEL_386bd54a289d46c898ffb23b857572b7",
            "placeholder": "​",
            "style": "IPY_MODEL_722e02f1099f4fcfa85c4ff369daced1",
            "value": "100%"
          }
        }
      }
    }
  },
  "nbformat": 4,
  "nbformat_minor": 0
}
