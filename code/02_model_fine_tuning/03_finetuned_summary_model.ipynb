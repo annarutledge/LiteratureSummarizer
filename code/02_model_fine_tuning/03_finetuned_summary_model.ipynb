{
  "cells": [
    {
      "cell_type": "markdown",
      "metadata": {
        "id": "Uil4eKkCQwDg"
      },
      "source": [
        "##### This first attempt at fine-tuning of a transformer model for summary generation largely follows the example fine-tuning of a summary model found in the Hugging Face transformers course (https://huggingface.co/course/chapter7/5?fw=tf)\n",
        "##### This provides a starting place for a method for fine tuning and tweaks to be made to future models."
      ]
    },
    {
      "cell_type": "markdown",
      "metadata": {},
      "source": [
        "# Imports"
      ]
    },
    {
      "cell_type": "code",
      "execution_count": 1,
      "metadata": {
        "id": "88ZUkX0dRZMA"
      },
      "outputs": [],
      "source": [
        "from datasets import load_dataset, load_metric\n",
        "from transformers import AutoTokenizer, TFAutoModelForSeq2SeqLM, DataCollatorForSeq2Seq, create_optimizer\n",
        "import tensorflow as tf\n",
        "from tqdm import tqdm\n",
        "import numpy as np\n",
        "import nltk\n",
        "from nltk.tokenize import sent_tokenize\n",
        "import random\n",
        "import matplotlib.pyplot as plt"
      ]
    },
    {
      "cell_type": "code",
      "execution_count": 2,
      "metadata": {
        "colab": {
          "base_uri": "https://localhost:8080/"
        },
        "id": "MFdk3UHc-vtD",
        "outputId": "d9ebfdd8-a4a9-427e-8223-fd981ca0fa02"
      },
      "outputs": [
        {
          "name": "stdout",
          "output_type": "stream",
          "text": [
            "[nltk_data] Downloading package punkt to /root/nltk_data...\n",
            "[nltk_data]   Package punkt is already up-to-date!\n"
          ]
        },
        {
          "data": {
            "text/plain": [
              "True"
            ]
          },
          "execution_count": 2,
          "metadata": {},
          "output_type": "execute_result"
        }
      ],
      "source": [
        "nltk.download('punkt')"
      ]
    },
    {
      "cell_type": "markdown",
      "metadata": {
        "id": "SCV_7GtVRl9x"
      },
      "source": [
        "# Read in data"
      ]
    },
    {
      "cell_type": "code",
      "execution_count": 3,
      "metadata": {
        "colab": {
          "base_uri": "https://localhost:8080/",
          "height": 104,
          "referenced_widgets": [
            "c0f33527686c4850af9fb3299d736f47",
            "dc115e82a41347ebba9be5e446687cbf",
            "cd3b31a4c7264749af469a3a74cad8e0",
            "98019b5786444951a3d309cc9898ac0b",
            "7f71be5f6a7244ebb488e410867baea0",
            "ab3b0ea18e4b4fecab1ccd8cf028c733",
            "a10c7add8df544299f058827729b3a58",
            "72e9b53148234a6a87211aa590392282",
            "2b2045bd0d244f4a83bc68ec78a0978b",
            "6665526b918044a48241f4f7b6fd58b7",
            "360c25f9e74145919e490f3fe4e75883"
          ]
        },
        "id": "7jd-amanRnoq",
        "outputId": "8fce2426-f06b-4670-d462-a736753449b4"
      },
      "outputs": [
        {
          "name": "stderr",
          "output_type": "stream",
          "text": [
            "Using custom data configuration default-74d066c3e8549d77\n",
            "Reusing dataset csv (/root/.cache/huggingface/datasets/csv/default-74d066c3e8549d77/0.0.0/433e0ccc46f9880962cc2b12065189766fbb2bee57a221866138fb9203c83519)\n"
          ]
        },
        {
          "data": {
            "application/vnd.jupyter.widget-view+json": {
              "model_id": "c0f33527686c4850af9fb3299d736f47",
              "version_major": 2,
              "version_minor": 0
            },
            "text/plain": [
              "  0%|          | 0/3 [00:00<?, ?it/s]"
            ]
          },
          "metadata": {},
          "output_type": "display_data"
        }
      ],
      "source": [
        "data = load_dataset(\n",
        "    'csv', data_files={\n",
        "        'train':'./modeling_data/training_data.csv',\n",
        "        'test':'./modeling_data/testing_data.csv',\n",
        "        'validation':'./modeling_data/validation_data.csv'\n",
        "        }\n",
        "    )"
      ]
    },
    {
      "cell_type": "code",
      "execution_count": 4,
      "metadata": {
        "colab": {
          "base_uri": "https://localhost:8080/"
        },
        "id": "lBuhrR2xSQ8r",
        "outputId": "efd85b92-ad30-4182-d8e7-edb102c9864d"
      },
      "outputs": [
        {
          "data": {
            "text/plain": [
              "DatasetDict({\n",
              "    train: Dataset({\n",
              "        features: ['chapter_title', 'chapter_summary', 'book_title', 'chapters', 'chapter_text'],\n",
              "        num_rows: 212\n",
              "    })\n",
              "    test: Dataset({\n",
              "        features: ['chapter_title', 'chapter_summary', 'book_title', 'chapters', 'chapter_text'],\n",
              "        num_rows: 59\n",
              "    })\n",
              "    validation: Dataset({\n",
              "        features: ['chapter_title', 'chapter_summary', 'book_title', 'chapters', 'chapter_text'],\n",
              "        num_rows: 24\n",
              "    })\n",
              "})"
            ]
          },
          "execution_count": 4,
          "metadata": {},
          "output_type": "execute_result"
        }
      ],
      "source": [
        "data"
      ]
    },
    {
      "cell_type": "markdown",
      "metadata": {
        "id": "eyAK-e5CMvMb"
      },
      "source": [
        "# Pre-process data for input to model\n",
        "code from https://huggingface.co/course/chapter7/5?fw=tf"
      ]
    },
    {
      "cell_type": "markdown",
      "metadata": {
        "id": "mg2nEalJMydf"
      },
      "source": [
        "## Set up model tokenizer"
      ]
    },
    {
      "cell_type": "code",
      "execution_count": 5,
      "metadata": {
        "id": "i8pI6HVDMwUI"
      },
      "outputs": [],
      "source": [
        "model_checkpoint = \"google/mt5-small\""
      ]
    },
    {
      "cell_type": "code",
      "execution_count": 6,
      "metadata": {
        "id": "ZLCs-DCFM1ZP"
      },
      "outputs": [],
      "source": [
        "tokenizer = AutoTokenizer.from_pretrained(model_checkpoint)"
      ]
    },
    {
      "cell_type": "markdown",
      "metadata": {
        "id": "mlxbndgEM6c7"
      },
      "source": [
        "## Tokenize data"
      ]
    },
    {
      "cell_type": "code",
      "execution_count": 7,
      "metadata": {
        "id": "O-Q-P3xQM3g8"
      },
      "outputs": [],
      "source": [
        "max_input_length = 512\n",
        "max_target_length = 30\n",
        "\n",
        "def preprocess_function(text_data):\n",
        "  model_inputs = tokenizer(\n",
        "      text_data['chapter_text'], max_length=max_input_length, truncation=True\n",
        "  )\n",
        "\n",
        "  with tokenizer.as_target_tokenizer():\n",
        "    labels = tokenizer(\n",
        "        text_data['chapter_summary'], max_length=max_target_length, truncation=True\n",
        "    )\n",
        "\n",
        "    model_inputs['labels'] = labels['input_ids']\n",
        "    return model_inputs"
      ]
    },
    {
      "cell_type": "code",
      "execution_count": 8,
      "metadata": {
        "colab": {
          "base_uri": "https://localhost:8080/",
          "height": 104,
          "referenced_widgets": [
            "966d4018b7cd4bd3a859178d8736e923",
            "59bb6a91183f4a4297f6c8e2ec3f24a6",
            "a12390318c3645b487e78b4ebcda1a3f",
            "12fbbb387e1d407092a3e6b2047d9f13",
            "11e413a089a648f9b12c6c8b5012192a",
            "2de27e66c8644b798ae7318d1f0615eb",
            "96e22316001f4e72b5f2c81086c9740a",
            "0429ebdaa05f45598851f32e1808946d",
            "14df33a777904fea9e87fb8a32c341a2",
            "b0250138310b49d2a61400e327d43120",
            "fbb2473d4c2748bc89346092f8366a95"
          ]
        },
        "id": "V1QxVRjOSqoO",
        "outputId": "1651aa78-6ee4-4f1c-b26f-aee46acb18e5"
      },
      "outputs": [
        {
          "name": "stderr",
          "output_type": "stream",
          "text": [
            "Loading cached processed dataset at /root/.cache/huggingface/datasets/csv/default-74d066c3e8549d77/0.0.0/433e0ccc46f9880962cc2b12065189766fbb2bee57a221866138fb9203c83519/cache-0a5374ea3716dc3a.arrow\n"
          ]
        },
        {
          "data": {
            "application/vnd.jupyter.widget-view+json": {
              "model_id": "966d4018b7cd4bd3a859178d8736e923",
              "version_major": 2,
              "version_minor": 0
            },
            "text/plain": [
              "0ex [00:00, ?ex/s]"
            ]
          },
          "metadata": {},
          "output_type": "display_data"
        },
        {
          "name": "stderr",
          "output_type": "stream",
          "text": [
            "Loading cached processed dataset at /root/.cache/huggingface/datasets/csv/default-74d066c3e8549d77/0.0.0/433e0ccc46f9880962cc2b12065189766fbb2bee57a221866138fb9203c83519/cache-b11b2712a8706aab.arrow\n"
          ]
        }
      ],
      "source": [
        "tokenized_data = data.map(preprocess_function)"
      ]
    },
    {
      "cell_type": "code",
      "execution_count": 9,
      "metadata": {
        "colab": {
          "base_uri": "https://localhost:8080/"
        },
        "id": "3zBO7RKpStTG",
        "outputId": "9b7a37bf-7171-452c-8e92-333102cacedc"
      },
      "outputs": [
        {
          "data": {
            "text/plain": [
              "DatasetDict({\n",
              "    train: Dataset({\n",
              "        features: ['chapter_title', 'chapter_summary', 'book_title', 'chapters', 'chapter_text', 'input_ids', 'attention_mask', 'labels'],\n",
              "        num_rows: 212\n",
              "    })\n",
              "    test: Dataset({\n",
              "        features: ['chapter_title', 'chapter_summary', 'book_title', 'chapters', 'chapter_text', 'input_ids', 'attention_mask', 'labels'],\n",
              "        num_rows: 59\n",
              "    })\n",
              "    validation: Dataset({\n",
              "        features: ['chapter_title', 'chapter_summary', 'book_title', 'chapters', 'chapter_text', 'input_ids', 'attention_mask', 'labels'],\n",
              "        num_rows: 24\n",
              "    })\n",
              "})"
            ]
          },
          "execution_count": 9,
          "metadata": {},
          "output_type": "execute_result"
        }
      ],
      "source": [
        "tokenized_data"
      ]
    },
    {
      "cell_type": "markdown",
      "metadata": {
        "id": "FjGIY3XcXa_o"
      },
      "source": [
        "# Fine tune model"
      ]
    },
    {
      "cell_type": "markdown",
      "metadata": {
        "id": "LVSvV1amdeTj"
      },
      "source": [
        "## Set up model"
      ]
    },
    {
      "cell_type": "code",
      "execution_count": 10,
      "metadata": {
        "colab": {
          "base_uri": "https://localhost:8080/"
        },
        "id": "DgJAWB5BXGuH",
        "outputId": "d9bbbad0-8288-49cd-e9b5-c759f2113e0f"
      },
      "outputs": [
        {
          "name": "stderr",
          "output_type": "stream",
          "text": [
            "All model checkpoint layers were used when initializing TFMT5ForConditionalGeneration.\n",
            "\n",
            "All the layers of TFMT5ForConditionalGeneration were initialized from the model checkpoint at google/mt5-small.\n",
            "If your task is similar to the task the model of the checkpoint was trained on, you can already use TFMT5ForConditionalGeneration for predictions without further training.\n"
          ]
        }
      ],
      "source": [
        "model = TFAutoModelForSeq2SeqLM.from_pretrained(model_checkpoint)"
      ]
    },
    {
      "cell_type": "markdown",
      "metadata": {
        "id": "zwB9gph4dg0y"
      },
      "source": [
        "## Final processing of data for input to model"
      ]
    },
    {
      "cell_type": "markdown",
      "metadata": {
        "id": "puHrrXIJf1dZ"
      },
      "source": [
        "### Remove non-encoded columns from tokenized_data"
      ]
    },
    {
      "cell_type": "code",
      "execution_count": 11,
      "metadata": {
        "id": "cIOE1q-kfDRt"
      },
      "outputs": [],
      "source": [
        "tokenized_data_features = tokenized_data.remove_columns(\n",
        "    data['train'].column_names\n",
        ")"
      ]
    },
    {
      "cell_type": "markdown",
      "metadata": {
        "id": "bZZ5SHRVgkNY"
      },
      "source": [
        "### Set up data collator to dynmaically pad inputs and labels"
      ]
    },
    {
      "cell_type": "code",
      "execution_count": 12,
      "metadata": {
        "id": "aYrnYkHngoEp"
      },
      "outputs": [],
      "source": [
        "data_collator = DataCollatorForSeq2Seq(tokenizer, model=model, return_tensors='tf')"
      ]
    },
    {
      "cell_type": "markdown",
      "metadata": {
        "id": "aq1-uWxtgVV1"
      },
      "source": [
        "### Use data collator to perform final processing on tokenized_data_features for input to model"
      ]
    },
    {
      "cell_type": "code",
      "execution_count": 13,
      "metadata": {
        "id": "gBOa1pcrf8Ln"
      },
      "outputs": [],
      "source": [
        "tf_train = tokenized_data_features['train'].to_tf_dataset(\n",
        "    columns=['input_ids', 'attention_mask', 'labels'],\n",
        "    collate_fn=data_collator,\n",
        "    shuffle=True,\n",
        "    batch_size=8\n",
        ")\n",
        "\n",
        "tf_validation = tokenized_data_features['validation'].to_tf_dataset(\n",
        "    columns=['input_ids', 'attention_mask', 'labels'],\n",
        "    collate_fn=data_collator,\n",
        "    shuffle=False,\n",
        "    batch_size=8\n",
        ")"
      ]
    },
    {
      "cell_type": "markdown",
      "metadata": {
        "id": "MG3SZ4hbir1U"
      },
      "source": [
        "## Set up model hyperparamaters"
      ]
    },
    {
      "cell_type": "code",
      "execution_count": 14,
      "metadata": {
        "id": "L45pt1yBiW45"
      },
      "outputs": [],
      "source": [
        "num_train_epochs = 8\n",
        "num_train_steps = len(tf_train) * num_train_epochs"
      ]
    },
    {
      "cell_type": "code",
      "execution_count": 15,
      "metadata": {
        "id": "gXHTg6YtjAfd"
      },
      "outputs": [],
      "source": [
        "optimizer, schedule = create_optimizer(\n",
        "    init_lr=5.6e-5,\n",
        "    num_warmup_steps=0,\n",
        "    num_train_steps=num_train_steps,\n",
        "    weight_decay_rate=0.01,\n",
        ")"
      ]
    },
    {
      "cell_type": "markdown",
      "metadata": {
        "id": "s9DSodx_l-jr"
      },
      "source": [
        "## Compile model"
      ]
    },
    {
      "cell_type": "code",
      "execution_count": 16,
      "metadata": {
        "colab": {
          "base_uri": "https://localhost:8080/"
        },
        "id": "5bNX-0MGmAiB",
        "outputId": "61d4aa73-fa2e-453b-b774-7fac63fe0cc2"
      },
      "outputs": [
        {
          "name": "stderr",
          "output_type": "stream",
          "text": [
            "No loss specified in compile() - the model's internal loss computation will be used as the loss. Don't panic - this is a common way to train TensorFlow models in Transformers! Please ensure your labels are passed as keys in the input dict so that they are accessible to the model during the forward pass. To disable this behaviour, please pass a loss argument, or explicitly pass loss=None if you do not want your model to compute a loss.\n"
          ]
        }
      ],
      "source": [
        "model.compile(optimizer=optimizer)"
      ]
    },
    {
      "cell_type": "markdown",
      "metadata": {
        "id": "lZK6RLbBlbzu"
      },
      "source": [
        "## Fit model"
      ]
    },
    {
      "cell_type": "code",
      "execution_count": 17,
      "metadata": {
        "colab": {
          "base_uri": "https://localhost:8080/"
        },
        "id": "tmwUH56nkvFO",
        "outputId": "162e9799-be10-4e3d-feac-254f86f390de"
      },
      "outputs": [
        {
          "name": "stdout",
          "output_type": "stream",
          "text": [
            "Epoch 1/8\n",
            "26/26 [==============================] - 47s 725ms/step - loss: 20.4743 - val_loss: 14.0788\n",
            "Epoch 2/8\n",
            "26/26 [==============================] - 14s 537ms/step - loss: 15.3609 - val_loss: 8.7951\n",
            "Epoch 3/8\n",
            "26/26 [==============================] - 14s 540ms/step - loss: 12.9066 - val_loss: 7.7025\n",
            "Epoch 4/8\n",
            "26/26 [==============================] - 14s 544ms/step - loss: 11.4736 - val_loss: 7.3310\n",
            "Epoch 5/8\n",
            "26/26 [==============================] - 14s 540ms/step - loss: 11.1732 - val_loss: 7.1074\n",
            "Epoch 6/8\n",
            "26/26 [==============================] - 14s 539ms/step - loss: 10.7583 - val_loss: 7.0836\n",
            "Epoch 7/8\n",
            "26/26 [==============================] - 14s 541ms/step - loss: 10.3437 - val_loss: 7.1832\n",
            "Epoch 8/8\n",
            "26/26 [==============================] - 14s 543ms/step - loss: 10.0092 - val_loss: 7.1590\n"
          ]
        }
      ],
      "source": [
        "model_history = model.fit(tf_train, validation_data=tf_validation, epochs=8)"
      ]
    },
    {
      "cell_type": "markdown",
      "metadata": {
        "id": "IsEJGG5M8PUC"
      },
      "source": [
        "# Visualize model "
      ]
    },
    {
      "cell_type": "code",
      "execution_count": 18,
      "metadata": {
        "colab": {
          "base_uri": "https://localhost:8080/",
          "height": 497
        },
        "id": "xheoIdFA8OeK",
        "outputId": "f74b98f1-bf3d-4377-fd5e-a82d7997c96b"
      },
      "outputs": [
        {
          "data": {
            "image/png": "[encoded data removed]",
            "text/plain": [
              "<Figure size 864x576 with 1 Axes>"
            ]
          },
          "metadata": {
            "needs_background": "light"
          },
          "output_type": "display_data"
        }
      ],
      "source": [
        "train_loss = model_history.history['loss']\n",
        "validation_loss = model_history.history['val_loss']\n",
        "\n",
        "plt.figure(figsize=(12, 8))\n",
        "plt.plot(train_loss, label='Training Loss', color='navy')\n",
        "plt.plot(validation_loss, label='Testing Loss', color='skyblue')\n",
        "plt.xlabel('Training Epochs')\n",
        "plt.ylabel('Loss')\n",
        "plt.legend();"
      ]
    },
    {
      "cell_type": "markdown",
      "metadata": {},
      "source": [
        "The loss for the validation data of this model is lower than the loss for the training data, indicating that the model is doing well at adapting to new data. "
      ]
    },
    {
      "cell_type": "markdown",
      "metadata": {
        "id": "Dck8PHrUIzXj"
      },
      "source": [
        "# Rouge scores for training data"
      ]
    },
    {
      "cell_type": "code",
      "execution_count": 26,
      "metadata": {
        "colab": {
          "base_uri": "https://localhost:8080/"
        },
        "id": "_cXWRzIzI6I3",
        "outputId": "2ece15c7-0fb6-46ba-e2f2-12774d376410"
      },
      "outputs": [
        {
          "name": "stderr",
          "output_type": "stream",
          "text": [
            "100%|██████████| 3/3 [00:10<00:00,  3.54s/it]\n"
          ]
        }
      ],
      "source": [
        "#Get decoded predictions and labels from model\n",
        "# code from https://huggingface.co/course/chapter7/5?fw=tf\n",
        "\n",
        "all_preds = []\n",
        "all_labels = []\n",
        "for batch in tqdm(tf_validation):\n",
        "    predictions = model.generate(**batch)\n",
        "    decoded_preds = tokenizer.batch_decode(predictions, skip_special_tokens=True)\n",
        "    labels = batch[\"labels\"].numpy()\n",
        "    labels = np.where(labels != -100, labels, tokenizer.pad_token_id)\n",
        "    decoded_labels = tokenizer.batch_decode(labels, skip_special_tokens=True)\n",
        "    decoded_preds = [\"\\n\".join(sent_tokenize(pred.strip())) for pred in decoded_preds]\n",
        "    decoded_labels = [\"\\n\".join(sent_tokenize(label.strip())) for label in decoded_labels]\n",
        "    all_preds.extend(decoded_preds)\n",
        "    all_labels.extend(decoded_labels)"
      ]
    },
    {
      "cell_type": "code",
      "execution_count": 27,
      "metadata": {
        "colab": {
          "base_uri": "https://localhost:8080/"
        },
        "id": "cR03eJ7yJCtj",
        "outputId": "7ce8f770-aeee-457d-8dda-eff4283c2494"
      },
      "outputs": [
        {
          "name": "stdout",
          "output_type": "stream",
          "text": [
            "rouge1\n",
            "precision: 9.027777777777779\n",
            "recall: 5.24749373433584\n",
            "f-measure: 6.648427171230287\n",
            "***************\n",
            "rouge2\n",
            "precision: 0.0\n",
            "recall: 0.0\n",
            "f-measure: 0.0\n",
            "***************\n",
            "rougeL\n",
            "precision: 9.122474747474747\n",
            "recall: 5.334299289891395\n",
            "f-measure: 6.722501245304359\n",
            "***************\n",
            "rougeLsum\n",
            "precision: 8.080808080808081\n",
            "recall: 4.714912280701754\n",
            "f-measure: 5.968067774519388\n",
            "***************\n"
          ]
        }
      ],
      "source": [
        "rouge = load_metric('rouge')\n",
        "\n",
        "train_results = rouge.compute(\n",
        "    predictions=decoded_preds, references=decoded_labels, use_stemmer=True)\n",
        "\n",
        "for key in list(train_results.keys()):\n",
        "  mid_scores = train_results[key].mid\n",
        "  print(key)\n",
        "  print(f'precision: {mid_scores[0]*100}')\n",
        "  print(f'recall: {mid_scores[1]*100}')\n",
        "  print(f'f-measure: {mid_scores[2]*100}')\n",
        "  print('***************')"
      ]
    },
    {
      "cell_type": "markdown",
      "metadata": {
        "id": "DvwbD0c7TJJX"
      },
      "source": [
        "# Rouge scores for test data"
      ]
    },
    {
      "cell_type": "code",
      "execution_count": 28,
      "metadata": {
        "id": "V4H02OdHTNYd"
      },
      "outputs": [],
      "source": [
        "#Process test data for input to model\n",
        "\n",
        "tf_test = tokenized_data_features['test'].to_tf_dataset(\n",
        "    columns=['input_ids', 'attention_mask', 'labels'],\n",
        "    collate_fn=data_collator,\n",
        "    shuffle=False,\n",
        "    batch_size=8\n",
        ")"
      ]
    },
    {
      "cell_type": "code",
      "execution_count": 29,
      "metadata": {
        "colab": {
          "base_uri": "https://localhost:8080/"
        },
        "id": "Zef6PSquQkxA",
        "outputId": "f8648ed1-fae8-419e-f8aa-1af86b1f51b5"
      },
      "outputs": [
        {
          "name": "stderr",
          "output_type": "stream",
          "text": [
            "100%|██████████| 8/8 [00:40<00:00,  5.12s/it]\n"
          ]
        }
      ],
      "source": [
        "#Get decoded predictions and labels from putting test data through model\n",
        "# (same process as above)\n",
        "\n",
        "test_preds = []\n",
        "test_labels = []\n",
        "for batch in tqdm(tf_test):\n",
        "    predictions = model.generate(**batch)\n",
        "    decoded_preds = tokenizer.batch_decode(predictions, skip_special_tokens=True)\n",
        "    labels = batch[\"labels\"].numpy()\n",
        "    labels = np.where(labels != -100, labels, tokenizer.pad_token_id)\n",
        "    decoded_labels = tokenizer.batch_decode(labels, skip_special_tokens=True)\n",
        "    decoded_preds = [\"\\n\".join(sent_tokenize(pred.strip())) for pred in decoded_preds]\n",
        "    decoded_labels = [\"\\n\".join(sent_tokenize(label.strip())) for label in decoded_labels]\n",
        "    test_preds.extend(decoded_preds)\n",
        "    test_labels.extend(decoded_labels)\n"
      ]
    },
    {
      "cell_type": "code",
      "execution_count": 30,
      "metadata": {
        "colab": {
          "base_uri": "https://localhost:8080/"
        },
        "id": "Gm2ILNf5Qk17",
        "outputId": "f53b4a86-9813-4d97-949b-264812beb3b2"
      },
      "outputs": [
        {
          "name": "stdout",
          "output_type": "stream",
          "text": [
            "rouge1\n",
            "precision: 9.409340659340659\n",
            "recall: 7.063492063492062\n",
            "f-measure: 8.042328042328041\n",
            "***************\n",
            "rouge2\n",
            "precision: 0.0\n",
            "recall: 0.0\n",
            "f-measure: 0.0\n",
            "***************\n",
            "rougeL\n",
            "precision: 9.409340659340659\n",
            "recall: 7.063492063492062\n",
            "f-measure: 8.042328042328043\n",
            "***************\n",
            "rougeLsum\n",
            "precision: 9.409340659340659\n",
            "recall: 7.063492063492062\n",
            "f-measure: 8.042328042328043\n",
            "***************\n"
          ]
        }
      ],
      "source": [
        "rouge = load_metric('rouge')\n",
        "\n",
        "test_results = rouge.compute(\n",
        "    predictions=decoded_preds, references=decoded_labels, use_stemmer=True)\n",
        "\n",
        "for key in list(test_results.keys()):\n",
        "  mid_scores = test_results[key].mid\n",
        "  print(key)\n",
        "  print(f'precision: {mid_scores[0]*100}')\n",
        "  print(f'recall: {mid_scores[1]*100}')\n",
        "  print(f'f-measure: {mid_scores[2]*100}')\n",
        "  print('***************')\n"
      ]
    },
    {
      "cell_type": "markdown",
      "metadata": {
        "id": "NbuEfsRJVxOq"
      },
      "source": [
        "# Example model-generated summaries"
      ]
    },
    {
      "cell_type": "code",
      "execution_count": 31,
      "metadata": {
        "id": "lXQBWWIQQk51"
      },
      "outputs": [],
      "source": [
        "rand_indexes = []\n",
        "for i in range(3):\n",
        "  rand_indexes.append(random.randint(0,59))"
      ]
    },
    {
      "cell_type": "code",
      "execution_count": 32,
      "metadata": {
        "colab": {
          "base_uri": "https://localhost:8080/"
        },
        "id": "gL86wVDLFIp7",
        "outputId": "34c341e2-dc7b-4504-f972-09391d1e8264"
      },
      "outputs": [
        {
          "name": "stdout",
          "output_type": "stream",
          "text": [
            "[58, 1, 43]\n"
          ]
        }
      ],
      "source": [
        "print(rand_indexes)"
      ]
    },
    {
      "cell_type": "code",
      "execution_count": 33,
      "metadata": {
        "colab": {
          "base_uri": "https://localhost:8080/"
        },
        "id": "_jJrQjpmFLug",
        "outputId": "3e96ab86-bba8-4693-8fe5-4836ff813e65"
      },
      "outputs": [
        {
          "name": "stdout",
          "output_type": "stream",
          "text": [
            "A sheer mountainside leads down to the Seventh Circle; they can only get down it where a landslide has sha\n"
          ]
        }
      ],
      "source": [
        "#Reference summary example 1\n",
        "print(test_labels[58])"
      ]
    },
    {
      "cell_type": "code",
      "execution_count": 34,
      "metadata": {
        "colab": {
          "base_uri": "https://localhost:8080/"
        },
        "id": "sdyjR2wPLWS-",
        "outputId": "d4465271-f60b-4fd2-bd4a-e5c4bd989e0b"
      },
      "outputs": [
        {
          "name": "stdout",
          "output_type": "stream",
          "text": [
            "<extra_id_0> the mountains of the mountains of the mountains of the mountains of the\n"
          ]
        }
      ],
      "source": [
        "#Model summary example 1\n",
        "print(test_preds[58])"
      ]
    },
    {
      "cell_type": "code",
      "execution_count": 35,
      "metadata": {
        "colab": {
          "base_uri": "https://localhost:8080/"
        },
        "id": "EeijKlGZLahw",
        "outputId": "4ba1ef8e-75a1-4cad-dc37-5756c2cb6366"
      },
      "outputs": [
        {
          "name": "stdout",
          "output_type": "stream",
          "text": [
            "Next, the UM uses the analogy of the road to present his conclusion that man is afraid of completing his goal.\n",
            "Man\n"
          ]
        }
      ],
      "source": [
        "#Reference summary example 2\n",
        "print(test_labels[1])"
      ]
    },
    {
      "cell_type": "code",
      "execution_count": 36,
      "metadata": {
        "colab": {
          "base_uri": "https://localhost:8080/"
        },
        "id": "XRWA4mkdLey8",
        "outputId": "b03d969f-2be4-4018-a991-9294f1f69db7"
      },
      "outputs": [
        {
          "name": "stdout",
          "output_type": "stream",
          "text": [
            "<extra_id_0> the truth.\n",
            "Gentlemen, I am joking, and I am joking\n"
          ]
        }
      ],
      "source": [
        "#Model summary example 2\n",
        "print(test_preds[1])"
      ]
    },
    {
      "cell_type": "code",
      "execution_count": 37,
      "metadata": {
        "colab": {
          "base_uri": "https://localhost:8080/"
        },
        "id": "UmKq6l8-LlSz",
        "outputId": "54cc9ee0-bf2f-4655-e78f-31f2feae1ddf"
      },
      "outputs": [
        {
          "name": "stdout",
          "output_type": "stream",
          "text": [
            "As they ran through the fields, Sikes had tried to bring Oliver with him.\n",
            "After Toby abandoned them however\n"
          ]
        }
      ],
      "source": [
        "#Reference summary example 3\n",
        "print(test_labels[43])"
      ]
    },
    {
      "cell_type": "code",
      "execution_count": 38,
      "metadata": {
        "colab": {
          "base_uri": "https://localhost:8080/"
        },
        "id": "hETQltu1Lptn",
        "outputId": "36c6d168-92c0-45d8-b2fe-c1938805ddc4"
      },
      "outputs": [
        {
          "name": "stdout",
          "output_type": "stream",
          "text": [
            "<extra_id_0>\n"
          ]
        }
      ],
      "source": [
        "#Model summary example 3\n",
        "print(test_preds[43])"
      ]
    },
    {
      "cell_type": "markdown",
      "metadata": {
        "id": "O7--y2wMO0Vs"
      },
      "source": [
        "# Evaluation of Model"
      ]
    },
    {
      "cell_type": "markdown",
      "metadata": {
        "id": "QVk61hHHO2Jz"
      },
      "source": [
        "Based on rouge scores, this model performed worse than the three sentence summary baseline model. The example summaries generated do not make sense. Parameters need to be adjusted in order to improve predictions, and to allow for consideration of and generation of longer pieces of text"
      ]
    }
  ],
  "metadata": {
    "accelerator": "GPU",
    "colab": {
      "name": "03_finetuned_summary_model.ipynb",
      "provenance": []
    },
    "kernelspec": {
      "display_name": "Python 3",
      "name": "python3"
    },
    "language_info": {
      "name": "python"
    },
    "widgets": {
      "application/vnd.jupyter.widget-state+json": {
        "0429ebdaa05f45598851f32e1808946d": {
          "model_module": "@jupyter-widgets/base",
          "model_module_version": "1.2.0",
          "model_name": "LayoutModel",
          "state": {
            "_model_module": "@jupyter-widgets/base",
            "_model_module_version": "1.2.0",
            "_model_name": "LayoutModel",
            "_view_count": null,
            "_view_module": "@jupyter-widgets/base",
            "_view_module_version": "1.2.0",
            "_view_name": "LayoutView",
            "align_content": null,
            "align_items": null,
            "align_self": null,
            "border": null,
            "bottom": null,
            "display": null,
            "flex": null,
            "flex_flow": null,
            "grid_area": null,
            "grid_auto_columns": null,
            "grid_auto_flow": null,
            "grid_auto_rows": null,
            "grid_column": null,
            "grid_gap": null,
            "grid_row": null,
            "grid_template_areas": null,
            "grid_template_columns": null,
            "grid_template_rows": null,
            "height": null,
            "justify_content": null,
            "justify_items": null,
            "left": null,
            "margin": null,
            "max_height": null,
            "max_width": null,
            "min_height": null,
            "min_width": null,
            "object_fit": null,
            "object_position": null,
            "order": null,
            "overflow": null,
            "overflow_x": null,
            "overflow_y": null,
            "padding": null,
            "right": null,
            "top": null,
            "visibility": null,
            "width": "20px"
          }
        },
        "11e413a089a648f9b12c6c8b5012192a": {
          "model_module": "@jupyter-widgets/base",
          "model_module_version": "1.2.0",
          "model_name": "LayoutModel",
          "state": {
            "_model_module": "@jupyter-widgets/base",
            "_model_module_version": "1.2.0",
            "_model_name": "LayoutModel",
            "_view_count": null,
            "_view_module": "@jupyter-widgets/base",
            "_view_module_version": "1.2.0",
            "_view_name": "LayoutView",
            "align_content": null,
            "align_items": null,
            "align_self": null,
            "border": null,
            "bottom": null,
            "display": null,
            "flex": null,
            "flex_flow": null,
            "grid_area": null,
            "grid_auto_columns": null,
            "grid_auto_flow": null,
            "grid_auto_rows": null,
            "grid_column": null,
            "grid_gap": null,
            "grid_row": null,
            "grid_template_areas": null,
            "grid_template_columns": null,
            "grid_template_rows": null,
            "height": null,
            "justify_content": null,
            "justify_items": null,
            "left": null,
            "margin": null,
            "max_height": null,
            "max_width": null,
            "min_height": null,
            "min_width": null,
            "object_fit": null,
            "object_position": null,
            "order": null,
            "overflow": null,
            "overflow_x": null,
            "overflow_y": null,
            "padding": null,
            "right": null,
            "top": null,
            "visibility": null,
            "width": null
          }
        },
        "12fbbb387e1d407092a3e6b2047d9f13": {
          "model_module": "@jupyter-widgets/controls",
          "model_module_version": "1.5.0",
          "model_name": "HTMLModel",
          "state": {
            "_dom_classes": [],
            "_model_module": "@jupyter-widgets/controls",
            "_model_module_version": "1.5.0",
            "_model_name": "HTMLModel",
            "_view_count": null,
            "_view_module": "@jupyter-widgets/controls",
            "_view_module_version": "1.5.0",
            "_view_name": "HTMLView",
            "description": "",
            "description_tooltip": null,
            "layout": "IPY_MODEL_b0250138310b49d2a61400e327d43120",
            "placeholder": "​",
            "style": "IPY_MODEL_fbb2473d4c2748bc89346092f8366a95",
            "value": " 59/? [00:23&lt;00:00,  1.55s/ex]"
          }
        },
        "14df33a777904fea9e87fb8a32c341a2": {
          "model_module": "@jupyter-widgets/controls",
          "model_module_version": "1.5.0",
          "model_name": "ProgressStyleModel",
          "state": {
            "_model_module": "@jupyter-widgets/controls",
            "_model_module_version": "1.5.0",
            "_model_name": "ProgressStyleModel",
            "_view_count": null,
            "_view_module": "@jupyter-widgets/base",
            "_view_module_version": "1.2.0",
            "_view_name": "StyleView",
            "bar_color": null,
            "description_width": ""
          }
        },
        "2b2045bd0d244f4a83bc68ec78a0978b": {
          "model_module": "@jupyter-widgets/controls",
          "model_module_version": "1.5.0",
          "model_name": "ProgressStyleModel",
          "state": {
            "_model_module": "@jupyter-widgets/controls",
            "_model_module_version": "1.5.0",
            "_model_name": "ProgressStyleModel",
            "_view_count": null,
            "_view_module": "@jupyter-widgets/base",
            "_view_module_version": "1.2.0",
            "_view_name": "StyleView",
            "bar_color": null,
            "description_width": ""
          }
        },
        "2de27e66c8644b798ae7318d1f0615eb": {
          "model_module": "@jupyter-widgets/base",
          "model_module_version": "1.2.0",
          "model_name": "LayoutModel",
          "state": {
            "_model_module": "@jupyter-widgets/base",
            "_model_module_version": "1.2.0",
            "_model_name": "LayoutModel",
            "_view_count": null,
            "_view_module": "@jupyter-widgets/base",
            "_view_module_version": "1.2.0",
            "_view_name": "LayoutView",
            "align_content": null,
            "align_items": null,
            "align_self": null,
            "border": null,
            "bottom": null,
            "display": null,
            "flex": null,
            "flex_flow": null,
            "grid_area": null,
            "grid_auto_columns": null,
            "grid_auto_flow": null,
            "grid_auto_rows": null,
            "grid_column": null,
            "grid_gap": null,
            "grid_row": null,
            "grid_template_areas": null,
            "grid_template_columns": null,
            "grid_template_rows": null,
            "height": null,
            "justify_content": null,
            "justify_items": null,
            "left": null,
            "margin": null,
            "max_height": null,
            "max_width": null,
            "min_height": null,
            "min_width": null,
            "object_fit": null,
            "object_position": null,
            "order": null,
            "overflow": null,
            "overflow_x": null,
            "overflow_y": null,
            "padding": null,
            "right": null,
            "top": null,
            "visibility": null,
            "width": null
          }
        },
        "360c25f9e74145919e490f3fe4e75883": {
          "model_module": "@jupyter-widgets/controls",
          "model_module_version": "1.5.0",
          "model_name": "DescriptionStyleModel",
          "state": {
            "_model_module": "@jupyter-widgets/controls",
            "_model_module_version": "1.5.0",
            "_model_name": "DescriptionStyleModel",
            "_view_count": null,
            "_view_module": "@jupyter-widgets/base",
            "_view_module_version": "1.2.0",
            "_view_name": "StyleView",
            "description_width": ""
          }
        },
        "59bb6a91183f4a4297f6c8e2ec3f24a6": {
          "model_module": "@jupyter-widgets/controls",
          "model_module_version": "1.5.0",
          "model_name": "HTMLModel",
          "state": {
            "_dom_classes": [],
            "_model_module": "@jupyter-widgets/controls",
            "_model_module_version": "1.5.0",
            "_model_name": "HTMLModel",
            "_view_count": null,
            "_view_module": "@jupyter-widgets/controls",
            "_view_module_version": "1.5.0",
            "_view_name": "HTMLView",
            "description": "",
            "description_tooltip": null,
            "layout": "IPY_MODEL_2de27e66c8644b798ae7318d1f0615eb",
            "placeholder": "​",
            "style": "IPY_MODEL_96e22316001f4e72b5f2c81086c9740a",
            "value": ""
          }
        },
        "6665526b918044a48241f4f7b6fd58b7": {
          "model_module": "@jupyter-widgets/base",
          "model_module_version": "1.2.0",
          "model_name": "LayoutModel",
          "state": {
            "_model_module": "@jupyter-widgets/base",
            "_model_module_version": "1.2.0",
            "_model_name": "LayoutModel",
            "_view_count": null,
            "_view_module": "@jupyter-widgets/base",
            "_view_module_version": "1.2.0",
            "_view_name": "LayoutView",
            "align_content": null,
            "align_items": null,
            "align_self": null,
            "border": null,
            "bottom": null,
            "display": null,
            "flex": null,
            "flex_flow": null,
            "grid_area": null,
            "grid_auto_columns": null,
            "grid_auto_flow": null,
            "grid_auto_rows": null,
            "grid_column": null,
            "grid_gap": null,
            "grid_row": null,
            "grid_template_areas": null,
            "grid_template_columns": null,
            "grid_template_rows": null,
            "height": null,
            "justify_content": null,
            "justify_items": null,
            "left": null,
            "margin": null,
            "max_height": null,
            "max_width": null,
            "min_height": null,
            "min_width": null,
            "object_fit": null,
            "object_position": null,
            "order": null,
            "overflow": null,
            "overflow_x": null,
            "overflow_y": null,
            "padding": null,
            "right": null,
            "top": null,
            "visibility": null,
            "width": null
          }
        },
        "72e9b53148234a6a87211aa590392282": {
          "model_module": "@jupyter-widgets/base",
          "model_module_version": "1.2.0",
          "model_name": "LayoutModel",
          "state": {
            "_model_module": "@jupyter-widgets/base",
            "_model_module_version": "1.2.0",
            "_model_name": "LayoutModel",
            "_view_count": null,
            "_view_module": "@jupyter-widgets/base",
            "_view_module_version": "1.2.0",
            "_view_name": "LayoutView",
            "align_content": null,
            "align_items": null,
            "align_self": null,
            "border": null,
            "bottom": null,
            "display": null,
            "flex": null,
            "flex_flow": null,
            "grid_area": null,
            "grid_auto_columns": null,
            "grid_auto_flow": null,
            "grid_auto_rows": null,
            "grid_column": null,
            "grid_gap": null,
            "grid_row": null,
            "grid_template_areas": null,
            "grid_template_columns": null,
            "grid_template_rows": null,
            "height": null,
            "justify_content": null,
            "justify_items": null,
            "left": null,
            "margin": null,
            "max_height": null,
            "max_width": null,
            "min_height": null,
            "min_width": null,
            "object_fit": null,
            "object_position": null,
            "order": null,
            "overflow": null,
            "overflow_x": null,
            "overflow_y": null,
            "padding": null,
            "right": null,
            "top": null,
            "visibility": null,
            "width": null
          }
        },
        "7f71be5f6a7244ebb488e410867baea0": {
          "model_module": "@jupyter-widgets/base",
          "model_module_version": "1.2.0",
          "model_name": "LayoutModel",
          "state": {
            "_model_module": "@jupyter-widgets/base",
            "_model_module_version": "1.2.0",
            "_model_name": "LayoutModel",
            "_view_count": null,
            "_view_module": "@jupyter-widgets/base",
            "_view_module_version": "1.2.0",
            "_view_name": "LayoutView",
            "align_content": null,
            "align_items": null,
            "align_self": null,
            "border": null,
            "bottom": null,
            "display": null,
            "flex": null,
            "flex_flow": null,
            "grid_area": null,
            "grid_auto_columns": null,
            "grid_auto_flow": null,
            "grid_auto_rows": null,
            "grid_column": null,
            "grid_gap": null,
            "grid_row": null,
            "grid_template_areas": null,
            "grid_template_columns": null,
            "grid_template_rows": null,
            "height": null,
            "justify_content": null,
            "justify_items": null,
            "left": null,
            "margin": null,
            "max_height": null,
            "max_width": null,
            "min_height": null,
            "min_width": null,
            "object_fit": null,
            "object_position": null,
            "order": null,
            "overflow": null,
            "overflow_x": null,
            "overflow_y": null,
            "padding": null,
            "right": null,
            "top": null,
            "visibility": null,
            "width": null
          }
        },
        "966d4018b7cd4bd3a859178d8736e923": {
          "model_module": "@jupyter-widgets/controls",
          "model_module_version": "1.5.0",
          "model_name": "HBoxModel",
          "state": {
            "_dom_classes": [],
            "_model_module": "@jupyter-widgets/controls",
            "_model_module_version": "1.5.0",
            "_model_name": "HBoxModel",
            "_view_count": null,
            "_view_module": "@jupyter-widgets/controls",
            "_view_module_version": "1.5.0",
            "_view_name": "HBoxView",
            "box_style": "",
            "children": [
              "IPY_MODEL_59bb6a91183f4a4297f6c8e2ec3f24a6",
              "IPY_MODEL_a12390318c3645b487e78b4ebcda1a3f",
              "IPY_MODEL_12fbbb387e1d407092a3e6b2047d9f13"
            ],
            "layout": "IPY_MODEL_11e413a089a648f9b12c6c8b5012192a"
          }
        },
        "96e22316001f4e72b5f2c81086c9740a": {
          "model_module": "@jupyter-widgets/controls",
          "model_module_version": "1.5.0",
          "model_name": "DescriptionStyleModel",
          "state": {
            "_model_module": "@jupyter-widgets/controls",
            "_model_module_version": "1.5.0",
            "_model_name": "DescriptionStyleModel",
            "_view_count": null,
            "_view_module": "@jupyter-widgets/base",
            "_view_module_version": "1.2.0",
            "_view_name": "StyleView",
            "description_width": ""
          }
        },
        "98019b5786444951a3d309cc9898ac0b": {
          "model_module": "@jupyter-widgets/controls",
          "model_module_version": "1.5.0",
          "model_name": "HTMLModel",
          "state": {
            "_dom_classes": [],
            "_model_module": "@jupyter-widgets/controls",
            "_model_module_version": "1.5.0",
            "_model_name": "HTMLModel",
            "_view_count": null,
            "_view_module": "@jupyter-widgets/controls",
            "_view_module_version": "1.5.0",
            "_view_name": "HTMLView",
            "description": "",
            "description_tooltip": null,
            "layout": "IPY_MODEL_6665526b918044a48241f4f7b6fd58b7",
            "placeholder": "​",
            "style": "IPY_MODEL_360c25f9e74145919e490f3fe4e75883",
            "value": " 3/3 [00:00&lt;00:00, 68.93it/s]"
          }
        },
        "a10c7add8df544299f058827729b3a58": {
          "model_module": "@jupyter-widgets/controls",
          "model_module_version": "1.5.0",
          "model_name": "DescriptionStyleModel",
          "state": {
            "_model_module": "@jupyter-widgets/controls",
            "_model_module_version": "1.5.0",
            "_model_name": "DescriptionStyleModel",
            "_view_count": null,
            "_view_module": "@jupyter-widgets/base",
            "_view_module_version": "1.2.0",
            "_view_name": "StyleView",
            "description_width": ""
          }
        },
        "a12390318c3645b487e78b4ebcda1a3f": {
          "model_module": "@jupyter-widgets/controls",
          "model_module_version": "1.5.0",
          "model_name": "FloatProgressModel",
          "state": {
            "_dom_classes": [],
            "_model_module": "@jupyter-widgets/controls",
            "_model_module_version": "1.5.0",
            "_model_name": "FloatProgressModel",
            "_view_count": null,
            "_view_module": "@jupyter-widgets/controls",
            "_view_module_version": "1.5.0",
            "_view_name": "ProgressView",
            "bar_style": "success",
            "description": "",
            "description_tooltip": null,
            "layout": "IPY_MODEL_0429ebdaa05f45598851f32e1808946d",
            "max": 1,
            "min": 0,
            "orientation": "horizontal",
            "style": "IPY_MODEL_14df33a777904fea9e87fb8a32c341a2",
            "value": 1
          }
        },
        "ab3b0ea18e4b4fecab1ccd8cf028c733": {
          "model_module": "@jupyter-widgets/base",
          "model_module_version": "1.2.0",
          "model_name": "LayoutModel",
          "state": {
            "_model_module": "@jupyter-widgets/base",
            "_model_module_version": "1.2.0",
            "_model_name": "LayoutModel",
            "_view_count": null,
            "_view_module": "@jupyter-widgets/base",
            "_view_module_version": "1.2.0",
            "_view_name": "LayoutView",
            "align_content": null,
            "align_items": null,
            "align_self": null,
            "border": null,
            "bottom": null,
            "display": null,
            "flex": null,
            "flex_flow": null,
            "grid_area": null,
            "grid_auto_columns": null,
            "grid_auto_flow": null,
            "grid_auto_rows": null,
            "grid_column": null,
            "grid_gap": null,
            "grid_row": null,
            "grid_template_areas": null,
            "grid_template_columns": null,
            "grid_template_rows": null,
            "height": null,
            "justify_content": null,
            "justify_items": null,
            "left": null,
            "margin": null,
            "max_height": null,
            "max_width": null,
            "min_height": null,
            "min_width": null,
            "object_fit": null,
            "object_position": null,
            "order": null,
            "overflow": null,
            "overflow_x": null,
            "overflow_y": null,
            "padding": null,
            "right": null,
            "top": null,
            "visibility": null,
            "width": null
          }
        },
        "b0250138310b49d2a61400e327d43120": {
          "model_module": "@jupyter-widgets/base",
          "model_module_version": "1.2.0",
          "model_name": "LayoutModel",
          "state": {
            "_model_module": "@jupyter-widgets/base",
            "_model_module_version": "1.2.0",
            "_model_name": "LayoutModel",
            "_view_count": null,
            "_view_module": "@jupyter-widgets/base",
            "_view_module_version": "1.2.0",
            "_view_name": "LayoutView",
            "align_content": null,
            "align_items": null,
            "align_self": null,
            "border": null,
            "bottom": null,
            "display": null,
            "flex": null,
            "flex_flow": null,
            "grid_area": null,
            "grid_auto_columns": null,
            "grid_auto_flow": null,
            "grid_auto_rows": null,
            "grid_column": null,
            "grid_gap": null,
            "grid_row": null,
            "grid_template_areas": null,
            "grid_template_columns": null,
            "grid_template_rows": null,
            "height": null,
            "justify_content": null,
            "justify_items": null,
            "left": null,
            "margin": null,
            "max_height": null,
            "max_width": null,
            "min_height": null,
            "min_width": null,
            "object_fit": null,
            "object_position": null,
            "order": null,
            "overflow": null,
            "overflow_x": null,
            "overflow_y": null,
            "padding": null,
            "right": null,
            "top": null,
            "visibility": null,
            "width": null
          }
        },
        "c0f33527686c4850af9fb3299d736f47": {
          "model_module": "@jupyter-widgets/controls",
          "model_module_version": "1.5.0",
          "model_name": "HBoxModel",
          "state": {
            "_dom_classes": [],
            "_model_module": "@jupyter-widgets/controls",
            "_model_module_version": "1.5.0",
            "_model_name": "HBoxModel",
            "_view_count": null,
            "_view_module": "@jupyter-widgets/controls",
            "_view_module_version": "1.5.0",
            "_view_name": "HBoxView",
            "box_style": "",
            "children": [
              "IPY_MODEL_dc115e82a41347ebba9be5e446687cbf",
              "IPY_MODEL_cd3b31a4c7264749af469a3a74cad8e0",
              "IPY_MODEL_98019b5786444951a3d309cc9898ac0b"
            ],
            "layout": "IPY_MODEL_7f71be5f6a7244ebb488e410867baea0"
          }
        },
        "cd3b31a4c7264749af469a3a74cad8e0": {
          "model_module": "@jupyter-widgets/controls",
          "model_module_version": "1.5.0",
          "model_name": "FloatProgressModel",
          "state": {
            "_dom_classes": [],
            "_model_module": "@jupyter-widgets/controls",
            "_model_module_version": "1.5.0",
            "_model_name": "FloatProgressModel",
            "_view_count": null,
            "_view_module": "@jupyter-widgets/controls",
            "_view_module_version": "1.5.0",
            "_view_name": "ProgressView",
            "bar_style": "success",
            "description": "",
            "description_tooltip": null,
            "layout": "IPY_MODEL_72e9b53148234a6a87211aa590392282",
            "max": 3,
            "min": 0,
            "orientation": "horizontal",
            "style": "IPY_MODEL_2b2045bd0d244f4a83bc68ec78a0978b",
            "value": 3
          }
        },
        "dc115e82a41347ebba9be5e446687cbf": {
          "model_module": "@jupyter-widgets/controls",
          "model_module_version": "1.5.0",
          "model_name": "HTMLModel",
          "state": {
            "_dom_classes": [],
            "_model_module": "@jupyter-widgets/controls",
            "_model_module_version": "1.5.0",
            "_model_name": "HTMLModel",
            "_view_count": null,
            "_view_module": "@jupyter-widgets/controls",
            "_view_module_version": "1.5.0",
            "_view_name": "HTMLView",
            "description": "",
            "description_tooltip": null,
            "layout": "IPY_MODEL_ab3b0ea18e4b4fecab1ccd8cf028c733",
            "placeholder": "​",
            "style": "IPY_MODEL_a10c7add8df544299f058827729b3a58",
            "value": "100%"
          }
        },
        "fbb2473d4c2748bc89346092f8366a95": {
          "model_module": "@jupyter-widgets/controls",
          "model_module_version": "1.5.0",
          "model_name": "DescriptionStyleModel",
          "state": {
            "_model_module": "@jupyter-widgets/controls",
            "_model_module_version": "1.5.0",
            "_model_name": "DescriptionStyleModel",
            "_view_count": null,
            "_view_module": "@jupyter-widgets/base",
            "_view_module_version": "1.2.0",
            "_view_name": "StyleView",
            "description_width": ""
          }
        }
      }
    }
  },
  "nbformat": 4,
  "nbformat_minor": 0
}
