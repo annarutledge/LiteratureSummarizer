{
 "cells": [
  {
   "cell_type": "markdown",
   "metadata": {},
   "source": [
    "# Imports"
   ]
  },
  {
   "cell_type": "code",
   "execution_count": 1,
   "metadata": {},
   "outputs": [],
   "source": [
    "import pandas as pd\n",
    "import numpy as np\n",
    "import seaborn as sns\n",
    "import matplotlib.pyplot as plt\n",
    "from collections import Counter "
   ]
  },
  {
   "cell_type": "markdown",
   "metadata": {},
   "source": [
    "# Read in data summary & text data"
   ]
  },
  {
   "cell_type": "code",
   "execution_count": 2,
   "metadata": {},
   "outputs": [
    {
     "data": {
      "text/html": [
       "<div>\n",
       "<style scoped>\n",
       "    .dataframe tbody tr th:only-of-type {\n",
       "        vertical-align: middle;\n",
       "    }\n",
       "\n",
       "    .dataframe tbody tr th {\n",
       "        vertical-align: top;\n",
       "    }\n",
       "\n",
       "    .dataframe thead th {\n",
       "        text-align: right;\n",
       "    }\n",
       "</style>\n",
       "<table border=\"1\" class=\"dataframe\">\n",
       "  <thead>\n",
       "    <tr style=\"text-align: right;\">\n",
       "      <th></th>\n",
       "      <th>chapter_title</th>\n",
       "      <th>chapter_summary</th>\n",
       "      <th>book_title</th>\n",
       "      <th>chapters</th>\n",
       "      <th>chapter_text</th>\n",
       "    </tr>\n",
       "  </thead>\n",
       "  <tbody>\n",
       "    <tr>\n",
       "      <th>0</th>\n",
       "      <td>The Age of Innocence: Novel Summary: Chapters 1-3</td>\n",
       "      <td>Chapters 1-3\\n\\n\\t \\nSummary\\n\\tThe story open...</td>\n",
       "      <td>The Age of Innocence</td>\n",
       "      <td>Chapters 1-3</td>\n",
       "      <td>The Age of InnocencebyEdith Wharton\\n\\n\\n\\n\\n\\...</td>\n",
       "    </tr>\n",
       "    <tr>\n",
       "      <th>1</th>\n",
       "      <td>The Age of Innocence: Novel Summary: Chapters 4-6</td>\n",
       "      <td>Chapters 4-6\\nSummary\\n\\tArcher and May begin ...</td>\n",
       "      <td>The Age of Innocence</td>\n",
       "      <td>Chapters 4-6</td>\n",
       "      <td>\\n\\nIn the course of the next day the first of...</td>\n",
       "    </tr>\n",
       "    <tr>\n",
       "      <th>2</th>\n",
       "      <td>The Age of Innocence: Novel Summary: Chapters 7-9</td>\n",
       "      <td>Chapters 7-9\\nSummary\\n\\tMrs Archer and her so...</td>\n",
       "      <td>The Age of Innocence</td>\n",
       "      <td>Chapters 7-9</td>\n",
       "      <td>\\n\\nMrs. Henry van der Luyden listened in sile...</td>\n",
       "    </tr>\n",
       "    <tr>\n",
       "      <th>3</th>\n",
       "      <td>The Age of Innocence: Novel Summary: Chapters ...</td>\n",
       "      <td>Chapters 10-12\\nSummary\\n\\tArcher tells May ab...</td>\n",
       "      <td>The Age of Innocence</td>\n",
       "      <td>Chapters 10-12</td>\n",
       "      <td>\\n\\nThe Countess Olenska had said \"after five\"...</td>\n",
       "    </tr>\n",
       "    <tr>\n",
       "      <th>4</th>\n",
       "      <td>The Age of Innocence: Novel Summary: Chapters ...</td>\n",
       "      <td>Chapters 13-15\\nSummary\\n\\tAt the theatre, Arc...</td>\n",
       "      <td>The Age of Innocence</td>\n",
       "      <td>Chapters 13-15</td>\n",
       "      <td>\\n\\nIt was a crowded night at Wallack's theatr...</td>\n",
       "    </tr>\n",
       "  </tbody>\n",
       "</table>\n",
       "</div>"
      ],
      "text/plain": [
       "                                       chapter_title  \\\n",
       "0  The Age of Innocence: Novel Summary: Chapters 1-3   \n",
       "1  The Age of Innocence: Novel Summary: Chapters 4-6   \n",
       "2  The Age of Innocence: Novel Summary: Chapters 7-9   \n",
       "3  The Age of Innocence: Novel Summary: Chapters ...   \n",
       "4  The Age of Innocence: Novel Summary: Chapters ...   \n",
       "\n",
       "                                     chapter_summary            book_title  \\\n",
       "0  Chapters 1-3\\n\\n\\t \\nSummary\\n\\tThe story open...  The Age of Innocence   \n",
       "1  Chapters 4-6\\nSummary\\n\\tArcher and May begin ...  The Age of Innocence   \n",
       "2  Chapters 7-9\\nSummary\\n\\tMrs Archer and her so...  The Age of Innocence   \n",
       "3  Chapters 10-12\\nSummary\\n\\tArcher tells May ab...  The Age of Innocence   \n",
       "4  Chapters 13-15\\nSummary\\n\\tAt the theatre, Arc...  The Age of Innocence   \n",
       "\n",
       "         chapters                                       chapter_text  \n",
       "0    Chapters 1-3  The Age of InnocencebyEdith Wharton\\n\\n\\n\\n\\n\\...  \n",
       "1    Chapters 4-6  \\n\\nIn the course of the next day the first of...  \n",
       "2    Chapters 7-9  \\n\\nMrs. Henry van der Luyden listened in sile...  \n",
       "3  Chapters 10-12  \\n\\nThe Countess Olenska had said \"after five\"...  \n",
       "4  Chapters 13-15  \\n\\nIt was a crowded night at Wallack's theatr...  "
      ]
     },
     "execution_count": 2,
     "metadata": {},
     "output_type": "execute_result"
    }
   ],
   "source": [
    "df = pd.read_csv('./data/working_data/chapter_summaries_texts.csv')\n",
    "df.head()"
   ]
  },
  {
   "cell_type": "markdown",
   "metadata": {},
   "source": [
    "# Double check for missing values"
   ]
  },
  {
   "cell_type": "code",
   "execution_count": 3,
   "metadata": {},
   "outputs": [
    {
     "data": {
      "text/plain": [
       "chapter_title      0\n",
       "chapter_summary    0\n",
       "book_title         0\n",
       "chapters           0\n",
       "chapter_text       0\n",
       "dtype: int64"
      ]
     },
     "execution_count": 3,
     "metadata": {},
     "output_type": "execute_result"
    }
   ],
   "source": [
    "df.isna().sum()"
   ]
  },
  {
   "cell_type": "markdown",
   "metadata": {},
   "source": [
    "# Remove '\\n' and '\\t' from texts"
   ]
  },
  {
   "cell_type": "code",
   "execution_count": 4,
   "metadata": {},
   "outputs": [],
   "source": [
    "#In chapter summaries and texts - replace '\\n' , '\\t' with a space, then replace double, triple, or quadruple spaces with a signle space\n",
    "\n",
    "to_replace = ['\\n', '\\t', '  ', '   ', '    ']\n",
    "\n",
    "for i in df.index:\n",
    "    for char in to_replace:\n",
    "        df.iloc[i]['chapter_summary'] = df.iloc[i]['chapter_summary'].replace(char, ' ')\n",
    "        df.iloc[i]['chapter_text'] = df.iloc[i]['chapter_text'].replace(char, ' ')"
   ]
  },
  {
   "cell_type": "code",
   "execution_count": 5,
   "metadata": {},
   "outputs": [
    {
     "data": {
      "text/html": [
       "<div>\n",
       "<style scoped>\n",
       "    .dataframe tbody tr th:only-of-type {\n",
       "        vertical-align: middle;\n",
       "    }\n",
       "\n",
       "    .dataframe tbody tr th {\n",
       "        vertical-align: top;\n",
       "    }\n",
       "\n",
       "    .dataframe thead th {\n",
       "        text-align: right;\n",
       "    }\n",
       "</style>\n",
       "<table border=\"1\" class=\"dataframe\">\n",
       "  <thead>\n",
       "    <tr style=\"text-align: right;\">\n",
       "      <th></th>\n",
       "      <th>chapter_title</th>\n",
       "      <th>chapter_summary</th>\n",
       "      <th>book_title</th>\n",
       "      <th>chapters</th>\n",
       "      <th>chapter_text</th>\n",
       "    </tr>\n",
       "  </thead>\n",
       "  <tbody>\n",
       "    <tr>\n",
       "      <th>0</th>\n",
       "      <td>The Age of Innocence: Novel Summary: Chapters 1-3</td>\n",
       "      <td>Chapters 1-3    Summary The story opens at the...</td>\n",
       "      <td>The Age of Innocence</td>\n",
       "      <td>Chapters 1-3</td>\n",
       "      <td>The Age of InnocencebyEdith Wharton Etext prep...</td>\n",
       "    </tr>\n",
       "    <tr>\n",
       "      <th>1</th>\n",
       "      <td>The Age of Innocence: Novel Summary: Chapters 4-6</td>\n",
       "      <td>Chapters 4-6 Summary Archer and May begin thei...</td>\n",
       "      <td>The Age of Innocence</td>\n",
       "      <td>Chapters 4-6</td>\n",
       "      <td>In the course of the next day the first of th...</td>\n",
       "    </tr>\n",
       "    <tr>\n",
       "      <th>2</th>\n",
       "      <td>The Age of Innocence: Novel Summary: Chapters 7-9</td>\n",
       "      <td>Chapters 7-9 Summary Mrs Archer and her son ca...</td>\n",
       "      <td>The Age of Innocence</td>\n",
       "      <td>Chapters 7-9</td>\n",
       "      <td>Mrs. Henry van der Luyden listened in silence...</td>\n",
       "    </tr>\n",
       "    <tr>\n",
       "      <th>3</th>\n",
       "      <td>The Age of Innocence: Novel Summary: Chapters ...</td>\n",
       "      <td>Chapters 10-12 Summary Archer tells May about ...</td>\n",
       "      <td>The Age of Innocence</td>\n",
       "      <td>Chapters 10-12</td>\n",
       "      <td>The Countess Olenska had said \"after five\"; a...</td>\n",
       "    </tr>\n",
       "    <tr>\n",
       "      <th>4</th>\n",
       "      <td>The Age of Innocence: Novel Summary: Chapters ...</td>\n",
       "      <td>Chapters 13-15 Summary At the theatre, Archer ...</td>\n",
       "      <td>The Age of Innocence</td>\n",
       "      <td>Chapters 13-15</td>\n",
       "      <td>It was a crowded night at Wallack's theatre. ...</td>\n",
       "    </tr>\n",
       "  </tbody>\n",
       "</table>\n",
       "</div>"
      ],
      "text/plain": [
       "                                       chapter_title  \\\n",
       "0  The Age of Innocence: Novel Summary: Chapters 1-3   \n",
       "1  The Age of Innocence: Novel Summary: Chapters 4-6   \n",
       "2  The Age of Innocence: Novel Summary: Chapters 7-9   \n",
       "3  The Age of Innocence: Novel Summary: Chapters ...   \n",
       "4  The Age of Innocence: Novel Summary: Chapters ...   \n",
       "\n",
       "                                     chapter_summary            book_title  \\\n",
       "0  Chapters 1-3    Summary The story opens at the...  The Age of Innocence   \n",
       "1  Chapters 4-6 Summary Archer and May begin thei...  The Age of Innocence   \n",
       "2  Chapters 7-9 Summary Mrs Archer and her son ca...  The Age of Innocence   \n",
       "3  Chapters 10-12 Summary Archer tells May about ...  The Age of Innocence   \n",
       "4  Chapters 13-15 Summary At the theatre, Archer ...  The Age of Innocence   \n",
       "\n",
       "         chapters                                       chapter_text  \n",
       "0    Chapters 1-3  The Age of InnocencebyEdith Wharton Etext prep...  \n",
       "1    Chapters 4-6   In the course of the next day the first of th...  \n",
       "2    Chapters 7-9   Mrs. Henry van der Luyden listened in silence...  \n",
       "3  Chapters 10-12   The Countess Olenska had said \"after five\"; a...  \n",
       "4  Chapters 13-15   It was a crowded night at Wallack's theatre. ...  "
      ]
     },
     "execution_count": 5,
     "metadata": {},
     "output_type": "execute_result"
    }
   ],
   "source": [
    "df.head()"
   ]
  },
  {
   "cell_type": "markdown",
   "metadata": {},
   "source": [
    "# Remove other unneeded words"
   ]
  },
  {
   "cell_type": "markdown",
   "metadata": {},
   "source": [
    "## Remove book titles from chapter summaries and texts"
   ]
  },
  {
   "cell_type": "code",
   "execution_count": 6,
   "metadata": {},
   "outputs": [],
   "source": [
    "for i in df.index:\n",
    "    book_title = df.iloc[i]['book_title']\n",
    "    if book_title in df.iloc[i]['chapter_summary']:\n",
    "        df.iloc[i]['chapter_summary'] = df.iloc[i]['chapter_summary'].replace(book_title, ' ')\n",
    "    if book_title in df.iloc[i]['chapter_text']:\n",
    "        df.iloc[i]['chapter_text'] = df.iloc[i]['chapter_text'].replace(book_title, ' ')"
   ]
  },
  {
   "cell_type": "code",
   "execution_count": 7,
   "metadata": {},
   "outputs": [
    {
     "data": {
      "text/html": [
       "<div>\n",
       "<style scoped>\n",
       "    .dataframe tbody tr th:only-of-type {\n",
       "        vertical-align: middle;\n",
       "    }\n",
       "\n",
       "    .dataframe tbody tr th {\n",
       "        vertical-align: top;\n",
       "    }\n",
       "\n",
       "    .dataframe thead th {\n",
       "        text-align: right;\n",
       "    }\n",
       "</style>\n",
       "<table border=\"1\" class=\"dataframe\">\n",
       "  <thead>\n",
       "    <tr style=\"text-align: right;\">\n",
       "      <th></th>\n",
       "      <th>chapter_title</th>\n",
       "      <th>chapter_summary</th>\n",
       "      <th>book_title</th>\n",
       "      <th>chapters</th>\n",
       "      <th>chapter_text</th>\n",
       "    </tr>\n",
       "  </thead>\n",
       "  <tbody>\n",
       "    <tr>\n",
       "      <th>0</th>\n",
       "      <td>The Age of Innocence: Novel Summary: Chapters 1-3</td>\n",
       "      <td>Chapters 1-3    Summary The story opens at the...</td>\n",
       "      <td>The Age of Innocence</td>\n",
       "      <td>Chapters 1-3</td>\n",
       "      <td>byEdith Wharton Etext prepared by JudithBoss,...</td>\n",
       "    </tr>\n",
       "    <tr>\n",
       "      <th>1</th>\n",
       "      <td>The Age of Innocence: Novel Summary: Chapters 4-6</td>\n",
       "      <td>Chapters 4-6 Summary Archer and May begin thei...</td>\n",
       "      <td>The Age of Innocence</td>\n",
       "      <td>Chapters 4-6</td>\n",
       "      <td>In the course of the next day the first of th...</td>\n",
       "    </tr>\n",
       "    <tr>\n",
       "      <th>2</th>\n",
       "      <td>The Age of Innocence: Novel Summary: Chapters 7-9</td>\n",
       "      <td>Chapters 7-9 Summary Mrs Archer and her son ca...</td>\n",
       "      <td>The Age of Innocence</td>\n",
       "      <td>Chapters 7-9</td>\n",
       "      <td>Mrs. Henry van der Luyden listened in silence...</td>\n",
       "    </tr>\n",
       "    <tr>\n",
       "      <th>3</th>\n",
       "      <td>The Age of Innocence: Novel Summary: Chapters ...</td>\n",
       "      <td>Chapters 10-12 Summary Archer tells May about ...</td>\n",
       "      <td>The Age of Innocence</td>\n",
       "      <td>Chapters 10-12</td>\n",
       "      <td>The Countess Olenska had said \"after five\"; a...</td>\n",
       "    </tr>\n",
       "    <tr>\n",
       "      <th>4</th>\n",
       "      <td>The Age of Innocence: Novel Summary: Chapters ...</td>\n",
       "      <td>Chapters 13-15 Summary At the theatre, Archer ...</td>\n",
       "      <td>The Age of Innocence</td>\n",
       "      <td>Chapters 13-15</td>\n",
       "      <td>It was a crowded night at Wallack's theatre. ...</td>\n",
       "    </tr>\n",
       "  </tbody>\n",
       "</table>\n",
       "</div>"
      ],
      "text/plain": [
       "                                       chapter_title  \\\n",
       "0  The Age of Innocence: Novel Summary: Chapters 1-3   \n",
       "1  The Age of Innocence: Novel Summary: Chapters 4-6   \n",
       "2  The Age of Innocence: Novel Summary: Chapters 7-9   \n",
       "3  The Age of Innocence: Novel Summary: Chapters ...   \n",
       "4  The Age of Innocence: Novel Summary: Chapters ...   \n",
       "\n",
       "                                     chapter_summary            book_title  \\\n",
       "0  Chapters 1-3    Summary The story opens at the...  The Age of Innocence   \n",
       "1  Chapters 4-6 Summary Archer and May begin thei...  The Age of Innocence   \n",
       "2  Chapters 7-9 Summary Mrs Archer and her son ca...  The Age of Innocence   \n",
       "3  Chapters 10-12 Summary Archer tells May about ...  The Age of Innocence   \n",
       "4  Chapters 13-15 Summary At the theatre, Archer ...  The Age of Innocence   \n",
       "\n",
       "         chapters                                       chapter_text  \n",
       "0    Chapters 1-3   byEdith Wharton Etext prepared by JudithBoss,...  \n",
       "1    Chapters 4-6   In the course of the next day the first of th...  \n",
       "2    Chapters 7-9   Mrs. Henry van der Luyden listened in silence...  \n",
       "3  Chapters 10-12   The Countess Olenska had said \"after five\"; a...  \n",
       "4  Chapters 13-15   It was a crowded night at Wallack's theatre. ...  "
      ]
     },
     "execution_count": 7,
     "metadata": {},
     "output_type": "execute_result"
    }
   ],
   "source": [
    "df.head()"
   ]
  },
  {
   "cell_type": "markdown",
   "metadata": {},
   "source": [
    "## Remove chapter titles from chapter summaries"
   ]
  },
  {
   "cell_type": "code",
   "execution_count": 8,
   "metadata": {},
   "outputs": [],
   "source": [
    "for i in df.index:\n",
    "    chapter_title = df.iloc[i]['chapter_title']\n",
    "    chapters = df.iloc[i]['chapters']\n",
    "    if chapter_title in df.iloc[i]['chapter_summary']:\n",
    "        df.iloc[i]['chapter_summary'] = df.iloc[i]['chapter_summary'].replace(chapter_title, ' ')\n",
    "    if chapters in df.iloc[i]['chapter_summary']:\n",
    "        df.iloc[i]['chapter_summary'] = df.iloc[i]['chapter_summary'].replace(chapters, ' ')  "
   ]
  },
  {
   "cell_type": "code",
   "execution_count": 9,
   "metadata": {},
   "outputs": [
    {
     "data": {
      "text/html": [
       "<div>\n",
       "<style scoped>\n",
       "    .dataframe tbody tr th:only-of-type {\n",
       "        vertical-align: middle;\n",
       "    }\n",
       "\n",
       "    .dataframe tbody tr th {\n",
       "        vertical-align: top;\n",
       "    }\n",
       "\n",
       "    .dataframe thead th {\n",
       "        text-align: right;\n",
       "    }\n",
       "</style>\n",
       "<table border=\"1\" class=\"dataframe\">\n",
       "  <thead>\n",
       "    <tr style=\"text-align: right;\">\n",
       "      <th></th>\n",
       "      <th>chapter_title</th>\n",
       "      <th>chapter_summary</th>\n",
       "      <th>book_title</th>\n",
       "      <th>chapters</th>\n",
       "      <th>chapter_text</th>\n",
       "    </tr>\n",
       "  </thead>\n",
       "  <tbody>\n",
       "    <tr>\n",
       "      <th>0</th>\n",
       "      <td>The Age of Innocence: Novel Summary: Chapters 1-3</td>\n",
       "      <td>Summary The story opens at the opera in N...</td>\n",
       "      <td>The Age of Innocence</td>\n",
       "      <td>Chapters 1-3</td>\n",
       "      <td>byEdith Wharton Etext prepared by JudithBoss,...</td>\n",
       "    </tr>\n",
       "    <tr>\n",
       "      <th>1</th>\n",
       "      <td>The Age of Innocence: Novel Summary: Chapters 4-6</td>\n",
       "      <td>Summary Archer and May begin their round of ...</td>\n",
       "      <td>The Age of Innocence</td>\n",
       "      <td>Chapters 4-6</td>\n",
       "      <td>In the course of the next day the first of th...</td>\n",
       "    </tr>\n",
       "    <tr>\n",
       "      <th>2</th>\n",
       "      <td>The Age of Innocence: Novel Summary: Chapters 7-9</td>\n",
       "      <td>Summary Mrs Archer and her son call on the v...</td>\n",
       "      <td>The Age of Innocence</td>\n",
       "      <td>Chapters 7-9</td>\n",
       "      <td>Mrs. Henry van der Luyden listened in silence...</td>\n",
       "    </tr>\n",
       "    <tr>\n",
       "      <th>3</th>\n",
       "      <td>The Age of Innocence: Novel Summary: Chapters ...</td>\n",
       "      <td>Summary Archer tells May about his having se...</td>\n",
       "      <td>The Age of Innocence</td>\n",
       "      <td>Chapters 10-12</td>\n",
       "      <td>The Countess Olenska had said \"after five\"; a...</td>\n",
       "    </tr>\n",
       "    <tr>\n",
       "      <th>4</th>\n",
       "      <td>The Age of Innocence: Novel Summary: Chapters ...</td>\n",
       "      <td>Summary At the theatre, Archer is moved by a...</td>\n",
       "      <td>The Age of Innocence</td>\n",
       "      <td>Chapters 13-15</td>\n",
       "      <td>It was a crowded night at Wallack's theatre. ...</td>\n",
       "    </tr>\n",
       "  </tbody>\n",
       "</table>\n",
       "</div>"
      ],
      "text/plain": [
       "                                       chapter_title  \\\n",
       "0  The Age of Innocence: Novel Summary: Chapters 1-3   \n",
       "1  The Age of Innocence: Novel Summary: Chapters 4-6   \n",
       "2  The Age of Innocence: Novel Summary: Chapters 7-9   \n",
       "3  The Age of Innocence: Novel Summary: Chapters ...   \n",
       "4  The Age of Innocence: Novel Summary: Chapters ...   \n",
       "\n",
       "                                     chapter_summary            book_title  \\\n",
       "0       Summary The story opens at the opera in N...  The Age of Innocence   \n",
       "1    Summary Archer and May begin their round of ...  The Age of Innocence   \n",
       "2    Summary Mrs Archer and her son call on the v...  The Age of Innocence   \n",
       "3    Summary Archer tells May about his having se...  The Age of Innocence   \n",
       "4    Summary At the theatre, Archer is moved by a...  The Age of Innocence   \n",
       "\n",
       "         chapters                                       chapter_text  \n",
       "0    Chapters 1-3   byEdith Wharton Etext prepared by JudithBoss,...  \n",
       "1    Chapters 4-6   In the course of the next day the first of th...  \n",
       "2    Chapters 7-9   Mrs. Henry van der Luyden listened in silence...  \n",
       "3  Chapters 10-12   The Countess Olenska had said \"after five\"; a...  \n",
       "4  Chapters 13-15   It was a crowded night at Wallack's theatre. ...  "
      ]
     },
     "execution_count": 9,
     "metadata": {},
     "output_type": "execute_result"
    }
   ],
   "source": [
    "df.head()"
   ]
  },
  {
   "cell_type": "markdown",
   "metadata": {},
   "source": [
    "## Remove 'summary' from chapter summaries"
   ]
  },
  {
   "cell_type": "code",
   "execution_count": 10,
   "metadata": {},
   "outputs": [],
   "source": [
    "for i in df.index:\n",
    "    if 'Summary' in df.iloc[i]['chapter_summary']:\n",
    "        df.iloc[i]['chapter_summary'] = df.iloc[i]['chapter_summary'].replace('Summary', ' ')"
   ]
  },
  {
   "cell_type": "code",
   "execution_count": 11,
   "metadata": {},
   "outputs": [
    {
     "data": {
      "text/html": [
       "<div>\n",
       "<style scoped>\n",
       "    .dataframe tbody tr th:only-of-type {\n",
       "        vertical-align: middle;\n",
       "    }\n",
       "\n",
       "    .dataframe tbody tr th {\n",
       "        vertical-align: top;\n",
       "    }\n",
       "\n",
       "    .dataframe thead th {\n",
       "        text-align: right;\n",
       "    }\n",
       "</style>\n",
       "<table border=\"1\" class=\"dataframe\">\n",
       "  <thead>\n",
       "    <tr style=\"text-align: right;\">\n",
       "      <th></th>\n",
       "      <th>chapter_title</th>\n",
       "      <th>chapter_summary</th>\n",
       "      <th>book_title</th>\n",
       "      <th>chapters</th>\n",
       "      <th>chapter_text</th>\n",
       "    </tr>\n",
       "  </thead>\n",
       "  <tbody>\n",
       "    <tr>\n",
       "      <th>0</th>\n",
       "      <td>The Age of Innocence: Novel Summary: Chapters 1-3</td>\n",
       "      <td>The story opens at the opera in New Yor...</td>\n",
       "      <td>The Age of Innocence</td>\n",
       "      <td>Chapters 1-3</td>\n",
       "      <td>byEdith Wharton Etext prepared by JudithBoss,...</td>\n",
       "    </tr>\n",
       "    <tr>\n",
       "      <th>1</th>\n",
       "      <td>The Age of Innocence: Novel Summary: Chapters 4-6</td>\n",
       "      <td>Archer and May begin their round of betrot...</td>\n",
       "      <td>The Age of Innocence</td>\n",
       "      <td>Chapters 4-6</td>\n",
       "      <td>In the course of the next day the first of th...</td>\n",
       "    </tr>\n",
       "    <tr>\n",
       "      <th>2</th>\n",
       "      <td>The Age of Innocence: Novel Summary: Chapters 7-9</td>\n",
       "      <td>Mrs Archer and her son call on the van der...</td>\n",
       "      <td>The Age of Innocence</td>\n",
       "      <td>Chapters 7-9</td>\n",
       "      <td>Mrs. Henry van der Luyden listened in silence...</td>\n",
       "    </tr>\n",
       "    <tr>\n",
       "      <th>3</th>\n",
       "      <td>The Age of Innocence: Novel Summary: Chapters ...</td>\n",
       "      <td>Archer tells May about his having sent ros...</td>\n",
       "      <td>The Age of Innocence</td>\n",
       "      <td>Chapters 10-12</td>\n",
       "      <td>The Countess Olenska had said \"after five\"; a...</td>\n",
       "    </tr>\n",
       "    <tr>\n",
       "      <th>4</th>\n",
       "      <td>The Age of Innocence: Novel Summary: Chapters ...</td>\n",
       "      <td>At the theatre, Archer is moved by an inci...</td>\n",
       "      <td>The Age of Innocence</td>\n",
       "      <td>Chapters 13-15</td>\n",
       "      <td>It was a crowded night at Wallack's theatre. ...</td>\n",
       "    </tr>\n",
       "  </tbody>\n",
       "</table>\n",
       "</div>"
      ],
      "text/plain": [
       "                                       chapter_title  \\\n",
       "0  The Age of Innocence: Novel Summary: Chapters 1-3   \n",
       "1  The Age of Innocence: Novel Summary: Chapters 4-6   \n",
       "2  The Age of Innocence: Novel Summary: Chapters 7-9   \n",
       "3  The Age of Innocence: Novel Summary: Chapters ...   \n",
       "4  The Age of Innocence: Novel Summary: Chapters ...   \n",
       "\n",
       "                                     chapter_summary            book_title  \\\n",
       "0         The story opens at the opera in New Yor...  The Age of Innocence   \n",
       "1      Archer and May begin their round of betrot...  The Age of Innocence   \n",
       "2      Mrs Archer and her son call on the van der...  The Age of Innocence   \n",
       "3      Archer tells May about his having sent ros...  The Age of Innocence   \n",
       "4      At the theatre, Archer is moved by an inci...  The Age of Innocence   \n",
       "\n",
       "         chapters                                       chapter_text  \n",
       "0    Chapters 1-3   byEdith Wharton Etext prepared by JudithBoss,...  \n",
       "1    Chapters 4-6   In the course of the next day the first of th...  \n",
       "2    Chapters 7-9   Mrs. Henry van der Luyden listened in silence...  \n",
       "3  Chapters 10-12   The Countess Olenska had said \"after five\"; a...  \n",
       "4  Chapters 13-15   It was a crowded night at Wallack's theatre. ...  "
      ]
     },
     "execution_count": 11,
     "metadata": {},
     "output_type": "execute_result"
    }
   ],
   "source": [
    "df.head()"
   ]
  },
  {
   "cell_type": "code",
   "execution_count": 12,
   "metadata": {},
   "outputs": [
    {
     "data": {
      "text/plain": [
       "0            The story opens at the opera in New Yor...\n",
       "1         Archer and May begin their round of betrot...\n",
       "2         Mrs Archer and her son call on the van der...\n",
       "3         Archer tells May about his having sent ros...\n",
       "4         At the theatre, Archer is moved by an inci...\n",
       "5         Archer arrives at St Augustine, impatient ...\n",
       "6         Under the eyes of New York society, Archer...\n",
       "7         Mr and Mrs Emerson Sillerton invite the We...\n",
       "8         As he leaves Boston, Archer feels tranquil...\n",
       "9         Archer sends a telegram to Ellen asking he...\n",
       "10        Archer is stunned at Mrs Mingott's news. H...\n",
       "11        It is twenty-five years after the Archers'...\n",
       "12    Chapter 1: Chapter one introduces Mr. and Mrs....\n",
       "13    Chapter 5: Sir William and Lady Lucas are furt...\n",
       "14    Chapter 9: Mrs. Bingley and her two youngest d...\n",
       "15    Chapter 13: Mr. Bennet reveals that he has rec...\n",
       "16    Chapter 17: The next day Elizabeth tells Jane ...\n",
       "17    Chapter 21: Mr. Collins begins to ignore Eliza...\n",
       "18    Chapter 25: Mr. Collins returns to his parish,...\n",
       "19    Chapter 29: The next day Collins talks about o...\n",
       "20    Chapter 33: More than once Elizabeth has unexp...\n",
       "21    Chapter 37: Darcy and Fitzwilliam leave Rosing...\n",
       "22    Chapter 41: When the regiment leaves Meryton K...\n",
       "23    Chapter 45: Elizabeth is now convinced that Mi...\n",
       "24    Chapter 49: Two days after Mr. Bennet returns,...\n",
       "25    Chapter 53: Lydia and Wickham leave Longbourn ...\n",
       "26    Chapter 57: When Lady Catherine is gone, Eliza...\n",
       "27     : Mrs. Bennet is happy on the day that she ma...\n",
       "28    Act 1, Scene 1:   in his old age decides it is...\n",
       "29       Act 1, Scene 3: Goneril meets with the stew...\n",
       "30       Act 1, Scene 5: Lear sends Kent, still in d...\n",
       "31       Act 2, Scene 2: Kent and Oswald, messengers...\n",
       "32       Act 2, Scene 4: Lear arrives at Gloucester ...\n",
       "33       Act 3, Scene 2: Lear and the Fool are caugh...\n",
       "34       Act 3, Scene 4: Lear and his men reach the ...\n",
       "35       Act 3, Scene 6: When the men in the storm a...\n",
       "36       Act 4, Scene 1: Gloucester is brought out o...\n",
       "37    Act 4, Scene 3: Kent and the Gentleman meet in...\n",
       "38       Act 4, Scene 5: Oswald carries a message ba...\n",
       "39       Act 4, Scene 7: Back in the French camp, Co...\n",
       "40       Act 5, Scene 2: Edgar drags his father alon...\n",
       "41    Book1 Chapters 1-4    Book the First: Sowing C...\n",
       "42       Book the First: Sowing Chapters 5-8 Coketow...\n",
       "43    Book1 Chapters 9-12    Book the First: Sowing ...\n",
       "44       Book the First: Sowing Chapters 13-16 Steph...\n",
       "45    Book2 Chapters 1-4    Book the Second: Reaping...\n",
       "46       Book the Second: Reaping Chapters 5-8 Bound...\n",
       "47    Book2 Chapters 9-12    Book the Second: Reapin...\n",
       "48       Book the Third: Garnering Chapters 1-4 In t...\n",
       "49    Book3 Chapters 5-9    Book the Third: Garnerin...\n",
       "Name: chapter_summary, dtype: object"
      ]
     },
     "execution_count": 12,
     "metadata": {},
     "output_type": "execute_result"
    }
   ],
   "source": [
    "df['chapter_summary'][:50]"
   ]
  },
  {
   "cell_type": "markdown",
   "metadata": {},
   "source": [
    "## Remove other headers from chapter summaries"
   ]
  },
  {
   "cell_type": "code",
   "execution_count": 13,
   "metadata": {},
   "outputs": [],
   "source": [
    "# 'Chapter n:'\n",
    "\n",
    "for i in df.index:\n",
    "    for n in range(1,80):\n",
    "        if f'Chapter {n}:' in df.iloc[i]['chapter_summary']:\n",
    "            df.iloc[i]['chapter_summary'] = df.iloc[i]['chapter_summary'].replace(f'Chapter {n}:', ' ')"
   ]
  },
  {
   "cell_type": "code",
   "execution_count": 14,
   "metadata": {},
   "outputs": [],
   "source": [
    "# 'Chapters n-m'\n",
    "\n",
    "for i in df.index:\n",
    "    for n in range(1,80):\n",
    "        for m in range(1,80):\n",
    "            if f'Chapters {n}-{m}' in df.iloc[i]['chapter_summary']:\n",
    "                df.iloc[i]['chapter_summary'] = df.iloc[i]['chapter_summary'].replace(f'Chapters {n}-{m}', ' ')"
   ]
  },
  {
   "cell_type": "code",
   "execution_count": 15,
   "metadata": {},
   "outputs": [],
   "source": [
    "# 'Act n, Scene m:'\n",
    "\n",
    "for i in df.index:\n",
    "    for n in range(1,8):\n",
    "        for m in range(1,8):\n",
    "            if f'Act {n}, Scene {m}:' in df.iloc[i]['chapter_summary']:\n",
    "                df.iloc[i]['chapter_summary'] = df.iloc[i]['chapter_summary'].replace(f'Act {n}, Scene {m}:', ' ')"
   ]
  },
  {
   "cell_type": "code",
   "execution_count": 16,
   "metadata": {},
   "outputs": [],
   "source": [
    "# 'BookN'\n",
    "\n",
    "for i in df.index:\n",
    "    for n in range(1,6):\n",
    "        if f'Book{n}' in df.iloc[i]['chapter_summary']:\n",
    "            df.iloc[i]['chapter_summary'] = df.iloc[i]['chapter_summary'].replace(f'Book{n}', ' ')"
   ]
  },
  {
   "cell_type": "code",
   "execution_count": 17,
   "metadata": {},
   "outputs": [],
   "source": [
    "# 'Book' - possible that word is actual summaries (not in title), but going to assume that chances that it appears frequently enough with the \n",
    "# capital 'B' to have a large impact are low\n",
    "\n",
    "for i in df.index:\n",
    "    if 'Book' in df.iloc[i]['chapter_summary']:\n",
    "        df.iloc[i]['chapter_summary'] = df.iloc[i]['chapter_summary'].replace('Book', ' ')"
   ]
  },
  {
   "cell_type": "code",
   "execution_count": 18,
   "metadata": {},
   "outputs": [],
   "source": [
    "#These show up infrequently - likely only one book each\n",
    "\n",
    "more_to_replace = [ 'Prelude', 'Canto', 'the First', 'the Second', 'the Third']\n",
    "for i in df.index:\n",
    "    for word in more_to_replace:\n",
    "        if word in df.iloc[i]['chapter_summary']:\n",
    "            df.iloc[i]['chapter_summary'] = df.iloc[i]['chapter_summary'].replace(word, ' ')"
   ]
  },
  {
   "cell_type": "code",
   "execution_count": 19,
   "metadata": {},
   "outputs": [],
   "source": [
    "# 'ChapterN'\n",
    "\n",
    "for i in df.index:\n",
    "    for n in range(1,80):\n",
    "        if f'Chapter{n}' in df.iloc[i]['chapter_summary']:\n",
    "            df.iloc[i]['chapter_summary'] = df.iloc[i]['chapter_summary'].replace(f'Chapter{n}', ' ')"
   ]
  },
  {
   "cell_type": "code",
   "execution_count": 20,
   "metadata": {},
   "outputs": [],
   "source": [
    "# ChaptersN-M\n",
    "\n",
    "for i in df.index:\n",
    "    for n in range(1,80):\n",
    "        for m in range(1,80):\n",
    "            if f'Chapters{n}-{m}' in df.iloc[i]['chapter_summary']:\n",
    "                df.iloc[i]['chapter_summary'] = df.iloc[i]['chapter_summary'].replace(f'Chapters{n}-{m}', ' ')"
   ]
  },
  {
   "cell_type": "code",
   "execution_count": 22,
   "metadata": {},
   "outputs": [],
   "source": [
    "# 'Part n'\n",
    "for i in df.index:\n",
    "    for n in range(1,10):\n",
    "        if f'Part {n},' in df.iloc[i]['chapter_summary']:    #with comma\n",
    "            df.iloc[i]['chapter_summary'] = df.iloc[i]['chapter_summary'].replace(f'Part {n},', ' ')\n",
    "        if f'Part {n}' in df.iloc[i]['chapter_summary']:  #without comma\n",
    "            df.iloc[i]['chapter_summary'] = df.iloc[i]['chapter_summary'].replace(f'Part {n}', ' ')"
   ]
  },
  {
   "cell_type": "markdown",
   "metadata": {},
   "source": [
    "## Remove extra spaces added by other replacements from chapter summaries"
   ]
  },
  {
   "cell_type": "code",
   "execution_count": 23,
   "metadata": {},
   "outputs": [],
   "source": [
    "spaces_to_replace = ['  ', '   ', '    ', '     ']   # 2 spaces, 3 spaces, 4 spaces, 5 spaces\n",
    "\n",
    "for i in df.index:\n",
    "    for space in spaces_to_replace:\n",
    "        if space in df.iloc[i]['chapter_summary']:\n",
    "            df.iloc[i]['chapter_summary'] = df.iloc[i]['chapter_summary'].replace(space, ' ')  # replace with one space"
   ]
  },
  {
   "cell_type": "markdown",
   "metadata": {},
   "source": [
    "# Export dataset to cleaned data folder"
   ]
  },
  {
   "cell_type": "code",
   "execution_count": 44,
   "metadata": {},
   "outputs": [],
   "source": [
    "df.to_csv('./data/cleaned_data/cleaned_summaries_and_texts.csv', index=False)"
   ]
  },
  {
   "cell_type": "markdown",
   "metadata": {},
   "source": [
    "# EDA"
   ]
  },
  {
   "cell_type": "markdown",
   "metadata": {},
   "source": [
    "## Word Counts"
   ]
  },
  {
   "cell_type": "code",
   "execution_count": 24,
   "metadata": {},
   "outputs": [],
   "source": [
    "summary_word_cts = []\n",
    "\n",
    "for i in df.index:\n",
    "  summary_word_cts.append(len(df.iloc[i]['chapter_summary']))\n"
   ]
  },
  {
   "cell_type": "code",
   "execution_count": 25,
   "metadata": {},
   "outputs": [
    {
     "data": {
      "image/png": "[encoded data removed]",
      "text/plain": [
       "<Figure size 1080x720 with 1 Axes>"
      ]
     },
     "metadata": {
      "needs_background": "light"
     },
     "output_type": "display_data"
    }
   ],
   "source": [
    "plt.figure(figsize=(15,10))\n",
    "plt.xlabel('Word Count')\n",
    "plt.ylabel('Number of Summaries')\n",
    "plt.title('Word Counts of Chapter Summaries')\n",
    "sns.histplot(summary_word_cts);"
   ]
  },
  {
   "cell_type": "code",
   "execution_count": 26,
   "metadata": {},
   "outputs": [],
   "source": [
    "chapter_word_cts = []\n",
    "\n",
    "for i in df.index:\n",
    "  chapter_word_cts.append(len(df.iloc[i]['chapter_text']))"
   ]
  },
  {
   "cell_type": "code",
   "execution_count": 27,
   "metadata": {},
   "outputs": [
    {
     "data": {
      "image/png": "[encoded data removed]",
      "text/plain": [
       "<Figure size 1080x720 with 1 Axes>"
      ]
     },
     "metadata": {
      "needs_background": "light"
     },
     "output_type": "display_data"
    }
   ],
   "source": [
    "plt.figure(figsize=(15,10))\n",
    "plt.xlabel('Word Count')\n",
    "plt.ylabel('Number of Chapters')\n",
    "plt.title('Word Counts of Chapter Texts')\n",
    "sns.histplot(chapter_word_cts);"
   ]
  },
  {
   "cell_type": "code",
   "execution_count": 28,
   "metadata": {},
   "outputs": [
    {
     "data": {
      "image/png": "[encoded data removed]",
      "text/plain": [
       "<Figure size 1080x720 with 1 Axes>"
      ]
     },
     "metadata": {
      "needs_background": "light"
     },
     "output_type": "display_data"
    }
   ],
   "source": [
    "plt.figure(figsize=(15,10))\n",
    "plt.xlabel('Word Count')\n",
    "plt.ylabel('Number of Chapters')\n",
    "plt.title('Word Counts of Chapter Texts')\n",
    "plt.xlim(0, 200000)\n",
    "sns.histplot(chapter_word_cts);"
   ]
  },
  {
   "cell_type": "markdown",
   "metadata": {},
   "source": [
    "## Most Common Words"
   ]
  },
  {
   "cell_type": "markdown",
   "metadata": {},
   "source": [
    "### Most common words in all chapter summaries (excluding very common words likely to be found in all summaries/texts)"
   ]
  },
  {
   "cell_type": "code",
   "execution_count": 39,
   "metadata": {},
   "outputs": [
    {
     "data": {
      "image/png": "[encoded data removed]",
      "text/plain": [
       "<Figure size 576x864 with 1 Axes>"
      ]
     },
     "metadata": {
      "needs_background": "light"
     },
     "output_type": "display_data"
    }
   ],
   "source": [
    "sum_texts = []\n",
    "for i in df.index:\n",
    "    text = df.iloc[i]['chapter_summary']\n",
    "    text_plain = text.lower().replace(',', '').replace('.', '').replace('!', '')\n",
    "    words = text_plain.split(' ')\n",
    "    stop_words = [\n",
    "        'the', 'to', 'is', 'of', 'and', 'in', 'her', 'him', 'his', 'hers', 'my', 'this', 'that', 'them', 'they', 'a', 'in', 'he', 'she', 'not', 'with', 'at', 'as', 'but', 'by', 'on',\n",
    "        'was', 'it', 'from', 'an', 'who', 'be', 'has', 'which', 'what', 'are', 'had', 'when', 'for', 'their', '', ' ', 'will', 'have', 'about', 'been', 'says', 'so', 'then', 'if', \n",
    "        'would', 'does', 'also', 'there', 'into', 'up', 'out', 'because', 'where', 'how', 'or'\n",
    "        ]\n",
    "    text_words = [word for word in words if not word in stop_words]\n",
    "    sum_texts = sum_texts + text_words\n",
    "sum_word_counts = Counter(sum_texts).most_common(30)\n",
    "\n",
    "sum_common_words = []\n",
    "sum_counts = []\n",
    "for w in sum_word_counts:\n",
    "    sum_common_words.append(w[0])\n",
    "    sum_counts.append(w[1])\n",
    "\n",
    "plt.figure(figsize=(8,12))\n",
    "sns.barplot(y=sum_common_words, x=sum_counts, orient='h')\n",
    "# plt.xticks(rotation=45)\n",
    "plt.ylabel('30 Most Common Words')\n",
    "plt.xlabel('Count')\n",
    "plt.title('Most Common Words in Chapter Summaries');"
   ]
  },
  {
   "cell_type": "code",
   "execution_count": 40,
   "metadata": {},
   "outputs": [
    {
     "data": {
      "image/png": "[encoded data removed]",
      "text/plain": [
       "<Figure size 576x864 with 1 Axes>"
      ]
     },
     "metadata": {
      "needs_background": "light"
     },
     "output_type": "display_data"
    }
   ],
   "source": [
    "sum_texts = []\n",
    "for i in df.index:\n",
    "    text = df.iloc[i]['chapter_summary']\n",
    "    text_plain = text.lower().replace(',', '').replace('.', '').replace('!', '')\n",
    "    words = text_plain.split(' ')\n",
    "    stop_words = [\n",
    "        'the', 'to', 'is', 'of', 'and', 'in', 'her', 'him', 'his', 'hers', 'my', 'this', 'that', 'them', 'they', 'a', 'in', 'he', 'she', 'not', 'with', 'at', 'as', 'but', 'by', 'on',\n",
    "        'was', 'it', 'from', 'an', 'who', 'be', 'has', 'which', 'what', 'are', 'had', 'when', 'for', 'their', '', ' ', 'will', 'have', 'about', 'been', 'says', 'so', 'then', 'if', \n",
    "        'would', 'does', 'also', 'there', 'into', 'up', 'out', 'because', 'where', 'how', 'or'\n",
    "        ]\n",
    "    text_words = [word for word in words if not word in stop_words]\n",
    "    sum_texts = sum_texts + text_words\n",
    "sum_word_counts = Counter(sum_texts).most_common(15)\n",
    "\n",
    "sum_common_words = []\n",
    "sum_counts = []\n",
    "for w in sum_word_counts:\n",
    "    sum_common_words.append(w[0])\n",
    "    sum_counts.append(w[1])\n",
    "\n",
    "plt.figure(figsize=(8,12))\n",
    "sns.barplot(y=sum_common_words, x=sum_counts, orient='h')\n",
    "plt.ylabel('15 Most Common Words')\n",
    "plt.xlabel('Count')\n",
    "plt.title('Most Common Words in Chapter Summaries');"
   ]
  },
  {
   "cell_type": "markdown",
   "metadata": {},
   "source": [
    "### Most common words in all chapter texts (excluding very common words likely to be found in all summaries/texts)"
   ]
  },
  {
   "cell_type": "code",
   "execution_count": 41,
   "metadata": {},
   "outputs": [
    {
     "data": {
      "image/png": "[encoded data removed]",
      "text/plain": [
       "<Figure size 576x864 with 1 Axes>"
      ]
     },
     "metadata": {
      "needs_background": "light"
     },
     "output_type": "display_data"
    }
   ],
   "source": [
    "chap_texts = []\n",
    "for i in df.index:\n",
    "    text = df.iloc[i]['chapter_text']\n",
    "    text_plain = text.lower().replace(',', '').replace('.', '').replace('!', '')\n",
    "    words = text_plain.split(' ')\n",
    "    stop_words = [\n",
    "        'the', 'to', 'is', 'of', 'and', 'in', 'her', 'him', 'his', 'hers', 'my', 'this', 'that', 'them', 'they', 'a', 'in', 'he', 'she', 'not', 'with', 'at', 'as', 'but', 'by', 'on',\n",
    "        'was', 'it', 'from', 'an', 'who', 'be', 'has', 'which', 'what', 'are', 'had', 'when', 'for', 'their', '', ' ', 'will', 'have', 'about', 'been', 'says', 'so', 'then', 'if', \n",
    "        'would', 'does', 'also', 'there', 'into', 'up', 'out', 'because', 'where', 'how', 'or'\n",
    "        ]\n",
    "    text_words = [word for word in words if not word in stop_words]\n",
    "    chap_texts = chap_texts + text_words\n",
    "chap_word_counts = Counter(chap_texts).most_common(30)\n",
    "\n",
    "chap_common_words = []\n",
    "chap_counts = []\n",
    "for w in chap_word_counts:\n",
    "    chap_common_words.append(w[0])\n",
    "    chap_counts.append(w[1])\n",
    "\n",
    "plt.figure(figsize=(8,12))\n",
    "sns.barplot(y=chap_common_words, x=chap_counts)\n",
    "plt.ylabel('30 Most Common Words')\n",
    "plt.xlabel('Count')\n",
    "plt.title('Most Common Words in Chapter Texts');"
   ]
  },
  {
   "cell_type": "markdown",
   "metadata": {},
   "source": [
    "#### Most common words in chapter texts with more common stop words excluded"
   ]
  },
  {
   "cell_type": "code",
   "execution_count": 42,
   "metadata": {},
   "outputs": [
    {
     "data": {
      "image/png": "[encoded data removed]",
      "text/plain": [
       "<Figure size 576x864 with 1 Axes>"
      ]
     },
     "metadata": {
      "needs_background": "light"
     },
     "output_type": "display_data"
    }
   ],
   "source": [
    "chap_texts = []\n",
    "for i in df.index:\n",
    "    text = df.iloc[i]['chapter_text']\n",
    "    text_plain = text.lower().replace(',', '').replace('.', '').replace('!', '')\n",
    "    words = text_plain.split(' ')\n",
    "    stop_words = [\n",
    "        'the', 'to', 'is', 'of', 'and', 'in', 'her', 'him', 'his', 'hers', 'my', 'this', 'that', 'them', 'they', 'a', 'in', 'he', 'she', 'not', 'with', 'at', 'as', 'but', 'by', 'on',\n",
    "        'was', 'it', 'from', 'an', 'who', 'be', 'has', 'which', 'what', 'are', 'had', 'when', 'for', 'their', '', ' ', 'will', 'have', 'about', 'been', 'says', 'so', 'then', 'if', \n",
    "        'would', 'does', 'also', 'there', 'into', 'up', 'out', 'because', 'where', 'how', 'or', 'i', 'you', 'me', 'all', 'said', 'were', 'your', 'we', 'do', 'could', 'very', 'some', 'did',\n",
    "        'than', '\"i', 'come', 'more', 'like', 'made', 'any', 'before', 'am', 'should', 'himself', 'herself', 'after', 'over', 'go', 'these', 'say', 'says', 'went', 'can'\n",
    "        ]\n",
    "    text_words = [word for word in words if not word in stop_words]\n",
    "    chap_texts = chap_texts + text_words\n",
    "chap_word_counts = Counter(chap_texts).most_common(30)\n",
    "\n",
    "chap_common_words = []\n",
    "chap_counts = []\n",
    "for w in chap_word_counts:\n",
    "    chap_common_words.append(w[0])\n",
    "    chap_counts.append(w[1])\n",
    "\n",
    "plt.figure(figsize=(8,12))\n",
    "sns.barplot(y=chap_common_words, x=chap_counts)\n",
    "plt.ylabel('30 Most Common Words')\n",
    "plt.xlabel('Count')\n",
    "plt.title('Most Common Words in Chapter Texts');"
   ]
  },
  {
   "cell_type": "code",
   "execution_count": 43,
   "metadata": {},
   "outputs": [
    {
     "data": {
      "image/png": "[encoded data removed]",
      "text/plain": [
       "<Figure size 576x864 with 1 Axes>"
      ]
     },
     "metadata": {
      "needs_background": "light"
     },
     "output_type": "display_data"
    }
   ],
   "source": [
    "chap_texts = []\n",
    "for i in df.index:\n",
    "    text = df.iloc[i]['chapter_text']\n",
    "    text_plain = text.lower().replace(',', '').replace('.', '').replace('!', '')\n",
    "    words = text_plain.split(' ')\n",
    "    stop_words = [\n",
    "        'the', 'to', 'is', 'of', 'and', 'in', 'her', 'him', 'his', 'hers', 'my', 'this', 'that', 'them', 'they', 'a', 'in', 'he', 'she', 'not', 'with', 'at', 'as', 'but', 'by', 'on',\n",
    "        'was', 'it', 'from', 'an', 'who', 'be', 'has', 'which', 'what', 'are', 'had', 'when', 'for', 'their', '', ' ', 'will', 'have', 'about', 'been', 'says', 'so', 'then', 'if', \n",
    "        'would', 'does', 'also', 'there', 'into', 'up', 'out', 'because', 'where', 'how', 'or', 'i', 'you', 'me', 'all', 'said', 'were', 'your', 'we', 'do', 'could', 'very', 'some', 'did',\n",
    "        'than', '\"i', 'come', 'more', 'like', 'made', 'any', 'before', 'am', 'should', 'himself', 'herself', 'after', 'over', 'go', 'these', 'say', 'says', 'went', 'can'\n",
    "        ]\n",
    "    text_words = [word for word in words if not word in stop_words]\n",
    "    chap_texts = chap_texts + text_words\n",
    "chap_word_counts = Counter(chap_texts).most_common(15)\n",
    "\n",
    "chap_common_words = []\n",
    "chap_counts = []\n",
    "for w in chap_word_counts:\n",
    "    chap_common_words.append(w[0])\n",
    "    chap_counts.append(w[1])\n",
    "\n",
    "plt.figure(figsize=(8,12))\n",
    "sns.barplot(y=chap_common_words, x=chap_counts)\n",
    "plt.ylabel('15 Most Common Words')\n",
    "plt.xlabel('Count')\n",
    "plt.title('Most Common Words in Chapter Texts');"
   ]
  }
 ],
 "metadata": {
  "interpreter": {
   "hash": "c90bd41498bd2909e03bc4813e3fc894d3d64fd4c32b3cf57272642761dbfb5b"
  },
  "kernelspec": {
   "display_name": "Python 3.9.7 ('base')",
   "language": "python",
   "name": "python3"
  },
  "language_info": {
   "codemirror_mode": {
    "name": "ipython",
    "version": 3
   },
   "file_extension": ".py",
   "mimetype": "text/x-python",
   "name": "python",
   "nbconvert_exporter": "python",
   "pygments_lexer": "ipython3",
   "version": "3.9.7"
  },
  "orig_nbformat": 4
 },
 "nbformat": 4,
 "nbformat_minor": 2
}
