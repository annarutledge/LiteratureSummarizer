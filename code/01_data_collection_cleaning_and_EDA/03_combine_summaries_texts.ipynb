{
 "cells": [
  {
   "cell_type": "markdown",
   "metadata": {},
   "source": [
    "# Imports"
   ]
  },
  {
   "cell_type": "code",
   "execution_count": 1,
   "metadata": {},
   "outputs": [],
   "source": [
    "import pandas as pd\n",
    "import numpy as np"
   ]
  },
  {
   "cell_type": "markdown",
   "metadata": {},
   "source": [
    "# Read in data"
   ]
  },
  {
   "cell_type": "code",
   "execution_count": 2,
   "metadata": {},
   "outputs": [],
   "source": [
    "df_summaries_texts = pd.read_csv('./data/working_data/summaries_and_full_texts.csv')"
   ]
  },
  {
   "cell_type": "code",
   "execution_count": 3,
   "metadata": {},
   "outputs": [
    {
     "data": {
      "text/html": [
       "<div>\n",
       "<style scoped>\n",
       "    .dataframe tbody tr th:only-of-type {\n",
       "        vertical-align: middle;\n",
       "    }\n",
       "\n",
       "    .dataframe tbody tr th {\n",
       "        vertical-align: top;\n",
       "    }\n",
       "\n",
       "    .dataframe thead th {\n",
       "        text-align: right;\n",
       "    }\n",
       "</style>\n",
       "<table border=\"1\" class=\"dataframe\">\n",
       "  <thead>\n",
       "    <tr style=\"text-align: right;\">\n",
       "      <th></th>\n",
       "      <th>chapter_title</th>\n",
       "      <th>chapter_summary</th>\n",
       "      <th>book_title</th>\n",
       "      <th>chapters</th>\n",
       "      <th>full_text</th>\n",
       "    </tr>\n",
       "  </thead>\n",
       "  <tbody>\n",
       "    <tr>\n",
       "      <th>0</th>\n",
       "      <td>Candide: Summary: Chapters 1-2</td>\n",
       "      <td>Chapter 1\\n Voltaire begins his picaresque tal...</td>\n",
       "      <td>Candide</td>\n",
       "      <td>Candide: Summary: Chapters 1-2</td>\n",
       "      <td>9    CandidebyVoltaire\\r\\n\\r\\neditions, all of...</td>\n",
       "    </tr>\n",
       "    <tr>\n",
       "      <th>1</th>\n",
       "      <td>Candide: Novel Summary: Chapters 1-2</td>\n",
       "      <td>Chapter 1: Voltaire begins his picaresque tale...</td>\n",
       "      <td>Candide</td>\n",
       "      <td>Chapters 1-2</td>\n",
       "      <td>9    CandidebyVoltaire\\r\\n\\r\\neditions, all of...</td>\n",
       "    </tr>\n",
       "    <tr>\n",
       "      <th>2</th>\n",
       "      <td>Candide: Novel Summary: Chapters 3-4</td>\n",
       "      <td>Chapter 3\\nChapter 3 takes place in the midst ...</td>\n",
       "      <td>Candide</td>\n",
       "      <td>Chapters 3-4</td>\n",
       "      <td>9    CandidebyVoltaire\\r\\n\\r\\neditions, all of...</td>\n",
       "    </tr>\n",
       "    <tr>\n",
       "      <th>3</th>\n",
       "      <td>Candide: Novel Summary: Chapters 5-6</td>\n",
       "      <td>Chapter 5\\nTraveling to Lisbon on a business t...</td>\n",
       "      <td>Candide</td>\n",
       "      <td>Chapters 5-6</td>\n",
       "      <td>9    CandidebyVoltaire\\r\\n\\r\\neditions, all of...</td>\n",
       "    </tr>\n",
       "    <tr>\n",
       "      <th>4</th>\n",
       "      <td>Candide: Novel Summary: Chapters 7-8</td>\n",
       "      <td>Chapter 7\\nThe strange old woman takes Candide...</td>\n",
       "      <td>Candide</td>\n",
       "      <td>Chapters 7-8</td>\n",
       "      <td>9    CandidebyVoltaire\\r\\n\\r\\neditions, all of...</td>\n",
       "    </tr>\n",
       "  </tbody>\n",
       "</table>\n",
       "</div>"
      ],
      "text/plain": [
       "                          chapter_title  \\\n",
       "0        Candide: Summary: Chapters 1-2   \n",
       "1  Candide: Novel Summary: Chapters 1-2   \n",
       "2  Candide: Novel Summary: Chapters 3-4   \n",
       "3  Candide: Novel Summary: Chapters 5-6   \n",
       "4  Candide: Novel Summary: Chapters 7-8   \n",
       "\n",
       "                                     chapter_summary book_title  \\\n",
       "0  Chapter 1\\n Voltaire begins his picaresque tal...    Candide   \n",
       "1  Chapter 1: Voltaire begins his picaresque tale...    Candide   \n",
       "2  Chapter 3\\nChapter 3 takes place in the midst ...    Candide   \n",
       "3  Chapter 5\\nTraveling to Lisbon on a business t...    Candide   \n",
       "4  Chapter 7\\nThe strange old woman takes Candide...    Candide   \n",
       "\n",
       "                         chapters  \\\n",
       "0  Candide: Summary: Chapters 1-2   \n",
       "1                    Chapters 1-2   \n",
       "2                    Chapters 3-4   \n",
       "3                    Chapters 5-6   \n",
       "4                    Chapters 7-8   \n",
       "\n",
       "                                           full_text  \n",
       "0  9    CandidebyVoltaire\\r\\n\\r\\neditions, all of...  \n",
       "1  9    CandidebyVoltaire\\r\\n\\r\\neditions, all of...  \n",
       "2  9    CandidebyVoltaire\\r\\n\\r\\neditions, all of...  \n",
       "3  9    CandidebyVoltaire\\r\\n\\r\\neditions, all of...  \n",
       "4  9    CandidebyVoltaire\\r\\n\\r\\neditions, all of...  "
      ]
     },
     "execution_count": 3,
     "metadata": {},
     "output_type": "execute_result"
    }
   ],
   "source": [
    "df_summaries_texts.head()"
   ]
  },
  {
   "cell_type": "markdown",
   "metadata": {},
   "source": [
    "# Goal: to divide full texts of books into chapters corresponding with summaries to create dataset to be used in models"
   ]
  },
  {
   "cell_type": "markdown",
   "metadata": {},
   "source": [
    "##### Through testing of code for this section, it has become clear that the full texts of books cannot actually be accessed through the 'full_text' column of the previously created 'summaries_and_full_texts.csv', likely due to limits on the amount of data stored and saved in a csv file in this environment. Full texts will be accessed through 'full_texts_filtered.csv'"
   ]
  },
  {
   "cell_type": "markdown",
   "metadata": {},
   "source": [
    "## Save full texts of all books to text files"
   ]
  },
  {
   "cell_type": "markdown",
   "metadata": {},
   "source": [
    "### Read in from df_full_texts_filtered and write to txt"
   ]
  },
  {
   "cell_type": "code",
   "execution_count": 3,
   "metadata": {},
   "outputs": [],
   "source": [
    "#Read in filtered texts data\n",
    "\n",
    "df_full_texts_filtered = pd.read_csv('./data/working_data/book_texts/full_texts_filtered.csv')"
   ]
  },
  {
   "cell_type": "code",
   "execution_count": 4,
   "metadata": {},
   "outputs": [
    {
     "data": {
      "text/html": [
       "<div>\n",
       "<style scoped>\n",
       "    .dataframe tbody tr th:only-of-type {\n",
       "        vertical-align: middle;\n",
       "    }\n",
       "\n",
       "    .dataframe tbody tr th {\n",
       "        vertical-align: top;\n",
       "    }\n",
       "\n",
       "    .dataframe thead th {\n",
       "        text-align: right;\n",
       "    }\n",
       "</style>\n",
       "<table border=\"1\" class=\"dataframe\">\n",
       "  <thead>\n",
       "    <tr style=\"text-align: right;\">\n",
       "      <th></th>\n",
       "      <th>full_text</th>\n",
       "      <th>book_title</th>\n",
       "    </tr>\n",
       "  </thead>\n",
       "  <tbody>\n",
       "    <tr>\n",
       "      <th>0</th>\n",
       "      <td>CandidebyVoltaire\\r\\n\\r\\neditions, all of whic...</td>\n",
       "      <td>Candide</td>\n",
       "    </tr>\n",
       "    <tr>\n",
       "      <th>1</th>\n",
       "      <td>The Age of InnocencebyEdith Wharton\\n\\n\\n\\n\\n\\...</td>\n",
       "      <td>The Age of Innocence</td>\n",
       "    </tr>\n",
       "    <tr>\n",
       "      <th>2</th>\n",
       "      <td>Pride and PrejudicebyJane Austen\\n\\n\\n\\n\\r\\nPr...</td>\n",
       "      <td>Pride and Prejudice</td>\n",
       "    </tr>\n",
       "    <tr>\n",
       "      <th>3</th>\n",
       "      <td>The Complete Works of William Shakespeare The ...</td>\n",
       "      <td>King Lear</td>\n",
       "    </tr>\n",
       "    <tr>\n",
       "      <th>4</th>\n",
       "      <td>Hard TimesbyCharles Dickens*\\n\\n\\n\\n\\n\\r\\nHard...</td>\n",
       "      <td>Hard Times</td>\n",
       "    </tr>\n",
       "  </tbody>\n",
       "</table>\n",
       "</div>"
      ],
      "text/plain": [
       "                                           full_text            book_title\n",
       "0  CandidebyVoltaire\\r\\n\\r\\neditions, all of whic...               Candide\n",
       "1  The Age of InnocencebyEdith Wharton\\n\\n\\n\\n\\n\\...  The Age of Innocence\n",
       "2  Pride and PrejudicebyJane Austen\\n\\n\\n\\n\\r\\nPr...   Pride and Prejudice\n",
       "3  The Complete Works of William Shakespeare The ...             King Lear\n",
       "4  Hard TimesbyCharles Dickens*\\n\\n\\n\\n\\n\\r\\nHard...            Hard Times"
      ]
     },
     "execution_count": 4,
     "metadata": {},
     "output_type": "execute_result"
    }
   ],
   "source": [
    "df_full_texts_filtered.head()"
   ]
  },
  {
   "cell_type": "code",
   "execution_count": 5,
   "metadata": {},
   "outputs": [
    {
     "data": {
      "text/plain": [
       "(30, 2)"
      ]
     },
     "execution_count": 5,
     "metadata": {},
     "output_type": "execute_result"
    }
   ],
   "source": [
    "df_full_texts_filtered.shape"
   ]
  },
  {
   "cell_type": "code",
   "execution_count": 6,
   "metadata": {},
   "outputs": [
    {
     "data": {
      "text/plain": [
       "array(['Candide', 'The Age of Innocence', 'Pride and Prejudice',\n",
       "       'King Lear', 'Hard Times', 'Merry Wives of Windsor', 'Cymbeline',\n",
       "       'The Call of the Wild', 'The Inferno', 'Henry VIII',\n",
       "       'Wuthering Heights', 'Divine Comedy',\n",
       "       'The Adventures of Huckleberry Finn', 'Twelfth Night',\n",
       "       'The Count of Monte Cristo', 'The Hound of the Baskervilles',\n",
       "       'The Canterbury Tales', 'Crime and Punishment', 'My Antonia',\n",
       "       'Adam Bede', 'Oliver Twist', 'David Copperfield', 'Ivanhoe',\n",
       "       'As You Like It', 'The Jungle', 'The Red Badge of Courage',\n",
       "       'Notes from the Underground', 'A Tale of Two Cities',\n",
       "       'Winesburg, Ohio', 'Middlemarch'], dtype=object)"
      ]
     },
     "execution_count": 6,
     "metadata": {},
     "output_type": "execute_result"
    }
   ],
   "source": [
    "#List of unique book titles in df_summaries_texts\n",
    "\n",
    "df_summaries_texts['book_title'].unique()"
   ]
  },
  {
   "cell_type": "code",
   "execution_count": 10,
   "metadata": {},
   "outputs": [],
   "source": [
    "#Test saving of full text of one book to txt file\n",
    "\n",
    "with open('./data/book_full_texts/Candide.txt', 'a') as fp:\n",
    "    fp.write(df_full_texts_filtered.iloc[0]['full_text'])"
   ]
  },
  {
   "cell_type": "code",
   "execution_count": 11,
   "metadata": {},
   "outputs": [],
   "source": [
    "#Save rest of full texts to txt files\n",
    "\n",
    "for i in range(1,len(df_full_texts_filtered)):\n",
    "    file_name = str(df_full_texts_filtered.iloc[i]['book_title']).replace(' ', '_')\n",
    "    with open(f'./data/book_full_texts/{file_name}.txt', 'a') as fp:\n",
    "        fp.write(df_full_texts_filtered.iloc[i]['full_text'])"
   ]
  },
  {
   "cell_type": "markdown",
   "metadata": {},
   "source": [
    "### Delete tables of contents from full text txt files\n",
    "Manually deleted tables of contents/lists of chapter or section names from books that had them at the beginning of the txt file to make it easier to locate correct chapter titles and partition texts into chapters "
   ]
  },
  {
   "cell_type": "markdown",
   "metadata": {},
   "source": [
    "## Test reading in and partitioning one text"
   ]
  },
  {
   "cell_type": "markdown",
   "metadata": {},
   "source": [
    "### Open and read text"
   ]
  },
  {
   "cell_type": "code",
   "execution_count": 12,
   "metadata": {},
   "outputs": [],
   "source": [
    "Adam_Bede = open('./data/book_full_texts/Adam_Bede.txt', 'r').read()"
   ]
  },
  {
   "cell_type": "code",
   "execution_count": 13,
   "metadata": {},
   "outputs": [
    {
     "data": {
      "text/plain": [
       "'Adam BedebyGeorge Eliot  [pseudonym of Mary Anne Evans]\\n\\n\\n\\n\\n\\nAdam Bede\\nby George Eliot\\n\\n\\n\\n\\n\\nBook One\\n\\n\\nChapter I\\n\\n\\nThe Workshop\\n\\n\\nWith a single drop of ink for a mirror, the Egyptian sorcerer\\nundertak'"
      ]
     },
     "execution_count": 13,
     "metadata": {},
     "output_type": "execute_result"
    }
   ],
   "source": [
    "Adam_Bede[:200]"
   ]
  },
  {
   "cell_type": "code",
   "execution_count": 14,
   "metadata": {},
   "outputs": [
    {
     "data": {
      "text/html": [
       "<div>\n",
       "<style scoped>\n",
       "    .dataframe tbody tr th:only-of-type {\n",
       "        vertical-align: middle;\n",
       "    }\n",
       "\n",
       "    .dataframe tbody tr th {\n",
       "        vertical-align: top;\n",
       "    }\n",
       "\n",
       "    .dataframe thead th {\n",
       "        text-align: right;\n",
       "    }\n",
       "</style>\n",
       "<table border=\"1\" class=\"dataframe\">\n",
       "  <thead>\n",
       "    <tr style=\"text-align: right;\">\n",
       "      <th></th>\n",
       "      <th>chapters</th>\n",
       "    </tr>\n",
       "  </thead>\n",
       "  <tbody>\n",
       "    <tr>\n",
       "      <th>266</th>\n",
       "      <td>Adam Bede: Summary</td>\n",
       "    </tr>\n",
       "  </tbody>\n",
       "</table>\n",
       "</div>"
      ],
      "text/plain": [
       "               chapters\n",
       "266  Adam Bede: Summary"
      ]
     },
     "execution_count": 14,
     "metadata": {},
     "output_type": "execute_result"
    }
   ],
   "source": [
    "df_summaries_texts[df_summaries_texts['book_title']=='Adam Bede'][['chapters']].sort_values(by='chapters')"
   ]
  },
  {
   "cell_type": "markdown",
   "metadata": {},
   "source": [
    "### Test partitioning"
   ]
  },
  {
   "cell_type": "code",
   "execution_count": 16,
   "metadata": {},
   "outputs": [],
   "source": [
    "parititions = Adam_Bede.partition('Chapter II')"
   ]
  },
  {
   "cell_type": "code",
   "execution_count": 17,
   "metadata": {},
   "outputs": [
    {
     "data": {
      "text/plain": [
       "'Adam BedebyGeorge Eliot  [pseudonym of Mary Anne Evans]\\n\\n\\n\\n\\n\\nAdam Bede\\nby George Eliot\\n\\n\\n\\n\\n\\nBook One\\n\\n\\nChapter I\\n\\n\\nThe Workshop\\n\\n\\nWith a single drop of ink for a mirror, the Egyptian sorcerer\\nundertakes to reveal to any chance comer far-reaching visions of\\nthe past.  This is what I undertake to do for you, reader.  With\\nthis drop of ink at the end of my pen, I will show you the roomy\\nworkshop of Mr. Jonathan Burge, carpenter and builder, in the\\nvillage of Hayslope, as it appeared on the eighteen'"
      ]
     },
     "execution_count": 17,
     "metadata": {},
     "output_type": "execute_result"
    }
   ],
   "source": [
    "parititions[0][:500]"
   ]
  },
  {
   "cell_type": "code",
   "execution_count": 18,
   "metadata": {},
   "outputs": [
    {
     "data": {
      "text/plain": [
       "'Chapter II'"
      ]
     },
     "execution_count": 18,
     "metadata": {},
     "output_type": "execute_result"
    }
   ],
   "source": [
    "parititions[1]"
   ]
  },
  {
   "cell_type": "code",
   "execution_count": 19,
   "metadata": {},
   "outputs": [
    {
     "data": {
      "text/plain": [
       "'\\n\\nThe Preaching\\n\\n\\nAbout a quarter to seven there was an unusual appearance of\\nexcitement in the village of Hayslope, and through the whole\\nlength of its little street, from the Donnithorne Arms to the\\nchurchyard gate, the inhabitants had evidently been drawn out of\\ntheir houses by something more than the pleasure of lounging in\\nthe evening sunshine.  The Donnithorne Arms stood at the entrance\\nof the village, and a small farmyard and stackyard which flanked\\nit, indicating that there was a pretty '"
      ]
     },
     "execution_count": 19,
     "metadata": {},
     "output_type": "execute_result"
    }
   ],
   "source": [
    "parititions[2][:500]"
   ]
  },
  {
   "cell_type": "markdown",
   "metadata": {},
   "source": [
    "## Divide full texts into chapters corresponding to chapter summary titles"
   ]
  },
  {
   "cell_type": "markdown",
   "metadata": {},
   "source": [
    "### List of book titles"
   ]
  },
  {
   "cell_type": "code",
   "execution_count": 4,
   "metadata": {},
   "outputs": [
    {
     "data": {
      "text/plain": [
       "['Candide',\n",
       " 'The Age of Innocence',\n",
       " 'Pride and Prejudice',\n",
       " 'King Lear',\n",
       " 'Hard Times',\n",
       " 'Merry Wives of Windsor',\n",
       " 'Cymbeline',\n",
       " 'The Call of the Wild',\n",
       " 'The Inferno',\n",
       " 'Henry VIII',\n",
       " 'Wuthering Heights',\n",
       " 'Divine Comedy',\n",
       " 'The Adventures of Huckleberry Finn',\n",
       " 'Twelfth Night',\n",
       " 'The Count of Monte Cristo',\n",
       " 'The Hound of the Baskervilles',\n",
       " 'The Canterbury Tales',\n",
       " 'Crime and Punishment',\n",
       " 'My Antonia',\n",
       " 'Adam Bede',\n",
       " 'Oliver Twist',\n",
       " 'David Copperfield',\n",
       " 'Ivanhoe',\n",
       " 'As You Like It',\n",
       " 'The Jungle',\n",
       " 'The Red Badge of Courage',\n",
       " 'Notes from the Underground',\n",
       " 'A Tale of Two Cities',\n",
       " 'Winesburg, Ohio',\n",
       " 'Middlemarch']"
      ]
     },
     "execution_count": 4,
     "metadata": {},
     "output_type": "execute_result"
    }
   ],
   "source": [
    "list(df_summaries_texts['book_title'].unique())"
   ]
  },
  {
   "cell_type": "markdown",
   "metadata": {},
   "source": [
    "### Function to return list of chapters for book"
   ]
  },
  {
   "cell_type": "code",
   "execution_count": 5,
   "metadata": {},
   "outputs": [],
   "source": [
    "def chapters(title):\n",
    "    return df_summaries_texts[df_summaries_texts['book_title']==title]['chapters']"
   ]
  },
  {
   "cell_type": "markdown",
   "metadata": {},
   "source": [
    "### Function to split chapters"
   ]
  },
  {
   "cell_type": "code",
   "execution_count": 6,
   "metadata": {},
   "outputs": [],
   "source": [
    "def split_chapters(title, chapter_names):\n",
    "\n",
    "    text_name = title.replace(' ', '_')\n",
    "    text = open(f'./data/book_full_texts/{text_name}.txt', 'r').read()\n",
    "    num_chapters = len(chapter_names)\n",
    "    chapter_texts = []\n",
    "\n",
    "    partition_1 = text.partition(chapter_names[1])\n",
    "    chapter_1 = str(partition_1[0])\n",
    "    chapter_texts.append(chapter_1)\n",
    "\n",
    "    for i in range(2, num_chapters):\n",
    "        partition_ch_group = text.partition(chapter_names[i])\n",
    "        partition_ch_subgroup = str(partition_ch_group[0])\n",
    "        partition_ch_sep = partition_ch_subgroup.partition(chapter_names[i-1])\n",
    "        partition_ch = str(partition_ch_sep[2])\n",
    "        chapter_texts.append(partition_ch)\n",
    "\n",
    "    partition_last = text.partition(chapter_names[num_chapters-1])\n",
    "    chapter_last = str(partition_last[2])\n",
    "    chapter_texts.append(chapter_last)\n",
    "\n",
    "    return chapter_texts"
   ]
  },
  {
   "cell_type": "markdown",
   "metadata": {},
   "source": [
    "### Candide"
   ]
  },
  {
   "cell_type": "code",
   "execution_count": 7,
   "metadata": {},
   "outputs": [
    {
     "data": {
      "text/plain": [
       "0     Candide: Summary: Chapters 1-2\n",
       "1                       Chapters 1-2\n",
       "2                       Chapters 3-4\n",
       "3                       Chapters 5-6\n",
       "4                       Chapters 7-8\n",
       "5                      Chapters 9-10\n",
       "6                     Chapters 11-12\n",
       "7                     Chapters 13-14\n",
       "8                     Chapters 15-16\n",
       "9                     Chapters 17-18\n",
       "10                    Chapters 19-20\n",
       "11                    Chapters 21-22\n",
       "12                    Chapters 23-24\n",
       "13                    Chapters 25-26\n",
       "14                    Chapters 27-28\n",
       "Name: chapters, dtype: object"
      ]
     },
     "execution_count": 7,
     "metadata": {},
     "output_type": "execute_result"
    }
   ],
   "source": [
    "chapters('Candide')"
   ]
  },
  {
   "cell_type": "markdown",
   "metadata": {},
   "source": [
    "Upon examination of the txt file, found that this text is written in French. The models to be built will be limited to English texts for now, so this book will not be included."
   ]
  },
  {
   "cell_type": "markdown",
   "metadata": {},
   "source": [
    "### The Age of Innocence - use to test function"
   ]
  },
  {
   "cell_type": "markdown",
   "metadata": {},
   "source": [
    "#### Split full text into chapters"
   ]
  },
  {
   "cell_type": "code",
   "execution_count": 8,
   "metadata": {},
   "outputs": [
    {
     "data": {
      "text/plain": [
       "15    The Age of Innocence: Novel Summary\n",
       "16                           Chapters 1-3\n",
       "17                           Chapters 4-6\n",
       "18                           Chapters 7-9\n",
       "19                         Chapters 10-12\n",
       "20                         Chapters 13-15\n",
       "21                         Chapters 16-18\n",
       "22                         Chapters 19-21\n",
       "23                         Chapters 22-24\n",
       "24                         Chapters 25-27\n",
       "25                         Chapters 28-30\n",
       "26                         Chapters 31-33\n",
       "27                             Chapter 34\n",
       "Name: chapters, dtype: object"
      ]
     },
     "execution_count": 8,
     "metadata": {},
     "output_type": "execute_result"
    }
   ],
   "source": [
    "chapters('The Age of Innocence')"
   ]
  },
  {
   "cell_type": "code",
   "execution_count": 9,
   "metadata": {},
   "outputs": [],
   "source": [
    "ai_title = 'The Age of Innocence'"
   ]
  },
  {
   "cell_type": "code",
   "execution_count": 10,
   "metadata": {},
   "outputs": [],
   "source": [
    "ai_chapter_names = [\n",
    "'I.', 'II.', 'III.', 'IV.', 'V,', 'VI.', 'VII.', 'VIII.', 'IX.', 'X.',\n",
    "'XI.', 'XII.', 'XIII.', 'XIV.', 'XV.', 'XVI.', 'XVII.', 'XVIII.', 'XIX.', 'XX.',\n",
    "'XXI.', 'XXII.', 'XXIII.', 'XXIV.', 'XXV.', 'XXVI.', 'XXVII.', 'XXVIII.', 'XXIX.', 'XXX.',\n",
    "'XXXI.', 'XXXII.', 'XXXIII.', 'XXXIV.' \n",
    "]"
   ]
  },
  {
   "cell_type": "code",
   "execution_count": 11,
   "metadata": {},
   "outputs": [],
   "source": [
    "ai_chapter_texts = split_chapters(title=ai_title, chapter_names=ai_chapter_names)"
   ]
  },
  {
   "cell_type": "code",
   "execution_count": 12,
   "metadata": {},
   "outputs": [
    {
     "data": {
      "text/plain": [
       "34"
      ]
     },
     "execution_count": 12,
     "metadata": {},
     "output_type": "execute_result"
    }
   ],
   "source": [
    "len(ai_chapter_texts)"
   ]
  },
  {
   "cell_type": "code",
   "execution_count": 13,
   "metadata": {},
   "outputs": [
    {
     "data": {
      "text/plain": [
       "'The Age of InnocencebyEdith Wharton\\n\\n\\n\\n\\n\\nEtext prepared by  JudithBoss, proofed by Charles Keller.\\n\\n\\n\\n\\n\\n\\nThe Age of Innocence\\nby Edith Wharton\\n\\n\\n\\n\\n\\n\\nBook I\\n\\n\\n\\nI.\\n\\nOn a January evening of the early seventies, Christine\\nNilsson was singing in Faust at the Academy of\\nMusic in New York.\\n\\nThough there wa'"
      ]
     },
     "execution_count": 13,
     "metadata": {},
     "output_type": "execute_result"
    }
   ],
   "source": [
    "ai_chapter_texts[0][:300]"
   ]
  },
  {
   "cell_type": "markdown",
   "metadata": {},
   "source": [
    "#### Create dataframe with chapter titles, chapter summaries, book title, chapter names, and chapter texts"
   ]
  },
  {
   "cell_type": "code",
   "execution_count": 14,
   "metadata": {},
   "outputs": [
    {
     "data": {
      "text/html": [
       "<div>\n",
       "<style scoped>\n",
       "    .dataframe tbody tr th:only-of-type {\n",
       "        vertical-align: middle;\n",
       "    }\n",
       "\n",
       "    .dataframe tbody tr th {\n",
       "        vertical-align: top;\n",
       "    }\n",
       "\n",
       "    .dataframe thead th {\n",
       "        text-align: right;\n",
       "    }\n",
       "</style>\n",
       "<table border=\"1\" class=\"dataframe\">\n",
       "  <thead>\n",
       "    <tr style=\"text-align: right;\">\n",
       "      <th></th>\n",
       "      <th>chapter_title</th>\n",
       "      <th>chapter_summary</th>\n",
       "      <th>book_title</th>\n",
       "      <th>chapters</th>\n",
       "    </tr>\n",
       "  </thead>\n",
       "  <tbody>\n",
       "    <tr>\n",
       "      <th>15</th>\n",
       "      <td>The Age of Innocence: Novel Summary</td>\n",
       "      <td>Chapters 1-3\\nSummary\\n\\tThe story opens at th...</td>\n",
       "      <td>The Age of Innocence</td>\n",
       "      <td>The Age of Innocence: Novel Summary</td>\n",
       "    </tr>\n",
       "    <tr>\n",
       "      <th>16</th>\n",
       "      <td>The Age of Innocence: Novel Summary: Chapters 1-3</td>\n",
       "      <td>Chapters 1-3\\n\\n\\t \\nSummary\\n\\tThe story open...</td>\n",
       "      <td>The Age of Innocence</td>\n",
       "      <td>Chapters 1-3</td>\n",
       "    </tr>\n",
       "    <tr>\n",
       "      <th>17</th>\n",
       "      <td>The Age of Innocence: Novel Summary: Chapters 4-6</td>\n",
       "      <td>Chapters 4-6\\nSummary\\n\\tArcher and May begin ...</td>\n",
       "      <td>The Age of Innocence</td>\n",
       "      <td>Chapters 4-6</td>\n",
       "    </tr>\n",
       "    <tr>\n",
       "      <th>18</th>\n",
       "      <td>The Age of Innocence: Novel Summary: Chapters 7-9</td>\n",
       "      <td>Chapters 7-9\\nSummary\\n\\tMrs Archer and her so...</td>\n",
       "      <td>The Age of Innocence</td>\n",
       "      <td>Chapters 7-9</td>\n",
       "    </tr>\n",
       "    <tr>\n",
       "      <th>19</th>\n",
       "      <td>The Age of Innocence: Novel Summary: Chapters ...</td>\n",
       "      <td>Chapters 10-12\\nSummary\\n\\tArcher tells May ab...</td>\n",
       "      <td>The Age of Innocence</td>\n",
       "      <td>Chapters 10-12</td>\n",
       "    </tr>\n",
       "    <tr>\n",
       "      <th>20</th>\n",
       "      <td>The Age of Innocence: Novel Summary: Chapters ...</td>\n",
       "      <td>Chapters 13-15\\nSummary\\n\\tAt the theatre, Arc...</td>\n",
       "      <td>The Age of Innocence</td>\n",
       "      <td>Chapters 13-15</td>\n",
       "    </tr>\n",
       "    <tr>\n",
       "      <th>21</th>\n",
       "      <td>The Age of Innocence: Novel Summary: Chapters ...</td>\n",
       "      <td>Chapters 16-18\\nSummary\\n\\tArcher arrives at S...</td>\n",
       "      <td>The Age of Innocence</td>\n",
       "      <td>Chapters 16-18</td>\n",
       "    </tr>\n",
       "    <tr>\n",
       "      <th>22</th>\n",
       "      <td>The Age of Innocence: Novel Summary: Chapters ...</td>\n",
       "      <td>Chapters 19-21\\nSummary\\n\\tUnder the eyes of N...</td>\n",
       "      <td>The Age of Innocence</td>\n",
       "      <td>Chapters 19-21</td>\n",
       "    </tr>\n",
       "    <tr>\n",
       "      <th>23</th>\n",
       "      <td>The Age of Innocence: Novel Summary: Chapters ...</td>\n",
       "      <td>Chapters 22-24\\nSummary\\n\\tMr and Mrs Emerson ...</td>\n",
       "      <td>The Age of Innocence</td>\n",
       "      <td>Chapters 22-24</td>\n",
       "    </tr>\n",
       "    <tr>\n",
       "      <th>24</th>\n",
       "      <td>The Age of Innocence: Novel Summary: Chapters ...</td>\n",
       "      <td>Chapters 25-27\\nSummary\\n\\tAs he leaves Boston...</td>\n",
       "      <td>The Age of Innocence</td>\n",
       "      <td>Chapters 25-27</td>\n",
       "    </tr>\n",
       "    <tr>\n",
       "      <th>25</th>\n",
       "      <td>The Age of Innocence: Novel Summary: Chapters ...</td>\n",
       "      <td>Chapters 28-30\\nSummary\\n\\tArcher sends a tele...</td>\n",
       "      <td>The Age of Innocence</td>\n",
       "      <td>Chapters 28-30</td>\n",
       "    </tr>\n",
       "    <tr>\n",
       "      <th>26</th>\n",
       "      <td>The Age of Innocence: Novel Summary: Chapters ...</td>\n",
       "      <td>Chapters 31-33\\nSummary\\n\\tArcher is stunned a...</td>\n",
       "      <td>The Age of Innocence</td>\n",
       "      <td>Chapters 31-33</td>\n",
       "    </tr>\n",
       "    <tr>\n",
       "      <th>27</th>\n",
       "      <td>The Age of Innocence: Novel Summary: Chapter 34</td>\n",
       "      <td>Chapter 34\\nSummary\\n\\tIt is twenty-five years...</td>\n",
       "      <td>The Age of Innocence</td>\n",
       "      <td>Chapter 34</td>\n",
       "    </tr>\n",
       "  </tbody>\n",
       "</table>\n",
       "</div>"
      ],
      "text/plain": [
       "                                        chapter_title  \\\n",
       "15                The Age of Innocence: Novel Summary   \n",
       "16  The Age of Innocence: Novel Summary: Chapters 1-3   \n",
       "17  The Age of Innocence: Novel Summary: Chapters 4-6   \n",
       "18  The Age of Innocence: Novel Summary: Chapters 7-9   \n",
       "19  The Age of Innocence: Novel Summary: Chapters ...   \n",
       "20  The Age of Innocence: Novel Summary: Chapters ...   \n",
       "21  The Age of Innocence: Novel Summary: Chapters ...   \n",
       "22  The Age of Innocence: Novel Summary: Chapters ...   \n",
       "23  The Age of Innocence: Novel Summary: Chapters ...   \n",
       "24  The Age of Innocence: Novel Summary: Chapters ...   \n",
       "25  The Age of Innocence: Novel Summary: Chapters ...   \n",
       "26  The Age of Innocence: Novel Summary: Chapters ...   \n",
       "27    The Age of Innocence: Novel Summary: Chapter 34   \n",
       "\n",
       "                                      chapter_summary            book_title  \\\n",
       "15  Chapters 1-3\\nSummary\\n\\tThe story opens at th...  The Age of Innocence   \n",
       "16  Chapters 1-3\\n\\n\\t \\nSummary\\n\\tThe story open...  The Age of Innocence   \n",
       "17  Chapters 4-6\\nSummary\\n\\tArcher and May begin ...  The Age of Innocence   \n",
       "18  Chapters 7-9\\nSummary\\n\\tMrs Archer and her so...  The Age of Innocence   \n",
       "19  Chapters 10-12\\nSummary\\n\\tArcher tells May ab...  The Age of Innocence   \n",
       "20  Chapters 13-15\\nSummary\\n\\tAt the theatre, Arc...  The Age of Innocence   \n",
       "21  Chapters 16-18\\nSummary\\n\\tArcher arrives at S...  The Age of Innocence   \n",
       "22  Chapters 19-21\\nSummary\\n\\tUnder the eyes of N...  The Age of Innocence   \n",
       "23  Chapters 22-24\\nSummary\\n\\tMr and Mrs Emerson ...  The Age of Innocence   \n",
       "24  Chapters 25-27\\nSummary\\n\\tAs he leaves Boston...  The Age of Innocence   \n",
       "25  Chapters 28-30\\nSummary\\n\\tArcher sends a tele...  The Age of Innocence   \n",
       "26  Chapters 31-33\\nSummary\\n\\tArcher is stunned a...  The Age of Innocence   \n",
       "27  Chapter 34\\nSummary\\n\\tIt is twenty-five years...  The Age of Innocence   \n",
       "\n",
       "                               chapters  \n",
       "15  The Age of Innocence: Novel Summary  \n",
       "16                         Chapters 1-3  \n",
       "17                         Chapters 4-6  \n",
       "18                         Chapters 7-9  \n",
       "19                       Chapters 10-12  \n",
       "20                       Chapters 13-15  \n",
       "21                       Chapters 16-18  \n",
       "22                       Chapters 19-21  \n",
       "23                       Chapters 22-24  \n",
       "24                       Chapters 25-27  \n",
       "25                       Chapters 28-30  \n",
       "26                       Chapters 31-33  \n",
       "27                           Chapter 34  "
      ]
     },
     "execution_count": 14,
     "metadata": {},
     "output_type": "execute_result"
    }
   ],
   "source": [
    "df_summaries_texts[df_summaries_texts['book_title']==ai_title].drop(columns='full_text')"
   ]
  },
  {
   "cell_type": "code",
   "execution_count": 15,
   "metadata": {},
   "outputs": [],
   "source": [
    "df_ai = df_summaries_texts[df_summaries_texts['book_title']==ai_title].drop(columns='full_text')"
   ]
  },
  {
   "cell_type": "code",
   "execution_count": 16,
   "metadata": {},
   "outputs": [],
   "source": [
    "df_ai.drop(index=15, inplace=True)"
   ]
  },
  {
   "cell_type": "code",
   "execution_count": 17,
   "metadata": {},
   "outputs": [],
   "source": [
    "df_ai['chapter_text'] = [\n",
    "    ' '.join(ai_chapter_texts[0:2]),\n",
    "    ' '.join(ai_chapter_texts[3:5]),\n",
    "    ' '.join(ai_chapter_texts[6:8]),\n",
    "    ' '.join(ai_chapter_texts[9:11]),\n",
    "    ' '.join(ai_chapter_texts[12:14]),\n",
    "    ' '.join(ai_chapter_texts[15:17]),\n",
    "    ' '.join(ai_chapter_texts[18:20]),\n",
    "    ' '.join(ai_chapter_texts[21:23]),\n",
    "    ' '.join(ai_chapter_texts[24:26]),\n",
    "    ' '.join(ai_chapter_texts[27:29]),\n",
    "    ' '.join(ai_chapter_texts[30:32]),\n",
    "    ai_chapter_texts[33]\n",
    "    ]"
   ]
  },
  {
   "cell_type": "code",
   "execution_count": 18,
   "metadata": {},
   "outputs": [
    {
     "data": {
      "text/html": [
       "<div>\n",
       "<style scoped>\n",
       "    .dataframe tbody tr th:only-of-type {\n",
       "        vertical-align: middle;\n",
       "    }\n",
       "\n",
       "    .dataframe tbody tr th {\n",
       "        vertical-align: top;\n",
       "    }\n",
       "\n",
       "    .dataframe thead th {\n",
       "        text-align: right;\n",
       "    }\n",
       "</style>\n",
       "<table border=\"1\" class=\"dataframe\">\n",
       "  <thead>\n",
       "    <tr style=\"text-align: right;\">\n",
       "      <th></th>\n",
       "      <th>chapter_title</th>\n",
       "      <th>chapter_summary</th>\n",
       "      <th>book_title</th>\n",
       "      <th>chapters</th>\n",
       "      <th>chapter_text</th>\n",
       "    </tr>\n",
       "  </thead>\n",
       "  <tbody>\n",
       "    <tr>\n",
       "      <th>16</th>\n",
       "      <td>The Age of Innocence: Novel Summary: Chapters 1-3</td>\n",
       "      <td>Chapters 1-3\\n\\n\\t \\nSummary\\n\\tThe story open...</td>\n",
       "      <td>The Age of Innocence</td>\n",
       "      <td>Chapters 1-3</td>\n",
       "      <td>The Age of InnocencebyEdith Wharton\\n\\n\\n\\n\\n\\...</td>\n",
       "    </tr>\n",
       "    <tr>\n",
       "      <th>17</th>\n",
       "      <td>The Age of Innocence: Novel Summary: Chapters 4-6</td>\n",
       "      <td>Chapters 4-6\\nSummary\\n\\tArcher and May begin ...</td>\n",
       "      <td>The Age of Innocence</td>\n",
       "      <td>Chapters 4-6</td>\n",
       "      <td>\\n\\nIn the course of the next day the first of...</td>\n",
       "    </tr>\n",
       "    <tr>\n",
       "      <th>18</th>\n",
       "      <td>The Age of Innocence: Novel Summary: Chapters 7-9</td>\n",
       "      <td>Chapters 7-9\\nSummary\\n\\tMrs Archer and her so...</td>\n",
       "      <td>The Age of Innocence</td>\n",
       "      <td>Chapters 7-9</td>\n",
       "      <td>\\n\\nMrs. Henry van der Luyden listened in sile...</td>\n",
       "    </tr>\n",
       "    <tr>\n",
       "      <th>19</th>\n",
       "      <td>The Age of Innocence: Novel Summary: Chapters ...</td>\n",
       "      <td>Chapters 10-12\\nSummary\\n\\tArcher tells May ab...</td>\n",
       "      <td>The Age of Innocence</td>\n",
       "      <td>Chapters 10-12</td>\n",
       "      <td>\\n\\nThe Countess Olenska had said \"after five\"...</td>\n",
       "    </tr>\n",
       "    <tr>\n",
       "      <th>20</th>\n",
       "      <td>The Age of Innocence: Novel Summary: Chapters ...</td>\n",
       "      <td>Chapters 13-15\\nSummary\\n\\tAt the theatre, Arc...</td>\n",
       "      <td>The Age of Innocence</td>\n",
       "      <td>Chapters 13-15</td>\n",
       "      <td>\\n\\nIt was a crowded night at Wallack's theatr...</td>\n",
       "    </tr>\n",
       "    <tr>\n",
       "      <th>21</th>\n",
       "      <td>The Age of Innocence: Novel Summary: Chapters ...</td>\n",
       "      <td>Chapters 16-18\\nSummary\\n\\tArcher arrives at S...</td>\n",
       "      <td>The Age of Innocence</td>\n",
       "      <td>Chapters 16-18</td>\n",
       "      <td>\\n\\nWhen Archer walked down the sandy main str...</td>\n",
       "    </tr>\n",
       "    <tr>\n",
       "      <th>22</th>\n",
       "      <td>The Age of Innocence: Novel Summary: Chapters ...</td>\n",
       "      <td>Chapters 19-21\\nSummary\\n\\tUnder the eyes of N...</td>\n",
       "      <td>The Age of Innocence</td>\n",
       "      <td>Chapters 19-21</td>\n",
       "      <td>\\n\\nThe day was fresh, with a lively spring wi...</td>\n",
       "    </tr>\n",
       "    <tr>\n",
       "      <th>23</th>\n",
       "      <td>The Age of Innocence: Novel Summary: Chapters ...</td>\n",
       "      <td>Chapters 22-24\\nSummary\\n\\tMr and Mrs Emerson ...</td>\n",
       "      <td>The Age of Innocence</td>\n",
       "      <td>Chapters 22-24</td>\n",
       "      <td>\\n\\nA party for the Blenkers--the Blenkers?\"\\n...</td>\n",
       "    </tr>\n",
       "    <tr>\n",
       "      <th>24</th>\n",
       "      <td>The Age of Innocence: Novel Summary: Chapters ...</td>\n",
       "      <td>Chapters 25-27\\nSummary\\n\\tAs he leaves Boston...</td>\n",
       "      <td>The Age of Innocence</td>\n",
       "      <td>Chapters 25-27</td>\n",
       "      <td>\\n\\nOnce more on the boat, and in the presence...</td>\n",
       "    </tr>\n",
       "    <tr>\n",
       "      <th>25</th>\n",
       "      <td>The Age of Innocence: Novel Summary: Chapters ...</td>\n",
       "      <td>Chapters 28-30\\nSummary\\n\\tArcher sends a tele...</td>\n",
       "      <td>The Age of Innocence</td>\n",
       "      <td>Chapters 28-30</td>\n",
       "      <td>\\n\\nOl-ol--howjer spell it, anyhow?\" asked the...</td>\n",
       "    </tr>\n",
       "    <tr>\n",
       "      <th>26</th>\n",
       "      <td>The Age of Innocence: Novel Summary: Chapters ...</td>\n",
       "      <td>Chapters 31-33\\nSummary\\n\\tArcher is stunned a...</td>\n",
       "      <td>The Age of Innocence</td>\n",
       "      <td>Chapters 31-33</td>\n",
       "      <td>\\n\\nArcher had been stunned by old Catherine's...</td>\n",
       "    </tr>\n",
       "    <tr>\n",
       "      <th>27</th>\n",
       "      <td>The Age of Innocence: Novel Summary: Chapter 34</td>\n",
       "      <td>Chapter 34\\nSummary\\n\\tIt is twenty-five years...</td>\n",
       "      <td>The Age of Innocence</td>\n",
       "      <td>Chapter 34</td>\n",
       "      <td>\\n\\nNewland Archer sat at the writing-table in...</td>\n",
       "    </tr>\n",
       "  </tbody>\n",
       "</table>\n",
       "</div>"
      ],
      "text/plain": [
       "                                        chapter_title  \\\n",
       "16  The Age of Innocence: Novel Summary: Chapters 1-3   \n",
       "17  The Age of Innocence: Novel Summary: Chapters 4-6   \n",
       "18  The Age of Innocence: Novel Summary: Chapters 7-9   \n",
       "19  The Age of Innocence: Novel Summary: Chapters ...   \n",
       "20  The Age of Innocence: Novel Summary: Chapters ...   \n",
       "21  The Age of Innocence: Novel Summary: Chapters ...   \n",
       "22  The Age of Innocence: Novel Summary: Chapters ...   \n",
       "23  The Age of Innocence: Novel Summary: Chapters ...   \n",
       "24  The Age of Innocence: Novel Summary: Chapters ...   \n",
       "25  The Age of Innocence: Novel Summary: Chapters ...   \n",
       "26  The Age of Innocence: Novel Summary: Chapters ...   \n",
       "27    The Age of Innocence: Novel Summary: Chapter 34   \n",
       "\n",
       "                                      chapter_summary            book_title  \\\n",
       "16  Chapters 1-3\\n\\n\\t \\nSummary\\n\\tThe story open...  The Age of Innocence   \n",
       "17  Chapters 4-6\\nSummary\\n\\tArcher and May begin ...  The Age of Innocence   \n",
       "18  Chapters 7-9\\nSummary\\n\\tMrs Archer and her so...  The Age of Innocence   \n",
       "19  Chapters 10-12\\nSummary\\n\\tArcher tells May ab...  The Age of Innocence   \n",
       "20  Chapters 13-15\\nSummary\\n\\tAt the theatre, Arc...  The Age of Innocence   \n",
       "21  Chapters 16-18\\nSummary\\n\\tArcher arrives at S...  The Age of Innocence   \n",
       "22  Chapters 19-21\\nSummary\\n\\tUnder the eyes of N...  The Age of Innocence   \n",
       "23  Chapters 22-24\\nSummary\\n\\tMr and Mrs Emerson ...  The Age of Innocence   \n",
       "24  Chapters 25-27\\nSummary\\n\\tAs he leaves Boston...  The Age of Innocence   \n",
       "25  Chapters 28-30\\nSummary\\n\\tArcher sends a tele...  The Age of Innocence   \n",
       "26  Chapters 31-33\\nSummary\\n\\tArcher is stunned a...  The Age of Innocence   \n",
       "27  Chapter 34\\nSummary\\n\\tIt is twenty-five years...  The Age of Innocence   \n",
       "\n",
       "          chapters                                       chapter_text  \n",
       "16    Chapters 1-3  The Age of InnocencebyEdith Wharton\\n\\n\\n\\n\\n\\...  \n",
       "17    Chapters 4-6  \\n\\nIn the course of the next day the first of...  \n",
       "18    Chapters 7-9  \\n\\nMrs. Henry van der Luyden listened in sile...  \n",
       "19  Chapters 10-12  \\n\\nThe Countess Olenska had said \"after five\"...  \n",
       "20  Chapters 13-15  \\n\\nIt was a crowded night at Wallack's theatr...  \n",
       "21  Chapters 16-18  \\n\\nWhen Archer walked down the sandy main str...  \n",
       "22  Chapters 19-21  \\n\\nThe day was fresh, with a lively spring wi...  \n",
       "23  Chapters 22-24  \\n\\nA party for the Blenkers--the Blenkers?\"\\n...  \n",
       "24  Chapters 25-27  \\n\\nOnce more on the boat, and in the presence...  \n",
       "25  Chapters 28-30  \\n\\nOl-ol--howjer spell it, anyhow?\" asked the...  \n",
       "26  Chapters 31-33  \\n\\nArcher had been stunned by old Catherine's...  \n",
       "27      Chapter 34  \\n\\nNewland Archer sat at the writing-table in...  "
      ]
     },
     "execution_count": 18,
     "metadata": {},
     "output_type": "execute_result"
    }
   ],
   "source": [
    "df_ai"
   ]
  },
  {
   "cell_type": "markdown",
   "metadata": {},
   "source": [
    "### Function to get partial dataframe (chapter_title, chapter_summary, book_title, & chapters cols) for each book"
   ]
  },
  {
   "cell_type": "code",
   "execution_count": 19,
   "metadata": {},
   "outputs": [],
   "source": [
    "def start_df(title):\n",
    "    return df_summaries_texts[df_summaries_texts['book_title']==title].drop(columns='full_text')"
   ]
  },
  {
   "cell_type": "markdown",
   "metadata": {},
   "source": [
    "### Pride and Prejudice"
   ]
  },
  {
   "cell_type": "markdown",
   "metadata": {},
   "source": [
    "#### Split full text into chapters"
   ]
  },
  {
   "cell_type": "code",
   "execution_count": 20,
   "metadata": {},
   "outputs": [
    {
     "data": {
      "text/plain": [
       "28      Chapters 1-4\n",
       "29      Chapters 5-8\n",
       "30     Chapters 9-12\n",
       "31    Chapters 13-16\n",
       "32    Chapters 17-20\n",
       "33    Chapters 21-24\n",
       "34    Chapters 25-28\n",
       "35    Chapters 29-32\n",
       "36    Chapters 33-36\n",
       "37    Chapters 37-40\n",
       "38    Chapters 41-44\n",
       "39    Chapters 45-48\n",
       "40    Chapters 49-52\n",
       "41    Chapters 53-56\n",
       "42    Chapters 57-60\n",
       "43        Chapter 61\n",
       "Name: chapters, dtype: object"
      ]
     },
     "execution_count": 20,
     "metadata": {},
     "output_type": "execute_result"
    }
   ],
   "source": [
    "chapters('Pride and Prejudice')"
   ]
  },
  {
   "cell_type": "code",
   "execution_count": 21,
   "metadata": {},
   "outputs": [],
   "source": [
    "pp_ch_names = []\n",
    "for i in range(1, 62):\n",
    "    pp_ch_names.append(f'Chapter {i}')"
   ]
  },
  {
   "cell_type": "code",
   "execution_count": 22,
   "metadata": {},
   "outputs": [],
   "source": [
    "pp_ch_texts = split_chapters('Pride and Prejudice', pp_ch_names)"
   ]
  },
  {
   "cell_type": "markdown",
   "metadata": {},
   "source": [
    "#### Create dataframe with chapter titles, chapter summaries, book title, chapter names, and chapter texts"
   ]
  },
  {
   "cell_type": "code",
   "execution_count": 23,
   "metadata": {},
   "outputs": [
    {
     "data": {
      "text/html": [
       "<div>\n",
       "<style scoped>\n",
       "    .dataframe tbody tr th:only-of-type {\n",
       "        vertical-align: middle;\n",
       "    }\n",
       "\n",
       "    .dataframe tbody tr th {\n",
       "        vertical-align: top;\n",
       "    }\n",
       "\n",
       "    .dataframe thead th {\n",
       "        text-align: right;\n",
       "    }\n",
       "</style>\n",
       "<table border=\"1\" class=\"dataframe\">\n",
       "  <thead>\n",
       "    <tr style=\"text-align: right;\">\n",
       "      <th></th>\n",
       "      <th>chapter_title</th>\n",
       "      <th>chapter_summary</th>\n",
       "      <th>book_title</th>\n",
       "      <th>chapters</th>\n",
       "    </tr>\n",
       "  </thead>\n",
       "  <tbody>\n",
       "    <tr>\n",
       "      <th>28</th>\n",
       "      <td>Pride and Prejudice: Novel Summary: Chapters 1-4</td>\n",
       "      <td>Chapter 1: Chapter one introduces Mr. and Mrs....</td>\n",
       "      <td>Pride and Prejudice</td>\n",
       "      <td>Chapters 1-4</td>\n",
       "    </tr>\n",
       "    <tr>\n",
       "      <th>29</th>\n",
       "      <td>Pride and Prejudice: Novel Summary: Chapters 5-8</td>\n",
       "      <td>Chapter 5: Sir William and Lady Lucas are furt...</td>\n",
       "      <td>Pride and Prejudice</td>\n",
       "      <td>Chapters 5-8</td>\n",
       "    </tr>\n",
       "    <tr>\n",
       "      <th>30</th>\n",
       "      <td>Pride and Prejudice: Novel Summary: Chapters 9-12</td>\n",
       "      <td>Chapter 9: Mrs. Bingley and her two youngest d...</td>\n",
       "      <td>Pride and Prejudice</td>\n",
       "      <td>Chapters 9-12</td>\n",
       "    </tr>\n",
       "    <tr>\n",
       "      <th>31</th>\n",
       "      <td>Pride and Prejudice: Novel Summary: Chapters 1...</td>\n",
       "      <td>Chapter 13: Mr. Bennet reveals that he has rec...</td>\n",
       "      <td>Pride and Prejudice</td>\n",
       "      <td>Chapters 13-16</td>\n",
       "    </tr>\n",
       "    <tr>\n",
       "      <th>32</th>\n",
       "      <td>Pride and Prejudice: Novel Summary: Chapters 1...</td>\n",
       "      <td>Chapter 17: The next day Elizabeth tells Jane ...</td>\n",
       "      <td>Pride and Prejudice</td>\n",
       "      <td>Chapters 17-20</td>\n",
       "    </tr>\n",
       "    <tr>\n",
       "      <th>33</th>\n",
       "      <td>Pride and Prejudice: Novel Summary: Chapters 2...</td>\n",
       "      <td>Chapter 21: Mr. Collins begins to ignore Eliza...</td>\n",
       "      <td>Pride and Prejudice</td>\n",
       "      <td>Chapters 21-24</td>\n",
       "    </tr>\n",
       "    <tr>\n",
       "      <th>34</th>\n",
       "      <td>Pride and Prejudice: Novel Summary: Chapters 2...</td>\n",
       "      <td>Chapter 25: Mr. Collins returns to his parish,...</td>\n",
       "      <td>Pride and Prejudice</td>\n",
       "      <td>Chapters 25-28</td>\n",
       "    </tr>\n",
       "    <tr>\n",
       "      <th>35</th>\n",
       "      <td>Pride and Prejudice: Novel Summary: Chapters 2...</td>\n",
       "      <td>Chapter 29: The next day Collins talks about o...</td>\n",
       "      <td>Pride and Prejudice</td>\n",
       "      <td>Chapters 29-32</td>\n",
       "    </tr>\n",
       "    <tr>\n",
       "      <th>36</th>\n",
       "      <td>Pride and Prejudice: Novel Summary: Chapters 3...</td>\n",
       "      <td>Chapter 33: More than once Elizabeth has unexp...</td>\n",
       "      <td>Pride and Prejudice</td>\n",
       "      <td>Chapters 33-36</td>\n",
       "    </tr>\n",
       "    <tr>\n",
       "      <th>37</th>\n",
       "      <td>Pride and Prejudice: Novel Summary: Chapters 3...</td>\n",
       "      <td>Chapter 37: Darcy and Fitzwilliam leave Rosing...</td>\n",
       "      <td>Pride and Prejudice</td>\n",
       "      <td>Chapters 37-40</td>\n",
       "    </tr>\n",
       "    <tr>\n",
       "      <th>38</th>\n",
       "      <td>Pride and Prejudice: Novel Summary: Chapters 4...</td>\n",
       "      <td>Chapter 41: When the regiment leaves Meryton K...</td>\n",
       "      <td>Pride and Prejudice</td>\n",
       "      <td>Chapters 41-44</td>\n",
       "    </tr>\n",
       "    <tr>\n",
       "      <th>39</th>\n",
       "      <td>Pride and Prejudice: Novel Summary: Chapters 4...</td>\n",
       "      <td>Chapter 45: Elizabeth is now convinced that Mi...</td>\n",
       "      <td>Pride and Prejudice</td>\n",
       "      <td>Chapters 45-48</td>\n",
       "    </tr>\n",
       "    <tr>\n",
       "      <th>40</th>\n",
       "      <td>Pride and Prejudice: Novel Summary: Chapters 4...</td>\n",
       "      <td>Chapter 49: Two days after Mr. Bennet returns,...</td>\n",
       "      <td>Pride and Prejudice</td>\n",
       "      <td>Chapters 49-52</td>\n",
       "    </tr>\n",
       "    <tr>\n",
       "      <th>41</th>\n",
       "      <td>Pride and Prejudice: Novel Summary: Chapters 5...</td>\n",
       "      <td>Chapter 53: Lydia and Wickham leave Longbourn ...</td>\n",
       "      <td>Pride and Prejudice</td>\n",
       "      <td>Chapters 53-56</td>\n",
       "    </tr>\n",
       "    <tr>\n",
       "      <th>42</th>\n",
       "      <td>Pride and Prejudice: Novel Summary: Chapters 5...</td>\n",
       "      <td>Chapter 57: When Lady Catherine is gone, Eliza...</td>\n",
       "      <td>Pride and Prejudice</td>\n",
       "      <td>Chapters 57-60</td>\n",
       "    </tr>\n",
       "    <tr>\n",
       "      <th>43</th>\n",
       "      <td>Pride and Prejudice: Novel Summary: Chapter 61</td>\n",
       "      <td>Chapter 61: Mrs. Bennet is happy on the day th...</td>\n",
       "      <td>Pride and Prejudice</td>\n",
       "      <td>Chapter 61</td>\n",
       "    </tr>\n",
       "  </tbody>\n",
       "</table>\n",
       "</div>"
      ],
      "text/plain": [
       "                                        chapter_title  \\\n",
       "28   Pride and Prejudice: Novel Summary: Chapters 1-4   \n",
       "29   Pride and Prejudice: Novel Summary: Chapters 5-8   \n",
       "30  Pride and Prejudice: Novel Summary: Chapters 9-12   \n",
       "31  Pride and Prejudice: Novel Summary: Chapters 1...   \n",
       "32  Pride and Prejudice: Novel Summary: Chapters 1...   \n",
       "33  Pride and Prejudice: Novel Summary: Chapters 2...   \n",
       "34  Pride and Prejudice: Novel Summary: Chapters 2...   \n",
       "35  Pride and Prejudice: Novel Summary: Chapters 2...   \n",
       "36  Pride and Prejudice: Novel Summary: Chapters 3...   \n",
       "37  Pride and Prejudice: Novel Summary: Chapters 3...   \n",
       "38  Pride and Prejudice: Novel Summary: Chapters 4...   \n",
       "39  Pride and Prejudice: Novel Summary: Chapters 4...   \n",
       "40  Pride and Prejudice: Novel Summary: Chapters 4...   \n",
       "41  Pride and Prejudice: Novel Summary: Chapters 5...   \n",
       "42  Pride and Prejudice: Novel Summary: Chapters 5...   \n",
       "43     Pride and Prejudice: Novel Summary: Chapter 61   \n",
       "\n",
       "                                      chapter_summary           book_title  \\\n",
       "28  Chapter 1: Chapter one introduces Mr. and Mrs....  Pride and Prejudice   \n",
       "29  Chapter 5: Sir William and Lady Lucas are furt...  Pride and Prejudice   \n",
       "30  Chapter 9: Mrs. Bingley and her two youngest d...  Pride and Prejudice   \n",
       "31  Chapter 13: Mr. Bennet reveals that he has rec...  Pride and Prejudice   \n",
       "32  Chapter 17: The next day Elizabeth tells Jane ...  Pride and Prejudice   \n",
       "33  Chapter 21: Mr. Collins begins to ignore Eliza...  Pride and Prejudice   \n",
       "34  Chapter 25: Mr. Collins returns to his parish,...  Pride and Prejudice   \n",
       "35  Chapter 29: The next day Collins talks about o...  Pride and Prejudice   \n",
       "36  Chapter 33: More than once Elizabeth has unexp...  Pride and Prejudice   \n",
       "37  Chapter 37: Darcy and Fitzwilliam leave Rosing...  Pride and Prejudice   \n",
       "38  Chapter 41: When the regiment leaves Meryton K...  Pride and Prejudice   \n",
       "39  Chapter 45: Elizabeth is now convinced that Mi...  Pride and Prejudice   \n",
       "40  Chapter 49: Two days after Mr. Bennet returns,...  Pride and Prejudice   \n",
       "41  Chapter 53: Lydia and Wickham leave Longbourn ...  Pride and Prejudice   \n",
       "42  Chapter 57: When Lady Catherine is gone, Eliza...  Pride and Prejudice   \n",
       "43  Chapter 61: Mrs. Bennet is happy on the day th...  Pride and Prejudice   \n",
       "\n",
       "          chapters  \n",
       "28    Chapters 1-4  \n",
       "29    Chapters 5-8  \n",
       "30   Chapters 9-12  \n",
       "31  Chapters 13-16  \n",
       "32  Chapters 17-20  \n",
       "33  Chapters 21-24  \n",
       "34  Chapters 25-28  \n",
       "35  Chapters 29-32  \n",
       "36  Chapters 33-36  \n",
       "37  Chapters 37-40  \n",
       "38  Chapters 41-44  \n",
       "39  Chapters 45-48  \n",
       "40  Chapters 49-52  \n",
       "41  Chapters 53-56  \n",
       "42  Chapters 57-60  \n",
       "43      Chapter 61  "
      ]
     },
     "execution_count": 23,
     "metadata": {},
     "output_type": "execute_result"
    }
   ],
   "source": [
    "pp_df = start_df('Pride and Prejudice')\n",
    "pp_df"
   ]
  },
  {
   "cell_type": "code",
   "execution_count": 24,
   "metadata": {},
   "outputs": [],
   "source": [
    "pp_df['chapter_text'] = [\n",
    "    ' '.join(pp_ch_texts[0:3]),\n",
    "    ' '.join(pp_ch_texts[4:7]),\n",
    "    ' '.join(pp_ch_texts[8:11]),\n",
    "    ' '.join(pp_ch_texts[12:15]),\n",
    "    ' '.join(pp_ch_texts[16:19]),\n",
    "    ' '.join(pp_ch_texts[20:23]),\n",
    "    ' '.join(pp_ch_texts[24:27]),\n",
    "    ' '.join(pp_ch_texts[28:31]),\n",
    "    ' '.join(pp_ch_texts[32:35]),\n",
    "    ' '.join(pp_ch_texts[36:39]),\n",
    "    ' '.join(pp_ch_texts[40:43]),\n",
    "    ' '.join(pp_ch_texts[44:47]),\n",
    "    ' '.join(pp_ch_texts[48:51]),\n",
    "    ' '.join(pp_ch_texts[52:55]),\n",
    "    ' '.join(pp_ch_texts[56:59]),\n",
    "    pp_ch_texts[60]\n",
    "]"
   ]
  },
  {
   "cell_type": "code",
   "execution_count": 25,
   "metadata": {},
   "outputs": [
    {
     "data": {
      "text/html": [
       "<div>\n",
       "<style scoped>\n",
       "    .dataframe tbody tr th:only-of-type {\n",
       "        vertical-align: middle;\n",
       "    }\n",
       "\n",
       "    .dataframe tbody tr th {\n",
       "        vertical-align: top;\n",
       "    }\n",
       "\n",
       "    .dataframe thead th {\n",
       "        text-align: right;\n",
       "    }\n",
       "</style>\n",
       "<table border=\"1\" class=\"dataframe\">\n",
       "  <thead>\n",
       "    <tr style=\"text-align: right;\">\n",
       "      <th></th>\n",
       "      <th>chapter_title</th>\n",
       "      <th>chapter_summary</th>\n",
       "      <th>book_title</th>\n",
       "      <th>chapters</th>\n",
       "      <th>chapter_text</th>\n",
       "    </tr>\n",
       "  </thead>\n",
       "  <tbody>\n",
       "    <tr>\n",
       "      <th>28</th>\n",
       "      <td>Pride and Prejudice: Novel Summary: Chapters 1-4</td>\n",
       "      <td>Chapter 1: Chapter one introduces Mr. and Mrs....</td>\n",
       "      <td>Pride and Prejudice</td>\n",
       "      <td>Chapters 1-4</td>\n",
       "      <td>Pride and PrejudicebyJane Austen\\n\\n\\n\\n\\nPrid...</td>\n",
       "    </tr>\n",
       "    <tr>\n",
       "      <th>29</th>\n",
       "      <td>Pride and Prejudice: Novel Summary: Chapters 5-8</td>\n",
       "      <td>Chapter 5: Sir William and Lady Lucas are furt...</td>\n",
       "      <td>Pride and Prejudice</td>\n",
       "      <td>Chapters 5-8</td>\n",
       "      <td>\\n\\n\\nWithin a short walk of Longbourn lived a...</td>\n",
       "    </tr>\n",
       "    <tr>\n",
       "      <th>30</th>\n",
       "      <td>Pride and Prejudice: Novel Summary: Chapters 9-12</td>\n",
       "      <td>Chapter 9: Mrs. Bingley and her two youngest d...</td>\n",
       "      <td>Pride and Prejudice</td>\n",
       "      <td>Chapters 9-12</td>\n",
       "      <td>\\n\\n\\nElizabeth passed the chief of the night ...</td>\n",
       "    </tr>\n",
       "  </tbody>\n",
       "</table>\n",
       "</div>"
      ],
      "text/plain": [
       "                                        chapter_title  \\\n",
       "28   Pride and Prejudice: Novel Summary: Chapters 1-4   \n",
       "29   Pride and Prejudice: Novel Summary: Chapters 5-8   \n",
       "30  Pride and Prejudice: Novel Summary: Chapters 9-12   \n",
       "\n",
       "                                      chapter_summary           book_title  \\\n",
       "28  Chapter 1: Chapter one introduces Mr. and Mrs....  Pride and Prejudice   \n",
       "29  Chapter 5: Sir William and Lady Lucas are furt...  Pride and Prejudice   \n",
       "30  Chapter 9: Mrs. Bingley and her two youngest d...  Pride and Prejudice   \n",
       "\n",
       "         chapters                                       chapter_text  \n",
       "28   Chapters 1-4  Pride and PrejudicebyJane Austen\\n\\n\\n\\n\\nPrid...  \n",
       "29   Chapters 5-8  \\n\\n\\nWithin a short walk of Longbourn lived a...  \n",
       "30  Chapters 9-12  \\n\\n\\nElizabeth passed the chief of the night ...  "
      ]
     },
     "execution_count": 25,
     "metadata": {},
     "output_type": "execute_result"
    }
   ],
   "source": [
    "pp_df.head(3)"
   ]
  },
  {
   "cell_type": "markdown",
   "metadata": {},
   "source": [
    "### Start construction of main dataframe from first two books"
   ]
  },
  {
   "cell_type": "code",
   "execution_count": 26,
   "metadata": {},
   "outputs": [],
   "source": [
    "main_df = pd.concat([df_ai, pp_df])"
   ]
  },
  {
   "cell_type": "code",
   "execution_count": 27,
   "metadata": {},
   "outputs": [
    {
     "data": {
      "text/plain": [
       "(12, 5)"
      ]
     },
     "execution_count": 27,
     "metadata": {},
     "output_type": "execute_result"
    }
   ],
   "source": [
    "df_ai.shape"
   ]
  },
  {
   "cell_type": "code",
   "execution_count": 28,
   "metadata": {},
   "outputs": [
    {
     "data": {
      "text/plain": [
       "(16, 5)"
      ]
     },
     "execution_count": 28,
     "metadata": {},
     "output_type": "execute_result"
    }
   ],
   "source": [
    "pp_df.shape"
   ]
  },
  {
   "cell_type": "code",
   "execution_count": 29,
   "metadata": {},
   "outputs": [
    {
     "data": {
      "text/plain": [
       "(28, 5)"
      ]
     },
     "execution_count": 29,
     "metadata": {},
     "output_type": "execute_result"
    }
   ],
   "source": [
    "main_df.shape"
   ]
  },
  {
   "cell_type": "markdown",
   "metadata": {},
   "source": [
    "### King Lear"
   ]
  },
  {
   "cell_type": "markdown",
   "metadata": {},
   "source": [
    "#### Split full text into chapters"
   ]
  },
  {
   "cell_type": "code",
   "execution_count": 30,
   "metadata": {},
   "outputs": [
    {
     "data": {
      "text/plain": [
       "44    Act 1, Scene 1-Act 1, Scene 2\n",
       "45    Act 1, Scene 3-Act 1, Scene 4\n",
       "46    Act 1, Scene 5-Act 2, Scene 1\n",
       "47    Act 2, Scene 2-Act 2, Scene 3\n",
       "48    Act 2, Scene 4-Act 3, Scene 1\n",
       "49    Act 3, Scene 2-Act 3, Scene 3\n",
       "50    Act 3, Scene 4-Act 3, Scene 5\n",
       "51    Act 3, Scene 6-Act 3, Scene 7\n",
       "52    Act 4, Scene 1-Act 4, Scene 2\n",
       "53    Act 4, Scene 3-Act 4, Scene 4\n",
       "54    Act 4, Scene 5-Act 4, Scene 6\n",
       "55    Act 4, Scene 7-Act 5, Scene 1\n",
       "56    Act 5, Scene 2-Act 5, Scene 3\n",
       "Name: chapters, dtype: object"
      ]
     },
     "execution_count": 30,
     "metadata": {},
     "output_type": "execute_result"
    }
   ],
   "source": [
    "chapters('King Lear')"
   ]
  },
  {
   "cell_type": "code",
   "execution_count": 31,
   "metadata": {},
   "outputs": [],
   "source": [
    "kl_act_names = [\n",
    "    'ACT I.',\n",
    "    'ACT II.',\n",
    "    'ACT III.',\n",
    "    'ACT IV',\n",
    "    'ACT V'\n",
    "]"
   ]
  },
  {
   "cell_type": "code",
   "execution_count": 32,
   "metadata": {},
   "outputs": [],
   "source": [
    "kl_ch_names_list = []"
   ]
  },
  {
   "cell_type": "code",
   "execution_count": 33,
   "metadata": {},
   "outputs": [],
   "source": [
    "kl_acts = split_chapters('King Lear', kl_act_names)"
   ]
  },
  {
   "cell_type": "code",
   "execution_count": 34,
   "metadata": {},
   "outputs": [],
   "source": [
    "kl_act1_names =[\n",
    "    'ACT I. Scene I.',\n",
    "    'Scene II',\n",
    "    'Scene III',\n",
    "    'Scene IV',\n",
    "    'Scene V'\n",
    "]\n",
    "\n",
    "kl_ch_names_list.append(kl_act1_names)"
   ]
  },
  {
   "cell_type": "code",
   "execution_count": 35,
   "metadata": {},
   "outputs": [],
   "source": [
    "kl_act2_names = [ \n",
    "    'ACT II. Scene I.',\n",
    "    'Scene II',\n",
    "    'Scene III',\n",
    "    'Scene IV',\n",
    "]\n",
    "\n",
    "kl_ch_names_list.append(kl_act2_names)"
   ]
  },
  {
   "cell_type": "code",
   "execution_count": 36,
   "metadata": {},
   "outputs": [],
   "source": [
    "kl_act3_names = [\n",
    "    'ACT III. Scene I',\n",
    "    'Scene II',\n",
    "    'Scene III',\n",
    "    'Scene IV',\n",
    "    'Scene V',\n",
    "    'Scene VI',\n",
    "    'Scene VII'\n",
    "]\n",
    "\n",
    "kl_ch_names_list.append(kl_act3_names)"
   ]
  },
  {
   "cell_type": "code",
   "execution_count": 37,
   "metadata": {},
   "outputs": [],
   "source": [
    "kl_act4_names = [\n",
    "    'ACT IV. Scene I',\n",
    "    'Scene II',\n",
    "    'Scene III',\n",
    "    'Scene IV',\n",
    "    'Scene V',\n",
    "    'Scene VI',\n",
    "    'Scene VII'\n",
    "]\n",
    "\n",
    "kl_ch_names_list.append(kl_act4_names)"
   ]
  },
  {
   "cell_type": "code",
   "execution_count": 38,
   "metadata": {},
   "outputs": [],
   "source": [
    "kl_act5_names = [\n",
    "    'ACT V. Scene I',\n",
    "    'Scene II',\n",
    "    'Scene III',\n",
    "]\n",
    "\n",
    "kl_ch_names_list.append(kl_act5_names)"
   ]
  },
  {
   "cell_type": "code",
   "execution_count": 39,
   "metadata": {},
   "outputs": [
    {
     "data": {
      "text/plain": [
       "5"
      ]
     },
     "execution_count": 39,
     "metadata": {},
     "output_type": "execute_result"
    }
   ],
   "source": [
    "len(kl_ch_names_list)"
   ]
  },
  {
   "cell_type": "code",
   "execution_count": 40,
   "metadata": {},
   "outputs": [],
   "source": [
    "kl_texts = []\n",
    "for i in range(5): \n",
    "    text = kl_acts[i]\n",
    "    chapter_names = kl_ch_names_list[i]\n",
    "    num_chapters = len(chapter_names)\n",
    "\n",
    "    partition_1 = text.partition(chapter_names[1])\n",
    "    chapter_1 = str(partition_1[0])\n",
    "    kl_texts.append(chapter_1)\n",
    "\n",
    "    for i in range(2, num_chapters):\n",
    "        partition_ch_group = text.partition(chapter_names[i])\n",
    "        partition_ch_subgroup = str(partition_ch_group[0])\n",
    "        partition_ch_sep = partition_ch_subgroup.partition(chapter_names[i-1])\n",
    "        partition_ch = str(partition_ch_sep[2])\n",
    "        kl_texts.append(partition_ch)\n",
    "\n",
    "    partition_last = text.partition(chapter_names[num_chapters-1])\n",
    "    chapter_last = str(partition_last[2])\n",
    "    kl_texts.append(chapter_last)"
   ]
  },
  {
   "cell_type": "code",
   "execution_count": 41,
   "metadata": {},
   "outputs": [
    {
     "data": {
      "text/plain": [
       "26"
      ]
     },
     "execution_count": 41,
     "metadata": {},
     "output_type": "execute_result"
    }
   ],
   "source": [
    "len(kl_texts)"
   ]
  },
  {
   "cell_type": "markdown",
   "metadata": {},
   "source": [
    "#### Create dataframe with chapter titles, chapter summaries, book title, chapter names, and chapter texts"
   ]
  },
  {
   "cell_type": "code",
   "execution_count": 42,
   "metadata": {},
   "outputs": [
    {
     "data": {
      "text/html": [
       "<div>\n",
       "<style scoped>\n",
       "    .dataframe tbody tr th:only-of-type {\n",
       "        vertical-align: middle;\n",
       "    }\n",
       "\n",
       "    .dataframe tbody tr th {\n",
       "        vertical-align: top;\n",
       "    }\n",
       "\n",
       "    .dataframe thead th {\n",
       "        text-align: right;\n",
       "    }\n",
       "</style>\n",
       "<table border=\"1\" class=\"dataframe\">\n",
       "  <thead>\n",
       "    <tr style=\"text-align: right;\">\n",
       "      <th></th>\n",
       "      <th>chapter_title</th>\n",
       "      <th>chapter_summary</th>\n",
       "      <th>book_title</th>\n",
       "      <th>chapters</th>\n",
       "    </tr>\n",
       "  </thead>\n",
       "  <tbody>\n",
       "    <tr>\n",
       "      <th>44</th>\n",
       "      <td>King Lear: Novel Summary: Act 1, Scene 1-Act 1...</td>\n",
       "      <td>Act 1, Scene 1: King Lear in his old age decid...</td>\n",
       "      <td>King Lear</td>\n",
       "      <td>Act 1, Scene 1-Act 1, Scene 2</td>\n",
       "    </tr>\n",
       "    <tr>\n",
       "      <th>45</th>\n",
       "      <td>King Lear: Novel Summary: Act 1, Scene 3-Act 1...</td>\n",
       "      <td>\\n\\t \\nAct 1, Scene 3: Goneril meets with the ...</td>\n",
       "      <td>King Lear</td>\n",
       "      <td>Act 1, Scene 3-Act 1, Scene 4</td>\n",
       "    </tr>\n",
       "    <tr>\n",
       "      <th>46</th>\n",
       "      <td>King Lear: Novel Summary: Act 1, Scene 5-Act 2...</td>\n",
       "      <td>\\n\\t \\nAct 1, Scene 5: Lear sends Kent, still ...</td>\n",
       "      <td>King Lear</td>\n",
       "      <td>Act 1, Scene 5-Act 2, Scene 1</td>\n",
       "    </tr>\n",
       "    <tr>\n",
       "      <th>47</th>\n",
       "      <td>King Lear: Novel Summary: Act 2, Scene 2-Act 2...</td>\n",
       "      <td>\\n\\t \\nAct 2, Scene 2: Kent and Oswald, messen...</td>\n",
       "      <td>King Lear</td>\n",
       "      <td>Act 2, Scene 2-Act 2, Scene 3</td>\n",
       "    </tr>\n",
       "    <tr>\n",
       "      <th>48</th>\n",
       "      <td>King Lear: Novel Summary: Act 2, Scene 4-Act 3...</td>\n",
       "      <td>\\n\\t \\nAct 2, Scene 4: Lear arrives at Glouces...</td>\n",
       "      <td>King Lear</td>\n",
       "      <td>Act 2, Scene 4-Act 3, Scene 1</td>\n",
       "    </tr>\n",
       "    <tr>\n",
       "      <th>49</th>\n",
       "      <td>King Lear: Novel Summary: Act 3, Scene 2-Act 3...</td>\n",
       "      <td>\\n\\t \\nAct 3, Scene 2: Lear and the Fool are c...</td>\n",
       "      <td>King Lear</td>\n",
       "      <td>Act 3, Scene 2-Act 3, Scene 3</td>\n",
       "    </tr>\n",
       "    <tr>\n",
       "      <th>50</th>\n",
       "      <td>King Lear: Novel Summary: Act 3, Scene 4-Act 3...</td>\n",
       "      <td>\\n\\t \\nAct 3, Scene 4: Lear and his men reach ...</td>\n",
       "      <td>King Lear</td>\n",
       "      <td>Act 3, Scene 4-Act 3, Scene 5</td>\n",
       "    </tr>\n",
       "    <tr>\n",
       "      <th>51</th>\n",
       "      <td>King Lear: Novel Summary: Act 3, Scene 6-Act 3...</td>\n",
       "      <td>\\n\\t \\nAct 3, Scene 6: When the men in the sto...</td>\n",
       "      <td>King Lear</td>\n",
       "      <td>Act 3, Scene 6-Act 3, Scene 7</td>\n",
       "    </tr>\n",
       "    <tr>\n",
       "      <th>52</th>\n",
       "      <td>King Lear: Novel Summary: Act 4, Scene 1-Act 4...</td>\n",
       "      <td>\\n\\t \\nAct 4, Scene 1: Gloucester is brought o...</td>\n",
       "      <td>King Lear</td>\n",
       "      <td>Act 4, Scene 1-Act 4, Scene 2</td>\n",
       "    </tr>\n",
       "    <tr>\n",
       "      <th>53</th>\n",
       "      <td>King Lear: Novel Summary: Act 4, Scene 3-Act 4...</td>\n",
       "      <td>Act 4, Scene 3: Kent and the Gentleman meet in...</td>\n",
       "      <td>King Lear</td>\n",
       "      <td>Act 4, Scene 3-Act 4, Scene 4</td>\n",
       "    </tr>\n",
       "    <tr>\n",
       "      <th>54</th>\n",
       "      <td>King Lear: Novel Summary: Act 4, Scene 5-Act 4...</td>\n",
       "      <td>\\n\\t \\nAct 4, Scene 5: Oswald carries a messag...</td>\n",
       "      <td>King Lear</td>\n",
       "      <td>Act 4, Scene 5-Act 4, Scene 6</td>\n",
       "    </tr>\n",
       "    <tr>\n",
       "      <th>55</th>\n",
       "      <td>King Lear: Novel Summary: Act 4, Scene 7-Act 5...</td>\n",
       "      <td>\\n\\t \\nAct 4, Scene 7: Back in the French camp...</td>\n",
       "      <td>King Lear</td>\n",
       "      <td>Act 4, Scene 7-Act 5, Scene 1</td>\n",
       "    </tr>\n",
       "    <tr>\n",
       "      <th>56</th>\n",
       "      <td>King Lear: Novel Summary: Act 5, Scene 2-Act 5...</td>\n",
       "      <td>\\n\\t \\nAct 5, Scene 2: Edgar drags his father ...</td>\n",
       "      <td>King Lear</td>\n",
       "      <td>Act 5, Scene 2-Act 5, Scene 3</td>\n",
       "    </tr>\n",
       "  </tbody>\n",
       "</table>\n",
       "</div>"
      ],
      "text/plain": [
       "                                        chapter_title  \\\n",
       "44  King Lear: Novel Summary: Act 1, Scene 1-Act 1...   \n",
       "45  King Lear: Novel Summary: Act 1, Scene 3-Act 1...   \n",
       "46  King Lear: Novel Summary: Act 1, Scene 5-Act 2...   \n",
       "47  King Lear: Novel Summary: Act 2, Scene 2-Act 2...   \n",
       "48  King Lear: Novel Summary: Act 2, Scene 4-Act 3...   \n",
       "49  King Lear: Novel Summary: Act 3, Scene 2-Act 3...   \n",
       "50  King Lear: Novel Summary: Act 3, Scene 4-Act 3...   \n",
       "51  King Lear: Novel Summary: Act 3, Scene 6-Act 3...   \n",
       "52  King Lear: Novel Summary: Act 4, Scene 1-Act 4...   \n",
       "53  King Lear: Novel Summary: Act 4, Scene 3-Act 4...   \n",
       "54  King Lear: Novel Summary: Act 4, Scene 5-Act 4...   \n",
       "55  King Lear: Novel Summary: Act 4, Scene 7-Act 5...   \n",
       "56  King Lear: Novel Summary: Act 5, Scene 2-Act 5...   \n",
       "\n",
       "                                      chapter_summary book_title  \\\n",
       "44  Act 1, Scene 1: King Lear in his old age decid...  King Lear   \n",
       "45  \\n\\t \\nAct 1, Scene 3: Goneril meets with the ...  King Lear   \n",
       "46  \\n\\t \\nAct 1, Scene 5: Lear sends Kent, still ...  King Lear   \n",
       "47  \\n\\t \\nAct 2, Scene 2: Kent and Oswald, messen...  King Lear   \n",
       "48  \\n\\t \\nAct 2, Scene 4: Lear arrives at Glouces...  King Lear   \n",
       "49  \\n\\t \\nAct 3, Scene 2: Lear and the Fool are c...  King Lear   \n",
       "50  \\n\\t \\nAct 3, Scene 4: Lear and his men reach ...  King Lear   \n",
       "51  \\n\\t \\nAct 3, Scene 6: When the men in the sto...  King Lear   \n",
       "52  \\n\\t \\nAct 4, Scene 1: Gloucester is brought o...  King Lear   \n",
       "53  Act 4, Scene 3: Kent and the Gentleman meet in...  King Lear   \n",
       "54  \\n\\t \\nAct 4, Scene 5: Oswald carries a messag...  King Lear   \n",
       "55  \\n\\t \\nAct 4, Scene 7: Back in the French camp...  King Lear   \n",
       "56  \\n\\t \\nAct 5, Scene 2: Edgar drags his father ...  King Lear   \n",
       "\n",
       "                         chapters  \n",
       "44  Act 1, Scene 1-Act 1, Scene 2  \n",
       "45  Act 1, Scene 3-Act 1, Scene 4  \n",
       "46  Act 1, Scene 5-Act 2, Scene 1  \n",
       "47  Act 2, Scene 2-Act 2, Scene 3  \n",
       "48  Act 2, Scene 4-Act 3, Scene 1  \n",
       "49  Act 3, Scene 2-Act 3, Scene 3  \n",
       "50  Act 3, Scene 4-Act 3, Scene 5  \n",
       "51  Act 3, Scene 6-Act 3, Scene 7  \n",
       "52  Act 4, Scene 1-Act 4, Scene 2  \n",
       "53  Act 4, Scene 3-Act 4, Scene 4  \n",
       "54  Act 4, Scene 5-Act 4, Scene 6  \n",
       "55  Act 4, Scene 7-Act 5, Scene 1  \n",
       "56  Act 5, Scene 2-Act 5, Scene 3  "
      ]
     },
     "execution_count": 42,
     "metadata": {},
     "output_type": "execute_result"
    }
   ],
   "source": [
    "kl_df = start_df('King Lear')\n",
    "kl_df"
   ]
  },
  {
   "cell_type": "code",
   "execution_count": 43,
   "metadata": {},
   "outputs": [],
   "source": [
    "kl_df['chapter_text'] =[\n",
    "    ' '.join(kl_texts[0:1]),\n",
    "    ' '.join(kl_texts[2:3]),\n",
    "    ' '.join(kl_texts[4:5]),\n",
    "    ' '.join(kl_texts[6:7]),\n",
    "    ' '.join(kl_texts[8:9]),\n",
    "    ' '.join(kl_texts[10:11]),\n",
    "    ' '.join(kl_texts[12:13]),\n",
    "    ' '.join(kl_texts[14:15]),\n",
    "    ' '.join(kl_texts[16:17]),\n",
    "    ' '.join(kl_texts[18:19]),\n",
    "    ' '.join(kl_texts[20:21]),\n",
    "    ' '.join(kl_texts[22:23]),\n",
    "    ' '.join(kl_texts[24:25]),\n",
    "]"
   ]
  },
  {
   "cell_type": "markdown",
   "metadata": {},
   "source": [
    "#### Add book to main dataframe"
   ]
  },
  {
   "cell_type": "code",
   "execution_count": 44,
   "metadata": {},
   "outputs": [],
   "source": [
    "main_df = pd.concat([main_df, kl_df])"
   ]
  },
  {
   "cell_type": "code",
   "execution_count": 45,
   "metadata": {},
   "outputs": [
    {
     "data": {
      "text/plain": [
       "41"
      ]
     },
     "execution_count": 45,
     "metadata": {},
     "output_type": "execute_result"
    }
   ],
   "source": [
    "len(main_df)"
   ]
  },
  {
   "cell_type": "markdown",
   "metadata": {},
   "source": [
    "### Hard Times"
   ]
  },
  {
   "cell_type": "markdown",
   "metadata": {},
   "source": [
    "#### Split full text into chapters"
   ]
  },
  {
   "cell_type": "code",
   "execution_count": 46,
   "metadata": {},
   "outputs": [
    {
     "data": {
      "text/plain": [
       "57    Hard Times: Summary: Book1Chapters 1-4\n",
       "58                         Book1Chapters 1-4\n",
       "59                         Book1Chapters 5-8\n",
       "60                        Book1Chapters 9-12\n",
       "61                       Book1Chapters 13-16\n",
       "62                         Book2Chapters 1-4\n",
       "63                         Book2Chapters 5-8\n",
       "64                        Book2Chapters 9-12\n",
       "65                         Book3Chapters 1-4\n",
       "66                         Book3Chapters 5-9\n",
       "Name: chapters, dtype: object"
      ]
     },
     "execution_count": 46,
     "metadata": {},
     "output_type": "execute_result"
    }
   ],
   "source": [
    "chapters('Hard Times')"
   ]
  },
  {
   "cell_type": "code",
   "execution_count": 47,
   "metadata": {},
   "outputs": [],
   "source": [
    "ht_chap_names =[\n",
    "    'CHAPTER I - THE ONE THING NEEDFUL',\n",
    "    'CHAPTER II - MURDERING THE INNOCENTS',\n",
    "    'CHAPTER III - A LOOPHOLE',\n",
    "    'CHAPTER IV - MR. BOUNDERBY',\n",
    "    'CHAPTER V - THE KEYNOTE',\n",
    "    'CHAPTER VI - SLEARY\\'S HORSEMANSHIP',\n",
    "    'CHAPTER VII - MRS. SPARSIT',\n",
    "    'CHAPTER VIII - NEVER WONDER',\n",
    "    'CHAPTER IX - SISSY\\'S PROGRESS',\n",
    "    'CHAPTER X - STEPHEN BLACKPOOL',\n",
    "    'CHAPTER XI - NO WAY OUT',\n",
    "    'CHAPTER XII - THE OLD WOMAN',\n",
    "    'CHAPTER XIII - RACHAEL',\n",
    "    'CHAPTER XIV - THE GREAT MANUFACTURER',\n",
    "    'CHAPTER XV - FATHER AND DAUGHTER',\n",
    "    'CHAPTER XVI - HUSBAND AND WIFE',\n",
    "    'CHAPTER I - EFFECTS IN THE BANK',\n",
    "    'CHAPTER II - MR. JAMES HARTHOUSE',\n",
    "    'CHAPTER III - THE WHELP',\n",
    "    'CHAPTER IV - MEN AND BROTHERS',\n",
    "    'CHAPTER V - MEN AND MASTERS',\n",
    "    'CHAPTER VI - FADING AWAY',\n",
    "    'CHAPTER VII - GUNPOWDER',\n",
    "    'CHAPTER VIII - EXPLOSION',\n",
    "    'CHAPTER IX - HEARING THE LAST OF IT',\n",
    "    'CHAPTER X - MRS. SPARSIT\\'S STAIRCASE',\n",
    "    'CHAPTER XI - LOWER AND LOWER',\n",
    "    'CHAPTER XII - DOWN',\n",
    "    'CHAPTER I - ANOTHER THING NEEDFUL',\n",
    "    'CHAPTER II - VERY RIDICULOUS',\n",
    "    'CHAPTER III - VERY DECIDED',\n",
    "    'CHAPTER IV - LOST',\n",
    "    'CHAPTER V - FOUND',\n",
    "    'CHAPTER VI - THE STARLIGHT',\n",
    "    'CHAPTER VII - WHELP-HUNTING',\n",
    "    'CHAPTER VIII - PHILOSOPHICAL',\n",
    "    'CHAPTER IX - FINAL'\n",
    "]"
   ]
  },
  {
   "cell_type": "code",
   "execution_count": 48,
   "metadata": {},
   "outputs": [],
   "source": [
    "ht_texts = split_chapters('Hard Times', ht_chap_names)"
   ]
  },
  {
   "cell_type": "markdown",
   "metadata": {},
   "source": [
    "#### Create dataframe with chapter titles, chapter summaries, book title, chapter names, and chapter texts"
   ]
  },
  {
   "cell_type": "code",
   "execution_count": 49,
   "metadata": {},
   "outputs": [
    {
     "data": {
      "text/plain": [
       "57    Hard Times: Summary: Book1Chapters 1-4\n",
       "58                         Book1Chapters 1-4\n",
       "59                         Book1Chapters 5-8\n",
       "60                        Book1Chapters 9-12\n",
       "61                       Book1Chapters 13-16\n",
       "62                         Book2Chapters 1-4\n",
       "63                         Book2Chapters 5-8\n",
       "64                        Book2Chapters 9-12\n",
       "65                         Book3Chapters 1-4\n",
       "66                         Book3Chapters 5-9\n",
       "Name: chapters, dtype: object"
      ]
     },
     "execution_count": 49,
     "metadata": {},
     "output_type": "execute_result"
    }
   ],
   "source": [
    "chapters('Hard Times')"
   ]
  },
  {
   "cell_type": "code",
   "execution_count": 50,
   "metadata": {},
   "outputs": [
    {
     "data": {
      "text/plain": [
       "37"
      ]
     },
     "execution_count": 50,
     "metadata": {},
     "output_type": "execute_result"
    }
   ],
   "source": [
    "len(ht_texts)"
   ]
  },
  {
   "cell_type": "code",
   "execution_count": 51,
   "metadata": {},
   "outputs": [],
   "source": [
    "ht_chapters = [\n",
    "    ' '.join(ht_texts[0:3]),\n",
    "    ' '.join(ht_texts[0:3]),\n",
    "    ' '.join(ht_texts[4:7]),\n",
    "    ' '.join(ht_texts[8:11]),\n",
    "    ' '.join(ht_texts[12:15]),\n",
    "    ' '.join(ht_texts[16:19]),\n",
    "    ' '.join(ht_texts[20:23]),\n",
    "    ' '.join(ht_texts[24:27]),\n",
    "    ' '.join(ht_texts[28:31]),\n",
    "    ' '.join(ht_texts[32:36]),\n",
    "]"
   ]
  },
  {
   "cell_type": "code",
   "execution_count": 52,
   "metadata": {},
   "outputs": [
    {
     "data": {
      "text/html": [
       "<div>\n",
       "<style scoped>\n",
       "    .dataframe tbody tr th:only-of-type {\n",
       "        vertical-align: middle;\n",
       "    }\n",
       "\n",
       "    .dataframe tbody tr th {\n",
       "        vertical-align: top;\n",
       "    }\n",
       "\n",
       "    .dataframe thead th {\n",
       "        text-align: right;\n",
       "    }\n",
       "</style>\n",
       "<table border=\"1\" class=\"dataframe\">\n",
       "  <thead>\n",
       "    <tr style=\"text-align: right;\">\n",
       "      <th></th>\n",
       "      <th>chapter_title</th>\n",
       "      <th>chapter_summary</th>\n",
       "      <th>book_title</th>\n",
       "      <th>chapters</th>\n",
       "    </tr>\n",
       "  </thead>\n",
       "  <tbody>\n",
       "    <tr>\n",
       "      <th>57</th>\n",
       "      <td>Hard Times: Summary: Book1Chapters 1-4</td>\n",
       "      <td>Book the First: Sowing Chapters 1-4\\n\\tThe fir...</td>\n",
       "      <td>Hard Times</td>\n",
       "      <td>Hard Times: Summary: Book1Chapters 1-4</td>\n",
       "    </tr>\n",
       "    <tr>\n",
       "      <th>58</th>\n",
       "      <td>Hard Times: Novel Summary: Book1Chapters 1-4</td>\n",
       "      <td>Book1 Chapters 1-4\\n\\n\\t \\nBook the First: Sow...</td>\n",
       "      <td>Hard Times</td>\n",
       "      <td>Book1Chapters 1-4</td>\n",
       "    </tr>\n",
       "    <tr>\n",
       "      <th>59</th>\n",
       "      <td>Hard Times: Novel Summary: Book1Chapters 5-8</td>\n",
       "      <td>\\n\\t \\nBook the First: Sowing\\n\\tChapters 5-8\\...</td>\n",
       "      <td>Hard Times</td>\n",
       "      <td>Book1Chapters 5-8</td>\n",
       "    </tr>\n",
       "    <tr>\n",
       "      <th>60</th>\n",
       "      <td>Hard Times: Novel Summary: Book1Chapters 9-12</td>\n",
       "      <td>Book1 Chapters 9-12\\n\\n\\t \\nBook the First: So...</td>\n",
       "      <td>Hard Times</td>\n",
       "      <td>Book1Chapters 9-12</td>\n",
       "    </tr>\n",
       "    <tr>\n",
       "      <th>61</th>\n",
       "      <td>Hard Times: Novel Summary: Book1Chapters 13-16</td>\n",
       "      <td>\\n\\t \\nBook the First: Sowing\\n\\tChapters 13-1...</td>\n",
       "      <td>Hard Times</td>\n",
       "      <td>Book1Chapters 13-16</td>\n",
       "    </tr>\n",
       "    <tr>\n",
       "      <th>62</th>\n",
       "      <td>Hard Times: Novel Summary: Book2Chapters 1-4</td>\n",
       "      <td>Book2 Chapters 1-4\\n\\n\\t \\nBook the Second: Re...</td>\n",
       "      <td>Hard Times</td>\n",
       "      <td>Book2Chapters 1-4</td>\n",
       "    </tr>\n",
       "    <tr>\n",
       "      <th>63</th>\n",
       "      <td>Hard Times: Novel Summary: Book2Chapters 5-8</td>\n",
       "      <td>\\n\\t \\nBook the Second: Reaping\\n\\tChapters 5-...</td>\n",
       "      <td>Hard Times</td>\n",
       "      <td>Book2Chapters 5-8</td>\n",
       "    </tr>\n",
       "    <tr>\n",
       "      <th>64</th>\n",
       "      <td>Hard Times: Novel Summary: Book2Chapters 9-12</td>\n",
       "      <td>Book2 Chapters 9-12\\n\\n\\t \\nBook the Second: R...</td>\n",
       "      <td>Hard Times</td>\n",
       "      <td>Book2Chapters 9-12</td>\n",
       "    </tr>\n",
       "    <tr>\n",
       "      <th>65</th>\n",
       "      <td>Hard Times: Novel Summary: Book3Chapters 1-4</td>\n",
       "      <td>\\n\\t \\nBook the Third: Garnering\\n\\tChapters 1...</td>\n",
       "      <td>Hard Times</td>\n",
       "      <td>Book3Chapters 1-4</td>\n",
       "    </tr>\n",
       "    <tr>\n",
       "      <th>66</th>\n",
       "      <td>Hard Times: Novel Summary: Book3Chapters 5-9</td>\n",
       "      <td>Book3 Chapters 5-9\\n\\n\\t \\nBook the Third: Gar...</td>\n",
       "      <td>Hard Times</td>\n",
       "      <td>Book3Chapters 5-9</td>\n",
       "    </tr>\n",
       "  </tbody>\n",
       "</table>\n",
       "</div>"
      ],
      "text/plain": [
       "                                     chapter_title  \\\n",
       "57          Hard Times: Summary: Book1Chapters 1-4   \n",
       "58    Hard Times: Novel Summary: Book1Chapters 1-4   \n",
       "59    Hard Times: Novel Summary: Book1Chapters 5-8   \n",
       "60   Hard Times: Novel Summary: Book1Chapters 9-12   \n",
       "61  Hard Times: Novel Summary: Book1Chapters 13-16   \n",
       "62    Hard Times: Novel Summary: Book2Chapters 1-4   \n",
       "63    Hard Times: Novel Summary: Book2Chapters 5-8   \n",
       "64   Hard Times: Novel Summary: Book2Chapters 9-12   \n",
       "65    Hard Times: Novel Summary: Book3Chapters 1-4   \n",
       "66    Hard Times: Novel Summary: Book3Chapters 5-9   \n",
       "\n",
       "                                      chapter_summary  book_title  \\\n",
       "57  Book the First: Sowing Chapters 1-4\\n\\tThe fir...  Hard Times   \n",
       "58  Book1 Chapters 1-4\\n\\n\\t \\nBook the First: Sow...  Hard Times   \n",
       "59  \\n\\t \\nBook the First: Sowing\\n\\tChapters 5-8\\...  Hard Times   \n",
       "60  Book1 Chapters 9-12\\n\\n\\t \\nBook the First: So...  Hard Times   \n",
       "61  \\n\\t \\nBook the First: Sowing\\n\\tChapters 13-1...  Hard Times   \n",
       "62  Book2 Chapters 1-4\\n\\n\\t \\nBook the Second: Re...  Hard Times   \n",
       "63  \\n\\t \\nBook the Second: Reaping\\n\\tChapters 5-...  Hard Times   \n",
       "64  Book2 Chapters 9-12\\n\\n\\t \\nBook the Second: R...  Hard Times   \n",
       "65  \\n\\t \\nBook the Third: Garnering\\n\\tChapters 1...  Hard Times   \n",
       "66  Book3 Chapters 5-9\\n\\n\\t \\nBook the Third: Gar...  Hard Times   \n",
       "\n",
       "                                  chapters  \n",
       "57  Hard Times: Summary: Book1Chapters 1-4  \n",
       "58                       Book1Chapters 1-4  \n",
       "59                       Book1Chapters 5-8  \n",
       "60                      Book1Chapters 9-12  \n",
       "61                     Book1Chapters 13-16  \n",
       "62                       Book2Chapters 1-4  \n",
       "63                       Book2Chapters 5-8  \n",
       "64                      Book2Chapters 9-12  \n",
       "65                       Book3Chapters 1-4  \n",
       "66                       Book3Chapters 5-9  "
      ]
     },
     "execution_count": 52,
     "metadata": {},
     "output_type": "execute_result"
    }
   ],
   "source": [
    "df_ht = start_df('Hard Times')\n",
    "df_ht"
   ]
  },
  {
   "cell_type": "code",
   "execution_count": 53,
   "metadata": {},
   "outputs": [],
   "source": [
    "df_ht['chapter_text'] = ht_chapters"
   ]
  },
  {
   "cell_type": "code",
   "execution_count": 54,
   "metadata": {},
   "outputs": [
    {
     "data": {
      "text/plain": [
       "chapter_title                 Hard Times: Summary: Book1Chapters 1-4\n",
       "chapter_summary    Book the First: Sowing Chapters 1-4\\n\\tThe fir...\n",
       "book_title                                                Hard Times\n",
       "chapters                      Hard Times: Summary: Book1Chapters 1-4\n",
       "chapter_text       Hard TimesbyCharles Dickens*\\n\\n\\n\\n\\n\\nHard T...\n",
       "Name: 57, dtype: object"
      ]
     },
     "execution_count": 54,
     "metadata": {},
     "output_type": "execute_result"
    }
   ],
   "source": [
    "df_ht.iloc[0]"
   ]
  },
  {
   "cell_type": "code",
   "execution_count": 55,
   "metadata": {},
   "outputs": [
    {
     "data": {
      "text/plain": [
       "Int64Index([57, 58, 59, 60, 61, 62, 63, 64, 65, 66], dtype='int64')"
      ]
     },
     "execution_count": 55,
     "metadata": {},
     "output_type": "execute_result"
    }
   ],
   "source": [
    "df_ht.index"
   ]
  },
  {
   "cell_type": "code",
   "execution_count": 56,
   "metadata": {},
   "outputs": [],
   "source": [
    "df_ht.drop(index=57, inplace=True)"
   ]
  },
  {
   "cell_type": "markdown",
   "metadata": {},
   "source": [
    "#### Add book to main dataframe"
   ]
  },
  {
   "cell_type": "code",
   "execution_count": 57,
   "metadata": {},
   "outputs": [],
   "source": [
    "main_df = pd.concat([main_df, df_ht])"
   ]
  },
  {
   "cell_type": "code",
   "execution_count": 58,
   "metadata": {},
   "outputs": [
    {
     "data": {
      "text/plain": [
       "50"
      ]
     },
     "execution_count": 58,
     "metadata": {},
     "output_type": "execute_result"
    }
   ],
   "source": [
    "len(main_df)"
   ]
  },
  {
   "cell_type": "markdown",
   "metadata": {},
   "source": [
    "### Merry Wives of Windsor"
   ]
  },
  {
   "cell_type": "markdown",
   "metadata": {},
   "source": [
    "#### Split full text into chapters"
   ]
  },
  {
   "cell_type": "code",
   "execution_count": 59,
   "metadata": {},
   "outputs": [
    {
     "data": {
      "text/plain": [
       "67    Merry Wives of Windsor: Novel Summary\n",
       "68                          Act I Scene 1-2\n",
       "69                            Act I Scene 3\n",
       "70                            Act I Scene 4\n",
       "71                           Act II Scene 1\n",
       "72                           Act II Scene 2\n",
       "73         Act II Scene 3 - Act III Scene 1\n",
       "74                          Act III Scene 2\n",
       "75                          Act III Scene 3\n",
       "76                          Act III Scene 4\n",
       "77                          Act III Scene 5\n",
       "78                         Act IV Scene 1-2\n",
       "79                         Act IV Scene 3-4\n",
       "80                         Act IV Scene 5-6\n",
       "81                          Act V Scene 1-5\n",
       "Name: chapters, dtype: object"
      ]
     },
     "execution_count": 59,
     "metadata": {},
     "output_type": "execute_result"
    }
   ],
   "source": [
    "chapters('Merry Wives of Windsor')"
   ]
  },
  {
   "cell_type": "code",
   "execution_count": 60,
   "metadata": {},
   "outputs": [],
   "source": [
    "mw_act_names = [\n",
    "    'ACT I.',\n",
    "    'ACT II.',\n",
    "    'ACT III.',\n",
    "    'ACT IV',\n",
    "    'ACT V'\n",
    "]"
   ]
  },
  {
   "cell_type": "code",
   "execution_count": 61,
   "metadata": {},
   "outputs": [],
   "source": [
    "mw_ch_names_list = []"
   ]
  },
  {
   "cell_type": "code",
   "execution_count": 62,
   "metadata": {},
   "outputs": [],
   "source": [
    "mw_acts = split_chapters('Merry Wives of Windsor', mw_act_names)"
   ]
  },
  {
   "cell_type": "code",
   "execution_count": 63,
   "metadata": {},
   "outputs": [],
   "source": [
    "mw_act1_names =[\n",
    "    'ACT I. Scene 1.',\n",
    "    'Scene 2.',\n",
    "    'Scene 3.',\n",
    "    'Scene 4.',\n",
    "]\n",
    "mw_ch_names_list.append(mw_act1_names)\n",
    "\n",
    "\n",
    "mw_act2_names = [ \n",
    "    'ACT II. Scene 1.',\n",
    "    'Scene 2.',\n",
    "    'Scene 3.',\n",
    "]\n",
    "mw_ch_names_list.append(mw_act2_names)\n",
    "\n",
    "\n",
    "mw_act3_names = [\n",
    "    'ACT III. Scene 1.',\n",
    "    'Scene 2.',\n",
    "    'Scene 3.',\n",
    "    'Scene 4.',\n",
    "    'Scene 5.',\n",
    "    'Scene 6.',\n",
    "]\n",
    "mw_ch_names_list.append(mw_act3_names)\n",
    "\n",
    "\n",
    "mw_act4_names = [\n",
    "    'ACT IV. Scene I.',\n",
    "    'Scene 2.',\n",
    "    'Scene 3.',\n",
    "    'Scene 4.',\n",
    "    'Scene 5.',\n",
    "    'Scene 6.',\n",
    "]\n",
    "mw_ch_names_list.append(mw_act4_names)\n",
    "\n",
    "\n",
    "mw_act5_names = [\n",
    "    'ACT V. Scene 1.',\n",
    "    'Scene 2.',\n",
    "    'Scene 3.',\n",
    "    'Scene 4.',\n",
    "    'Scene 5.',\n",
    "]\n",
    "mw_ch_names_list.append(mw_act5_names)"
   ]
  },
  {
   "cell_type": "code",
   "execution_count": 64,
   "metadata": {},
   "outputs": [
    {
     "data": {
      "text/plain": [
       "5"
      ]
     },
     "execution_count": 64,
     "metadata": {},
     "output_type": "execute_result"
    }
   ],
   "source": [
    "len(mw_ch_names_list)"
   ]
  },
  {
   "cell_type": "code",
   "execution_count": 65,
   "metadata": {},
   "outputs": [],
   "source": [
    "mw_texts = []\n",
    "for i in range(5): \n",
    "    text = mw_acts[i]\n",
    "    chapter_names = mw_ch_names_list[i]\n",
    "    num_chapters = len(chapter_names)\n",
    "\n",
    "    partition_1 = text.partition(chapter_names[1])\n",
    "    chapter_1 = str(partition_1[0])\n",
    "    mw_texts.append(chapter_1)\n",
    "\n",
    "    for i in range(2, num_chapters):\n",
    "        partition_ch_group = text.partition(chapter_names[i])\n",
    "        partition_ch_subgroup = str(partition_ch_group[0])\n",
    "        partition_ch_sep = partition_ch_subgroup.partition(chapter_names[i-1])\n",
    "        partition_ch = str(partition_ch_sep[2])\n",
    "        mw_texts.append(partition_ch)\n",
    "\n",
    "    partition_last = text.partition(chapter_names[num_chapters-1])\n",
    "    chapter_last = str(partition_last[2])\n",
    "    mw_texts.append(chapter_last)"
   ]
  },
  {
   "cell_type": "markdown",
   "metadata": {},
   "source": [
    "#### Create dataframe with chapter titles, chapter summaries, book title, chapter names, and chapter texts"
   ]
  },
  {
   "cell_type": "code",
   "execution_count": 66,
   "metadata": {},
   "outputs": [
    {
     "data": {
      "text/html": [
       "<div>\n",
       "<style scoped>\n",
       "    .dataframe tbody tr th:only-of-type {\n",
       "        vertical-align: middle;\n",
       "    }\n",
       "\n",
       "    .dataframe tbody tr th {\n",
       "        vertical-align: top;\n",
       "    }\n",
       "\n",
       "    .dataframe thead th {\n",
       "        text-align: right;\n",
       "    }\n",
       "</style>\n",
       "<table border=\"1\" class=\"dataframe\">\n",
       "  <thead>\n",
       "    <tr style=\"text-align: right;\">\n",
       "      <th></th>\n",
       "      <th>chapter_title</th>\n",
       "      <th>chapter_summary</th>\n",
       "      <th>book_title</th>\n",
       "      <th>chapters</th>\n",
       "    </tr>\n",
       "  </thead>\n",
       "  <tbody>\n",
       "    <tr>\n",
       "      <th>67</th>\n",
       "      <td>Merry Wives of Windsor: Novel Summary</td>\n",
       "      <td>Act I Scene 1-2\\n\\tThe Merry Wives of Windsor ...</td>\n",
       "      <td>Merry Wives of Windsor</td>\n",
       "      <td>Merry Wives of Windsor: Novel Summary</td>\n",
       "    </tr>\n",
       "    <tr>\n",
       "      <th>68</th>\n",
       "      <td>Merry Wives of Windsor: Novel Summary: Act I S...</td>\n",
       "      <td>\\n\\t \\nAct I Scene 1-2\\n\\tThe Merry Wives of W...</td>\n",
       "      <td>Merry Wives of Windsor</td>\n",
       "      <td>Act I Scene 1-2</td>\n",
       "    </tr>\n",
       "    <tr>\n",
       "      <th>69</th>\n",
       "      <td>Merry Wives of Windsor: Novel Summary: Act I S...</td>\n",
       "      <td>\\n\\t \\nAct I Scene 3\\n\\tFalstaff tells the Hos...</td>\n",
       "      <td>Merry Wives of Windsor</td>\n",
       "      <td>Act I Scene 3</td>\n",
       "    </tr>\n",
       "    <tr>\n",
       "      <th>70</th>\n",
       "      <td>Merry Wives of Windsor: Novel Summary: Act I S...</td>\n",
       "      <td>\\n\\t \\nAct I Scene 4\\n\\tAt Dr. Caius's house, ...</td>\n",
       "      <td>Merry Wives of Windsor</td>\n",
       "      <td>Act I Scene 4</td>\n",
       "    </tr>\n",
       "    <tr>\n",
       "      <th>71</th>\n",
       "      <td>Merry Wives of Windsor: Novel Summary: Act II ...</td>\n",
       "      <td>\\n\\t \\nAct II Scene 1\\n\\tMrs. Page reads the l...</td>\n",
       "      <td>Merry Wives of Windsor</td>\n",
       "      <td>Act II Scene 1</td>\n",
       "    </tr>\n",
       "    <tr>\n",
       "      <th>72</th>\n",
       "      <td>Merry Wives of Windsor: Novel Summary: Act II ...</td>\n",
       "      <td>\\n\\t \\nAct II Scene 2\\n\\tPistol asks Falstaff ...</td>\n",
       "      <td>Merry Wives of Windsor</td>\n",
       "      <td>Act II Scene 2</td>\n",
       "    </tr>\n",
       "    <tr>\n",
       "      <th>73</th>\n",
       "      <td>Merry Wives of Windsor: Novel Summary: Act II ...</td>\n",
       "      <td>\\n\\t \\nAct II Scene 3\\n\\t- Act III Scene 1\\n\\t...</td>\n",
       "      <td>Merry Wives of Windsor</td>\n",
       "      <td>Act II Scene 3 - Act III Scene 1</td>\n",
       "    </tr>\n",
       "    <tr>\n",
       "      <th>74</th>\n",
       "      <td>Merry Wives of Windsor: Novel Summary: Act III...</td>\n",
       "      <td>\\n\\t \\nAct III Scene 2\\n\\tFord encounters Mrs....</td>\n",
       "      <td>Merry Wives of Windsor</td>\n",
       "      <td>Act III Scene 2</td>\n",
       "    </tr>\n",
       "    <tr>\n",
       "      <th>75</th>\n",
       "      <td>Merry Wives of Windsor: Novel Summary: Act III...</td>\n",
       "      <td>\\n\\t \\nAct III Scene 3\\n\\tAt Ford's house, Mrs...</td>\n",
       "      <td>Merry Wives of Windsor</td>\n",
       "      <td>Act III Scene 3</td>\n",
       "    </tr>\n",
       "    <tr>\n",
       "      <th>76</th>\n",
       "      <td>Merry Wives of Windsor: Novel Summary: Act III...</td>\n",
       "      <td>\\n\\t \\nAct III Scene 4\\n\\tFenton tells Anne Pa...</td>\n",
       "      <td>Merry Wives of Windsor</td>\n",
       "      <td>Act III Scene 4</td>\n",
       "    </tr>\n",
       "    <tr>\n",
       "      <th>77</th>\n",
       "      <td>Merry Wives of Windsor: Novel Summary: Act III...</td>\n",
       "      <td>\\n\\t \\nAct III Scene 5\\n\\tFalstaff tells Bardo...</td>\n",
       "      <td>Merry Wives of Windsor</td>\n",
       "      <td>Act III Scene 5</td>\n",
       "    </tr>\n",
       "    <tr>\n",
       "      <th>78</th>\n",
       "      <td>Merry Wives of Windsor: Novel Summary: Act IV ...</td>\n",
       "      <td>\\n\\t \\nAct IV\\n\\tScene 1-2\\n\\tScene 1 is a sho...</td>\n",
       "      <td>Merry Wives of Windsor</td>\n",
       "      <td>Act IV Scene 1-2</td>\n",
       "    </tr>\n",
       "    <tr>\n",
       "      <th>79</th>\n",
       "      <td>Merry Wives of Windsor: Novel Summary: Act IV ...</td>\n",
       "      <td>\\n\\t \\nAct IV\\n\\tScene 3-4\\n\\tIn scene 3, Bard...</td>\n",
       "      <td>Merry Wives of Windsor</td>\n",
       "      <td>Act IV Scene 3-4</td>\n",
       "    </tr>\n",
       "    <tr>\n",
       "      <th>80</th>\n",
       "      <td>Merry Wives of Windsor: Novel Summary: Act IV ...</td>\n",
       "      <td>\\n\\t \\nAct IV\\n\\tScene 5-6\\n\\tAt the Garter In...</td>\n",
       "      <td>Merry Wives of Windsor</td>\n",
       "      <td>Act IV Scene 5-6</td>\n",
       "    </tr>\n",
       "    <tr>\n",
       "      <th>81</th>\n",
       "      <td>Merry Wives of Windsor: Novel Summary: Act V S...</td>\n",
       "      <td>\\n\\t \\nAct V\\n\\tScene 1-5\\n\\tFalstaff has agre...</td>\n",
       "      <td>Merry Wives of Windsor</td>\n",
       "      <td>Act V Scene 1-5</td>\n",
       "    </tr>\n",
       "  </tbody>\n",
       "</table>\n",
       "</div>"
      ],
      "text/plain": [
       "                                        chapter_title  \\\n",
       "67              Merry Wives of Windsor: Novel Summary   \n",
       "68  Merry Wives of Windsor: Novel Summary: Act I S...   \n",
       "69  Merry Wives of Windsor: Novel Summary: Act I S...   \n",
       "70  Merry Wives of Windsor: Novel Summary: Act I S...   \n",
       "71  Merry Wives of Windsor: Novel Summary: Act II ...   \n",
       "72  Merry Wives of Windsor: Novel Summary: Act II ...   \n",
       "73  Merry Wives of Windsor: Novel Summary: Act II ...   \n",
       "74  Merry Wives of Windsor: Novel Summary: Act III...   \n",
       "75  Merry Wives of Windsor: Novel Summary: Act III...   \n",
       "76  Merry Wives of Windsor: Novel Summary: Act III...   \n",
       "77  Merry Wives of Windsor: Novel Summary: Act III...   \n",
       "78  Merry Wives of Windsor: Novel Summary: Act IV ...   \n",
       "79  Merry Wives of Windsor: Novel Summary: Act IV ...   \n",
       "80  Merry Wives of Windsor: Novel Summary: Act IV ...   \n",
       "81  Merry Wives of Windsor: Novel Summary: Act V S...   \n",
       "\n",
       "                                      chapter_summary              book_title  \\\n",
       "67  Act I Scene 1-2\\n\\tThe Merry Wives of Windsor ...  Merry Wives of Windsor   \n",
       "68  \\n\\t \\nAct I Scene 1-2\\n\\tThe Merry Wives of W...  Merry Wives of Windsor   \n",
       "69  \\n\\t \\nAct I Scene 3\\n\\tFalstaff tells the Hos...  Merry Wives of Windsor   \n",
       "70  \\n\\t \\nAct I Scene 4\\n\\tAt Dr. Caius's house, ...  Merry Wives of Windsor   \n",
       "71  \\n\\t \\nAct II Scene 1\\n\\tMrs. Page reads the l...  Merry Wives of Windsor   \n",
       "72  \\n\\t \\nAct II Scene 2\\n\\tPistol asks Falstaff ...  Merry Wives of Windsor   \n",
       "73  \\n\\t \\nAct II Scene 3\\n\\t- Act III Scene 1\\n\\t...  Merry Wives of Windsor   \n",
       "74  \\n\\t \\nAct III Scene 2\\n\\tFord encounters Mrs....  Merry Wives of Windsor   \n",
       "75  \\n\\t \\nAct III Scene 3\\n\\tAt Ford's house, Mrs...  Merry Wives of Windsor   \n",
       "76  \\n\\t \\nAct III Scene 4\\n\\tFenton tells Anne Pa...  Merry Wives of Windsor   \n",
       "77  \\n\\t \\nAct III Scene 5\\n\\tFalstaff tells Bardo...  Merry Wives of Windsor   \n",
       "78  \\n\\t \\nAct IV\\n\\tScene 1-2\\n\\tScene 1 is a sho...  Merry Wives of Windsor   \n",
       "79  \\n\\t \\nAct IV\\n\\tScene 3-4\\n\\tIn scene 3, Bard...  Merry Wives of Windsor   \n",
       "80  \\n\\t \\nAct IV\\n\\tScene 5-6\\n\\tAt the Garter In...  Merry Wives of Windsor   \n",
       "81  \\n\\t \\nAct V\\n\\tScene 1-5\\n\\tFalstaff has agre...  Merry Wives of Windsor   \n",
       "\n",
       "                                 chapters  \n",
       "67  Merry Wives of Windsor: Novel Summary  \n",
       "68                        Act I Scene 1-2  \n",
       "69                          Act I Scene 3  \n",
       "70                          Act I Scene 4  \n",
       "71                         Act II Scene 1  \n",
       "72                         Act II Scene 2  \n",
       "73       Act II Scene 3 - Act III Scene 1  \n",
       "74                        Act III Scene 2  \n",
       "75                        Act III Scene 3  \n",
       "76                        Act III Scene 4  \n",
       "77                        Act III Scene 5  \n",
       "78                       Act IV Scene 1-2  \n",
       "79                       Act IV Scene 3-4  \n",
       "80                       Act IV Scene 5-6  \n",
       "81                        Act V Scene 1-5  "
      ]
     },
     "execution_count": 66,
     "metadata": {},
     "output_type": "execute_result"
    }
   ],
   "source": [
    "mw_df = start_df('Merry Wives of Windsor')\n",
    "mw_df"
   ]
  },
  {
   "cell_type": "code",
   "execution_count": 67,
   "metadata": {},
   "outputs": [],
   "source": [
    "mw_df.drop(index=67, inplace=True)"
   ]
  },
  {
   "cell_type": "code",
   "execution_count": 68,
   "metadata": {},
   "outputs": [
    {
     "data": {
      "text/plain": [
       "14"
      ]
     },
     "execution_count": 68,
     "metadata": {},
     "output_type": "execute_result"
    }
   ],
   "source": [
    "len(mw_df)"
   ]
  },
  {
   "cell_type": "code",
   "execution_count": 69,
   "metadata": {},
   "outputs": [],
   "source": [
    "mw_df['chapter_text'] = [\n",
    "    ' '.join(mw_texts[0:1]),\n",
    "    (mw_texts[2]),\n",
    "    (mw_texts[3]),\n",
    "    (mw_texts[4]),\n",
    "    (mw_texts[5]),\n",
    "    ' '.join(mw_texts[6:7]),\n",
    "    (mw_texts[8]),\n",
    "    (mw_texts[9]),\n",
    "    (mw_texts[10]),\n",
    "    (mw_texts[11]),\n",
    "    ' '.join(mw_texts[12:13]),\n",
    "    ' '.join(mw_texts[14:15]),\n",
    "    ' '.join(mw_texts[16:17]),\n",
    "    ' '.join(mw_texts[18:22]),\n",
    "]"
   ]
  },
  {
   "cell_type": "markdown",
   "metadata": {},
   "source": [
    "#### Add book to main dataframe"
   ]
  },
  {
   "cell_type": "code",
   "execution_count": 70,
   "metadata": {},
   "outputs": [],
   "source": [
    "main_df = pd.concat([main_df, mw_df])"
   ]
  },
  {
   "cell_type": "code",
   "execution_count": 71,
   "metadata": {},
   "outputs": [
    {
     "data": {
      "text/plain": [
       "64"
      ]
     },
     "execution_count": 71,
     "metadata": {},
     "output_type": "execute_result"
    }
   ],
   "source": [
    "len(main_df)"
   ]
  },
  {
   "cell_type": "markdown",
   "metadata": {},
   "source": [
    "### Cymbeline"
   ]
  },
  {
   "cell_type": "markdown",
   "metadata": {},
   "source": [
    "#### Split full text into chapters"
   ]
  },
  {
   "cell_type": "code",
   "execution_count": 72,
   "metadata": {},
   "outputs": [
    {
     "data": {
      "text/plain": [
       "82     Act 1 Scene 1\n",
       "83     Act 1 Scene 2\n",
       "84     Act 1 Scene 3\n",
       "85     Act 1 Scene 4\n",
       "86     Act 1 Scene 5\n",
       "87     Act 1 Scene 6\n",
       "88     Act 1 Scene 7\n",
       "89     Act 2 Scene 1\n",
       "90     Act 2 Scene 2\n",
       "91     Act 2 Scene 3\n",
       "92     Act 2 Scene 4\n",
       "93     Act 3 Scene 1\n",
       "94     Act 3 Scene 2\n",
       "95     Act 3 Scene 3\n",
       "96     Act 3 Scene 4\n",
       "97     Act 3 Scene 5\n",
       "98     Act 3 Scene 6\n",
       "99     Act 3 Scene 7\n",
       "100    Act 3 Scene 8\n",
       "101    Act 4 Scene 1\n",
       "102    Act 4 Scene 2\n",
       "103    Act 4 Scene 3\n",
       "104    Act 4 Scene 4\n",
       "105    Act 5 Scene 1\n",
       "106    Act 5 Scene 2\n",
       "107    Act 5 Scene 3\n",
       "108    Act 5 Scene 4\n",
       "109    Act 5 Scene 5\n",
       "Name: chapters, dtype: object"
      ]
     },
     "execution_count": 72,
     "metadata": {},
     "output_type": "execute_result"
    }
   ],
   "source": [
    "chapters('Cymbeline')"
   ]
  },
  {
   "cell_type": "code",
   "execution_count": 73,
   "metadata": {},
   "outputs": [],
   "source": [
    "c_act_names = [\n",
    "    'ACT I.',\n",
    "    'ACT II.',\n",
    "    'ACT III.',\n",
    "    'ACT IV',\n",
    "    'ACT V'\n",
    "]"
   ]
  },
  {
   "cell_type": "code",
   "execution_count": 74,
   "metadata": {},
   "outputs": [],
   "source": [
    "c_ch_names_list = []"
   ]
  },
  {
   "cell_type": "code",
   "execution_count": 75,
   "metadata": {},
   "outputs": [],
   "source": [
    "c_acts = split_chapters('Cymbeline', c_act_names)"
   ]
  },
  {
   "cell_type": "code",
   "execution_count": 76,
   "metadata": {},
   "outputs": [],
   "source": [
    "c_act1_names =[\n",
    "    'ACT I. SCENE I.',\n",
    "    'SCENE II.',\n",
    "    'SCENE III.',\n",
    "    'SCENE IV.',\n",
    "    'SCENE V.',\n",
    "    'SCENE VI.',\n",
    "    'SCENE VII.'\n",
    "]\n",
    "c_ch_names_list.append(c_act1_names)\n",
    "\n",
    "\n",
    "c_act2_names = [ \n",
    "    'ACT II. SCENE I.',\n",
    "    'SCENE II.',\n",
    "    'SCENE III.',\n",
    "    'SCENE IV.'\n",
    "]\n",
    "c_ch_names_list.append(c_act2_names)\n",
    "\n",
    "\n",
    "c_act3_names = [\n",
    "    'ACT III. SCENE I.',\n",
    "    'SCENE II.',\n",
    "    'SCENE III.',\n",
    "    'SCENE IV.',\n",
    "    'SCENE V.',\n",
    "    'SCENE VI.',\n",
    "    'SCENE VII.',\n",
    "    'SCENE VIII'\n",
    "]\n",
    "c_ch_names_list.append(c_act3_names)\n",
    "\n",
    "\n",
    "c_act4_names = [\n",
    "    'ACT IV. SCENE I.',\n",
    "    'SCENE II.',\n",
    "    'SCENE III.',\n",
    "    'SCENE IV.'\n",
    "]\n",
    "c_ch_names_list.append(c_act4_names)\n",
    "\n",
    "\n",
    "c_act5_names = [\n",
    "    'ACT V. SCENE I.',\n",
    "    'SCENE II.',\n",
    "    'SCENE III.',\n",
    "    'SCENE IV.',\n",
    "    'SCENE V.'\n",
    "]\n",
    "c_ch_names_list.append(c_act5_names)"
   ]
  },
  {
   "cell_type": "code",
   "execution_count": 77,
   "metadata": {},
   "outputs": [],
   "source": [
    "c_texts = []\n",
    "for i in range(5): \n",
    "    text = c_acts[i]\n",
    "    chapter_names = c_ch_names_list[i]\n",
    "    num_chapters = len(chapter_names)\n",
    "\n",
    "    partition_1 = text.partition(chapter_names[1])\n",
    "    chapter_1 = str(partition_1[0])\n",
    "    c_texts.append(chapter_1)\n",
    "\n",
    "    for i in range(2, num_chapters):\n",
    "        partition_ch_group = text.partition(chapter_names[i])\n",
    "        partition_ch_subgroup = str(partition_ch_group[0])\n",
    "        partition_ch_sep = partition_ch_subgroup.partition(chapter_names[i-1])\n",
    "        partition_ch = str(partition_ch_sep[2])\n",
    "        c_texts.append(partition_ch)\n",
    "\n",
    "    partition_last = text.partition(chapter_names[num_chapters-1])\n",
    "    chapter_last = str(partition_last[2])\n",
    "    c_texts.append(chapter_last)"
   ]
  },
  {
   "cell_type": "markdown",
   "metadata": {},
   "source": [
    "#### Create dataframe with chapter titles, chapter summaries, book title, chapter names, and chapter texts"
   ]
  },
  {
   "cell_type": "code",
   "execution_count": 78,
   "metadata": {},
   "outputs": [
    {
     "data": {
      "text/html": [
       "<div>\n",
       "<style scoped>\n",
       "    .dataframe tbody tr th:only-of-type {\n",
       "        vertical-align: middle;\n",
       "    }\n",
       "\n",
       "    .dataframe tbody tr th {\n",
       "        vertical-align: top;\n",
       "    }\n",
       "\n",
       "    .dataframe thead th {\n",
       "        text-align: right;\n",
       "    }\n",
       "</style>\n",
       "<table border=\"1\" class=\"dataframe\">\n",
       "  <thead>\n",
       "    <tr style=\"text-align: right;\">\n",
       "      <th></th>\n",
       "      <th>chapter_title</th>\n",
       "      <th>chapter_summary</th>\n",
       "      <th>book_title</th>\n",
       "      <th>chapters</th>\n",
       "    </tr>\n",
       "  </thead>\n",
       "  <tbody>\n",
       "    <tr>\n",
       "      <th>82</th>\n",
       "      <td>Cymbeline: Novel Summary: Act 1 Scene 1</td>\n",
       "      <td>Summary\\n\\tAct 1, scene 1\\n\\tTwo gentlemen are...</td>\n",
       "      <td>Cymbeline</td>\n",
       "      <td>Act 1 Scene 1</td>\n",
       "    </tr>\n",
       "    <tr>\n",
       "      <th>83</th>\n",
       "      <td>Cymbeline: Novel Summary: Act 1 Scene 2</td>\n",
       "      <td>Summary\\n\\tThe Queen tells Imogen that she is ...</td>\n",
       "      <td>Cymbeline</td>\n",
       "      <td>Act 1 Scene 2</td>\n",
       "    </tr>\n",
       "    <tr>\n",
       "      <th>84</th>\n",
       "      <td>Cymbeline: Novel Summary: Act 1 Scene 3</td>\n",
       "      <td>Summary\\n\\tThe First Lord advises Cloten to ch...</td>\n",
       "      <td>Cymbeline</td>\n",
       "      <td>Act 1 Scene 3</td>\n",
       "    </tr>\n",
       "    <tr>\n",
       "      <th>85</th>\n",
       "      <td>Cymbeline: Novel Summary: Act 1 Scene 4</td>\n",
       "      <td>Summary\\n\\tImogen questions Pisanio about his ...</td>\n",
       "      <td>Cymbeline</td>\n",
       "      <td>Act 1 Scene 4</td>\n",
       "    </tr>\n",
       "    <tr>\n",
       "      <th>86</th>\n",
       "      <td>Cymbeline: Novel Summary: Act 1 Scene 5</td>\n",
       "      <td>Summary\\n\\tThe scene is set in Rome at the hou...</td>\n",
       "      <td>Cymbeline</td>\n",
       "      <td>Act 1 Scene 5</td>\n",
       "    </tr>\n",
       "    <tr>\n",
       "      <th>87</th>\n",
       "      <td>Cymbeline: Novel Summary: Act 1 Scene 6</td>\n",
       "      <td>Summary\\n\\tAt Cymbeline's palace, the Queen is...</td>\n",
       "      <td>Cymbeline</td>\n",
       "      <td>Act 1 Scene 6</td>\n",
       "    </tr>\n",
       "    <tr>\n",
       "      <th>88</th>\n",
       "      <td>Cymbeline: Novel Summary: Act 1 Scene 7</td>\n",
       "      <td>Summary\\n\\tImogen is lamenting her unhappy sit...</td>\n",
       "      <td>Cymbeline</td>\n",
       "      <td>Act 1 Scene 7</td>\n",
       "    </tr>\n",
       "    <tr>\n",
       "      <th>89</th>\n",
       "      <td>Cymbeline: Novel Summary: Act 2 Scene 1</td>\n",
       "      <td>Summary\\n\\tCloten is playing bowls with some L...</td>\n",
       "      <td>Cymbeline</td>\n",
       "      <td>Act 2 Scene 1</td>\n",
       "    </tr>\n",
       "    <tr>\n",
       "      <th>90</th>\n",
       "      <td>Cymbeline: Novel Summary: Act 2 Scene 2</td>\n",
       "      <td>Summary\\n\\tThe scene is set in Imogen's bedroo...</td>\n",
       "      <td>Cymbeline</td>\n",
       "      <td>Act 2 Scene 2</td>\n",
       "    </tr>\n",
       "    <tr>\n",
       "      <th>91</th>\n",
       "      <td>Cymbeline: Novel Summary: Act 2 Scene 3</td>\n",
       "      <td>Summary\\n\\tCloten is playing some Lords, eithe...</td>\n",
       "      <td>Cymbeline</td>\n",
       "      <td>Act 2 Scene 3</td>\n",
       "    </tr>\n",
       "    <tr>\n",
       "      <th>92</th>\n",
       "      <td>Cymbeline: Novel Summary: Act 2 Scene 4</td>\n",
       "      <td>\\n\\t \\nSummary\\n\\tIn Rome, Posthumus tells Phi...</td>\n",
       "      <td>Cymbeline</td>\n",
       "      <td>Act 2 Scene 4</td>\n",
       "    </tr>\n",
       "    <tr>\n",
       "      <th>93</th>\n",
       "      <td>Cymbeline: Novel Summary: Act 3 Scene 1</td>\n",
       "      <td>Summary\\n\\tAt Cymbeline's palace, Lucius is as...</td>\n",
       "      <td>Cymbeline</td>\n",
       "      <td>Act 3 Scene 1</td>\n",
       "    </tr>\n",
       "    <tr>\n",
       "      <th>94</th>\n",
       "      <td>Cymbeline: Novel Summary: Act 3 Scene 2</td>\n",
       "      <td>Summary\\n\\tPisanio is reading a letter from Po...</td>\n",
       "      <td>Cymbeline</td>\n",
       "      <td>Act 3 Scene 2</td>\n",
       "    </tr>\n",
       "    <tr>\n",
       "      <th>95</th>\n",
       "      <td>Cymbeline: Novel Summary: Act 3 Scene 3</td>\n",
       "      <td>Summary\\n\\tThe scene shifts to a cave in Wales...</td>\n",
       "      <td>Cymbeline</td>\n",
       "      <td>Act 3 Scene 3</td>\n",
       "    </tr>\n",
       "    <tr>\n",
       "      <th>96</th>\n",
       "      <td>Cymbeline: Novel Summary: Act 3 Scene 4</td>\n",
       "      <td>Summary\\n\\tPisanio and Imogen are on their way...</td>\n",
       "      <td>Cymbeline</td>\n",
       "      <td>Act 3 Scene 4</td>\n",
       "    </tr>\n",
       "    <tr>\n",
       "      <th>97</th>\n",
       "      <td>Cymbeline: Novel Summary: Act 3 Scene 5</td>\n",
       "      <td>Summary\\n\\tCymbeline is bidding farewell to Lu...</td>\n",
       "      <td>Cymbeline</td>\n",
       "      <td>Act 3 Scene 5</td>\n",
       "    </tr>\n",
       "    <tr>\n",
       "      <th>98</th>\n",
       "      <td>Cymbeline: Novel Summary: Act 3 Scene 6</td>\n",
       "      <td>Summary\\n\\tIn Wales, near Belarius's cave, Imo...</td>\n",
       "      <td>Cymbeline</td>\n",
       "      <td>Act 3 Scene 6</td>\n",
       "    </tr>\n",
       "    <tr>\n",
       "      <th>99</th>\n",
       "      <td>Cymbeline: Novel Summary: Act 3 Scene 7</td>\n",
       "      <td>Summary\\n\\tBelarius congratulates Guiderius fo...</td>\n",
       "      <td>Cymbeline</td>\n",
       "      <td>Act 3 Scene 7</td>\n",
       "    </tr>\n",
       "    <tr>\n",
       "      <th>100</th>\n",
       "      <td>Cymbeline: Novel Summary: Act 3 Scene 8</td>\n",
       "      <td>Summary\\n\\tIn Rome, the First Senator is addre...</td>\n",
       "      <td>Cymbeline</td>\n",
       "      <td>Act 3 Scene 8</td>\n",
       "    </tr>\n",
       "    <tr>\n",
       "      <th>101</th>\n",
       "      <td>Cymbeline: Novel Summary: Act 4 Scene 1</td>\n",
       "      <td>Summary\\n\\tCloten, dressed in Posthumus's clot...</td>\n",
       "      <td>Cymbeline</td>\n",
       "      <td>Act 4 Scene 1</td>\n",
       "    </tr>\n",
       "    <tr>\n",
       "      <th>102</th>\n",
       "      <td>Cymbeline: Novel Summary: Act 4 Scene 2</td>\n",
       "      <td>Summary\\n\\tImogen is still disguised as a boy....</td>\n",
       "      <td>Cymbeline</td>\n",
       "      <td>Act 4 Scene 2</td>\n",
       "    </tr>\n",
       "    <tr>\n",
       "      <th>103</th>\n",
       "      <td>Cymbeline: Novel Summary: Act 4 Scene 3</td>\n",
       "      <td>Summary\\n\\tCymbeline asks how his wife is. She...</td>\n",
       "      <td>Cymbeline</td>\n",
       "      <td>Act 4 Scene 3</td>\n",
       "    </tr>\n",
       "    <tr>\n",
       "      <th>104</th>\n",
       "      <td>Cymbeline: Novel Summary: Act 4 Scene 4</td>\n",
       "      <td>Summary\\n\\tGuiderius notes that he, his brothe...</td>\n",
       "      <td>Cymbeline</td>\n",
       "      <td>Act 4 Scene 4</td>\n",
       "    </tr>\n",
       "    <tr>\n",
       "      <th>105</th>\n",
       "      <td>Cymbeline: Novel Summary: Act 5 Scene 1</td>\n",
       "      <td>Summary\\n\\tPosthumus is now at the Roman camp ...</td>\n",
       "      <td>Cymbeline</td>\n",
       "      <td>Act 5 Scene 1</td>\n",
       "    </tr>\n",
       "    <tr>\n",
       "      <th>106</th>\n",
       "      <td>Cymbeline: Novel Summary: Act 5 Scene 2</td>\n",
       "      <td>Summary\\n\\tLucius, Iachimo and the Roman army ...</td>\n",
       "      <td>Cymbeline</td>\n",
       "      <td>Act 5 Scene 2</td>\n",
       "    </tr>\n",
       "    <tr>\n",
       "      <th>107</th>\n",
       "      <td>Cymbeline: Novel Summary: Act 5 Scene 3</td>\n",
       "      <td>Summary\\n\\tPosthumus is talking to a British L...</td>\n",
       "      <td>Cymbeline</td>\n",
       "      <td>Act 5 Scene 3</td>\n",
       "    </tr>\n",
       "    <tr>\n",
       "      <th>108</th>\n",
       "      <td>Cymbeline: Novel Summary: Act 5 Scene 4</td>\n",
       "      <td>Summary\\n\\tPosthumus enters in chains, with hi...</td>\n",
       "      <td>Cymbeline</td>\n",
       "      <td>Act 5 Scene 4</td>\n",
       "    </tr>\n",
       "    <tr>\n",
       "      <th>109</th>\n",
       "      <td>Cymbeline: Novel Summary: Act 5 Scene 5</td>\n",
       "      <td>Summary\\n\\tCymbeline is in his tent, surrounde...</td>\n",
       "      <td>Cymbeline</td>\n",
       "      <td>Act 5 Scene 5</td>\n",
       "    </tr>\n",
       "  </tbody>\n",
       "</table>\n",
       "</div>"
      ],
      "text/plain": [
       "                               chapter_title  \\\n",
       "82   Cymbeline: Novel Summary: Act 1 Scene 1   \n",
       "83   Cymbeline: Novel Summary: Act 1 Scene 2   \n",
       "84   Cymbeline: Novel Summary: Act 1 Scene 3   \n",
       "85   Cymbeline: Novel Summary: Act 1 Scene 4   \n",
       "86   Cymbeline: Novel Summary: Act 1 Scene 5   \n",
       "87   Cymbeline: Novel Summary: Act 1 Scene 6   \n",
       "88   Cymbeline: Novel Summary: Act 1 Scene 7   \n",
       "89   Cymbeline: Novel Summary: Act 2 Scene 1   \n",
       "90   Cymbeline: Novel Summary: Act 2 Scene 2   \n",
       "91   Cymbeline: Novel Summary: Act 2 Scene 3   \n",
       "92   Cymbeline: Novel Summary: Act 2 Scene 4   \n",
       "93   Cymbeline: Novel Summary: Act 3 Scene 1   \n",
       "94   Cymbeline: Novel Summary: Act 3 Scene 2   \n",
       "95   Cymbeline: Novel Summary: Act 3 Scene 3   \n",
       "96   Cymbeline: Novel Summary: Act 3 Scene 4   \n",
       "97   Cymbeline: Novel Summary: Act 3 Scene 5   \n",
       "98   Cymbeline: Novel Summary: Act 3 Scene 6   \n",
       "99   Cymbeline: Novel Summary: Act 3 Scene 7   \n",
       "100  Cymbeline: Novel Summary: Act 3 Scene 8   \n",
       "101  Cymbeline: Novel Summary: Act 4 Scene 1   \n",
       "102  Cymbeline: Novel Summary: Act 4 Scene 2   \n",
       "103  Cymbeline: Novel Summary: Act 4 Scene 3   \n",
       "104  Cymbeline: Novel Summary: Act 4 Scene 4   \n",
       "105  Cymbeline: Novel Summary: Act 5 Scene 1   \n",
       "106  Cymbeline: Novel Summary: Act 5 Scene 2   \n",
       "107  Cymbeline: Novel Summary: Act 5 Scene 3   \n",
       "108  Cymbeline: Novel Summary: Act 5 Scene 4   \n",
       "109  Cymbeline: Novel Summary: Act 5 Scene 5   \n",
       "\n",
       "                                       chapter_summary book_title  \\\n",
       "82   Summary\\n\\tAct 1, scene 1\\n\\tTwo gentlemen are...  Cymbeline   \n",
       "83   Summary\\n\\tThe Queen tells Imogen that she is ...  Cymbeline   \n",
       "84   Summary\\n\\tThe First Lord advises Cloten to ch...  Cymbeline   \n",
       "85   Summary\\n\\tImogen questions Pisanio about his ...  Cymbeline   \n",
       "86   Summary\\n\\tThe scene is set in Rome at the hou...  Cymbeline   \n",
       "87   Summary\\n\\tAt Cymbeline's palace, the Queen is...  Cymbeline   \n",
       "88   Summary\\n\\tImogen is lamenting her unhappy sit...  Cymbeline   \n",
       "89   Summary\\n\\tCloten is playing bowls with some L...  Cymbeline   \n",
       "90   Summary\\n\\tThe scene is set in Imogen's bedroo...  Cymbeline   \n",
       "91   Summary\\n\\tCloten is playing some Lords, eithe...  Cymbeline   \n",
       "92   \\n\\t \\nSummary\\n\\tIn Rome, Posthumus tells Phi...  Cymbeline   \n",
       "93   Summary\\n\\tAt Cymbeline's palace, Lucius is as...  Cymbeline   \n",
       "94   Summary\\n\\tPisanio is reading a letter from Po...  Cymbeline   \n",
       "95   Summary\\n\\tThe scene shifts to a cave in Wales...  Cymbeline   \n",
       "96   Summary\\n\\tPisanio and Imogen are on their way...  Cymbeline   \n",
       "97   Summary\\n\\tCymbeline is bidding farewell to Lu...  Cymbeline   \n",
       "98   Summary\\n\\tIn Wales, near Belarius's cave, Imo...  Cymbeline   \n",
       "99   Summary\\n\\tBelarius congratulates Guiderius fo...  Cymbeline   \n",
       "100  Summary\\n\\tIn Rome, the First Senator is addre...  Cymbeline   \n",
       "101  Summary\\n\\tCloten, dressed in Posthumus's clot...  Cymbeline   \n",
       "102  Summary\\n\\tImogen is still disguised as a boy....  Cymbeline   \n",
       "103  Summary\\n\\tCymbeline asks how his wife is. She...  Cymbeline   \n",
       "104  Summary\\n\\tGuiderius notes that he, his brothe...  Cymbeline   \n",
       "105  Summary\\n\\tPosthumus is now at the Roman camp ...  Cymbeline   \n",
       "106  Summary\\n\\tLucius, Iachimo and the Roman army ...  Cymbeline   \n",
       "107  Summary\\n\\tPosthumus is talking to a British L...  Cymbeline   \n",
       "108  Summary\\n\\tPosthumus enters in chains, with hi...  Cymbeline   \n",
       "109  Summary\\n\\tCymbeline is in his tent, surrounde...  Cymbeline   \n",
       "\n",
       "          chapters  \n",
       "82   Act 1 Scene 1  \n",
       "83   Act 1 Scene 2  \n",
       "84   Act 1 Scene 3  \n",
       "85   Act 1 Scene 4  \n",
       "86   Act 1 Scene 5  \n",
       "87   Act 1 Scene 6  \n",
       "88   Act 1 Scene 7  \n",
       "89   Act 2 Scene 1  \n",
       "90   Act 2 Scene 2  \n",
       "91   Act 2 Scene 3  \n",
       "92   Act 2 Scene 4  \n",
       "93   Act 3 Scene 1  \n",
       "94   Act 3 Scene 2  \n",
       "95   Act 3 Scene 3  \n",
       "96   Act 3 Scene 4  \n",
       "97   Act 3 Scene 5  \n",
       "98   Act 3 Scene 6  \n",
       "99   Act 3 Scene 7  \n",
       "100  Act 3 Scene 8  \n",
       "101  Act 4 Scene 1  \n",
       "102  Act 4 Scene 2  \n",
       "103  Act 4 Scene 3  \n",
       "104  Act 4 Scene 4  \n",
       "105  Act 5 Scene 1  \n",
       "106  Act 5 Scene 2  \n",
       "107  Act 5 Scene 3  \n",
       "108  Act 5 Scene 4  \n",
       "109  Act 5 Scene 5  "
      ]
     },
     "execution_count": 78,
     "metadata": {},
     "output_type": "execute_result"
    }
   ],
   "source": [
    "df_c = start_df('Cymbeline')\n",
    "df_c"
   ]
  },
  {
   "cell_type": "code",
   "execution_count": 79,
   "metadata": {},
   "outputs": [],
   "source": [
    "df_c['chapter_text'] = c_texts"
   ]
  },
  {
   "cell_type": "markdown",
   "metadata": {},
   "source": [
    "#### Add book to main dataframe"
   ]
  },
  {
   "cell_type": "code",
   "execution_count": 80,
   "metadata": {},
   "outputs": [],
   "source": [
    "main_df = pd.concat([main_df, df_c])"
   ]
  },
  {
   "cell_type": "code",
   "execution_count": 81,
   "metadata": {},
   "outputs": [
    {
     "data": {
      "text/plain": [
       "92"
      ]
     },
     "execution_count": 81,
     "metadata": {},
     "output_type": "execute_result"
    }
   ],
   "source": [
    "len(main_df)"
   ]
  },
  {
   "cell_type": "markdown",
   "metadata": {},
   "source": [
    "### The Call of the Wild"
   ]
  },
  {
   "cell_type": "markdown",
   "metadata": {},
   "source": [
    "#### Split full text into chapters"
   ]
  },
  {
   "cell_type": "code",
   "execution_count": 82,
   "metadata": {},
   "outputs": [
    {
     "data": {
      "text/plain": [
       "110     The Call of the Wild: Novel Summary \n",
       "111                                Chapter 1\n",
       "112                                Chapter 2\n",
       "113                                Chapter 3\n",
       "114                                Chapter 4\n",
       "115                                Chapter 5\n",
       "116                                Chapter 6\n",
       "117                                Chapter 7\n",
       "Name: chapters, dtype: object"
      ]
     },
     "execution_count": 82,
     "metadata": {},
     "output_type": "execute_result"
    }
   ],
   "source": [
    "chapters('The Call of the Wild')"
   ]
  },
  {
   "cell_type": "code",
   "execution_count": 83,
   "metadata": {},
   "outputs": [],
   "source": [
    "cw_ch_names = ['Chapter I', 'Chapter II', 'Chapter III', 'Chapter IV', 'Chapter V', 'Chapter VI', 'Chapter VII']"
   ]
  },
  {
   "cell_type": "code",
   "execution_count": 84,
   "metadata": {},
   "outputs": [],
   "source": [
    "cw_ch_texts = split_chapters('The Call of the Wild', cw_ch_names)"
   ]
  },
  {
   "cell_type": "markdown",
   "metadata": {},
   "source": [
    "#### Create dataframe with chapter titles, chapter summaries, book title, chapter names, and chapter texts"
   ]
  },
  {
   "cell_type": "code",
   "execution_count": 85,
   "metadata": {},
   "outputs": [
    {
     "data": {
      "text/html": [
       "<div>\n",
       "<style scoped>\n",
       "    .dataframe tbody tr th:only-of-type {\n",
       "        vertical-align: middle;\n",
       "    }\n",
       "\n",
       "    .dataframe tbody tr th {\n",
       "        vertical-align: top;\n",
       "    }\n",
       "\n",
       "    .dataframe thead th {\n",
       "        text-align: right;\n",
       "    }\n",
       "</style>\n",
       "<table border=\"1\" class=\"dataframe\">\n",
       "  <thead>\n",
       "    <tr style=\"text-align: right;\">\n",
       "      <th></th>\n",
       "      <th>chapter_title</th>\n",
       "      <th>chapter_summary</th>\n",
       "      <th>book_title</th>\n",
       "      <th>chapters</th>\n",
       "    </tr>\n",
       "  </thead>\n",
       "  <tbody>\n",
       "    <tr>\n",
       "      <th>110</th>\n",
       "      <td>The Call of the Wild: Novel Summary</td>\n",
       "      <td>Chapter 1\\n\\nSummary\\n\\tThe story begins in th...</td>\n",
       "      <td>The Call of the Wild</td>\n",
       "      <td>The Call of the Wild: Novel Summary</td>\n",
       "    </tr>\n",
       "    <tr>\n",
       "      <th>111</th>\n",
       "      <td>The Call of the Wild: Novel Summary: Chapter 1</td>\n",
       "      <td>Chapter 1\\nSummary\\n\\tThe story begins in the ...</td>\n",
       "      <td>The Call of the Wild</td>\n",
       "      <td>Chapter 1</td>\n",
       "    </tr>\n",
       "    <tr>\n",
       "      <th>112</th>\n",
       "      <td>The Call of the Wild: Novel Summary: Chapter 2</td>\n",
       "      <td>Summary\\n\\tBuck's first day on the beach at th...</td>\n",
       "      <td>The Call of the Wild</td>\n",
       "      <td>Chapter 2</td>\n",
       "    </tr>\n",
       "    <tr>\n",
       "      <th>113</th>\n",
       "      <td>The Call of the Wild: Novel Summary: Chapter 3</td>\n",
       "      <td>Chapter 3\\nSummary\\n\\tThe deadly rivalry betwe...</td>\n",
       "      <td>The Call of the Wild</td>\n",
       "      <td>Chapter 3</td>\n",
       "    </tr>\n",
       "    <tr>\n",
       "      <th>114</th>\n",
       "      <td>The Call of the Wild: Novel Summary: Chapter 4</td>\n",
       "      <td>Summary\\n\\tThe next morning, as Franeois harne...</td>\n",
       "      <td>The Call of the Wild</td>\n",
       "      <td>Chapter 4</td>\n",
       "    </tr>\n",
       "    <tr>\n",
       "      <th>115</th>\n",
       "      <td>The Call of the Wild: Novel Summary: Chapter 5</td>\n",
       "      <td>Chapter 5\\nSummary\\n\\tAfter reaching Dawson, t...</td>\n",
       "      <td>The Call of the Wild</td>\n",
       "      <td>Chapter 5</td>\n",
       "    </tr>\n",
       "    <tr>\n",
       "      <th>116</th>\n",
       "      <td>The Call of the Wild: Novel Summary: Chapter 6</td>\n",
       "      <td>Summary\\n\\tStaying with Thornton during the sp...</td>\n",
       "      <td>The Call of the Wild</td>\n",
       "      <td>Chapter 6</td>\n",
       "    </tr>\n",
       "    <tr>\n",
       "      <th>117</th>\n",
       "      <td>The Call of the Wild: Novel Summary: Chapter 7</td>\n",
       "      <td>Chapter 7\\nSummary\\n\\tThe money Buck wins for ...</td>\n",
       "      <td>The Call of the Wild</td>\n",
       "      <td>Chapter 7</td>\n",
       "    </tr>\n",
       "  </tbody>\n",
       "</table>\n",
       "</div>"
      ],
      "text/plain": [
       "                                      chapter_title  \\\n",
       "110            The Call of the Wild: Novel Summary    \n",
       "111  The Call of the Wild: Novel Summary: Chapter 1   \n",
       "112  The Call of the Wild: Novel Summary: Chapter 2   \n",
       "113  The Call of the Wild: Novel Summary: Chapter 3   \n",
       "114  The Call of the Wild: Novel Summary: Chapter 4   \n",
       "115  The Call of the Wild: Novel Summary: Chapter 5   \n",
       "116  The Call of the Wild: Novel Summary: Chapter 6   \n",
       "117  The Call of the Wild: Novel Summary: Chapter 7   \n",
       "\n",
       "                                       chapter_summary            book_title  \\\n",
       "110  Chapter 1\\n\\nSummary\\n\\tThe story begins in th...  The Call of the Wild   \n",
       "111  Chapter 1\\nSummary\\n\\tThe story begins in the ...  The Call of the Wild   \n",
       "112  Summary\\n\\tBuck's first day on the beach at th...  The Call of the Wild   \n",
       "113  Chapter 3\\nSummary\\n\\tThe deadly rivalry betwe...  The Call of the Wild   \n",
       "114  Summary\\n\\tThe next morning, as Franeois harne...  The Call of the Wild   \n",
       "115  Chapter 5\\nSummary\\n\\tAfter reaching Dawson, t...  The Call of the Wild   \n",
       "116  Summary\\n\\tStaying with Thornton during the sp...  The Call of the Wild   \n",
       "117  Chapter 7\\nSummary\\n\\tThe money Buck wins for ...  The Call of the Wild   \n",
       "\n",
       "                                  chapters  \n",
       "110   The Call of the Wild: Novel Summary   \n",
       "111                              Chapter 1  \n",
       "112                              Chapter 2  \n",
       "113                              Chapter 3  \n",
       "114                              Chapter 4  \n",
       "115                              Chapter 5  \n",
       "116                              Chapter 6  \n",
       "117                              Chapter 7  "
      ]
     },
     "execution_count": 85,
     "metadata": {},
     "output_type": "execute_result"
    }
   ],
   "source": [
    "cw_df = start_df('The Call of the Wild')\n",
    "cw_df"
   ]
  },
  {
   "cell_type": "code",
   "execution_count": 86,
   "metadata": {},
   "outputs": [],
   "source": [
    "cw_df.drop(index=110, inplace=True)"
   ]
  },
  {
   "cell_type": "code",
   "execution_count": 87,
   "metadata": {},
   "outputs": [],
   "source": [
    "cw_df['chapter_text'] = cw_ch_texts"
   ]
  },
  {
   "cell_type": "markdown",
   "metadata": {},
   "source": [
    "#### Add book to main dataframe"
   ]
  },
  {
   "cell_type": "code",
   "execution_count": 88,
   "metadata": {},
   "outputs": [],
   "source": [
    "main_df = pd.concat([main_df, cw_df])"
   ]
  },
  {
   "cell_type": "code",
   "execution_count": 89,
   "metadata": {},
   "outputs": [
    {
     "data": {
      "text/plain": [
       "99"
      ]
     },
     "execution_count": 89,
     "metadata": {},
     "output_type": "execute_result"
    }
   ],
   "source": [
    "len(main_df)"
   ]
  },
  {
   "cell_type": "markdown",
   "metadata": {},
   "source": [
    "### The Inferno"
   ]
  },
  {
   "cell_type": "markdown",
   "metadata": {},
   "source": [
    "#### Split full text into chapters"
   ]
  },
  {
   "cell_type": "code",
   "execution_count": 90,
   "metadata": {},
   "outputs": [
    {
     "data": {
      "text/plain": [
       "118    The Inferno: Novel Summary\n",
       "119                       Canto 1\n",
       "120                       Canto 2\n",
       "121                       Canto 3\n",
       "122                       Canto 4\n",
       "123                       Canto 5\n",
       "124                       Canto 6\n",
       "125                       Canto 7\n",
       "126                       Canto 8\n",
       "127                       Canto 9\n",
       "128                      Canto 10\n",
       "129                      Canto 11\n",
       "130                      Canto 12\n",
       "131                      Canto 13\n",
       "132                   Canto 14-15\n",
       "133                   Canto 16-17\n",
       "134                      Canto 18\n",
       "135                      Canto 19\n",
       "136                      Canto 20\n",
       "137                   Canto 21-22\n",
       "138                      Canto 23\n",
       "139                   Canto 24-25\n",
       "140                      Canto 26\n",
       "141                      Canto 27\n",
       "142                      Canto 28\n",
       "143                      Canto 29\n",
       "144                      Canto 30\n",
       "145                      Canto 31\n",
       "146                   Canto 32-33\n",
       "147                      Canto 34\n",
       "Name: chapters, dtype: object"
      ]
     },
     "execution_count": 90,
     "metadata": {},
     "output_type": "execute_result"
    }
   ],
   "source": [
    "chapters('The Inferno')"
   ]
  },
  {
   "cell_type": "markdown",
   "metadata": {},
   "source": [
    "The chapters and the title contained in the data here are mismatched (due to an error in prior data organization/processing). These chapter titles appear to be from Dante's Inferno, however the book being referenced and the full text downloaded is The Inferno by Henri Barbusse"
   ]
  },
  {
   "cell_type": "markdown",
   "metadata": {},
   "source": [
    "##### Text of Dante's Inferno downloaded separately from https://www.fulltextarchive.com/page/Dante-s-Inferno8/ and added to txt file"
   ]
  },
  {
   "cell_type": "code",
   "execution_count": 91,
   "metadata": {},
   "outputs": [],
   "source": [
    "di_chap_names = []\n",
    "\n",
    "for i in range(1, 35):\n",
    "    di_chap_names.append(f'Canto {i}')"
   ]
  },
  {
   "cell_type": "code",
   "execution_count": 92,
   "metadata": {},
   "outputs": [],
   "source": [
    "di_ch_texts = split_chapters('Dantes Inferno', di_chap_names)"
   ]
  },
  {
   "cell_type": "markdown",
   "metadata": {},
   "source": [
    "#### Create dataframe with chapter titles, chapter summaries, book title, chapter names, and chapter texts"
   ]
  },
  {
   "cell_type": "code",
   "execution_count": 93,
   "metadata": {},
   "outputs": [
    {
     "data": {
      "text/html": [
       "<div>\n",
       "<style scoped>\n",
       "    .dataframe tbody tr th:only-of-type {\n",
       "        vertical-align: middle;\n",
       "    }\n",
       "\n",
       "    .dataframe tbody tr th {\n",
       "        vertical-align: top;\n",
       "    }\n",
       "\n",
       "    .dataframe thead th {\n",
       "        text-align: right;\n",
       "    }\n",
       "</style>\n",
       "<table border=\"1\" class=\"dataframe\">\n",
       "  <thead>\n",
       "    <tr style=\"text-align: right;\">\n",
       "      <th></th>\n",
       "      <th>chapter_title</th>\n",
       "      <th>chapter_summary</th>\n",
       "      <th>book_title</th>\n",
       "      <th>chapters</th>\n",
       "    </tr>\n",
       "  </thead>\n",
       "  <tbody>\n",
       "    <tr>\n",
       "      <th>118</th>\n",
       "      <td>The Inferno: Novel Summary</td>\n",
       "      <td>Summary\\nIn the middle of the journey of his l...</td>\n",
       "      <td>The Inferno</td>\n",
       "      <td>The Inferno: Novel Summary</td>\n",
       "    </tr>\n",
       "    <tr>\n",
       "      <th>119</th>\n",
       "      <td>The Inferno: Novel Summary: Canto 1</td>\n",
       "      <td>Summary\\n\\tIn the middle of the journey of his...</td>\n",
       "      <td>The Inferno</td>\n",
       "      <td>Canto 1</td>\n",
       "    </tr>\n",
       "    <tr>\n",
       "      <th>120</th>\n",
       "      <td>The Inferno: Novel Summary: Canto 2</td>\n",
       "      <td>Summary\\n\\tDante and Virgil have set out, and ...</td>\n",
       "      <td>The Inferno</td>\n",
       "      <td>Canto 2</td>\n",
       "    </tr>\n",
       "    <tr>\n",
       "      <th>121</th>\n",
       "      <td>The Inferno: Novel Summary: Canto 3</td>\n",
       "      <td>Summary\\n\\tThe dire words inscribed over the g...</td>\n",
       "      <td>The Inferno</td>\n",
       "      <td>Canto 3</td>\n",
       "    </tr>\n",
       "    <tr>\n",
       "      <th>122</th>\n",
       "      <td>The Inferno: Novel Summary: Canto 4</td>\n",
       "      <td>Summary\\n\\tDante wakes up and finds himself \"o...</td>\n",
       "      <td>The Inferno</td>\n",
       "      <td>Canto 4</td>\n",
       "    </tr>\n",
       "    <tr>\n",
       "      <th>123</th>\n",
       "      <td>The Inferno: Novel Summary: Canto 5</td>\n",
       "      <td>Summary\\n\\tWhen he first enters the Second Cir...</td>\n",
       "      <td>The Inferno</td>\n",
       "      <td>Canto 5</td>\n",
       "    </tr>\n",
       "    <tr>\n",
       "      <th>124</th>\n",
       "      <td>The Inferno: Novel Summary: Canto 6</td>\n",
       "      <td>Summary\\n\\tDuring his swoon, Dante has somehow...</td>\n",
       "      <td>The Inferno</td>\n",
       "      <td>Canto 6</td>\n",
       "    </tr>\n",
       "    <tr>\n",
       "      <th>125</th>\n",
       "      <td>The Inferno: Novel Summary: Canto 7</td>\n",
       "      <td>Summary\\n\\tPlutus (in ancient mythology the go...</td>\n",
       "      <td>The Inferno</td>\n",
       "      <td>Canto 7</td>\n",
       "    </tr>\n",
       "    <tr>\n",
       "      <th>126</th>\n",
       "      <td>The Inferno: Novel Summary: Canto 8</td>\n",
       "      <td>Summary\\n\\tWhen Dante and Virgil come to the f...</td>\n",
       "      <td>The Inferno</td>\n",
       "      <td>Canto 8</td>\n",
       "    </tr>\n",
       "    <tr>\n",
       "      <th>127</th>\n",
       "      <td>The Inferno: Novel Summary: Canto 9</td>\n",
       "      <td>Summary\\n\\tSeeing Dante's fear, Virgil tries t...</td>\n",
       "      <td>The Inferno</td>\n",
       "      <td>Canto 9</td>\n",
       "    </tr>\n",
       "    <tr>\n",
       "      <th>128</th>\n",
       "      <td>The Inferno: Novel Summary: Canto 10</td>\n",
       "      <td>Summary\\n\\tDante wants to know whether it's po...</td>\n",
       "      <td>The Inferno</td>\n",
       "      <td>Canto 10</td>\n",
       "    </tr>\n",
       "    <tr>\n",
       "      <th>129</th>\n",
       "      <td>The Inferno: Novel Summary: Canto 11</td>\n",
       "      <td>Summary\\n\\tThe stench of the next circle is so...</td>\n",
       "      <td>The Inferno</td>\n",
       "      <td>Canto 11</td>\n",
       "    </tr>\n",
       "    <tr>\n",
       "      <th>130</th>\n",
       "      <td>The Inferno: Novel Summary: Canto 12</td>\n",
       "      <td>Summary\\n\\tA sheer mountainside leads down to ...</td>\n",
       "      <td>The Inferno</td>\n",
       "      <td>Canto 12</td>\n",
       "    </tr>\n",
       "    <tr>\n",
       "      <th>131</th>\n",
       "      <td>The Inferno: Novel Summary: Canto 13</td>\n",
       "      <td>Summary\\n\\tThe centaur leaves them on the fart...</td>\n",
       "      <td>The Inferno</td>\n",
       "      <td>Canto 13</td>\n",
       "    </tr>\n",
       "    <tr>\n",
       "      <th>132</th>\n",
       "      <td>The Inferno: Novel Summary: Canto 14-15</td>\n",
       "      <td>Summary\\n\\tDante and Virgil emerge from the wo...</td>\n",
       "      <td>The Inferno</td>\n",
       "      <td>Canto 14-15</td>\n",
       "    </tr>\n",
       "    <tr>\n",
       "      <th>133</th>\n",
       "      <td>The Inferno: Novel Summary: Canto 16-17</td>\n",
       "      <td>Summary\\n\\tThree Florentines call out to Dante...</td>\n",
       "      <td>The Inferno</td>\n",
       "      <td>Canto 16-17</td>\n",
       "    </tr>\n",
       "    <tr>\n",
       "      <th>134</th>\n",
       "      <td>The Inferno: Novel Summary: Canto 18</td>\n",
       "      <td>Summary\\n\\tDante tells us the shape of the Eig...</td>\n",
       "      <td>The Inferno</td>\n",
       "      <td>Canto 18</td>\n",
       "    </tr>\n",
       "    <tr>\n",
       "      <th>135</th>\n",
       "      <td>The Inferno: Novel Summary: Canto 19</td>\n",
       "      <td>Summary\\n\\tDante begins by an outburst against...</td>\n",
       "      <td>The Inferno</td>\n",
       "      <td>Canto 19</td>\n",
       "    </tr>\n",
       "    <tr>\n",
       "      <th>136</th>\n",
       "      <td>The Inferno: Novel Summary: Canto 20</td>\n",
       "      <td>Summary\\n\\tIn the Fourth Bolgia, Dante sees th...</td>\n",
       "      <td>The Inferno</td>\n",
       "      <td>Canto 20</td>\n",
       "    </tr>\n",
       "    <tr>\n",
       "      <th>137</th>\n",
       "      <td>The Inferno: Novel Summary: Canto 21-22</td>\n",
       "      <td>Summary\\n\\tIn the Fifth Bolgia, Dante sees boi...</td>\n",
       "      <td>The Inferno</td>\n",
       "      <td>Canto 21-22</td>\n",
       "    </tr>\n",
       "    <tr>\n",
       "      <th>138</th>\n",
       "      <td>The Inferno: Novel Summary: Canto 23</td>\n",
       "      <td>Summary\\n\\tAt first Dante and Virgil go on qui...</td>\n",
       "      <td>The Inferno</td>\n",
       "      <td>Canto 23</td>\n",
       "    </tr>\n",
       "    <tr>\n",
       "      <th>139</th>\n",
       "      <td>The Inferno: Novel Summary: Canto 24-25</td>\n",
       "      <td>Canto 24-25\\nSummary\\n\\tDante is deeply discou...</td>\n",
       "      <td>The Inferno</td>\n",
       "      <td>Canto 24-25</td>\n",
       "    </tr>\n",
       "    <tr>\n",
       "      <th>140</th>\n",
       "      <td>The Inferno: Novel Summary: Canto 26</td>\n",
       "      <td>Canto 26\\nSummary\\n\\tDante the narrator begins...</td>\n",
       "      <td>The Inferno</td>\n",
       "      <td>Canto 26</td>\n",
       "    </tr>\n",
       "    <tr>\n",
       "      <th>141</th>\n",
       "      <td>The Inferno: Novel Summary: Canto 27</td>\n",
       "      <td>Canto 27\\nSummary\\n\\tRecognizing him as Italia...</td>\n",
       "      <td>The Inferno</td>\n",
       "      <td>Canto 27</td>\n",
       "    </tr>\n",
       "    <tr>\n",
       "      <th>142</th>\n",
       "      <td>The Inferno: Novel Summary: Canto 28</td>\n",
       "      <td>Canto 28\\nSummary\\n\\tIn the Ninth Bolgia, Dant...</td>\n",
       "      <td>The Inferno</td>\n",
       "      <td>Canto 28</td>\n",
       "    </tr>\n",
       "    <tr>\n",
       "      <th>143</th>\n",
       "      <td>The Inferno: Novel Summary: Canto 29</td>\n",
       "      <td>Canto 29\\nSummary\\n\\tDante is so overwhelmed b...</td>\n",
       "      <td>The Inferno</td>\n",
       "      <td>Canto 29</td>\n",
       "    </tr>\n",
       "    <tr>\n",
       "      <th>144</th>\n",
       "      <td>The Inferno: Novel Summary: Canto 30</td>\n",
       "      <td>Canto 30\\nSummary\\n\\tStill in the Tenth Bolgia...</td>\n",
       "      <td>The Inferno</td>\n",
       "      <td>Canto 30</td>\n",
       "    </tr>\n",
       "    <tr>\n",
       "      <th>145</th>\n",
       "      <td>The Inferno: Novel Summary: Canto 31</td>\n",
       "      <td>Canto 31\\nSummary\\n\\tHealed by Virgil's forgiv...</td>\n",
       "      <td>The Inferno</td>\n",
       "      <td>Canto 31</td>\n",
       "    </tr>\n",
       "    <tr>\n",
       "      <th>146</th>\n",
       "      <td>The Inferno: Novel Summary: Canto 32-33</td>\n",
       "      <td>Canto 32-33\\nSummary\\n\\tDante has no rhymes ha...</td>\n",
       "      <td>The Inferno</td>\n",
       "      <td>Canto 32-33</td>\n",
       "    </tr>\n",
       "    <tr>\n",
       "      <th>147</th>\n",
       "      <td>The Inferno: Novel Summary: Canto 34</td>\n",
       "      <td>Canto 34\\nSummary\\n\\tNow in the deepest depth ...</td>\n",
       "      <td>The Inferno</td>\n",
       "      <td>Canto 34</td>\n",
       "    </tr>\n",
       "  </tbody>\n",
       "</table>\n",
       "</div>"
      ],
      "text/plain": [
       "                               chapter_title  \\\n",
       "118               The Inferno: Novel Summary   \n",
       "119      The Inferno: Novel Summary: Canto 1   \n",
       "120      The Inferno: Novel Summary: Canto 2   \n",
       "121      The Inferno: Novel Summary: Canto 3   \n",
       "122      The Inferno: Novel Summary: Canto 4   \n",
       "123      The Inferno: Novel Summary: Canto 5   \n",
       "124      The Inferno: Novel Summary: Canto 6   \n",
       "125      The Inferno: Novel Summary: Canto 7   \n",
       "126      The Inferno: Novel Summary: Canto 8   \n",
       "127      The Inferno: Novel Summary: Canto 9   \n",
       "128     The Inferno: Novel Summary: Canto 10   \n",
       "129     The Inferno: Novel Summary: Canto 11   \n",
       "130     The Inferno: Novel Summary: Canto 12   \n",
       "131     The Inferno: Novel Summary: Canto 13   \n",
       "132  The Inferno: Novel Summary: Canto 14-15   \n",
       "133  The Inferno: Novel Summary: Canto 16-17   \n",
       "134     The Inferno: Novel Summary: Canto 18   \n",
       "135     The Inferno: Novel Summary: Canto 19   \n",
       "136     The Inferno: Novel Summary: Canto 20   \n",
       "137  The Inferno: Novel Summary: Canto 21-22   \n",
       "138     The Inferno: Novel Summary: Canto 23   \n",
       "139  The Inferno: Novel Summary: Canto 24-25   \n",
       "140     The Inferno: Novel Summary: Canto 26   \n",
       "141     The Inferno: Novel Summary: Canto 27   \n",
       "142     The Inferno: Novel Summary: Canto 28   \n",
       "143     The Inferno: Novel Summary: Canto 29   \n",
       "144     The Inferno: Novel Summary: Canto 30   \n",
       "145     The Inferno: Novel Summary: Canto 31   \n",
       "146  The Inferno: Novel Summary: Canto 32-33   \n",
       "147     The Inferno: Novel Summary: Canto 34   \n",
       "\n",
       "                                       chapter_summary   book_title  \\\n",
       "118  Summary\\nIn the middle of the journey of his l...  The Inferno   \n",
       "119  Summary\\n\\tIn the middle of the journey of his...  The Inferno   \n",
       "120  Summary\\n\\tDante and Virgil have set out, and ...  The Inferno   \n",
       "121  Summary\\n\\tThe dire words inscribed over the g...  The Inferno   \n",
       "122  Summary\\n\\tDante wakes up and finds himself \"o...  The Inferno   \n",
       "123  Summary\\n\\tWhen he first enters the Second Cir...  The Inferno   \n",
       "124  Summary\\n\\tDuring his swoon, Dante has somehow...  The Inferno   \n",
       "125  Summary\\n\\tPlutus (in ancient mythology the go...  The Inferno   \n",
       "126  Summary\\n\\tWhen Dante and Virgil come to the f...  The Inferno   \n",
       "127  Summary\\n\\tSeeing Dante's fear, Virgil tries t...  The Inferno   \n",
       "128  Summary\\n\\tDante wants to know whether it's po...  The Inferno   \n",
       "129  Summary\\n\\tThe stench of the next circle is so...  The Inferno   \n",
       "130  Summary\\n\\tA sheer mountainside leads down to ...  The Inferno   \n",
       "131  Summary\\n\\tThe centaur leaves them on the fart...  The Inferno   \n",
       "132  Summary\\n\\tDante and Virgil emerge from the wo...  The Inferno   \n",
       "133  Summary\\n\\tThree Florentines call out to Dante...  The Inferno   \n",
       "134  Summary\\n\\tDante tells us the shape of the Eig...  The Inferno   \n",
       "135  Summary\\n\\tDante begins by an outburst against...  The Inferno   \n",
       "136  Summary\\n\\tIn the Fourth Bolgia, Dante sees th...  The Inferno   \n",
       "137  Summary\\n\\tIn the Fifth Bolgia, Dante sees boi...  The Inferno   \n",
       "138  Summary\\n\\tAt first Dante and Virgil go on qui...  The Inferno   \n",
       "139  Canto 24-25\\nSummary\\n\\tDante is deeply discou...  The Inferno   \n",
       "140  Canto 26\\nSummary\\n\\tDante the narrator begins...  The Inferno   \n",
       "141  Canto 27\\nSummary\\n\\tRecognizing him as Italia...  The Inferno   \n",
       "142  Canto 28\\nSummary\\n\\tIn the Ninth Bolgia, Dant...  The Inferno   \n",
       "143  Canto 29\\nSummary\\n\\tDante is so overwhelmed b...  The Inferno   \n",
       "144  Canto 30\\nSummary\\n\\tStill in the Tenth Bolgia...  The Inferno   \n",
       "145  Canto 31\\nSummary\\n\\tHealed by Virgil's forgiv...  The Inferno   \n",
       "146  Canto 32-33\\nSummary\\n\\tDante has no rhymes ha...  The Inferno   \n",
       "147  Canto 34\\nSummary\\n\\tNow in the deepest depth ...  The Inferno   \n",
       "\n",
       "                       chapters  \n",
       "118  The Inferno: Novel Summary  \n",
       "119                     Canto 1  \n",
       "120                     Canto 2  \n",
       "121                     Canto 3  \n",
       "122                     Canto 4  \n",
       "123                     Canto 5  \n",
       "124                     Canto 6  \n",
       "125                     Canto 7  \n",
       "126                     Canto 8  \n",
       "127                     Canto 9  \n",
       "128                    Canto 10  \n",
       "129                    Canto 11  \n",
       "130                    Canto 12  \n",
       "131                    Canto 13  \n",
       "132                 Canto 14-15  \n",
       "133                 Canto 16-17  \n",
       "134                    Canto 18  \n",
       "135                    Canto 19  \n",
       "136                    Canto 20  \n",
       "137                 Canto 21-22  \n",
       "138                    Canto 23  \n",
       "139                 Canto 24-25  \n",
       "140                    Canto 26  \n",
       "141                    Canto 27  \n",
       "142                    Canto 28  \n",
       "143                    Canto 29  \n",
       "144                    Canto 30  \n",
       "145                    Canto 31  \n",
       "146                 Canto 32-33  \n",
       "147                    Canto 34  "
      ]
     },
     "execution_count": 93,
     "metadata": {},
     "output_type": "execute_result"
    }
   ],
   "source": [
    "di_df = start_df('The Inferno')\n",
    "di_df"
   ]
  },
  {
   "cell_type": "code",
   "execution_count": 94,
   "metadata": {},
   "outputs": [],
   "source": [
    "di_df.drop(index=118, inplace=True)"
   ]
  },
  {
   "cell_type": "code",
   "execution_count": 95,
   "metadata": {},
   "outputs": [
    {
     "data": {
      "text/plain": [
       "29"
      ]
     },
     "execution_count": 95,
     "metadata": {},
     "output_type": "execute_result"
    }
   ],
   "source": [
    "len(di_df)"
   ]
  },
  {
   "cell_type": "code",
   "execution_count": 96,
   "metadata": {},
   "outputs": [],
   "source": [
    "di_bk_name = []\n",
    "for i in range(29):\n",
    "    di_bk_name.append('Dantes Inferno')\n",
    "\n",
    "di_df['book_title'] = di_bk_name"
   ]
  },
  {
   "cell_type": "code",
   "execution_count": 97,
   "metadata": {},
   "outputs": [],
   "source": [
    "di_df['chapter_text'] = [\n",
    "    di_ch_texts[0],\n",
    "    di_ch_texts[1],\n",
    "    di_ch_texts[2],\n",
    "    di_ch_texts[3],\n",
    "    di_ch_texts[4],\n",
    "    di_ch_texts[5],\n",
    "    di_ch_texts[6],\n",
    "    di_ch_texts[7],\n",
    "    di_ch_texts[8],\n",
    "    di_ch_texts[9],\n",
    "    di_ch_texts[10],\n",
    "    di_ch_texts[11],\n",
    "    di_ch_texts[12],\n",
    "    ' '.join(di_ch_texts[13:14]),\n",
    "    ' '.join(di_ch_texts[15:16]),\n",
    "    di_ch_texts[17],\n",
    "    di_ch_texts[18],\n",
    "    di_ch_texts[19],\n",
    "    ' '.join(di_ch_texts[20:21]),\n",
    "    di_ch_texts[22],\n",
    "    ' '.join(di_ch_texts[23:24]),\n",
    "    di_ch_texts[25],\n",
    "    di_ch_texts[26],\n",
    "    di_ch_texts[27],\n",
    "    di_ch_texts[28],\n",
    "    di_ch_texts[29],\n",
    "    di_ch_texts[30],\n",
    "    ' '.join(di_ch_texts[31:32]),\n",
    "    di_ch_texts[33],\n",
    "]"
   ]
  },
  {
   "cell_type": "markdown",
   "metadata": {},
   "source": [
    "#### Add book to main dataframe"
   ]
  },
  {
   "cell_type": "code",
   "execution_count": 98,
   "metadata": {},
   "outputs": [],
   "source": [
    "main_df = pd.concat([main_df, di_df])"
   ]
  },
  {
   "cell_type": "code",
   "execution_count": 99,
   "metadata": {},
   "outputs": [
    {
     "data": {
      "text/plain": [
       "128"
      ]
     },
     "execution_count": 99,
     "metadata": {},
     "output_type": "execute_result"
    }
   ],
   "source": [
    "len(main_df)"
   ]
  },
  {
   "cell_type": "markdown",
   "metadata": {},
   "source": [
    "### Henry VIII"
   ]
  },
  {
   "cell_type": "markdown",
   "metadata": {},
   "source": [
    "#### Split full text into chapters"
   ]
  },
  {
   "cell_type": "code",
   "execution_count": 100,
   "metadata": {},
   "outputs": [
    {
     "data": {
      "text/plain": [
       "148    Henry VIII: Summary: The Prologue\n",
       "149                        Act 1 Scene 1\n",
       "150                        Act 1 Scene 2\n",
       "151                    Act 1 Scene 3 & 4\n",
       "152                        Act 2 Scene 1\n",
       "153                        Act 2 Scene 2\n",
       "154                        Act 2 Scene 3\n",
       "155                        Act 2 Scene 4\n",
       "156                        Act 3 Scene 1\n",
       "157                        Act 3 Scene 2\n",
       "158                   Act 4 Scenes 1 & 2\n",
       "159                        Act 5 Scene 1\n",
       "160                        Act 5 Scene 2\n",
       "161     Act 5 Scenes 3 & 4, and Epilogue\n",
       "Name: chapters, dtype: object"
      ]
     },
     "execution_count": 100,
     "metadata": {},
     "output_type": "execute_result"
    }
   ],
   "source": [
    "chapters('Henry VIII')"
   ]
  },
  {
   "cell_type": "code",
   "execution_count": 101,
   "metadata": {},
   "outputs": [],
   "source": [
    "h_act_names = [\n",
    "    'ACT I.',\n",
    "    'ACT II.',\n",
    "    'ACT THIRD',\n",
    "    'ACT FOURTH',\n",
    "    'ACT FIFTH'\n",
    "]"
   ]
  },
  {
   "cell_type": "code",
   "execution_count": 102,
   "metadata": {},
   "outputs": [],
   "source": [
    "h_ch_names_list = []"
   ]
  },
  {
   "cell_type": "code",
   "execution_count": 103,
   "metadata": {},
   "outputs": [],
   "source": [
    "h_acts = split_chapters('Henry VIII', h_act_names)"
   ]
  },
  {
   "cell_type": "code",
   "execution_count": 104,
   "metadata": {},
   "outputs": [],
   "source": [
    "h_act1_names =[\n",
    "    'SCENE 1.',\n",
    "    'SCENE II. The same. The council-chamber.',\n",
    "    'SCENE III. An ante-chamber in the palace.',\n",
    "    'SCENE IV. A Hall in York Place.',\n",
    "]\n",
    "h_ch_names_list.append(h_act1_names)\n",
    "\n",
    "\n",
    "h_act2_names = [ \n",
    "    'SCENE 1. Westminster. A street.',\n",
    "    'SCENE II.  An ante-chamber in the palace.',\n",
    "    'SCENE III.  An ante-chamber of the Queen\\'s apartments.',\n",
    "    'SCENE IV.  A hall in Black-Friars.',\n",
    "\n",
    "]\n",
    "h_ch_names_list.append(h_act2_names)\n",
    "\n",
    "\n",
    "h_act3_names = [\n",
    "    'SCENE I.  London. The Queen\\'s apartments.',\n",
    "    'SCENE II.  Ante-chamber to the King\\'s apartment.'\n",
    "]\n",
    "h_ch_names_list.append(h_act3_names)\n",
    "\n",
    "\n",
    "h_act4_names = [\n",
    "    'SCENE I.  A street in Westminster.',\n",
    "    'SCENE II. Kimbolton.'\n",
    "]\n",
    "h_ch_names_list.append(h_act4_names)\n",
    "\n",
    "\n",
    "h_act5_names = [\n",
    "    'SCENE I.  A gallery in the palace.',\n",
    "    'SCENE II.  Lobby before the council-chamber.',\n",
    "    'SCENE III.  The council-chamber.',\n",
    "    'SCENE IV. The palace yard.',\n",
    "    'EPILOGUE'\n",
    "]\n",
    "h_ch_names_list.append(h_act5_names)"
   ]
  },
  {
   "cell_type": "code",
   "execution_count": 105,
   "metadata": {},
   "outputs": [],
   "source": [
    "h_texts = []\n",
    "for i in range(5): \n",
    "    text = h_acts[i]\n",
    "    chapter_names = h_ch_names_list[i]\n",
    "    num_chapters = len(chapter_names)\n",
    "\n",
    "    partition_1 = text.partition(chapter_names[1])\n",
    "    chapter_1 = str(partition_1[0])\n",
    "    h_texts.append(chapter_1)\n",
    "\n",
    "    for i in range(2, num_chapters):\n",
    "        partition_ch_group = text.partition(chapter_names[i])\n",
    "        partition_ch_subgroup = str(partition_ch_group[0])\n",
    "        partition_ch_sep = partition_ch_subgroup.partition(chapter_names[i-1])\n",
    "        partition_ch = str(partition_ch_sep[2])\n",
    "        h_texts.append(partition_ch)\n",
    "\n",
    "    partition_last = text.partition(chapter_names[num_chapters-1])\n",
    "    chapter_last = str(partition_last[2])\n",
    "    h_texts.append(chapter_last)"
   ]
  },
  {
   "cell_type": "markdown",
   "metadata": {},
   "source": [
    "#### Create dataframe with chapter titles, chapter summaries, book title, chapter names, and chapter texts"
   ]
  },
  {
   "cell_type": "code",
   "execution_count": 106,
   "metadata": {},
   "outputs": [
    {
     "data": {
      "text/html": [
       "<div>\n",
       "<style scoped>\n",
       "    .dataframe tbody tr th:only-of-type {\n",
       "        vertical-align: middle;\n",
       "    }\n",
       "\n",
       "    .dataframe tbody tr th {\n",
       "        vertical-align: top;\n",
       "    }\n",
       "\n",
       "    .dataframe thead th {\n",
       "        text-align: right;\n",
       "    }\n",
       "</style>\n",
       "<table border=\"1\" class=\"dataframe\">\n",
       "  <thead>\n",
       "    <tr style=\"text-align: right;\">\n",
       "      <th></th>\n",
       "      <th>chapter_title</th>\n",
       "      <th>chapter_summary</th>\n",
       "      <th>book_title</th>\n",
       "      <th>chapters</th>\n",
       "    </tr>\n",
       "  </thead>\n",
       "  <tbody>\n",
       "    <tr>\n",
       "      <th>148</th>\n",
       "      <td>Henry VIII: Summary: The Prologue</td>\n",
       "      <td>\\n\\tThe Prologue enters and explains that he i...</td>\n",
       "      <td>Henry VIII</td>\n",
       "      <td>Henry VIII: Summary: The Prologue</td>\n",
       "    </tr>\n",
       "    <tr>\n",
       "      <th>149</th>\n",
       "      <td>Henry VIII: Novel Summary: Act 1 Scene 1</td>\n",
       "      <td>\\n\\t \\nSummary\\n\\tThe play opens in a room at ...</td>\n",
       "      <td>Henry VIII</td>\n",
       "      <td>Act 1 Scene 1</td>\n",
       "    </tr>\n",
       "    <tr>\n",
       "      <th>150</th>\n",
       "      <td>Henry VIII: Novel Summary: Act 1 Scene 2</td>\n",
       "      <td>\\n\\t \\nSummary\\n\\tThe king, leaning on Wolsey'...</td>\n",
       "      <td>Henry VIII</td>\n",
       "      <td>Act 1 Scene 2</td>\n",
       "    </tr>\n",
       "    <tr>\n",
       "      <th>151</th>\n",
       "      <td>Henry VIII: Novel Summary: Act 1 Scene 3 &amp; 4</td>\n",
       "      <td>\\n\\t \\nSummary\\n\\tThe Lord Chamberlain and Lor...</td>\n",
       "      <td>Henry VIII</td>\n",
       "      <td>Act 1 Scene 3 &amp; 4</td>\n",
       "    </tr>\n",
       "    <tr>\n",
       "      <th>152</th>\n",
       "      <td>Henry VIII: Novel Summary: Act 2 Scene 1</td>\n",
       "      <td>\\n\\t \\nSummary\\n\\tTwo Gentlemen meet in the st...</td>\n",
       "      <td>Henry VIII</td>\n",
       "      <td>Act 2 Scene 1</td>\n",
       "    </tr>\n",
       "    <tr>\n",
       "      <th>153</th>\n",
       "      <td>Henry VIII: Novel Summary: Act 2 Scene 2</td>\n",
       "      <td>\\n\\t \\nSummary\\n\\tThe Lord Chamberlain is read...</td>\n",
       "      <td>Henry VIII</td>\n",
       "      <td>Act 2 Scene 2</td>\n",
       "    </tr>\n",
       "    <tr>\n",
       "      <th>154</th>\n",
       "      <td>Henry VIII: Novel Summary: Act 2 Scene 3</td>\n",
       "      <td>\\n\\t \\nSummary\\n\\tAnne Bullen tells the Old La...</td>\n",
       "      <td>Henry VIII</td>\n",
       "      <td>Act 2 Scene 3</td>\n",
       "    </tr>\n",
       "    <tr>\n",
       "      <th>155</th>\n",
       "      <td>Henry VIII: Novel Summary: Act 2 Scene 4</td>\n",
       "      <td>\\n\\t \\nSummary\\n\\tAt Blackfriars, various bish...</td>\n",
       "      <td>Henry VIII</td>\n",
       "      <td>Act 2 Scene 4</td>\n",
       "    </tr>\n",
       "    <tr>\n",
       "      <th>156</th>\n",
       "      <td>Henry VIII: Novel Summary: Act 3 Scene 1</td>\n",
       "      <td>\\n\\t \\nSummary\\n\\tKatherine is sewing with her...</td>\n",
       "      <td>Henry VIII</td>\n",
       "      <td>Act 3 Scene 1</td>\n",
       "    </tr>\n",
       "    <tr>\n",
       "      <th>157</th>\n",
       "      <td>Henry VIII: Novel Summary: Act 3 Scene 2</td>\n",
       "      <td>\\n\\t \\nSummary\\n\\tNorfolk, Suffolk, Surrey and...</td>\n",
       "      <td>Henry VIII</td>\n",
       "      <td>Act 3 Scene 2</td>\n",
       "    </tr>\n",
       "    <tr>\n",
       "      <th>158</th>\n",
       "      <td>Henry VIII: Novel Summary: Act 4 Scenes 1 &amp; 2</td>\n",
       "      <td>\\n\\t \\nSummary\\n\\tThe two Gentlemen meet in th...</td>\n",
       "      <td>Henry VIII</td>\n",
       "      <td>Act 4 Scenes 1 &amp; 2</td>\n",
       "    </tr>\n",
       "    <tr>\n",
       "      <th>159</th>\n",
       "      <td>Henry VIII: Novel Summary: Act 5 Scene 1</td>\n",
       "      <td>\\n\\t \\nSummary\\n\\tIt is one o'clock at night. ...</td>\n",
       "      <td>Henry VIII</td>\n",
       "      <td>Act 5 Scene 1</td>\n",
       "    </tr>\n",
       "    <tr>\n",
       "      <th>160</th>\n",
       "      <td>Henry VIII: Novel Summary: Act 5 Scene 2</td>\n",
       "      <td>\\n\\t \\nSummary\\n\\tCranmer arrives at the counc...</td>\n",
       "      <td>Henry VIII</td>\n",
       "      <td>Act 5 Scene 2</td>\n",
       "    </tr>\n",
       "    <tr>\n",
       "      <th>161</th>\n",
       "      <td>Henry VIII: Novel Summary: Act 5 Scenes 3 &amp; 4,...</td>\n",
       "      <td>\\n\\t \\nSummary\\n\\tA large crowd of people has ...</td>\n",
       "      <td>Henry VIII</td>\n",
       "      <td>Act 5 Scenes 3 &amp; 4, and Epilogue</td>\n",
       "    </tr>\n",
       "  </tbody>\n",
       "</table>\n",
       "</div>"
      ],
      "text/plain": [
       "                                         chapter_title  \\\n",
       "148                  Henry VIII: Summary: The Prologue   \n",
       "149           Henry VIII: Novel Summary: Act 1 Scene 1   \n",
       "150           Henry VIII: Novel Summary: Act 1 Scene 2   \n",
       "151       Henry VIII: Novel Summary: Act 1 Scene 3 & 4   \n",
       "152           Henry VIII: Novel Summary: Act 2 Scene 1   \n",
       "153           Henry VIII: Novel Summary: Act 2 Scene 2   \n",
       "154           Henry VIII: Novel Summary: Act 2 Scene 3   \n",
       "155           Henry VIII: Novel Summary: Act 2 Scene 4   \n",
       "156           Henry VIII: Novel Summary: Act 3 Scene 1   \n",
       "157           Henry VIII: Novel Summary: Act 3 Scene 2   \n",
       "158      Henry VIII: Novel Summary: Act 4 Scenes 1 & 2   \n",
       "159           Henry VIII: Novel Summary: Act 5 Scene 1   \n",
       "160           Henry VIII: Novel Summary: Act 5 Scene 2   \n",
       "161  Henry VIII: Novel Summary: Act 5 Scenes 3 & 4,...   \n",
       "\n",
       "                                       chapter_summary  book_title  \\\n",
       "148  \\n\\tThe Prologue enters and explains that he i...  Henry VIII   \n",
       "149  \\n\\t \\nSummary\\n\\tThe play opens in a room at ...  Henry VIII   \n",
       "150  \\n\\t \\nSummary\\n\\tThe king, leaning on Wolsey'...  Henry VIII   \n",
       "151  \\n\\t \\nSummary\\n\\tThe Lord Chamberlain and Lor...  Henry VIII   \n",
       "152  \\n\\t \\nSummary\\n\\tTwo Gentlemen meet in the st...  Henry VIII   \n",
       "153  \\n\\t \\nSummary\\n\\tThe Lord Chamberlain is read...  Henry VIII   \n",
       "154  \\n\\t \\nSummary\\n\\tAnne Bullen tells the Old La...  Henry VIII   \n",
       "155  \\n\\t \\nSummary\\n\\tAt Blackfriars, various bish...  Henry VIII   \n",
       "156  \\n\\t \\nSummary\\n\\tKatherine is sewing with her...  Henry VIII   \n",
       "157  \\n\\t \\nSummary\\n\\tNorfolk, Suffolk, Surrey and...  Henry VIII   \n",
       "158  \\n\\t \\nSummary\\n\\tThe two Gentlemen meet in th...  Henry VIII   \n",
       "159  \\n\\t \\nSummary\\n\\tIt is one o'clock at night. ...  Henry VIII   \n",
       "160  \\n\\t \\nSummary\\n\\tCranmer arrives at the counc...  Henry VIII   \n",
       "161  \\n\\t \\nSummary\\n\\tA large crowd of people has ...  Henry VIII   \n",
       "\n",
       "                              chapters  \n",
       "148  Henry VIII: Summary: The Prologue  \n",
       "149                      Act 1 Scene 1  \n",
       "150                      Act 1 Scene 2  \n",
       "151                  Act 1 Scene 3 & 4  \n",
       "152                      Act 2 Scene 1  \n",
       "153                      Act 2 Scene 2  \n",
       "154                      Act 2 Scene 3  \n",
       "155                      Act 2 Scene 4  \n",
       "156                      Act 3 Scene 1  \n",
       "157                      Act 3 Scene 2  \n",
       "158                 Act 4 Scenes 1 & 2  \n",
       "159                      Act 5 Scene 1  \n",
       "160                      Act 5 Scene 2  \n",
       "161   Act 5 Scenes 3 & 4, and Epilogue  "
      ]
     },
     "execution_count": 106,
     "metadata": {},
     "output_type": "execute_result"
    }
   ],
   "source": [
    "h_df = start_df('Henry VIII')\n",
    "h_df"
   ]
  },
  {
   "cell_type": "code",
   "execution_count": 107,
   "metadata": {},
   "outputs": [],
   "source": [
    "h_df.drop(index=148, inplace=True)"
   ]
  },
  {
   "cell_type": "code",
   "execution_count": 108,
   "metadata": {},
   "outputs": [],
   "source": [
    "h_df['chapter_text'] = [\n",
    "    h_texts[0],\n",
    "    h_texts[1],\n",
    "    ' '.join(h_texts[2:3]),\n",
    "    h_texts[4],\n",
    "    h_texts[5],\n",
    "    h_texts[6],\n",
    "    h_texts[7],\n",
    "    h_texts[8],\n",
    "    h_texts[9],\n",
    "    ' '.join(h_texts[10:11]),\n",
    "    h_texts[12],\n",
    "    h_texts[13],\n",
    "    ' '.join(h_texts[14:16])\n",
    "]"
   ]
  },
  {
   "cell_type": "markdown",
   "metadata": {},
   "source": [
    "#### Add book to main dataframe"
   ]
  },
  {
   "cell_type": "code",
   "execution_count": 109,
   "metadata": {},
   "outputs": [],
   "source": [
    "main_df = pd.concat([main_df, h_df])"
   ]
  },
  {
   "cell_type": "code",
   "execution_count": 110,
   "metadata": {},
   "outputs": [
    {
     "data": {
      "text/plain": [
       "141"
      ]
     },
     "execution_count": 110,
     "metadata": {},
     "output_type": "execute_result"
    }
   ],
   "source": [
    "len(main_df)"
   ]
  },
  {
   "cell_type": "markdown",
   "metadata": {},
   "source": [
    "### Wuthering Heights"
   ]
  },
  {
   "cell_type": "markdown",
   "metadata": {},
   "source": [
    "#### Split full text into chapters"
   ]
  },
  {
   "cell_type": "code",
   "execution_count": 111,
   "metadata": {},
   "outputs": [
    {
     "data": {
      "text/plain": [
       "162      Chapters 1-2\n",
       "163      Chapters 3-4\n",
       "164      Chapters 7-8\n",
       "165     Chapters 9-10\n",
       "166    Chapters 11-12\n",
       "167    Chapters 13-14\n",
       "168    Chapters 15-16\n",
       "169    Chapters 17-18\n",
       "170    Chapters 19-20\n",
       "171    Chapters 21-22\n",
       "172    Chapters 23-24\n",
       "173    Chapters 25-26\n",
       "174    Chapters 27-28\n",
       "175    Chapters 29-30\n",
       "176    Chapters 31-32\n",
       "177    Chapters 33-34\n",
       "Name: chapters, dtype: object"
      ]
     },
     "execution_count": 111,
     "metadata": {},
     "output_type": "execute_result"
    }
   ],
   "source": [
    "chapters('Wuthering Heights')"
   ]
  },
  {
   "cell_type": "code",
   "execution_count": 112,
   "metadata": {},
   "outputs": [],
   "source": [
    "wh_ch_names = []\n",
    "\n",
    "ch_numerals = [\n",
    "'I', 'II', 'III', 'IV', 'V', 'VI', 'VII', 'VII', 'IX', 'X',\n",
    "'XI', 'XII', 'XIII', 'XIV', 'XV', 'XVI', 'XVII', 'XVIII', 'XIX', 'XX',\n",
    "'XXI', 'XXII', 'XXIII', 'XXIV', 'XXV', 'XXVI', 'XXVII', 'XXVIII', 'XXIX', 'XXX',\n",
    "'XXXI', 'XXXII', 'XXXIII', 'XXXIV' \n",
    "]\n",
    "\n",
    "for num in ch_numerals:\n",
    "    wh_ch_names.append(f'CHAPTER {num}')"
   ]
  },
  {
   "cell_type": "code",
   "execution_count": 113,
   "metadata": {},
   "outputs": [],
   "source": [
    "wh_ch_texts = split_chapters('Wuthering Heights', wh_ch_names)"
   ]
  },
  {
   "cell_type": "markdown",
   "metadata": {},
   "source": [
    "#### Create dataframe with chapter titles, chapter summaries, book title, chapter names, and chapter texts"
   ]
  },
  {
   "cell_type": "code",
   "execution_count": 114,
   "metadata": {},
   "outputs": [
    {
     "data": {
      "text/html": [
       "<div>\n",
       "<style scoped>\n",
       "    .dataframe tbody tr th:only-of-type {\n",
       "        vertical-align: middle;\n",
       "    }\n",
       "\n",
       "    .dataframe tbody tr th {\n",
       "        vertical-align: top;\n",
       "    }\n",
       "\n",
       "    .dataframe thead th {\n",
       "        text-align: right;\n",
       "    }\n",
       "</style>\n",
       "<table border=\"1\" class=\"dataframe\">\n",
       "  <thead>\n",
       "    <tr style=\"text-align: right;\">\n",
       "      <th></th>\n",
       "      <th>chapter_title</th>\n",
       "      <th>chapter_summary</th>\n",
       "      <th>book_title</th>\n",
       "      <th>chapters</th>\n",
       "    </tr>\n",
       "  </thead>\n",
       "  <tbody>\n",
       "    <tr>\n",
       "      <th>162</th>\n",
       "      <td>Wuthering Heights: Novel Summary: Chapters 1-2</td>\n",
       "      <td>Chapter 1: While at the Heights, Lockwood pets...</td>\n",
       "      <td>Wuthering Heights</td>\n",
       "      <td>Chapters 1-2</td>\n",
       "    </tr>\n",
       "    <tr>\n",
       "      <th>163</th>\n",
       "      <td>Wuthering Heights: Novel Summary: Chapters 3-4</td>\n",
       "      <td>Chapter 3: Lockwood falls off to sleep reading...</td>\n",
       "      <td>Wuthering Heights</td>\n",
       "      <td>Chapters 3-4</td>\n",
       "    </tr>\n",
       "    <tr>\n",
       "      <th>164</th>\n",
       "      <td>Wuthering Heights: Novel Summary: Chapters 7-8</td>\n",
       "      <td>Chapter 7: Mrs. Dean cleans Heathcliff up and ...</td>\n",
       "      <td>Wuthering Heights</td>\n",
       "      <td>Chapters 7-8</td>\n",
       "    </tr>\n",
       "    <tr>\n",
       "      <th>165</th>\n",
       "      <td>Wuthering Heights: Novel Summary: Chapters 9-10</td>\n",
       "      <td>Chapter 9: Ellen tells Catherine to be quiet, ...</td>\n",
       "      <td>Wuthering Heights</td>\n",
       "      <td>Chapters 9-10</td>\n",
       "    </tr>\n",
       "    <tr>\n",
       "      <th>166</th>\n",
       "      <td>Wuthering Heights: Novel Summary: Chapters 11-12</td>\n",
       "      <td>\\n\\t \\nChapter 11: The next time Heathcliff co...</td>\n",
       "      <td>Wuthering Heights</td>\n",
       "      <td>Chapters 11-12</td>\n",
       "    </tr>\n",
       "    <tr>\n",
       "      <th>167</th>\n",
       "      <td>Wuthering Heights: Novel Summary: Chapters 13-14</td>\n",
       "      <td>Chapter 13: She writes that they are at Wuther...</td>\n",
       "      <td>Wuthering Heights</td>\n",
       "      <td>Chapters 13-14</td>\n",
       "    </tr>\n",
       "    <tr>\n",
       "      <th>168</th>\n",
       "      <td>Wuthering Heights: Novel Summary: Chapters 15-16</td>\n",
       "      <td>Chapter 15: Ellen starts to get nervous becaus...</td>\n",
       "      <td>Wuthering Heights</td>\n",
       "      <td>Chapters 15-16</td>\n",
       "    </tr>\n",
       "    <tr>\n",
       "      <th>169</th>\n",
       "      <td>Wuthering Heights: Novel Summary: Chapters 17-18</td>\n",
       "      <td>Chapter 17: She then tells Ellen what had been...</td>\n",
       "      <td>Wuthering Heights</td>\n",
       "      <td>Chapters 17-18</td>\n",
       "    </tr>\n",
       "    <tr>\n",
       "      <th>170</th>\n",
       "      <td>Wuthering Heights: Novel Summary: Chapters 19-20</td>\n",
       "      <td>Chapter 19:  A letter arrives from Edgar sayin...</td>\n",
       "      <td>Wuthering Heights</td>\n",
       "      <td>Chapters 19-20</td>\n",
       "    </tr>\n",
       "    <tr>\n",
       "      <th>171</th>\n",
       "      <td>Wuthering Heights: Novel Summary: Chapters 21-22</td>\n",
       "      <td>Chapter 21: When they enter the house, Cathy i...</td>\n",
       "      <td>Wuthering Heights</td>\n",
       "      <td>Chapters 21-22</td>\n",
       "    </tr>\n",
       "    <tr>\n",
       "      <th>172</th>\n",
       "      <td>Wuthering Heights: Novel Summary: Chapters 23-24</td>\n",
       "      <td>Chapter 23: On their way home Ellen tells Cath...</td>\n",
       "      <td>Wuthering Heights</td>\n",
       "      <td>Chapters 23-24</td>\n",
       "    </tr>\n",
       "    <tr>\n",
       "      <th>173</th>\n",
       "      <td>Wuthering Heights: Novel Summary: Chapters 25-26</td>\n",
       "      <td>Chapter 25: Mr. Linton asks Ellen what she thi...</td>\n",
       "      <td>Wuthering Heights</td>\n",
       "      <td>Chapters 25-26</td>\n",
       "    </tr>\n",
       "    <tr>\n",
       "      <th>174</th>\n",
       "      <td>Wuthering Heights: Novel Summary: Chapters 27-28</td>\n",
       "      <td>Chapter 27: Catherine tells Heathcliff that he...</td>\n",
       "      <td>Wuthering Heights</td>\n",
       "      <td>Chapters 27-28</td>\n",
       "    </tr>\n",
       "    <tr>\n",
       "      <th>175</th>\n",
       "      <td>Wuthering Heights: Novel Summary: Chapters 29-30</td>\n",
       "      <td>Chapter 29: He continues on to say that he had...</td>\n",
       "      <td>Wuthering Heights</td>\n",
       "      <td>Chapters 29-30</td>\n",
       "    </tr>\n",
       "    <tr>\n",
       "      <th>176</th>\n",
       "      <td>Wuthering Heights: Novel Summary: Chapters 31-32</td>\n",
       "      <td>Chapter 31: Hareton leaves the house just as H...</td>\n",
       "      <td>Wuthering Heights</td>\n",
       "      <td>Chapters 31-32</td>\n",
       "    </tr>\n",
       "    <tr>\n",
       "      <th>177</th>\n",
       "      <td>Wuthering Heights: Novel Summary: Chapters 33-34</td>\n",
       "      <td>Chapter 33: Later Catherine talks against Heat...</td>\n",
       "      <td>Wuthering Heights</td>\n",
       "      <td>Chapters 33-34</td>\n",
       "    </tr>\n",
       "  </tbody>\n",
       "</table>\n",
       "</div>"
      ],
      "text/plain": [
       "                                        chapter_title  \\\n",
       "162    Wuthering Heights: Novel Summary: Chapters 1-2   \n",
       "163    Wuthering Heights: Novel Summary: Chapters 3-4   \n",
       "164    Wuthering Heights: Novel Summary: Chapters 7-8   \n",
       "165   Wuthering Heights: Novel Summary: Chapters 9-10   \n",
       "166  Wuthering Heights: Novel Summary: Chapters 11-12   \n",
       "167  Wuthering Heights: Novel Summary: Chapters 13-14   \n",
       "168  Wuthering Heights: Novel Summary: Chapters 15-16   \n",
       "169  Wuthering Heights: Novel Summary: Chapters 17-18   \n",
       "170  Wuthering Heights: Novel Summary: Chapters 19-20   \n",
       "171  Wuthering Heights: Novel Summary: Chapters 21-22   \n",
       "172  Wuthering Heights: Novel Summary: Chapters 23-24   \n",
       "173  Wuthering Heights: Novel Summary: Chapters 25-26   \n",
       "174  Wuthering Heights: Novel Summary: Chapters 27-28   \n",
       "175  Wuthering Heights: Novel Summary: Chapters 29-30   \n",
       "176  Wuthering Heights: Novel Summary: Chapters 31-32   \n",
       "177  Wuthering Heights: Novel Summary: Chapters 33-34   \n",
       "\n",
       "                                       chapter_summary         book_title  \\\n",
       "162  Chapter 1: While at the Heights, Lockwood pets...  Wuthering Heights   \n",
       "163  Chapter 3: Lockwood falls off to sleep reading...  Wuthering Heights   \n",
       "164  Chapter 7: Mrs. Dean cleans Heathcliff up and ...  Wuthering Heights   \n",
       "165  Chapter 9: Ellen tells Catherine to be quiet, ...  Wuthering Heights   \n",
       "166  \\n\\t \\nChapter 11: The next time Heathcliff co...  Wuthering Heights   \n",
       "167  Chapter 13: She writes that they are at Wuther...  Wuthering Heights   \n",
       "168  Chapter 15: Ellen starts to get nervous becaus...  Wuthering Heights   \n",
       "169  Chapter 17: She then tells Ellen what had been...  Wuthering Heights   \n",
       "170  Chapter 19:  A letter arrives from Edgar sayin...  Wuthering Heights   \n",
       "171  Chapter 21: When they enter the house, Cathy i...  Wuthering Heights   \n",
       "172  Chapter 23: On their way home Ellen tells Cath...  Wuthering Heights   \n",
       "173  Chapter 25: Mr. Linton asks Ellen what she thi...  Wuthering Heights   \n",
       "174  Chapter 27: Catherine tells Heathcliff that he...  Wuthering Heights   \n",
       "175  Chapter 29: He continues on to say that he had...  Wuthering Heights   \n",
       "176  Chapter 31: Hareton leaves the house just as H...  Wuthering Heights   \n",
       "177  Chapter 33: Later Catherine talks against Heat...  Wuthering Heights   \n",
       "\n",
       "           chapters  \n",
       "162    Chapters 1-2  \n",
       "163    Chapters 3-4  \n",
       "164    Chapters 7-8  \n",
       "165   Chapters 9-10  \n",
       "166  Chapters 11-12  \n",
       "167  Chapters 13-14  \n",
       "168  Chapters 15-16  \n",
       "169  Chapters 17-18  \n",
       "170  Chapters 19-20  \n",
       "171  Chapters 21-22  \n",
       "172  Chapters 23-24  \n",
       "173  Chapters 25-26  \n",
       "174  Chapters 27-28  \n",
       "175  Chapters 29-30  \n",
       "176  Chapters 31-32  \n",
       "177  Chapters 33-34  "
      ]
     },
     "execution_count": 114,
     "metadata": {},
     "output_type": "execute_result"
    }
   ],
   "source": [
    "wh_df = start_df('Wuthering Heights')\n",
    "wh_df"
   ]
  },
  {
   "cell_type": "code",
   "execution_count": 115,
   "metadata": {},
   "outputs": [],
   "source": [
    "wh_df['chapter_text'] = [\n",
    "    ' '.join(wh_ch_texts[0:1]),\n",
    "    ' '.join(wh_ch_texts[2:3]),\n",
    "    ' '.join(wh_ch_texts[6:7]),\n",
    "    ' '.join(wh_ch_texts[8:9]),\n",
    "    ' '.join(wh_ch_texts[10:11]),\n",
    "    ' '.join(wh_ch_texts[12:13]),\n",
    "    ' '.join(wh_ch_texts[14:15]),\n",
    "    ' '.join(wh_ch_texts[16:17]),\n",
    "    ' '.join(wh_ch_texts[18:19]),\n",
    "    ' '.join(wh_ch_texts[20:21]),\n",
    "    ' '.join(wh_ch_texts[22:23]),\n",
    "    ' '.join(wh_ch_texts[24:25]),\n",
    "    ' '.join(wh_ch_texts[26:27]),\n",
    "    ' '.join(wh_ch_texts[28:29]),\n",
    "    ' '.join(wh_ch_texts[30:31]),\n",
    "    ' '.join(wh_ch_texts[32:33]),\n",
    "]"
   ]
  },
  {
   "cell_type": "code",
   "execution_count": 116,
   "metadata": {},
   "outputs": [],
   "source": [
    "main_df = pd.concat([main_df, wh_df])"
   ]
  },
  {
   "cell_type": "code",
   "execution_count": 117,
   "metadata": {},
   "outputs": [
    {
     "data": {
      "text/plain": [
       "157"
      ]
     },
     "execution_count": 117,
     "metadata": {},
     "output_type": "execute_result"
    }
   ],
   "source": [
    "len(main_df)"
   ]
  },
  {
   "cell_type": "markdown",
   "metadata": {},
   "source": [
    "### Divine Comedy is next in the list of books, however the text in this file is the same text that was uploaded previously in place of 'The Inferno'"
   ]
  },
  {
   "cell_type": "markdown",
   "metadata": {},
   "source": [
    "### The Adventures of Huckleberry Finn"
   ]
  },
  {
   "cell_type": "markdown",
   "metadata": {},
   "source": [
    "#### Split full text into chapters"
   ]
  },
  {
   "cell_type": "code",
   "execution_count": 118,
   "metadata": {},
   "outputs": [
    {
     "data": {
      "text/plain": [
       "198      Chapters 1-3\n",
       "199      Chapters 4-6\n",
       "200      Chapters 7-9\n",
       "201    Chapters 13-15\n",
       "202    Chapters 16-18\n",
       "203    Chapters 19-21\n",
       "204    Chapters 22-24\n",
       "205    Chapters 25-27\n",
       "206    Chapters 28-30\n",
       "207    Chapters 31-33\n",
       "208    Chapters 34-36\n",
       "209    Chapters 37-39\n",
       "210    Chapters 40-42\n",
       "211        Chapter 43\n",
       "Name: chapters, dtype: object"
      ]
     },
     "execution_count": 118,
     "metadata": {},
     "output_type": "execute_result"
    }
   ],
   "source": [
    "chapters('The Adventures of Huckleberry Finn')"
   ]
  },
  {
   "cell_type": "code",
   "execution_count": 119,
   "metadata": {},
   "outputs": [],
   "source": [
    "hf_ch_names = ['CHAPTER I',\n",
    " 'CHAPTER II',\n",
    " 'CHAPTER III',\n",
    " 'CHAPTER IV',\n",
    " 'CHAPTER V',\n",
    " 'CHAPTER VI',\n",
    " 'CHAPTER VII',\n",
    " 'CHAPTER VII',\n",
    " 'CHAPTER IX',\n",
    " 'CHAPTER X',\n",
    " 'CHAPTER XI',\n",
    " 'CHAPTER XII',\n",
    " 'CHAPTER XIII',\n",
    " 'CHAPTER XIV',\n",
    " 'CHAPTER XV',\n",
    " 'CHAPTER XVI',\n",
    " 'CHAPTER XVII',\n",
    " 'CHAPTER XVIII',\n",
    " 'CHAPTER XIX',\n",
    " 'CHAPTER XX',\n",
    " 'CHAPTER XXI',\n",
    " 'CHAPTER XXII',\n",
    " 'CHAPTER XXIII',\n",
    " 'CHAPTER XXIV',\n",
    " 'CHAPTER XXV',\n",
    " 'CHAPTER XXVI',\n",
    " 'CHAPTER XXVII',\n",
    " 'CHAPTER XXVIII',\n",
    " 'CHAPTER XXIX',\n",
    " 'CHAPTER XXX',\n",
    " 'CHAPTER XXXI',\n",
    " 'CHAPTER XXXII',\n",
    " 'CHAPTER XXXIII',\n",
    " 'CHAPTER XXXIV',\n",
    " 'CHAPTER XXXV',\n",
    " 'CHAPTER XXXVI',\n",
    " 'CHAPTER XXXVII',\n",
    " 'CHAPTER XXXVIII',\n",
    " 'CHAPTER XXXIX',\n",
    " 'CHAPTER XL',\n",
    " 'CHAPTER XLI',\n",
    " 'CHAPTER XLII',\n",
    " 'CHAPTER THE LAST'\n",
    " ]"
   ]
  },
  {
   "cell_type": "code",
   "execution_count": 120,
   "metadata": {},
   "outputs": [],
   "source": [
    "hf_ch_texts = split_chapters('The Adventures of Huckleberry Finn', hf_ch_names)"
   ]
  },
  {
   "cell_type": "markdown",
   "metadata": {},
   "source": [
    "#### Create dataframe with chapter titles, chapter summaries, book title, chapter names, and chapter texts"
   ]
  },
  {
   "cell_type": "code",
   "execution_count": 121,
   "metadata": {},
   "outputs": [
    {
     "data": {
      "text/html": [
       "<div>\n",
       "<style scoped>\n",
       "    .dataframe tbody tr th:only-of-type {\n",
       "        vertical-align: middle;\n",
       "    }\n",
       "\n",
       "    .dataframe tbody tr th {\n",
       "        vertical-align: top;\n",
       "    }\n",
       "\n",
       "    .dataframe thead th {\n",
       "        text-align: right;\n",
       "    }\n",
       "</style>\n",
       "<table border=\"1\" class=\"dataframe\">\n",
       "  <thead>\n",
       "    <tr style=\"text-align: right;\">\n",
       "      <th></th>\n",
       "      <th>chapter_title</th>\n",
       "      <th>chapter_summary</th>\n",
       "      <th>book_title</th>\n",
       "      <th>chapters</th>\n",
       "    </tr>\n",
       "  </thead>\n",
       "  <tbody>\n",
       "    <tr>\n",
       "      <th>198</th>\n",
       "      <td>The Adventures of Huckleberry Finn: Novel Summ...</td>\n",
       "      <td>Chapters1-3\\nChapter1: Huck begins his narrati...</td>\n",
       "      <td>The Adventures of Huckleberry Finn</td>\n",
       "      <td>Chapters 1-3</td>\n",
       "    </tr>\n",
       "    <tr>\n",
       "      <th>199</th>\n",
       "      <td>The Adventures of Huckleberry Finn: Novel Summ...</td>\n",
       "      <td>Chapters 4-6\\n\\n\\t \\nChapter 4: Huck explains ...</td>\n",
       "      <td>The Adventures of Huckleberry Finn</td>\n",
       "      <td>Chapters 4-6</td>\n",
       "    </tr>\n",
       "    <tr>\n",
       "      <th>200</th>\n",
       "      <td>The Adventures of Huckleberry Finn: Novel Summ...</td>\n",
       "      <td>Chapters 7-10\\n\\n\\t \\nChapter 7: Tired of bein...</td>\n",
       "      <td>The Adventures of Huckleberry Finn</td>\n",
       "      <td>Chapters 7-9</td>\n",
       "    </tr>\n",
       "    <tr>\n",
       "      <th>201</th>\n",
       "      <td>The Adventures of Huckleberry Finn: Novel Summ...</td>\n",
       "      <td>Chapters 11-15\\n\\n\\t \\nChapter 13: Getting int...</td>\n",
       "      <td>The Adventures of Huckleberry Finn</td>\n",
       "      <td>Chapters 13-15</td>\n",
       "    </tr>\n",
       "    <tr>\n",
       "      <th>202</th>\n",
       "      <td>The Adventures of Huckleberry Finn: Novel Summ...</td>\n",
       "      <td>\\nChapters 16-18\\n\\n\\t \\nChapter 16: Believin...</td>\n",
       "      <td>The Adventures of Huckleberry Finn</td>\n",
       "      <td>Chapters 16-18</td>\n",
       "    </tr>\n",
       "    <tr>\n",
       "      <th>203</th>\n",
       "      <td>The Adventures of Huckleberry Finn: Novel Summ...</td>\n",
       "      <td>Chapters 19-21\\n\\n\\t \\nChapter 19: In this cha...</td>\n",
       "      <td>The Adventures of Huckleberry Finn</td>\n",
       "      <td>Chapters 19-21</td>\n",
       "    </tr>\n",
       "    <tr>\n",
       "      <th>204</th>\n",
       "      <td>The Adventures of Huckleberry Finn: Novel Summ...</td>\n",
       "      <td>Chapters 22-24\\n\\n\\t \\nChapter 22: The descrip...</td>\n",
       "      <td>The Adventures of Huckleberry Finn</td>\n",
       "      <td>Chapters 22-24</td>\n",
       "    </tr>\n",
       "    <tr>\n",
       "      <th>205</th>\n",
       "      <td>The Adventures of Huckleberry Finn: Novel Summ...</td>\n",
       "      <td>Chapters 25-27\\n\\n\\t \\nChapter 25: They arrive...</td>\n",
       "      <td>The Adventures of Huckleberry Finn</td>\n",
       "      <td>Chapters 25-27</td>\n",
       "    </tr>\n",
       "    <tr>\n",
       "      <th>206</th>\n",
       "      <td>The Adventures of Huckleberry Finn: Novel Summ...</td>\n",
       "      <td>Chapters 28-30\\n\\n\\t \\nChapter 28: In this cha...</td>\n",
       "      <td>The Adventures of Huckleberry Finn</td>\n",
       "      <td>Chapters 28-30</td>\n",
       "    </tr>\n",
       "    <tr>\n",
       "      <th>207</th>\n",
       "      <td>The Adventures of Huckleberry Finn: Novel Summ...</td>\n",
       "      <td>Chapters 31-33\\n\\n\\t \\nChapter 31: After trave...</td>\n",
       "      <td>The Adventures of Huckleberry Finn</td>\n",
       "      <td>Chapters 31-33</td>\n",
       "    </tr>\n",
       "    <tr>\n",
       "      <th>208</th>\n",
       "      <td>The Adventures of Huckleberry Finn: Novel Summ...</td>\n",
       "      <td>Chapters 34-36\\n\\n\\t \\nChapter 34: Tom and Huc...</td>\n",
       "      <td>The Adventures of Huckleberry Finn</td>\n",
       "      <td>Chapters 34-36</td>\n",
       "    </tr>\n",
       "    <tr>\n",
       "      <th>209</th>\n",
       "      <td>The Adventures of Huckleberry Finn: Novel Summ...</td>\n",
       "      <td>Chapters 37-39\\n\\n\\t \\nChapter 37: For their p...</td>\n",
       "      <td>The Adventures of Huckleberry Finn</td>\n",
       "      <td>Chapters 37-39</td>\n",
       "    </tr>\n",
       "    <tr>\n",
       "      <th>210</th>\n",
       "      <td>The Adventures of Huckleberry Finn: Novel Summ...</td>\n",
       "      <td>Chapters 40-42\\n\\n\\t \\nChapter 40: Finally esc...</td>\n",
       "      <td>The Adventures of Huckleberry Finn</td>\n",
       "      <td>Chapters 40-42</td>\n",
       "    </tr>\n",
       "    <tr>\n",
       "      <th>211</th>\n",
       "      <td>The Adventures of Huckleberry Finn: Novel Summ...</td>\n",
       "      <td>Chapter 43\\nChapter 43: Huck includes this cha...</td>\n",
       "      <td>The Adventures of Huckleberry Finn</td>\n",
       "      <td>Chapter 43</td>\n",
       "    </tr>\n",
       "  </tbody>\n",
       "</table>\n",
       "</div>"
      ],
      "text/plain": [
       "                                         chapter_title  \\\n",
       "198  The Adventures of Huckleberry Finn: Novel Summ...   \n",
       "199  The Adventures of Huckleberry Finn: Novel Summ...   \n",
       "200  The Adventures of Huckleberry Finn: Novel Summ...   \n",
       "201  The Adventures of Huckleberry Finn: Novel Summ...   \n",
       "202  The Adventures of Huckleberry Finn: Novel Summ...   \n",
       "203  The Adventures of Huckleberry Finn: Novel Summ...   \n",
       "204  The Adventures of Huckleberry Finn: Novel Summ...   \n",
       "205  The Adventures of Huckleberry Finn: Novel Summ...   \n",
       "206  The Adventures of Huckleberry Finn: Novel Summ...   \n",
       "207  The Adventures of Huckleberry Finn: Novel Summ...   \n",
       "208  The Adventures of Huckleberry Finn: Novel Summ...   \n",
       "209  The Adventures of Huckleberry Finn: Novel Summ...   \n",
       "210  The Adventures of Huckleberry Finn: Novel Summ...   \n",
       "211  The Adventures of Huckleberry Finn: Novel Summ...   \n",
       "\n",
       "                                       chapter_summary  \\\n",
       "198  Chapters1-3\\nChapter1: Huck begins his narrati...   \n",
       "199  Chapters 4-6\\n\\n\\t \\nChapter 4: Huck explains ...   \n",
       "200  Chapters 7-10\\n\\n\\t \\nChapter 7: Tired of bein...   \n",
       "201  Chapters 11-15\\n\\n\\t \\nChapter 13: Getting int...   \n",
       "202   \\nChapters 16-18\\n\\n\\t \\nChapter 16: Believin...   \n",
       "203  Chapters 19-21\\n\\n\\t \\nChapter 19: In this cha...   \n",
       "204  Chapters 22-24\\n\\n\\t \\nChapter 22: The descrip...   \n",
       "205  Chapters 25-27\\n\\n\\t \\nChapter 25: They arrive...   \n",
       "206  Chapters 28-30\\n\\n\\t \\nChapter 28: In this cha...   \n",
       "207  Chapters 31-33\\n\\n\\t \\nChapter 31: After trave...   \n",
       "208  Chapters 34-36\\n\\n\\t \\nChapter 34: Tom and Huc...   \n",
       "209  Chapters 37-39\\n\\n\\t \\nChapter 37: For their p...   \n",
       "210  Chapters 40-42\\n\\n\\t \\nChapter 40: Finally esc...   \n",
       "211  Chapter 43\\nChapter 43: Huck includes this cha...   \n",
       "\n",
       "                             book_title        chapters  \n",
       "198  The Adventures of Huckleberry Finn    Chapters 1-3  \n",
       "199  The Adventures of Huckleberry Finn    Chapters 4-6  \n",
       "200  The Adventures of Huckleberry Finn    Chapters 7-9  \n",
       "201  The Adventures of Huckleberry Finn  Chapters 13-15  \n",
       "202  The Adventures of Huckleberry Finn  Chapters 16-18  \n",
       "203  The Adventures of Huckleberry Finn  Chapters 19-21  \n",
       "204  The Adventures of Huckleberry Finn  Chapters 22-24  \n",
       "205  The Adventures of Huckleberry Finn  Chapters 25-27  \n",
       "206  The Adventures of Huckleberry Finn  Chapters 28-30  \n",
       "207  The Adventures of Huckleberry Finn  Chapters 31-33  \n",
       "208  The Adventures of Huckleberry Finn  Chapters 34-36  \n",
       "209  The Adventures of Huckleberry Finn  Chapters 37-39  \n",
       "210  The Adventures of Huckleberry Finn  Chapters 40-42  \n",
       "211  The Adventures of Huckleberry Finn      Chapter 43  "
      ]
     },
     "execution_count": 121,
     "metadata": {},
     "output_type": "execute_result"
    }
   ],
   "source": [
    "hf_df = start_df('The Adventures of Huckleberry Finn')\n",
    "hf_df"
   ]
  },
  {
   "cell_type": "code",
   "execution_count": 122,
   "metadata": {},
   "outputs": [],
   "source": [
    "hf_df['chapter_text'] = [\n",
    "    ' '.join(hf_ch_texts[0:2]),\n",
    "    ' '.join(hf_ch_texts[3:5]),\n",
    "    ' '.join(hf_ch_texts[6:8]),\n",
    "    ' '.join(hf_ch_texts[12:14]),\n",
    "    ' '.join(hf_ch_texts[15:17]),\n",
    "    ' '.join(hf_ch_texts[18:20]),\n",
    "    ' '.join(hf_ch_texts[21:23]),\n",
    "    ' '.join(hf_ch_texts[24:26]),\n",
    "    ' '.join(hf_ch_texts[27:29]),\n",
    "    ' '.join(hf_ch_texts[30:32]),\n",
    "    ' '.join(hf_ch_texts[33:35]),\n",
    "    ' '.join(hf_ch_texts[36:38]),\n",
    "    ' '.join(hf_ch_texts[39:41]),\n",
    "    hf_ch_texts[42]\n",
    "]"
   ]
  },
  {
   "cell_type": "markdown",
   "metadata": {},
   "source": [
    "#### Add book to main dataframe"
   ]
  },
  {
   "cell_type": "code",
   "execution_count": 123,
   "metadata": {},
   "outputs": [],
   "source": [
    "main_df = pd.concat([main_df, hf_df])"
   ]
  },
  {
   "cell_type": "code",
   "execution_count": 124,
   "metadata": {},
   "outputs": [
    {
     "data": {
      "text/plain": [
       "171"
      ]
     },
     "execution_count": 124,
     "metadata": {},
     "output_type": "execute_result"
    }
   ],
   "source": [
    "len(main_df)"
   ]
  },
  {
   "cell_type": "markdown",
   "metadata": {},
   "source": [
    "### Twelfth Night"
   ]
  },
  {
   "cell_type": "markdown",
   "metadata": {},
   "source": [
    "#### Split full text into chapters"
   ]
  },
  {
   "cell_type": "code",
   "execution_count": 125,
   "metadata": {},
   "outputs": [
    {
     "data": {
      "text/plain": [
       "212    Act 1, Scene 1\n",
       "213    Act 1, Scene 2\n",
       "214    Act 1, Scene 3\n",
       "215    Act 1, Scene 4\n",
       "216    Act 1, Scene 5\n",
       "217    Act 2, Scene 1\n",
       "218    Act 2, Scene 2\n",
       "219    Act 2, Scene 3\n",
       "220    Act 2, Scene 4\n",
       "221    Act 2, Scene 5\n",
       "222    Act 3, Scene 1\n",
       "223    Act 3, Scene 2\n",
       "224    Act 3, Scene 3\n",
       "225    Act 3, Scene 4\n",
       "226    Act 4, Scene 1\n",
       "227    Act 4, Scene 2\n",
       "228    Act 4, Scene 3\n",
       "229    Act 5, Scene 1\n",
       "Name: chapters, dtype: object"
      ]
     },
     "execution_count": 125,
     "metadata": {},
     "output_type": "execute_result"
    }
   ],
   "source": [
    "chapters('Twelfth Night')"
   ]
  },
  {
   "cell_type": "code",
   "execution_count": 126,
   "metadata": {},
   "outputs": [],
   "source": [
    "tn_act_names = [\n",
    "    'ACT I.',\n",
    "    'ACT II.',\n",
    "    'ACT III.',\n",
    "    'ACT IV.',\n",
    "]"
   ]
  },
  {
   "cell_type": "code",
   "execution_count": 127,
   "metadata": {},
   "outputs": [],
   "source": [
    "tn_ch_names_list = []"
   ]
  },
  {
   "cell_type": "code",
   "execution_count": 128,
   "metadata": {},
   "outputs": [],
   "source": [
    "tn_acts = split_chapters('Twelfth Night', tn_act_names)"
   ]
  },
  {
   "cell_type": "code",
   "execution_count": 129,
   "metadata": {},
   "outputs": [],
   "source": [
    "tn_act1_names =[\n",
    "    'ACT I. SCENE I.',\n",
    "    'SCENE II.',\n",
    "    'SCENE III.',\n",
    "    'SCENE IV.',\n",
    "    'SCENE V.',\n",
    "]\n",
    "tn_ch_names_list.append(tn_act1_names)\n",
    "\n",
    "\n",
    "tn_act2_names = [ \n",
    "    'ACT II. SCENE I.',\n",
    "    'SCENE II.',\n",
    "    'SCENE III.',\n",
    "    'SCENE IV.',\n",
    "    'SCENE V.',\n",
    "]\n",
    "tn_ch_names_list.append(tn_act2_names)\n",
    "\n",
    "\n",
    "tn_act3_names = [\n",
    "    'ACT III. SCENE I.',\n",
    "    'SCENE II.',\n",
    "    'SCENE III.',\n",
    "    'SCENE IV.',\n",
    "]\n",
    "tn_ch_names_list.append(tn_act3_names)\n",
    "\n",
    "\n",
    "tn_act4_names = [\n",
    "    'ACT IV. SCENE I.',\n",
    "    'SCENE II.',\n",
    "    'SCENE III.',\n",
    "]\n",
    "tn_ch_names_list.append(tn_act4_names)"
   ]
  },
  {
   "cell_type": "code",
   "execution_count": 130,
   "metadata": {},
   "outputs": [],
   "source": [
    "tn_texts = []\n",
    "for i in range(4): \n",
    "    text = tn_acts[i]\n",
    "    chapter_names = tn_ch_names_list[i]\n",
    "    num_chapters = len(chapter_names)\n",
    "\n",
    "    partition_1 = text.partition(chapter_names[1])\n",
    "    chapter_1 = str(partition_1[0])\n",
    "    tn_texts.append(chapter_1)\n",
    "\n",
    "    for i in range(2, num_chapters):\n",
    "        partition_ch_group = text.partition(chapter_names[i])\n",
    "        partition_ch_subgroup = str(partition_ch_group[0])\n",
    "        partition_ch_sep = partition_ch_subgroup.partition(chapter_names[i-1])\n",
    "        partition_ch = str(partition_ch_sep[2])\n",
    "        tn_texts.append(partition_ch)\n",
    "\n",
    "    partition_last = text.partition(chapter_names[num_chapters-1])\n",
    "    chapter_last = str(partition_last[2])\n",
    "    tn_texts.append(chapter_last)"
   ]
  },
  {
   "cell_type": "markdown",
   "metadata": {},
   "source": [
    "#### Create dataframe with chapter titles, chapter summaries, book title, chapter names, and chapter texts"
   ]
  },
  {
   "cell_type": "code",
   "execution_count": 131,
   "metadata": {},
   "outputs": [
    {
     "data": {
      "text/html": [
       "<div>\n",
       "<style scoped>\n",
       "    .dataframe tbody tr th:only-of-type {\n",
       "        vertical-align: middle;\n",
       "    }\n",
       "\n",
       "    .dataframe tbody tr th {\n",
       "        vertical-align: top;\n",
       "    }\n",
       "\n",
       "    .dataframe thead th {\n",
       "        text-align: right;\n",
       "    }\n",
       "</style>\n",
       "<table border=\"1\" class=\"dataframe\">\n",
       "  <thead>\n",
       "    <tr style=\"text-align: right;\">\n",
       "      <th></th>\n",
       "      <th>chapter_title</th>\n",
       "      <th>chapter_summary</th>\n",
       "      <th>book_title</th>\n",
       "      <th>chapters</th>\n",
       "    </tr>\n",
       "  </thead>\n",
       "  <tbody>\n",
       "    <tr>\n",
       "      <th>212</th>\n",
       "      <td>Twelfth Night: Novel Summary: Act 1, Scene 1</td>\n",
       "      <td>The scene opens at the court of the Duke Orsin...</td>\n",
       "      <td>Twelfth Night</td>\n",
       "      <td>Act 1, Scene 1</td>\n",
       "    </tr>\n",
       "    <tr>\n",
       "      <th>213</th>\n",
       "      <td>Twelfth Night: Novel Summary: Act 1, Scene 2</td>\n",
       "      <td>The woman Viola who is traveling with her brot...</td>\n",
       "      <td>Twelfth Night</td>\n",
       "      <td>Act 1, Scene 2</td>\n",
       "    </tr>\n",
       "    <tr>\n",
       "      <th>214</th>\n",
       "      <td>Twelfth Night: Novel Summary: Act 1, Scene 3</td>\n",
       "      <td>In the house of Countess Olivia, her kinsmen S...</td>\n",
       "      <td>Twelfth Night</td>\n",
       "      <td>Act 1, Scene 3</td>\n",
       "    </tr>\n",
       "    <tr>\n",
       "      <th>215</th>\n",
       "      <td>Twelfth Night: Novel Summary: Act 1, Scene 4</td>\n",
       "      <td>Viola, dressed as a boy Cesario, has become tr...</td>\n",
       "      <td>Twelfth Night</td>\n",
       "      <td>Act 1, Scene 4</td>\n",
       "    </tr>\n",
       "    <tr>\n",
       "      <th>216</th>\n",
       "      <td>Twelfth Night: Novel Summary: Act 1, Scene 5</td>\n",
       "      <td>The jester, Feste, in Lady Olivia's house ente...</td>\n",
       "      <td>Twelfth Night</td>\n",
       "      <td>Act 1, Scene 5</td>\n",
       "    </tr>\n",
       "    <tr>\n",
       "      <th>217</th>\n",
       "      <td>Twelfth Night: Novel Summary: Act 2, Scene 1</td>\n",
       "      <td>Viola's brother Sebastian is saved by a sailor...</td>\n",
       "      <td>Twelfth Night</td>\n",
       "      <td>Act 2, Scene 1</td>\n",
       "    </tr>\n",
       "    <tr>\n",
       "      <th>218</th>\n",
       "      <td>Twelfth Night: Novel Summary: Act 2, Scene 2</td>\n",
       "      <td>Malvolio finds Cesario and gives him the messa...</td>\n",
       "      <td>Twelfth Night</td>\n",
       "      <td>Act 2, Scene 2</td>\n",
       "    </tr>\n",
       "    <tr>\n",
       "      <th>219</th>\n",
       "      <td>Twelfth Night: Novel Summary: Act 2, Scene 3</td>\n",
       "      <td>Sir Toby, Sir Andrew, and the Fool are having ...</td>\n",
       "      <td>Twelfth Night</td>\n",
       "      <td>Act 2, Scene 3</td>\n",
       "    </tr>\n",
       "    <tr>\n",
       "      <th>220</th>\n",
       "      <td>Twelfth Night: Novel Summary: Act 2, Scene 4</td>\n",
       "      <td>\\n\\t \\nViola, Orsino, and Curio are at the cou...</td>\n",
       "      <td>Twelfth Night</td>\n",
       "      <td>Act 2, Scene 4</td>\n",
       "    </tr>\n",
       "    <tr>\n",
       "      <th>221</th>\n",
       "      <td>Twelfth Night: Novel Summary: Act 2, Scene 5</td>\n",
       "      <td>\\n\\t \\nMaria plants the letter meant for Malvo...</td>\n",
       "      <td>Twelfth Night</td>\n",
       "      <td>Act 2, Scene 5</td>\n",
       "    </tr>\n",
       "    <tr>\n",
       "      <th>222</th>\n",
       "      <td>Twelfth Night: Novel Summary: Act 3, Scene 1</td>\n",
       "      <td>\\n\\t \\nViola travels back to the estate of the...</td>\n",
       "      <td>Twelfth Night</td>\n",
       "      <td>Act 3, Scene 1</td>\n",
       "    </tr>\n",
       "    <tr>\n",
       "      <th>223</th>\n",
       "      <td>Twelfth Night: Novel Summary: Act 3, Scene 2</td>\n",
       "      <td>\\n\\t \\nSir Andrew is convinced that Olivia wil...</td>\n",
       "      <td>Twelfth Night</td>\n",
       "      <td>Act 3, Scene 2</td>\n",
       "    </tr>\n",
       "    <tr>\n",
       "      <th>224</th>\n",
       "      <td>Twelfth Night: Novel Summary: Act 3, Scene 3</td>\n",
       "      <td>\\n\\t \\nSebastian is now in Orsino's city and h...</td>\n",
       "      <td>Twelfth Night</td>\n",
       "      <td>Act 3, Scene 3</td>\n",
       "    </tr>\n",
       "    <tr>\n",
       "      <th>225</th>\n",
       "      <td>Twelfth Night: Novel Summary: Act 3, Scene 4</td>\n",
       "      <td>Olivia tells Maria that she has sent after Ces...</td>\n",
       "      <td>Twelfth Night</td>\n",
       "      <td>Act 3, Scene 4</td>\n",
       "    </tr>\n",
       "    <tr>\n",
       "      <th>226</th>\n",
       "      <td>Twelfth Night: Novel Summary: Act 4, Scene 1</td>\n",
       "      <td>Lady Olivia sends the Fool to find Cesario, bu...</td>\n",
       "      <td>Twelfth Night</td>\n",
       "      <td>Act 4, Scene 1</td>\n",
       "    </tr>\n",
       "    <tr>\n",
       "      <th>227</th>\n",
       "      <td>Twelfth Night: Novel Summary: Act 4, Scene 2</td>\n",
       "      <td>Maria at Toby's request dresses the Fool up as...</td>\n",
       "      <td>Twelfth Night</td>\n",
       "      <td>Act 4, Scene 2</td>\n",
       "    </tr>\n",
       "    <tr>\n",
       "      <th>228</th>\n",
       "      <td>Twelfth Night: Novel Summary: Act 4, Scene 3</td>\n",
       "      <td>\\n\\t \\nLady Olivia tells Sebastian of her love...</td>\n",
       "      <td>Twelfth Night</td>\n",
       "      <td>Act 4, Scene 3</td>\n",
       "    </tr>\n",
       "    <tr>\n",
       "      <th>229</th>\n",
       "      <td>Twelfth Night: Novel Summary: Act 5, Scene 1</td>\n",
       "      <td>Fabian asks the Fool if he can see the letter ...</td>\n",
       "      <td>Twelfth Night</td>\n",
       "      <td>Act 5, Scene 1</td>\n",
       "    </tr>\n",
       "  </tbody>\n",
       "</table>\n",
       "</div>"
      ],
      "text/plain": [
       "                                    chapter_title  \\\n",
       "212  Twelfth Night: Novel Summary: Act 1, Scene 1   \n",
       "213  Twelfth Night: Novel Summary: Act 1, Scene 2   \n",
       "214  Twelfth Night: Novel Summary: Act 1, Scene 3   \n",
       "215  Twelfth Night: Novel Summary: Act 1, Scene 4   \n",
       "216  Twelfth Night: Novel Summary: Act 1, Scene 5   \n",
       "217  Twelfth Night: Novel Summary: Act 2, Scene 1   \n",
       "218  Twelfth Night: Novel Summary: Act 2, Scene 2   \n",
       "219  Twelfth Night: Novel Summary: Act 2, Scene 3   \n",
       "220  Twelfth Night: Novel Summary: Act 2, Scene 4   \n",
       "221  Twelfth Night: Novel Summary: Act 2, Scene 5   \n",
       "222  Twelfth Night: Novel Summary: Act 3, Scene 1   \n",
       "223  Twelfth Night: Novel Summary: Act 3, Scene 2   \n",
       "224  Twelfth Night: Novel Summary: Act 3, Scene 3   \n",
       "225  Twelfth Night: Novel Summary: Act 3, Scene 4   \n",
       "226  Twelfth Night: Novel Summary: Act 4, Scene 1   \n",
       "227  Twelfth Night: Novel Summary: Act 4, Scene 2   \n",
       "228  Twelfth Night: Novel Summary: Act 4, Scene 3   \n",
       "229  Twelfth Night: Novel Summary: Act 5, Scene 1   \n",
       "\n",
       "                                       chapter_summary     book_title  \\\n",
       "212  The scene opens at the court of the Duke Orsin...  Twelfth Night   \n",
       "213  The woman Viola who is traveling with her brot...  Twelfth Night   \n",
       "214  In the house of Countess Olivia, her kinsmen S...  Twelfth Night   \n",
       "215  Viola, dressed as a boy Cesario, has become tr...  Twelfth Night   \n",
       "216  The jester, Feste, in Lady Olivia's house ente...  Twelfth Night   \n",
       "217  Viola's brother Sebastian is saved by a sailor...  Twelfth Night   \n",
       "218  Malvolio finds Cesario and gives him the messa...  Twelfth Night   \n",
       "219  Sir Toby, Sir Andrew, and the Fool are having ...  Twelfth Night   \n",
       "220  \\n\\t \\nViola, Orsino, and Curio are at the cou...  Twelfth Night   \n",
       "221  \\n\\t \\nMaria plants the letter meant for Malvo...  Twelfth Night   \n",
       "222  \\n\\t \\nViola travels back to the estate of the...  Twelfth Night   \n",
       "223  \\n\\t \\nSir Andrew is convinced that Olivia wil...  Twelfth Night   \n",
       "224  \\n\\t \\nSebastian is now in Orsino's city and h...  Twelfth Night   \n",
       "225  Olivia tells Maria that she has sent after Ces...  Twelfth Night   \n",
       "226  Lady Olivia sends the Fool to find Cesario, bu...  Twelfth Night   \n",
       "227  Maria at Toby's request dresses the Fool up as...  Twelfth Night   \n",
       "228  \\n\\t \\nLady Olivia tells Sebastian of her love...  Twelfth Night   \n",
       "229  Fabian asks the Fool if he can see the letter ...  Twelfth Night   \n",
       "\n",
       "           chapters  \n",
       "212  Act 1, Scene 1  \n",
       "213  Act 1, Scene 2  \n",
       "214  Act 1, Scene 3  \n",
       "215  Act 1, Scene 4  \n",
       "216  Act 1, Scene 5  \n",
       "217  Act 2, Scene 1  \n",
       "218  Act 2, Scene 2  \n",
       "219  Act 2, Scene 3  \n",
       "220  Act 2, Scene 4  \n",
       "221  Act 2, Scene 5  \n",
       "222  Act 3, Scene 1  \n",
       "223  Act 3, Scene 2  \n",
       "224  Act 3, Scene 3  \n",
       "225  Act 3, Scene 4  \n",
       "226  Act 4, Scene 1  \n",
       "227  Act 4, Scene 2  \n",
       "228  Act 4, Scene 3  \n",
       "229  Act 5, Scene 1  "
      ]
     },
     "execution_count": 131,
     "metadata": {},
     "output_type": "execute_result"
    }
   ],
   "source": [
    "tn_df = start_df('Twelfth Night')\n",
    "tn_df"
   ]
  },
  {
   "cell_type": "code",
   "execution_count": 132,
   "metadata": {},
   "outputs": [],
   "source": [
    "tn_df.drop(index=229, inplace=True)"
   ]
  },
  {
   "cell_type": "code",
   "execution_count": 133,
   "metadata": {},
   "outputs": [],
   "source": [
    "tn_df['chapter_text'] = [\n",
    "    tn_texts[0],\n",
    "    tn_texts[1],\n",
    "    tn_texts[2],\n",
    "    tn_texts[3],\n",
    "    tn_texts[4],\n",
    "    tn_texts[5],\n",
    "    tn_texts[6],\n",
    "    tn_texts[7],\n",
    "    tn_texts[8],\n",
    "    tn_texts[9],\n",
    "    tn_texts[10],\n",
    "    tn_texts[11],\n",
    "    tn_texts[12],\n",
    "    tn_texts[13],\n",
    "    tn_texts[14],\n",
    "    tn_texts[15],\n",
    "    tn_texts[16],\n",
    "]"
   ]
  },
  {
   "cell_type": "markdown",
   "metadata": {},
   "source": [
    "#### Add book to main dataframe"
   ]
  },
  {
   "cell_type": "code",
   "execution_count": 134,
   "metadata": {},
   "outputs": [],
   "source": [
    "main_df = pd.concat([main_df, tn_df])"
   ]
  },
  {
   "cell_type": "markdown",
   "metadata": {},
   "source": [
    "### The Count of Monte Cristo"
   ]
  },
  {
   "cell_type": "markdown",
   "metadata": {},
   "source": [
    "#### Split full text into chapters"
   ]
  },
  {
   "cell_type": "code",
   "execution_count": 135,
   "metadata": {},
   "outputs": [
    {
     "data": {
      "text/plain": [
       "230      Chapter 1-5\n",
       "231     Chapter 6-10\n",
       "232    Chapter 11-15\n",
       "233    Chapter 16-20\n",
       "234    Chapter 21-25\n",
       "235    Chapter 26-30\n",
       "236    Chapter 31-35\n",
       "237    Chapter 36-40\n",
       "238    Chapter 41-45\n",
       "239    Chapter 46-50\n",
       "240    Chapter 51-55\n",
       "241    Chapter 56-60\n",
       "242    Chapter 61-65\n",
       "243    Chapter 66-70\n",
       "244    Chapter 71-73\n",
       "Name: chapters, dtype: object"
      ]
     },
     "execution_count": 135,
     "metadata": {},
     "output_type": "execute_result"
    }
   ],
   "source": [
    "chapters('The Count of Monte Cristo')"
   ]
  },
  {
   "cell_type": "code",
   "execution_count": 136,
   "metadata": {},
   "outputs": [],
   "source": [
    "mc_chap_names = []\n",
    "\n",
    "for i in range(73):\n",
    "    mc_chap_names.append(f'Chapter {i}')"
   ]
  },
  {
   "cell_type": "code",
   "execution_count": 137,
   "metadata": {},
   "outputs": [],
   "source": [
    "mc_chap_texts = split_chapters('The Count of Monte Cristo', mc_chap_names)"
   ]
  },
  {
   "cell_type": "markdown",
   "metadata": {},
   "source": [
    "#### Create dataframe with chapter titles, chapter summaries, book title, chapter names, and chapter texts"
   ]
  },
  {
   "cell_type": "code",
   "execution_count": 138,
   "metadata": {},
   "outputs": [
    {
     "data": {
      "text/html": [
       "<div>\n",
       "<style scoped>\n",
       "    .dataframe tbody tr th:only-of-type {\n",
       "        vertical-align: middle;\n",
       "    }\n",
       "\n",
       "    .dataframe tbody tr th {\n",
       "        vertical-align: top;\n",
       "    }\n",
       "\n",
       "    .dataframe thead th {\n",
       "        text-align: right;\n",
       "    }\n",
       "</style>\n",
       "<table border=\"1\" class=\"dataframe\">\n",
       "  <thead>\n",
       "    <tr style=\"text-align: right;\">\n",
       "      <th></th>\n",
       "      <th>chapter_title</th>\n",
       "      <th>chapter_summary</th>\n",
       "      <th>book_title</th>\n",
       "      <th>chapters</th>\n",
       "    </tr>\n",
       "  </thead>\n",
       "  <tbody>\n",
       "    <tr>\n",
       "      <th>230</th>\n",
       "      <td>The Count of Monte Cristo: Novel Summary: Chap...</td>\n",
       "      <td>Chapter 1-5\\nChapter 1: The story's setting is...</td>\n",
       "      <td>The Count of Monte Cristo</td>\n",
       "      <td>Chapter 1-5</td>\n",
       "    </tr>\n",
       "    <tr>\n",
       "      <th>231</th>\n",
       "      <td>The Count of Monte Cristo: Novel Summary: Chap...</td>\n",
       "      <td>Chapter 6-10\\nChapter 6: After sleeping in pri...</td>\n",
       "      <td>The Count of Monte Cristo</td>\n",
       "      <td>Chapter 6-10</td>\n",
       "    </tr>\n",
       "    <tr>\n",
       "      <th>232</th>\n",
       "      <td>The Count of Monte Cristo: Novel Summary: Chap...</td>\n",
       "      <td>Chapter 11-15\\nChapter 11: Dantes begins to be...</td>\n",
       "      <td>The Count of Monte Cristo</td>\n",
       "      <td>Chapter 11-15</td>\n",
       "    </tr>\n",
       "    <tr>\n",
       "      <th>233</th>\n",
       "      <td>The Count of Monte Cristo: Novel Summary: Chap...</td>\n",
       "      <td>Chapter 16-20\\nChapter 16: Dantes returns to M...</td>\n",
       "      <td>The Count of Monte Cristo</td>\n",
       "      <td>Chapter 16-20</td>\n",
       "    </tr>\n",
       "    <tr>\n",
       "      <th>234</th>\n",
       "      <td>The Count of Monte Cristo: Novel Summary: Chap...</td>\n",
       "      <td>Chapter 21-25\\nChapter 21: After the celebrati...</td>\n",
       "      <td>The Count of Monte Cristo</td>\n",
       "      <td>Chapter 21-25</td>\n",
       "    </tr>\n",
       "    <tr>\n",
       "      <th>235</th>\n",
       "      <td>The Count of Monte Cristo: Novel Summary: Chap...</td>\n",
       "      <td>Chapter 26-30\\nChapter 26: In this chapter, Da...</td>\n",
       "      <td>The Count of Monte Cristo</td>\n",
       "      <td>Chapter 26-30</td>\n",
       "    </tr>\n",
       "    <tr>\n",
       "      <th>236</th>\n",
       "      <td>The Count of Monte Cristo: Novel Summary: Chap...</td>\n",
       "      <td>Chapter 31-35\\nChapter 31: In this chapter the...</td>\n",
       "      <td>The Count of Monte Cristo</td>\n",
       "      <td>Chapter 31-35</td>\n",
       "    </tr>\n",
       "    <tr>\n",
       "      <th>237</th>\n",
       "      <td>The Count of Monte Cristo: Novel Summary: Chap...</td>\n",
       "      <td>Chapter 36-40\\nChapter 36: Leaving the party, ...</td>\n",
       "      <td>The Count of Monte Cristo</td>\n",
       "      <td>Chapter 36-40</td>\n",
       "    </tr>\n",
       "    <tr>\n",
       "      <th>238</th>\n",
       "      <td>The Count of Monte Cristo: Novel Summary: Chap...</td>\n",
       "      <td>Chapter 41-45\\nChapter 41:This chapter begins ...</td>\n",
       "      <td>The Count of Monte Cristo</td>\n",
       "      <td>Chapter 41-45</td>\n",
       "    </tr>\n",
       "    <tr>\n",
       "      <th>239</th>\n",
       "      <td>The Count of Monte Cristo: Novel Summary: Chap...</td>\n",
       "      <td>Chapter 46-50\\nChapter 46:The count receives a...</td>\n",
       "      <td>The Count of Monte Cristo</td>\n",
       "      <td>Chapter 46-50</td>\n",
       "    </tr>\n",
       "    <tr>\n",
       "      <th>240</th>\n",
       "      <td>The Count of Monte Cristo: Novel Summary: Chap...</td>\n",
       "      <td>Chapter 51-55\\nChapter 51:Mercedes goes to the...</td>\n",
       "      <td>The Count of Monte Cristo</td>\n",
       "      <td>Chapter 51-55</td>\n",
       "    </tr>\n",
       "    <tr>\n",
       "      <th>241</th>\n",
       "      <td>The Count of Monte Cristo: Novel Summary: Chap...</td>\n",
       "      <td>Chapter 56-60\\nChapter 56:This chapter takes p...</td>\n",
       "      <td>The Count of Monte Cristo</td>\n",
       "      <td>Chapter 56-60</td>\n",
       "    </tr>\n",
       "    <tr>\n",
       "      <th>242</th>\n",
       "      <td>The Count of Monte Cristo: Novel Summary: Chap...</td>\n",
       "      <td>Chapter 61-65\\nChapter 61:Danglars meets the c...</td>\n",
       "      <td>The Count of Monte Cristo</td>\n",
       "      <td>Chapter 61-65</td>\n",
       "    </tr>\n",
       "    <tr>\n",
       "      <th>243</th>\n",
       "      <td>The Count of Monte Cristo: Novel Summary: Chap...</td>\n",
       "      <td>Chapter 66-70\\nChapter 66:At the Benedetto tri...</td>\n",
       "      <td>The Count of Monte Cristo</td>\n",
       "      <td>Chapter 66-70</td>\n",
       "    </tr>\n",
       "    <tr>\n",
       "      <th>244</th>\n",
       "      <td>The Count of Monte Cristo: Novel Summary: Chap...</td>\n",
       "      <td>Chapter 71-73\\nChapter 71:Danglars spends seve...</td>\n",
       "      <td>The Count of Monte Cristo</td>\n",
       "      <td>Chapter 71-73</td>\n",
       "    </tr>\n",
       "  </tbody>\n",
       "</table>\n",
       "</div>"
      ],
      "text/plain": [
       "                                         chapter_title  \\\n",
       "230  The Count of Monte Cristo: Novel Summary: Chap...   \n",
       "231  The Count of Monte Cristo: Novel Summary: Chap...   \n",
       "232  The Count of Monte Cristo: Novel Summary: Chap...   \n",
       "233  The Count of Monte Cristo: Novel Summary: Chap...   \n",
       "234  The Count of Monte Cristo: Novel Summary: Chap...   \n",
       "235  The Count of Monte Cristo: Novel Summary: Chap...   \n",
       "236  The Count of Monte Cristo: Novel Summary: Chap...   \n",
       "237  The Count of Monte Cristo: Novel Summary: Chap...   \n",
       "238  The Count of Monte Cristo: Novel Summary: Chap...   \n",
       "239  The Count of Monte Cristo: Novel Summary: Chap...   \n",
       "240  The Count of Monte Cristo: Novel Summary: Chap...   \n",
       "241  The Count of Monte Cristo: Novel Summary: Chap...   \n",
       "242  The Count of Monte Cristo: Novel Summary: Chap...   \n",
       "243  The Count of Monte Cristo: Novel Summary: Chap...   \n",
       "244  The Count of Monte Cristo: Novel Summary: Chap...   \n",
       "\n",
       "                                       chapter_summary  \\\n",
       "230  Chapter 1-5\\nChapter 1: The story's setting is...   \n",
       "231  Chapter 6-10\\nChapter 6: After sleeping in pri...   \n",
       "232  Chapter 11-15\\nChapter 11: Dantes begins to be...   \n",
       "233  Chapter 16-20\\nChapter 16: Dantes returns to M...   \n",
       "234  Chapter 21-25\\nChapter 21: After the celebrati...   \n",
       "235  Chapter 26-30\\nChapter 26: In this chapter, Da...   \n",
       "236  Chapter 31-35\\nChapter 31: In this chapter the...   \n",
       "237  Chapter 36-40\\nChapter 36: Leaving the party, ...   \n",
       "238  Chapter 41-45\\nChapter 41:This chapter begins ...   \n",
       "239  Chapter 46-50\\nChapter 46:The count receives a...   \n",
       "240  Chapter 51-55\\nChapter 51:Mercedes goes to the...   \n",
       "241  Chapter 56-60\\nChapter 56:This chapter takes p...   \n",
       "242  Chapter 61-65\\nChapter 61:Danglars meets the c...   \n",
       "243  Chapter 66-70\\nChapter 66:At the Benedetto tri...   \n",
       "244  Chapter 71-73\\nChapter 71:Danglars spends seve...   \n",
       "\n",
       "                    book_title       chapters  \n",
       "230  The Count of Monte Cristo    Chapter 1-5  \n",
       "231  The Count of Monte Cristo   Chapter 6-10  \n",
       "232  The Count of Monte Cristo  Chapter 11-15  \n",
       "233  The Count of Monte Cristo  Chapter 16-20  \n",
       "234  The Count of Monte Cristo  Chapter 21-25  \n",
       "235  The Count of Monte Cristo  Chapter 26-30  \n",
       "236  The Count of Monte Cristo  Chapter 31-35  \n",
       "237  The Count of Monte Cristo  Chapter 36-40  \n",
       "238  The Count of Monte Cristo  Chapter 41-45  \n",
       "239  The Count of Monte Cristo  Chapter 46-50  \n",
       "240  The Count of Monte Cristo  Chapter 51-55  \n",
       "241  The Count of Monte Cristo  Chapter 56-60  \n",
       "242  The Count of Monte Cristo  Chapter 61-65  \n",
       "243  The Count of Monte Cristo  Chapter 66-70  \n",
       "244  The Count of Monte Cristo  Chapter 71-73  "
      ]
     },
     "execution_count": 138,
     "metadata": {},
     "output_type": "execute_result"
    }
   ],
   "source": [
    "df_mc = start_df('The Count of Monte Cristo')\n",
    "df_mc"
   ]
  },
  {
   "cell_type": "code",
   "execution_count": 139,
   "metadata": {},
   "outputs": [],
   "source": [
    "df_mc['chapter_text'] = [\n",
    "    ' '.join(mc_chap_texts[0:4]),\n",
    "    ' '.join(mc_chap_texts[5:9]),\n",
    "    ' '.join(mc_chap_texts[10:14]),\n",
    "    ' '.join(mc_chap_texts[15:19]),\n",
    "    ' '.join(mc_chap_texts[20:24]),\n",
    "    ' '.join(mc_chap_texts[25:29]),\n",
    "    ' '.join(mc_chap_texts[30:34]),\n",
    "    ' '.join(mc_chap_texts[35:39]),\n",
    "    ' '.join(mc_chap_texts[40:44]),\n",
    "    ' '.join(mc_chap_texts[45:49]),\n",
    "    ' '.join(mc_chap_texts[50:54]),\n",
    "    ' '.join(mc_chap_texts[55:59]),\n",
    "    ' '.join(mc_chap_texts[60:64]),\n",
    "    ' '.join(mc_chap_texts[65:69]),\n",
    "    ' '.join(mc_chap_texts[70:72]),\n",
    "]"
   ]
  },
  {
   "cell_type": "markdown",
   "metadata": {},
   "source": [
    "#### Add book to main dataframe"
   ]
  },
  {
   "cell_type": "code",
   "execution_count": 140,
   "metadata": {},
   "outputs": [],
   "source": [
    "main_df = pd.concat([main_df, df_mc])"
   ]
  },
  {
   "cell_type": "code",
   "execution_count": 141,
   "metadata": {},
   "outputs": [
    {
     "data": {
      "text/plain": [
       "203"
      ]
     },
     "execution_count": 141,
     "metadata": {},
     "output_type": "execute_result"
    }
   ],
   "source": [
    "len(main_df)"
   ]
  },
  {
   "cell_type": "markdown",
   "metadata": {},
   "source": [
    "### The Hound of the Baskervilles"
   ]
  },
  {
   "cell_type": "markdown",
   "metadata": {},
   "source": [
    "#### Split full text into chapters"
   ]
  },
  {
   "cell_type": "code",
   "execution_count": 142,
   "metadata": {},
   "outputs": [
    {
     "data": {
      "text/plain": [
       "245          Chapter 1\n",
       "246      Chapter 2 - 5\n",
       "247     Chapter 6 - 10\n",
       "248    Chapter 11 - 15\n",
       "Name: chapters, dtype: object"
      ]
     },
     "execution_count": 142,
     "metadata": {},
     "output_type": "execute_result"
    }
   ],
   "source": [
    "chapters('The Hound of the Baskervilles')"
   ]
  },
  {
   "cell_type": "code",
   "execution_count": 143,
   "metadata": {},
   "outputs": [],
   "source": [
    "hb_chap_names = []\n",
    "\n",
    "for i in range(15):\n",
    "    hb_chap_names.append(f'Chapter {i}')"
   ]
  },
  {
   "cell_type": "code",
   "execution_count": 144,
   "metadata": {},
   "outputs": [],
   "source": [
    "hb_chap_texts = split_chapters('The Hound of the Baskervilles', hb_chap_names)"
   ]
  },
  {
   "cell_type": "markdown",
   "metadata": {},
   "source": [
    "#### Create dataframe with chapter titles, chapter summaries, book title, chapter names, and chapter texts"
   ]
  },
  {
   "cell_type": "code",
   "execution_count": 145,
   "metadata": {},
   "outputs": [
    {
     "data": {
      "text/html": [
       "<div>\n",
       "<style scoped>\n",
       "    .dataframe tbody tr th:only-of-type {\n",
       "        vertical-align: middle;\n",
       "    }\n",
       "\n",
       "    .dataframe tbody tr th {\n",
       "        vertical-align: top;\n",
       "    }\n",
       "\n",
       "    .dataframe thead th {\n",
       "        text-align: right;\n",
       "    }\n",
       "</style>\n",
       "<table border=\"1\" class=\"dataframe\">\n",
       "  <thead>\n",
       "    <tr style=\"text-align: right;\">\n",
       "      <th></th>\n",
       "      <th>chapter_title</th>\n",
       "      <th>chapter_summary</th>\n",
       "      <th>book_title</th>\n",
       "      <th>chapters</th>\n",
       "    </tr>\n",
       "  </thead>\n",
       "  <tbody>\n",
       "    <tr>\n",
       "      <th>245</th>\n",
       "      <td>The Hound of the Baskervilles: Novel Summary: ...</td>\n",
       "      <td>\\nNote: All page numbers in this summary and ...</td>\n",
       "      <td>The Hound of the Baskervilles</td>\n",
       "      <td>Chapter 1</td>\n",
       "    </tr>\n",
       "    <tr>\n",
       "      <th>246</th>\n",
       "      <td>The Hound of the Baskervilles: Novel Summary: ...</td>\n",
       "      <td>\\nSummary: Mortimer reads to Holmes and Watso...</td>\n",
       "      <td>The Hound of the Baskervilles</td>\n",
       "      <td>Chapter 2 - 5</td>\n",
       "    </tr>\n",
       "    <tr>\n",
       "      <th>247</th>\n",
       "      <td>The Hound of the Baskervilles: Novel Summary: ...</td>\n",
       "      <td>\\nSummary: Holmes urges Watson to report any ...</td>\n",
       "      <td>The Hound of the Baskervilles</td>\n",
       "      <td>Chapter 6 - 10</td>\n",
       "    </tr>\n",
       "    <tr>\n",
       "      <th>248</th>\n",
       "      <td>The Hound of the Baskervilles: Novel Summary: ...</td>\n",
       "      <td>\\nSummary: Watson questions Laura Lyons, who ...</td>\n",
       "      <td>The Hound of the Baskervilles</td>\n",
       "      <td>Chapter 11 - 15</td>\n",
       "    </tr>\n",
       "  </tbody>\n",
       "</table>\n",
       "</div>"
      ],
      "text/plain": [
       "                                         chapter_title  \\\n",
       "245  The Hound of the Baskervilles: Novel Summary: ...   \n",
       "246  The Hound of the Baskervilles: Novel Summary: ...   \n",
       "247  The Hound of the Baskervilles: Novel Summary: ...   \n",
       "248  The Hound of the Baskervilles: Novel Summary: ...   \n",
       "\n",
       "                                       chapter_summary  \\\n",
       "245   \\nNote: All page numbers in this summary and ...   \n",
       "246   \\nSummary: Mortimer reads to Holmes and Watso...   \n",
       "247   \\nSummary: Holmes urges Watson to report any ...   \n",
       "248   \\nSummary: Watson questions Laura Lyons, who ...   \n",
       "\n",
       "                        book_title         chapters  \n",
       "245  The Hound of the Baskervilles        Chapter 1  \n",
       "246  The Hound of the Baskervilles    Chapter 2 - 5  \n",
       "247  The Hound of the Baskervilles   Chapter 6 - 10  \n",
       "248  The Hound of the Baskervilles  Chapter 11 - 15  "
      ]
     },
     "execution_count": 145,
     "metadata": {},
     "output_type": "execute_result"
    }
   ],
   "source": [
    "hb_df = start_df('The Hound of the Baskervilles')\n",
    "hb_df"
   ]
  },
  {
   "cell_type": "code",
   "execution_count": 146,
   "metadata": {},
   "outputs": [],
   "source": [
    "hb_df['chapter_text'] = [\n",
    "    hb_chap_texts[0],\n",
    "    ' '.join(hb_chap_texts[1:4]),\n",
    "    ' '.join(hb_chap_texts[5:9]),\n",
    "    ' '.join(hb_chap_texts[10:14])\n",
    "]"
   ]
  },
  {
   "cell_type": "markdown",
   "metadata": {},
   "source": [
    "#### Add book to main dataframe"
   ]
  },
  {
   "cell_type": "code",
   "execution_count": 147,
   "metadata": {},
   "outputs": [],
   "source": [
    "main_df = pd.concat([main_df, hb_df])"
   ]
  },
  {
   "cell_type": "code",
   "execution_count": 148,
   "metadata": {},
   "outputs": [
    {
     "data": {
      "text/plain": [
       "207"
      ]
     },
     "execution_count": 148,
     "metadata": {},
     "output_type": "execute_result"
    }
   ],
   "source": [
    "len(main_df)"
   ]
  },
  {
   "cell_type": "markdown",
   "metadata": {},
   "source": [
    "### The Canterbury Tales"
   ]
  },
  {
   "cell_type": "markdown",
   "metadata": {},
   "source": [
    "#### Split full text into chapters"
   ]
  },
  {
   "cell_type": "code",
   "execution_count": 149,
   "metadata": {},
   "outputs": [
    {
     "data": {
      "text/plain": [
       "249    The Canterbury Tales: Novel Summary\n",
       "Name: chapters, dtype: object"
      ]
     },
     "execution_count": 149,
     "metadata": {},
     "output_type": "execute_result"
    }
   ],
   "source": [
    "chapters('The Canterbury Tales')"
   ]
  },
  {
   "cell_type": "code",
   "execution_count": 150,
   "metadata": {},
   "outputs": [
    {
     "data": {
      "text/html": [
       "<div>\n",
       "<style scoped>\n",
       "    .dataframe tbody tr th:only-of-type {\n",
       "        vertical-align: middle;\n",
       "    }\n",
       "\n",
       "    .dataframe tbody tr th {\n",
       "        vertical-align: top;\n",
       "    }\n",
       "\n",
       "    .dataframe thead th {\n",
       "        text-align: right;\n",
       "    }\n",
       "</style>\n",
       "<table border=\"1\" class=\"dataframe\">\n",
       "  <thead>\n",
       "    <tr style=\"text-align: right;\">\n",
       "      <th></th>\n",
       "      <th>chapter_title</th>\n",
       "      <th>chapter_summary</th>\n",
       "      <th>book_title</th>\n",
       "      <th>chapters</th>\n",
       "    </tr>\n",
       "  </thead>\n",
       "  <tbody>\n",
       "    <tr>\n",
       "      <th>249</th>\n",
       "      <td>The Canterbury Tales: Novel Summary</td>\n",
       "      <td>General Prologue\\nSeveral pilgrims of various ...</td>\n",
       "      <td>The Canterbury Tales</td>\n",
       "      <td>The Canterbury Tales: Novel Summary</td>\n",
       "    </tr>\n",
       "  </tbody>\n",
       "</table>\n",
       "</div>"
      ],
      "text/plain": [
       "                           chapter_title  \\\n",
       "249  The Canterbury Tales: Novel Summary   \n",
       "\n",
       "                                       chapter_summary            book_title  \\\n",
       "249  General Prologue\\nSeveral pilgrims of various ...  The Canterbury Tales   \n",
       "\n",
       "                                chapters  \n",
       "249  The Canterbury Tales: Novel Summary  "
      ]
     },
     "execution_count": 150,
     "metadata": {},
     "output_type": "execute_result"
    }
   ],
   "source": [
    "ct_df = start_df('The Canterbury Tales')\n",
    "ct_df"
   ]
  },
  {
   "cell_type": "code",
   "execution_count": 151,
   "metadata": {},
   "outputs": [
    {
     "data": {
      "text/plain": [
       "'General Prologue\\nSeveral pilgrims of various social and ethical standing are on their way to Canterbury to visit the cathedral there.\\xa0 They stay a night in an Inn, and the next day, the Innkeeper offers to join the group on the trip, and judge stories that they will tell to pass the time.\\xa0 The person with the best story wins a free dinner paid by the other pilgrims.\\xa0 The knight tells the first story.\\xa0\\n'"
      ]
     },
     "execution_count": 151,
     "metadata": {},
     "output_type": "execute_result"
    }
   ],
   "source": [
    "ct_df.iloc[0]['chapter_summary']"
   ]
  },
  {
   "cell_type": "markdown",
   "metadata": {},
   "source": [
    "Only one short summary for the full text was collected for this book, so it will not be included in the final dataset"
   ]
  },
  {
   "cell_type": "markdown",
   "metadata": {},
   "source": [
    "### Crime and Punishment"
   ]
  },
  {
   "cell_type": "markdown",
   "metadata": {},
   "source": [
    "#### Split full text into chapters"
   ]
  },
  {
   "cell_type": "code",
   "execution_count": 152,
   "metadata": {},
   "outputs": [
    {
     "data": {
      "text/plain": [
       "250    Crime and Punishment: Summary: Part1, Chapter ...\n",
       "251                    Part1, Chapter 3-Part1, Chapter 4\n",
       "252                    Part1, Chapter 5-Part1, Chapter 6\n",
       "253                    Part1, Chapter 7-Part2, Chapter 1\n",
       "254                    Part2, Chapter 2-Part2, Chapter 3\n",
       "255                  Part 2, Chapter 4-Part 2, Chapter 6\n",
       "256                  Part 2, Chapter 6-Part 2, Chapter 7\n",
       "257                  Part 3, Chapter 1-Part 3, Chapter 2\n",
       "258                  Part 3, Chapter 3-Part 3, Chapter 4\n",
       "259                  Part 3, Chapter 5-Part 3, Chapter 6\n",
       "260                  Part 4, Chapter 1-Part 4, Chapter 2\n",
       "261                  Part 4, Chapter 3-Part 4, Chapter 4\n",
       "262                  Part 4, Chapter 5-Part 6, Chapter 1\n",
       "263                  Part 6, Chapter 2-Part 6, Chapter 3\n",
       "264                                    Part 6, Chapter 4\n",
       "Name: chapters, dtype: object"
      ]
     },
     "execution_count": 152,
     "metadata": {},
     "output_type": "execute_result"
    }
   ],
   "source": [
    "chapters('Crime and Punishment')"
   ]
  },
  {
   "cell_type": "code",
   "execution_count": 153,
   "metadata": {},
   "outputs": [
    {
     "data": {
      "text/plain": [
       "'Crime and Punishment: Summary: Part1, Chapter 1-Part1, Chapter 2'"
      ]
     },
     "execution_count": 153,
     "metadata": {},
     "output_type": "execute_result"
    }
   ],
   "source": [
    "chapters('Crime and Punishment')[250]"
   ]
  },
  {
   "cell_type": "code",
   "execution_count": 154,
   "metadata": {},
   "outputs": [],
   "source": [
    "cp_part_names = [\n",
    "    'PART I',\n",
    "    'PART II',\n",
    "    'PART III',\n",
    "    'PART IV',\n",
    "    'PART V',\n",
    "    'PART VI'\n",
    "]"
   ]
  },
  {
   "cell_type": "code",
   "execution_count": 155,
   "metadata": {},
   "outputs": [],
   "source": [
    "cp_ch_names_list = []"
   ]
  },
  {
   "cell_type": "code",
   "execution_count": 156,
   "metadata": {},
   "outputs": [],
   "source": [
    "cp_parts = split_chapters('Crime and Punishment', cp_part_names)"
   ]
  },
  {
   "cell_type": "code",
   "execution_count": 157,
   "metadata": {},
   "outputs": [],
   "source": [
    "cp_part1_names =[\n",
    "    'CHAPTER I',\n",
    "    'CHAPTER II',\n",
    "    'CHAPTER III',\n",
    "    'CHAPTER IV',\n",
    "    'CHAPTER V',\n",
    "    'CHAPTER VI',\n",
    "    'CHAPTER VII',\n",
    "]\n",
    "cp_ch_names_list.append(cp_part1_names)\n",
    "\n",
    "\n",
    "cp_part2_names = [ \n",
    "    'CHAPTER I',\n",
    "    'CHAPTER II',\n",
    "    'CHAPTER III',\n",
    "    'CHAPTER IV',\n",
    "    'CHAPTER V',\n",
    "    'CHAPTER VI',\n",
    "    'CHAPTER VII',\n",
    "]\n",
    "cp_ch_names_list.append(cp_part2_names)\n",
    "\n",
    "\n",
    "cp_part3_names = [\n",
    "    'CHAPTER I',\n",
    "    'CHAPTER II',\n",
    "    'CHAPTER III',\n",
    "    'CHAPTER IV',\n",
    "    'CHAPTER V',\n",
    "    'CHAPTER VI',\n",
    "]\n",
    "cp_ch_names_list.append(cp_part3_names)\n",
    "\n",
    "\n",
    "cp_part4_names = [\n",
    "    'CHAPTER I',\n",
    "    'CHAPTER II',\n",
    "    'CHAPTER III',\n",
    "    'CHAPTER IV',\n",
    "    'CHAPTER V',\n",
    "]\n",
    "cp_ch_names_list.append(cp_part4_names)\n",
    "\n",
    "cp_part5_names = [\n",
    "    'CHAPTER I',\n",
    "    'CHAPTER II',\n",
    "    'CHAPTER III',\n",
    "    'CHAPTER IV',\n",
    "    'CHAPTER V',\n",
    "]\n",
    "cp_ch_names_list.append(cp_part5_names)\n",
    "\n",
    "cp_part6_names = [\n",
    "    'CHAPTER I',\n",
    "    'CHAPTER II',\n",
    "    'CHAPTER III',\n",
    "    'CHAPTER IV',\n",
    "]\n",
    "cp_ch_names_list.append(cp_part6_names)"
   ]
  },
  {
   "cell_type": "code",
   "execution_count": 158,
   "metadata": {},
   "outputs": [],
   "source": [
    "cp_texts = []\n",
    "for i in range(6): \n",
    "    text = cp_parts[i]\n",
    "    chapter_names = cp_ch_names_list[i]\n",
    "    num_chapters = len(chapter_names)\n",
    "\n",
    "    partition_1 = text.partition(chapter_names[1])\n",
    "    chapter_1 = str(partition_1[0])\n",
    "    cp_texts.append(chapter_1)\n",
    "\n",
    "    for i in range(2, num_chapters):\n",
    "        partition_ch_group = text.partition(chapter_names[i])\n",
    "        partition_ch_subgroup = str(partition_ch_group[0])\n",
    "        partition_ch_sep = partition_ch_subgroup.partition(chapter_names[i-1])\n",
    "        partition_ch = str(partition_ch_sep[2])\n",
    "        cp_texts.append(partition_ch)\n",
    "\n",
    "    partition_last = text.partition(chapter_names[num_chapters-1])\n",
    "    chapter_last = str(partition_last[2])\n",
    "    cp_texts.append(chapter_last)"
   ]
  },
  {
   "cell_type": "markdown",
   "metadata": {},
   "source": [
    "#### Create dataframe with chapter titles, chapter summaries, book title, chapter names, and chapter texts"
   ]
  },
  {
   "cell_type": "code",
   "execution_count": 159,
   "metadata": {},
   "outputs": [
    {
     "data": {
      "text/html": [
       "<div>\n",
       "<style scoped>\n",
       "    .dataframe tbody tr th:only-of-type {\n",
       "        vertical-align: middle;\n",
       "    }\n",
       "\n",
       "    .dataframe tbody tr th {\n",
       "        vertical-align: top;\n",
       "    }\n",
       "\n",
       "    .dataframe thead th {\n",
       "        text-align: right;\n",
       "    }\n",
       "</style>\n",
       "<table border=\"1\" class=\"dataframe\">\n",
       "  <thead>\n",
       "    <tr style=\"text-align: right;\">\n",
       "      <th></th>\n",
       "      <th>chapter_title</th>\n",
       "      <th>chapter_summary</th>\n",
       "      <th>book_title</th>\n",
       "      <th>chapters</th>\n",
       "    </tr>\n",
       "  </thead>\n",
       "  <tbody>\n",
       "    <tr>\n",
       "      <th>250</th>\n",
       "      <td>Crime and Punishment: Summary: Part1, Chapter ...</td>\n",
       "      <td>Part1, Chapter 1: We first meet Raskolnikov as...</td>\n",
       "      <td>Crime and Punishment</td>\n",
       "      <td>Crime and Punishment: Summary: Part1, Chapter ...</td>\n",
       "    </tr>\n",
       "    <tr>\n",
       "      <th>251</th>\n",
       "      <td>Crime and Punishment: Novel Summary: Part1, Ch...</td>\n",
       "      <td>\\n\\t \\nPart1, Chapter 3: The next day, Raskoln...</td>\n",
       "      <td>Crime and Punishment</td>\n",
       "      <td>Part1, Chapter 3-Part1, Chapter 4</td>\n",
       "    </tr>\n",
       "    <tr>\n",
       "      <th>252</th>\n",
       "      <td>Crime and Punishment: Novel Summary: Part1, Ch...</td>\n",
       "      <td>\\n\\t \\nPart1, Chapter 5: Raskolnikov opts not ...</td>\n",
       "      <td>Crime and Punishment</td>\n",
       "      <td>Part1, Chapter 5-Part1, Chapter 6</td>\n",
       "    </tr>\n",
       "    <tr>\n",
       "      <th>253</th>\n",
       "      <td>Crime and Punishment: Novel Summary: Part1, Ch...</td>\n",
       "      <td>\\n\\t \\nPart1, Chapter 7: The old woman cautiou...</td>\n",
       "      <td>Crime and Punishment</td>\n",
       "      <td>Part1, Chapter 7-Part2, Chapter 1</td>\n",
       "    </tr>\n",
       "    <tr>\n",
       "      <th>254</th>\n",
       "      <td>Crime and Punishment: Novel Summary: Part2, Ch...</td>\n",
       "      <td>\\n\\t \\nPart2, Chapter 2: He hides the stolen i...</td>\n",
       "      <td>Crime and Punishment</td>\n",
       "      <td>Part2, Chapter 2-Part2, Chapter 3</td>\n",
       "    </tr>\n",
       "    <tr>\n",
       "      <th>255</th>\n",
       "      <td>Crime and Punishment: Novel Summary: Part 2, C...</td>\n",
       "      <td>\\n\\t \\nPart 2, Chapter 4: Zosimov is a doctor ...</td>\n",
       "      <td>Crime and Punishment</td>\n",
       "      <td>Part 2, Chapter 4-Part 2, Chapter 6</td>\n",
       "    </tr>\n",
       "    <tr>\n",
       "      <th>256</th>\n",
       "      <td>Crime and Punishment: Novel Summary: Part 2, C...</td>\n",
       "      <td>\\n\\t \\nPart 2, Chapter 6: As soon as he is lef...</td>\n",
       "      <td>Crime and Punishment</td>\n",
       "      <td>Part 2, Chapter 6-Part 2, Chapter 7</td>\n",
       "    </tr>\n",
       "    <tr>\n",
       "      <th>257</th>\n",
       "      <td>Crime and Punishment: Novel Summary: Part 3, C...</td>\n",
       "      <td>Part 3, Chapter 1: Pulcheria, his mother, want...</td>\n",
       "      <td>Crime and Punishment</td>\n",
       "      <td>Part 3, Chapter 1-Part 3, Chapter 2</td>\n",
       "    </tr>\n",
       "    <tr>\n",
       "      <th>258</th>\n",
       "      <td>Crime and Punishment: Novel Summary: Part 3, C...</td>\n",
       "      <td>\\n\\t \\nPart 3, Chapter 3: Raskolnikov reveals ...</td>\n",
       "      <td>Crime and Punishment</td>\n",
       "      <td>Part 3, Chapter 3-Part 3, Chapter 4</td>\n",
       "    </tr>\n",
       "    <tr>\n",
       "      <th>259</th>\n",
       "      <td>Crime and Punishment: Novel Summary: Part 3, C...</td>\n",
       "      <td>\\n\\t \\nPart 3, Chapter 5: Raskolnikov enters s...</td>\n",
       "      <td>Crime and Punishment</td>\n",
       "      <td>Part 3, Chapter 5-Part 3, Chapter 6</td>\n",
       "    </tr>\n",
       "    <tr>\n",
       "      <th>260</th>\n",
       "      <td>Crime and Punishment: Novel Summary: Part 4, C...</td>\n",
       "      <td>\\n\\t \\nPart 4, Chapter 1: Luzhin is sobered by...</td>\n",
       "      <td>Crime and Punishment</td>\n",
       "      <td>Part 4, Chapter 1-Part 4, Chapter 2</td>\n",
       "    </tr>\n",
       "    <tr>\n",
       "      <th>261</th>\n",
       "      <td>Crime and Punishment: Novel Summary: Part 4, C...</td>\n",
       "      <td>\\n\\t \\nPart 4, Chapter 3: Katherine, who is in...</td>\n",
       "      <td>Crime and Punishment</td>\n",
       "      <td>Part 4, Chapter 3-Part 4, Chapter 4</td>\n",
       "    </tr>\n",
       "    <tr>\n",
       "      <th>262</th>\n",
       "      <td>Crime and Punishment: Novel Summary: Part 4, C...</td>\n",
       "      <td>\\n\\t \\nPart 4, Chapter 5: Lebeziatnikov tells ...</td>\n",
       "      <td>Crime and Punishment</td>\n",
       "      <td>Part 4, Chapter 5-Part 6, Chapter 1</td>\n",
       "    </tr>\n",
       "    <tr>\n",
       "      <th>263</th>\n",
       "      <td>Crime and Punishment: Novel Summary: Part 6, C...</td>\n",
       "      <td>\\n\\t \\nPart 6, Chapter 2: Raskolnikov tenses u...</td>\n",
       "      <td>Crime and Punishment</td>\n",
       "      <td>Part 6, Chapter 2-Part 6, Chapter 3</td>\n",
       "    </tr>\n",
       "    <tr>\n",
       "      <th>264</th>\n",
       "      <td>Crime and Punishment: Novel Summary: Part 6, C...</td>\n",
       "      <td>Part 6, Chapter 4: Svidrigailov then begins to...</td>\n",
       "      <td>Crime and Punishment</td>\n",
       "      <td>Part 6, Chapter 4</td>\n",
       "    </tr>\n",
       "  </tbody>\n",
       "</table>\n",
       "</div>"
      ],
      "text/plain": [
       "                                         chapter_title  \\\n",
       "250  Crime and Punishment: Summary: Part1, Chapter ...   \n",
       "251  Crime and Punishment: Novel Summary: Part1, Ch...   \n",
       "252  Crime and Punishment: Novel Summary: Part1, Ch...   \n",
       "253  Crime and Punishment: Novel Summary: Part1, Ch...   \n",
       "254  Crime and Punishment: Novel Summary: Part2, Ch...   \n",
       "255  Crime and Punishment: Novel Summary: Part 2, C...   \n",
       "256  Crime and Punishment: Novel Summary: Part 2, C...   \n",
       "257  Crime and Punishment: Novel Summary: Part 3, C...   \n",
       "258  Crime and Punishment: Novel Summary: Part 3, C...   \n",
       "259  Crime and Punishment: Novel Summary: Part 3, C...   \n",
       "260  Crime and Punishment: Novel Summary: Part 4, C...   \n",
       "261  Crime and Punishment: Novel Summary: Part 4, C...   \n",
       "262  Crime and Punishment: Novel Summary: Part 4, C...   \n",
       "263  Crime and Punishment: Novel Summary: Part 6, C...   \n",
       "264  Crime and Punishment: Novel Summary: Part 6, C...   \n",
       "\n",
       "                                       chapter_summary            book_title  \\\n",
       "250  Part1, Chapter 1: We first meet Raskolnikov as...  Crime and Punishment   \n",
       "251  \\n\\t \\nPart1, Chapter 3: The next day, Raskoln...  Crime and Punishment   \n",
       "252  \\n\\t \\nPart1, Chapter 5: Raskolnikov opts not ...  Crime and Punishment   \n",
       "253  \\n\\t \\nPart1, Chapter 7: The old woman cautiou...  Crime and Punishment   \n",
       "254  \\n\\t \\nPart2, Chapter 2: He hides the stolen i...  Crime and Punishment   \n",
       "255  \\n\\t \\nPart 2, Chapter 4: Zosimov is a doctor ...  Crime and Punishment   \n",
       "256  \\n\\t \\nPart 2, Chapter 6: As soon as he is lef...  Crime and Punishment   \n",
       "257  Part 3, Chapter 1: Pulcheria, his mother, want...  Crime and Punishment   \n",
       "258  \\n\\t \\nPart 3, Chapter 3: Raskolnikov reveals ...  Crime and Punishment   \n",
       "259  \\n\\t \\nPart 3, Chapter 5: Raskolnikov enters s...  Crime and Punishment   \n",
       "260  \\n\\t \\nPart 4, Chapter 1: Luzhin is sobered by...  Crime and Punishment   \n",
       "261  \\n\\t \\nPart 4, Chapter 3: Katherine, who is in...  Crime and Punishment   \n",
       "262  \\n\\t \\nPart 4, Chapter 5: Lebeziatnikov tells ...  Crime and Punishment   \n",
       "263  \\n\\t \\nPart 6, Chapter 2: Raskolnikov tenses u...  Crime and Punishment   \n",
       "264  Part 6, Chapter 4: Svidrigailov then begins to...  Crime and Punishment   \n",
       "\n",
       "                                              chapters  \n",
       "250  Crime and Punishment: Summary: Part1, Chapter ...  \n",
       "251                  Part1, Chapter 3-Part1, Chapter 4  \n",
       "252                  Part1, Chapter 5-Part1, Chapter 6  \n",
       "253                  Part1, Chapter 7-Part2, Chapter 1  \n",
       "254                  Part2, Chapter 2-Part2, Chapter 3  \n",
       "255                Part 2, Chapter 4-Part 2, Chapter 6  \n",
       "256                Part 2, Chapter 6-Part 2, Chapter 7  \n",
       "257                Part 3, Chapter 1-Part 3, Chapter 2  \n",
       "258                Part 3, Chapter 3-Part 3, Chapter 4  \n",
       "259                Part 3, Chapter 5-Part 3, Chapter 6  \n",
       "260                Part 4, Chapter 1-Part 4, Chapter 2  \n",
       "261                Part 4, Chapter 3-Part 4, Chapter 4  \n",
       "262                Part 4, Chapter 5-Part 6, Chapter 1  \n",
       "263                Part 6, Chapter 2-Part 6, Chapter 3  \n",
       "264                                  Part 6, Chapter 4  "
      ]
     },
     "execution_count": 159,
     "metadata": {},
     "output_type": "execute_result"
    }
   ],
   "source": [
    "cp_df = start_df('Crime and Punishment')\n",
    "cp_df"
   ]
  },
  {
   "cell_type": "code",
   "execution_count": 160,
   "metadata": {},
   "outputs": [],
   "source": [
    "cp_df['chapter_text'] = [\n",
    "    ' '.join(cp_texts[0:1]),\n",
    "    ' '.join(cp_texts[2:3]),\n",
    "    ' '.join(cp_texts[4:5]),\n",
    "    ' '.join(cp_texts[6:7]),\n",
    "    ' '.join(cp_texts[8:9]),\n",
    "    ' '.join(cp_texts[10:12]),\n",
    "    ' '.join(cp_texts[13:14]),\n",
    "    ' '.join(cp_texts[15:16]),\n",
    "    ' '.join(cp_texts[17:18]),\n",
    "    ' '.join(cp_texts[19:20]),\n",
    "    ' '.join(cp_texts[21:22]),\n",
    "    ' '.join(cp_texts[23:24]),\n",
    "    ' '.join(cp_texts[25:26]),\n",
    "    ' '.join(cp_texts[27:28]),\n",
    "    cp_texts[29],\n",
    "]"
   ]
  },
  {
   "cell_type": "markdown",
   "metadata": {},
   "source": [
    "#### Add book to main dataframe"
   ]
  },
  {
   "cell_type": "code",
   "execution_count": 161,
   "metadata": {},
   "outputs": [],
   "source": [
    "main_df = pd.concat([main_df, cp_df])"
   ]
  },
  {
   "cell_type": "code",
   "execution_count": 162,
   "metadata": {},
   "outputs": [
    {
     "data": {
      "text/plain": [
       "222"
      ]
     },
     "execution_count": 162,
     "metadata": {},
     "output_type": "execute_result"
    }
   ],
   "source": [
    "len(main_df)"
   ]
  },
  {
   "cell_type": "markdown",
   "metadata": {},
   "source": [
    "### My Antonia"
   ]
  },
  {
   "cell_type": "markdown",
   "metadata": {},
   "source": [
    "#### Split full text into chapters"
   ]
  },
  {
   "cell_type": "code",
   "execution_count": 163,
   "metadata": {},
   "outputs": [
    {
     "data": {
      "text/plain": [
       "265    My Antonia: Novel Summary\n",
       "Name: chapters, dtype: object"
      ]
     },
     "execution_count": 163,
     "metadata": {},
     "output_type": "execute_result"
    }
   ],
   "source": [
    "chapters('My Antonia')"
   ]
  },
  {
   "cell_type": "code",
   "execution_count": 164,
   "metadata": {},
   "outputs": [
    {
     "data": {
      "text/plain": [
       "'Introduction\\nMy Ántonia opens with a short frame story: the author (presumably Willa Cather) relates a chance meeting with an old acquaintance, Jim Burden, on a train ride through Iowa.\\xa0 The time appears to be roughly contemporary with the publication of the novel (1918).\\xa0 The two adults reminisce about their shared Nebraska childhood, where they first met, and they mention a woman named Ántonia.\\xa0 They challenge each other to write an account of their relationship with Ántonia, and only Jim appe'"
      ]
     },
     "execution_count": 164,
     "metadata": {},
     "output_type": "execute_result"
    }
   ],
   "source": [
    "start_df('My Antonia').iloc[0]['chapter_summary'][:500]"
   ]
  },
  {
   "cell_type": "markdown",
   "metadata": {},
   "source": [
    "Upon examination of full text of chapter summary for My Antonia included in data, it can be seen that only summaries of the introduction, and parts 1-4 of Book I are included. These sections of the book will be included in the final dataset."
   ]
  },
  {
   "cell_type": "code",
   "execution_count": 165,
   "metadata": {},
   "outputs": [
    {
     "data": {
      "text/html": [
       "<div>\n",
       "<style scoped>\n",
       "    .dataframe tbody tr th:only-of-type {\n",
       "        vertical-align: middle;\n",
       "    }\n",
       "\n",
       "    .dataframe tbody tr th {\n",
       "        vertical-align: top;\n",
       "    }\n",
       "\n",
       "    .dataframe thead th {\n",
       "        text-align: right;\n",
       "    }\n",
       "</style>\n",
       "<table border=\"1\" class=\"dataframe\">\n",
       "  <thead>\n",
       "    <tr style=\"text-align: right;\">\n",
       "      <th></th>\n",
       "      <th>chapter_title</th>\n",
       "      <th>chapter_summary</th>\n",
       "      <th>book_title</th>\n",
       "      <th>chapters</th>\n",
       "    </tr>\n",
       "  </thead>\n",
       "  <tbody>\n",
       "    <tr>\n",
       "      <th>265</th>\n",
       "      <td>My Antonia: Novel Summary</td>\n",
       "      <td>Introduction\\nMy Ántonia opens with a short fr...</td>\n",
       "      <td>My Antonia</td>\n",
       "      <td>My Antonia: Novel Summary</td>\n",
       "    </tr>\n",
       "  </tbody>\n",
       "</table>\n",
       "</div>"
      ],
      "text/plain": [
       "                 chapter_title  \\\n",
       "265  My Antonia: Novel Summary   \n",
       "\n",
       "                                       chapter_summary  book_title  \\\n",
       "265  Introduction\\nMy Ántonia opens with a short fr...  My Antonia   \n",
       "\n",
       "                      chapters  \n",
       "265  My Antonia: Novel Summary  "
      ]
     },
     "execution_count": 165,
     "metadata": {},
     "output_type": "execute_result"
    }
   ],
   "source": [
    "start_df('My Antonia')"
   ]
  },
  {
   "cell_type": "markdown",
   "metadata": {},
   "source": [
    "##### Split summary into chapters & make new dataframe for book"
   ]
  },
  {
   "cell_type": "code",
   "execution_count": 166,
   "metadata": {},
   "outputs": [],
   "source": [
    "#Copied from a text editor document\n",
    "\n",
    "chap_summaries = [\n",
    "    'My Ántonia opens with a short frame story: the author (presumably Willa Cather) relates a chance meeting with an old acquaintance, Jim Burden, on a train ride through Iowa. The time appears to be roughly contemporary with the publication of the novel (1918).  The two adults reminisce about their shared Nebraska childhood, where they first met, and they mention a woman named Ántonia. They challenge each other to write an account of their relationship with Ántonia, and only Jim appears to follow through, composing a lengthy manuscript and bringing it to her a few months later.  The author says that this manuscript became the text of My Ántonia.',\n",
    "    'The book opens with Jim Burden, the narrator, being taken west from Virginia to Nebraska to live with his grandparents after his parents’ deaths. Jake Marpole, a farm hand who worked for Jim’s parents, accompanies him. Jake is a young man at the time, and Jim is ten years old. They take a train across the country, and they hear about an immigrant family traveling on the same train going to the same place, Black Hawk, Nebraska. Jake buys and gives Jim a copy of The Life of Jesse James, a book he treasures for many years. When they arrive at Black Hawk, Jake and Jim see the immigrant family (the Shimerdas), and hear the family talking in a foreign language. They are greeted by Otto Fuchs, a German immigrant and employee of Jim’s grandparents. Jim compares Fuchs to a character from the Jesse James book—he is visibly tanned and scarred, and dressed like a cowboy—and Fuchs leads them to a wagon to take them to the Burdens’ farm.  Jim notices the immigrant family again, getting into the only other wagon present. Fuchs drives them over the Nebraska land, and Jim thinks to himself about how empty and featureless the land is compared to Virginia.  He realizes he has left his parents behind, and he feels intimidated and insignificant under the vast sky and wide, flat land.',\n",
    "    'Jim falls asleep in the wagon and wakes up in his grandparents’ house. He sees his grandmother when he opens his eyes, and she immediately compares him to her dead son—Jim’s father—and invites him into the kitchen.  Jim makes his way out of bed and down to the basement kitchen, and he seems impressed by the order and cleanliness of the arrangement. He takes a bath in the tin washtub in the kitchen while his grandmother is in the attached dining room, refusing her help with cleaning himself.  Jim notices the details of the kitchen, acquaints himself with the pets of the house, and muses for a little while on his impressions of his grandparents. Otto Fuchs introduces him to one of the horses, and Jim, Otto, and Jake are called upstairs for prayers. The next day, Jim goes outside and starts to get to know the town. His grandparents apparently live in the only wooden house in the entire town; the neighbors live in sod houses Most of the area around the house, at least the part not covered with corn, is covered with wild red grass. As Jim is musing on the red grass, his grandmother invites him to accompany her to the garden to dig up some potatoes.\\xa0 She tells him that he should never go to the garden without some kind of weapon to protect him from rattlesnakes.\\xa0 After digging some potatoes, Jim asks if he can stay in the garden without his grandmother. She agrees, but she gives him some information about all of the various animals that he might see.  He spends a good portion of the day in the garden, and he enjoys the feeling that he has become part of the land.',\n",
    "    'A few days later, Jim accompanies Otto Fuchs on a trip to visit the new Bohemian family in the town with a gift of some provisions. Jim finds out that the Bohemian family, the Shimerdas, bought a piece of land not far from his grandparents, and that they had paid too much for it.\\xa0 They had been swindled by Peter Krajiek, a Bohemian man who was already living there. No one in the family spoke enough English to survive without Krajiek, so he also functioned as their interpreter. Fuchs suggests that he might have helped them with Krajiek, except that he doesn’t think the Shimerdas will trust an Austrian.  When asked to explain, Fuchs says that it’s “politics,” and that it would take too long, but that Bohemians don’t trust Austrians. As the Grandmother, Fuchs, and Jim make their way to the Shimerdas’ farm, they notice Squaw Creek, a narrow stream that runs through a deep ravine through the Shimerdas’ land. The ravine makes farming that piece of land difficult and reduces its value. They come upon the Shimerdas’ house, a dugout built against the edge of the ravine. Mrs. Shimerda comes out of the house to meet them, and shakes Grandmother’s hand. She speaks a little English about the house, saying that it is no good.  Ántonia and Yulka, the two daughters, come out of the house and meet the visitors, as does Ambrosch, the oldest son.  Ántonia, Jim notices, is brown-skinned and brown-eyed, and quite beautiful.  She is about fourteen years old, a few years older than Jim. While the two families are talking, Krajiek and Marek, the second son who shows off a webbed finger and acts a bit strangely, approach from the barn. At some point, Mr. Shimerda emerges, and Jim is greatly impressed by his appearance and his demeanor. Mr. Shimerda doesn’t seem to belong on a farm; he seems too aristocratic for farm labor. Ántonia and Yulka drag Jim away from his family and bring him over to the edge of the ravine  Ántonia starts quizzing him on the English names for things, including his own.  Jim teaches her several English words, and she tries to repay him with a gift of a ring. After a little while, Mr. Shimerda comes looking for the girls, and they run to meet him.  Mr. Shimerda confronts Jim with a silent, questioning look. Then he returns to the house, takes out a book with Bohemian and English alphabets, and asks Grandmother to teach Ántonia English.',\n",
    "    'Jim learns to ride one of his grandparents’ horses, and he becomes the messenger for the family. As the messenger, with the freedom of travel that he has with the horse, he becomes a sightseer, traveling about the area to admire the landscapes. He also instructs Ántonia in English every day. She runs across the prairie between them, and Jim shares some of the watermelon from the farm with her. Jim also notices the ways that the rattlesnakes take advantage of the prairie dogs in the area, and compares Krajiek to a rattlesnake in a prairie dog town. The Shimerdas don’t know how to get rid of their only English-speaking Bohemian companion. '\n",
    "]"
   ]
  },
  {
   "cell_type": "code",
   "execution_count": 167,
   "metadata": {},
   "outputs": [
    {
     "data": {
      "text/plain": [
       "5"
      ]
     },
     "execution_count": 167,
     "metadata": {},
     "output_type": "execute_result"
    }
   ],
   "source": [
    "len(chap_summaries)"
   ]
  },
  {
   "cell_type": "code",
   "execution_count": 168,
   "metadata": {},
   "outputs": [],
   "source": [
    "ma = {\n",
    "    'chapter_title':['My Antonia: Introduction', 'My Antonia: Book I Chapter I', 'My Antonia: Book I Chapter II', 'My Antonia: Book I Chapter III', 'My Antonia: Book I Chapter IV'],\n",
    "    'chapter_summary':chap_summaries,\n",
    "    'book_title':['My Antonia', 'My Antonia', 'My Antonia', 'My Antonia', 'My Antonia'],\n",
    "    'chapters':['Introduction', 'Book I Chapter I', 'Book I Chapter II', 'Book I Chapter III', 'Book I Chapter IV']\n",
    "}"
   ]
  },
  {
   "cell_type": "code",
   "execution_count": 169,
   "metadata": {},
   "outputs": [
    {
     "data": {
      "text/html": [
       "<div>\n",
       "<style scoped>\n",
       "    .dataframe tbody tr th:only-of-type {\n",
       "        vertical-align: middle;\n",
       "    }\n",
       "\n",
       "    .dataframe tbody tr th {\n",
       "        vertical-align: top;\n",
       "    }\n",
       "\n",
       "    .dataframe thead th {\n",
       "        text-align: right;\n",
       "    }\n",
       "</style>\n",
       "<table border=\"1\" class=\"dataframe\">\n",
       "  <thead>\n",
       "    <tr style=\"text-align: right;\">\n",
       "      <th></th>\n",
       "      <th>chapter_title</th>\n",
       "      <th>chapter_summary</th>\n",
       "      <th>book_title</th>\n",
       "      <th>chapters</th>\n",
       "    </tr>\n",
       "  </thead>\n",
       "  <tbody>\n",
       "    <tr>\n",
       "      <th>0</th>\n",
       "      <td>My Antonia: Introduction</td>\n",
       "      <td>My Ántonia opens with a short frame story: the...</td>\n",
       "      <td>My Antonia</td>\n",
       "      <td>Introduction</td>\n",
       "    </tr>\n",
       "    <tr>\n",
       "      <th>1</th>\n",
       "      <td>My Antonia: Book I Chapter I</td>\n",
       "      <td>The book opens with Jim Burden, the narrator, ...</td>\n",
       "      <td>My Antonia</td>\n",
       "      <td>Book I Chapter I</td>\n",
       "    </tr>\n",
       "    <tr>\n",
       "      <th>2</th>\n",
       "      <td>My Antonia: Book I Chapter II</td>\n",
       "      <td>Jim falls asleep in the wagon and wakes up in ...</td>\n",
       "      <td>My Antonia</td>\n",
       "      <td>Book I Chapter II</td>\n",
       "    </tr>\n",
       "    <tr>\n",
       "      <th>3</th>\n",
       "      <td>My Antonia: Book I Chapter III</td>\n",
       "      <td>A few days later, Jim accompanies Otto Fuchs o...</td>\n",
       "      <td>My Antonia</td>\n",
       "      <td>Book I Chapter III</td>\n",
       "    </tr>\n",
       "    <tr>\n",
       "      <th>4</th>\n",
       "      <td>My Antonia: Book I Chapter IV</td>\n",
       "      <td>Jim learns to ride one of his grandparents’ ho...</td>\n",
       "      <td>My Antonia</td>\n",
       "      <td>Book I Chapter IV</td>\n",
       "    </tr>\n",
       "  </tbody>\n",
       "</table>\n",
       "</div>"
      ],
      "text/plain": [
       "                    chapter_title  \\\n",
       "0        My Antonia: Introduction   \n",
       "1    My Antonia: Book I Chapter I   \n",
       "2   My Antonia: Book I Chapter II   \n",
       "3  My Antonia: Book I Chapter III   \n",
       "4   My Antonia: Book I Chapter IV   \n",
       "\n",
       "                                     chapter_summary  book_title  \\\n",
       "0  My Ántonia opens with a short frame story: the...  My Antonia   \n",
       "1  The book opens with Jim Burden, the narrator, ...  My Antonia   \n",
       "2  Jim falls asleep in the wagon and wakes up in ...  My Antonia   \n",
       "3  A few days later, Jim accompanies Otto Fuchs o...  My Antonia   \n",
       "4  Jim learns to ride one of his grandparents’ ho...  My Antonia   \n",
       "\n",
       "             chapters  \n",
       "0        Introduction  \n",
       "1    Book I Chapter I  \n",
       "2   Book I Chapter II  \n",
       "3  Book I Chapter III  \n",
       "4   Book I Chapter IV  "
      ]
     },
     "execution_count": 169,
     "metadata": {},
     "output_type": "execute_result"
    }
   ],
   "source": [
    "ma_df = pd.DataFrame(ma)\n",
    "ma_df"
   ]
  },
  {
   "cell_type": "markdown",
   "metadata": {},
   "source": [
    "##### Split text into chapters"
   ]
  },
  {
   "cell_type": "code",
   "execution_count": 170,
   "metadata": {},
   "outputs": [],
   "source": [
    "ma_text = open('./data/book_full_texts/My_Antonia.txt', 'r').read()\n",
    "\n",
    "ma_intro = ma_text.partition('BOOK I')[0]\n",
    "\n",
    "ma_book1 = (ma_text.partition('BOOK I')[2]).partition('BOOK II')[0]"
   ]
  },
  {
   "cell_type": "code",
   "execution_count": 171,
   "metadata": {},
   "outputs": [],
   "source": [
    "ma_ch1 = ma_book1.partition('II')[0]\n",
    "ma_ch2 = (ma_book1.partition('II')[2]).partition('III')[0]\n",
    "ma_ch3 = (ma_book1.partition('III')[2]).partition('IV')[0]\n",
    "ma_ch4 = ma_book1.partition('IV')[2]"
   ]
  },
  {
   "cell_type": "code",
   "execution_count": 172,
   "metadata": {},
   "outputs": [],
   "source": [
    "ma_df['chapter_text'] = [ma_intro, ma_ch1, ma_ch2, ma_ch3, ma_ch4]"
   ]
  },
  {
   "cell_type": "markdown",
   "metadata": {},
   "source": [
    "#### Add book to main dataframe"
   ]
  },
  {
   "cell_type": "code",
   "execution_count": 173,
   "metadata": {},
   "outputs": [],
   "source": [
    "main_df = pd.concat([main_df, ma_df])"
   ]
  },
  {
   "cell_type": "code",
   "execution_count": 174,
   "metadata": {},
   "outputs": [
    {
     "data": {
      "text/plain": [
       "227"
      ]
     },
     "execution_count": 174,
     "metadata": {},
     "output_type": "execute_result"
    }
   ],
   "source": [
    "len(main_df)"
   ]
  },
  {
   "cell_type": "markdown",
   "metadata": {},
   "source": [
    "### Adam Bede"
   ]
  },
  {
   "cell_type": "markdown",
   "metadata": {},
   "source": [
    "#### Split full text into chapters"
   ]
  },
  {
   "cell_type": "code",
   "execution_count": 175,
   "metadata": {},
   "outputs": [
    {
     "data": {
      "text/plain": [
       "266    Adam Bede: Summary\n",
       "Name: chapters, dtype: object"
      ]
     },
     "execution_count": 175,
     "metadata": {},
     "output_type": "execute_result"
    }
   ],
   "source": [
    "chapters('Adam Bede')"
   ]
  },
  {
   "cell_type": "code",
   "execution_count": 176,
   "metadata": {},
   "outputs": [
    {
     "data": {
      "text/plain": [
       "'George Eliot, Adam Bede. Edited with an Introduction by Stephen Gill. Penguin Books, London, 1980, rpt. 1985.\\nBook First\\n\\xa0\\nSummary of Chapter 1: The Workshop\\nThe narrator will magically use the ink of her pen as a mirror to show us the carpentry workshop of Jonathan Burge in the village of Hayslope in Loamshire, England, 1799. Five workmen there are busy, the most striking of them a tall strong man singing a hymn in a baritone voice as he finishes a mantelpiece. This is Adam Bede, the obvious leader of the group. His brother, Seth, is younger and claims he has finished the door he is working on. Sandy Jim teases him that he forgot the panels on the door. Wiry Ben Cranage pipes in saying that after all, Seth is a wool-gathering Methodist. Adam pushes Ben against the wall until he promises to leave his brother alone. In friendly laughter, the men accuse Seth of thinking of the woman Methodist preacher who will preach on the Green tonight. Seth is in love with Dinah Morris and invites the others to hear her. Adam declares his loyalty to the Church but believes everyone should worship as he chooses. When the church clock strikes six, the other men immediately leave off working, but Adam chides them for having no pride in their work, and he continues until he finishes, going home with his dog, Gyp, while Seth goes to the Green to hear Dinah preach. A stranger, passing by on horseback, cannot help but admire Adam Bede as he passes.\\nCommentary on Chapter 1\\nThe chapter introduces the place and plunges us into a rural community in Loamshire, perhaps a fictitious name for Warwickshire where the author, Mary Ann Evans grew up and knew farm and village folk. Her father managed an estate there, and his early life provided material for the character of Adam Bede. This is country life in old England before the industrial revolution changed everything, and people moved to the cities for jobs. The author investigates the rural people, their habits and thinking, in greater detail than the English novel had done, for it usually dealt with the upper and middle classes. In this, Eliot is indebted to the poet, William Wordsworth, whose poetry is mentioned in the text. A quote from Wordsworth’s “The Excursion” also appears on the title page. The trials of simple country folk were significant to Wordsworth in what they could teach about life, since they were closer to the earth and primal feelings.\\nAdam Bede’s name indicates a primal man, like Adam in the Garden of Eden before the fall. Bede is the name of the Anglo-Saxon saint and historian of seventh and eighteenth century England and again brings up the suggestion of early English life in its simplicity. Adam is a peasant attached to the earth and is contrasted to the more spoiled gentry, like Arthur Donnithorne. Eliot uses dialect for the lower class characters, who speak for themselves, and then the narrator comments on their ways and their history, like a latter day Bede.\\nAdam’s protectiveness towards his younger brother Seth, his fondness for his dog, his love of his work, his love of learning, and his integrity all surface in the very first chapter. The other men respect him, even when he is a little stern with them. The discussion of religion is a main theme in the book and begins here with introducing the “dissenters” or groups that disagreed with the established English church, like the Methodists. Methodism began as a reform movement within the Church of England, begun by John and Charles Wesley, in 1729. Soon, it separated and became a religious movement of its own. The Methodists ministered to the poor, especially in the growing populations around industrial mill towns. These poor were more desperate than the poor in farm country. Methodists made converts easily near the mills and gave people hope, support, and unity. Seth is a Methodist, but Adam does not see why people should not stick to the Church. However, he has been influenced by his own pastor, Mr. Irwine, a tolerant man believing one should worship according to conscience. Adam also defends practical knowledge as important to learn as religion, and that is why he goes to night school to better himself.\\nThe theme of the book is found in the hymn Adam keeps singing: “Let all thy converse be sincere,/ Thy conscience as the noonday clear.”\\xa0 Adam is known for his honest dealings with others, a standard that not everyone can maintain, he finds out. Because he is so strong, both physically and morally, he cannot understand the weakness of others.'"
      ]
     },
     "execution_count": 176,
     "metadata": {},
     "output_type": "execute_result"
    }
   ],
   "source": [
    "start_df('Adam Bede').iloc[0]['chapter_summary']"
   ]
  },
  {
   "cell_type": "markdown",
   "metadata": {},
   "source": [
    "Upon examination of full text of chapter summary for Adam Bede included in data, it can be seen that only a summary of the first chapter is included. This section of the book will be included in the final dataset."
   ]
  },
  {
   "cell_type": "markdown",
   "metadata": {},
   "source": [
    "#### Make dataframe for book"
   ]
  },
  {
   "cell_type": "code",
   "execution_count": 177,
   "metadata": {},
   "outputs": [
    {
     "data": {
      "text/html": [
       "<div>\n",
       "<style scoped>\n",
       "    .dataframe tbody tr th:only-of-type {\n",
       "        vertical-align: middle;\n",
       "    }\n",
       "\n",
       "    .dataframe tbody tr th {\n",
       "        vertical-align: top;\n",
       "    }\n",
       "\n",
       "    .dataframe thead th {\n",
       "        text-align: right;\n",
       "    }\n",
       "</style>\n",
       "<table border=\"1\" class=\"dataframe\">\n",
       "  <thead>\n",
       "    <tr style=\"text-align: right;\">\n",
       "      <th></th>\n",
       "      <th>chapter_title</th>\n",
       "      <th>chapter_summary</th>\n",
       "      <th>book_title</th>\n",
       "      <th>chapters</th>\n",
       "    </tr>\n",
       "  </thead>\n",
       "  <tbody>\n",
       "    <tr>\n",
       "      <th>266</th>\n",
       "      <td>Adam Bede: Summary</td>\n",
       "      <td>George Eliot, Adam Bede. Edited with an Introd...</td>\n",
       "      <td>Adam Bede</td>\n",
       "      <td>Adam Bede: Summary</td>\n",
       "    </tr>\n",
       "  </tbody>\n",
       "</table>\n",
       "</div>"
      ],
      "text/plain": [
       "          chapter_title                                    chapter_summary  \\\n",
       "266  Adam Bede: Summary  George Eliot, Adam Bede. Edited with an Introd...   \n",
       "\n",
       "    book_title            chapters  \n",
       "266  Adam Bede  Adam Bede: Summary  "
      ]
     },
     "execution_count": 177,
     "metadata": {},
     "output_type": "execute_result"
    }
   ],
   "source": [
    "ab_df = start_df('Adam Bede')\n",
    "ab_df"
   ]
  },
  {
   "cell_type": "code",
   "execution_count": 178,
   "metadata": {},
   "outputs": [],
   "source": [
    "#Summary of first chapter copied from text editor document\n",
    "\n",
    "ab_df.iloc[0]['chapter_summary'] = 'The narrator will magically use the ink of her pen as a mirror to show us the carpentry workshop of Jonathan Burge in the village of Hayslope in Loamshire, England, 1799. Five workmen there are busy, the most striking of them a tall strong man singing a hymn in a baritone voice as he finishes a mantelpiece. This is Adam Bede, the obvious leader of the group. His brother, Seth, is younger and claims he has finished the door he is working on. Sandy Jim teases him that he forgot the panels on the door. Wiry Ben Cranage pipes in saying that after all, Seth is a wool-gathering Methodist. Adam pushes Ben against the wall until he promises to leave his brother alone. In friendly laughter, the men accuse Seth of thinking of the woman Methodist preacher who will preach on the Green tonight. Seth is in love with Dinah Morris and invites the others to hear her. Adam declares his loyalty to the Church but believes everyone should worship as he chooses. When the church clock strikes six, the other men immediately leave off working, but Adam chides them for having no pride in their work, and he continues until he finishes, going home with his dog, Gyp, while Seth goes to the Green to hear Dinah preach. A stranger, passing by on horseback, cannot help but admire Adam Bede as he passes.\\n'"
   ]
  },
  {
   "cell_type": "code",
   "execution_count": 179,
   "metadata": {},
   "outputs": [
    {
     "data": {
      "text/html": [
       "<div>\n",
       "<style scoped>\n",
       "    .dataframe tbody tr th:only-of-type {\n",
       "        vertical-align: middle;\n",
       "    }\n",
       "\n",
       "    .dataframe tbody tr th {\n",
       "        vertical-align: top;\n",
       "    }\n",
       "\n",
       "    .dataframe thead th {\n",
       "        text-align: right;\n",
       "    }\n",
       "</style>\n",
       "<table border=\"1\" class=\"dataframe\">\n",
       "  <thead>\n",
       "    <tr style=\"text-align: right;\">\n",
       "      <th></th>\n",
       "      <th>chapter_title</th>\n",
       "      <th>chapter_summary</th>\n",
       "      <th>book_title</th>\n",
       "      <th>chapters</th>\n",
       "    </tr>\n",
       "  </thead>\n",
       "  <tbody>\n",
       "    <tr>\n",
       "      <th>266</th>\n",
       "      <td>Adam Bede: Summary</td>\n",
       "      <td>The narrator will magically use the ink of her...</td>\n",
       "      <td>Adam Bede</td>\n",
       "      <td>Adam Bede: Summary</td>\n",
       "    </tr>\n",
       "  </tbody>\n",
       "</table>\n",
       "</div>"
      ],
      "text/plain": [
       "          chapter_title                                    chapter_summary  \\\n",
       "266  Adam Bede: Summary  The narrator will magically use the ink of her...   \n",
       "\n",
       "    book_title            chapters  \n",
       "266  Adam Bede  Adam Bede: Summary  "
      ]
     },
     "execution_count": 179,
     "metadata": {},
     "output_type": "execute_result"
    }
   ],
   "source": [
    "ab_df"
   ]
  },
  {
   "cell_type": "code",
   "execution_count": 180,
   "metadata": {},
   "outputs": [],
   "source": [
    "ab_df.iloc[0]['chapter_title'] = 'Adam Bede: Summary Chapter 1'\n",
    "ab_df.iloc[0]['chapters'] = 'Chapter 1'"
   ]
  },
  {
   "cell_type": "code",
   "execution_count": 181,
   "metadata": {},
   "outputs": [],
   "source": [
    "ab_text = open('./data/book_full_texts/Adam_Bede.txt', 'r').read()"
   ]
  },
  {
   "cell_type": "code",
   "execution_count": 182,
   "metadata": {},
   "outputs": [],
   "source": [
    "ab_partition = ab_text.partition('Chapter II')"
   ]
  },
  {
   "cell_type": "code",
   "execution_count": 183,
   "metadata": {},
   "outputs": [],
   "source": [
    "ab_ch1 = ab_partition[0]"
   ]
  },
  {
   "cell_type": "code",
   "execution_count": 184,
   "metadata": {},
   "outputs": [
    {
     "data": {
      "text/plain": [
       "'Adam BedebyGeorge Eliot  [pseudonym of Mary Anne Evans]\\n\\n\\n\\n\\n\\nAdam Bede\\nby George Eliot\\n\\n\\n\\n\\n\\nBook One\\n\\n\\nChapter I\\n\\n\\nThe Workshop\\n\\n\\nWith a single drop of ink for a mirror, the Egyptian sorcerer\\nundertakes to reveal to any chance comer far-reaching visions of\\nthe past.  This is what I undertake to do for you, reader.  With\\nthis drop of ink at the end of my pen, I will show you the roomy\\nworkshop of Mr. Jonathan Burge, carpenter and builder, in the\\nvillage of Hayslope, as it appeared on the eighteen'"
      ]
     },
     "execution_count": 184,
     "metadata": {},
     "output_type": "execute_result"
    }
   ],
   "source": [
    "ab_ch1[:500]"
   ]
  },
  {
   "cell_type": "code",
   "execution_count": 185,
   "metadata": {},
   "outputs": [],
   "source": [
    "ab_df['chapter_text'] = ab_ch1"
   ]
  },
  {
   "cell_type": "code",
   "execution_count": 186,
   "metadata": {},
   "outputs": [
    {
     "data": {
      "text/html": [
       "<div>\n",
       "<style scoped>\n",
       "    .dataframe tbody tr th:only-of-type {\n",
       "        vertical-align: middle;\n",
       "    }\n",
       "\n",
       "    .dataframe tbody tr th {\n",
       "        vertical-align: top;\n",
       "    }\n",
       "\n",
       "    .dataframe thead th {\n",
       "        text-align: right;\n",
       "    }\n",
       "</style>\n",
       "<table border=\"1\" class=\"dataframe\">\n",
       "  <thead>\n",
       "    <tr style=\"text-align: right;\">\n",
       "      <th></th>\n",
       "      <th>chapter_title</th>\n",
       "      <th>chapter_summary</th>\n",
       "      <th>book_title</th>\n",
       "      <th>chapters</th>\n",
       "      <th>chapter_text</th>\n",
       "    </tr>\n",
       "  </thead>\n",
       "  <tbody>\n",
       "    <tr>\n",
       "      <th>266</th>\n",
       "      <td>Adam Bede: Summary Chapter 1</td>\n",
       "      <td>The narrator will magically use the ink of her...</td>\n",
       "      <td>Adam Bede</td>\n",
       "      <td>Chapter 1</td>\n",
       "      <td>Adam BedebyGeorge Eliot  [pseudonym of Mary An...</td>\n",
       "    </tr>\n",
       "  </tbody>\n",
       "</table>\n",
       "</div>"
      ],
      "text/plain": [
       "                    chapter_title  \\\n",
       "266  Adam Bede: Summary Chapter 1   \n",
       "\n",
       "                                       chapter_summary book_title   chapters  \\\n",
       "266  The narrator will magically use the ink of her...  Adam Bede  Chapter 1   \n",
       "\n",
       "                                          chapter_text  \n",
       "266  Adam BedebyGeorge Eliot  [pseudonym of Mary An...  "
      ]
     },
     "execution_count": 186,
     "metadata": {},
     "output_type": "execute_result"
    }
   ],
   "source": [
    "ab_df"
   ]
  },
  {
   "cell_type": "markdown",
   "metadata": {},
   "source": [
    "#### Add book to main dataframe"
   ]
  },
  {
   "cell_type": "code",
   "execution_count": 187,
   "metadata": {},
   "outputs": [],
   "source": [
    "main_df = pd.concat([main_df, ab_df])"
   ]
  },
  {
   "cell_type": "code",
   "execution_count": 188,
   "metadata": {},
   "outputs": [
    {
     "data": {
      "text/plain": [
       "228"
      ]
     },
     "execution_count": 188,
     "metadata": {},
     "output_type": "execute_result"
    }
   ],
   "source": [
    "len(main_df)"
   ]
  },
  {
   "cell_type": "markdown",
   "metadata": {},
   "source": [
    "### Oliver Twist"
   ]
  },
  {
   "cell_type": "markdown",
   "metadata": {},
   "source": [
    "#### Split full text into chapters"
   ]
  },
  {
   "cell_type": "code",
   "execution_count": 189,
   "metadata": {},
   "outputs": [
    {
     "data": {
      "text/plain": [
       "267      Chapters1-3\n",
       "268      Chapters4-6\n",
       "269      Chapters7-9\n",
       "270    Chapters10-12\n",
       "271    Chapters13-15\n",
       "272    Chapters16-18\n",
       "273    Chapters19-21\n",
       "274    Chapters22-24\n",
       "275    Chapters25-27\n",
       "276    Chapters28-30\n",
       "277    Chapters31-33\n",
       "278    Chapters34-36\n",
       "279    Chapters37-39\n",
       "280    Chapters40-42\n",
       "281    Chapters43-45\n",
       "282    Chapters46-48\n",
       "283    Chapters49-51\n",
       "284    Chapters52-53\n",
       "Name: chapters, dtype: object"
      ]
     },
     "execution_count": 189,
     "metadata": {},
     "output_type": "execute_result"
    }
   ],
   "source": [
    "chapters('Oliver Twist')"
   ]
  },
  {
   "cell_type": "code",
   "execution_count": 190,
   "metadata": {},
   "outputs": [
    {
     "name": "stdout",
     "output_type": "stream",
     "text": [
      "Requirement already satisfied: roman in /Users/annarutledge/opt/anaconda3/lib/python3.9/site-packages (3.3)\n",
      "Note: you may need to restart the kernel to use updated packages.\n"
     ]
    }
   ],
   "source": [
    "#Install package to help with roman numeral chapter numbers (should have done this earlier!)\n",
    "\n",
    "# roman also added to imports at top of notebook\n",
    "\n",
    "%pip install roman"
   ]
  },
  {
   "cell_type": "code",
   "execution_count": 191,
   "metadata": {},
   "outputs": [],
   "source": [
    "import roman\n",
    "\n",
    "r_numerals = []\n",
    "for i in range(1,54):\n",
    "    r_numerals.append(roman.toRoman(i))"
   ]
  },
  {
   "cell_type": "code",
   "execution_count": 192,
   "metadata": {},
   "outputs": [],
   "source": [
    "ot_ch_names = []\n",
    "\n",
    "for r in r_numerals:\n",
    "    ot_ch_names.append(f'Chapter {r}')"
   ]
  },
  {
   "cell_type": "code",
   "execution_count": 193,
   "metadata": {},
   "outputs": [
    {
     "data": {
      "text/plain": [
       "['Chapter I',\n",
       " 'Chapter II',\n",
       " 'Chapter III',\n",
       " 'Chapter IV',\n",
       " 'Chapter V',\n",
       " 'Chapter VI',\n",
       " 'Chapter VII',\n",
       " 'Chapter VIII',\n",
       " 'Chapter IX',\n",
       " 'Chapter X']"
      ]
     },
     "execution_count": 193,
     "metadata": {},
     "output_type": "execute_result"
    }
   ],
   "source": [
    "ot_ch_names[:10]"
   ]
  },
  {
   "cell_type": "code",
   "execution_count": 194,
   "metadata": {},
   "outputs": [],
   "source": [
    "ot_ch_texts = split_chapters('Oliver Twist', ot_ch_names)"
   ]
  },
  {
   "cell_type": "markdown",
   "metadata": {},
   "source": [
    "#### Create dataframe with chapter titles, chapter summaries, book title, chapter names, and chapter texts"
   ]
  },
  {
   "cell_type": "code",
   "execution_count": 195,
   "metadata": {},
   "outputs": [
    {
     "data": {
      "text/html": [
       "<div>\n",
       "<style scoped>\n",
       "    .dataframe tbody tr th:only-of-type {\n",
       "        vertical-align: middle;\n",
       "    }\n",
       "\n",
       "    .dataframe tbody tr th {\n",
       "        vertical-align: top;\n",
       "    }\n",
       "\n",
       "    .dataframe thead th {\n",
       "        text-align: right;\n",
       "    }\n",
       "</style>\n",
       "<table border=\"1\" class=\"dataframe\">\n",
       "  <thead>\n",
       "    <tr style=\"text-align: right;\">\n",
       "      <th></th>\n",
       "      <th>chapter_title</th>\n",
       "      <th>chapter_summary</th>\n",
       "      <th>book_title</th>\n",
       "      <th>chapters</th>\n",
       "    </tr>\n",
       "  </thead>\n",
       "  <tbody>\n",
       "    <tr>\n",
       "      <th>267</th>\n",
       "      <td>Oliver Twist: Novel Summary: Chapters1-3</td>\n",
       "      <td>Chapter1: An unknown woman was found lying in ...</td>\n",
       "      <td>Oliver Twist</td>\n",
       "      <td>Chapters1-3</td>\n",
       "    </tr>\n",
       "    <tr>\n",
       "      <th>268</th>\n",
       "      <td>Oliver Twist: Novel Summary: Chapters4-6</td>\n",
       "      <td>Chapter 4: The board decides that the best thi...</td>\n",
       "      <td>Oliver Twist</td>\n",
       "      <td>Chapters4-6</td>\n",
       "    </tr>\n",
       "    <tr>\n",
       "      <th>269</th>\n",
       "      <td>Oliver Twist: Novel Summary: Chapters7-9</td>\n",
       "      <td>Chapter 7: Noah found Mr. Bumble and told him ...</td>\n",
       "      <td>Oliver Twist</td>\n",
       "      <td>Chapters7-9</td>\n",
       "    </tr>\n",
       "    <tr>\n",
       "      <th>270</th>\n",
       "      <td>Oliver Twist: Novel Summary: Chapters10-12</td>\n",
       "      <td>Chapter 10: Oliver spent more time with the Je...</td>\n",
       "      <td>Oliver Twist</td>\n",
       "      <td>Chapters10-12</td>\n",
       "    </tr>\n",
       "    <tr>\n",
       "      <th>271</th>\n",
       "      <td>Oliver Twist: Novel Summary: Chapters13-15</td>\n",
       "      <td>Chapter 13: Fagin yells at the boys until they...</td>\n",
       "      <td>Oliver Twist</td>\n",
       "      <td>Chapters13-15</td>\n",
       "    </tr>\n",
       "    <tr>\n",
       "      <th>272</th>\n",
       "      <td>Oliver Twist: Novel Summary: Chapters16-18</td>\n",
       "      <td>Chapter 16: Nancy and Mr. Sikes drag Oliver to...</td>\n",
       "      <td>Oliver Twist</td>\n",
       "      <td>Chapters16-18</td>\n",
       "    </tr>\n",
       "    <tr>\n",
       "      <th>273</th>\n",
       "      <td>Oliver Twist: Novel Summary: Chapters19-21</td>\n",
       "      <td>Chapter 19: Fagin left the house where the boy...</td>\n",
       "      <td>Oliver Twist</td>\n",
       "      <td>Chapters19-21</td>\n",
       "    </tr>\n",
       "    <tr>\n",
       "      <th>274</th>\n",
       "      <td>Oliver Twist: Novel Summary: Chapters22-24</td>\n",
       "      <td>Chapter 22: Two of Mr. Sikes cohorts are waiti...</td>\n",
       "      <td>Oliver Twist</td>\n",
       "      <td>Chapters22-24</td>\n",
       "    </tr>\n",
       "    <tr>\n",
       "      <th>275</th>\n",
       "      <td>Oliver Twist: Novel Summary: Chapters25-27</td>\n",
       "      <td>Chapter 25: Fagin, Charlie Bates, the Dodger, ...</td>\n",
       "      <td>Oliver Twist</td>\n",
       "      <td>Chapters25-27</td>\n",
       "    </tr>\n",
       "    <tr>\n",
       "      <th>276</th>\n",
       "      <td>Oliver Twist: Novel Summary: Chapters28-30</td>\n",
       "      <td>Chapter 28: As they ran through the fields, Si...</td>\n",
       "      <td>Oliver Twist</td>\n",
       "      <td>Chapters28-30</td>\n",
       "    </tr>\n",
       "    <tr>\n",
       "      <th>277</th>\n",
       "      <td>Oliver Twist: Novel Summary: Chapters31-33</td>\n",
       "      <td>Chapter 31: Blathers and Duff, the Bow Street ...</td>\n",
       "      <td>Oliver Twist</td>\n",
       "      <td>Chapters31-33</td>\n",
       "    </tr>\n",
       "    <tr>\n",
       "      <th>278</th>\n",
       "      <td>Oliver Twist: Novel Summary: Chapters34-36</td>\n",
       "      <td>Chapter 34: Oliver was overjoyed at the news t...</td>\n",
       "      <td>Oliver Twist</td>\n",
       "      <td>Chapters34-36</td>\n",
       "    </tr>\n",
       "    <tr>\n",
       "      <th>279</th>\n",
       "      <td>Oliver Twist: Novel Summary: Chapters37-39</td>\n",
       "      <td>Chapter 37: Upon marrying the workhouse matron...</td>\n",
       "      <td>Oliver Twist</td>\n",
       "      <td>Chapters37-39</td>\n",
       "    </tr>\n",
       "    <tr>\n",
       "      <th>280</th>\n",
       "      <td>Oliver Twist: Novel Summary: Chapters40-42</td>\n",
       "      <td>Chapter 40: Nancy told Rose what she had had l...</td>\n",
       "      <td>Oliver Twist</td>\n",
       "      <td>Chapters40-42</td>\n",
       "    </tr>\n",
       "    <tr>\n",
       "      <th>281</th>\n",
       "      <td>Oliver Twist: Novel Summary: Chapters43-45</td>\n",
       "      <td>Chapter 43: Fagin got the news that the Artful...</td>\n",
       "      <td>Oliver Twist</td>\n",
       "      <td>Chapters43-45</td>\n",
       "    </tr>\n",
       "    <tr>\n",
       "      <th>282</th>\n",
       "      <td>Oliver Twist: Novel Summary: Chapters46-48</td>\n",
       "      <td>Chapter 46: Nancy met Rose and Mr. Brownlow on...</td>\n",
       "      <td>Oliver Twist</td>\n",
       "      <td>Chapters46-48</td>\n",
       "    </tr>\n",
       "    <tr>\n",
       "      <th>283</th>\n",
       "      <td>Oliver Twist: Novel Summary: Chapters49-51</td>\n",
       "      <td>Chapter 49: Mr. Brownlow apprehends Monks and ...</td>\n",
       "      <td>Oliver Twist</td>\n",
       "      <td>Chapters49-51</td>\n",
       "    </tr>\n",
       "    <tr>\n",
       "      <th>284</th>\n",
       "      <td>Oliver Twist: Novel Summary: Chapters52-53</td>\n",
       "      <td>\\nChapter 52: Fagin was condemned to hang in ...</td>\n",
       "      <td>Oliver Twist</td>\n",
       "      <td>Chapters52-53</td>\n",
       "    </tr>\n",
       "  </tbody>\n",
       "</table>\n",
       "</div>"
      ],
      "text/plain": [
       "                                  chapter_title  \\\n",
       "267    Oliver Twist: Novel Summary: Chapters1-3   \n",
       "268    Oliver Twist: Novel Summary: Chapters4-6   \n",
       "269    Oliver Twist: Novel Summary: Chapters7-9   \n",
       "270  Oliver Twist: Novel Summary: Chapters10-12   \n",
       "271  Oliver Twist: Novel Summary: Chapters13-15   \n",
       "272  Oliver Twist: Novel Summary: Chapters16-18   \n",
       "273  Oliver Twist: Novel Summary: Chapters19-21   \n",
       "274  Oliver Twist: Novel Summary: Chapters22-24   \n",
       "275  Oliver Twist: Novel Summary: Chapters25-27   \n",
       "276  Oliver Twist: Novel Summary: Chapters28-30   \n",
       "277  Oliver Twist: Novel Summary: Chapters31-33   \n",
       "278  Oliver Twist: Novel Summary: Chapters34-36   \n",
       "279  Oliver Twist: Novel Summary: Chapters37-39   \n",
       "280  Oliver Twist: Novel Summary: Chapters40-42   \n",
       "281  Oliver Twist: Novel Summary: Chapters43-45   \n",
       "282  Oliver Twist: Novel Summary: Chapters46-48   \n",
       "283  Oliver Twist: Novel Summary: Chapters49-51   \n",
       "284  Oliver Twist: Novel Summary: Chapters52-53   \n",
       "\n",
       "                                       chapter_summary    book_title  \\\n",
       "267  Chapter1: An unknown woman was found lying in ...  Oliver Twist   \n",
       "268  Chapter 4: The board decides that the best thi...  Oliver Twist   \n",
       "269  Chapter 7: Noah found Mr. Bumble and told him ...  Oliver Twist   \n",
       "270  Chapter 10: Oliver spent more time with the Je...  Oliver Twist   \n",
       "271  Chapter 13: Fagin yells at the boys until they...  Oliver Twist   \n",
       "272  Chapter 16: Nancy and Mr. Sikes drag Oliver to...  Oliver Twist   \n",
       "273  Chapter 19: Fagin left the house where the boy...  Oliver Twist   \n",
       "274  Chapter 22: Two of Mr. Sikes cohorts are waiti...  Oliver Twist   \n",
       "275  Chapter 25: Fagin, Charlie Bates, the Dodger, ...  Oliver Twist   \n",
       "276  Chapter 28: As they ran through the fields, Si...  Oliver Twist   \n",
       "277  Chapter 31: Blathers and Duff, the Bow Street ...  Oliver Twist   \n",
       "278  Chapter 34: Oliver was overjoyed at the news t...  Oliver Twist   \n",
       "279  Chapter 37: Upon marrying the workhouse matron...  Oliver Twist   \n",
       "280  Chapter 40: Nancy told Rose what she had had l...  Oliver Twist   \n",
       "281  Chapter 43: Fagin got the news that the Artful...  Oliver Twist   \n",
       "282  Chapter 46: Nancy met Rose and Mr. Brownlow on...  Oliver Twist   \n",
       "283  Chapter 49: Mr. Brownlow apprehends Monks and ...  Oliver Twist   \n",
       "284   \\nChapter 52: Fagin was condemned to hang in ...  Oliver Twist   \n",
       "\n",
       "          chapters  \n",
       "267    Chapters1-3  \n",
       "268    Chapters4-6  \n",
       "269    Chapters7-9  \n",
       "270  Chapters10-12  \n",
       "271  Chapters13-15  \n",
       "272  Chapters16-18  \n",
       "273  Chapters19-21  \n",
       "274  Chapters22-24  \n",
       "275  Chapters25-27  \n",
       "276  Chapters28-30  \n",
       "277  Chapters31-33  \n",
       "278  Chapters34-36  \n",
       "279  Chapters37-39  \n",
       "280  Chapters40-42  \n",
       "281  Chapters43-45  \n",
       "282  Chapters46-48  \n",
       "283  Chapters49-51  \n",
       "284  Chapters52-53  "
      ]
     },
     "execution_count": 195,
     "metadata": {},
     "output_type": "execute_result"
    }
   ],
   "source": [
    "ot_df = start_df('Oliver Twist')\n",
    "ot_df"
   ]
  },
  {
   "cell_type": "code",
   "execution_count": 196,
   "metadata": {},
   "outputs": [],
   "source": [
    "ot_df['chapter_text'] = [\n",
    "    ' '.join(ot_ch_texts[0:2]),\n",
    "    ' '.join(ot_ch_texts[3:5]),\n",
    "    ' '.join(ot_ch_texts[6:8]),\n",
    "    ' '.join(ot_ch_texts[9:11]),\n",
    "    ' '.join(ot_ch_texts[12:14]),\n",
    "    ' '.join(ot_ch_texts[15:17]),\n",
    "    ' '.join(ot_ch_texts[18:20]),\n",
    "    ' '.join(ot_ch_texts[21:23]),\n",
    "    ' '.join(ot_ch_texts[24:26]),\n",
    "    ' '.join(ot_ch_texts[27:29]),\n",
    "    ' '.join(ot_ch_texts[30:32]),\n",
    "    ' '.join(ot_ch_texts[33:35]),\n",
    "    ' '.join(ot_ch_texts[36:38]),\n",
    "    ' '.join(ot_ch_texts[39:41]),\n",
    "    ' '.join(ot_ch_texts[42:44]),\n",
    "    ' '.join(ot_ch_texts[45:47]),\n",
    "    ' '.join(ot_ch_texts[48:50]),\n",
    "    ' '.join(ot_ch_texts[51:52]),\n",
    "]"
   ]
  },
  {
   "cell_type": "markdown",
   "metadata": {},
   "source": [
    "#### Add book to main dataframe"
   ]
  },
  {
   "cell_type": "code",
   "execution_count": 197,
   "metadata": {},
   "outputs": [],
   "source": [
    "main_df = pd.concat([main_df, ot_df])"
   ]
  },
  {
   "cell_type": "code",
   "execution_count": 198,
   "metadata": {},
   "outputs": [
    {
     "data": {
      "text/plain": [
       "246"
      ]
     },
     "execution_count": 198,
     "metadata": {},
     "output_type": "execute_result"
    }
   ],
   "source": [
    "len(main_df)"
   ]
  },
  {
   "cell_type": "markdown",
   "metadata": {},
   "source": [
    "### David Copperfield"
   ]
  },
  {
   "cell_type": "markdown",
   "metadata": {},
   "source": [
    "#### Split full text into chapters"
   ]
  },
  {
   "cell_type": "code",
   "execution_count": 199,
   "metadata": {},
   "outputs": [
    {
     "data": {
      "text/plain": [
       "285    David Copperfield: Summary: Chapters I-III\n",
       "Name: chapters, dtype: object"
      ]
     },
     "execution_count": 199,
     "metadata": {},
     "output_type": "execute_result"
    }
   ],
   "source": [
    "chapters('David Copperfield')"
   ]
  },
  {
   "cell_type": "code",
   "execution_count": 200,
   "metadata": {},
   "outputs": [
    {
     "data": {
      "text/plain": [
       "\"\\xa0\\nPreface\\n\\tThe author expresses both pleasure and sorrow at finishing his novel ?pleasure at having successfully completed this lengthy project, and sorrow at parting from the work, which has become a part of him.\\n\\tChapter I: I am born\\n\\tThe adult David Copperfield narrates the story of his life, beginning with his birth.\\n\\tThe women of David's neighborhood believe, based on the time of his birth, that he is destined to be unlucky and that he would possess the gift of seeing ghosts and spirits. On\""
      ]
     },
     "execution_count": 200,
     "metadata": {},
     "output_type": "execute_result"
    }
   ],
   "source": [
    "start_df('David Copperfield').iloc[0]['chapter_summary'][:500]"
   ]
  },
  {
   "cell_type": "markdown",
   "metadata": {},
   "source": [
    "Upon examination of full text of chapter summary for David Copperfield included in data, it can be seen that only summaries of the preface and the first three chapters are included. These sections of the book will be included in the final dataset."
   ]
  },
  {
   "cell_type": "code",
   "execution_count": 201,
   "metadata": {},
   "outputs": [],
   "source": [
    "dc_chap_names = ['PREFACE TO THE CHARLES DICKENS EDITION', 'CHAPTER 1', 'CHAPTER 2', 'CHAPTER 3']"
   ]
  },
  {
   "cell_type": "code",
   "execution_count": 202,
   "metadata": {},
   "outputs": [],
   "source": [
    "dc_chap_texts = split_chapters('David Copperfield', dc_chap_names)"
   ]
  },
  {
   "cell_type": "code",
   "execution_count": 203,
   "metadata": {},
   "outputs": [
    {
     "data": {
      "text/plain": [
       "\"\\nI HAVE A CHANGE\\n\\n\\nThe carrier's horse was the laziest horse in the world, I should\\nhope, and shuffled along, with his head down, as if he liked to\\nkeep people waiting to whom the packages were directed.  I fancied,\\nindeed, that he sometimes chuckled audibly over this reflection,\\nbut the carrier said he was only troubled with a cough.\\nThe carrier had a way of keeping his head down, like his horse, and\\nof drooping sleepily forward as he drove, with one of his arms on\\neach of his knees.  I say 'dr\""
      ]
     },
     "execution_count": 203,
     "metadata": {},
     "output_type": "execute_result"
    }
   ],
   "source": [
    "#Examined full text of last entry in last - all of book chapter 3 & on included because 'split_chapters' function\n",
    "# is not designed to only take in portion of chapters in a book\n",
    "\n",
    "dc_chap_texts[-1][:500]"
   ]
  },
  {
   "cell_type": "code",
   "execution_count": 204,
   "metadata": {},
   "outputs": [],
   "source": [
    "# Edit chapter 3 text entry\n",
    "\n",
    "last_ch_partition = dc_chap_texts[-1].partition('CHAPTER 4')\n",
    "\n",
    "dc_chap_texts[-1] = last_ch_partition[0]"
   ]
  },
  {
   "cell_type": "code",
   "execution_count": 205,
   "metadata": {},
   "outputs": [
    {
     "data": {
      "text/plain": [
       "\"\\nI HAVE A CHANGE\\n\\n\\nThe carrier's horse was the laziest horse in the world, I should\\nhope, and shuffled along, with his head down, as if he liked to\\nkeep people waiting to whom the packages were directed.  I fancied,\\nindeed, that he sometimes chuckled audibly over this reflection,\\nbut the carrier said he was only troubled with a cough.\\nThe carrier had a way of keeping his head down, like his horse, and\\nof drooping sleepily forward as he drove, with one of his arms on\\neach of his knees.  I say 'dr\""
      ]
     },
     "execution_count": 205,
     "metadata": {},
     "output_type": "execute_result"
    }
   ],
   "source": [
    "#Check edited chapter 3 entry - now contains correct text\n",
    "\n",
    "dc_chap_texts[-1][:500]"
   ]
  },
  {
   "cell_type": "markdown",
   "metadata": {},
   "source": [
    "#### Make dataframe for book"
   ]
  },
  {
   "cell_type": "code",
   "execution_count": 206,
   "metadata": {},
   "outputs": [
    {
     "data": {
      "text/html": [
       "<div>\n",
       "<style scoped>\n",
       "    .dataframe tbody tr th:only-of-type {\n",
       "        vertical-align: middle;\n",
       "    }\n",
       "\n",
       "    .dataframe tbody tr th {\n",
       "        vertical-align: top;\n",
       "    }\n",
       "\n",
       "    .dataframe thead th {\n",
       "        text-align: right;\n",
       "    }\n",
       "</style>\n",
       "<table border=\"1\" class=\"dataframe\">\n",
       "  <thead>\n",
       "    <tr style=\"text-align: right;\">\n",
       "      <th></th>\n",
       "      <th>chapter_title</th>\n",
       "      <th>chapter_summary</th>\n",
       "      <th>book_title</th>\n",
       "      <th>chapters</th>\n",
       "    </tr>\n",
       "  </thead>\n",
       "  <tbody>\n",
       "    <tr>\n",
       "      <th>285</th>\n",
       "      <td>David Copperfield: Summary: Chapters I-III</td>\n",
       "      <td>\\nPreface\\n\\tThe author expresses both pleasu...</td>\n",
       "      <td>David Copperfield</td>\n",
       "      <td>David Copperfield: Summary: Chapters I-III</td>\n",
       "    </tr>\n",
       "  </tbody>\n",
       "</table>\n",
       "</div>"
      ],
      "text/plain": [
       "                                  chapter_title  \\\n",
       "285  David Copperfield: Summary: Chapters I-III   \n",
       "\n",
       "                                       chapter_summary         book_title  \\\n",
       "285   \\nPreface\\n\\tThe author expresses both pleasu...  David Copperfield   \n",
       "\n",
       "                                       chapters  \n",
       "285  David Copperfield: Summary: Chapters I-III  "
      ]
     },
     "execution_count": 206,
     "metadata": {},
     "output_type": "execute_result"
    }
   ],
   "source": [
    "dc_df = start_df('David Copperfield')\n",
    "dc_df"
   ]
  },
  {
   "cell_type": "code",
   "execution_count": 207,
   "metadata": {},
   "outputs": [
    {
     "data": {
      "text/html": [
       "<div>\n",
       "<style scoped>\n",
       "    .dataframe tbody tr th:only-of-type {\n",
       "        vertical-align: middle;\n",
       "    }\n",
       "\n",
       "    .dataframe tbody tr th {\n",
       "        vertical-align: top;\n",
       "    }\n",
       "\n",
       "    .dataframe thead th {\n",
       "        text-align: right;\n",
       "    }\n",
       "</style>\n",
       "<table border=\"1\" class=\"dataframe\">\n",
       "  <thead>\n",
       "    <tr style=\"text-align: right;\">\n",
       "      <th></th>\n",
       "      <th>chapter_title</th>\n",
       "      <th>chapter_summary</th>\n",
       "      <th>book_title</th>\n",
       "      <th>chapters</th>\n",
       "    </tr>\n",
       "  </thead>\n",
       "  <tbody>\n",
       "    <tr>\n",
       "      <th>0</th>\n",
       "      <td>David Copperfield: Summary: Preface</td>\n",
       "      <td>The author expresses both pleasure and sorrow ...</td>\n",
       "      <td>David Copperfield</td>\n",
       "      <td>Preface</td>\n",
       "    </tr>\n",
       "    <tr>\n",
       "      <th>1</th>\n",
       "      <td>David Copperfield: Summary: Chapter I</td>\n",
       "      <td>The adult David Copperfield narrates the story...</td>\n",
       "      <td>David Copperfield</td>\n",
       "      <td>Chapter I</td>\n",
       "    </tr>\n",
       "    <tr>\n",
       "      <th>2</th>\n",
       "      <td>David Copperfield: Summary: Chapter II</td>\n",
       "      <td>David describes some of his earliest memories....</td>\n",
       "      <td>David Copperfield</td>\n",
       "      <td>Chapter II</td>\n",
       "    </tr>\n",
       "    <tr>\n",
       "      <th>3</th>\n",
       "      <td>David Copperfield: Summary: Chapter III</td>\n",
       "      <td>Peggotty and David travel by carrier's cart to...</td>\n",
       "      <td>David Copperfield</td>\n",
       "      <td>Chapter III</td>\n",
       "    </tr>\n",
       "  </tbody>\n",
       "</table>\n",
       "</div>"
      ],
      "text/plain": [
       "                             chapter_title  \\\n",
       "0      David Copperfield: Summary: Preface   \n",
       "1    David Copperfield: Summary: Chapter I   \n",
       "2   David Copperfield: Summary: Chapter II   \n",
       "3  David Copperfield: Summary: Chapter III   \n",
       "\n",
       "                                     chapter_summary         book_title  \\\n",
       "0  The author expresses both pleasure and sorrow ...  David Copperfield   \n",
       "1  The adult David Copperfield narrates the story...  David Copperfield   \n",
       "2  David describes some of his earliest memories....  David Copperfield   \n",
       "3  Peggotty and David travel by carrier's cart to...  David Copperfield   \n",
       "\n",
       "      chapters  \n",
       "0      Preface  \n",
       "1    Chapter I  \n",
       "2   Chapter II  \n",
       "3  Chapter III  "
      ]
     },
     "execution_count": 207,
     "metadata": {},
     "output_type": "execute_result"
    }
   ],
   "source": [
    "dc = {\n",
    "    'chapter_title':[\n",
    "        'David Copperfield: Summary: Preface', 'David Copperfield: Summary: Chapter I', \n",
    "        'David Copperfield: Summary: Chapter II', 'David Copperfield: Summary: Chapter III',\n",
    "    ],\n",
    "    'chapter_summary':[\n",
    "        'The author expresses both pleasure and sorrow at finishing his novel ?pleasure at having successfully completed this lengthy project, and sorrow at parting from the work, which has become a part of him.',\n",
    "        'The adult David Copperfield narrates the story of his life, beginning with his birth.\\n\\tThe women of David\\'s neighborhood believe, based on the time of his birth, that he is destined to be unlucky and that he would possess the gift of seeing ghosts and spirits. On the first prediction, he comments that the story he will tell will reveal its truth or otherwise, and on the second prediction, he comments that he is not aware of having any such gift.\\n\\tDavid\\'s father is already dead when he is born. An aunt of his father\\'s, Miss Betsey Trotwood, turns up on the day of his birth. Betsey was once married to a man who beat her and tried to kill her, and she ended up paying him to stay away from her. Though Betsey was fond of David\\'s father, she was contemptuous of his mother, Clara Copperfield, calling her \"a wax doll.?/p>\\n\\tThis is the first time that Betsey has met Clara, and she gives her the nickname of Baby because of her youthful appearance. Betsey informs Clara that she is certain that she will give birth to a girl. She intends to be a friend to the girl, and to ensure that she does not place her trust in the type of man who will take advantage of her, as she herself did.\\n\\tLater, Mr. Chillip, the doctor, emerges from the birthing room with the news that Clara has had a boy. Without a word, Betsey walks out of the house, never to return.',\n",
    "        'David describes some of his earliest memories. He remembers his pretty mother, and the kindly nurse, Clara Peggotty, who runs the household. One evening, David is reading to Peggotty from a book about crocodiles. He asks Peggotty if a person whose spouse dies can marry again. Peggotty says that they can if they choose, though she sounds unenthusiastic.\\n\\tClara comes in with Mr. Murdstone, a handsome man with black hair, eyes and whiskers, who is courting her. David takes an instant dislike to him. David falls asleep. When he wakes, he hears that both women are in tears. Peggotty is telling Clara that her former husband, David\\'s father, would not have liked Mr. Murdstone.\\n\\tMr. Murdstone returns one day and takes David on a trip to Lowestoft, a nearby town, to meet some of his business acquaintances. One of the men, Mr. Quinion, jokes with Mr. Murdstone about his courtship of Clara and David\\'s dislike of him. David observes that the men seem to share his wariness of Mr. Murdstone, and that Mr. Murdstone never laughs with them.\\n\\tOne evening, Peggotty asks David to accompany her on a two-week visit to her brother\\'s at Yarmouth. He excitedly agrees. As he says goodbye to his mother, Mr. Murdstone appears at her side and tells her to control her emotions.',\n",
    "        'Peggotty and David travel by carrier\\'s cart to Yarmouth, where they are met at an inn by Peggotty\\'s nephew,Ham. Ham takes them to his family\\'s home, which is a boat converted into a house. Inside there is a smell of fish. Peggotty\\'s brother, Daniel Peggotty, who owns the house, deals in seafood, which he stores in an outhouse. Mr. Peggotty lives in the house with his nephew, Ham, and his niece, Little Em\\'ly, whom he adopted when their fathers drowned at sea. Also living with Mr. Peggotty is Mrs. Gummidge, the widow of Mr. Peggotty\\'s partner in a boat. Mr. Peggotty is an easy-going man who only becomes angry if his generosity in adopting destitute people is mentioned.\\n\\tNext morning, David goes out onto the beach with Little Em\\'ly, where they collect pebbles and fall in love with each other. Little Em\\'ly says that she is afraid of the sea, which has destroyed so many local men and boats. She also reveals that she wants to be a lady. The adult David reflects that perhaps it would have been better if the sea had swallowed Little Em\\'ly that morning, so that she would not have to suffer everything that she suffered since.\\n\\tMrs. Gummidge turns out to be a depressed sort of woman, given to complaining that \"I am a lone lorn creetur...and everythink goes contrairy with me.?She claims that while others may share the adverse conditions that cause her grief, \"I feel it more.\" Mr. Peggotty remarks that \"She\\'s been thinking of the old \\'un,\" meaning her dead husband.\\n\\tAt the end of their vacation, Peggotty and David set out for home. David is excited to see his mother again, but Peggotty tries to restrain his enthusiasm. When they reach home, David is baffled that his mother has not come out to the gate to meet him. He fears that she is dead. Peggotty reveals that Clara has married Mr. Murdstone.\\n\\tDavid finds his mother sitting with Mr. Murdstone by the fire. Clara rises to meet David, but Mr. Murdstone tells her again to control her emotions. David finds that his bedroom has been moved to a more distant room. There is a fierce black dog in the kennel in the yard, which springs out to attack him'\n",
    "    ],\n",
    "    'book_title':['David Copperfield', 'David Copperfield', 'David Copperfield', 'David Copperfield'],\n",
    "    'chapters':['Preface', 'Chapter I', 'Chapter II', 'Chapter III'],\n",
    "}\n",
    "\n",
    "dc_df = pd.DataFrame(dc)\n",
    "dc_df"
   ]
  },
  {
   "cell_type": "code",
   "execution_count": 208,
   "metadata": {},
   "outputs": [],
   "source": [
    "dc_df['chapter_text'] = dc_chap_texts"
   ]
  },
  {
   "cell_type": "markdown",
   "metadata": {},
   "source": [
    "#### Add book to main dataframe"
   ]
  },
  {
   "cell_type": "code",
   "execution_count": 209,
   "metadata": {},
   "outputs": [],
   "source": [
    "main_df = pd.concat([main_df, dc_df])"
   ]
  },
  {
   "cell_type": "markdown",
   "metadata": {},
   "source": [
    "### Ivanhoe"
   ]
  },
  {
   "cell_type": "markdown",
   "metadata": {},
   "source": [
    "#### Split full text into chapters"
   ]
  },
  {
   "cell_type": "code",
   "execution_count": 210,
   "metadata": {},
   "outputs": [
    {
     "data": {
      "text/plain": [
       "286    Ivanhoe: Summary\n",
       "Name: chapters, dtype: object"
      ]
     },
     "execution_count": 210,
     "metadata": {},
     "output_type": "execute_result"
    }
   ],
   "source": [
    "chapters('Ivanhoe')"
   ]
  },
  {
   "cell_type": "markdown",
   "metadata": {},
   "source": [
    "##### Divide summary into chapter summaries & make new dataframe for book"
   ]
  },
  {
   "cell_type": "code",
   "execution_count": 211,
   "metadata": {},
   "outputs": [
    {
     "data": {
      "text/html": [
       "<div>\n",
       "<style scoped>\n",
       "    .dataframe tbody tr th:only-of-type {\n",
       "        vertical-align: middle;\n",
       "    }\n",
       "\n",
       "    .dataframe tbody tr th {\n",
       "        vertical-align: top;\n",
       "    }\n",
       "\n",
       "    .dataframe thead th {\n",
       "        text-align: right;\n",
       "    }\n",
       "</style>\n",
       "<table border=\"1\" class=\"dataframe\">\n",
       "  <thead>\n",
       "    <tr style=\"text-align: right;\">\n",
       "      <th></th>\n",
       "      <th>chapter_title</th>\n",
       "      <th>chapter_summary</th>\n",
       "      <th>book_title</th>\n",
       "      <th>chapters</th>\n",
       "    </tr>\n",
       "  </thead>\n",
       "  <tbody>\n",
       "    <tr>\n",
       "      <th>286</th>\n",
       "      <td>Ivanhoe: Summary</td>\n",
       "      <td>Chapter I\\n\\tThe story is set in England in th...</td>\n",
       "      <td>Ivanhoe</td>\n",
       "      <td>Ivanhoe: Summary</td>\n",
       "    </tr>\n",
       "  </tbody>\n",
       "</table>\n",
       "</div>"
      ],
      "text/plain": [
       "        chapter_title                                    chapter_summary  \\\n",
       "286  Ivanhoe: Summary  Chapter I\\n\\tThe story is set in England in th...   \n",
       "\n",
       "    book_title          chapters  \n",
       "286    Ivanhoe  Ivanhoe: Summary  "
      ]
     },
     "execution_count": 211,
     "metadata": {},
     "output_type": "execute_result"
    }
   ],
   "source": [
    "iv_df = start_df('Ivanhoe')\n",
    "iv_df"
   ]
  },
  {
   "cell_type": "code",
   "execution_count": 212,
   "metadata": {},
   "outputs": [],
   "source": [
    "ivanhoe_summary = iv_df.iloc[0]['chapter_summary']"
   ]
  },
  {
   "cell_type": "code",
   "execution_count": 213,
   "metadata": {},
   "outputs": [],
   "source": [
    "iv_ch1 = ivanhoe_summary.partition('Chapter II')[0]"
   ]
  },
  {
   "cell_type": "code",
   "execution_count": 214,
   "metadata": {},
   "outputs": [],
   "source": [
    "iv_ch2_4 = ivanhoe_summary.partition('Chapter II')[1] + ivanhoe_summary.partition('Chapter II')[2]\n",
    "iv_ch2 = iv_ch2_4.partition('Chapter III')[0]"
   ]
  },
  {
   "cell_type": "code",
   "execution_count": 215,
   "metadata": {},
   "outputs": [],
   "source": [
    "iv_ch3_4 = iv_ch2_4.partition('Chapter III')[1] + iv_ch2_4.partition('Chapter III')[2]\n",
    "iv_ch3 = iv_ch3_4.partition('Chapter IV')[0]"
   ]
  },
  {
   "cell_type": "code",
   "execution_count": 216,
   "metadata": {},
   "outputs": [],
   "source": [
    "iv_ch4 = iv_ch3_4.partition('Chapter IV')[1] + iv_ch3_4.partition('Chapter IV')[2]"
   ]
  },
  {
   "cell_type": "code",
   "execution_count": 217,
   "metadata": {},
   "outputs": [
    {
     "data": {
      "text/html": [
       "<div>\n",
       "<style scoped>\n",
       "    .dataframe tbody tr th:only-of-type {\n",
       "        vertical-align: middle;\n",
       "    }\n",
       "\n",
       "    .dataframe tbody tr th {\n",
       "        vertical-align: top;\n",
       "    }\n",
       "\n",
       "    .dataframe thead th {\n",
       "        text-align: right;\n",
       "    }\n",
       "</style>\n",
       "<table border=\"1\" class=\"dataframe\">\n",
       "  <thead>\n",
       "    <tr style=\"text-align: right;\">\n",
       "      <th></th>\n",
       "      <th>chapter_title</th>\n",
       "      <th>chapter_summary</th>\n",
       "      <th>book_title</th>\n",
       "      <th>chapters</th>\n",
       "    </tr>\n",
       "  </thead>\n",
       "  <tbody>\n",
       "    <tr>\n",
       "      <th>0</th>\n",
       "      <td>Ivanhoe Chapter I</td>\n",
       "      <td>Chapter I\\n\\tThe story is set in England in th...</td>\n",
       "      <td>Ivanhoe</td>\n",
       "      <td>Chapter I</td>\n",
       "    </tr>\n",
       "    <tr>\n",
       "      <th>1</th>\n",
       "      <td>Ivanhoe Chapter II</td>\n",
       "      <td>Chapter II\\n\\tA group of ten horsemen overtake...</td>\n",
       "      <td>Ivanhoe</td>\n",
       "      <td>Chapter II</td>\n",
       "    </tr>\n",
       "    <tr>\n",
       "      <th>2</th>\n",
       "      <td>Ivanhoe Chapter III</td>\n",
       "      <td>Chapter III\\n\\tIn Cedric’s mansion, the hall i...</td>\n",
       "      <td>Ivanhoe</td>\n",
       "      <td>Chapter III</td>\n",
       "    </tr>\n",
       "    <tr>\n",
       "      <th>3</th>\n",
       "      <td>Ivanhoe Chapter IV</td>\n",
       "      <td>Chapter IV\\n\\tCedric greets his hosts with dig...</td>\n",
       "      <td>Ivanhoe</td>\n",
       "      <td>Chapter IV</td>\n",
       "    </tr>\n",
       "  </tbody>\n",
       "</table>\n",
       "</div>"
      ],
      "text/plain": [
       "         chapter_title                                    chapter_summary  \\\n",
       "0    Ivanhoe Chapter I  Chapter I\\n\\tThe story is set in England in th...   \n",
       "1   Ivanhoe Chapter II  Chapter II\\n\\tA group of ten horsemen overtake...   \n",
       "2  Ivanhoe Chapter III  Chapter III\\n\\tIn Cedric’s mansion, the hall i...   \n",
       "3   Ivanhoe Chapter IV  Chapter IV\\n\\tCedric greets his hosts with dig...   \n",
       "\n",
       "  book_title     chapters  \n",
       "0    Ivanhoe    Chapter I  \n",
       "1    Ivanhoe   Chapter II  \n",
       "2    Ivanhoe  Chapter III  \n",
       "3    Ivanhoe   Chapter IV  "
      ]
     },
     "execution_count": 217,
     "metadata": {},
     "output_type": "execute_result"
    }
   ],
   "source": [
    "iv_df = pd.DataFrame(\n",
    "    { 'chapter_title':['Ivanhoe Chapter I', 'Ivanhoe Chapter II', 'Ivanhoe Chapter III', 'Ivanhoe Chapter IV'],\n",
    "        'chapter_summary':[iv_ch1, iv_ch2, iv_ch3, iv_ch4],\n",
    "        'book_title':['Ivanhoe', 'Ivanhoe', 'Ivanhoe', 'Ivanhoe'],\n",
    "        'chapters':['Chapter I', 'Chapter II', 'Chapter III', 'Chapter IV'],\n",
    "    }\n",
    ")\n",
    "iv_df"
   ]
  },
  {
   "cell_type": "markdown",
   "metadata": {},
   "source": [
    "##### Divide full text chapters"
   ]
  },
  {
   "cell_type": "code",
   "execution_count": 218,
   "metadata": {},
   "outputs": [],
   "source": [
    "iv_ch_names = ['CHAPTER I', 'CHAPTER II', 'CHAPTER III', 'CHAPTER IV']"
   ]
  },
  {
   "cell_type": "code",
   "execution_count": 219,
   "metadata": {},
   "outputs": [],
   "source": [
    "iv_ch_texts = split_chapters('Ivanhoe', iv_ch_names)"
   ]
  },
  {
   "cell_type": "code",
   "execution_count": 220,
   "metadata": {},
   "outputs": [],
   "source": [
    "#Edit last item in chapter texts list (should be Ch 4 - currently Ch $ & on due to error with only using a portion \n",
    "# of the book - same as what occured with My Antonia)\n",
    "\n",
    "ch_4_partition = iv_ch_texts[-1].partition('CHAPTER V')\n",
    "iv_ch_texts[-1] = ch_4_partition[0]"
   ]
  },
  {
   "cell_type": "code",
   "execution_count": 221,
   "metadata": {},
   "outputs": [],
   "source": [
    "iv_df['chapter_text'] = iv_ch_texts"
   ]
  },
  {
   "cell_type": "code",
   "execution_count": 222,
   "metadata": {},
   "outputs": [
    {
     "data": {
      "text/html": [
       "<div>\n",
       "<style scoped>\n",
       "    .dataframe tbody tr th:only-of-type {\n",
       "        vertical-align: middle;\n",
       "    }\n",
       "\n",
       "    .dataframe tbody tr th {\n",
       "        vertical-align: top;\n",
       "    }\n",
       "\n",
       "    .dataframe thead th {\n",
       "        text-align: right;\n",
       "    }\n",
       "</style>\n",
       "<table border=\"1\" class=\"dataframe\">\n",
       "  <thead>\n",
       "    <tr style=\"text-align: right;\">\n",
       "      <th></th>\n",
       "      <th>chapter_title</th>\n",
       "      <th>chapter_summary</th>\n",
       "      <th>book_title</th>\n",
       "      <th>chapters</th>\n",
       "      <th>chapter_text</th>\n",
       "    </tr>\n",
       "  </thead>\n",
       "  <tbody>\n",
       "    <tr>\n",
       "      <th>0</th>\n",
       "      <td>Ivanhoe Chapter I</td>\n",
       "      <td>Chapter I\\n\\tThe story is set in England in th...</td>\n",
       "      <td>Ivanhoe</td>\n",
       "      <td>Chapter I</td>\n",
       "      <td>IvanhoebyWalter Scott\\n\\n\\n\\n\\nPrepared by \"Jo...</td>\n",
       "    </tr>\n",
       "    <tr>\n",
       "      <th>1</th>\n",
       "      <td>Ivanhoe Chapter II</td>\n",
       "      <td>Chapter II\\n\\tA group of ten horsemen overtake...</td>\n",
       "      <td>Ivanhoe</td>\n",
       "      <td>Chapter II</td>\n",
       "      <td>\\n\\n\\nA Monk there was, a fayre for the maistr...</td>\n",
       "    </tr>\n",
       "    <tr>\n",
       "      <th>2</th>\n",
       "      <td>Ivanhoe Chapter III</td>\n",
       "      <td>Chapter III\\n\\tIn Cedric’s mansion, the hall i...</td>\n",
       "      <td>Ivanhoe</td>\n",
       "      <td>Chapter III</td>\n",
       "      <td>\\n\\n\\nThen (sad relief!) from the bleak coast ...</td>\n",
       "    </tr>\n",
       "    <tr>\n",
       "      <th>3</th>\n",
       "      <td>Ivanhoe Chapter IV</td>\n",
       "      <td>Chapter IV\\n\\tCedric greets his hosts with dig...</td>\n",
       "      <td>Ivanhoe</td>\n",
       "      <td>Chapter IV</td>\n",
       "      <td>\\n\\n\\nWith sheep and shaggy goats the porkers ...</td>\n",
       "    </tr>\n",
       "  </tbody>\n",
       "</table>\n",
       "</div>"
      ],
      "text/plain": [
       "         chapter_title                                    chapter_summary  \\\n",
       "0    Ivanhoe Chapter I  Chapter I\\n\\tThe story is set in England in th...   \n",
       "1   Ivanhoe Chapter II  Chapter II\\n\\tA group of ten horsemen overtake...   \n",
       "2  Ivanhoe Chapter III  Chapter III\\n\\tIn Cedric’s mansion, the hall i...   \n",
       "3   Ivanhoe Chapter IV  Chapter IV\\n\\tCedric greets his hosts with dig...   \n",
       "\n",
       "  book_title     chapters                                       chapter_text  \n",
       "0    Ivanhoe    Chapter I  IvanhoebyWalter Scott\\n\\n\\n\\n\\nPrepared by \"Jo...  \n",
       "1    Ivanhoe   Chapter II  \\n\\n\\nA Monk there was, a fayre for the maistr...  \n",
       "2    Ivanhoe  Chapter III  \\n\\n\\nThen (sad relief!) from the bleak coast ...  \n",
       "3    Ivanhoe   Chapter IV  \\n\\n\\nWith sheep and shaggy goats the porkers ...  "
      ]
     },
     "execution_count": 222,
     "metadata": {},
     "output_type": "execute_result"
    }
   ],
   "source": [
    "iv_df"
   ]
  },
  {
   "cell_type": "markdown",
   "metadata": {},
   "source": [
    "#### Add book to main dataframe"
   ]
  },
  {
   "cell_type": "code",
   "execution_count": 223,
   "metadata": {},
   "outputs": [],
   "source": [
    "main_df = pd.concat([main_df, iv_df])"
   ]
  },
  {
   "cell_type": "code",
   "execution_count": 224,
   "metadata": {},
   "outputs": [
    {
     "data": {
      "text/plain": [
       "254"
      ]
     },
     "execution_count": 224,
     "metadata": {},
     "output_type": "execute_result"
    }
   ],
   "source": [
    "len(main_df)"
   ]
  },
  {
   "cell_type": "markdown",
   "metadata": {},
   "source": [
    "### As You Like It"
   ]
  },
  {
   "cell_type": "markdown",
   "metadata": {},
   "source": [
    "#### Split full text into chapters"
   ]
  },
  {
   "cell_type": "code",
   "execution_count": 225,
   "metadata": {},
   "outputs": [
    {
     "data": {
      "text/plain": [
       "287    Act 1, Scene 1-Act 1, Scene 2\n",
       "288    Act 1, Scene 3-Act 2, Scene 1\n",
       "289    Act 2, Scene 2-Act 2, Scene 3\n",
       "290    Act 2, Scene 4-Act 2, Scene 5\n",
       "291    Act 2, Scene 6-Act 2, Scene 7\n",
       "292    Act 3, Scene 1-Act 3, Scene 2\n",
       "293    Act 3, Scene 3-Act 3, Scene 4\n",
       "294    Act 3, Scene 5-Act 4, Scene 1\n",
       "295    Act 4, Scene 2-Act 4, Scene 3\n",
       "296    Act 5, Scene 1-Act 5, Scene 2\n",
       "297    Act 5, Scene 3-Act 5, Scene 4\n",
       "298                         Epilogue\n",
       "Name: chapters, dtype: object"
      ]
     },
     "execution_count": 225,
     "metadata": {},
     "output_type": "execute_result"
    }
   ],
   "source": [
    "chapters('As You Like It')"
   ]
  },
  {
   "cell_type": "code",
   "execution_count": 226,
   "metadata": {},
   "outputs": [],
   "source": [
    "ayl_act_names = [\n",
    "    'ACT I.',\n",
    "    'ACT II.',\n",
    "    'ACT III.',\n",
    "    'ACT IV',\n",
    "    'ACT V',\n",
    "    'EPILOGUE'\n",
    "]"
   ]
  },
  {
   "cell_type": "code",
   "execution_count": 227,
   "metadata": {},
   "outputs": [],
   "source": [
    "ayl_ch_names_list = []"
   ]
  },
  {
   "cell_type": "code",
   "execution_count": 228,
   "metadata": {},
   "outputs": [],
   "source": [
    "ayl_acts = split_chapters('As You Like It', ayl_act_names)"
   ]
  },
  {
   "cell_type": "code",
   "execution_count": 229,
   "metadata": {},
   "outputs": [],
   "source": [
    "ayl_act1_names =[\n",
    "    'ACT I. SCENE I.',\n",
    "    'SCENE II.',\n",
    "    'SCENE III.'\n",
    "]\n",
    "ayl_ch_names_list.append(ayl_act1_names)\n",
    "\n",
    "\n",
    "ayl_act2_names = [ \n",
    "    'ACT II. SCENE I.',\n",
    "    'SCENE II.',\n",
    "    'SCENE III.',\n",
    "    'SCENE IV.',\n",
    "    'SCENE V.',\n",
    "    'SCENE VI.',\n",
    "    'SCENE VII.',\n",
    "    'SCENE VIII'\n",
    "]\n",
    "ayl_ch_names_list.append(ayl_act2_names)\n",
    "\n",
    "\n",
    "ayl_act3_names = [\n",
    "    'ACT III. SCENE I.',\n",
    "    'SCENE II.',\n",
    "    'SCENE III.',\n",
    "    'SCENE IV.',\n",
    "    'SCENE V.',\n",
    "]\n",
    "ayl_ch_names_list.append(ayl_act3_names)\n",
    "\n",
    "\n",
    "ayl_act4_names = [\n",
    "    'ACT IV. SCENE I.',\n",
    "    'SCENE II.',\n",
    "    'SCENE III.',\n",
    "]\n",
    "ayl_ch_names_list.append(ayl_act4_names)\n",
    "\n",
    "\n",
    "ayl_act5_names = [\n",
    "    'ACT V. SCENE I.',\n",
    "    'SCENE II.',\n",
    "    'SCENE III.',\n",
    "    'SCENE IV.',\n",
    "]\n",
    "ayl_ch_names_list.append(ayl_act5_names)"
   ]
  },
  {
   "cell_type": "code",
   "execution_count": 230,
   "metadata": {},
   "outputs": [],
   "source": [
    "ayl_texts = []\n",
    "for i in range(5): \n",
    "    text = ayl_acts[i]\n",
    "    chapter_names = ayl_ch_names_list[i]\n",
    "    num_chapters = len(chapter_names)\n",
    "\n",
    "    partition_1 = text.partition(chapter_names[1])\n",
    "    chapter_1 = str(partition_1[0])\n",
    "    ayl_texts.append(chapter_1)\n",
    "\n",
    "    for i in range(2, num_chapters):\n",
    "        partition_ch_group = text.partition(chapter_names[i])\n",
    "        partition_ch_subgroup = str(partition_ch_group[0])\n",
    "        partition_ch_sep = partition_ch_subgroup.partition(chapter_names[i-1])\n",
    "        partition_ch = str(partition_ch_sep[2])\n",
    "        ayl_texts.append(partition_ch)\n",
    "\n",
    "    partition_last = text.partition(chapter_names[num_chapters-1])\n",
    "    chapter_last = str(partition_last[2])\n",
    "    ayl_texts.append(chapter_last)"
   ]
  },
  {
   "cell_type": "code",
   "execution_count": 231,
   "metadata": {},
   "outputs": [
    {
     "data": {
      "text/plain": [
       "\"\\n                           EPILOGUE.\\n  ROSALIND. It is not the fashion to see the lady the epilogue;\\nbut\\n    it is no more unhandsome than to see the lord the prologue.\\nIf it\\n    be true that good wine needs no bush, 'tis true that a good\\nplay\\n    needs no epilogue. Yet to good wine they do use good bushes;\\nand\\n    good plays prove the better by the help of good epilogues.\\nWhat a\\n    case am I in then, that am neither a good epilogue, nor\\ncannot\\n    insinuate with you in the behalf of a good play! I am not\\n    furnish'd like a beggar; therefore to beg will not become me.\\nMy\\n    way is to conjure you; and I'll begin with the women. I\\ncharge\\n    you, O women, for the love you bear to men, to like as much\\nof\\n    this play as please you; and I charge you, O men, for the\\nlove\\n    you bear to women- as I perceive by your simp'ring none of\\nyou\\n    hates them- that between you and the women the play may\\nplease.\\n    If I were a woman, I would kiss as many of you as had beards\\nthat\\n    pleas'd me, complexions that lik'd me, and breaths that I\\ndefied\\n    not; and, I am sure, as many as have good beards, or good\\nfaces,\\n    or sweet breaths, will, for my kind offer, when I make\\ncurtsy,\\n    bid me farewell.\\n\\nTHE END\""
      ]
     },
     "execution_count": 231,
     "metadata": {},
     "output_type": "execute_result"
    }
   ],
   "source": [
    "ayl_acts[5]"
   ]
  },
  {
   "cell_type": "code",
   "execution_count": 232,
   "metadata": {},
   "outputs": [],
   "source": [
    "ayl_texts.append(ayl_acts[5])"
   ]
  },
  {
   "cell_type": "markdown",
   "metadata": {},
   "source": [
    "#### Create dataframe with chapter titles, chapter summaries, book title, chapter names, and chapter texts"
   ]
  },
  {
   "cell_type": "code",
   "execution_count": 233,
   "metadata": {},
   "outputs": [
    {
     "data": {
      "text/html": [
       "<div>\n",
       "<style scoped>\n",
       "    .dataframe tbody tr th:only-of-type {\n",
       "        vertical-align: middle;\n",
       "    }\n",
       "\n",
       "    .dataframe tbody tr th {\n",
       "        vertical-align: top;\n",
       "    }\n",
       "\n",
       "    .dataframe thead th {\n",
       "        text-align: right;\n",
       "    }\n",
       "</style>\n",
       "<table border=\"1\" class=\"dataframe\">\n",
       "  <thead>\n",
       "    <tr style=\"text-align: right;\">\n",
       "      <th></th>\n",
       "      <th>chapter_title</th>\n",
       "      <th>chapter_summary</th>\n",
       "      <th>book_title</th>\n",
       "      <th>chapters</th>\n",
       "    </tr>\n",
       "  </thead>\n",
       "  <tbody>\n",
       "    <tr>\n",
       "      <th>287</th>\n",
       "      <td>As You Like It: Novel Summary: Act 1, Scene 1-...</td>\n",
       "      <td>Act 1, Scene 1: Orlando, the youngest son of S...</td>\n",
       "      <td>As You Like It</td>\n",
       "      <td>Act 1, Scene 1-Act 1, Scene 2</td>\n",
       "    </tr>\n",
       "    <tr>\n",
       "      <th>288</th>\n",
       "      <td>As You Like It: Novel Summary: Act 1, Scene 3-...</td>\n",
       "      <td>Act 1, Scene 3: Celia asks Rosalind what is on...</td>\n",
       "      <td>As You Like It</td>\n",
       "      <td>Act 1, Scene 3-Act 2, Scene 1</td>\n",
       "    </tr>\n",
       "    <tr>\n",
       "      <th>289</th>\n",
       "      <td>As You Like It: Novel Summary: Act 2, Scene 2-...</td>\n",
       "      <td>Act 2, Scene 2: Duke Frederick finds that Celi...</td>\n",
       "      <td>As You Like It</td>\n",
       "      <td>Act 2, Scene 2-Act 2, Scene 3</td>\n",
       "    </tr>\n",
       "    <tr>\n",
       "      <th>290</th>\n",
       "      <td>As You Like It: Novel Summary: Act 2, Scene 4-...</td>\n",
       "      <td>Act 2, Scene 4: Rosalind, dressed as the boy G...</td>\n",
       "      <td>As You Like It</td>\n",
       "      <td>Act 2, Scene 4-Act 2, Scene 5</td>\n",
       "    </tr>\n",
       "    <tr>\n",
       "      <th>291</th>\n",
       "      <td>As You Like It: Novel Summary: Act 2, Scene 6-...</td>\n",
       "      <td>Act 2, Scene 6: Adam and Orlando are in Arden ...</td>\n",
       "      <td>As You Like It</td>\n",
       "      <td>Act 2, Scene 6-Act 2, Scene 7</td>\n",
       "    </tr>\n",
       "    <tr>\n",
       "      <th>292</th>\n",
       "      <td>As You Like It: Novel Summary: Act 3, Scene 1-...</td>\n",
       "      <td>Act 3, Scene 1: Duke Frederick tells Oliver he...</td>\n",
       "      <td>As You Like It</td>\n",
       "      <td>Act 3, Scene 1-Act 3, Scene 2</td>\n",
       "    </tr>\n",
       "    <tr>\n",
       "      <th>293</th>\n",
       "      <td>As You Like It: Novel Summary: Act 3, Scene 3-...</td>\n",
       "      <td>Act 3, Scene 3: Touchstone decides that he wan...</td>\n",
       "      <td>As You Like It</td>\n",
       "      <td>Act 3, Scene 3-Act 3, Scene 4</td>\n",
       "    </tr>\n",
       "    <tr>\n",
       "      <th>294</th>\n",
       "      <td>As You Like It: Novel Summary: Act 3, Scene 5-...</td>\n",
       "      <td>Act 3, Scene 5: Silvius and Phoebe sit talking...</td>\n",
       "      <td>As You Like It</td>\n",
       "      <td>Act 3, Scene 5-Act 4, Scene 1</td>\n",
       "    </tr>\n",
       "    <tr>\n",
       "      <th>295</th>\n",
       "      <td>As You Like It: Novel Summary: Act 4, Scene 2-...</td>\n",
       "      <td>Act 4, Scene 2: The Duke's men celebrate that ...</td>\n",
       "      <td>As You Like It</td>\n",
       "      <td>Act 4, Scene 2-Act 4, Scene 3</td>\n",
       "    </tr>\n",
       "    <tr>\n",
       "      <th>296</th>\n",
       "      <td>As You Like It: Novel Summary: Act 5, Scene 1-...</td>\n",
       "      <td>Act 5, Scene 1: Touchstone and Audrey are toge...</td>\n",
       "      <td>As You Like It</td>\n",
       "      <td>Act 5, Scene 1-Act 5, Scene 2</td>\n",
       "    </tr>\n",
       "    <tr>\n",
       "      <th>297</th>\n",
       "      <td>As You Like It: Novel Summary: Act 5, Scene 3-...</td>\n",
       "      <td>Act 5, Scene 3: Touchstone and Audrey, who are...</td>\n",
       "      <td>As You Like It</td>\n",
       "      <td>Act 5, Scene 3-Act 5, Scene 4</td>\n",
       "    </tr>\n",
       "    <tr>\n",
       "      <th>298</th>\n",
       "      <td>As You Like It: Novel Summary: Epilogue</td>\n",
       "      <td>Epilogue: Rosalind enters as the boy actor who...</td>\n",
       "      <td>As You Like It</td>\n",
       "      <td>Epilogue</td>\n",
       "    </tr>\n",
       "  </tbody>\n",
       "</table>\n",
       "</div>"
      ],
      "text/plain": [
       "                                         chapter_title  \\\n",
       "287  As You Like It: Novel Summary: Act 1, Scene 1-...   \n",
       "288  As You Like It: Novel Summary: Act 1, Scene 3-...   \n",
       "289  As You Like It: Novel Summary: Act 2, Scene 2-...   \n",
       "290  As You Like It: Novel Summary: Act 2, Scene 4-...   \n",
       "291  As You Like It: Novel Summary: Act 2, Scene 6-...   \n",
       "292  As You Like It: Novel Summary: Act 3, Scene 1-...   \n",
       "293  As You Like It: Novel Summary: Act 3, Scene 3-...   \n",
       "294  As You Like It: Novel Summary: Act 3, Scene 5-...   \n",
       "295  As You Like It: Novel Summary: Act 4, Scene 2-...   \n",
       "296  As You Like It: Novel Summary: Act 5, Scene 1-...   \n",
       "297  As You Like It: Novel Summary: Act 5, Scene 3-...   \n",
       "298            As You Like It: Novel Summary: Epilogue   \n",
       "\n",
       "                                       chapter_summary      book_title  \\\n",
       "287  Act 1, Scene 1: Orlando, the youngest son of S...  As You Like It   \n",
       "288  Act 1, Scene 3: Celia asks Rosalind what is on...  As You Like It   \n",
       "289  Act 2, Scene 2: Duke Frederick finds that Celi...  As You Like It   \n",
       "290  Act 2, Scene 4: Rosalind, dressed as the boy G...  As You Like It   \n",
       "291  Act 2, Scene 6: Adam and Orlando are in Arden ...  As You Like It   \n",
       "292  Act 3, Scene 1: Duke Frederick tells Oliver he...  As You Like It   \n",
       "293  Act 3, Scene 3: Touchstone decides that he wan...  As You Like It   \n",
       "294  Act 3, Scene 5: Silvius and Phoebe sit talking...  As You Like It   \n",
       "295  Act 4, Scene 2: The Duke's men celebrate that ...  As You Like It   \n",
       "296  Act 5, Scene 1: Touchstone and Audrey are toge...  As You Like It   \n",
       "297  Act 5, Scene 3: Touchstone and Audrey, who are...  As You Like It   \n",
       "298  Epilogue: Rosalind enters as the boy actor who...  As You Like It   \n",
       "\n",
       "                          chapters  \n",
       "287  Act 1, Scene 1-Act 1, Scene 2  \n",
       "288  Act 1, Scene 3-Act 2, Scene 1  \n",
       "289  Act 2, Scene 2-Act 2, Scene 3  \n",
       "290  Act 2, Scene 4-Act 2, Scene 5  \n",
       "291  Act 2, Scene 6-Act 2, Scene 7  \n",
       "292  Act 3, Scene 1-Act 3, Scene 2  \n",
       "293  Act 3, Scene 3-Act 3, Scene 4  \n",
       "294  Act 3, Scene 5-Act 4, Scene 1  \n",
       "295  Act 4, Scene 2-Act 4, Scene 3  \n",
       "296  Act 5, Scene 1-Act 5, Scene 2  \n",
       "297  Act 5, Scene 3-Act 5, Scene 4  \n",
       "298                       Epilogue  "
      ]
     },
     "execution_count": 233,
     "metadata": {},
     "output_type": "execute_result"
    }
   ],
   "source": [
    "ayl_df = start_df('As You Like It')\n",
    "ayl_df"
   ]
  },
  {
   "cell_type": "code",
   "execution_count": 234,
   "metadata": {},
   "outputs": [
    {
     "data": {
      "text/plain": [
       "24"
      ]
     },
     "execution_count": 234,
     "metadata": {},
     "output_type": "execute_result"
    }
   ],
   "source": [
    "len(ayl_texts)"
   ]
  },
  {
   "cell_type": "code",
   "execution_count": 235,
   "metadata": {},
   "outputs": [],
   "source": [
    "ayl_df['chapter_text'] = [\n",
    "    ' '.join(ayl_texts[0:1]),\n",
    "    ' '.join(ayl_texts[2:3]),\n",
    "    ' '.join(ayl_texts[4:5]),\n",
    "    ' '.join(ayl_texts[6:7]),\n",
    "    ' '.join(ayl_texts[8:9]),\n",
    "    ' '.join(ayl_texts[10:11]),\n",
    "    ' '.join(ayl_texts[12:13]),\n",
    "    ' '.join(ayl_texts[14:15]),\n",
    "    ' '.join(ayl_texts[16:17]),\n",
    "    ' '.join(ayl_texts[18:19]),\n",
    "    ' '.join(ayl_texts[20:21]),\n",
    "    ayl_texts[22]\n",
    "]"
   ]
  },
  {
   "cell_type": "markdown",
   "metadata": {},
   "source": [
    "#### Add book to main dataframe"
   ]
  },
  {
   "cell_type": "code",
   "execution_count": 236,
   "metadata": {},
   "outputs": [],
   "source": [
    "main_df = pd.concat([main_df, ayl_df])"
   ]
  },
  {
   "cell_type": "code",
   "execution_count": 237,
   "metadata": {},
   "outputs": [
    {
     "data": {
      "text/plain": [
       "266"
      ]
     },
     "execution_count": 237,
     "metadata": {},
     "output_type": "execute_result"
    }
   ],
   "source": [
    "len(main_df)"
   ]
  },
  {
   "cell_type": "markdown",
   "metadata": {},
   "source": [
    "### The Jungle"
   ]
  },
  {
   "cell_type": "markdown",
   "metadata": {},
   "source": [
    "#### Split full text into chapters"
   ]
  },
  {
   "cell_type": "code",
   "execution_count": 238,
   "metadata": {},
   "outputs": [
    {
     "data": {
      "text/plain": [
       "299    The Jungle: Novel Summary\n",
       "Name: chapters, dtype: object"
      ]
     },
     "execution_count": 238,
     "metadata": {},
     "output_type": "execute_result"
    }
   ],
   "source": [
    "chapters('The Jungle')"
   ]
  },
  {
   "cell_type": "code",
   "execution_count": 239,
   "metadata": {},
   "outputs": [
    {
     "data": {
      "text/plain": [
       "'\\n\\nSummary\\nThe Jungle begins with Marija Berczynskas overseeing and organizing a wedding ceremony in the ‘back of the yards’ in Chicago. She is Lithuanian and today her cousin, Ona Lukoszaite, has just married fellow Lithuanian Jurgis Rudkus. Ona is not quite sixteen and the readers are told her new husband is able to carry a two hundred and fifty pound quarter of beef without staggering, but he is as ‘frightened as a hunted animal’ at the wedding celebrations.\\n\\tA ‘charming informality’ is one of the characteristics of this celebration, but it is a law (transplanted from Lithuania) that no one leaves hungry. Ona’s stepmother is Aunt Elizabeth, and is referred to as Teta Elzbieta, and she and other women bring masses of food through to the guests.\\n\\tThere is also music being played and this transforms the place from a saloon ‘to a fairy place, a wonderland, a little corner of the high mansions of the sky’. The violinist is Tamoszius Kuszleika and he later gets engaged to Marija. Ona is spared from crying too much (with happiness) by listening to Marija teach the musicians a song they do not know. She is described as a powerful woman who works in a canning factory handling fourteen-pound cans of beef.\\n\\tFollowing this, Antanas (Jurgis’s father) gives a speech. He is sixty years old, but looks eighty. He and the rest of the family have only been in the United States for six months, but this is already affecting him adversely. He works in the pickle rooms at Durham’s and this is damaging his chest.\\n\\tThe music begins again and the guests dance along. The older ones wear some item of clothing that is from their homeland, but the younger people avoid doing this. These younger people have assimilated more than their elders. Some of the dancers are described, such as Alena Jasaityte. She is the ‘beauty of the evening’ and paints cans all week in a factory.\\n\\tThe next event is one of the most important of the evening. This is the acziavimas, which is a three or four hour uninterrupted dance and each guest dances and leaves money for the bride and groom. The wedding costs two even three hundred dollars and this is more than a man’s wages for a year. The vesilija is a form of compact where the guests eat and drink as much as they desire, but also give the married couple money. This tradition is changing in the ‘new country’, though, and some are leaving without donating anything. Jurgis says not to worry as he will work harder to pay the bills for the wedding.\\n\\tChapter Two begins by explaining how Jurgis is still young and optimistic, and talks lightly about work. He is also naïve and has never lived in a city before. He met Ona and her family in Lithuania and her father initially refused him permission to marry her. Jurgis went back to see her a year later to ask again only to find her father had died and the family were now impoverished. This family now consisted of Ona, Teta Elzbieta, her six children and Ona’s brother Jonas. They all believed that coming to the United States would give them freedom and more opportunities. Before they set off, and at the last moment, Marija also decides to join them.\\n\\tWhen they arrive in the Packingtown district in Chicago, the smell of the stockyards greets them first. They are almost penniless once they reach here after being taken advantage of in New York (as they are clearly immigrants and know no English). They all stay at Aniele Jukniene’s home as she takes in lodgers. This is already overcrowded and ‘unthinkably filthy’. There are lots of children in the area, but no school and there is a fetid odor because this part of town is built on the city dump. Despite these conditions, Ona and Jurgis look out at Packingtown in awe.\\n\\tIn Chapter Three, Jokubas, a fellow Lithuanian who runs a delicatessen, shows them around the area. The cattle pens alone take up half of a square mile. He takes them to Durham’s and shows them a room where hogs are killed and the sound of their pitiful shrieks is given in detail. Their deaths are also depicted; a chain is attached to one of their legs and they are swung on this chain before being killed. The factory is described as such: ‘It was porkmaking by machinery, porkmaking by applied mathematics.’ The narrative continues to describe the unpleasant conditions and how the inspectors are lax in checking the hogs for tuberculosis.\\n\\tDescriptions then ensue of the killing of cattle and of how nothing of the animals is wasted at Durham’s. They are thought to furnish food for thirty million people. At this early time in the narrative, Jurgis thinks the workers should be grateful to have positions with such a company and is described as guileless.\\n\\tHis first work is with Durham’s rivals, Brown’s. The bosses quickly choose him when he first waits for work, because he is young and has a large stature. Because of his naivety, he is unable to see that he is lucky to have been picked.\\nAnalysis\\n\\tChapter One begins with the marriage of Ona and Jurgis and from Chapter Two to Chapter Seven the narrative takes the readers back to explain how the families arrived and settled in the United States, and how they saved for the wedding to take place.\\n\\tChapter One is primarily concerned with describing how Ona and Jurgis are marrying in a traditionally Lithuanian way, and how these customs are being eroded for the worse in this new country. In the United States, the guests are less willing to pay after eating and drinking as much as possible. By beginning in such a way, the novel emphasizes immediately how the United States is having a detrimental effect on earlier traditions and how the cracks in the family’s American Dream are beginning to appear after being in this country for only a few months.\\n\\tChapters Two and Three trace back to six months ago to when Jurgis and his father and Ona and her family came to the United States with hopes for a better future. The narrative is careful to reiterate how they innocently presumed that life would improve. This is most evident in the depiction of the central character, Jurgis, who at this early time still believes that he will be treated fairly. He is depicted as honest and willing to work, and it is also evident that he is naïve in the practices of the packers (the firms who kill the animals and produce the meat and by-products). He is in awe of companies such as Durham’s and Brown’s and is unable to see that he has only been chosen to work because of his age and build and neither of these advantages will last long with the hard work he has to undertake.\\n'"
      ]
     },
     "execution_count": 239,
     "metadata": {},
     "output_type": "execute_result"
    }
   ],
   "source": [
    "start_df('The Jungle').iloc[0]['chapter_summary']"
   ]
  },
  {
   "cell_type": "markdown",
   "metadata": {},
   "source": [
    "This text contains a summary of chapters 1-3 and an analysis. The summary portions will be used in the data set"
   ]
  },
  {
   "cell_type": "code",
   "execution_count": 240,
   "metadata": {},
   "outputs": [],
   "source": [
    "j_text = open('./data/book_full_texts/The_Jungle.txt', 'r').read()"
   ]
  },
  {
   "cell_type": "code",
   "execution_count": 241,
   "metadata": {},
   "outputs": [],
   "source": [
    "j_chap1 = j_text.partition('Chapter 2')[0]"
   ]
  },
  {
   "cell_type": "code",
   "execution_count": 242,
   "metadata": {},
   "outputs": [],
   "source": [
    "j_chap2 = str(j_text.partition('Chapter 2')[2]).partition('Chapter 3')[0]"
   ]
  },
  {
   "cell_type": "code",
   "execution_count": 243,
   "metadata": {},
   "outputs": [],
   "source": [
    "j_chap3 = str(j_text.partition('Chapter 3')[2]).partition('Chapter 4')[0]"
   ]
  },
  {
   "cell_type": "markdown",
   "metadata": {},
   "source": [
    "#### Create dataframe with chapter titles, chapter summaries, book title, chapter names, and chapter texts"
   ]
  },
  {
   "cell_type": "code",
   "execution_count": 244,
   "metadata": {},
   "outputs": [
    {
     "data": {
      "text/html": [
       "<div>\n",
       "<style scoped>\n",
       "    .dataframe tbody tr th:only-of-type {\n",
       "        vertical-align: middle;\n",
       "    }\n",
       "\n",
       "    .dataframe tbody tr th {\n",
       "        vertical-align: top;\n",
       "    }\n",
       "\n",
       "    .dataframe thead th {\n",
       "        text-align: right;\n",
       "    }\n",
       "</style>\n",
       "<table border=\"1\" class=\"dataframe\">\n",
       "  <thead>\n",
       "    <tr style=\"text-align: right;\">\n",
       "      <th></th>\n",
       "      <th>chapter_title</th>\n",
       "      <th>chapter_summary</th>\n",
       "      <th>book_title</th>\n",
       "      <th>chapters</th>\n",
       "    </tr>\n",
       "  </thead>\n",
       "  <tbody>\n",
       "    <tr>\n",
       "      <th>299</th>\n",
       "      <td>The Jungle: Novel Summary</td>\n",
       "      <td>\\n\\nSummary\\nThe Jungle begins with Marija Ber...</td>\n",
       "      <td>The Jungle</td>\n",
       "      <td>The Jungle: Novel Summary</td>\n",
       "    </tr>\n",
       "  </tbody>\n",
       "</table>\n",
       "</div>"
      ],
      "text/plain": [
       "                 chapter_title  \\\n",
       "299  The Jungle: Novel Summary   \n",
       "\n",
       "                                       chapter_summary  book_title  \\\n",
       "299  \\n\\nSummary\\nThe Jungle begins with Marija Ber...  The Jungle   \n",
       "\n",
       "                      chapters  \n",
       "299  The Jungle: Novel Summary  "
      ]
     },
     "execution_count": 244,
     "metadata": {},
     "output_type": "execute_result"
    }
   ],
   "source": [
    "start_df('The Jungle')"
   ]
  },
  {
   "cell_type": "code",
   "execution_count": 245,
   "metadata": {},
   "outputs": [],
   "source": [
    "tj_summary = str(start_df('The Jungle').iloc[0]['chapter_summary'])\n",
    "\n",
    "tj_chap_summaries = [\n",
    "    tj_summary.partition('Chapter Two')[0],\n",
    "    str(tj_summary.partition('Chapter Two')[2]).partition('In Chapter Three,')[0],\n",
    "    str(tj_summary.partition('In Chapter Three,')[2]).partition('Analysis')[0]\n",
    "]"
   ]
  },
  {
   "cell_type": "code",
   "execution_count": 246,
   "metadata": {},
   "outputs": [],
   "source": [
    "tj = {\n",
    "    'chapter_title':['The Jungle: Novel Summary Chapter I', 'The Jungle: Novel Summary Chapter II', 'The Jungle: Novel Summary Chapter III'],\n",
    "    'chapter_summary':tj_chap_summaries,\n",
    "    'book_title':['The Jungle', 'The Jungle', 'The Jungle'],\n",
    "    'chapters':['Chapter I', 'Chapter II', 'Chapter III'],\n",
    "    'chapter_text':[j_chap1, j_chap2, j_chap3]\n",
    "}"
   ]
  },
  {
   "cell_type": "code",
   "execution_count": 247,
   "metadata": {},
   "outputs": [
    {
     "data": {
      "text/html": [
       "<div>\n",
       "<style scoped>\n",
       "    .dataframe tbody tr th:only-of-type {\n",
       "        vertical-align: middle;\n",
       "    }\n",
       "\n",
       "    .dataframe tbody tr th {\n",
       "        vertical-align: top;\n",
       "    }\n",
       "\n",
       "    .dataframe thead th {\n",
       "        text-align: right;\n",
       "    }\n",
       "</style>\n",
       "<table border=\"1\" class=\"dataframe\">\n",
       "  <thead>\n",
       "    <tr style=\"text-align: right;\">\n",
       "      <th></th>\n",
       "      <th>chapter_title</th>\n",
       "      <th>chapter_summary</th>\n",
       "      <th>book_title</th>\n",
       "      <th>chapters</th>\n",
       "      <th>chapter_text</th>\n",
       "    </tr>\n",
       "  </thead>\n",
       "  <tbody>\n",
       "    <tr>\n",
       "      <th>0</th>\n",
       "      <td>The Jungle: Novel Summary Chapter I</td>\n",
       "      <td>\\n\\nSummary\\nThe Jungle begins with Marija Ber...</td>\n",
       "      <td>The Jungle</td>\n",
       "      <td>Chapter I</td>\n",
       "      <td>The Jungle, by Upton Sinclair\\n\\n\\n\\nThe Jungl...</td>\n",
       "    </tr>\n",
       "    <tr>\n",
       "      <th>1</th>\n",
       "      <td>The Jungle: Novel Summary Chapter II</td>\n",
       "      <td>begins by explaining how Jurgis is still youn...</td>\n",
       "      <td>The Jungle</td>\n",
       "      <td>Chapter II</td>\n",
       "      <td>\\n\\n\\nJurgis talked lightly about work, becau...</td>\n",
       "    </tr>\n",
       "    <tr>\n",
       "      <th>2</th>\n",
       "      <td>The Jungle: Novel Summary Chapter III</td>\n",
       "      <td>Jokubas, a fellow Lithuanian who runs a delic...</td>\n",
       "      <td>The Jungle</td>\n",
       "      <td>Chapter III</td>\n",
       "      <td>\\n\\n\\nIn his capacity as delicatessen vender,...</td>\n",
       "    </tr>\n",
       "  </tbody>\n",
       "</table>\n",
       "</div>"
      ],
      "text/plain": [
       "                           chapter_title  \\\n",
       "0    The Jungle: Novel Summary Chapter I   \n",
       "1   The Jungle: Novel Summary Chapter II   \n",
       "2  The Jungle: Novel Summary Chapter III   \n",
       "\n",
       "                                     chapter_summary  book_title     chapters  \\\n",
       "0  \\n\\nSummary\\nThe Jungle begins with Marija Ber...  The Jungle    Chapter I   \n",
       "1   begins by explaining how Jurgis is still youn...  The Jungle   Chapter II   \n",
       "2   Jokubas, a fellow Lithuanian who runs a delic...  The Jungle  Chapter III   \n",
       "\n",
       "                                        chapter_text  \n",
       "0  The Jungle, by Upton Sinclair\\n\\n\\n\\nThe Jungl...  \n",
       "1   \\n\\n\\nJurgis talked lightly about work, becau...  \n",
       "2   \\n\\n\\nIn his capacity as delicatessen vender,...  "
      ]
     },
     "execution_count": 247,
     "metadata": {},
     "output_type": "execute_result"
    }
   ],
   "source": [
    "tj_df = pd.DataFrame(tj)\n",
    "tj_df"
   ]
  },
  {
   "cell_type": "markdown",
   "metadata": {},
   "source": [
    "#### Add book to main dataframe"
   ]
  },
  {
   "cell_type": "code",
   "execution_count": 248,
   "metadata": {},
   "outputs": [],
   "source": [
    "main_df = pd.concat([main_df, tj_df])"
   ]
  },
  {
   "cell_type": "code",
   "execution_count": 249,
   "metadata": {},
   "outputs": [
    {
     "data": {
      "text/plain": [
       "269"
      ]
     },
     "execution_count": 249,
     "metadata": {},
     "output_type": "execute_result"
    }
   ],
   "source": [
    "len(main_df)"
   ]
  },
  {
   "cell_type": "markdown",
   "metadata": {},
   "source": [
    "### The Red Badge of Courage"
   ]
  },
  {
   "cell_type": "markdown",
   "metadata": {},
   "source": [
    "#### Split full text into chapters"
   ]
  },
  {
   "cell_type": "code",
   "execution_count": 250,
   "metadata": {},
   "outputs": [
    {
     "data": {
      "text/plain": [
       "['The Red Badge of Courage : Novel Summary',\n",
       " 'The Red Badge of Courage : Novel Summary: Chapter 1',\n",
       " 'The Red Badge of Courage : Novel Summary: Chapter 2-4',\n",
       " 'The Red Badge of Courage : Novel Summary: Chapter 5-7',\n",
       " 'The Red Badge of Courage : Novel Summary: Chapter 8-10',\n",
       " 'The Red Badge of Courage : Novel Summary: Chapter 11-12',\n",
       " 'The Red Badge of Courage : Novel Summary: Chapter 13-15',\n",
       " 'The Red Badge of Courage : Novel Summary: Chapter 16-17',\n",
       " 'The Red Badge of Courage : Novel Summary: Chapter 18-19',\n",
       " 'The Red Badge of Courage : Novel Summary: Chapter 20-22',\n",
       " 'The Red Badge of Courage : Novel Summary: Chapter 23-24']"
      ]
     },
     "execution_count": 250,
     "metadata": {},
     "output_type": "execute_result"
    }
   ],
   "source": [
    "list(chapters('The Red Badge of Courage'))"
   ]
  },
  {
   "cell_type": "code",
   "execution_count": 251,
   "metadata": {},
   "outputs": [],
   "source": [
    "rbc_ch_names = []\n",
    "\n",
    "r_numerals = []\n",
    "for i in range(1,25):\n",
    "    r_numerals.append(roman.toRoman(i))\n",
    "\n",
    "for r in r_numerals:\n",
    "    rbc_ch_names.append(f'Chapter {r}')"
   ]
  },
  {
   "cell_type": "code",
   "execution_count": 252,
   "metadata": {},
   "outputs": [],
   "source": [
    "rbc_chap_texts = split_chapters('The Red Badge of Courage', rbc_ch_names)"
   ]
  },
  {
   "cell_type": "markdown",
   "metadata": {},
   "source": [
    "#### Create dataframe with chapter titles, chapter summaries, book title, chapter names, and chapter texts"
   ]
  },
  {
   "cell_type": "code",
   "execution_count": 253,
   "metadata": {},
   "outputs": [
    {
     "data": {
      "text/html": [
       "<div>\n",
       "<style scoped>\n",
       "    .dataframe tbody tr th:only-of-type {\n",
       "        vertical-align: middle;\n",
       "    }\n",
       "\n",
       "    .dataframe tbody tr th {\n",
       "        vertical-align: top;\n",
       "    }\n",
       "\n",
       "    .dataframe thead th {\n",
       "        text-align: right;\n",
       "    }\n",
       "</style>\n",
       "<table border=\"1\" class=\"dataframe\">\n",
       "  <thead>\n",
       "    <tr style=\"text-align: right;\">\n",
       "      <th></th>\n",
       "      <th>chapter_title</th>\n",
       "      <th>chapter_summary</th>\n",
       "      <th>book_title</th>\n",
       "      <th>chapters</th>\n",
       "    </tr>\n",
       "  </thead>\n",
       "  <tbody>\n",
       "    <tr>\n",
       "      <th>300</th>\n",
       "      <td>The Red Badge of Courage : Novel Summary</td>\n",
       "      <td>The story begins at the camp of the Union army...</td>\n",
       "      <td>The Red Badge of Courage</td>\n",
       "      <td>The Red Badge of Courage : Novel Summary</td>\n",
       "    </tr>\n",
       "    <tr>\n",
       "      <th>301</th>\n",
       "      <td>The Red Badge of Courage : Novel Summary: Chap...</td>\n",
       "      <td>The story begins at the camp of the Union army...</td>\n",
       "      <td>The Red Badge of Courage</td>\n",
       "      <td>The Red Badge of Courage : Novel Summary: Chap...</td>\n",
       "    </tr>\n",
       "    <tr>\n",
       "      <th>302</th>\n",
       "      <td>The Red Badge of Courage : Novel Summary: Chap...</td>\n",
       "      <td>The tall soldier’s information proves to be in...</td>\n",
       "      <td>The Red Badge of Courage</td>\n",
       "      <td>The Red Badge of Courage : Novel Summary: Chap...</td>\n",
       "    </tr>\n",
       "    <tr>\n",
       "      <th>303</th>\n",
       "      <td>The Red Badge of Courage : Novel Summary: Chap...</td>\n",
       "      <td>The enemy advances on Henry’s regiment, and th...</td>\n",
       "      <td>The Red Badge of Courage</td>\n",
       "      <td>The Red Badge of Courage : Novel Summary: Chap...</td>\n",
       "    </tr>\n",
       "    <tr>\n",
       "      <th>304</th>\n",
       "      <td>The Red Badge of Courage : Novel Summary: Chap...</td>\n",
       "      <td>When twilight comes, Henry hears renewed sound...</td>\n",
       "      <td>The Red Badge of Courage</td>\n",
       "      <td>The Red Badge of Courage : Novel Summary: Chap...</td>\n",
       "    </tr>\n",
       "    <tr>\n",
       "      <th>305</th>\n",
       "      <td>The Red Badge of Courage : Novel Summary: Chap...</td>\n",
       "      <td>The noise of the battle grows louder and Henry...</td>\n",
       "      <td>The Red Badge of Courage</td>\n",
       "      <td>The Red Badge of Courage : Novel Summary: Chap...</td>\n",
       "    </tr>\n",
       "    <tr>\n",
       "      <th>306</th>\n",
       "      <td>The Red Badge of Courage : Novel Summary: Chap...</td>\n",
       "      <td>Henry makes his way apprehensively to towards ...</td>\n",
       "      <td>The Red Badge of Courage</td>\n",
       "      <td>The Red Badge of Courage : Novel Summary: Chap...</td>\n",
       "    </tr>\n",
       "    <tr>\n",
       "      <th>307</th>\n",
       "      <td>The Red Badge of Courage : Novel Summary: Chap...</td>\n",
       "      <td>Henry’s regiment marches to some trenches to r...</td>\n",
       "      <td>The Red Badge of Courage</td>\n",
       "      <td>The Red Badge of Courage : Novel Summary: Chap...</td>\n",
       "    </tr>\n",
       "    <tr>\n",
       "      <th>308</th>\n",
       "      <td>The Red Badge of Courage : Novel Summary: Chap...</td>\n",
       "      <td>During the lull in their portion of the battle...</td>\n",
       "      <td>The Red Badge of Courage</td>\n",
       "      <td>The Red Badge of Courage : Novel Summary: Chap...</td>\n",
       "    </tr>\n",
       "    <tr>\n",
       "      <th>309</th>\n",
       "      <td>The Red Badge of Courage : Novel Summary: Chap...</td>\n",
       "      <td>Henry and Wilson, as they carry the flag, are ...</td>\n",
       "      <td>The Red Badge of Courage</td>\n",
       "      <td>The Red Badge of Courage : Novel Summary: Chap...</td>\n",
       "    </tr>\n",
       "    <tr>\n",
       "      <th>310</th>\n",
       "      <td>The Red Badge of Courage : Novel Summary: Chap...</td>\n",
       "      <td>The officers call for a charge, and the men re...</td>\n",
       "      <td>The Red Badge of Courage</td>\n",
       "      <td>The Red Badge of Courage : Novel Summary: Chap...</td>\n",
       "    </tr>\n",
       "  </tbody>\n",
       "</table>\n",
       "</div>"
      ],
      "text/plain": [
       "                                         chapter_title  \\\n",
       "300           The Red Badge of Courage : Novel Summary   \n",
       "301  The Red Badge of Courage : Novel Summary: Chap...   \n",
       "302  The Red Badge of Courage : Novel Summary: Chap...   \n",
       "303  The Red Badge of Courage : Novel Summary: Chap...   \n",
       "304  The Red Badge of Courage : Novel Summary: Chap...   \n",
       "305  The Red Badge of Courage : Novel Summary: Chap...   \n",
       "306  The Red Badge of Courage : Novel Summary: Chap...   \n",
       "307  The Red Badge of Courage : Novel Summary: Chap...   \n",
       "308  The Red Badge of Courage : Novel Summary: Chap...   \n",
       "309  The Red Badge of Courage : Novel Summary: Chap...   \n",
       "310  The Red Badge of Courage : Novel Summary: Chap...   \n",
       "\n",
       "                                       chapter_summary  \\\n",
       "300  The story begins at the camp of the Union army...   \n",
       "301  The story begins at the camp of the Union army...   \n",
       "302  The tall soldier’s information proves to be in...   \n",
       "303  The enemy advances on Henry’s regiment, and th...   \n",
       "304  When twilight comes, Henry hears renewed sound...   \n",
       "305  The noise of the battle grows louder and Henry...   \n",
       "306  Henry makes his way apprehensively to towards ...   \n",
       "307  Henry’s regiment marches to some trenches to r...   \n",
       "308  During the lull in their portion of the battle...   \n",
       "309  Henry and Wilson, as they carry the flag, are ...   \n",
       "310  The officers call for a charge, and the men re...   \n",
       "\n",
       "                   book_title  \\\n",
       "300  The Red Badge of Courage   \n",
       "301  The Red Badge of Courage   \n",
       "302  The Red Badge of Courage   \n",
       "303  The Red Badge of Courage   \n",
       "304  The Red Badge of Courage   \n",
       "305  The Red Badge of Courage   \n",
       "306  The Red Badge of Courage   \n",
       "307  The Red Badge of Courage   \n",
       "308  The Red Badge of Courage   \n",
       "309  The Red Badge of Courage   \n",
       "310  The Red Badge of Courage   \n",
       "\n",
       "                                              chapters  \n",
       "300           The Red Badge of Courage : Novel Summary  \n",
       "301  The Red Badge of Courage : Novel Summary: Chap...  \n",
       "302  The Red Badge of Courage : Novel Summary: Chap...  \n",
       "303  The Red Badge of Courage : Novel Summary: Chap...  \n",
       "304  The Red Badge of Courage : Novel Summary: Chap...  \n",
       "305  The Red Badge of Courage : Novel Summary: Chap...  \n",
       "306  The Red Badge of Courage : Novel Summary: Chap...  \n",
       "307  The Red Badge of Courage : Novel Summary: Chap...  \n",
       "308  The Red Badge of Courage : Novel Summary: Chap...  \n",
       "309  The Red Badge of Courage : Novel Summary: Chap...  \n",
       "310  The Red Badge of Courage : Novel Summary: Chap...  "
      ]
     },
     "execution_count": 253,
     "metadata": {},
     "output_type": "execute_result"
    }
   ],
   "source": [
    "rbc_df = start_df('The Red Badge of Courage')\n",
    "rbc_df"
   ]
  },
  {
   "cell_type": "code",
   "execution_count": 254,
   "metadata": {},
   "outputs": [],
   "source": [
    "rbc_df.drop(index=300, inplace=True)"
   ]
  },
  {
   "cell_type": "code",
   "execution_count": 255,
   "metadata": {},
   "outputs": [
    {
     "data": {
      "text/plain": [
       "['The Red Badge of Courage : Novel Summary',\n",
       " 'The Red Badge of Courage : Novel Summary: Chapter 1',\n",
       " 'The Red Badge of Courage : Novel Summary: Chapter 2-4',\n",
       " 'The Red Badge of Courage : Novel Summary: Chapter 5-7',\n",
       " 'The Red Badge of Courage : Novel Summary: Chapter 8-10',\n",
       " 'The Red Badge of Courage : Novel Summary: Chapter 11-12',\n",
       " 'The Red Badge of Courage : Novel Summary: Chapter 13-15',\n",
       " 'The Red Badge of Courage : Novel Summary: Chapter 16-17',\n",
       " 'The Red Badge of Courage : Novel Summary: Chapter 18-19',\n",
       " 'The Red Badge of Courage : Novel Summary: Chapter 20-22',\n",
       " 'The Red Badge of Courage : Novel Summary: Chapter 23-24']"
      ]
     },
     "execution_count": 255,
     "metadata": {},
     "output_type": "execute_result"
    }
   ],
   "source": [
    "list(chapters('The Red Badge of Courage'))"
   ]
  },
  {
   "cell_type": "code",
   "execution_count": 256,
   "metadata": {},
   "outputs": [],
   "source": [
    "rbc_df['chapter_text'] = [\n",
    "    rbc_chap_texts[0],\n",
    "    ' '.join(rbc_chap_texts[1:3]),\n",
    "    ' '.join(rbc_chap_texts[4:6]),\n",
    "    ' '.join(rbc_chap_texts[7:9]),\n",
    "    ' '.join(rbc_chap_texts[10:11]),\n",
    "    ' '.join(rbc_chap_texts[12:14]),\n",
    "    ' '.join(rbc_chap_texts[15:16]),\n",
    "    ' '.join(rbc_chap_texts[17:18]),\n",
    "    ' '.join(rbc_chap_texts[19:21]),\n",
    "    ' '.join(rbc_chap_texts[22:23]),\n",
    "]"
   ]
  },
  {
   "cell_type": "markdown",
   "metadata": {},
   "source": [
    "#### Add book to main dataframe"
   ]
  },
  {
   "cell_type": "code",
   "execution_count": 257,
   "metadata": {},
   "outputs": [],
   "source": [
    "main_df = pd.concat([main_df, rbc_df])"
   ]
  },
  {
   "cell_type": "code",
   "execution_count": 258,
   "metadata": {},
   "outputs": [
    {
     "data": {
      "text/plain": [
       "279"
      ]
     },
     "execution_count": 258,
     "metadata": {},
     "output_type": "execute_result"
    }
   ],
   "source": [
    "len(main_df)"
   ]
  },
  {
   "cell_type": "markdown",
   "metadata": {},
   "source": [
    "### Notes from the Underground"
   ]
  },
  {
   "cell_type": "markdown",
   "metadata": {},
   "source": [
    "#### Split full text into chapters"
   ]
  },
  {
   "cell_type": "code",
   "execution_count": 259,
   "metadata": {},
   "outputs": [
    {
     "data": {
      "text/plain": [
       "311     Part 1 Chapter 1-Part 1 Chapter 2\n",
       "312     Part 1 Chapter 3-Part 1 Chapter 4\n",
       "313     Part 1 Chapter 5-Part 1 Chapter 6\n",
       "314     Part 1 Chapter 7-Part 1 Chapter 8\n",
       "315    Part 1 Chapter 9-Part 1 Chapter 10\n",
       "316    Part 1 Chapter 11-Part 2 Chapter 1\n",
       "317     Part 2 Chapter 2-Part 2 Chapter 3\n",
       "318     Part 2 Chapter 4-Part 2 Chapter 5\n",
       "319     Part 2 Chapter 6-Part 2 Chapter 7\n",
       "320     Part 2 Chapter 8-Part 2 Chapter 9\n",
       "321                     Part 2 Chapter 10\n",
       "Name: chapters, dtype: object"
      ]
     },
     "execution_count": 259,
     "metadata": {},
     "output_type": "execute_result"
    }
   ],
   "source": [
    "chapters('Notes from the Underground')"
   ]
  },
  {
   "cell_type": "code",
   "execution_count": 260,
   "metadata": {},
   "outputs": [],
   "source": [
    "nfu_part_names = [\n",
    "    'PART I',\n",
    "    'PART II'\n",
    "]"
   ]
  },
  {
   "cell_type": "code",
   "execution_count": 261,
   "metadata": {},
   "outputs": [],
   "source": [
    "nfu_ch_names_list = []"
   ]
  },
  {
   "cell_type": "code",
   "execution_count": 262,
   "metadata": {},
   "outputs": [],
   "source": [
    "nfu_parts = split_chapters('Notes from the Underground', nfu_part_names)"
   ]
  },
  {
   "cell_type": "code",
   "execution_count": 263,
   "metadata": {},
   "outputs": [],
   "source": [
    "nfu_part1_names =[\n",
    "    'AUTHOR\\'S NOTE.',  #this phrased used instead because name of first chapter ('I') is not a unique marker in the first portion of the text\n",
    "    'II',\n",
    "    'III',\n",
    "    'IV',\n",
    "    'V',\n",
    "    'VI',\n",
    "    'VII',\n",
    "    'VIII',\n",
    "    'IX',\n",
    "    'X',\n",
    "    'XI'\n",
    "]\n",
    "nfu_ch_names_list.append(nfu_part1_names)\n",
    "\n",
    "\n",
    "nfu_part2_names = [ \n",
    "    '(translated by Juliet Soskice).',   #this phrased used instead because name of first chapter ('I') is not a unique marker in the first portion of the text\n",
    "    'II',\n",
    "    'III',\n",
    "    'IV',\n",
    "    'V',\n",
    "    'VI',\n",
    "    'VII',\n",
    "    'VIII',\n",
    "    'IX',\n",
    "    'X'\n",
    "]\n",
    "nfu_ch_names_list.append(nfu_part2_names)"
   ]
  },
  {
   "cell_type": "code",
   "execution_count": 264,
   "metadata": {},
   "outputs": [],
   "source": [
    "nfu_texts = []\n",
    "for i in range(2): \n",
    "    text = nfu_parts[i]\n",
    "    chapter_names = nfu_ch_names_list[i]\n",
    "    num_chapters = len(chapter_names)\n",
    "\n",
    "    partition_1 = text.partition(chapter_names[1])\n",
    "    chapter_1 = str(partition_1[0])\n",
    "    nfu_texts.append(chapter_1)\n",
    "\n",
    "    for i in range(2, num_chapters):\n",
    "        partition_ch_group = text.partition(chapter_names[i])\n",
    "        partition_ch_subgroup = str(partition_ch_group[0])\n",
    "        partition_ch_sep = partition_ch_subgroup.partition(chapter_names[i-1])\n",
    "        partition_ch = str(partition_ch_sep[2])\n",
    "        nfu_texts.append(partition_ch)\n",
    "\n",
    "    partition_last = text.partition(chapter_names[num_chapters-1])\n",
    "    chapter_last = str(partition_last[2])\n",
    "    nfu_texts.append(chapter_last)"
   ]
  },
  {
   "cell_type": "markdown",
   "metadata": {},
   "source": [
    "#### Create dataframe with chapter titles, chapter summaries, book title, chapter names, and chapter texts"
   ]
  },
  {
   "cell_type": "code",
   "execution_count": 265,
   "metadata": {},
   "outputs": [
    {
     "data": {
      "text/html": [
       "<div>\n",
       "<style scoped>\n",
       "    .dataframe tbody tr th:only-of-type {\n",
       "        vertical-align: middle;\n",
       "    }\n",
       "\n",
       "    .dataframe tbody tr th {\n",
       "        vertical-align: top;\n",
       "    }\n",
       "\n",
       "    .dataframe thead th {\n",
       "        text-align: right;\n",
       "    }\n",
       "</style>\n",
       "<table border=\"1\" class=\"dataframe\">\n",
       "  <thead>\n",
       "    <tr style=\"text-align: right;\">\n",
       "      <th></th>\n",
       "      <th>chapter_title</th>\n",
       "      <th>chapter_summary</th>\n",
       "      <th>book_title</th>\n",
       "      <th>chapters</th>\n",
       "    </tr>\n",
       "  </thead>\n",
       "  <tbody>\n",
       "    <tr>\n",
       "      <th>311</th>\n",
       "      <td>Notes from the Underground: Novel Summary: Par...</td>\n",
       "      <td>Part 1 Chapter 1-Part 1 Chapter 2\\nPart 1 Chap...</td>\n",
       "      <td>Notes from the Underground</td>\n",
       "      <td>Part 1 Chapter 1-Part 1 Chapter 2</td>\n",
       "    </tr>\n",
       "    <tr>\n",
       "      <th>312</th>\n",
       "      <td>Notes from the Underground: Novel Summary: Par...</td>\n",
       "      <td>Part 1 Chapter 3-Part 1 Chapter 4\\nPart 1 Chap...</td>\n",
       "      <td>Notes from the Underground</td>\n",
       "      <td>Part 1 Chapter 3-Part 1 Chapter 4</td>\n",
       "    </tr>\n",
       "    <tr>\n",
       "      <th>313</th>\n",
       "      <td>Notes from the Underground: Novel Summary: Par...</td>\n",
       "      <td>Part 1 Chapter 5-Part 1 Chapter 6\\nPart 1 Chap...</td>\n",
       "      <td>Notes from the Underground</td>\n",
       "      <td>Part 1 Chapter 5-Part 1 Chapter 6</td>\n",
       "    </tr>\n",
       "    <tr>\n",
       "      <th>314</th>\n",
       "      <td>Notes from the Underground: Novel Summary: Par...</td>\n",
       "      <td>Part 1 Chapter 7-Part 1 Chapter 8\\nPart 1 Chap...</td>\n",
       "      <td>Notes from the Underground</td>\n",
       "      <td>Part 1 Chapter 7-Part 1 Chapter 8</td>\n",
       "    </tr>\n",
       "    <tr>\n",
       "      <th>315</th>\n",
       "      <td>Notes from the Underground: Novel Summary: Par...</td>\n",
       "      <td>Part 1 Chapter 9: Next, the UM uses the analog...</td>\n",
       "      <td>Notes from the Underground</td>\n",
       "      <td>Part 1 Chapter 9-Part 1 Chapter 10</td>\n",
       "    </tr>\n",
       "    <tr>\n",
       "      <th>316</th>\n",
       "      <td>Notes from the Underground: Novel Summary: Par...</td>\n",
       "      <td>Part 1 Chapter 11-Part 2 Chapter 1\\nPart 1 Cha...</td>\n",
       "      <td>Notes from the Underground</td>\n",
       "      <td>Part 1 Chapter 11-Part 2 Chapter 1</td>\n",
       "    </tr>\n",
       "    <tr>\n",
       "      <th>317</th>\n",
       "      <td>Notes from the Underground: Novel Summary: Par...</td>\n",
       "      <td>Part 2 Chapter 2-Part 2 Chapter 3\\nPart 2 Chap...</td>\n",
       "      <td>Notes from the Underground</td>\n",
       "      <td>Part 2 Chapter 2-Part 2 Chapter 3</td>\n",
       "    </tr>\n",
       "    <tr>\n",
       "      <th>318</th>\n",
       "      <td>Notes from the Underground: Novel Summary: Par...</td>\n",
       "      <td>Part 2 Chapter 4-Part 2 Chapter 5\\nPart 2 Chap...</td>\n",
       "      <td>Notes from the Underground</td>\n",
       "      <td>Part 2 Chapter 4-Part 2 Chapter 5</td>\n",
       "    </tr>\n",
       "    <tr>\n",
       "      <th>319</th>\n",
       "      <td>Notes from the Underground: Novel Summary: Par...</td>\n",
       "      <td>Part 2 Chapter 6-Part 2 Chapter 7\\nPart 2 Chap...</td>\n",
       "      <td>Notes from the Underground</td>\n",
       "      <td>Part 2 Chapter 6-Part 2 Chapter 7</td>\n",
       "    </tr>\n",
       "    <tr>\n",
       "      <th>320</th>\n",
       "      <td>Notes from the Underground: Novel Summary: Par...</td>\n",
       "      <td>Part 2 Chapter 8-Part 2 Chapter 9\\nPart 2 Chap...</td>\n",
       "      <td>Notes from the Underground</td>\n",
       "      <td>Part 2 Chapter 8-Part 2 Chapter 9</td>\n",
       "    </tr>\n",
       "    <tr>\n",
       "      <th>321</th>\n",
       "      <td>Notes from the Underground: Novel Summary: Par...</td>\n",
       "      <td>Part 2 Chapter 10\\nPart 2 Chapter 10: The UM r...</td>\n",
       "      <td>Notes from the Underground</td>\n",
       "      <td>Part 2 Chapter 10</td>\n",
       "    </tr>\n",
       "  </tbody>\n",
       "</table>\n",
       "</div>"
      ],
      "text/plain": [
       "                                         chapter_title  \\\n",
       "311  Notes from the Underground: Novel Summary: Par...   \n",
       "312  Notes from the Underground: Novel Summary: Par...   \n",
       "313  Notes from the Underground: Novel Summary: Par...   \n",
       "314  Notes from the Underground: Novel Summary: Par...   \n",
       "315  Notes from the Underground: Novel Summary: Par...   \n",
       "316  Notes from the Underground: Novel Summary: Par...   \n",
       "317  Notes from the Underground: Novel Summary: Par...   \n",
       "318  Notes from the Underground: Novel Summary: Par...   \n",
       "319  Notes from the Underground: Novel Summary: Par...   \n",
       "320  Notes from the Underground: Novel Summary: Par...   \n",
       "321  Notes from the Underground: Novel Summary: Par...   \n",
       "\n",
       "                                       chapter_summary  \\\n",
       "311  Part 1 Chapter 1-Part 1 Chapter 2\\nPart 1 Chap...   \n",
       "312  Part 1 Chapter 3-Part 1 Chapter 4\\nPart 1 Chap...   \n",
       "313  Part 1 Chapter 5-Part 1 Chapter 6\\nPart 1 Chap...   \n",
       "314  Part 1 Chapter 7-Part 1 Chapter 8\\nPart 1 Chap...   \n",
       "315  Part 1 Chapter 9: Next, the UM uses the analog...   \n",
       "316  Part 1 Chapter 11-Part 2 Chapter 1\\nPart 1 Cha...   \n",
       "317  Part 2 Chapter 2-Part 2 Chapter 3\\nPart 2 Chap...   \n",
       "318  Part 2 Chapter 4-Part 2 Chapter 5\\nPart 2 Chap...   \n",
       "319  Part 2 Chapter 6-Part 2 Chapter 7\\nPart 2 Chap...   \n",
       "320  Part 2 Chapter 8-Part 2 Chapter 9\\nPart 2 Chap...   \n",
       "321  Part 2 Chapter 10\\nPart 2 Chapter 10: The UM r...   \n",
       "\n",
       "                     book_title                            chapters  \n",
       "311  Notes from the Underground   Part 1 Chapter 1-Part 1 Chapter 2  \n",
       "312  Notes from the Underground   Part 1 Chapter 3-Part 1 Chapter 4  \n",
       "313  Notes from the Underground   Part 1 Chapter 5-Part 1 Chapter 6  \n",
       "314  Notes from the Underground   Part 1 Chapter 7-Part 1 Chapter 8  \n",
       "315  Notes from the Underground  Part 1 Chapter 9-Part 1 Chapter 10  \n",
       "316  Notes from the Underground  Part 1 Chapter 11-Part 2 Chapter 1  \n",
       "317  Notes from the Underground   Part 2 Chapter 2-Part 2 Chapter 3  \n",
       "318  Notes from the Underground   Part 2 Chapter 4-Part 2 Chapter 5  \n",
       "319  Notes from the Underground   Part 2 Chapter 6-Part 2 Chapter 7  \n",
       "320  Notes from the Underground   Part 2 Chapter 8-Part 2 Chapter 9  \n",
       "321  Notes from the Underground                   Part 2 Chapter 10  "
      ]
     },
     "execution_count": 265,
     "metadata": {},
     "output_type": "execute_result"
    }
   ],
   "source": [
    "nfu_df = start_df('Notes from the Underground')\n",
    "nfu_df"
   ]
  },
  {
   "cell_type": "code",
   "execution_count": 266,
   "metadata": {},
   "outputs": [],
   "source": [
    "nfu_df['chapter_text'] = [\n",
    "    ' '.join(nfu_texts[0:1]),\n",
    "    ' '.join(nfu_texts[2:3]),\n",
    "    ' '.join(nfu_texts[4:5]),\n",
    "    ' '.join(nfu_texts[6:7]),\n",
    "    ' '.join(nfu_texts[8:9]),\n",
    "    ' '.join(nfu_texts[10:11]),\n",
    "    ' '.join(nfu_texts[12:13]),\n",
    "    ' '.join(nfu_texts[14:15]),\n",
    "    ' '.join(nfu_texts[16:17]),\n",
    "    ' '.join(nfu_texts[18:19]),\n",
    "    nfu_texts[20]\n",
    "]"
   ]
  },
  {
   "cell_type": "markdown",
   "metadata": {},
   "source": [
    "#### Add book to main dataframe"
   ]
  },
  {
   "cell_type": "code",
   "execution_count": 267,
   "metadata": {},
   "outputs": [],
   "source": [
    "main_df = pd.concat([main_df, nfu_df])"
   ]
  },
  {
   "cell_type": "code",
   "execution_count": 268,
   "metadata": {},
   "outputs": [
    {
     "data": {
      "text/plain": [
       "290"
      ]
     },
     "execution_count": 268,
     "metadata": {},
     "output_type": "execute_result"
    }
   ],
   "source": [
    "len(main_df)"
   ]
  },
  {
   "cell_type": "markdown",
   "metadata": {},
   "source": [
    "### A Tale of Two Cities"
   ]
  },
  {
   "cell_type": "markdown",
   "metadata": {},
   "source": [
    "#### Split full text into chapters"
   ]
  },
  {
   "cell_type": "code",
   "execution_count": 269,
   "metadata": {},
   "outputs": [
    {
     "data": {
      "text/plain": [
       "322                        A Tale of Two Cities: Summary\n",
       "323    A Tale of Two Cities:Novel Summary: Book I Cha...\n",
       "324                                   Book I Chapter 5-6\n",
       "325                                  Book II Chapter 1-3\n",
       "326                                  Book II Chapter 4-5\n",
       "327                                    Book II Chapter 6\n",
       "328                                  Book II Chapter 7-9\n",
       "329                                Book II Chapter 10-14\n",
       "330                                Book II Chapter 15-16\n",
       "331                                Book II Chapter 16-20\n",
       "332                                Book II Chapter 21-24\n",
       "333                                 Book III Chapter 1-5\n",
       "334                                Book III Chapter 6-11\n",
       "335                               Book III Chapter 12-15\n",
       "Name: chapters, dtype: object"
      ]
     },
     "execution_count": 269,
     "metadata": {},
     "output_type": "execute_result"
    }
   ],
   "source": [
    "chapters('A Tale of Two Cities')"
   ]
  },
  {
   "cell_type": "code",
   "execution_count": 270,
   "metadata": {},
   "outputs": [
    {
     "data": {
      "text/plain": [
       "'A Tale of Two Cities:Novel Summary: Book I Chapter 1-4'"
      ]
     },
     "execution_count": 270,
     "metadata": {},
     "output_type": "execute_result"
    }
   ],
   "source": [
    "chapters('A Tale of Two Cities')[323]"
   ]
  },
  {
   "cell_type": "code",
   "execution_count": 271,
   "metadata": {},
   "outputs": [],
   "source": [
    "## Function to split chapters does not seem to be working to split up the three books of this text. Will split step by step instead\n",
    "\n",
    "attc_text = open('./data/book_full_texts/A_Tale_of_Two_Cities.txt', 'r').read()"
   ]
  },
  {
   "cell_type": "code",
   "execution_count": 272,
   "metadata": {},
   "outputs": [],
   "source": [
    "attc_book1 = attc_text.partition('Book the Second--the Golden Thread')[0]"
   ]
  },
  {
   "cell_type": "code",
   "execution_count": 273,
   "metadata": {},
   "outputs": [],
   "source": [
    "attc_book2 = (attc_text.partition('Book the Second--the Golden Thread')[2]).partition('Book the Third--the Track of a Storm')[0]"
   ]
  },
  {
   "cell_type": "code",
   "execution_count": 274,
   "metadata": {},
   "outputs": [],
   "source": [
    "attc_book3 = attc_text.partition('Book the Third--the Track of a Storm')[2]"
   ]
  },
  {
   "cell_type": "code",
   "execution_count": 275,
   "metadata": {},
   "outputs": [],
   "source": [
    "attc_books = [attc_book1, attc_book2, attc_book3]"
   ]
  },
  {
   "cell_type": "code",
   "execution_count": 276,
   "metadata": {},
   "outputs": [],
   "source": [
    "attc_ch_names_list = []"
   ]
  },
  {
   "cell_type": "code",
   "execution_count": 277,
   "metadata": {},
   "outputs": [],
   "source": [
    "attc_bk1_names =[\n",
    "    'The Period',  \n",
    "    'II',\n",
    "    'III',\n",
    "    'IV',\n",
    "    'V',\n",
    "    'VI',\n",
    "]\n",
    "attc_ch_names_list.append(attc_bk1_names)\n",
    "\n",
    "\n",
    "attc_bk2_names = [ \n",
    "    'Five Years Later',   \n",
    "     'II',\n",
    "     'III',\n",
    "     'IV',\n",
    "     'V',\n",
    "     'VI',\n",
    "     'VII',\n",
    "     'VIII',\n",
    "     'IX',\n",
    "     'X',\n",
    "     'XI',\n",
    "     'XII',\n",
    "     'XIII',\n",
    "     'XIV',\n",
    "     'XV',\n",
    "     'XVI',\n",
    "     'XVII',\n",
    "     'XVIII',\n",
    "     'XIX',\n",
    "     'XX',\n",
    "     'XXI',\n",
    "     'XXII',\n",
    "     'XXIII',\n",
    "     'XXIV'\n",
    "]\n",
    "attc_ch_names_list.append(attc_bk2_names)\n",
    "\n",
    "attc_bk3_names = [ \n",
    "    'In Secret',   \n",
    "    'II',\n",
    "    'III',\n",
    "    'IV',\n",
    "    'V',\n",
    "    'VI',\n",
    "    'VII',\n",
    "    'VIII',\n",
    "    'IX',\n",
    "    'X',\n",
    "    'XI',\n",
    "    'XII',\n",
    "    'XIII',\n",
    "    'XIV',\n",
    "    'XV'\n",
    "]\n",
    "attc_ch_names_list.append(attc_bk3_names)"
   ]
  },
  {
   "cell_type": "code",
   "execution_count": 278,
   "metadata": {},
   "outputs": [],
   "source": [
    "attc_texts = []\n",
    "for i in range(3): \n",
    "    text = attc_books[i]\n",
    "    chapter_names = attc_ch_names_list[i]\n",
    "    num_chapters = len(chapter_names)\n",
    "\n",
    "    partition_1 = text.partition(chapter_names[1])\n",
    "    chapter_1 = str(partition_1[0])\n",
    "    attc_texts.append(chapter_1)\n",
    "\n",
    "    for i in range(2, num_chapters):\n",
    "        partition_ch_group = text.partition(chapter_names[i])\n",
    "        partition_ch_subgroup = str(partition_ch_group[0])\n",
    "        partition_ch_sep = partition_ch_subgroup.partition(chapter_names[i-1])\n",
    "        partition_ch = str(partition_ch_sep[2])\n",
    "        attc_texts.append(partition_ch)\n",
    "\n",
    "    partition_last = text.partition(chapter_names[num_chapters-1])\n",
    "    chapter_last = str(partition_last[2])\n",
    "    attc_texts.append(chapter_last)"
   ]
  },
  {
   "cell_type": "markdown",
   "metadata": {},
   "source": [
    "#### Create dataframe with chapter titles, chapter summaries, book title, chapter names, and chapter texts"
   ]
  },
  {
   "cell_type": "code",
   "execution_count": 279,
   "metadata": {},
   "outputs": [
    {
     "data": {
      "text/html": [
       "<div>\n",
       "<style scoped>\n",
       "    .dataframe tbody tr th:only-of-type {\n",
       "        vertical-align: middle;\n",
       "    }\n",
       "\n",
       "    .dataframe tbody tr th {\n",
       "        vertical-align: top;\n",
       "    }\n",
       "\n",
       "    .dataframe thead th {\n",
       "        text-align: right;\n",
       "    }\n",
       "</style>\n",
       "<table border=\"1\" class=\"dataframe\">\n",
       "  <thead>\n",
       "    <tr style=\"text-align: right;\">\n",
       "      <th></th>\n",
       "      <th>chapter_title</th>\n",
       "      <th>chapter_summary</th>\n",
       "      <th>book_title</th>\n",
       "      <th>chapters</th>\n",
       "    </tr>\n",
       "  </thead>\n",
       "  <tbody>\n",
       "    <tr>\n",
       "      <th>322</th>\n",
       "      <td>A Tale of Two Cities: Summary</td>\n",
       "      <td>\\nBook I Chapter 1-4\\nThe narrator begins his ...</td>\n",
       "      <td>A Tale of Two Cities</td>\n",
       "      <td>A Tale of Two Cities: Summary</td>\n",
       "    </tr>\n",
       "    <tr>\n",
       "      <th>323</th>\n",
       "      <td>A Tale of Two Cities:Novel Summary: Book I Cha...</td>\n",
       "      <td>Book I\\nChapter 1-4\\nThe narrator begins his s...</td>\n",
       "      <td>A Tale of Two Cities</td>\n",
       "      <td>A Tale of Two Cities:Novel Summary: Book I Cha...</td>\n",
       "    </tr>\n",
       "    <tr>\n",
       "      <th>324</th>\n",
       "      <td>A Tale of Two Cities: Novel Summary: Book I Ch...</td>\n",
       "      <td>Book I\\nChapter 5-6\\nThe scene is the squalid ...</td>\n",
       "      <td>A Tale of Two Cities</td>\n",
       "      <td>Book I Chapter 5-6</td>\n",
       "    </tr>\n",
       "    <tr>\n",
       "      <th>325</th>\n",
       "      <td>A Tale of Two Cities: Novel Summary: Book II C...</td>\n",
       "      <td>Book II\\nChapter 1-3\\nIt is five years later, ...</td>\n",
       "      <td>A Tale of Two Cities</td>\n",
       "      <td>Book II Chapter 1-3</td>\n",
       "    </tr>\n",
       "    <tr>\n",
       "      <th>326</th>\n",
       "      <td>A Tale of Two Cities: Novel Summary: Book II C...</td>\n",
       "      <td>Book II\\nChapter 4-5\\nOutside the court Charle...</td>\n",
       "      <td>A Tale of Two Cities</td>\n",
       "      <td>Book II Chapter 4-5</td>\n",
       "    </tr>\n",
       "    <tr>\n",
       "      <th>327</th>\n",
       "      <td>A Tale of Two Cities: Novel Summary: Book II C...</td>\n",
       "      <td>Book II\\nChapter 6\\nFour months pass. Mr. Lorr...</td>\n",
       "      <td>A Tale of Two Cities</td>\n",
       "      <td>Book II Chapter 6</td>\n",
       "    </tr>\n",
       "    <tr>\n",
       "      <th>328</th>\n",
       "      <td>A Tale of Two Cities: Novel Summary: Book II C...</td>\n",
       "      <td>Book II\\nChapter 7-9\\nIn Paris, Monseigneur (w...</td>\n",
       "      <td>A Tale of Two Cities</td>\n",
       "      <td>Book II Chapter 7-9</td>\n",
       "    </tr>\n",
       "    <tr>\n",
       "      <th>329</th>\n",
       "      <td>A Tale of Two Cities: Novel Summary: Book II C...</td>\n",
       "      <td>Book II\\nChapter 10-14\\nIt is one year later a...</td>\n",
       "      <td>A Tale of Two Cities</td>\n",
       "      <td>Book II Chapter 10-14</td>\n",
       "    </tr>\n",
       "    <tr>\n",
       "      <th>330</th>\n",
       "      <td>A Tale of Two Cities: Novel Summary: Book II C...</td>\n",
       "      <td>Book II\\nChapter 15-16\\nFor three days in a ro...</td>\n",
       "      <td>A Tale of Two Cities</td>\n",
       "      <td>Book II Chapter 15-16</td>\n",
       "    </tr>\n",
       "    <tr>\n",
       "      <th>331</th>\n",
       "      <td>A Tale of Two Cities: Novel Summary: Book II C...</td>\n",
       "      <td>Book II\\nChapter 17-20\\nThe night before Lucie...</td>\n",
       "      <td>A Tale of Two Cities</td>\n",
       "      <td>Book II Chapter 16-20</td>\n",
       "    </tr>\n",
       "    <tr>\n",
       "      <th>332</th>\n",
       "      <td>A Tale of Two Cities: Novel Summary: Book II C...</td>\n",
       "      <td>Book II\\nChapter 21-24\\nYears pass. Lucie occa...</td>\n",
       "      <td>A Tale of Two Cities</td>\n",
       "      <td>Book II Chapter 21-24</td>\n",
       "    </tr>\n",
       "    <tr>\n",
       "      <th>333</th>\n",
       "      <td>A Tale of Two Cities: Novel Summary: Book III ...</td>\n",
       "      <td>Book III\\nChapter 1-5\\nUpon arriving in France...</td>\n",
       "      <td>A Tale of Two Cities</td>\n",
       "      <td>Book III Chapter 1-5</td>\n",
       "    </tr>\n",
       "    <tr>\n",
       "      <th>334</th>\n",
       "      <td>A Tale of Two Cities: Novel Summary: Book III ...</td>\n",
       "      <td>Book III\\nChapter 6-11\\nCharles Darnay is call...</td>\n",
       "      <td>A Tale of Two Cities</td>\n",
       "      <td>Book III Chapter 6-11</td>\n",
       "    </tr>\n",
       "    <tr>\n",
       "      <th>335</th>\n",
       "      <td>A Tale of Two Cities: Novel Summary: Book III ...</td>\n",
       "      <td>Book III\\nChapter 12-15\\nWith several hours to...</td>\n",
       "      <td>A Tale of Two Cities</td>\n",
       "      <td>Book III Chapter 12-15</td>\n",
       "    </tr>\n",
       "  </tbody>\n",
       "</table>\n",
       "</div>"
      ],
      "text/plain": [
       "                                         chapter_title  \\\n",
       "322                      A Tale of Two Cities: Summary   \n",
       "323  A Tale of Two Cities:Novel Summary: Book I Cha...   \n",
       "324  A Tale of Two Cities: Novel Summary: Book I Ch...   \n",
       "325  A Tale of Two Cities: Novel Summary: Book II C...   \n",
       "326  A Tale of Two Cities: Novel Summary: Book II C...   \n",
       "327  A Tale of Two Cities: Novel Summary: Book II C...   \n",
       "328  A Tale of Two Cities: Novel Summary: Book II C...   \n",
       "329  A Tale of Two Cities: Novel Summary: Book II C...   \n",
       "330  A Tale of Two Cities: Novel Summary: Book II C...   \n",
       "331  A Tale of Two Cities: Novel Summary: Book II C...   \n",
       "332  A Tale of Two Cities: Novel Summary: Book II C...   \n",
       "333  A Tale of Two Cities: Novel Summary: Book III ...   \n",
       "334  A Tale of Two Cities: Novel Summary: Book III ...   \n",
       "335  A Tale of Two Cities: Novel Summary: Book III ...   \n",
       "\n",
       "                                       chapter_summary            book_title  \\\n",
       "322  \\nBook I Chapter 1-4\\nThe narrator begins his ...  A Tale of Two Cities   \n",
       "323  Book I\\nChapter 1-4\\nThe narrator begins his s...  A Tale of Two Cities   \n",
       "324  Book I\\nChapter 5-6\\nThe scene is the squalid ...  A Tale of Two Cities   \n",
       "325  Book II\\nChapter 1-3\\nIt is five years later, ...  A Tale of Two Cities   \n",
       "326  Book II\\nChapter 4-5\\nOutside the court Charle...  A Tale of Two Cities   \n",
       "327  Book II\\nChapter 6\\nFour months pass. Mr. Lorr...  A Tale of Two Cities   \n",
       "328  Book II\\nChapter 7-9\\nIn Paris, Monseigneur (w...  A Tale of Two Cities   \n",
       "329  Book II\\nChapter 10-14\\nIt is one year later a...  A Tale of Two Cities   \n",
       "330  Book II\\nChapter 15-16\\nFor three days in a ro...  A Tale of Two Cities   \n",
       "331  Book II\\nChapter 17-20\\nThe night before Lucie...  A Tale of Two Cities   \n",
       "332  Book II\\nChapter 21-24\\nYears pass. Lucie occa...  A Tale of Two Cities   \n",
       "333  Book III\\nChapter 1-5\\nUpon arriving in France...  A Tale of Two Cities   \n",
       "334  Book III\\nChapter 6-11\\nCharles Darnay is call...  A Tale of Two Cities   \n",
       "335  Book III\\nChapter 12-15\\nWith several hours to...  A Tale of Two Cities   \n",
       "\n",
       "                                              chapters  \n",
       "322                      A Tale of Two Cities: Summary  \n",
       "323  A Tale of Two Cities:Novel Summary: Book I Cha...  \n",
       "324                                 Book I Chapter 5-6  \n",
       "325                                Book II Chapter 1-3  \n",
       "326                                Book II Chapter 4-5  \n",
       "327                                  Book II Chapter 6  \n",
       "328                                Book II Chapter 7-9  \n",
       "329                              Book II Chapter 10-14  \n",
       "330                              Book II Chapter 15-16  \n",
       "331                              Book II Chapter 16-20  \n",
       "332                              Book II Chapter 21-24  \n",
       "333                               Book III Chapter 1-5  \n",
       "334                              Book III Chapter 6-11  \n",
       "335                             Book III Chapter 12-15  "
      ]
     },
     "execution_count": 279,
     "metadata": {},
     "output_type": "execute_result"
    }
   ],
   "source": [
    "attc_df = start_df('A Tale of Two Cities')\n",
    "attc_df"
   ]
  },
  {
   "cell_type": "code",
   "execution_count": 280,
   "metadata": {},
   "outputs": [],
   "source": [
    "attc_df.drop(index=322, inplace=True)"
   ]
  },
  {
   "cell_type": "code",
   "execution_count": 281,
   "metadata": {},
   "outputs": [
    {
     "data": {
      "text/plain": [
       "['A Tale of Two Cities: Summary',\n",
       " 'A Tale of Two Cities:Novel Summary: Book I Chapter 1-4',\n",
       " 'Book I Chapter 5-6',\n",
       " 'Book II Chapter 1-3',\n",
       " 'Book II Chapter 4-5',\n",
       " 'Book II Chapter 6',\n",
       " 'Book II Chapter 7-9',\n",
       " 'Book II Chapter 10-14',\n",
       " 'Book II Chapter 15-16',\n",
       " 'Book II Chapter 16-20',\n",
       " 'Book II Chapter 21-24',\n",
       " 'Book III Chapter 1-5',\n",
       " 'Book III Chapter 6-11',\n",
       " 'Book III Chapter 12-15']"
      ]
     },
     "execution_count": 281,
     "metadata": {},
     "output_type": "execute_result"
    }
   ],
   "source": [
    "list(chapters('A Tale of Two Cities'))"
   ]
  },
  {
   "cell_type": "code",
   "execution_count": 282,
   "metadata": {},
   "outputs": [],
   "source": [
    "attc_df['chapter_text'] = [\n",
    "    ' '.join(attc_texts[0:3]),\n",
    "    ' '.join(attc_texts[4:5]),\n",
    "    ' '.join(attc_texts[6:8]),\n",
    "    ' '.join(attc_texts[9:10]),\n",
    "    attc_texts[11],\n",
    "    ' '.join(attc_texts[12:14]),\n",
    "    ' '.join(attc_texts[15:19]),\n",
    "    ' '.join(attc_texts[20:21]),\n",
    "    ' '.join(attc_texts[22:26]),\n",
    "    ' '.join(attc_texts[27:20]),\n",
    "    ' '.join(attc_texts[21:25]),\n",
    "    ' '.join(attc_texts[26:31]),\n",
    "    ' '.join(attc_texts[32:35]),\n",
    "]"
   ]
  },
  {
   "cell_type": "markdown",
   "metadata": {},
   "source": [
    "#### Add book to main dataframe"
   ]
  },
  {
   "cell_type": "code",
   "execution_count": 283,
   "metadata": {},
   "outputs": [],
   "source": [
    "main_df = pd.concat([main_df, attc_df])"
   ]
  },
  {
   "cell_type": "markdown",
   "metadata": {},
   "source": [
    "### Winesburg, Ohio"
   ]
  },
  {
   "cell_type": "markdown",
   "metadata": {},
   "source": [
    "#### Split full text into chapters"
   ]
  },
  {
   "cell_type": "code",
   "execution_count": 284,
   "metadata": {},
   "outputs": [
    {
     "data": {
      "text/plain": [
       "336                         A Man of Ideas\n",
       "337                              Adventure\n",
       "338                           An Awakening\n",
       "339                                  Death\n",
       "340                              Departure\n",
       "341                                  Drink\n",
       "342                       Godliness I - VI\n",
       "343                                  Hands\n",
       "344                             Loneliness\n",
       "345                                 Mother\n",
       "346                            Paper Pills\n",
       "347                                  Queer\n",
       "348    Respectability, The Thinker & Tandy\n",
       "349                         Sophistication\n",
       "350              The Book of the Grotesque\n",
       "351         The Philosopher & Nobody Knows\n",
       "352      The Strength of God & The Teacher\n",
       "353                         The Untold Lie\n",
       "Name: chapters, dtype: object"
      ]
     },
     "execution_count": 284,
     "metadata": {},
     "output_type": "execute_result"
    }
   ],
   "source": [
    "chapters('Winesburg, Ohio')"
   ]
  },
  {
   "cell_type": "code",
   "execution_count": 285,
   "metadata": {},
   "outputs": [
    {
     "data": {
      "text/html": [
       "<div>\n",
       "<style scoped>\n",
       "    .dataframe tbody tr th:only-of-type {\n",
       "        vertical-align: middle;\n",
       "    }\n",
       "\n",
       "    .dataframe tbody tr th {\n",
       "        vertical-align: top;\n",
       "    }\n",
       "\n",
       "    .dataframe thead th {\n",
       "        text-align: right;\n",
       "    }\n",
       "</style>\n",
       "<table border=\"1\" class=\"dataframe\">\n",
       "  <thead>\n",
       "    <tr style=\"text-align: right;\">\n",
       "      <th></th>\n",
       "      <th>chapter_title</th>\n",
       "      <th>chapter_summary</th>\n",
       "      <th>book_title</th>\n",
       "      <th>chapters</th>\n",
       "    </tr>\n",
       "  </thead>\n",
       "  <tbody>\n",
       "    <tr>\n",
       "      <th>336</th>\n",
       "      <td>Winesburg, Ohio: Novel Summary: A Man of Ideas</td>\n",
       "      <td>Summary\\n\\tJoe Welling, an agent for the Stand...</td>\n",
       "      <td>Winesburg, Ohio</td>\n",
       "      <td>A Man of Ideas</td>\n",
       "    </tr>\n",
       "    <tr>\n",
       "      <th>337</th>\n",
       "      <td>Winesburg, Ohio: Novel Summary: Adventure</td>\n",
       "      <td>Summary\\n\\tTwenty-seven-year-old Alice Hindman...</td>\n",
       "      <td>Winesburg, Ohio</td>\n",
       "      <td>Adventure</td>\n",
       "    </tr>\n",
       "    <tr>\n",
       "      <th>338</th>\n",
       "      <td>Winesburg, Ohio: Novel Summary: An Awakening</td>\n",
       "      <td>Summary\\n\\tGeorge often goes to see Belle Carp...</td>\n",
       "      <td>Winesburg, Ohio</td>\n",
       "      <td>An Awakening</td>\n",
       "    </tr>\n",
       "    <tr>\n",
       "      <th>339</th>\n",
       "      <td>Winesburg, Ohio: Novel Summary: Death</td>\n",
       "      <td>Summary\\n\\tElizabeth Willard often visited Doc...</td>\n",
       "      <td>Winesburg, Ohio</td>\n",
       "      <td>Death</td>\n",
       "    </tr>\n",
       "    <tr>\n",
       "      <th>340</th>\n",
       "      <td>Winesburg, Ohio: Novel Summary: Departure</td>\n",
       "      <td>Summary\\n\\tGeorge Willard leaves Winesburg to ...</td>\n",
       "      <td>Winesburg, Ohio</td>\n",
       "      <td>Departure</td>\n",
       "    </tr>\n",
       "    <tr>\n",
       "      <th>341</th>\n",
       "      <td>Winesburg, Ohio: Novel Summary: Drink</td>\n",
       "      <td>Summary\\n\\tTom Foster moved to Winesburg with ...</td>\n",
       "      <td>Winesburg, Ohio</td>\n",
       "      <td>Drink</td>\n",
       "    </tr>\n",
       "    <tr>\n",
       "      <th>342</th>\n",
       "      <td>Winesburg, Ohio: Novel Summary: Godliness I - VI</td>\n",
       "      <td>Godliness I\\n\\tThis is the first in a four-par...</td>\n",
       "      <td>Winesburg, Ohio</td>\n",
       "      <td>Godliness I - VI</td>\n",
       "    </tr>\n",
       "    <tr>\n",
       "      <th>343</th>\n",
       "      <td>Winesburg, Ohio: Novel Summary: Hands</td>\n",
       "      <td>Summary\\n\\tWing Biddlebaum, a forty-year-old m...</td>\n",
       "      <td>Winesburg, Ohio</td>\n",
       "      <td>Hands</td>\n",
       "    </tr>\n",
       "    <tr>\n",
       "      <th>344</th>\n",
       "      <td>Winesburg, Ohio: Novel Summary: Loneliness</td>\n",
       "      <td>Summary\\n\\tEnoch Robinson is a childish man wh...</td>\n",
       "      <td>Winesburg, Ohio</td>\n",
       "      <td>Loneliness</td>\n",
       "    </tr>\n",
       "    <tr>\n",
       "      <th>345</th>\n",
       "      <td>Winesburg, Ohio: Novel Summary: Mother</td>\n",
       "      <td>Summary\\n\\tElizabeth Willard owns the Winesbur...</td>\n",
       "      <td>Winesburg, Ohio</td>\n",
       "      <td>Mother</td>\n",
       "    </tr>\n",
       "    <tr>\n",
       "      <th>346</th>\n",
       "      <td>Winesburg, Ohio: Novel Summary: Paper Pills</td>\n",
       "      <td>Summary\\n\\tDoctor Reefy, an old man with a whi...</td>\n",
       "      <td>Winesburg, Ohio</td>\n",
       "      <td>Paper Pills</td>\n",
       "    </tr>\n",
       "    <tr>\n",
       "      <th>347</th>\n",
       "      <td>Winesburg, Ohio: Novel Summary: Queer</td>\n",
       "      <td>Summary\\n\\tElmer Cowley is the son of Ebenezer...</td>\n",
       "      <td>Winesburg, Ohio</td>\n",
       "      <td>Queer</td>\n",
       "    </tr>\n",
       "    <tr>\n",
       "      <th>348</th>\n",
       "      <td>Winesburg, Ohio: Novel Summary: Respectability...</td>\n",
       "      <td>Respectability\\n\\tWash Williams is a huge, dir...</td>\n",
       "      <td>Winesburg, Ohio</td>\n",
       "      <td>Respectability, The Thinker &amp; Tandy</td>\n",
       "    </tr>\n",
       "    <tr>\n",
       "      <th>349</th>\n",
       "      <td>Winesburg, Ohio: Novel Summary: Sophistication</td>\n",
       "      <td>Summary\\n\\tGeorge Willard is thinking of Helen...</td>\n",
       "      <td>Winesburg, Ohio</td>\n",
       "      <td>Sophistication</td>\n",
       "    </tr>\n",
       "    <tr>\n",
       "      <th>350</th>\n",
       "      <td>Winesburg, Ohio: Novel Summary: The Book of th...</td>\n",
       "      <td>Summary\\n\\tAn old writer has a bed that his ca...</td>\n",
       "      <td>Winesburg, Ohio</td>\n",
       "      <td>The Book of the Grotesque</td>\n",
       "    </tr>\n",
       "    <tr>\n",
       "      <th>351</th>\n",
       "      <td>Winesburg, Ohio: Novel Summary: The Philosophe...</td>\n",
       "      <td>The Philosopher\\n\\tDoctor Parcival is one of t...</td>\n",
       "      <td>Winesburg, Ohio</td>\n",
       "      <td>The Philosopher &amp; Nobody Knows</td>\n",
       "    </tr>\n",
       "    <tr>\n",
       "      <th>352</th>\n",
       "      <td>Winesburg, Ohio: Novel Summary: The Strength o...</td>\n",
       "      <td>The Strength of God\\n\\tReverend Curtis Hartman...</td>\n",
       "      <td>Winesburg, Ohio</td>\n",
       "      <td>The Strength of God &amp; The Teacher</td>\n",
       "    </tr>\n",
       "    <tr>\n",
       "      <th>353</th>\n",
       "      <td>Winesburg, Ohio: Novel Summary: The Untold Lie</td>\n",
       "      <td>Summary\\n\\tRay Pearson, an older farmhand, is ...</td>\n",
       "      <td>Winesburg, Ohio</td>\n",
       "      <td>The Untold Lie</td>\n",
       "    </tr>\n",
       "  </tbody>\n",
       "</table>\n",
       "</div>"
      ],
      "text/plain": [
       "                                         chapter_title  \\\n",
       "336     Winesburg, Ohio: Novel Summary: A Man of Ideas   \n",
       "337          Winesburg, Ohio: Novel Summary: Adventure   \n",
       "338       Winesburg, Ohio: Novel Summary: An Awakening   \n",
       "339              Winesburg, Ohio: Novel Summary: Death   \n",
       "340          Winesburg, Ohio: Novel Summary: Departure   \n",
       "341              Winesburg, Ohio: Novel Summary: Drink   \n",
       "342   Winesburg, Ohio: Novel Summary: Godliness I - VI   \n",
       "343              Winesburg, Ohio: Novel Summary: Hands   \n",
       "344         Winesburg, Ohio: Novel Summary: Loneliness   \n",
       "345             Winesburg, Ohio: Novel Summary: Mother   \n",
       "346        Winesburg, Ohio: Novel Summary: Paper Pills   \n",
       "347              Winesburg, Ohio: Novel Summary: Queer   \n",
       "348  Winesburg, Ohio: Novel Summary: Respectability...   \n",
       "349     Winesburg, Ohio: Novel Summary: Sophistication   \n",
       "350  Winesburg, Ohio: Novel Summary: The Book of th...   \n",
       "351  Winesburg, Ohio: Novel Summary: The Philosophe...   \n",
       "352  Winesburg, Ohio: Novel Summary: The Strength o...   \n",
       "353     Winesburg, Ohio: Novel Summary: The Untold Lie   \n",
       "\n",
       "                                       chapter_summary       book_title  \\\n",
       "336  Summary\\n\\tJoe Welling, an agent for the Stand...  Winesburg, Ohio   \n",
       "337  Summary\\n\\tTwenty-seven-year-old Alice Hindman...  Winesburg, Ohio   \n",
       "338  Summary\\n\\tGeorge often goes to see Belle Carp...  Winesburg, Ohio   \n",
       "339  Summary\\n\\tElizabeth Willard often visited Doc...  Winesburg, Ohio   \n",
       "340  Summary\\n\\tGeorge Willard leaves Winesburg to ...  Winesburg, Ohio   \n",
       "341  Summary\\n\\tTom Foster moved to Winesburg with ...  Winesburg, Ohio   \n",
       "342  Godliness I\\n\\tThis is the first in a four-par...  Winesburg, Ohio   \n",
       "343  Summary\\n\\tWing Biddlebaum, a forty-year-old m...  Winesburg, Ohio   \n",
       "344  Summary\\n\\tEnoch Robinson is a childish man wh...  Winesburg, Ohio   \n",
       "345  Summary\\n\\tElizabeth Willard owns the Winesbur...  Winesburg, Ohio   \n",
       "346  Summary\\n\\tDoctor Reefy, an old man with a whi...  Winesburg, Ohio   \n",
       "347  Summary\\n\\tElmer Cowley is the son of Ebenezer...  Winesburg, Ohio   \n",
       "348  Respectability\\n\\tWash Williams is a huge, dir...  Winesburg, Ohio   \n",
       "349  Summary\\n\\tGeorge Willard is thinking of Helen...  Winesburg, Ohio   \n",
       "350  Summary\\n\\tAn old writer has a bed that his ca...  Winesburg, Ohio   \n",
       "351  The Philosopher\\n\\tDoctor Parcival is one of t...  Winesburg, Ohio   \n",
       "352  The Strength of God\\n\\tReverend Curtis Hartman...  Winesburg, Ohio   \n",
       "353  Summary\\n\\tRay Pearson, an older farmhand, is ...  Winesburg, Ohio   \n",
       "\n",
       "                                chapters  \n",
       "336                       A Man of Ideas  \n",
       "337                            Adventure  \n",
       "338                         An Awakening  \n",
       "339                                Death  \n",
       "340                            Departure  \n",
       "341                                Drink  \n",
       "342                     Godliness I - VI  \n",
       "343                                Hands  \n",
       "344                           Loneliness  \n",
       "345                               Mother  \n",
       "346                          Paper Pills  \n",
       "347                                Queer  \n",
       "348  Respectability, The Thinker & Tandy  \n",
       "349                       Sophistication  \n",
       "350            The Book of the Grotesque  \n",
       "351       The Philosopher & Nobody Knows  \n",
       "352    The Strength of God & The Teacher  \n",
       "353                       The Untold Lie  "
      ]
     },
     "execution_count": 285,
     "metadata": {},
     "output_type": "execute_result"
    }
   ],
   "source": [
    "start_df('Winesburg, Ohio')"
   ]
  },
  {
   "cell_type": "code",
   "execution_count": 286,
   "metadata": {},
   "outputs": [],
   "source": [
    "# The chapters of this book are in the wronrg order in the dataframe - will reorder\n",
    "\n",
    "ch_correct_order = ['The Book of the Grotesque', 'Hands', 'Paper Pills', 'Mother', 'The Philosopher & Nobody Knows', 'Godliness I - VI', 'A Man of Ideas', 'Adventure',\n",
    "                    'Respectability, The Thinker & Tandy', 'The Strength of God & The Teacher', 'Loneliness', 'An Awakening', 'Queer', 'The Untold Lie', 'Drink', 'Death', 'Sophistication', 'Departure'\n",
    "]"
   ]
  },
  {
   "cell_type": "code",
   "execution_count": 287,
   "metadata": {},
   "outputs": [],
   "source": [
    "wo_df = start_df('Winesburg, Ohio')[start_df('Winesburg, Ohio')['chapters']=='The Book of the Grotesque']"
   ]
  },
  {
   "cell_type": "code",
   "execution_count": 288,
   "metadata": {},
   "outputs": [],
   "source": [
    "for i in range(1, len(ch_correct_order)):\n",
    "    wo_df = pd.concat([ wo_df, start_df('Winesburg, Ohio')[start_df('Winesburg, Ohio')['chapters']==ch_correct_order[i]] ])"
   ]
  },
  {
   "cell_type": "code",
   "execution_count": 289,
   "metadata": {},
   "outputs": [
    {
     "data": {
      "text/html": [
       "<div>\n",
       "<style scoped>\n",
       "    .dataframe tbody tr th:only-of-type {\n",
       "        vertical-align: middle;\n",
       "    }\n",
       "\n",
       "    .dataframe tbody tr th {\n",
       "        vertical-align: top;\n",
       "    }\n",
       "\n",
       "    .dataframe thead th {\n",
       "        text-align: right;\n",
       "    }\n",
       "</style>\n",
       "<table border=\"1\" class=\"dataframe\">\n",
       "  <thead>\n",
       "    <tr style=\"text-align: right;\">\n",
       "      <th></th>\n",
       "      <th>chapter_title</th>\n",
       "      <th>chapter_summary</th>\n",
       "      <th>book_title</th>\n",
       "      <th>chapters</th>\n",
       "    </tr>\n",
       "  </thead>\n",
       "  <tbody>\n",
       "    <tr>\n",
       "      <th>350</th>\n",
       "      <td>Winesburg, Ohio: Novel Summary: The Book of th...</td>\n",
       "      <td>Summary\\n\\tAn old writer has a bed that his ca...</td>\n",
       "      <td>Winesburg, Ohio</td>\n",
       "      <td>The Book of the Grotesque</td>\n",
       "    </tr>\n",
       "    <tr>\n",
       "      <th>343</th>\n",
       "      <td>Winesburg, Ohio: Novel Summary: Hands</td>\n",
       "      <td>Summary\\n\\tWing Biddlebaum, a forty-year-old m...</td>\n",
       "      <td>Winesburg, Ohio</td>\n",
       "      <td>Hands</td>\n",
       "    </tr>\n",
       "    <tr>\n",
       "      <th>346</th>\n",
       "      <td>Winesburg, Ohio: Novel Summary: Paper Pills</td>\n",
       "      <td>Summary\\n\\tDoctor Reefy, an old man with a whi...</td>\n",
       "      <td>Winesburg, Ohio</td>\n",
       "      <td>Paper Pills</td>\n",
       "    </tr>\n",
       "    <tr>\n",
       "      <th>345</th>\n",
       "      <td>Winesburg, Ohio: Novel Summary: Mother</td>\n",
       "      <td>Summary\\n\\tElizabeth Willard owns the Winesbur...</td>\n",
       "      <td>Winesburg, Ohio</td>\n",
       "      <td>Mother</td>\n",
       "    </tr>\n",
       "    <tr>\n",
       "      <th>351</th>\n",
       "      <td>Winesburg, Ohio: Novel Summary: The Philosophe...</td>\n",
       "      <td>The Philosopher\\n\\tDoctor Parcival is one of t...</td>\n",
       "      <td>Winesburg, Ohio</td>\n",
       "      <td>The Philosopher &amp; Nobody Knows</td>\n",
       "    </tr>\n",
       "    <tr>\n",
       "      <th>342</th>\n",
       "      <td>Winesburg, Ohio: Novel Summary: Godliness I - VI</td>\n",
       "      <td>Godliness I\\n\\tThis is the first in a four-par...</td>\n",
       "      <td>Winesburg, Ohio</td>\n",
       "      <td>Godliness I - VI</td>\n",
       "    </tr>\n",
       "    <tr>\n",
       "      <th>336</th>\n",
       "      <td>Winesburg, Ohio: Novel Summary: A Man of Ideas</td>\n",
       "      <td>Summary\\n\\tJoe Welling, an agent for the Stand...</td>\n",
       "      <td>Winesburg, Ohio</td>\n",
       "      <td>A Man of Ideas</td>\n",
       "    </tr>\n",
       "    <tr>\n",
       "      <th>337</th>\n",
       "      <td>Winesburg, Ohio: Novel Summary: Adventure</td>\n",
       "      <td>Summary\\n\\tTwenty-seven-year-old Alice Hindman...</td>\n",
       "      <td>Winesburg, Ohio</td>\n",
       "      <td>Adventure</td>\n",
       "    </tr>\n",
       "    <tr>\n",
       "      <th>348</th>\n",
       "      <td>Winesburg, Ohio: Novel Summary: Respectability...</td>\n",
       "      <td>Respectability\\n\\tWash Williams is a huge, dir...</td>\n",
       "      <td>Winesburg, Ohio</td>\n",
       "      <td>Respectability, The Thinker &amp; Tandy</td>\n",
       "    </tr>\n",
       "    <tr>\n",
       "      <th>352</th>\n",
       "      <td>Winesburg, Ohio: Novel Summary: The Strength o...</td>\n",
       "      <td>The Strength of God\\n\\tReverend Curtis Hartman...</td>\n",
       "      <td>Winesburg, Ohio</td>\n",
       "      <td>The Strength of God &amp; The Teacher</td>\n",
       "    </tr>\n",
       "    <tr>\n",
       "      <th>344</th>\n",
       "      <td>Winesburg, Ohio: Novel Summary: Loneliness</td>\n",
       "      <td>Summary\\n\\tEnoch Robinson is a childish man wh...</td>\n",
       "      <td>Winesburg, Ohio</td>\n",
       "      <td>Loneliness</td>\n",
       "    </tr>\n",
       "    <tr>\n",
       "      <th>338</th>\n",
       "      <td>Winesburg, Ohio: Novel Summary: An Awakening</td>\n",
       "      <td>Summary\\n\\tGeorge often goes to see Belle Carp...</td>\n",
       "      <td>Winesburg, Ohio</td>\n",
       "      <td>An Awakening</td>\n",
       "    </tr>\n",
       "    <tr>\n",
       "      <th>347</th>\n",
       "      <td>Winesburg, Ohio: Novel Summary: Queer</td>\n",
       "      <td>Summary\\n\\tElmer Cowley is the son of Ebenezer...</td>\n",
       "      <td>Winesburg, Ohio</td>\n",
       "      <td>Queer</td>\n",
       "    </tr>\n",
       "    <tr>\n",
       "      <th>353</th>\n",
       "      <td>Winesburg, Ohio: Novel Summary: The Untold Lie</td>\n",
       "      <td>Summary\\n\\tRay Pearson, an older farmhand, is ...</td>\n",
       "      <td>Winesburg, Ohio</td>\n",
       "      <td>The Untold Lie</td>\n",
       "    </tr>\n",
       "    <tr>\n",
       "      <th>341</th>\n",
       "      <td>Winesburg, Ohio: Novel Summary: Drink</td>\n",
       "      <td>Summary\\n\\tTom Foster moved to Winesburg with ...</td>\n",
       "      <td>Winesburg, Ohio</td>\n",
       "      <td>Drink</td>\n",
       "    </tr>\n",
       "    <tr>\n",
       "      <th>339</th>\n",
       "      <td>Winesburg, Ohio: Novel Summary: Death</td>\n",
       "      <td>Summary\\n\\tElizabeth Willard often visited Doc...</td>\n",
       "      <td>Winesburg, Ohio</td>\n",
       "      <td>Death</td>\n",
       "    </tr>\n",
       "    <tr>\n",
       "      <th>349</th>\n",
       "      <td>Winesburg, Ohio: Novel Summary: Sophistication</td>\n",
       "      <td>Summary\\n\\tGeorge Willard is thinking of Helen...</td>\n",
       "      <td>Winesburg, Ohio</td>\n",
       "      <td>Sophistication</td>\n",
       "    </tr>\n",
       "    <tr>\n",
       "      <th>340</th>\n",
       "      <td>Winesburg, Ohio: Novel Summary: Departure</td>\n",
       "      <td>Summary\\n\\tGeorge Willard leaves Winesburg to ...</td>\n",
       "      <td>Winesburg, Ohio</td>\n",
       "      <td>Departure</td>\n",
       "    </tr>\n",
       "  </tbody>\n",
       "</table>\n",
       "</div>"
      ],
      "text/plain": [
       "                                         chapter_title  \\\n",
       "350  Winesburg, Ohio: Novel Summary: The Book of th...   \n",
       "343              Winesburg, Ohio: Novel Summary: Hands   \n",
       "346        Winesburg, Ohio: Novel Summary: Paper Pills   \n",
       "345             Winesburg, Ohio: Novel Summary: Mother   \n",
       "351  Winesburg, Ohio: Novel Summary: The Philosophe...   \n",
       "342   Winesburg, Ohio: Novel Summary: Godliness I - VI   \n",
       "336     Winesburg, Ohio: Novel Summary: A Man of Ideas   \n",
       "337          Winesburg, Ohio: Novel Summary: Adventure   \n",
       "348  Winesburg, Ohio: Novel Summary: Respectability...   \n",
       "352  Winesburg, Ohio: Novel Summary: The Strength o...   \n",
       "344         Winesburg, Ohio: Novel Summary: Loneliness   \n",
       "338       Winesburg, Ohio: Novel Summary: An Awakening   \n",
       "347              Winesburg, Ohio: Novel Summary: Queer   \n",
       "353     Winesburg, Ohio: Novel Summary: The Untold Lie   \n",
       "341              Winesburg, Ohio: Novel Summary: Drink   \n",
       "339              Winesburg, Ohio: Novel Summary: Death   \n",
       "349     Winesburg, Ohio: Novel Summary: Sophistication   \n",
       "340          Winesburg, Ohio: Novel Summary: Departure   \n",
       "\n",
       "                                       chapter_summary       book_title  \\\n",
       "350  Summary\\n\\tAn old writer has a bed that his ca...  Winesburg, Ohio   \n",
       "343  Summary\\n\\tWing Biddlebaum, a forty-year-old m...  Winesburg, Ohio   \n",
       "346  Summary\\n\\tDoctor Reefy, an old man with a whi...  Winesburg, Ohio   \n",
       "345  Summary\\n\\tElizabeth Willard owns the Winesbur...  Winesburg, Ohio   \n",
       "351  The Philosopher\\n\\tDoctor Parcival is one of t...  Winesburg, Ohio   \n",
       "342  Godliness I\\n\\tThis is the first in a four-par...  Winesburg, Ohio   \n",
       "336  Summary\\n\\tJoe Welling, an agent for the Stand...  Winesburg, Ohio   \n",
       "337  Summary\\n\\tTwenty-seven-year-old Alice Hindman...  Winesburg, Ohio   \n",
       "348  Respectability\\n\\tWash Williams is a huge, dir...  Winesburg, Ohio   \n",
       "352  The Strength of God\\n\\tReverend Curtis Hartman...  Winesburg, Ohio   \n",
       "344  Summary\\n\\tEnoch Robinson is a childish man wh...  Winesburg, Ohio   \n",
       "338  Summary\\n\\tGeorge often goes to see Belle Carp...  Winesburg, Ohio   \n",
       "347  Summary\\n\\tElmer Cowley is the son of Ebenezer...  Winesburg, Ohio   \n",
       "353  Summary\\n\\tRay Pearson, an older farmhand, is ...  Winesburg, Ohio   \n",
       "341  Summary\\n\\tTom Foster moved to Winesburg with ...  Winesburg, Ohio   \n",
       "339  Summary\\n\\tElizabeth Willard often visited Doc...  Winesburg, Ohio   \n",
       "349  Summary\\n\\tGeorge Willard is thinking of Helen...  Winesburg, Ohio   \n",
       "340  Summary\\n\\tGeorge Willard leaves Winesburg to ...  Winesburg, Ohio   \n",
       "\n",
       "                                chapters  \n",
       "350            The Book of the Grotesque  \n",
       "343                                Hands  \n",
       "346                          Paper Pills  \n",
       "345                               Mother  \n",
       "351       The Philosopher & Nobody Knows  \n",
       "342                     Godliness I - VI  \n",
       "336                       A Man of Ideas  \n",
       "337                            Adventure  \n",
       "348  Respectability, The Thinker & Tandy  \n",
       "352    The Strength of God & The Teacher  \n",
       "344                           Loneliness  \n",
       "338                         An Awakening  \n",
       "347                                Queer  \n",
       "353                       The Untold Lie  \n",
       "341                                Drink  \n",
       "339                                Death  \n",
       "349                       Sophistication  \n",
       "340                            Departure  "
      ]
     },
     "execution_count": 289,
     "metadata": {},
     "output_type": "execute_result"
    }
   ],
   "source": [
    "wo_df"
   ]
  },
  {
   "cell_type": "code",
   "execution_count": 290,
   "metadata": {},
   "outputs": [],
   "source": [
    "wo_ch_names = ['GROTESQUE', 'HANDS', 'PAPER PILLS', 'MOTHER', 'THE PHILOSOPHER', 'NOBODY KNOWS', 'GODLINESS', 'A MAN OF IDEAS', 'ADVENTURE',\n",
    "                    'RESPECTABILITY', 'THE THINKER', 'TANDY', 'THE STRENGTH OF GOD', 'THE TEACHER', 'LONELINESS', 'AN AWAKENING', '\\\"Queer\\\"', \n",
    "                    'THE UNTOLD LIE', 'DRINK', 'DEATH', 'SOPHISTICATION', 'DEPARTURE'\n",
    "]"
   ]
  },
  {
   "cell_type": "code",
   "execution_count": 291,
   "metadata": {},
   "outputs": [],
   "source": [
    "wo_ch_texts = split_chapters('Winesburg, Ohio', wo_ch_names)"
   ]
  },
  {
   "cell_type": "markdown",
   "metadata": {},
   "source": [
    "#### Create dataframe with chapter titles, chapter summaries, book title, chapter names, and chapter texts"
   ]
  },
  {
   "cell_type": "code",
   "execution_count": 292,
   "metadata": {},
   "outputs": [],
   "source": [
    "wo_df['chapter_text'] = [\n",
    "    wo_ch_texts[0],\n",
    "    wo_ch_texts[1],\n",
    "    wo_ch_texts[2],\n",
    "    wo_ch_texts[3],\n",
    "    wo_ch_texts[4:5],\n",
    "    wo_ch_texts[6],\n",
    "    wo_ch_texts[7],\n",
    "    wo_ch_texts[8],\n",
    "    wo_ch_texts[9:11],\n",
    "    wo_ch_texts[12:13],\n",
    "    wo_ch_texts[14],\n",
    "    wo_ch_texts[15],\n",
    "    wo_ch_texts[16],\n",
    "    wo_ch_texts[17],\n",
    "    wo_ch_texts[18],\n",
    "    wo_ch_texts[19],\n",
    "    wo_ch_texts[20],\n",
    "    wo_ch_texts[21],\n",
    "]"
   ]
  },
  {
   "cell_type": "markdown",
   "metadata": {},
   "source": [
    "#### Add book to main dataframe"
   ]
  },
  {
   "cell_type": "code",
   "execution_count": 293,
   "metadata": {},
   "outputs": [],
   "source": [
    "main_df = pd.concat([main_df, wo_df])"
   ]
  },
  {
   "cell_type": "code",
   "execution_count": 294,
   "metadata": {},
   "outputs": [
    {
     "data": {
      "text/plain": [
       "321"
      ]
     },
     "execution_count": 294,
     "metadata": {},
     "output_type": "execute_result"
    }
   ],
   "source": [
    "len(main_df)"
   ]
  },
  {
   "cell_type": "markdown",
   "metadata": {},
   "source": [
    "### Middlemarch"
   ]
  },
  {
   "cell_type": "markdown",
   "metadata": {},
   "source": [
    "#### Split full texts into chapters"
   ]
  },
  {
   "cell_type": "code",
   "execution_count": 295,
   "metadata": {},
   "outputs": [
    {
     "data": {
      "text/plain": [
       "354    Middlemarch: Novel Summary\n",
       "Name: chapters, dtype: object"
      ]
     },
     "execution_count": 295,
     "metadata": {},
     "output_type": "execute_result"
    }
   ],
   "source": [
    "chapters('Middlemarch')"
   ]
  },
  {
   "cell_type": "code",
   "execution_count": 296,
   "metadata": {},
   "outputs": [
    {
     "data": {
      "text/plain": [
       "'Prelude\\nSummary\\n\\tThis is a charming vignette of Saint Theresa of Avila as a little girl, holding her brother by the hand, going out into the country side looking for martyrdom, illustrating the “passionate, ideal nature [that demands] an epic life.” Such a girl who has a “rapturous consciousness of '"
      ]
     },
     "execution_count": 296,
     "metadata": {},
     "output_type": "execute_result"
    }
   ],
   "source": [
    "start_df('Middlemarch').iloc[0]['chapter_summary'][:300]"
   ]
  },
  {
   "cell_type": "markdown",
   "metadata": {},
   "source": [
    "This text includes a summary of the prelude and one summary for chapters 1-5. These two summaries will be included in the dataset."
   ]
  },
  {
   "cell_type": "markdown",
   "metadata": {},
   "source": [
    "##### Split summary texts into sections & create dataframe for book"
   ]
  },
  {
   "cell_type": "code",
   "execution_count": 297,
   "metadata": {},
   "outputs": [],
   "source": [
    "mm_summary_text = start_df('Middlemarch').iloc[0]['chapter_summary']"
   ]
  },
  {
   "cell_type": "code",
   "execution_count": 298,
   "metadata": {},
   "outputs": [
    {
     "data": {
      "text/plain": [
       "'Prelude\\nSummary\\n\\tThis is a charming vignette of Saint Theresa of Avila as a little girl, holding her brother by the hand, going out into the country side looking for martyrdom, illustrating the “passionate, ideal nature [that demands] an epic life.” Such a girl who has a “rapturous consciousness of life beyond self” could hardly be content with a normal woman’s life. She is the type of many such women today who yearn for an expanded life but are not helped by the “tangled circumstance” of society. This tragic sort of woman in the modern world has no channel for her life force, but only a “vague ideal and the common yearning of womanhood.” She is a swan among ducks and finds no fellowship.\\n\\tAnalysis\\n\\tEliot’s famous Prelude to Middlemarch could be the outcry of the Victorian woman, or women of any age, who have no outlet for their talents or direction for their spiritual lives. They are like the child Theresa, who nevertheless, even in a man’s world, grew up to reform a religious order. Eliot sets up an epic question: what sort of heroism is possible in the modern world, especially for women? Her main character, Dorothea Brooke, is such a modern St. Theresa.\\nChapters 1-5 (The Brooke Sisters)\\nSummary\\n\\tDorothea Brooke and her younger sister, Celia, are two young ladies of marriageable age who have recently come to live with their bachelor uncle and guardian, Mr. Brooke, at Tipton Grange. Though Dorothea is the striking and beautiful older sister, the rural opinion favors the pretty Celia as the one who is easier to understand. While Celia knows life through common sense, Dorothea is always out of place with her refined religious perceptions and longings. Dorothea is severe and Puritanical compared to Celia, who has normal coquettish desires for dress, jewelry, and conquests.\\n\\tDorothea does not want a husband like the neighbor, Sir James Chettham, an amiable but ordinary squire, who is in love with her. She thinks him boring, though in her passion for good works, she persuades him to build decent cottages for his tenants and gives him her designs. He goes along with her plans as he prepares to propose to her. No one reckons on Dorothea’s lofty thoughts of an ideal husband, who would be her superior in learning, and spiritually elevated. Into the picture steps Reverend Casaubon, a clergyman of fifty. Dorothea, not yet eighteen, immediately romanticizes him as a type of Milton or Locke. She wants to devote herself to someone who can teach her wisdom. Mr. Brooke tries to dissuade her from getting engaged to Casaubon, but she accepts him, to everyone’s shock.\\nAnalysis\\n\\tOne of the main characters of the novel is the narrator who tells the story from the multiple points of view of the characters, while adding her own reflective wisdom. This vantage point gives us compassionate insight into each character but within a certain social context, for the narrator stands for the collective wisdom gleaned from all the lives put together. This narrator is “omniscient” and anonymous, though we can think of her as close to George Eliot’s own viewpoint.\\n\\tImmediately, the narrator begins to uncover the fact that most people are lost in their own illusions of reality, one of the themes of the book. She brilliantly weaves together the intersecting illusions of all the characters, showing us the profile of the town of Middlemarch, a fictitious small town in the rural English midlands in the early nineteenth century. Middlemarch stands for English life just before the impact of the industrial revolution. The time is just before the great Reform Bill of 1832. Life is still somewhat simple and conventional here in this backwater, and the citizens are not interested in anything but daily concerns. This sets the stage for their clashes with the more extraordinary and farsighted characters, Dorothea and Lydgate and Will Ladislaw who stand for the forces of change.\\n\\tWhile it could be rather farcical that the beautiful Dorothea, who is constantly compared to the Blessed Virgin, is marrying Casaubon, the “dried bookworm of fifty,” Eliot treats Dorothea’s “soul hunger” as a real and tragic phenomenon in this society. She has no teacher or even comrade to whom she may tell of her own exalted thoughts and wishes. Even her sister Celia, though adoring her, criticizes her, and does not understand her need for living her religious vision in daily life. Dorothea thinks that Casaubon will understand and teach her, while he, it is clear, expects an obedient and self-abnegating wife. The narrator gives us foreshadowing of this problematic marriage by explaining Dorothea’s short-sightedness and “theoretic” nature, desire for “intensity and greatness.” Casaubon also has trouble with his vision and needs a secretary to help him with his life work, The Key to All Mythologies.\\n'"
      ]
     },
     "execution_count": 298,
     "metadata": {},
     "output_type": "execute_result"
    }
   ],
   "source": [
    "mm_summary_text"
   ]
  },
  {
   "cell_type": "code",
   "execution_count": 299,
   "metadata": {},
   "outputs": [
    {
     "data": {
      "text/plain": [
       "'Prelude\\nSummary\\n\\tThis is a charming vignette of Saint Theresa of Avila as a little girl, holding her brother by the hand, going out into the country side looking for martyrdom, illustrating the “passionate, ideal nature [that demands] an epic life.” Such a girl who has a “rapturous consciousness of life beyond self” could hardly be content with a normal woman’s life. She is the type of many such women today who yearn for an expanded life but are not helped by the “tangled circumstance” of society. This tragic sort of woman in the modern world has no channel for her life force, but only a “vague ideal and the common yearning of womanhood.” She is a swan among ducks and finds no fellowship.\\n\\t'"
      ]
     },
     "execution_count": 299,
     "metadata": {},
     "output_type": "execute_result"
    }
   ],
   "source": [
    "mm_prelude_sum = mm_summary_text.partition('Analysis')[0]\n",
    "mm_prelude_sum"
   ]
  },
  {
   "cell_type": "code",
   "execution_count": 300,
   "metadata": {},
   "outputs": [
    {
     "data": {
      "text/plain": [
       "' (The Brooke Sisters)\\nSummary\\n\\tDorothea Brooke and her younger sister, Celia, are two young ladies of marriageable age who have recently come to live with their bachelor uncle and guardian, Mr. Brooke, at Tipton Grange. Though Dorothea is the striking and beautiful older sister, the rural opinion favors the pretty Celia as the one who is easier to understand. While Celia knows life through common sense, Dorothea is always out of place with her refined religious perceptions and longings. Dorothea is severe and Puritanical compared to Celia, who has normal coquettish desires for dress, jewelry, and conquests.\\n\\tDorothea does not want a husband like the neighbor, Sir James Chettham, an amiable but ordinary squire, who is in love with her. She thinks him boring, though in her passion for good works, she persuades him to build decent cottages for his tenants and gives him her designs. He goes along with her plans as he prepares to propose to her. No one reckons on Dorothea’s lofty thoughts of an ideal husband, who would be her superior in learning, and spiritually elevated. Into the picture steps Reverend Casaubon, a clergyman of fifty. Dorothea, not yet eighteen, immediately romanticizes him as a type of Milton or Locke. She wants to devote herself to someone who can teach her wisdom. Mr. Brooke tries to dissuade her from getting engaged to Casaubon, but she accepts him, to everyone’s shock.\\n'"
      ]
     },
     "execution_count": 300,
     "metadata": {},
     "output_type": "execute_result"
    }
   ],
   "source": [
    "mm_ch_1_5_sum = (mm_summary_text.partition('Chapters 1-5')[2]).partition('Analysis')[0]\n",
    "mm_ch_1_5_sum"
   ]
  },
  {
   "cell_type": "code",
   "execution_count": 301,
   "metadata": {},
   "outputs": [
    {
     "data": {
      "text/html": [
       "<div>\n",
       "<style scoped>\n",
       "    .dataframe tbody tr th:only-of-type {\n",
       "        vertical-align: middle;\n",
       "    }\n",
       "\n",
       "    .dataframe tbody tr th {\n",
       "        vertical-align: top;\n",
       "    }\n",
       "\n",
       "    .dataframe thead th {\n",
       "        text-align: right;\n",
       "    }\n",
       "</style>\n",
       "<table border=\"1\" class=\"dataframe\">\n",
       "  <thead>\n",
       "    <tr style=\"text-align: right;\">\n",
       "      <th></th>\n",
       "      <th>chapter_title</th>\n",
       "      <th>chapter_summary</th>\n",
       "      <th>book_title</th>\n",
       "      <th>chapters</th>\n",
       "    </tr>\n",
       "  </thead>\n",
       "  <tbody>\n",
       "    <tr>\n",
       "      <th>354</th>\n",
       "      <td>Middlemarch: Novel Summary</td>\n",
       "      <td>Prelude\\nSummary\\n\\tThis is a charming vignett...</td>\n",
       "      <td>Middlemarch</td>\n",
       "      <td>Middlemarch: Novel Summary</td>\n",
       "    </tr>\n",
       "  </tbody>\n",
       "</table>\n",
       "</div>"
      ],
      "text/plain": [
       "                  chapter_title  \\\n",
       "354  Middlemarch: Novel Summary   \n",
       "\n",
       "                                       chapter_summary   book_title  \\\n",
       "354  Prelude\\nSummary\\n\\tThis is a charming vignett...  Middlemarch   \n",
       "\n",
       "                       chapters  \n",
       "354  Middlemarch: Novel Summary  "
      ]
     },
     "execution_count": 301,
     "metadata": {},
     "output_type": "execute_result"
    }
   ],
   "source": [
    "start_df('Middlemarch')"
   ]
  },
  {
   "cell_type": "code",
   "execution_count": 302,
   "metadata": {},
   "outputs": [
    {
     "data": {
      "text/html": [
       "<div>\n",
       "<style scoped>\n",
       "    .dataframe tbody tr th:only-of-type {\n",
       "        vertical-align: middle;\n",
       "    }\n",
       "\n",
       "    .dataframe tbody tr th {\n",
       "        vertical-align: top;\n",
       "    }\n",
       "\n",
       "    .dataframe thead th {\n",
       "        text-align: right;\n",
       "    }\n",
       "</style>\n",
       "<table border=\"1\" class=\"dataframe\">\n",
       "  <thead>\n",
       "    <tr style=\"text-align: right;\">\n",
       "      <th></th>\n",
       "      <th>chapter_title</th>\n",
       "      <th>chapter_summary</th>\n",
       "      <th>book_title</th>\n",
       "      <th>chapters</th>\n",
       "    </tr>\n",
       "  </thead>\n",
       "  <tbody>\n",
       "    <tr>\n",
       "      <th>0</th>\n",
       "      <td>Middlemarch: Novel Summary Prelude</td>\n",
       "      <td>Prelude\\nSummary\\n\\tThis is a charming vignett...</td>\n",
       "      <td>Middlemarch</td>\n",
       "      <td>Prelude</td>\n",
       "    </tr>\n",
       "    <tr>\n",
       "      <th>1</th>\n",
       "      <td>Middlemarch: Novel Summary Chapters 1-5</td>\n",
       "      <td>(The Brooke Sisters)\\nSummary\\n\\tDorothea Bro...</td>\n",
       "      <td>Middlemarch</td>\n",
       "      <td>Chapters 1-5</td>\n",
       "    </tr>\n",
       "  </tbody>\n",
       "</table>\n",
       "</div>"
      ],
      "text/plain": [
       "                             chapter_title  \\\n",
       "0       Middlemarch: Novel Summary Prelude   \n",
       "1  Middlemarch: Novel Summary Chapters 1-5   \n",
       "\n",
       "                                     chapter_summary   book_title  \\\n",
       "0  Prelude\\nSummary\\n\\tThis is a charming vignett...  Middlemarch   \n",
       "1   (The Brooke Sisters)\\nSummary\\n\\tDorothea Bro...  Middlemarch   \n",
       "\n",
       "       chapters  \n",
       "0       Prelude  \n",
       "1  Chapters 1-5  "
      ]
     },
     "execution_count": 302,
     "metadata": {},
     "output_type": "execute_result"
    }
   ],
   "source": [
    "mm = {\n",
    "    'chapter_title':['Middlemarch: Novel Summary Prelude', 'Middlemarch: Novel Summary Chapters 1-5'],\n",
    "    'chapter_summary':[mm_prelude_sum, mm_ch_1_5_sum],\n",
    "    'book_title':['Middlemarch', 'Middlemarch'],\n",
    "    'chapters':['Prelude', 'Chapters 1-5']\n",
    "}\n",
    "\n",
    "mm_df = pd.DataFrame(mm)\n",
    "\n",
    "mm_df"
   ]
  },
  {
   "cell_type": "markdown",
   "metadata": {},
   "source": [
    "##### Split text into chapters"
   ]
  },
  {
   "cell_type": "code",
   "execution_count": 303,
   "metadata": {},
   "outputs": [],
   "source": [
    "mm_text = open('./data/book_full_texts/Middlemarch.txt', 'r').read()"
   ]
  },
  {
   "cell_type": "code",
   "execution_count": 304,
   "metadata": {},
   "outputs": [],
   "source": [
    "mm_prelude = mm_text.partition('BOOK I.')[0]"
   ]
  },
  {
   "cell_type": "code",
   "execution_count": 305,
   "metadata": {},
   "outputs": [],
   "source": [
    "mm_ch_1_5 = (mm_text.partition('CHAPTER I.')[2]).partition('CHAPTER VI')[0]"
   ]
  },
  {
   "cell_type": "markdown",
   "metadata": {},
   "source": [
    "##### Add chapter texts to dataframe"
   ]
  },
  {
   "cell_type": "code",
   "execution_count": 306,
   "metadata": {},
   "outputs": [
    {
     "data": {
      "text/html": [
       "<div>\n",
       "<style scoped>\n",
       "    .dataframe tbody tr th:only-of-type {\n",
       "        vertical-align: middle;\n",
       "    }\n",
       "\n",
       "    .dataframe tbody tr th {\n",
       "        vertical-align: top;\n",
       "    }\n",
       "\n",
       "    .dataframe thead th {\n",
       "        text-align: right;\n",
       "    }\n",
       "</style>\n",
       "<table border=\"1\" class=\"dataframe\">\n",
       "  <thead>\n",
       "    <tr style=\"text-align: right;\">\n",
       "      <th></th>\n",
       "      <th>chapter_title</th>\n",
       "      <th>chapter_summary</th>\n",
       "      <th>book_title</th>\n",
       "      <th>chapters</th>\n",
       "      <th>chapter_text</th>\n",
       "    </tr>\n",
       "  </thead>\n",
       "  <tbody>\n",
       "    <tr>\n",
       "      <th>0</th>\n",
       "      <td>Middlemarch: Novel Summary Prelude</td>\n",
       "      <td>Prelude\\nSummary\\n\\tThis is a charming vignett...</td>\n",
       "      <td>Middlemarch</td>\n",
       "      <td>Prelude</td>\n",
       "      <td>MiddlemarchbyGeorge Eliot\\n\\n\\n\\n\\nScanned wit...</td>\n",
       "    </tr>\n",
       "    <tr>\n",
       "      <th>1</th>\n",
       "      <td>Middlemarch: Novel Summary Chapters 1-5</td>\n",
       "      <td>(The Brooke Sisters)\\nSummary\\n\\tDorothea Bro...</td>\n",
       "      <td>Middlemarch</td>\n",
       "      <td>Chapters 1-5</td>\n",
       "      <td>\\n\\n    \"Since I can do no good because a woma...</td>\n",
       "    </tr>\n",
       "  </tbody>\n",
       "</table>\n",
       "</div>"
      ],
      "text/plain": [
       "                             chapter_title  \\\n",
       "0       Middlemarch: Novel Summary Prelude   \n",
       "1  Middlemarch: Novel Summary Chapters 1-5   \n",
       "\n",
       "                                     chapter_summary   book_title  \\\n",
       "0  Prelude\\nSummary\\n\\tThis is a charming vignett...  Middlemarch   \n",
       "1   (The Brooke Sisters)\\nSummary\\n\\tDorothea Bro...  Middlemarch   \n",
       "\n",
       "       chapters                                       chapter_text  \n",
       "0       Prelude  MiddlemarchbyGeorge Eliot\\n\\n\\n\\n\\nScanned wit...  \n",
       "1  Chapters 1-5  \\n\\n    \"Since I can do no good because a woma...  "
      ]
     },
     "execution_count": 306,
     "metadata": {},
     "output_type": "execute_result"
    }
   ],
   "source": [
    "mm_df['chapter_text'] = [mm_prelude, mm_ch_1_5]\n",
    "mm_df"
   ]
  },
  {
   "cell_type": "markdown",
   "metadata": {},
   "source": [
    "#### Add book to main dataframe"
   ]
  },
  {
   "cell_type": "code",
   "execution_count": 307,
   "metadata": {},
   "outputs": [],
   "source": [
    "main_df = pd.concat([main_df, mm_df])"
   ]
  },
  {
   "cell_type": "code",
   "execution_count": 308,
   "metadata": {},
   "outputs": [
    {
     "data": {
      "text/plain": [
       "323"
      ]
     },
     "execution_count": 308,
     "metadata": {},
     "output_type": "execute_result"
    }
   ],
   "source": [
    "len(main_df)"
   ]
  },
  {
   "cell_type": "markdown",
   "metadata": {},
   "source": [
    "# Check main dataframe"
   ]
  },
  {
   "cell_type": "markdown",
   "metadata": {},
   "source": [
    "## Examine main df"
   ]
  },
  {
   "cell_type": "code",
   "execution_count": 309,
   "metadata": {},
   "outputs": [
    {
     "data": {
      "text/html": [
       "<div>\n",
       "<style scoped>\n",
       "    .dataframe tbody tr th:only-of-type {\n",
       "        vertical-align: middle;\n",
       "    }\n",
       "\n",
       "    .dataframe tbody tr th {\n",
       "        vertical-align: top;\n",
       "    }\n",
       "\n",
       "    .dataframe thead th {\n",
       "        text-align: right;\n",
       "    }\n",
       "</style>\n",
       "<table border=\"1\" class=\"dataframe\">\n",
       "  <thead>\n",
       "    <tr style=\"text-align: right;\">\n",
       "      <th></th>\n",
       "      <th>chapter_title</th>\n",
       "      <th>chapter_summary</th>\n",
       "      <th>book_title</th>\n",
       "      <th>chapters</th>\n",
       "      <th>chapter_text</th>\n",
       "    </tr>\n",
       "  </thead>\n",
       "  <tbody>\n",
       "    <tr>\n",
       "      <th>16</th>\n",
       "      <td>The Age of Innocence: Novel Summary: Chapters 1-3</td>\n",
       "      <td>Chapters 1-3\\n\\n\\t \\nSummary\\n\\tThe story open...</td>\n",
       "      <td>The Age of Innocence</td>\n",
       "      <td>Chapters 1-3</td>\n",
       "      <td>The Age of InnocencebyEdith Wharton\\n\\n\\n\\n\\n\\...</td>\n",
       "    </tr>\n",
       "    <tr>\n",
       "      <th>17</th>\n",
       "      <td>The Age of Innocence: Novel Summary: Chapters 4-6</td>\n",
       "      <td>Chapters 4-6\\nSummary\\n\\tArcher and May begin ...</td>\n",
       "      <td>The Age of Innocence</td>\n",
       "      <td>Chapters 4-6</td>\n",
       "      <td>\\n\\nIn the course of the next day the first of...</td>\n",
       "    </tr>\n",
       "    <tr>\n",
       "      <th>18</th>\n",
       "      <td>The Age of Innocence: Novel Summary: Chapters 7-9</td>\n",
       "      <td>Chapters 7-9\\nSummary\\n\\tMrs Archer and her so...</td>\n",
       "      <td>The Age of Innocence</td>\n",
       "      <td>Chapters 7-9</td>\n",
       "      <td>\\n\\nMrs. Henry van der Luyden listened in sile...</td>\n",
       "    </tr>\n",
       "    <tr>\n",
       "      <th>19</th>\n",
       "      <td>The Age of Innocence: Novel Summary: Chapters ...</td>\n",
       "      <td>Chapters 10-12\\nSummary\\n\\tArcher tells May ab...</td>\n",
       "      <td>The Age of Innocence</td>\n",
       "      <td>Chapters 10-12</td>\n",
       "      <td>\\n\\nThe Countess Olenska had said \"after five\"...</td>\n",
       "    </tr>\n",
       "    <tr>\n",
       "      <th>20</th>\n",
       "      <td>The Age of Innocence: Novel Summary: Chapters ...</td>\n",
       "      <td>Chapters 13-15\\nSummary\\n\\tAt the theatre, Arc...</td>\n",
       "      <td>The Age of Innocence</td>\n",
       "      <td>Chapters 13-15</td>\n",
       "      <td>\\n\\nIt was a crowded night at Wallack's theatr...</td>\n",
       "    </tr>\n",
       "    <tr>\n",
       "      <th>21</th>\n",
       "      <td>The Age of Innocence: Novel Summary: Chapters ...</td>\n",
       "      <td>Chapters 16-18\\nSummary\\n\\tArcher arrives at S...</td>\n",
       "      <td>The Age of Innocence</td>\n",
       "      <td>Chapters 16-18</td>\n",
       "      <td>\\n\\nWhen Archer walked down the sandy main str...</td>\n",
       "    </tr>\n",
       "    <tr>\n",
       "      <th>22</th>\n",
       "      <td>The Age of Innocence: Novel Summary: Chapters ...</td>\n",
       "      <td>Chapters 19-21\\nSummary\\n\\tUnder the eyes of N...</td>\n",
       "      <td>The Age of Innocence</td>\n",
       "      <td>Chapters 19-21</td>\n",
       "      <td>\\n\\nThe day was fresh, with a lively spring wi...</td>\n",
       "    </tr>\n",
       "    <tr>\n",
       "      <th>23</th>\n",
       "      <td>The Age of Innocence: Novel Summary: Chapters ...</td>\n",
       "      <td>Chapters 22-24\\nSummary\\n\\tMr and Mrs Emerson ...</td>\n",
       "      <td>The Age of Innocence</td>\n",
       "      <td>Chapters 22-24</td>\n",
       "      <td>\\n\\nA party for the Blenkers--the Blenkers?\"\\n...</td>\n",
       "    </tr>\n",
       "    <tr>\n",
       "      <th>24</th>\n",
       "      <td>The Age of Innocence: Novel Summary: Chapters ...</td>\n",
       "      <td>Chapters 25-27\\nSummary\\n\\tAs he leaves Boston...</td>\n",
       "      <td>The Age of Innocence</td>\n",
       "      <td>Chapters 25-27</td>\n",
       "      <td>\\n\\nOnce more on the boat, and in the presence...</td>\n",
       "    </tr>\n",
       "    <tr>\n",
       "      <th>25</th>\n",
       "      <td>The Age of Innocence: Novel Summary: Chapters ...</td>\n",
       "      <td>Chapters 28-30\\nSummary\\n\\tArcher sends a tele...</td>\n",
       "      <td>The Age of Innocence</td>\n",
       "      <td>Chapters 28-30</td>\n",
       "      <td>\\n\\nOl-ol--howjer spell it, anyhow?\" asked the...</td>\n",
       "    </tr>\n",
       "    <tr>\n",
       "      <th>26</th>\n",
       "      <td>The Age of Innocence: Novel Summary: Chapters ...</td>\n",
       "      <td>Chapters 31-33\\nSummary\\n\\tArcher is stunned a...</td>\n",
       "      <td>The Age of Innocence</td>\n",
       "      <td>Chapters 31-33</td>\n",
       "      <td>\\n\\nArcher had been stunned by old Catherine's...</td>\n",
       "    </tr>\n",
       "    <tr>\n",
       "      <th>27</th>\n",
       "      <td>The Age of Innocence: Novel Summary: Chapter 34</td>\n",
       "      <td>Chapter 34\\nSummary\\n\\tIt is twenty-five years...</td>\n",
       "      <td>The Age of Innocence</td>\n",
       "      <td>Chapter 34</td>\n",
       "      <td>\\n\\nNewland Archer sat at the writing-table in...</td>\n",
       "    </tr>\n",
       "    <tr>\n",
       "      <th>28</th>\n",
       "      <td>Pride and Prejudice: Novel Summary: Chapters 1-4</td>\n",
       "      <td>Chapter 1: Chapter one introduces Mr. and Mrs....</td>\n",
       "      <td>Pride and Prejudice</td>\n",
       "      <td>Chapters 1-4</td>\n",
       "      <td>Pride and PrejudicebyJane Austen\\n\\n\\n\\n\\nPrid...</td>\n",
       "    </tr>\n",
       "    <tr>\n",
       "      <th>29</th>\n",
       "      <td>Pride and Prejudice: Novel Summary: Chapters 5-8</td>\n",
       "      <td>Chapter 5: Sir William and Lady Lucas are furt...</td>\n",
       "      <td>Pride and Prejudice</td>\n",
       "      <td>Chapters 5-8</td>\n",
       "      <td>\\n\\n\\nWithin a short walk of Longbourn lived a...</td>\n",
       "    </tr>\n",
       "    <tr>\n",
       "      <th>30</th>\n",
       "      <td>Pride and Prejudice: Novel Summary: Chapters 9-12</td>\n",
       "      <td>Chapter 9: Mrs. Bingley and her two youngest d...</td>\n",
       "      <td>Pride and Prejudice</td>\n",
       "      <td>Chapters 9-12</td>\n",
       "      <td>\\n\\n\\nElizabeth passed the chief of the night ...</td>\n",
       "    </tr>\n",
       "    <tr>\n",
       "      <th>31</th>\n",
       "      <td>Pride and Prejudice: Novel Summary: Chapters 1...</td>\n",
       "      <td>Chapter 13: Mr. Bennet reveals that he has rec...</td>\n",
       "      <td>Pride and Prejudice</td>\n",
       "      <td>Chapters 13-16</td>\n",
       "      <td>\\n\\n\\n\"I hope, my dear,\" said Mr. Bennet to hi...</td>\n",
       "    </tr>\n",
       "    <tr>\n",
       "      <th>32</th>\n",
       "      <td>Pride and Prejudice: Novel Summary: Chapters 1...</td>\n",
       "      <td>Chapter 17: The next day Elizabeth tells Jane ...</td>\n",
       "      <td>Pride and Prejudice</td>\n",
       "      <td>Chapters 17-20</td>\n",
       "      <td>\\n\\n\\nElizabeth related to Jane the next day w...</td>\n",
       "    </tr>\n",
       "    <tr>\n",
       "      <th>33</th>\n",
       "      <td>Pride and Prejudice: Novel Summary: Chapters 2...</td>\n",
       "      <td>Chapter 21: Mr. Collins begins to ignore Eliza...</td>\n",
       "      <td>Pride and Prejudice</td>\n",
       "      <td>Chapters 21-24</td>\n",
       "      <td>\\n\\n\\nThe discussion of Mr. Collins's offer wa...</td>\n",
       "    </tr>\n",
       "    <tr>\n",
       "      <th>34</th>\n",
       "      <td>Pride and Prejudice: Novel Summary: Chapters 2...</td>\n",
       "      <td>Chapter 25: Mr. Collins returns to his parish,...</td>\n",
       "      <td>Pride and Prejudice</td>\n",
       "      <td>Chapters 25-28</td>\n",
       "      <td>\\n\\n\\nAfter a week spent in professions of lov...</td>\n",
       "    </tr>\n",
       "    <tr>\n",
       "      <th>35</th>\n",
       "      <td>Pride and Prejudice: Novel Summary: Chapters 2...</td>\n",
       "      <td>Chapter 29: The next day Collins talks about o...</td>\n",
       "      <td>Pride and Prejudice</td>\n",
       "      <td>Chapters 29-32</td>\n",
       "      <td>\\n\\n\\nMr. Collins's triumph, in consequence of...</td>\n",
       "    </tr>\n",
       "    <tr>\n",
       "      <th>36</th>\n",
       "      <td>Pride and Prejudice: Novel Summary: Chapters 3...</td>\n",
       "      <td>Chapter 33: More than once Elizabeth has unexp...</td>\n",
       "      <td>Pride and Prejudice</td>\n",
       "      <td>Chapters 33-36</td>\n",
       "      <td>\\n\\n\\nMore than once did Elizabeth, in her ram...</td>\n",
       "    </tr>\n",
       "    <tr>\n",
       "      <th>37</th>\n",
       "      <td>Pride and Prejudice: Novel Summary: Chapters 3...</td>\n",
       "      <td>Chapter 37: Darcy and Fitzwilliam leave Rosing...</td>\n",
       "      <td>Pride and Prejudice</td>\n",
       "      <td>Chapters 37-40</td>\n",
       "      <td>\\n\\n\\nThe two gentlemen left Rosings the next ...</td>\n",
       "    </tr>\n",
       "    <tr>\n",
       "      <th>38</th>\n",
       "      <td>Pride and Prejudice: Novel Summary: Chapters 4...</td>\n",
       "      <td>Chapter 41: When the regiment leaves Meryton K...</td>\n",
       "      <td>Pride and Prejudice</td>\n",
       "      <td>Chapters 41-44</td>\n",
       "      <td>\\n\\n\\nThe first week of their return was soon ...</td>\n",
       "    </tr>\n",
       "    <tr>\n",
       "      <th>39</th>\n",
       "      <td>Pride and Prejudice: Novel Summary: Chapters 4...</td>\n",
       "      <td>Chapter 45: Elizabeth is now convinced that Mi...</td>\n",
       "      <td>Pride and Prejudice</td>\n",
       "      <td>Chapters 45-48</td>\n",
       "      <td>\\n\\n\\nConvinced as Elizabeth now was that Miss...</td>\n",
       "    </tr>\n",
       "    <tr>\n",
       "      <th>40</th>\n",
       "      <td>Pride and Prejudice: Novel Summary: Chapters 4...</td>\n",
       "      <td>Chapter 49: Two days after Mr. Bennet returns,...</td>\n",
       "      <td>Pride and Prejudice</td>\n",
       "      <td>Chapters 49-52</td>\n",
       "      <td>\\n\\n\\nTwo days after Mr. Bennet's return, as J...</td>\n",
       "    </tr>\n",
       "  </tbody>\n",
       "</table>\n",
       "</div>"
      ],
      "text/plain": [
       "                                        chapter_title  \\\n",
       "16  The Age of Innocence: Novel Summary: Chapters 1-3   \n",
       "17  The Age of Innocence: Novel Summary: Chapters 4-6   \n",
       "18  The Age of Innocence: Novel Summary: Chapters 7-9   \n",
       "19  The Age of Innocence: Novel Summary: Chapters ...   \n",
       "20  The Age of Innocence: Novel Summary: Chapters ...   \n",
       "21  The Age of Innocence: Novel Summary: Chapters ...   \n",
       "22  The Age of Innocence: Novel Summary: Chapters ...   \n",
       "23  The Age of Innocence: Novel Summary: Chapters ...   \n",
       "24  The Age of Innocence: Novel Summary: Chapters ...   \n",
       "25  The Age of Innocence: Novel Summary: Chapters ...   \n",
       "26  The Age of Innocence: Novel Summary: Chapters ...   \n",
       "27    The Age of Innocence: Novel Summary: Chapter 34   \n",
       "28   Pride and Prejudice: Novel Summary: Chapters 1-4   \n",
       "29   Pride and Prejudice: Novel Summary: Chapters 5-8   \n",
       "30  Pride and Prejudice: Novel Summary: Chapters 9-12   \n",
       "31  Pride and Prejudice: Novel Summary: Chapters 1...   \n",
       "32  Pride and Prejudice: Novel Summary: Chapters 1...   \n",
       "33  Pride and Prejudice: Novel Summary: Chapters 2...   \n",
       "34  Pride and Prejudice: Novel Summary: Chapters 2...   \n",
       "35  Pride and Prejudice: Novel Summary: Chapters 2...   \n",
       "36  Pride and Prejudice: Novel Summary: Chapters 3...   \n",
       "37  Pride and Prejudice: Novel Summary: Chapters 3...   \n",
       "38  Pride and Prejudice: Novel Summary: Chapters 4...   \n",
       "39  Pride and Prejudice: Novel Summary: Chapters 4...   \n",
       "40  Pride and Prejudice: Novel Summary: Chapters 4...   \n",
       "\n",
       "                                      chapter_summary            book_title  \\\n",
       "16  Chapters 1-3\\n\\n\\t \\nSummary\\n\\tThe story open...  The Age of Innocence   \n",
       "17  Chapters 4-6\\nSummary\\n\\tArcher and May begin ...  The Age of Innocence   \n",
       "18  Chapters 7-9\\nSummary\\n\\tMrs Archer and her so...  The Age of Innocence   \n",
       "19  Chapters 10-12\\nSummary\\n\\tArcher tells May ab...  The Age of Innocence   \n",
       "20  Chapters 13-15\\nSummary\\n\\tAt the theatre, Arc...  The Age of Innocence   \n",
       "21  Chapters 16-18\\nSummary\\n\\tArcher arrives at S...  The Age of Innocence   \n",
       "22  Chapters 19-21\\nSummary\\n\\tUnder the eyes of N...  The Age of Innocence   \n",
       "23  Chapters 22-24\\nSummary\\n\\tMr and Mrs Emerson ...  The Age of Innocence   \n",
       "24  Chapters 25-27\\nSummary\\n\\tAs he leaves Boston...  The Age of Innocence   \n",
       "25  Chapters 28-30\\nSummary\\n\\tArcher sends a tele...  The Age of Innocence   \n",
       "26  Chapters 31-33\\nSummary\\n\\tArcher is stunned a...  The Age of Innocence   \n",
       "27  Chapter 34\\nSummary\\n\\tIt is twenty-five years...  The Age of Innocence   \n",
       "28  Chapter 1: Chapter one introduces Mr. and Mrs....   Pride and Prejudice   \n",
       "29  Chapter 5: Sir William and Lady Lucas are furt...   Pride and Prejudice   \n",
       "30  Chapter 9: Mrs. Bingley and her two youngest d...   Pride and Prejudice   \n",
       "31  Chapter 13: Mr. Bennet reveals that he has rec...   Pride and Prejudice   \n",
       "32  Chapter 17: The next day Elizabeth tells Jane ...   Pride and Prejudice   \n",
       "33  Chapter 21: Mr. Collins begins to ignore Eliza...   Pride and Prejudice   \n",
       "34  Chapter 25: Mr. Collins returns to his parish,...   Pride and Prejudice   \n",
       "35  Chapter 29: The next day Collins talks about o...   Pride and Prejudice   \n",
       "36  Chapter 33: More than once Elizabeth has unexp...   Pride and Prejudice   \n",
       "37  Chapter 37: Darcy and Fitzwilliam leave Rosing...   Pride and Prejudice   \n",
       "38  Chapter 41: When the regiment leaves Meryton K...   Pride and Prejudice   \n",
       "39  Chapter 45: Elizabeth is now convinced that Mi...   Pride and Prejudice   \n",
       "40  Chapter 49: Two days after Mr. Bennet returns,...   Pride and Prejudice   \n",
       "\n",
       "          chapters                                       chapter_text  \n",
       "16    Chapters 1-3  The Age of InnocencebyEdith Wharton\\n\\n\\n\\n\\n\\...  \n",
       "17    Chapters 4-6  \\n\\nIn the course of the next day the first of...  \n",
       "18    Chapters 7-9  \\n\\nMrs. Henry van der Luyden listened in sile...  \n",
       "19  Chapters 10-12  \\n\\nThe Countess Olenska had said \"after five\"...  \n",
       "20  Chapters 13-15  \\n\\nIt was a crowded night at Wallack's theatr...  \n",
       "21  Chapters 16-18  \\n\\nWhen Archer walked down the sandy main str...  \n",
       "22  Chapters 19-21  \\n\\nThe day was fresh, with a lively spring wi...  \n",
       "23  Chapters 22-24  \\n\\nA party for the Blenkers--the Blenkers?\"\\n...  \n",
       "24  Chapters 25-27  \\n\\nOnce more on the boat, and in the presence...  \n",
       "25  Chapters 28-30  \\n\\nOl-ol--howjer spell it, anyhow?\" asked the...  \n",
       "26  Chapters 31-33  \\n\\nArcher had been stunned by old Catherine's...  \n",
       "27      Chapter 34  \\n\\nNewland Archer sat at the writing-table in...  \n",
       "28    Chapters 1-4  Pride and PrejudicebyJane Austen\\n\\n\\n\\n\\nPrid...  \n",
       "29    Chapters 5-8  \\n\\n\\nWithin a short walk of Longbourn lived a...  \n",
       "30   Chapters 9-12  \\n\\n\\nElizabeth passed the chief of the night ...  \n",
       "31  Chapters 13-16  \\n\\n\\n\"I hope, my dear,\" said Mr. Bennet to hi...  \n",
       "32  Chapters 17-20  \\n\\n\\nElizabeth related to Jane the next day w...  \n",
       "33  Chapters 21-24  \\n\\n\\nThe discussion of Mr. Collins's offer wa...  \n",
       "34  Chapters 25-28  \\n\\n\\nAfter a week spent in professions of lov...  \n",
       "35  Chapters 29-32  \\n\\n\\nMr. Collins's triumph, in consequence of...  \n",
       "36  Chapters 33-36  \\n\\n\\nMore than once did Elizabeth, in her ram...  \n",
       "37  Chapters 37-40  \\n\\n\\nThe two gentlemen left Rosings the next ...  \n",
       "38  Chapters 41-44  \\n\\n\\nThe first week of their return was soon ...  \n",
       "39  Chapters 45-48  \\n\\n\\nConvinced as Elizabeth now was that Miss...  \n",
       "40  Chapters 49-52  \\n\\n\\nTwo days after Mr. Bennet's return, as J...  "
      ]
     },
     "execution_count": 309,
     "metadata": {},
     "output_type": "execute_result"
    }
   ],
   "source": [
    "main_df.head(25)"
   ]
  },
  {
   "cell_type": "markdown",
   "metadata": {},
   "source": [
    "## Check that all texts added to main df correctly"
   ]
  },
  {
   "cell_type": "code",
   "execution_count": 310,
   "metadata": {},
   "outputs": [
    {
     "data": {
      "text/plain": [
       "chapter_title      0\n",
       "chapter_summary    0\n",
       "book_title         0\n",
       "chapters           0\n",
       "chapter_text       0\n",
       "dtype: int64"
      ]
     },
     "execution_count": 310,
     "metadata": {},
     "output_type": "execute_result"
    }
   ],
   "source": [
    "main_df.isna().sum()"
   ]
  },
  {
   "cell_type": "code",
   "execution_count": 311,
   "metadata": {},
   "outputs": [
    {
     "data": {
      "text/plain": [
       "0"
      ]
     },
     "execution_count": 311,
     "metadata": {},
     "output_type": "execute_result"
    }
   ],
   "source": [
    "main_df['chapter_text'].isna().sum()"
   ]
  },
  {
   "cell_type": "code",
   "execution_count": 312,
   "metadata": {},
   "outputs": [
    {
     "data": {
      "text/html": [
       "<div>\n",
       "<style scoped>\n",
       "    .dataframe tbody tr th:only-of-type {\n",
       "        vertical-align: middle;\n",
       "    }\n",
       "\n",
       "    .dataframe tbody tr th {\n",
       "        vertical-align: top;\n",
       "    }\n",
       "\n",
       "    .dataframe thead th {\n",
       "        text-align: right;\n",
       "    }\n",
       "</style>\n",
       "<table border=\"1\" class=\"dataframe\">\n",
       "  <thead>\n",
       "    <tr style=\"text-align: right;\">\n",
       "      <th></th>\n",
       "      <th>chapter_title</th>\n",
       "      <th>chapter_summary</th>\n",
       "      <th>book_title</th>\n",
       "      <th>chapters</th>\n",
       "      <th>chapter_text</th>\n",
       "    </tr>\n",
       "  </thead>\n",
       "  <tbody>\n",
       "    <tr>\n",
       "      <th>69</th>\n",
       "      <td>Merry Wives of Windsor: Novel Summary: Act I S...</td>\n",
       "      <td>\\n\\t \\nAct I Scene 3\\n\\tFalstaff tells the Hos...</td>\n",
       "      <td>Merry Wives of Windsor</td>\n",
       "      <td>Act I Scene 3</td>\n",
       "      <td></td>\n",
       "    </tr>\n",
       "    <tr>\n",
       "      <th>70</th>\n",
       "      <td>Merry Wives of Windsor: Novel Summary: Act I S...</td>\n",
       "      <td>\\n\\t \\nAct I Scene 4\\n\\tAt Dr. Caius's house, ...</td>\n",
       "      <td>Merry Wives of Windsor</td>\n",
       "      <td>Act I Scene 4</td>\n",
       "      <td></td>\n",
       "    </tr>\n",
       "    <tr>\n",
       "      <th>72</th>\n",
       "      <td>Merry Wives of Windsor: Novel Summary: Act II ...</td>\n",
       "      <td>\\n\\t \\nAct II Scene 2\\n\\tPistol asks Falstaff ...</td>\n",
       "      <td>Merry Wives of Windsor</td>\n",
       "      <td>Act II Scene 2</td>\n",
       "      <td></td>\n",
       "    </tr>\n",
       "    <tr>\n",
       "      <th>73</th>\n",
       "      <td>Merry Wives of Windsor: Novel Summary: Act II ...</td>\n",
       "      <td>\\n\\t \\nAct II Scene 3\\n\\t- Act III Scene 1\\n\\t...</td>\n",
       "      <td>Merry Wives of Windsor</td>\n",
       "      <td>Act II Scene 3 - Act III Scene 1</td>\n",
       "      <td></td>\n",
       "    </tr>\n",
       "    <tr>\n",
       "      <th>74</th>\n",
       "      <td>Merry Wives of Windsor: Novel Summary: Act III...</td>\n",
       "      <td>\\n\\t \\nAct III Scene 2\\n\\tFord encounters Mrs....</td>\n",
       "      <td>Merry Wives of Windsor</td>\n",
       "      <td>Act III Scene 2</td>\n",
       "      <td></td>\n",
       "    </tr>\n",
       "    <tr>\n",
       "      <th>75</th>\n",
       "      <td>Merry Wives of Windsor: Novel Summary: Act III...</td>\n",
       "      <td>\\n\\t \\nAct III Scene 3\\n\\tAt Ford's house, Mrs...</td>\n",
       "      <td>Merry Wives of Windsor</td>\n",
       "      <td>Act III Scene 3</td>\n",
       "      <td></td>\n",
       "    </tr>\n",
       "    <tr>\n",
       "      <th>76</th>\n",
       "      <td>Merry Wives of Windsor: Novel Summary: Act III...</td>\n",
       "      <td>\\n\\t \\nAct III Scene 4\\n\\tFenton tells Anne Pa...</td>\n",
       "      <td>Merry Wives of Windsor</td>\n",
       "      <td>Act III Scene 4</td>\n",
       "      <td></td>\n",
       "    </tr>\n",
       "    <tr>\n",
       "      <th>77</th>\n",
       "      <td>Merry Wives of Windsor: Novel Summary: Act III...</td>\n",
       "      <td>\\n\\t \\nAct III Scene 5\\n\\tFalstaff tells Bardo...</td>\n",
       "      <td>Merry Wives of Windsor</td>\n",
       "      <td>Act III Scene 5</td>\n",
       "      <td></td>\n",
       "    </tr>\n",
       "    <tr>\n",
       "      <th>78</th>\n",
       "      <td>Merry Wives of Windsor: Novel Summary: Act IV ...</td>\n",
       "      <td>\\n\\t \\nAct IV\\n\\tScene 1-2\\n\\tScene 1 is a sho...</td>\n",
       "      <td>Merry Wives of Windsor</td>\n",
       "      <td>Act IV Scene 1-2</td>\n",
       "      <td></td>\n",
       "    </tr>\n",
       "    <tr>\n",
       "      <th>79</th>\n",
       "      <td>Merry Wives of Windsor: Novel Summary: Act IV ...</td>\n",
       "      <td>\\n\\t \\nAct IV\\n\\tScene 3-4\\n\\tIn scene 3, Bard...</td>\n",
       "      <td>Merry Wives of Windsor</td>\n",
       "      <td>Act IV Scene 3-4</td>\n",
       "      <td></td>\n",
       "    </tr>\n",
       "    <tr>\n",
       "      <th>80</th>\n",
       "      <td>Merry Wives of Windsor: Novel Summary: Act IV ...</td>\n",
       "      <td>\\n\\t \\nAct IV\\n\\tScene 5-6\\n\\tAt the Garter In...</td>\n",
       "      <td>Merry Wives of Windsor</td>\n",
       "      <td>Act IV Scene 5-6</td>\n",
       "      <td></td>\n",
       "    </tr>\n",
       "    <tr>\n",
       "      <th>88</th>\n",
       "      <td>Cymbeline: Novel Summary: Act 1 Scene 7</td>\n",
       "      <td>Summary\\n\\tImogen is lamenting her unhappy sit...</td>\n",
       "      <td>Cymbeline</td>\n",
       "      <td>Act 1 Scene 7</td>\n",
       "      <td></td>\n",
       "    </tr>\n",
       "    <tr>\n",
       "      <th>100</th>\n",
       "      <td>Cymbeline: Novel Summary: Act 3 Scene 8</td>\n",
       "      <td>Summary\\n\\tIn Rome, the First Senator is addre...</td>\n",
       "      <td>Cymbeline</td>\n",
       "      <td>Act 3 Scene 8</td>\n",
       "      <td></td>\n",
       "    </tr>\n",
       "    <tr>\n",
       "      <th>137</th>\n",
       "      <td>The Inferno: Novel Summary: Canto 21-22</td>\n",
       "      <td>Summary\\n\\tIn the Fifth Bolgia, Dante sees boi...</td>\n",
       "      <td>Dantes Inferno</td>\n",
       "      <td>Canto 21-22</td>\n",
       "      <td></td>\n",
       "    </tr>\n",
       "    <tr>\n",
       "      <th>164</th>\n",
       "      <td>Wuthering Heights: Novel Summary: Chapters 7-8</td>\n",
       "      <td>Chapter 7: Mrs. Dean cleans Heathcliff up and ...</td>\n",
       "      <td>Wuthering Heights</td>\n",
       "      <td>Chapters 7-8</td>\n",
       "      <td></td>\n",
       "    </tr>\n",
       "    <tr>\n",
       "      <th>284</th>\n",
       "      <td>Oliver Twist: Novel Summary: Chapters52-53</td>\n",
       "      <td>\\nChapter 52: Fagin was condemned to hang in ...</td>\n",
       "      <td>Oliver Twist</td>\n",
       "      <td>Chapters52-53</td>\n",
       "      <td></td>\n",
       "    </tr>\n",
       "    <tr>\n",
       "      <th>292</th>\n",
       "      <td>As You Like It: Novel Summary: Act 3, Scene 1-...</td>\n",
       "      <td>Act 3, Scene 1: Duke Frederick tells Oliver he...</td>\n",
       "      <td>As You Like It</td>\n",
       "      <td>Act 3, Scene 1-Act 3, Scene 2</td>\n",
       "      <td></td>\n",
       "    </tr>\n",
       "    <tr>\n",
       "      <th>305</th>\n",
       "      <td>The Red Badge of Courage : Novel Summary: Chap...</td>\n",
       "      <td>The noise of the battle grows louder and Henry...</td>\n",
       "      <td>The Red Badge of Courage</td>\n",
       "      <td>The Red Badge of Courage : Novel Summary: Chap...</td>\n",
       "      <td></td>\n",
       "    </tr>\n",
       "    <tr>\n",
       "      <th>307</th>\n",
       "      <td>The Red Badge of Courage : Novel Summary: Chap...</td>\n",
       "      <td>Henry’s regiment marches to some trenches to r...</td>\n",
       "      <td>The Red Badge of Courage</td>\n",
       "      <td>The Red Badge of Courage : Novel Summary: Chap...</td>\n",
       "      <td></td>\n",
       "    </tr>\n",
       "    <tr>\n",
       "      <th>308</th>\n",
       "      <td>The Red Badge of Courage : Novel Summary: Chap...</td>\n",
       "      <td>During the lull in their portion of the battle...</td>\n",
       "      <td>The Red Badge of Courage</td>\n",
       "      <td>The Red Badge of Courage : Novel Summary: Chap...</td>\n",
       "      <td></td>\n",
       "    </tr>\n",
       "    <tr>\n",
       "      <th>310</th>\n",
       "      <td>The Red Badge of Courage : Novel Summary: Chap...</td>\n",
       "      <td>The officers call for a charge, and the men re...</td>\n",
       "      <td>The Red Badge of Courage</td>\n",
       "      <td>The Red Badge of Courage : Novel Summary: Chap...</td>\n",
       "      <td></td>\n",
       "    </tr>\n",
       "    <tr>\n",
       "      <th>315</th>\n",
       "      <td>Notes from the Underground: Novel Summary: Par...</td>\n",
       "      <td>Part 1 Chapter 9: Next, the UM uses the analog...</td>\n",
       "      <td>Notes from the Underground</td>\n",
       "      <td>Part 1 Chapter 9-Part 1 Chapter 10</td>\n",
       "      <td></td>\n",
       "    </tr>\n",
       "    <tr>\n",
       "      <th>318</th>\n",
       "      <td>Notes from the Underground: Novel Summary: Par...</td>\n",
       "      <td>Part 2 Chapter 4-Part 2 Chapter 5\\nPart 2 Chap...</td>\n",
       "      <td>Notes from the Underground</td>\n",
       "      <td>Part 2 Chapter 4-Part 2 Chapter 5</td>\n",
       "      <td></td>\n",
       "    </tr>\n",
       "    <tr>\n",
       "      <th>326</th>\n",
       "      <td>A Tale of Two Cities: Novel Summary: Book II C...</td>\n",
       "      <td>Book II\\nChapter 4-5\\nOutside the court Charle...</td>\n",
       "      <td>A Tale of Two Cities</td>\n",
       "      <td>Book II Chapter 4-5</td>\n",
       "      <td></td>\n",
       "    </tr>\n",
       "    <tr>\n",
       "      <th>332</th>\n",
       "      <td>A Tale of Two Cities: Novel Summary: Book II C...</td>\n",
       "      <td>Book II\\nChapter 21-24\\nYears pass. Lucie occa...</td>\n",
       "      <td>A Tale of Two Cities</td>\n",
       "      <td>Book II Chapter 21-24</td>\n",
       "      <td></td>\n",
       "    </tr>\n",
       "    <tr>\n",
       "      <th>347</th>\n",
       "      <td>Winesburg, Ohio: Novel Summary: Queer</td>\n",
       "      <td>Summary\\n\\tElmer Cowley is the son of Ebenezer...</td>\n",
       "      <td>Winesburg, Ohio</td>\n",
       "      <td>Queer</td>\n",
       "      <td></td>\n",
       "    </tr>\n",
       "  </tbody>\n",
       "</table>\n",
       "</div>"
      ],
      "text/plain": [
       "                                         chapter_title  \\\n",
       "69   Merry Wives of Windsor: Novel Summary: Act I S...   \n",
       "70   Merry Wives of Windsor: Novel Summary: Act I S...   \n",
       "72   Merry Wives of Windsor: Novel Summary: Act II ...   \n",
       "73   Merry Wives of Windsor: Novel Summary: Act II ...   \n",
       "74   Merry Wives of Windsor: Novel Summary: Act III...   \n",
       "75   Merry Wives of Windsor: Novel Summary: Act III...   \n",
       "76   Merry Wives of Windsor: Novel Summary: Act III...   \n",
       "77   Merry Wives of Windsor: Novel Summary: Act III...   \n",
       "78   Merry Wives of Windsor: Novel Summary: Act IV ...   \n",
       "79   Merry Wives of Windsor: Novel Summary: Act IV ...   \n",
       "80   Merry Wives of Windsor: Novel Summary: Act IV ...   \n",
       "88             Cymbeline: Novel Summary: Act 1 Scene 7   \n",
       "100            Cymbeline: Novel Summary: Act 3 Scene 8   \n",
       "137            The Inferno: Novel Summary: Canto 21-22   \n",
       "164     Wuthering Heights: Novel Summary: Chapters 7-8   \n",
       "284         Oliver Twist: Novel Summary: Chapters52-53   \n",
       "292  As You Like It: Novel Summary: Act 3, Scene 1-...   \n",
       "305  The Red Badge of Courage : Novel Summary: Chap...   \n",
       "307  The Red Badge of Courage : Novel Summary: Chap...   \n",
       "308  The Red Badge of Courage : Novel Summary: Chap...   \n",
       "310  The Red Badge of Courage : Novel Summary: Chap...   \n",
       "315  Notes from the Underground: Novel Summary: Par...   \n",
       "318  Notes from the Underground: Novel Summary: Par...   \n",
       "326  A Tale of Two Cities: Novel Summary: Book II C...   \n",
       "332  A Tale of Two Cities: Novel Summary: Book II C...   \n",
       "347              Winesburg, Ohio: Novel Summary: Queer   \n",
       "\n",
       "                                       chapter_summary  \\\n",
       "69   \\n\\t \\nAct I Scene 3\\n\\tFalstaff tells the Hos...   \n",
       "70   \\n\\t \\nAct I Scene 4\\n\\tAt Dr. Caius's house, ...   \n",
       "72   \\n\\t \\nAct II Scene 2\\n\\tPistol asks Falstaff ...   \n",
       "73   \\n\\t \\nAct II Scene 3\\n\\t- Act III Scene 1\\n\\t...   \n",
       "74   \\n\\t \\nAct III Scene 2\\n\\tFord encounters Mrs....   \n",
       "75   \\n\\t \\nAct III Scene 3\\n\\tAt Ford's house, Mrs...   \n",
       "76   \\n\\t \\nAct III Scene 4\\n\\tFenton tells Anne Pa...   \n",
       "77   \\n\\t \\nAct III Scene 5\\n\\tFalstaff tells Bardo...   \n",
       "78   \\n\\t \\nAct IV\\n\\tScene 1-2\\n\\tScene 1 is a sho...   \n",
       "79   \\n\\t \\nAct IV\\n\\tScene 3-4\\n\\tIn scene 3, Bard...   \n",
       "80   \\n\\t \\nAct IV\\n\\tScene 5-6\\n\\tAt the Garter In...   \n",
       "88   Summary\\n\\tImogen is lamenting her unhappy sit...   \n",
       "100  Summary\\n\\tIn Rome, the First Senator is addre...   \n",
       "137  Summary\\n\\tIn the Fifth Bolgia, Dante sees boi...   \n",
       "164  Chapter 7: Mrs. Dean cleans Heathcliff up and ...   \n",
       "284   \\nChapter 52: Fagin was condemned to hang in ...   \n",
       "292  Act 3, Scene 1: Duke Frederick tells Oliver he...   \n",
       "305  The noise of the battle grows louder and Henry...   \n",
       "307  Henry’s regiment marches to some trenches to r...   \n",
       "308  During the lull in their portion of the battle...   \n",
       "310  The officers call for a charge, and the men re...   \n",
       "315  Part 1 Chapter 9: Next, the UM uses the analog...   \n",
       "318  Part 2 Chapter 4-Part 2 Chapter 5\\nPart 2 Chap...   \n",
       "326  Book II\\nChapter 4-5\\nOutside the court Charle...   \n",
       "332  Book II\\nChapter 21-24\\nYears pass. Lucie occa...   \n",
       "347  Summary\\n\\tElmer Cowley is the son of Ebenezer...   \n",
       "\n",
       "                     book_title  \\\n",
       "69       Merry Wives of Windsor   \n",
       "70       Merry Wives of Windsor   \n",
       "72       Merry Wives of Windsor   \n",
       "73       Merry Wives of Windsor   \n",
       "74       Merry Wives of Windsor   \n",
       "75       Merry Wives of Windsor   \n",
       "76       Merry Wives of Windsor   \n",
       "77       Merry Wives of Windsor   \n",
       "78       Merry Wives of Windsor   \n",
       "79       Merry Wives of Windsor   \n",
       "80       Merry Wives of Windsor   \n",
       "88                    Cymbeline   \n",
       "100                   Cymbeline   \n",
       "137              Dantes Inferno   \n",
       "164           Wuthering Heights   \n",
       "284                Oliver Twist   \n",
       "292              As You Like It   \n",
       "305    The Red Badge of Courage   \n",
       "307    The Red Badge of Courage   \n",
       "308    The Red Badge of Courage   \n",
       "310    The Red Badge of Courage   \n",
       "315  Notes from the Underground   \n",
       "318  Notes from the Underground   \n",
       "326        A Tale of Two Cities   \n",
       "332        A Tale of Two Cities   \n",
       "347             Winesburg, Ohio   \n",
       "\n",
       "                                              chapters chapter_text  \n",
       "69                                       Act I Scene 3               \n",
       "70                                       Act I Scene 4               \n",
       "72                                      Act II Scene 2               \n",
       "73                    Act II Scene 3 - Act III Scene 1               \n",
       "74                                     Act III Scene 2               \n",
       "75                                     Act III Scene 3               \n",
       "76                                     Act III Scene 4               \n",
       "77                                     Act III Scene 5               \n",
       "78                                    Act IV Scene 1-2               \n",
       "79                                    Act IV Scene 3-4               \n",
       "80                                    Act IV Scene 5-6               \n",
       "88                                       Act 1 Scene 7               \n",
       "100                                      Act 3 Scene 8               \n",
       "137                                        Canto 21-22               \n",
       "164                                       Chapters 7-8               \n",
       "284                                      Chapters52-53               \n",
       "292                      Act 3, Scene 1-Act 3, Scene 2               \n",
       "305  The Red Badge of Courage : Novel Summary: Chap...               \n",
       "307  The Red Badge of Courage : Novel Summary: Chap...               \n",
       "308  The Red Badge of Courage : Novel Summary: Chap...               \n",
       "310  The Red Badge of Courage : Novel Summary: Chap...               \n",
       "315                 Part 1 Chapter 9-Part 1 Chapter 10               \n",
       "318                  Part 2 Chapter 4-Part 2 Chapter 5               \n",
       "326                                Book II Chapter 4-5               \n",
       "332                              Book II Chapter 21-24               \n",
       "347                                              Queer               "
      ]
     },
     "execution_count": 312,
     "metadata": {},
     "output_type": "execute_result"
    }
   ],
   "source": [
    "main_df[main_df['chapter_text']=='']"
   ]
  },
  {
   "cell_type": "code",
   "execution_count": 313,
   "metadata": {},
   "outputs": [
    {
     "data": {
      "text/plain": [
       "26"
      ]
     },
     "execution_count": 313,
     "metadata": {},
     "output_type": "execute_result"
    }
   ],
   "source": [
    "len(main_df[main_df['chapter_text']==''])"
   ]
  },
  {
   "cell_type": "markdown",
   "metadata": {},
   "source": [
    "There are 26 rows of the dataframe for which the chapter texts are missing"
   ]
  },
  {
   "cell_type": "markdown",
   "metadata": {},
   "source": [
    "### Fill in missing chapter texts"
   ]
  },
  {
   "cell_type": "markdown",
   "metadata": {},
   "source": [
    "#### Reset main_df index for ease of use in indentifying rows"
   ]
  },
  {
   "cell_type": "code",
   "execution_count": 314,
   "metadata": {},
   "outputs": [
    {
     "data": {
      "text/plain": [
       "Int64Index([ 16,  17,  18,  19,  20,  21,  22,  23,  24,  25,\n",
       "            ...\n",
       "            344, 338, 347, 353, 341, 339, 349, 340,   0,   1],\n",
       "           dtype='int64', length=323)"
      ]
     },
     "execution_count": 314,
     "metadata": {},
     "output_type": "execute_result"
    }
   ],
   "source": [
    "main_df.index"
   ]
  },
  {
   "cell_type": "code",
   "execution_count": 315,
   "metadata": {},
   "outputs": [
    {
     "data": {
      "text/html": [
       "<div>\n",
       "<style scoped>\n",
       "    .dataframe tbody tr th:only-of-type {\n",
       "        vertical-align: middle;\n",
       "    }\n",
       "\n",
       "    .dataframe tbody tr th {\n",
       "        vertical-align: top;\n",
       "    }\n",
       "\n",
       "    .dataframe thead th {\n",
       "        text-align: right;\n",
       "    }\n",
       "</style>\n",
       "<table border=\"1\" class=\"dataframe\">\n",
       "  <thead>\n",
       "    <tr style=\"text-align: right;\">\n",
       "      <th></th>\n",
       "      <th>index</th>\n",
       "      <th>chapter_title</th>\n",
       "      <th>chapter_summary</th>\n",
       "      <th>book_title</th>\n",
       "      <th>chapters</th>\n",
       "      <th>chapter_text</th>\n",
       "    </tr>\n",
       "  </thead>\n",
       "  <tbody>\n",
       "    <tr>\n",
       "      <th>0</th>\n",
       "      <td>16</td>\n",
       "      <td>The Age of Innocence: Novel Summary: Chapters 1-3</td>\n",
       "      <td>Chapters 1-3\\n\\n\\t \\nSummary\\n\\tThe story open...</td>\n",
       "      <td>The Age of Innocence</td>\n",
       "      <td>Chapters 1-3</td>\n",
       "      <td>The Age of InnocencebyEdith Wharton\\n\\n\\n\\n\\n\\...</td>\n",
       "    </tr>\n",
       "    <tr>\n",
       "      <th>1</th>\n",
       "      <td>17</td>\n",
       "      <td>The Age of Innocence: Novel Summary: Chapters 4-6</td>\n",
       "      <td>Chapters 4-6\\nSummary\\n\\tArcher and May begin ...</td>\n",
       "      <td>The Age of Innocence</td>\n",
       "      <td>Chapters 4-6</td>\n",
       "      <td>\\n\\nIn the course of the next day the first of...</td>\n",
       "    </tr>\n",
       "    <tr>\n",
       "      <th>2</th>\n",
       "      <td>18</td>\n",
       "      <td>The Age of Innocence: Novel Summary: Chapters 7-9</td>\n",
       "      <td>Chapters 7-9\\nSummary\\n\\tMrs Archer and her so...</td>\n",
       "      <td>The Age of Innocence</td>\n",
       "      <td>Chapters 7-9</td>\n",
       "      <td>\\n\\nMrs. Henry van der Luyden listened in sile...</td>\n",
       "    </tr>\n",
       "    <tr>\n",
       "      <th>3</th>\n",
       "      <td>19</td>\n",
       "      <td>The Age of Innocence: Novel Summary: Chapters ...</td>\n",
       "      <td>Chapters 10-12\\nSummary\\n\\tArcher tells May ab...</td>\n",
       "      <td>The Age of Innocence</td>\n",
       "      <td>Chapters 10-12</td>\n",
       "      <td>\\n\\nThe Countess Olenska had said \"after five\"...</td>\n",
       "    </tr>\n",
       "    <tr>\n",
       "      <th>4</th>\n",
       "      <td>20</td>\n",
       "      <td>The Age of Innocence: Novel Summary: Chapters ...</td>\n",
       "      <td>Chapters 13-15\\nSummary\\n\\tAt the theatre, Arc...</td>\n",
       "      <td>The Age of Innocence</td>\n",
       "      <td>Chapters 13-15</td>\n",
       "      <td>\\n\\nIt was a crowded night at Wallack's theatr...</td>\n",
       "    </tr>\n",
       "  </tbody>\n",
       "</table>\n",
       "</div>"
      ],
      "text/plain": [
       "   index                                      chapter_title  \\\n",
       "0     16  The Age of Innocence: Novel Summary: Chapters 1-3   \n",
       "1     17  The Age of Innocence: Novel Summary: Chapters 4-6   \n",
       "2     18  The Age of Innocence: Novel Summary: Chapters 7-9   \n",
       "3     19  The Age of Innocence: Novel Summary: Chapters ...   \n",
       "4     20  The Age of Innocence: Novel Summary: Chapters ...   \n",
       "\n",
       "                                     chapter_summary            book_title  \\\n",
       "0  Chapters 1-3\\n\\n\\t \\nSummary\\n\\tThe story open...  The Age of Innocence   \n",
       "1  Chapters 4-6\\nSummary\\n\\tArcher and May begin ...  The Age of Innocence   \n",
       "2  Chapters 7-9\\nSummary\\n\\tMrs Archer and her so...  The Age of Innocence   \n",
       "3  Chapters 10-12\\nSummary\\n\\tArcher tells May ab...  The Age of Innocence   \n",
       "4  Chapters 13-15\\nSummary\\n\\tAt the theatre, Arc...  The Age of Innocence   \n",
       "\n",
       "         chapters                                       chapter_text  \n",
       "0    Chapters 1-3  The Age of InnocencebyEdith Wharton\\n\\n\\n\\n\\n\\...  \n",
       "1    Chapters 4-6  \\n\\nIn the course of the next day the first of...  \n",
       "2    Chapters 7-9  \\n\\nMrs. Henry van der Luyden listened in sile...  \n",
       "3  Chapters 10-12  \\n\\nThe Countess Olenska had said \"after five\"...  \n",
       "4  Chapters 13-15  \\n\\nIt was a crowded night at Wallack's theatr...  "
      ]
     },
     "execution_count": 315,
     "metadata": {},
     "output_type": "execute_result"
    }
   ],
   "source": [
    "main_df.reset_index().head()"
   ]
  },
  {
   "cell_type": "code",
   "execution_count": 316,
   "metadata": {},
   "outputs": [],
   "source": [
    "main_df.reset_index(inplace=True)"
   ]
  },
  {
   "cell_type": "code",
   "execution_count": 317,
   "metadata": {},
   "outputs": [
    {
     "data": {
      "text/html": [
       "<div>\n",
       "<style scoped>\n",
       "    .dataframe tbody tr th:only-of-type {\n",
       "        vertical-align: middle;\n",
       "    }\n",
       "\n",
       "    .dataframe tbody tr th {\n",
       "        vertical-align: top;\n",
       "    }\n",
       "\n",
       "    .dataframe thead th {\n",
       "        text-align: right;\n",
       "    }\n",
       "</style>\n",
       "<table border=\"1\" class=\"dataframe\">\n",
       "  <thead>\n",
       "    <tr style=\"text-align: right;\">\n",
       "      <th></th>\n",
       "      <th>index</th>\n",
       "      <th>chapter_title</th>\n",
       "      <th>chapter_summary</th>\n",
       "      <th>book_title</th>\n",
       "      <th>chapters</th>\n",
       "      <th>chapter_text</th>\n",
       "    </tr>\n",
       "  </thead>\n",
       "  <tbody>\n",
       "    <tr>\n",
       "      <th>0</th>\n",
       "      <td>16</td>\n",
       "      <td>The Age of Innocence: Novel Summary: Chapters 1-3</td>\n",
       "      <td>Chapters 1-3\\n\\n\\t \\nSummary\\n\\tThe story open...</td>\n",
       "      <td>The Age of Innocence</td>\n",
       "      <td>Chapters 1-3</td>\n",
       "      <td>The Age of InnocencebyEdith Wharton\\n\\n\\n\\n\\n\\...</td>\n",
       "    </tr>\n",
       "    <tr>\n",
       "      <th>1</th>\n",
       "      <td>17</td>\n",
       "      <td>The Age of Innocence: Novel Summary: Chapters 4-6</td>\n",
       "      <td>Chapters 4-6\\nSummary\\n\\tArcher and May begin ...</td>\n",
       "      <td>The Age of Innocence</td>\n",
       "      <td>Chapters 4-6</td>\n",
       "      <td>\\n\\nIn the course of the next day the first of...</td>\n",
       "    </tr>\n",
       "    <tr>\n",
       "      <th>2</th>\n",
       "      <td>18</td>\n",
       "      <td>The Age of Innocence: Novel Summary: Chapters 7-9</td>\n",
       "      <td>Chapters 7-9\\nSummary\\n\\tMrs Archer and her so...</td>\n",
       "      <td>The Age of Innocence</td>\n",
       "      <td>Chapters 7-9</td>\n",
       "      <td>\\n\\nMrs. Henry van der Luyden listened in sile...</td>\n",
       "    </tr>\n",
       "    <tr>\n",
       "      <th>3</th>\n",
       "      <td>19</td>\n",
       "      <td>The Age of Innocence: Novel Summary: Chapters ...</td>\n",
       "      <td>Chapters 10-12\\nSummary\\n\\tArcher tells May ab...</td>\n",
       "      <td>The Age of Innocence</td>\n",
       "      <td>Chapters 10-12</td>\n",
       "      <td>\\n\\nThe Countess Olenska had said \"after five\"...</td>\n",
       "    </tr>\n",
       "    <tr>\n",
       "      <th>4</th>\n",
       "      <td>20</td>\n",
       "      <td>The Age of Innocence: Novel Summary: Chapters ...</td>\n",
       "      <td>Chapters 13-15\\nSummary\\n\\tAt the theatre, Arc...</td>\n",
       "      <td>The Age of Innocence</td>\n",
       "      <td>Chapters 13-15</td>\n",
       "      <td>\\n\\nIt was a crowded night at Wallack's theatr...</td>\n",
       "    </tr>\n",
       "  </tbody>\n",
       "</table>\n",
       "</div>"
      ],
      "text/plain": [
       "   index                                      chapter_title  \\\n",
       "0     16  The Age of Innocence: Novel Summary: Chapters 1-3   \n",
       "1     17  The Age of Innocence: Novel Summary: Chapters 4-6   \n",
       "2     18  The Age of Innocence: Novel Summary: Chapters 7-9   \n",
       "3     19  The Age of Innocence: Novel Summary: Chapters ...   \n",
       "4     20  The Age of Innocence: Novel Summary: Chapters ...   \n",
       "\n",
       "                                     chapter_summary            book_title  \\\n",
       "0  Chapters 1-3\\n\\n\\t \\nSummary\\n\\tThe story open...  The Age of Innocence   \n",
       "1  Chapters 4-6\\nSummary\\n\\tArcher and May begin ...  The Age of Innocence   \n",
       "2  Chapters 7-9\\nSummary\\n\\tMrs Archer and her so...  The Age of Innocence   \n",
       "3  Chapters 10-12\\nSummary\\n\\tArcher tells May ab...  The Age of Innocence   \n",
       "4  Chapters 13-15\\nSummary\\n\\tAt the theatre, Arc...  The Age of Innocence   \n",
       "\n",
       "         chapters                                       chapter_text  \n",
       "0    Chapters 1-3  The Age of InnocencebyEdith Wharton\\n\\n\\n\\n\\n\\...  \n",
       "1    Chapters 4-6  \\n\\nIn the course of the next day the first of...  \n",
       "2    Chapters 7-9  \\n\\nMrs. Henry van der Luyden listened in sile...  \n",
       "3  Chapters 10-12  \\n\\nThe Countess Olenska had said \"after five\"...  \n",
       "4  Chapters 13-15  \\n\\nIt was a crowded night at Wallack's theatr...  "
      ]
     },
     "execution_count": 317,
     "metadata": {},
     "output_type": "execute_result"
    }
   ],
   "source": [
    "main_df.head()"
   ]
  },
  {
   "cell_type": "code",
   "execution_count": 318,
   "metadata": {},
   "outputs": [],
   "source": [
    "main_df.drop(columns='index', inplace=True)"
   ]
  },
  {
   "cell_type": "markdown",
   "metadata": {},
   "source": [
    "#### Re-examine rows with chapter texts missing"
   ]
  },
  {
   "cell_type": "code",
   "execution_count": 319,
   "metadata": {},
   "outputs": [
    {
     "data": {
      "text/html": [
       "<div>\n",
       "<style scoped>\n",
       "    .dataframe tbody tr th:only-of-type {\n",
       "        vertical-align: middle;\n",
       "    }\n",
       "\n",
       "    .dataframe tbody tr th {\n",
       "        vertical-align: top;\n",
       "    }\n",
       "\n",
       "    .dataframe thead th {\n",
       "        text-align: right;\n",
       "    }\n",
       "</style>\n",
       "<table border=\"1\" class=\"dataframe\">\n",
       "  <thead>\n",
       "    <tr style=\"text-align: right;\">\n",
       "      <th></th>\n",
       "      <th>chapter_title</th>\n",
       "      <th>chapter_summary</th>\n",
       "      <th>book_title</th>\n",
       "      <th>chapters</th>\n",
       "      <th>chapter_text</th>\n",
       "    </tr>\n",
       "  </thead>\n",
       "  <tbody>\n",
       "    <tr>\n",
       "      <th>51</th>\n",
       "      <td>Merry Wives of Windsor: Novel Summary: Act I S...</td>\n",
       "      <td>\\n\\t \\nAct I Scene 3\\n\\tFalstaff tells the Hos...</td>\n",
       "      <td>Merry Wives of Windsor</td>\n",
       "      <td>Act I Scene 3</td>\n",
       "      <td></td>\n",
       "    </tr>\n",
       "    <tr>\n",
       "      <th>52</th>\n",
       "      <td>Merry Wives of Windsor: Novel Summary: Act I S...</td>\n",
       "      <td>\\n\\t \\nAct I Scene 4\\n\\tAt Dr. Caius's house, ...</td>\n",
       "      <td>Merry Wives of Windsor</td>\n",
       "      <td>Act I Scene 4</td>\n",
       "      <td></td>\n",
       "    </tr>\n",
       "    <tr>\n",
       "      <th>54</th>\n",
       "      <td>Merry Wives of Windsor: Novel Summary: Act II ...</td>\n",
       "      <td>\\n\\t \\nAct II Scene 2\\n\\tPistol asks Falstaff ...</td>\n",
       "      <td>Merry Wives of Windsor</td>\n",
       "      <td>Act II Scene 2</td>\n",
       "      <td></td>\n",
       "    </tr>\n",
       "    <tr>\n",
       "      <th>55</th>\n",
       "      <td>Merry Wives of Windsor: Novel Summary: Act II ...</td>\n",
       "      <td>\\n\\t \\nAct II Scene 3\\n\\t- Act III Scene 1\\n\\t...</td>\n",
       "      <td>Merry Wives of Windsor</td>\n",
       "      <td>Act II Scene 3 - Act III Scene 1</td>\n",
       "      <td></td>\n",
       "    </tr>\n",
       "    <tr>\n",
       "      <th>56</th>\n",
       "      <td>Merry Wives of Windsor: Novel Summary: Act III...</td>\n",
       "      <td>\\n\\t \\nAct III Scene 2\\n\\tFord encounters Mrs....</td>\n",
       "      <td>Merry Wives of Windsor</td>\n",
       "      <td>Act III Scene 2</td>\n",
       "      <td></td>\n",
       "    </tr>\n",
       "    <tr>\n",
       "      <th>57</th>\n",
       "      <td>Merry Wives of Windsor: Novel Summary: Act III...</td>\n",
       "      <td>\\n\\t \\nAct III Scene 3\\n\\tAt Ford's house, Mrs...</td>\n",
       "      <td>Merry Wives of Windsor</td>\n",
       "      <td>Act III Scene 3</td>\n",
       "      <td></td>\n",
       "    </tr>\n",
       "    <tr>\n",
       "      <th>58</th>\n",
       "      <td>Merry Wives of Windsor: Novel Summary: Act III...</td>\n",
       "      <td>\\n\\t \\nAct III Scene 4\\n\\tFenton tells Anne Pa...</td>\n",
       "      <td>Merry Wives of Windsor</td>\n",
       "      <td>Act III Scene 4</td>\n",
       "      <td></td>\n",
       "    </tr>\n",
       "    <tr>\n",
       "      <th>59</th>\n",
       "      <td>Merry Wives of Windsor: Novel Summary: Act III...</td>\n",
       "      <td>\\n\\t \\nAct III Scene 5\\n\\tFalstaff tells Bardo...</td>\n",
       "      <td>Merry Wives of Windsor</td>\n",
       "      <td>Act III Scene 5</td>\n",
       "      <td></td>\n",
       "    </tr>\n",
       "    <tr>\n",
       "      <th>60</th>\n",
       "      <td>Merry Wives of Windsor: Novel Summary: Act IV ...</td>\n",
       "      <td>\\n\\t \\nAct IV\\n\\tScene 1-2\\n\\tScene 1 is a sho...</td>\n",
       "      <td>Merry Wives of Windsor</td>\n",
       "      <td>Act IV Scene 1-2</td>\n",
       "      <td></td>\n",
       "    </tr>\n",
       "    <tr>\n",
       "      <th>61</th>\n",
       "      <td>Merry Wives of Windsor: Novel Summary: Act IV ...</td>\n",
       "      <td>\\n\\t \\nAct IV\\n\\tScene 3-4\\n\\tIn scene 3, Bard...</td>\n",
       "      <td>Merry Wives of Windsor</td>\n",
       "      <td>Act IV Scene 3-4</td>\n",
       "      <td></td>\n",
       "    </tr>\n",
       "    <tr>\n",
       "      <th>62</th>\n",
       "      <td>Merry Wives of Windsor: Novel Summary: Act IV ...</td>\n",
       "      <td>\\n\\t \\nAct IV\\n\\tScene 5-6\\n\\tAt the Garter In...</td>\n",
       "      <td>Merry Wives of Windsor</td>\n",
       "      <td>Act IV Scene 5-6</td>\n",
       "      <td></td>\n",
       "    </tr>\n",
       "    <tr>\n",
       "      <th>70</th>\n",
       "      <td>Cymbeline: Novel Summary: Act 1 Scene 7</td>\n",
       "      <td>Summary\\n\\tImogen is lamenting her unhappy sit...</td>\n",
       "      <td>Cymbeline</td>\n",
       "      <td>Act 1 Scene 7</td>\n",
       "      <td></td>\n",
       "    </tr>\n",
       "    <tr>\n",
       "      <th>82</th>\n",
       "      <td>Cymbeline: Novel Summary: Act 3 Scene 8</td>\n",
       "      <td>Summary\\n\\tIn Rome, the First Senator is addre...</td>\n",
       "      <td>Cymbeline</td>\n",
       "      <td>Act 3 Scene 8</td>\n",
       "      <td></td>\n",
       "    </tr>\n",
       "    <tr>\n",
       "      <th>117</th>\n",
       "      <td>The Inferno: Novel Summary: Canto 21-22</td>\n",
       "      <td>Summary\\n\\tIn the Fifth Bolgia, Dante sees boi...</td>\n",
       "      <td>Dantes Inferno</td>\n",
       "      <td>Canto 21-22</td>\n",
       "      <td></td>\n",
       "    </tr>\n",
       "    <tr>\n",
       "      <th>143</th>\n",
       "      <td>Wuthering Heights: Novel Summary: Chapters 7-8</td>\n",
       "      <td>Chapter 7: Mrs. Dean cleans Heathcliff up and ...</td>\n",
       "      <td>Wuthering Heights</td>\n",
       "      <td>Chapters 7-8</td>\n",
       "      <td></td>\n",
       "    </tr>\n",
       "    <tr>\n",
       "      <th>245</th>\n",
       "      <td>Oliver Twist: Novel Summary: Chapters52-53</td>\n",
       "      <td>\\nChapter 52: Fagin was condemned to hang in ...</td>\n",
       "      <td>Oliver Twist</td>\n",
       "      <td>Chapters52-53</td>\n",
       "      <td></td>\n",
       "    </tr>\n",
       "    <tr>\n",
       "      <th>259</th>\n",
       "      <td>As You Like It: Novel Summary: Act 3, Scene 1-...</td>\n",
       "      <td>Act 3, Scene 1: Duke Frederick tells Oliver he...</td>\n",
       "      <td>As You Like It</td>\n",
       "      <td>Act 3, Scene 1-Act 3, Scene 2</td>\n",
       "      <td></td>\n",
       "    </tr>\n",
       "    <tr>\n",
       "      <th>273</th>\n",
       "      <td>The Red Badge of Courage : Novel Summary: Chap...</td>\n",
       "      <td>The noise of the battle grows louder and Henry...</td>\n",
       "      <td>The Red Badge of Courage</td>\n",
       "      <td>The Red Badge of Courage : Novel Summary: Chap...</td>\n",
       "      <td></td>\n",
       "    </tr>\n",
       "    <tr>\n",
       "      <th>275</th>\n",
       "      <td>The Red Badge of Courage : Novel Summary: Chap...</td>\n",
       "      <td>Henry’s regiment marches to some trenches to r...</td>\n",
       "      <td>The Red Badge of Courage</td>\n",
       "      <td>The Red Badge of Courage : Novel Summary: Chap...</td>\n",
       "      <td></td>\n",
       "    </tr>\n",
       "    <tr>\n",
       "      <th>276</th>\n",
       "      <td>The Red Badge of Courage : Novel Summary: Chap...</td>\n",
       "      <td>During the lull in their portion of the battle...</td>\n",
       "      <td>The Red Badge of Courage</td>\n",
       "      <td>The Red Badge of Courage : Novel Summary: Chap...</td>\n",
       "      <td></td>\n",
       "    </tr>\n",
       "    <tr>\n",
       "      <th>278</th>\n",
       "      <td>The Red Badge of Courage : Novel Summary: Chap...</td>\n",
       "      <td>The officers call for a charge, and the men re...</td>\n",
       "      <td>The Red Badge of Courage</td>\n",
       "      <td>The Red Badge of Courage : Novel Summary: Chap...</td>\n",
       "      <td></td>\n",
       "    </tr>\n",
       "    <tr>\n",
       "      <th>283</th>\n",
       "      <td>Notes from the Underground: Novel Summary: Par...</td>\n",
       "      <td>Part 1 Chapter 9: Next, the UM uses the analog...</td>\n",
       "      <td>Notes from the Underground</td>\n",
       "      <td>Part 1 Chapter 9-Part 1 Chapter 10</td>\n",
       "      <td></td>\n",
       "    </tr>\n",
       "    <tr>\n",
       "      <th>286</th>\n",
       "      <td>Notes from the Underground: Novel Summary: Par...</td>\n",
       "      <td>Part 2 Chapter 4-Part 2 Chapter 5\\nPart 2 Chap...</td>\n",
       "      <td>Notes from the Underground</td>\n",
       "      <td>Part 2 Chapter 4-Part 2 Chapter 5</td>\n",
       "      <td></td>\n",
       "    </tr>\n",
       "    <tr>\n",
       "      <th>293</th>\n",
       "      <td>A Tale of Two Cities: Novel Summary: Book II C...</td>\n",
       "      <td>Book II\\nChapter 4-5\\nOutside the court Charle...</td>\n",
       "      <td>A Tale of Two Cities</td>\n",
       "      <td>Book II Chapter 4-5</td>\n",
       "      <td></td>\n",
       "    </tr>\n",
       "    <tr>\n",
       "      <th>299</th>\n",
       "      <td>A Tale of Two Cities: Novel Summary: Book II C...</td>\n",
       "      <td>Book II\\nChapter 21-24\\nYears pass. Lucie occa...</td>\n",
       "      <td>A Tale of Two Cities</td>\n",
       "      <td>Book II Chapter 21-24</td>\n",
       "      <td></td>\n",
       "    </tr>\n",
       "    <tr>\n",
       "      <th>315</th>\n",
       "      <td>Winesburg, Ohio: Novel Summary: Queer</td>\n",
       "      <td>Summary\\n\\tElmer Cowley is the son of Ebenezer...</td>\n",
       "      <td>Winesburg, Ohio</td>\n",
       "      <td>Queer</td>\n",
       "      <td></td>\n",
       "    </tr>\n",
       "  </tbody>\n",
       "</table>\n",
       "</div>"
      ],
      "text/plain": [
       "                                         chapter_title  \\\n",
       "51   Merry Wives of Windsor: Novel Summary: Act I S...   \n",
       "52   Merry Wives of Windsor: Novel Summary: Act I S...   \n",
       "54   Merry Wives of Windsor: Novel Summary: Act II ...   \n",
       "55   Merry Wives of Windsor: Novel Summary: Act II ...   \n",
       "56   Merry Wives of Windsor: Novel Summary: Act III...   \n",
       "57   Merry Wives of Windsor: Novel Summary: Act III...   \n",
       "58   Merry Wives of Windsor: Novel Summary: Act III...   \n",
       "59   Merry Wives of Windsor: Novel Summary: Act III...   \n",
       "60   Merry Wives of Windsor: Novel Summary: Act IV ...   \n",
       "61   Merry Wives of Windsor: Novel Summary: Act IV ...   \n",
       "62   Merry Wives of Windsor: Novel Summary: Act IV ...   \n",
       "70             Cymbeline: Novel Summary: Act 1 Scene 7   \n",
       "82             Cymbeline: Novel Summary: Act 3 Scene 8   \n",
       "117            The Inferno: Novel Summary: Canto 21-22   \n",
       "143     Wuthering Heights: Novel Summary: Chapters 7-8   \n",
       "245         Oliver Twist: Novel Summary: Chapters52-53   \n",
       "259  As You Like It: Novel Summary: Act 3, Scene 1-...   \n",
       "273  The Red Badge of Courage : Novel Summary: Chap...   \n",
       "275  The Red Badge of Courage : Novel Summary: Chap...   \n",
       "276  The Red Badge of Courage : Novel Summary: Chap...   \n",
       "278  The Red Badge of Courage : Novel Summary: Chap...   \n",
       "283  Notes from the Underground: Novel Summary: Par...   \n",
       "286  Notes from the Underground: Novel Summary: Par...   \n",
       "293  A Tale of Two Cities: Novel Summary: Book II C...   \n",
       "299  A Tale of Two Cities: Novel Summary: Book II C...   \n",
       "315              Winesburg, Ohio: Novel Summary: Queer   \n",
       "\n",
       "                                       chapter_summary  \\\n",
       "51   \\n\\t \\nAct I Scene 3\\n\\tFalstaff tells the Hos...   \n",
       "52   \\n\\t \\nAct I Scene 4\\n\\tAt Dr. Caius's house, ...   \n",
       "54   \\n\\t \\nAct II Scene 2\\n\\tPistol asks Falstaff ...   \n",
       "55   \\n\\t \\nAct II Scene 3\\n\\t- Act III Scene 1\\n\\t...   \n",
       "56   \\n\\t \\nAct III Scene 2\\n\\tFord encounters Mrs....   \n",
       "57   \\n\\t \\nAct III Scene 3\\n\\tAt Ford's house, Mrs...   \n",
       "58   \\n\\t \\nAct III Scene 4\\n\\tFenton tells Anne Pa...   \n",
       "59   \\n\\t \\nAct III Scene 5\\n\\tFalstaff tells Bardo...   \n",
       "60   \\n\\t \\nAct IV\\n\\tScene 1-2\\n\\tScene 1 is a sho...   \n",
       "61   \\n\\t \\nAct IV\\n\\tScene 3-4\\n\\tIn scene 3, Bard...   \n",
       "62   \\n\\t \\nAct IV\\n\\tScene 5-6\\n\\tAt the Garter In...   \n",
       "70   Summary\\n\\tImogen is lamenting her unhappy sit...   \n",
       "82   Summary\\n\\tIn Rome, the First Senator is addre...   \n",
       "117  Summary\\n\\tIn the Fifth Bolgia, Dante sees boi...   \n",
       "143  Chapter 7: Mrs. Dean cleans Heathcliff up and ...   \n",
       "245   \\nChapter 52: Fagin was condemned to hang in ...   \n",
       "259  Act 3, Scene 1: Duke Frederick tells Oliver he...   \n",
       "273  The noise of the battle grows louder and Henry...   \n",
       "275  Henry’s regiment marches to some trenches to r...   \n",
       "276  During the lull in their portion of the battle...   \n",
       "278  The officers call for a charge, and the men re...   \n",
       "283  Part 1 Chapter 9: Next, the UM uses the analog...   \n",
       "286  Part 2 Chapter 4-Part 2 Chapter 5\\nPart 2 Chap...   \n",
       "293  Book II\\nChapter 4-5\\nOutside the court Charle...   \n",
       "299  Book II\\nChapter 21-24\\nYears pass. Lucie occa...   \n",
       "315  Summary\\n\\tElmer Cowley is the son of Ebenezer...   \n",
       "\n",
       "                     book_title  \\\n",
       "51       Merry Wives of Windsor   \n",
       "52       Merry Wives of Windsor   \n",
       "54       Merry Wives of Windsor   \n",
       "55       Merry Wives of Windsor   \n",
       "56       Merry Wives of Windsor   \n",
       "57       Merry Wives of Windsor   \n",
       "58       Merry Wives of Windsor   \n",
       "59       Merry Wives of Windsor   \n",
       "60       Merry Wives of Windsor   \n",
       "61       Merry Wives of Windsor   \n",
       "62       Merry Wives of Windsor   \n",
       "70                    Cymbeline   \n",
       "82                    Cymbeline   \n",
       "117              Dantes Inferno   \n",
       "143           Wuthering Heights   \n",
       "245                Oliver Twist   \n",
       "259              As You Like It   \n",
       "273    The Red Badge of Courage   \n",
       "275    The Red Badge of Courage   \n",
       "276    The Red Badge of Courage   \n",
       "278    The Red Badge of Courage   \n",
       "283  Notes from the Underground   \n",
       "286  Notes from the Underground   \n",
       "293        A Tale of Two Cities   \n",
       "299        A Tale of Two Cities   \n",
       "315             Winesburg, Ohio   \n",
       "\n",
       "                                              chapters chapter_text  \n",
       "51                                       Act I Scene 3               \n",
       "52                                       Act I Scene 4               \n",
       "54                                      Act II Scene 2               \n",
       "55                    Act II Scene 3 - Act III Scene 1               \n",
       "56                                     Act III Scene 2               \n",
       "57                                     Act III Scene 3               \n",
       "58                                     Act III Scene 4               \n",
       "59                                     Act III Scene 5               \n",
       "60                                    Act IV Scene 1-2               \n",
       "61                                    Act IV Scene 3-4               \n",
       "62                                    Act IV Scene 5-6               \n",
       "70                                       Act 1 Scene 7               \n",
       "82                                       Act 3 Scene 8               \n",
       "117                                        Canto 21-22               \n",
       "143                                       Chapters 7-8               \n",
       "245                                      Chapters52-53               \n",
       "259                      Act 3, Scene 1-Act 3, Scene 2               \n",
       "273  The Red Badge of Courage : Novel Summary: Chap...               \n",
       "275  The Red Badge of Courage : Novel Summary: Chap...               \n",
       "276  The Red Badge of Courage : Novel Summary: Chap...               \n",
       "278  The Red Badge of Courage : Novel Summary: Chap...               \n",
       "283                 Part 1 Chapter 9-Part 1 Chapter 10               \n",
       "286                  Part 2 Chapter 4-Part 2 Chapter 5               \n",
       "293                                Book II Chapter 4-5               \n",
       "299                              Book II Chapter 21-24               \n",
       "315                                              Queer               "
      ]
     },
     "execution_count": 319,
     "metadata": {},
     "output_type": "execute_result"
    }
   ],
   "source": [
    "main_df[main_df['chapter_text']=='']"
   ]
  },
  {
   "cell_type": "markdown",
   "metadata": {},
   "source": [
    "#### Fill in texts"
   ]
  },
  {
   "cell_type": "markdown",
   "metadata": {},
   "source": [
    "##### Function to get text of book from title"
   ]
  },
  {
   "cell_type": "code",
   "execution_count": 320,
   "metadata": {},
   "outputs": [],
   "source": [
    "def get_text(title):\n",
    "    text_title = title.replace(' ', '_')\n",
    "    text = open(f'./data/book_full_texts/{text_title}.txt', 'r').read()\n",
    "    return text"
   ]
  },
  {
   "cell_type": "markdown",
   "metadata": {},
   "source": [
    "##### Winesburg, Ohio: Novel Summary: Queer"
   ]
  },
  {
   "cell_type": "code",
   "execution_count": 321,
   "metadata": {},
   "outputs": [
    {
     "data": {
      "text/plain": [
       "chapter_title                  Winesburg, Ohio: Novel Summary: Queer\n",
       "chapter_summary    Summary\\n\\tElmer Cowley is the son of Ebenezer...\n",
       "book_title                                           Winesburg, Ohio\n",
       "chapters                                                       Queer\n",
       "chapter_text                                                        \n",
       "Name: 315, dtype: object"
      ]
     },
     "execution_count": 321,
     "metadata": {},
     "output_type": "execute_result"
    }
   ],
   "source": [
    "main_df.iloc[315]"
   ]
  },
  {
   "cell_type": "code",
   "execution_count": 322,
   "metadata": {},
   "outputs": [],
   "source": [
    "wo_text = get_text('Winesburg, Ohio')"
   ]
  },
  {
   "cell_type": "code",
   "execution_count": 323,
   "metadata": {},
   "outputs": [
    {
     "data": {
      "text/plain": [
       "'Winesburg, OhiobySherwood Anderson\\n\\n\\n\\n\\n\\nSHERWOOD ANDERSON\\n\\nWinesburg, Ohio\\n\\n\\n\\n\\nINTRODUCTION\\n\\nby Irving Howe\\n\\n\\nI must have been no more than fifteen or sixteen\\nyears old when I first chanced upon Winesburg, Ohio.\\nGripped by these stories and sketches of Sherwood\\nAnderson\\'s small-town \"grotesques,\" I '"
      ]
     },
     "execution_count": 323,
     "metadata": {},
     "output_type": "execute_result"
    }
   ],
   "source": [
    "wo_text[:300]"
   ]
  },
  {
   "cell_type": "code",
   "execution_count": 324,
   "metadata": {},
   "outputs": [],
   "source": [
    "wo_queer = (wo_text.partition('\\\"QUEER\\\"')[2]).partition('THE UNTOLD LIE')[0]"
   ]
  },
  {
   "cell_type": "code",
   "execution_count": 325,
   "metadata": {},
   "outputs": [
    {
     "data": {
      "text/plain": [
       "'ssing train and running over\\nthe tops of cars, Elmer sprang down to a flat car and\\nlying on his face looked back, trying to see the fallen\\nman in the darkness.  Pride surged up in him.  \"I\\nshowed him,\" he cried.  \"I guess I showed him.  I\\nain\\'t so queer.  I guess I showed him I ain\\'t so\\nqueer.\"\\n\\n\\n\\n\\n'"
      ]
     },
     "execution_count": 325,
     "metadata": {},
     "output_type": "execute_result"
    }
   ],
   "source": [
    "wo_queer[-300:]"
   ]
  },
  {
   "cell_type": "code",
   "execution_count": 326,
   "metadata": {},
   "outputs": [
    {
     "data": {
      "text/plain": [
       "\"\\n\\nFROM HIS SEAT on a box in the rough board shed that\\nstuck like a burr on the rear of Cowley & Son's store\\nin Winesburg, Elmer Cowley, the junior member of\\nthe firm, could see through a dirty window into the\\nprintshop of the Winesburg Eagle.  Elmer was putting\\nnew shoelaces in his shoes.  They did \""
      ]
     },
     "execution_count": 326,
     "metadata": {},
     "output_type": "execute_result"
    }
   ],
   "source": [
    "wo_queer[:300]"
   ]
  },
  {
   "cell_type": "code",
   "execution_count": 327,
   "metadata": {},
   "outputs": [
    {
     "data": {
      "text/plain": [
       "''"
      ]
     },
     "execution_count": 327,
     "metadata": {},
     "output_type": "execute_result"
    }
   ],
   "source": [
    "main_df.iloc[315]['chapter_text']"
   ]
  },
  {
   "cell_type": "code",
   "execution_count": 328,
   "metadata": {},
   "outputs": [],
   "source": [
    "main_df.iloc[315]['chapter_text'] = wo_queer"
   ]
  },
  {
   "cell_type": "code",
   "execution_count": 329,
   "metadata": {},
   "outputs": [
    {
     "data": {
      "text/plain": [
       "chapter_title                  Winesburg, Ohio: Novel Summary: Queer\n",
       "chapter_summary    Summary\\n\\tElmer Cowley is the son of Ebenezer...\n",
       "book_title                                           Winesburg, Ohio\n",
       "chapters                                                       Queer\n",
       "chapter_text       \\n\\nFROM HIS SEAT on a box in the rough board ...\n",
       "Name: 315, dtype: object"
      ]
     },
     "execution_count": 329,
     "metadata": {},
     "output_type": "execute_result"
    }
   ],
   "source": [
    "main_df.iloc[315]"
   ]
  },
  {
   "cell_type": "markdown",
   "metadata": {},
   "source": [
    "##### A Tale of Two Cities - Book II Ch 4-5 & Book II Ch 21-24"
   ]
  },
  {
   "cell_type": "code",
   "execution_count": 330,
   "metadata": {},
   "outputs": [
    {
     "data": {
      "text/plain": [
       "chapter_title      A Tale of Two Cities: Novel Summary: Book II C...\n",
       "chapter_summary    Book II\\nChapter 4-5\\nOutside the court Charle...\n",
       "book_title                                      A Tale of Two Cities\n",
       "chapters                                         Book II Chapter 4-5\n",
       "chapter_text                                                        \n",
       "Name: 293, dtype: object"
      ]
     },
     "execution_count": 330,
     "metadata": {},
     "output_type": "execute_result"
    }
   ],
   "source": [
    "main_df.iloc[293]"
   ]
  },
  {
   "cell_type": "code",
   "execution_count": 331,
   "metadata": {},
   "outputs": [
    {
     "data": {
      "text/plain": [
       "chapter_title      A Tale of Two Cities: Novel Summary: Book II C...\n",
       "chapter_summary    Book II\\nChapter 21-24\\nYears pass. Lucie occa...\n",
       "book_title                                      A Tale of Two Cities\n",
       "chapters                                       Book II Chapter 21-24\n",
       "chapter_text                                                        \n",
       "Name: 299, dtype: object"
      ]
     },
     "execution_count": 331,
     "metadata": {},
     "output_type": "execute_result"
    }
   ],
   "source": [
    "main_df.iloc[299]"
   ]
  },
  {
   "cell_type": "code",
   "execution_count": 332,
   "metadata": {},
   "outputs": [],
   "source": [
    "attc_text = get_text('A Tale of Two Cities')"
   ]
  },
  {
   "cell_type": "code",
   "execution_count": 333,
   "metadata": {},
   "outputs": [
    {
     "data": {
      "text/plain": [
       "\"\\n\\n\\n\\n\\nI\\n\\nFive Years Later\\n\\n\\nTellson's Bank by Temple Bar was an old-fashioned place, even in the\\nyear one thousand seven hundred and eighty.  It was very small, very\\ndark, very ugly, very incommodious.  It was an old-fashioned place,\\nmoreover, in the moral attribute that the partners in the House wer\""
      ]
     },
     "execution_count": 333,
     "metadata": {},
     "output_type": "execute_result"
    }
   ],
   "source": [
    "attc_bk2 = attc_text.partition('Book the Second--the Golden Thread')[2]\n",
    "attc_bk2[:300]"
   ]
  },
  {
   "cell_type": "code",
   "execution_count": 334,
   "metadata": {},
   "outputs": [
    {
     "data": {
      "text/plain": [
       "'\\n\\nCongratulatory\\n\\n\\nFrom the dimly-lighted passages of the court, the last sediment of the\\nhuman stew that had been boiling there all day, was straining off,\\nwhen Doctor Manette, Lucie Manette, his daughter, Mr. Lorry, the\\nsolicitor for the defence, and its counsel, Mr. Stryver, stood\\ngathered round '"
      ]
     },
     "execution_count": 334,
     "metadata": {},
     "output_type": "execute_result"
    }
   ],
   "source": [
    "attc_4_5 = (attc_bk2.partition('IV')[2]).partition('VI')[0]\n",
    "attc_4_5[:300]"
   ]
  },
  {
   "cell_type": "code",
   "execution_count": 335,
   "metadata": {},
   "outputs": [
    {
     "data": {
      "text/plain": [
       "'s wet with wasted tears.\\n\\nSadly, sadly, the sun rose; it rose upon no sadder sight than the man\\nof good abilities and good emotions, incapable of their directed\\nexercise, incapable of his own help and his own happiness, sensible\\nof the blight on him, and resigning himself to let it eat him away.\\n\\n\\n\\n'"
      ]
     },
     "execution_count": 335,
     "metadata": {},
     "output_type": "execute_result"
    }
   ],
   "source": [
    "attc_4_5[-300:]"
   ]
  },
  {
   "cell_type": "code",
   "execution_count": 336,
   "metadata": {},
   "outputs": [
    {
     "data": {
      "text/plain": [
       "''"
      ]
     },
     "execution_count": 336,
     "metadata": {},
     "output_type": "execute_result"
    }
   ],
   "source": [
    "main_df.iloc[293]['chapter_text']"
   ]
  },
  {
   "cell_type": "code",
   "execution_count": 337,
   "metadata": {},
   "outputs": [],
   "source": [
    "main_df.iloc[293]['chapter_text'] = attc_4_5"
   ]
  },
  {
   "cell_type": "code",
   "execution_count": 338,
   "metadata": {},
   "outputs": [
    {
     "data": {
      "text/plain": [
       "chapter_title      A Tale of Two Cities: Novel Summary: Book II C...\n",
       "chapter_summary    Book II\\nChapter 4-5\\nOutside the court Charle...\n",
       "book_title                                      A Tale of Two Cities\n",
       "chapters                                         Book II Chapter 4-5\n",
       "chapter_text       \\n\\nCongratulatory\\n\\n\\nFrom the dimly-lighted...\n",
       "Name: 293, dtype: object"
      ]
     },
     "execution_count": 338,
     "metadata": {},
     "output_type": "execute_result"
    }
   ],
   "source": [
    "main_df.iloc[293]"
   ]
  },
  {
   "cell_type": "code",
   "execution_count": 339,
   "metadata": {},
   "outputs": [
    {
     "data": {
      "text/plain": [
       "'\\n\\nEchoing Footsteps\\n\\n\\nA wonderful corner for echoes, it has been remarked, that corner where\\nthe Doctor lived.  Ever busily winding the golden thread which bound\\nher husband, and her father, and herself, and her old directress and\\ncompanion, in a life of quiet bliss, Lucie sat in the still house in '"
      ]
     },
     "execution_count": 339,
     "metadata": {},
     "output_type": "execute_result"
    }
   ],
   "source": [
    "attc_21_24 = (attc_bk2.partition('XXI')[2]).partition('The end of the second book.')[0]\n",
    "attc_21_24[:300]"
   ]
  },
  {
   "cell_type": "code",
   "execution_count": 340,
   "metadata": {},
   "outputs": [
    {
     "data": {
      "text/plain": [
       "'ook horse for Dover; and began his\\njourney.  \"For the love of Heaven, of justice, of generosity, of the\\nhonour of your noble name!\" was the poor prisoner\\'s cry with which\\nhe strengthened his sinking heart, as he left all that was dear on\\nearth behind him, and floated away for the Loadstone Rock.\\n\\n\\n\\n'"
      ]
     },
     "execution_count": 340,
     "metadata": {},
     "output_type": "execute_result"
    }
   ],
   "source": [
    "attc_21_24[-300:]"
   ]
  },
  {
   "cell_type": "code",
   "execution_count": 341,
   "metadata": {},
   "outputs": [
    {
     "data": {
      "text/plain": [
       "''"
      ]
     },
     "execution_count": 341,
     "metadata": {},
     "output_type": "execute_result"
    }
   ],
   "source": [
    "main_df.iloc[299]['chapter_text']"
   ]
  },
  {
   "cell_type": "code",
   "execution_count": 342,
   "metadata": {},
   "outputs": [],
   "source": [
    "main_df.iloc[299]['chapter_text'] = attc_21_24"
   ]
  },
  {
   "cell_type": "code",
   "execution_count": 343,
   "metadata": {},
   "outputs": [
    {
     "data": {
      "text/plain": [
       "chapter_title      A Tale of Two Cities: Novel Summary: Book II C...\n",
       "chapter_summary    Book II\\nChapter 21-24\\nYears pass. Lucie occa...\n",
       "book_title                                      A Tale of Two Cities\n",
       "chapters                                       Book II Chapter 21-24\n",
       "chapter_text       \\n\\nEchoing Footsteps\\n\\n\\nA wonderful corner ...\n",
       "Name: 299, dtype: object"
      ]
     },
     "execution_count": 343,
     "metadata": {},
     "output_type": "execute_result"
    }
   ],
   "source": [
    "main_df.iloc[299]"
   ]
  },
  {
   "cell_type": "markdown",
   "metadata": {},
   "source": [
    "##### Notes from the Underground Part 1 Ch 9-10 & Part 2 Ch 4-5"
   ]
  },
  {
   "cell_type": "code",
   "execution_count": 344,
   "metadata": {},
   "outputs": [],
   "source": [
    "nfu_text = get_text('Notes from the Underground')"
   ]
  },
  {
   "cell_type": "code",
   "execution_count": 345,
   "metadata": {},
   "outputs": [
    {
     "data": {
      "text/plain": [
       "'rted and honest.  Well,\\nhere is a chance for me, anyway.\\n\\nSnow is falling today, yellow and dingy.  It fell yesterday, too, and a few\\ndays ago.  I fancy it is the wet snow that has reminded me of that incident\\nwhich I cannot shake off now.  And so let it be a story A PROPOS of the\\nfalling snow.\\n\\n\\n\\n\\n'"
      ]
     },
     "execution_count": 345,
     "metadata": {},
     "output_type": "execute_result"
    }
   ],
   "source": [
    "nfu_part1 = nfu_text.partition('PART II')[0]\n",
    "nfu_part1[-300:]"
   ]
  },
  {
   "cell_type": "code",
   "execution_count": 346,
   "metadata": {},
   "outputs": [
    {
     "data": {
      "text/plain": [
       "'\\n\\n\\nGentlemen, I am joking, and I know myself that my jokes are not\\nbrilliant,but you know one can take everything as a joke.  I am, perhaps,\\njesting against the grain.  Gentlemen, I am tormented by questions;\\nanswer them for me.  You, for instance, want to cure men of their old\\nhabits and reform the'"
      ]
     },
     "execution_count": 346,
     "metadata": {},
     "output_type": "execute_result"
    }
   ],
   "source": [
    "nfu_9_10 = (nfu_part1.partition('IX')[2]).partition('XI')[0]\n",
    "nfu_9_10[:300]"
   ]
  },
  {
   "cell_type": "code",
   "execution_count": 347,
   "metadata": {},
   "outputs": [
    {
     "data": {
      "text/plain": [
       "'eat?  Can this be my whole purpose?  I do not\\nbelieve it.\\n\\nBut do you know what: I am convinced that we underground folk\\nought to be kept on a curb.  Though we may sit forty years underground\\nwithout speaking, when we do come out into the light of day and break\\nout we talk and talk and talk ....\\n\\n\\n\\n'"
      ]
     },
     "execution_count": 347,
     "metadata": {},
     "output_type": "execute_result"
    }
   ],
   "source": [
    "nfu_9_10[-300:]"
   ]
  },
  {
   "cell_type": "code",
   "execution_count": 348,
   "metadata": {},
   "outputs": [
    {
     "data": {
      "text/plain": [
       "chapter_title      Notes from the Underground: Novel Summary: Par...\n",
       "chapter_summary    Part 1 Chapter 9: Next, the UM uses the analog...\n",
       "book_title                                Notes from the Underground\n",
       "chapters                          Part 1 Chapter 9-Part 1 Chapter 10\n",
       "chapter_text                                                        \n",
       "Name: 283, dtype: object"
      ]
     },
     "execution_count": 348,
     "metadata": {},
     "output_type": "execute_result"
    }
   ],
   "source": [
    "main_df.iloc[283]"
   ]
  },
  {
   "cell_type": "code",
   "execution_count": 349,
   "metadata": {},
   "outputs": [],
   "source": [
    "main_df.iloc[283]['chapter_text'] = nfu_9_10"
   ]
  },
  {
   "cell_type": "code",
   "execution_count": 350,
   "metadata": {},
   "outputs": [
    {
     "data": {
      "text/plain": [
       "chapter_title      Notes from the Underground: Novel Summary: Par...\n",
       "chapter_summary    Part 1 Chapter 9: Next, the UM uses the analog...\n",
       "book_title                                Notes from the Underground\n",
       "chapters                          Part 1 Chapter 9-Part 1 Chapter 10\n",
       "chapter_text       \\n\\n\\nGentlemen, I am joking, and I know mysel...\n",
       "Name: 283, dtype: object"
      ]
     },
     "execution_count": 350,
     "metadata": {},
     "output_type": "execute_result"
    }
   ],
   "source": [
    "main_df.iloc[283]"
   ]
  },
  {
   "cell_type": "code",
   "execution_count": 351,
   "metadata": {},
   "outputs": [
    {
     "data": {
      "text/plain": [
       "\"\\n\\nA Propos of the Wet Snow\\n\\n\\nWhen from dark error's subjugation\\nMy words of passionate exhortation\\n  Had wrenched thy fainting spirit free;\\nAnd writhing prone in thine affliction\\nThou didst recall with malediction\\n  The vice that had encompassed thee:\\nAnd when thy slumbering conscience, fretting\\n  B\""
      ]
     },
     "execution_count": 351,
     "metadata": {},
     "output_type": "execute_result"
    }
   ],
   "source": [
    "nfu_part2 = nfu_text.partition('PART II')[2]\n",
    "nfu_part2[:300]"
   ]
  },
  {
   "cell_type": "code",
   "execution_count": 352,
   "metadata": {},
   "outputs": [
    {
     "data": {
      "text/plain": [
       "'oping a\\ntaste for it.  Soon we shall contrive to be born somehow from an idea.  But\\nenough; I don\\'t want to write more from \"Underground.\"\\n\\n\\n[The notes of this paradoxalist do not end here, however.  He could not\\nrefrain from going on with them, but it seems to us that we may stop\\nhere.]\\n\\n\\n\\n\\n\\n\\n\\n\\n\\n\\n\\n'"
      ]
     },
     "execution_count": 352,
     "metadata": {},
     "output_type": "execute_result"
    }
   ],
   "source": [
    "nfu_part2[-300:]"
   ]
  },
  {
   "cell_type": "code",
   "execution_count": 353,
   "metadata": {},
   "outputs": [
    {
     "data": {
      "text/plain": [
       "'\\n\\n\\nI had been certain the day before that I should be the first to arrive.  But it\\nwas not a question of being the first to arrive.  Not only were they not\\nthere, but I had difficulty in finding our room.  The table was not laid\\neven.  What did it mean?  After a good many questions I elicited from t'"
      ]
     },
     "execution_count": 353,
     "metadata": {},
     "output_type": "execute_result"
    }
   ],
   "source": [
    "nfu_4_5 = (nfu_part2.partition('IV')[2]).partition('...  Somewhere behind a screen')[0]\n",
    "nfu_4_5[:300]"
   ]
  },
  {
   "cell_type": "code",
   "execution_count": 354,
   "metadata": {},
   "outputs": [
    {
     "data": {
      "text/plain": [
       "'hsome stirred within me.  I went\\nstraight up to her.\\n\\nI chanced to look into the glass.  My harassed face struck me as\\nrevolting in the extreme, pale, angry, abject, with dishevelled hair.  \"No\\nmatter, I am glad of it,\" I thought; \"I am glad that I shall seem repulsive\\nto her; I like that.\"\\n\\n\\n\\nVI\\n\\n\\n'"
      ]
     },
     "execution_count": 354,
     "metadata": {},
     "output_type": "execute_result"
    }
   ],
   "source": [
    "nfu_4_5[-300:]"
   ]
  },
  {
   "cell_type": "code",
   "execution_count": 355,
   "metadata": {},
   "outputs": [
    {
     "data": {
      "text/plain": [
       "chapter_title      Notes from the Underground: Novel Summary: Par...\n",
       "chapter_summary    Part 2 Chapter 4-Part 2 Chapter 5\\nPart 2 Chap...\n",
       "book_title                                Notes from the Underground\n",
       "chapters                           Part 2 Chapter 4-Part 2 Chapter 5\n",
       "chapter_text                                                        \n",
       "Name: 286, dtype: object"
      ]
     },
     "execution_count": 355,
     "metadata": {},
     "output_type": "execute_result"
    }
   ],
   "source": [
    "main_df.iloc[286]"
   ]
  },
  {
   "cell_type": "code",
   "execution_count": 356,
   "metadata": {},
   "outputs": [],
   "source": [
    "main_df.iloc[286]['chapter_text'] = nfu_4_5"
   ]
  },
  {
   "cell_type": "code",
   "execution_count": 357,
   "metadata": {},
   "outputs": [
    {
     "data": {
      "text/plain": [
       "chapter_title      Notes from the Underground: Novel Summary: Par...\n",
       "chapter_summary    Part 2 Chapter 4-Part 2 Chapter 5\\nPart 2 Chap...\n",
       "book_title                                Notes from the Underground\n",
       "chapters                           Part 2 Chapter 4-Part 2 Chapter 5\n",
       "chapter_text       \\n\\n\\nI had been certain the day before that I...\n",
       "Name: 286, dtype: object"
      ]
     },
     "execution_count": 357,
     "metadata": {},
     "output_type": "execute_result"
    }
   ],
   "source": [
    "main_df.iloc[286]"
   ]
  },
  {
   "cell_type": "markdown",
   "metadata": {},
   "source": [
    "##### 4 chapters from The Red Badge of Courage"
   ]
  },
  {
   "cell_type": "code",
   "execution_count": 358,
   "metadata": {},
   "outputs": [],
   "source": [
    "rbc_text = get_text('The Red Badge of Courage')"
   ]
  },
  {
   "cell_type": "code",
   "execution_count": 359,
   "metadata": {},
   "outputs": [
    {
     "data": {
      "text/plain": [
       "'The Red Badge of Courage : Novel Summary: Chapter 23-24'"
      ]
     },
     "execution_count": 359,
     "metadata": {},
     "output_type": "execute_result"
    }
   ],
   "source": [
    "main_df.iloc[278]['chapter_title']"
   ]
  },
  {
   "cell_type": "code",
   "execution_count": 360,
   "metadata": {},
   "outputs": [
    {
     "data": {
      "text/plain": [
       "'\\n\\n\\nTHE colonel came running along back of the\\nline.  There were other officers following him.\\n\"We must charge\\'m!\" they shouted.  \"We must\\ncharge\\'m!\" they cried with resentful voices, as\\nif anticipating a rebellion against this plan by the\\nmen.\\n\\nThe youth, upon hearing the shouts, began to\\nstudy the '"
      ]
     },
     "execution_count": 360,
     "metadata": {},
     "output_type": "execute_result"
    }
   ],
   "source": [
    "rbc_23_24 = rbc_text.partition('CHAPTER XXIII.')[2]\n",
    "rbc_23_24[:300]"
   ]
  },
  {
   "cell_type": "code",
   "execution_count": 361,
   "metadata": {},
   "outputs": [
    {
     "data": {
      "text/plain": [
       "\"t.\\nHe had been an animal blistered and sweating in\\nthe heat and pain of war.  He turned now with a\\nlover's thirst to images of tranquil skies, fresh\\nmeadows, cool brooks--an existence of soft and\\neternal peace.\\n\\nOver the river a golden ray of sun came\\nthrough the hosts of leaden rain clouds.\\n\\n\\n\\n\\n\\n\\n\\n\""
      ]
     },
     "execution_count": 361,
     "metadata": {},
     "output_type": "execute_result"
    }
   ],
   "source": [
    "rbc_23_24[-300:]"
   ]
  },
  {
   "cell_type": "code",
   "execution_count": 362,
   "metadata": {},
   "outputs": [],
   "source": [
    "main_df.iloc[278]['chapter_text'] = rbc_23_24"
   ]
  },
  {
   "cell_type": "code",
   "execution_count": 363,
   "metadata": {},
   "outputs": [
    {
     "data": {
      "text/plain": [
       "chapter_title      The Red Badge of Courage : Novel Summary: Chap...\n",
       "chapter_summary    The officers call for a charge, and the men re...\n",
       "book_title                                  The Red Badge of Courage\n",
       "chapters           The Red Badge of Courage : Novel Summary: Chap...\n",
       "chapter_text       \\n\\n\\nTHE colonel came running along back of t...\n",
       "Name: 278, dtype: object"
      ]
     },
     "execution_count": 363,
     "metadata": {},
     "output_type": "execute_result"
    }
   ],
   "source": [
    "main_df.iloc[278]"
   ]
  },
  {
   "cell_type": "code",
   "execution_count": 364,
   "metadata": {},
   "outputs": [
    {
     "data": {
      "text/plain": [
       "'The Red Badge of Courage : Novel Summary: Chapter 18-19'"
      ]
     },
     "execution_count": 364,
     "metadata": {},
     "output_type": "execute_result"
    }
   ],
   "source": [
    "main_df.iloc[276]['chapter_title']"
   ]
  },
  {
   "cell_type": "code",
   "execution_count": 365,
   "metadata": {},
   "outputs": [],
   "source": [
    "rbc_18_19 = (rbc_text.partition('CHAPTER XVIII.')[2]).partition('CHAPTER XX.')[0]"
   ]
  },
  {
   "cell_type": "code",
   "execution_count": 366,
   "metadata": {},
   "outputs": [],
   "source": [
    "main_df.iloc[276]['chapter_text'] = rbc_18_19"
   ]
  },
  {
   "cell_type": "code",
   "execution_count": 367,
   "metadata": {},
   "outputs": [
    {
     "data": {
      "text/plain": [
       "chapter_title      The Red Badge of Courage : Novel Summary: Chap...\n",
       "chapter_summary    During the lull in their portion of the battle...\n",
       "book_title                                  The Red Badge of Courage\n",
       "chapters           The Red Badge of Courage : Novel Summary: Chap...\n",
       "chapter_text       \\n\\n\\nTHE ragged line had respite for some min...\n",
       "Name: 276, dtype: object"
      ]
     },
     "execution_count": 367,
     "metadata": {},
     "output_type": "execute_result"
    }
   ],
   "source": [
    "main_df.iloc[276]"
   ]
  },
  {
   "cell_type": "code",
   "execution_count": 368,
   "metadata": {},
   "outputs": [
    {
     "data": {
      "text/plain": [
       "'The Red Badge of Courage : Novel Summary: Chapter 16-17'"
      ]
     },
     "execution_count": 368,
     "metadata": {},
     "output_type": "execute_result"
    }
   ],
   "source": [
    "main_df.iloc[275]['chapter_title']"
   ]
  },
  {
   "cell_type": "code",
   "execution_count": 369,
   "metadata": {},
   "outputs": [],
   "source": [
    "rbc_16_17 = (rbc_text.partition('CHAPTER XVI.')[2]).partition('CHAPTER XVIII.')[0]"
   ]
  },
  {
   "cell_type": "code",
   "execution_count": 370,
   "metadata": {},
   "outputs": [],
   "source": [
    "main_df.iloc[275]['chapter_text'] = rbc_16_17"
   ]
  },
  {
   "cell_type": "code",
   "execution_count": 371,
   "metadata": {},
   "outputs": [
    {
     "data": {
      "text/plain": [
       "chapter_title      The Red Badge of Courage : Novel Summary: Chap...\n",
       "chapter_summary    Henry’s regiment marches to some trenches to r...\n",
       "book_title                                  The Red Badge of Courage\n",
       "chapters           The Red Badge of Courage : Novel Summary: Chap...\n",
       "chapter_text       \\n\\n\\nA SPUTTERING of musketry was always to b...\n",
       "Name: 275, dtype: object"
      ]
     },
     "execution_count": 371,
     "metadata": {},
     "output_type": "execute_result"
    }
   ],
   "source": [
    "main_df.iloc[275]"
   ]
  },
  {
   "cell_type": "code",
   "execution_count": 372,
   "metadata": {},
   "outputs": [
    {
     "data": {
      "text/plain": [
       "'The Red Badge of Courage : Novel Summary: Chapter 11-12'"
      ]
     },
     "execution_count": 372,
     "metadata": {},
     "output_type": "execute_result"
    }
   ],
   "source": [
    "main_df.iloc[273]['chapter_title']"
   ]
  },
  {
   "cell_type": "code",
   "execution_count": 373,
   "metadata": {},
   "outputs": [],
   "source": [
    "rbc_11_12 = (rbc_text.partition('CHAPTER XI.')[2]).partition('CHAPTER XIII.')[0]"
   ]
  },
  {
   "cell_type": "code",
   "execution_count": 374,
   "metadata": {},
   "outputs": [],
   "source": [
    "main_df.iloc[273]['chapter_text'] = rbc_11_12"
   ]
  },
  {
   "cell_type": "code",
   "execution_count": 375,
   "metadata": {},
   "outputs": [
    {
     "data": {
      "text/plain": [
       "chapter_title      The Red Badge of Courage : Novel Summary: Chap...\n",
       "chapter_summary    The noise of the battle grows louder and Henry...\n",
       "book_title                                  The Red Badge of Courage\n",
       "chapters           The Red Badge of Courage : Novel Summary: Chap...\n",
       "chapter_text       \\n\\n\\nHE became aware that the furnace roar of...\n",
       "Name: 273, dtype: object"
      ]
     },
     "execution_count": 375,
     "metadata": {},
     "output_type": "execute_result"
    }
   ],
   "source": [
    "main_df.iloc[273]"
   ]
  },
  {
   "cell_type": "markdown",
   "metadata": {},
   "source": [
    "##### As You Like It Act 3, Scene 1-Act 3, Scene 2"
   ]
  },
  {
   "cell_type": "code",
   "execution_count": 376,
   "metadata": {},
   "outputs": [
    {
     "data": {
      "text/plain": [
       "chapter_title      As You Like It: Novel Summary: Act 3, Scene 1-...\n",
       "chapter_summary    Act 3, Scene 1: Duke Frederick tells Oliver he...\n",
       "book_title                                            As You Like It\n",
       "chapters                               Act 3, Scene 1-Act 3, Scene 2\n",
       "chapter_text                                                        \n",
       "Name: 259, dtype: object"
      ]
     },
     "execution_count": 376,
     "metadata": {},
     "output_type": "execute_result"
    }
   ],
   "source": [
    "main_df.iloc[259]"
   ]
  },
  {
   "cell_type": "code",
   "execution_count": 377,
   "metadata": {},
   "outputs": [],
   "source": [
    "ayl_text = get_text('As You Like It')"
   ]
  },
  {
   "cell_type": "code",
   "execution_count": 378,
   "metadata": {},
   "outputs": [
    {
     "data": {
      "text/plain": [
       "\"\\nThe palace\\n\\nEnter DUKE FREDERICK, OLIVER, and LORDS\\n\\n  FREDERICK. Not see him since! Sir, sir, that cannot be.\\n    But were I not the better part made mercy,\\n    I should not seek an absent argument\\n    Of my revenge, thou present. But look to it:\\n    Find out thy brother wheresoe'er he is;\\n    See\""
      ]
     },
     "execution_count": 378,
     "metadata": {},
     "output_type": "execute_result"
    }
   ],
   "source": [
    "ayl_act3 = (ayl_text.partition('ACT III. SCENE I.')[2]).partition('ACT IV. SCENE I.')[0]\n",
    "ayl_act3[:300]"
   ]
  },
  {
   "cell_type": "code",
   "execution_count": 379,
   "metadata": {},
   "outputs": [
    {
     "data": {
      "text/plain": [
       "\"\\nThe palace\\n\\nEnter DUKE FREDERICK, OLIVER, and LORDS\\n\\n  FREDERICK. Not see him since! Sir, sir, that cannot be.\\n    But were I not the better part made mercy,\\n    I should not seek an absent argument\\n    Of my revenge, thou present. But look to it:\\n    Find out thy brother wheresoe'er he is;\\n    See\""
      ]
     },
     "execution_count": 379,
     "metadata": {},
     "output_type": "execute_result"
    }
   ],
   "source": [
    "ayl_1_2 = ayl_act3.partition('SCENE III.')[0]\n",
    "ayl_1_2[:300]"
   ]
  },
  {
   "cell_type": "code",
   "execution_count": 380,
   "metadata": {},
   "outputs": [],
   "source": [
    "main_df.iloc[259]['chapter_text'] = ayl_1_2"
   ]
  },
  {
   "cell_type": "code",
   "execution_count": 381,
   "metadata": {},
   "outputs": [
    {
     "data": {
      "text/plain": [
       "chapter_title      As You Like It: Novel Summary: Act 3, Scene 1-...\n",
       "chapter_summary    Act 3, Scene 1: Duke Frederick tells Oliver he...\n",
       "book_title                                            As You Like It\n",
       "chapters                               Act 3, Scene 1-Act 3, Scene 2\n",
       "chapter_text       \\nThe palace\\n\\nEnter DUKE FREDERICK, OLIVER, ...\n",
       "Name: 259, dtype: object"
      ]
     },
     "execution_count": 381,
     "metadata": {},
     "output_type": "execute_result"
    }
   ],
   "source": [
    "main_df.iloc[259]"
   ]
  },
  {
   "cell_type": "markdown",
   "metadata": {},
   "source": [
    "##### Dantes Inferno Canto 21-22\t"
   ]
  },
  {
   "cell_type": "code",
   "execution_count": 382,
   "metadata": {},
   "outputs": [
    {
     "data": {
      "text/plain": [
       "chapter_title                The Inferno: Novel Summary: Canto 21-22\n",
       "chapter_summary    Summary\\n\\tIn the Fifth Bolgia, Dante sees boi...\n",
       "book_title                                            Dantes Inferno\n",
       "chapters                                                 Canto 21-22\n",
       "chapter_text                                                        \n",
       "Name: 117, dtype: object"
      ]
     },
     "execution_count": 382,
     "metadata": {},
     "output_type": "execute_result"
    }
   ],
   "source": [
    "main_df.iloc[117]"
   ]
  },
  {
   "cell_type": "code",
   "execution_count": 383,
   "metadata": {},
   "outputs": [],
   "source": [
    "di_text = get_text('Dantes Inferno')"
   ]
  },
  {
   "cell_type": "code",
   "execution_count": 384,
   "metadata": {},
   "outputs": [],
   "source": [
    "di_21_22 = (di_text.partition('CANTO 21')[2]).partition('CANTO 23')[0]"
   ]
  },
  {
   "cell_type": "code",
   "execution_count": 385,
   "metadata": {},
   "outputs": [],
   "source": [
    "main_df.iloc[117]['chapter_text'] = di_21_22"
   ]
  },
  {
   "cell_type": "code",
   "execution_count": 386,
   "metadata": {},
   "outputs": [
    {
     "data": {
      "text/plain": [
       "chapter_title                The Inferno: Novel Summary: Canto 21-22\n",
       "chapter_summary    Summary\\n\\tIn the Fifth Bolgia, Dante sees boi...\n",
       "book_title                                            Dantes Inferno\n",
       "chapters                                                 Canto 21-22\n",
       "chapter_text       \\n\\nFROM bridge to bridge thus, speaking other...\n",
       "Name: 117, dtype: object"
      ]
     },
     "execution_count": 386,
     "metadata": {},
     "output_type": "execute_result"
    }
   ],
   "source": [
    "main_df.iloc[117]"
   ]
  },
  {
   "cell_type": "markdown",
   "metadata": {},
   "source": [
    "##### Cymbeline Act 1 Scene 7 & Act 3 Scene 8"
   ]
  },
  {
   "cell_type": "code",
   "execution_count": 387,
   "metadata": {},
   "outputs": [
    {
     "data": {
      "text/html": [
       "<div>\n",
       "<style scoped>\n",
       "    .dataframe tbody tr th:only-of-type {\n",
       "        vertical-align: middle;\n",
       "    }\n",
       "\n",
       "    .dataframe tbody tr th {\n",
       "        vertical-align: top;\n",
       "    }\n",
       "\n",
       "    .dataframe thead th {\n",
       "        text-align: right;\n",
       "    }\n",
       "</style>\n",
       "<table border=\"1\" class=\"dataframe\">\n",
       "  <thead>\n",
       "    <tr style=\"text-align: right;\">\n",
       "      <th></th>\n",
       "      <th>chapter_title</th>\n",
       "      <th>chapter_summary</th>\n",
       "      <th>book_title</th>\n",
       "      <th>chapters</th>\n",
       "      <th>chapter_text</th>\n",
       "    </tr>\n",
       "  </thead>\n",
       "  <tbody>\n",
       "    <tr>\n",
       "      <th>64</th>\n",
       "      <td>Cymbeline: Novel Summary: Act 1 Scene 1</td>\n",
       "      <td>Summary\\n\\tAct 1, scene 1\\n\\tTwo gentlemen are...</td>\n",
       "      <td>Cymbeline</td>\n",
       "      <td>Act 1 Scene 1</td>\n",
       "      <td>The Complete Works of William Shakespeare Cymb...</td>\n",
       "    </tr>\n",
       "    <tr>\n",
       "      <th>65</th>\n",
       "      <td>Cymbeline: Novel Summary: Act 1 Scene 2</td>\n",
       "      <td>Summary\\n\\tThe Queen tells Imogen that she is ...</td>\n",
       "      <td>Cymbeline</td>\n",
       "      <td>Act 1 Scene 2</td>\n",
       "      <td>\\nBritain. A public place\\n\\nEnter CLOTEN and ...</td>\n",
       "    </tr>\n",
       "    <tr>\n",
       "      <th>66</th>\n",
       "      <td>Cymbeline: Novel Summary: Act 1 Scene 3</td>\n",
       "      <td>Summary\\n\\tThe First Lord advises Cloten to ch...</td>\n",
       "      <td>Cymbeline</td>\n",
       "      <td>Act 1 Scene 3</td>\n",
       "      <td>\\nBritain. CYMBELINE'S palace\\n\\nEnter IMOGEN ...</td>\n",
       "    </tr>\n",
       "    <tr>\n",
       "      <th>67</th>\n",
       "      <td>Cymbeline: Novel Summary: Act 1 Scene 4</td>\n",
       "      <td>Summary\\n\\tImogen questions Pisanio about his ...</td>\n",
       "      <td>Cymbeline</td>\n",
       "      <td>Act 1 Scene 4</td>\n",
       "      <td>\\nRome. PHILARIO'S house\\n\\nEnter PHILARIO, IA...</td>\n",
       "    </tr>\n",
       "    <tr>\n",
       "      <th>68</th>\n",
       "      <td>Cymbeline: Novel Summary: Act 1 Scene 5</td>\n",
       "      <td>Summary\\n\\tThe scene is set in Rome at the hou...</td>\n",
       "      <td>Cymbeline</td>\n",
       "      <td>Act 1 Scene 5</td>\n",
       "      <td>\\nBritain. CYMBELINE'S palace\\n\\nEnter QUEEN, ...</td>\n",
       "    </tr>\n",
       "    <tr>\n",
       "      <th>69</th>\n",
       "      <td>Cymbeline: Novel Summary: Act 1 Scene 6</td>\n",
       "      <td>Summary\\n\\tAt Cymbeline's palace, the Queen is...</td>\n",
       "      <td>Cymbeline</td>\n",
       "      <td>Act 1 Scene 6</td>\n",
       "      <td>\\nBritain. The palace\\n\\nEnter IMOGEN alone\\n\\...</td>\n",
       "    </tr>\n",
       "    <tr>\n",
       "      <th>70</th>\n",
       "      <td>Cymbeline: Novel Summary: Act 1 Scene 7</td>\n",
       "      <td>Summary\\n\\tImogen is lamenting her unhappy sit...</td>\n",
       "      <td>Cymbeline</td>\n",
       "      <td>Act 1 Scene 7</td>\n",
       "      <td></td>\n",
       "    </tr>\n",
       "    <tr>\n",
       "      <th>71</th>\n",
       "      <td>Cymbeline: Novel Summary: Act 2 Scene 1</td>\n",
       "      <td>Summary\\n\\tCloten is playing bowls with some L...</td>\n",
       "      <td>Cymbeline</td>\n",
       "      <td>Act 2 Scene 1</td>\n",
       "      <td>SCENE I.\\nBritain. Before CYMBELINE'S palace\\...</td>\n",
       "    </tr>\n",
       "    <tr>\n",
       "      <th>72</th>\n",
       "      <td>Cymbeline: Novel Summary: Act 2 Scene 2</td>\n",
       "      <td>Summary\\n\\tThe scene is set in Imogen's bedroo...</td>\n",
       "      <td>Cymbeline</td>\n",
       "      <td>Act 2 Scene 2</td>\n",
       "      <td>\\nBritain. IMOGEN'S bedchamber in CYMBELINE'S ...</td>\n",
       "    </tr>\n",
       "    <tr>\n",
       "      <th>73</th>\n",
       "      <td>Cymbeline: Novel Summary: Act 2 Scene 3</td>\n",
       "      <td>Summary\\n\\tCloten is playing some Lords, eithe...</td>\n",
       "      <td>Cymbeline</td>\n",
       "      <td>Act 2 Scene 3</td>\n",
       "      <td>\\nCYMBELINE'S palace. An ante-chamber adjoinin...</td>\n",
       "    </tr>\n",
       "    <tr>\n",
       "      <th>74</th>\n",
       "      <td>Cymbeline: Novel Summary: Act 2 Scene 4</td>\n",
       "      <td>\\n\\t \\nSummary\\n\\tIn Rome, Posthumus tells Phi...</td>\n",
       "      <td>Cymbeline</td>\n",
       "      <td>Act 2 Scene 4</td>\n",
       "      <td>\\nRome. PHILARIO'S house\\n\\nEnter POSTHUMUS an...</td>\n",
       "    </tr>\n",
       "    <tr>\n",
       "      <th>75</th>\n",
       "      <td>Cymbeline: Novel Summary: Act 3 Scene 1</td>\n",
       "      <td>Summary\\n\\tAt Cymbeline's palace, Lucius is as...</td>\n",
       "      <td>Cymbeline</td>\n",
       "      <td>Act 3 Scene 1</td>\n",
       "      <td>SCENE I.\\nBritain. A hall in CYMBELINE'S pala...</td>\n",
       "    </tr>\n",
       "    <tr>\n",
       "      <th>76</th>\n",
       "      <td>Cymbeline: Novel Summary: Act 3 Scene 2</td>\n",
       "      <td>Summary\\n\\tPisanio is reading a letter from Po...</td>\n",
       "      <td>Cymbeline</td>\n",
       "      <td>Act 3 Scene 2</td>\n",
       "      <td>\\nBritain. Another room in CYMBELINE'S palace\\...</td>\n",
       "    </tr>\n",
       "    <tr>\n",
       "      <th>77</th>\n",
       "      <td>Cymbeline: Novel Summary: Act 3 Scene 3</td>\n",
       "      <td>Summary\\n\\tThe scene shifts to a cave in Wales...</td>\n",
       "      <td>Cymbeline</td>\n",
       "      <td>Act 3 Scene 3</td>\n",
       "      <td>\\nWales. A mountainous country with a cave\\n\\n...</td>\n",
       "    </tr>\n",
       "    <tr>\n",
       "      <th>78</th>\n",
       "      <td>Cymbeline: Novel Summary: Act 3 Scene 4</td>\n",
       "      <td>Summary\\n\\tPisanio and Imogen are on their way...</td>\n",
       "      <td>Cymbeline</td>\n",
       "      <td>Act 3 Scene 4</td>\n",
       "      <td>\\nWales, near Milford Haven\\n\\nEnter PISANIO a...</td>\n",
       "    </tr>\n",
       "    <tr>\n",
       "      <th>79</th>\n",
       "      <td>Cymbeline: Novel Summary: Act 3 Scene 5</td>\n",
       "      <td>Summary\\n\\tCymbeline is bidding farewell to Lu...</td>\n",
       "      <td>Cymbeline</td>\n",
       "      <td>Act 3 Scene 5</td>\n",
       "      <td>\\nBritain. CYMBELINE'S palace\\n\\nEnter CYMBELI...</td>\n",
       "    </tr>\n",
       "    <tr>\n",
       "      <th>80</th>\n",
       "      <td>Cymbeline: Novel Summary: Act 3 Scene 6</td>\n",
       "      <td>Summary\\n\\tIn Wales, near Belarius's cave, Imo...</td>\n",
       "      <td>Cymbeline</td>\n",
       "      <td>Act 3 Scene 6</td>\n",
       "      <td>\\nWales. Before the cave of BELARIUS\\n\\nEnter ...</td>\n",
       "    </tr>\n",
       "    <tr>\n",
       "      <th>81</th>\n",
       "      <td>Cymbeline: Novel Summary: Act 3 Scene 7</td>\n",
       "      <td>Summary\\n\\tBelarius congratulates Guiderius fo...</td>\n",
       "      <td>Cymbeline</td>\n",
       "      <td>Act 3 Scene 7</td>\n",
       "      <td>\\nRome. A public place\\n\\nEnter two ROMAN SENA...</td>\n",
       "    </tr>\n",
       "    <tr>\n",
       "      <th>82</th>\n",
       "      <td>Cymbeline: Novel Summary: Act 3 Scene 8</td>\n",
       "      <td>Summary\\n\\tIn Rome, the First Senator is addre...</td>\n",
       "      <td>Cymbeline</td>\n",
       "      <td>Act 3 Scene 8</td>\n",
       "      <td></td>\n",
       "    </tr>\n",
       "    <tr>\n",
       "      <th>83</th>\n",
       "      <td>Cymbeline: Novel Summary: Act 4 Scene 1</td>\n",
       "      <td>Summary\\n\\tCloten, dressed in Posthumus's clot...</td>\n",
       "      <td>Cymbeline</td>\n",
       "      <td>Act 4 Scene 1</td>\n",
       "      <td>. SCENE I.\\nWales. Near the cave of BELARIUS\\n...</td>\n",
       "    </tr>\n",
       "    <tr>\n",
       "      <th>84</th>\n",
       "      <td>Cymbeline: Novel Summary: Act 4 Scene 2</td>\n",
       "      <td>Summary\\n\\tImogen is still disguised as a boy....</td>\n",
       "      <td>Cymbeline</td>\n",
       "      <td>Act 4 Scene 2</td>\n",
       "      <td>\\nWales. Before the cave of BELARIUS\\n\\nEnter,...</td>\n",
       "    </tr>\n",
       "    <tr>\n",
       "      <th>85</th>\n",
       "      <td>Cymbeline: Novel Summary: Act 4 Scene 3</td>\n",
       "      <td>Summary\\n\\tCymbeline asks how his wife is. She...</td>\n",
       "      <td>Cymbeline</td>\n",
       "      <td>Act 4 Scene 3</td>\n",
       "      <td>\\nBritain. CYMBELINE'S palace\\n\\nEnter CYMBELI...</td>\n",
       "    </tr>\n",
       "    <tr>\n",
       "      <th>86</th>\n",
       "      <td>Cymbeline: Novel Summary: Act 4 Scene 4</td>\n",
       "      <td>Summary\\n\\tGuiderius notes that he, his brothe...</td>\n",
       "      <td>Cymbeline</td>\n",
       "      <td>Act 4 Scene 4</td>\n",
       "      <td>\\nWales. Before the cave of BELARIUS\\n\\nEnter ...</td>\n",
       "    </tr>\n",
       "    <tr>\n",
       "      <th>87</th>\n",
       "      <td>Cymbeline: Novel Summary: Act 5 Scene 1</td>\n",
       "      <td>Summary\\n\\tPosthumus is now at the Roman camp ...</td>\n",
       "      <td>Cymbeline</td>\n",
       "      <td>Act 5 Scene 1</td>\n",
       "      <td>. SCENE I.\\nBritain. The Roman camp\\n\\nEnter P...</td>\n",
       "    </tr>\n",
       "    <tr>\n",
       "      <th>88</th>\n",
       "      <td>Cymbeline: Novel Summary: Act 5 Scene 2</td>\n",
       "      <td>Summary\\n\\tLucius, Iachimo and the Roman army ...</td>\n",
       "      <td>Cymbeline</td>\n",
       "      <td>Act 5 Scene 2</td>\n",
       "      <td>\\nBritain. A field of battle between the Briti...</td>\n",
       "    </tr>\n",
       "    <tr>\n",
       "      <th>89</th>\n",
       "      <td>Cymbeline: Novel Summary: Act 5 Scene 3</td>\n",
       "      <td>Summary\\n\\tPosthumus is talking to a British L...</td>\n",
       "      <td>Cymbeline</td>\n",
       "      <td>Act 5 Scene 3</td>\n",
       "      <td>\\nAnother part of the field\\n\\nEnter POSTHUMUS...</td>\n",
       "    </tr>\n",
       "    <tr>\n",
       "      <th>90</th>\n",
       "      <td>Cymbeline: Novel Summary: Act 5 Scene 4</td>\n",
       "      <td>Summary\\n\\tPosthumus enters in chains, with hi...</td>\n",
       "      <td>Cymbeline</td>\n",
       "      <td>Act 5 Scene 4</td>\n",
       "      <td>\\nBritain. A prison\\n\\nEnter POSTHUMUS and two...</td>\n",
       "    </tr>\n",
       "    <tr>\n",
       "      <th>91</th>\n",
       "      <td>Cymbeline: Novel Summary: Act 5 Scene 5</td>\n",
       "      <td>Summary\\n\\tCymbeline is in his tent, surrounde...</td>\n",
       "      <td>Cymbeline</td>\n",
       "      <td>Act 5 Scene 5</td>\n",
       "      <td>\\nBritain. CYMBELINE'S tent\\n\\nEnter CYMBELINE...</td>\n",
       "    </tr>\n",
       "  </tbody>\n",
       "</table>\n",
       "</div>"
      ],
      "text/plain": [
       "                              chapter_title  \\\n",
       "64  Cymbeline: Novel Summary: Act 1 Scene 1   \n",
       "65  Cymbeline: Novel Summary: Act 1 Scene 2   \n",
       "66  Cymbeline: Novel Summary: Act 1 Scene 3   \n",
       "67  Cymbeline: Novel Summary: Act 1 Scene 4   \n",
       "68  Cymbeline: Novel Summary: Act 1 Scene 5   \n",
       "69  Cymbeline: Novel Summary: Act 1 Scene 6   \n",
       "70  Cymbeline: Novel Summary: Act 1 Scene 7   \n",
       "71  Cymbeline: Novel Summary: Act 2 Scene 1   \n",
       "72  Cymbeline: Novel Summary: Act 2 Scene 2   \n",
       "73  Cymbeline: Novel Summary: Act 2 Scene 3   \n",
       "74  Cymbeline: Novel Summary: Act 2 Scene 4   \n",
       "75  Cymbeline: Novel Summary: Act 3 Scene 1   \n",
       "76  Cymbeline: Novel Summary: Act 3 Scene 2   \n",
       "77  Cymbeline: Novel Summary: Act 3 Scene 3   \n",
       "78  Cymbeline: Novel Summary: Act 3 Scene 4   \n",
       "79  Cymbeline: Novel Summary: Act 3 Scene 5   \n",
       "80  Cymbeline: Novel Summary: Act 3 Scene 6   \n",
       "81  Cymbeline: Novel Summary: Act 3 Scene 7   \n",
       "82  Cymbeline: Novel Summary: Act 3 Scene 8   \n",
       "83  Cymbeline: Novel Summary: Act 4 Scene 1   \n",
       "84  Cymbeline: Novel Summary: Act 4 Scene 2   \n",
       "85  Cymbeline: Novel Summary: Act 4 Scene 3   \n",
       "86  Cymbeline: Novel Summary: Act 4 Scene 4   \n",
       "87  Cymbeline: Novel Summary: Act 5 Scene 1   \n",
       "88  Cymbeline: Novel Summary: Act 5 Scene 2   \n",
       "89  Cymbeline: Novel Summary: Act 5 Scene 3   \n",
       "90  Cymbeline: Novel Summary: Act 5 Scene 4   \n",
       "91  Cymbeline: Novel Summary: Act 5 Scene 5   \n",
       "\n",
       "                                      chapter_summary book_title  \\\n",
       "64  Summary\\n\\tAct 1, scene 1\\n\\tTwo gentlemen are...  Cymbeline   \n",
       "65  Summary\\n\\tThe Queen tells Imogen that she is ...  Cymbeline   \n",
       "66  Summary\\n\\tThe First Lord advises Cloten to ch...  Cymbeline   \n",
       "67  Summary\\n\\tImogen questions Pisanio about his ...  Cymbeline   \n",
       "68  Summary\\n\\tThe scene is set in Rome at the hou...  Cymbeline   \n",
       "69  Summary\\n\\tAt Cymbeline's palace, the Queen is...  Cymbeline   \n",
       "70  Summary\\n\\tImogen is lamenting her unhappy sit...  Cymbeline   \n",
       "71  Summary\\n\\tCloten is playing bowls with some L...  Cymbeline   \n",
       "72  Summary\\n\\tThe scene is set in Imogen's bedroo...  Cymbeline   \n",
       "73  Summary\\n\\tCloten is playing some Lords, eithe...  Cymbeline   \n",
       "74  \\n\\t \\nSummary\\n\\tIn Rome, Posthumus tells Phi...  Cymbeline   \n",
       "75  Summary\\n\\tAt Cymbeline's palace, Lucius is as...  Cymbeline   \n",
       "76  Summary\\n\\tPisanio is reading a letter from Po...  Cymbeline   \n",
       "77  Summary\\n\\tThe scene shifts to a cave in Wales...  Cymbeline   \n",
       "78  Summary\\n\\tPisanio and Imogen are on their way...  Cymbeline   \n",
       "79  Summary\\n\\tCymbeline is bidding farewell to Lu...  Cymbeline   \n",
       "80  Summary\\n\\tIn Wales, near Belarius's cave, Imo...  Cymbeline   \n",
       "81  Summary\\n\\tBelarius congratulates Guiderius fo...  Cymbeline   \n",
       "82  Summary\\n\\tIn Rome, the First Senator is addre...  Cymbeline   \n",
       "83  Summary\\n\\tCloten, dressed in Posthumus's clot...  Cymbeline   \n",
       "84  Summary\\n\\tImogen is still disguised as a boy....  Cymbeline   \n",
       "85  Summary\\n\\tCymbeline asks how his wife is. She...  Cymbeline   \n",
       "86  Summary\\n\\tGuiderius notes that he, his brothe...  Cymbeline   \n",
       "87  Summary\\n\\tPosthumus is now at the Roman camp ...  Cymbeline   \n",
       "88  Summary\\n\\tLucius, Iachimo and the Roman army ...  Cymbeline   \n",
       "89  Summary\\n\\tPosthumus is talking to a British L...  Cymbeline   \n",
       "90  Summary\\n\\tPosthumus enters in chains, with hi...  Cymbeline   \n",
       "91  Summary\\n\\tCymbeline is in his tent, surrounde...  Cymbeline   \n",
       "\n",
       "         chapters                                       chapter_text  \n",
       "64  Act 1 Scene 1  The Complete Works of William Shakespeare Cymb...  \n",
       "65  Act 1 Scene 2  \\nBritain. A public place\\n\\nEnter CLOTEN and ...  \n",
       "66  Act 1 Scene 3  \\nBritain. CYMBELINE'S palace\\n\\nEnter IMOGEN ...  \n",
       "67  Act 1 Scene 4  \\nRome. PHILARIO'S house\\n\\nEnter PHILARIO, IA...  \n",
       "68  Act 1 Scene 5  \\nBritain. CYMBELINE'S palace\\n\\nEnter QUEEN, ...  \n",
       "69  Act 1 Scene 6  \\nBritain. The palace\\n\\nEnter IMOGEN alone\\n\\...  \n",
       "70  Act 1 Scene 7                                                     \n",
       "71  Act 2 Scene 1   SCENE I.\\nBritain. Before CYMBELINE'S palace\\...  \n",
       "72  Act 2 Scene 2  \\nBritain. IMOGEN'S bedchamber in CYMBELINE'S ...  \n",
       "73  Act 2 Scene 3  \\nCYMBELINE'S palace. An ante-chamber adjoinin...  \n",
       "74  Act 2 Scene 4  \\nRome. PHILARIO'S house\\n\\nEnter POSTHUMUS an...  \n",
       "75  Act 3 Scene 1   SCENE I.\\nBritain. A hall in CYMBELINE'S pala...  \n",
       "76  Act 3 Scene 2  \\nBritain. Another room in CYMBELINE'S palace\\...  \n",
       "77  Act 3 Scene 3  \\nWales. A mountainous country with a cave\\n\\n...  \n",
       "78  Act 3 Scene 4  \\nWales, near Milford Haven\\n\\nEnter PISANIO a...  \n",
       "79  Act 3 Scene 5  \\nBritain. CYMBELINE'S palace\\n\\nEnter CYMBELI...  \n",
       "80  Act 3 Scene 6  \\nWales. Before the cave of BELARIUS\\n\\nEnter ...  \n",
       "81  Act 3 Scene 7  \\nRome. A public place\\n\\nEnter two ROMAN SENA...  \n",
       "82  Act 3 Scene 8                                                     \n",
       "83  Act 4 Scene 1  . SCENE I.\\nWales. Near the cave of BELARIUS\\n...  \n",
       "84  Act 4 Scene 2  \\nWales. Before the cave of BELARIUS\\n\\nEnter,...  \n",
       "85  Act 4 Scene 3  \\nBritain. CYMBELINE'S palace\\n\\nEnter CYMBELI...  \n",
       "86  Act 4 Scene 4  \\nWales. Before the cave of BELARIUS\\n\\nEnter ...  \n",
       "87  Act 5 Scene 1  . SCENE I.\\nBritain. The Roman camp\\n\\nEnter P...  \n",
       "88  Act 5 Scene 2  \\nBritain. A field of battle between the Briti...  \n",
       "89  Act 5 Scene 3  \\nAnother part of the field\\n\\nEnter POSTHUMUS...  \n",
       "90  Act 5 Scene 4  \\nBritain. A prison\\n\\nEnter POSTHUMUS and two...  \n",
       "91  Act 5 Scene 5  \\nBritain. CYMBELINE'S tent\\n\\nEnter CYMBELINE...  "
      ]
     },
     "execution_count": 387,
     "metadata": {},
     "output_type": "execute_result"
    }
   ],
   "source": [
    "main_df[main_df['book_title']=='Cymbeline']"
   ]
  },
  {
   "cell_type": "code",
   "execution_count": 388,
   "metadata": {},
   "outputs": [
    {
     "data": {
      "text/plain": [
       "28"
      ]
     },
     "execution_count": 388,
     "metadata": {},
     "output_type": "execute_result"
    }
   ],
   "source": [
    "len(main_df[main_df['book_title']=='Cymbeline']['chapter_title'])"
   ]
  },
  {
   "cell_type": "code",
   "execution_count": 389,
   "metadata": {},
   "outputs": [
    {
     "data": {
      "text/plain": [
       "28"
      ]
     },
     "execution_count": 389,
     "metadata": {},
     "output_type": "execute_result"
    }
   ],
   "source": [
    "len(c_texts)"
   ]
  },
  {
   "cell_type": "code",
   "execution_count": 390,
   "metadata": {},
   "outputs": [
    {
     "data": {
      "text/plain": [
       "'Summary\\n\\tImogen is lamenting her unhappy situation, and wishes she had been stolen like her brothers. Pisanio enters with Iachimo, introducing him as a gentleman from Rome who has brought letters from Posthumus, who is safe. In an aside, Iachimo praises Imogen\\'s beauty and admits that if her mind is as admirable, he has lost his wager.\\n\\tPosthumus, in his letter, asks Imogen to treat Iachimo well in return for his \"kindnesses\" to Posthumus (line 23). She welcomes him. Iachimo appears to be wonder-struck by Imogen\\'s beauty, and muses aloud how anyone could fail to distinguish between fair and foul. He seems to imply, without actually saying it outright, that there is another woman whom, in spite of her obvious inferiority (\"sluttery,\" line 44), Posthumus is driven by lust to prefer to Imogen.\\n\\tImogen is mystified but changes the subject, asking after Posthumus\\'s health and state of mind. Iachimo takes his chance to blacken Posthumus\\'s character further, saying he is so merry that he is called \"the Briton reveller\". Imogen says he is more usually inclined to sadness; Iachimo replies that he has never seen Posthumus sad. On the contrary, he says, he laughs at a Frenchman who is pining after his girlfriend at home, for wasting time in such \"bondage.\" He suggests that Posthumus is abusing his God-given bounty (both his own talents and his wife), and says he pities them. Posthumus neglects his \"sun\" (Imogen) and takes solace in a dungeon by the light of a burned-out candle, a a reference, perhaps, to a sordid and secretive place or to the worn-out slut whom he alleges Posthumus meets there.\\n\\tImogen asks Iachimo to speak more openly, as she would rather know the truth. Iachimo protests that if he had a woman such as Imogen, he would never pursue common prostitutes. Imogen is worried, saying that her husband \"has forgot Britain\" (line 113). Iachimo says Posthumus is forcing her to live a nun-like life while he is living a sexually promiscuous life on her money. He urges her to revenge and dedicates himself to her \"sweet pleasure\" (line 136), saying that unlike Posthumus, he will be loyal to her.\\n\\tHe tries to kiss Imogen, but this action prompts her to see Iachimo for what he is. She calls for Pisanio, and rejects Iachimo\\'s advance, reproaching herself for listening to him. His motivation, she says, was not virtuous but self-seeking, to obtain her for himself. She says he has wronged Posthumus and that she will tell her father of his assault.\\n\\tIachimo rapidly changes direction, protesting that his aim was only to test her loyalty to Posthumus, and that he did so out of love to him. He begs her to forgive him, which she does.\\n\\tIachimo then asks Imogen to store a trunk containing expensive plate and jewels which he, Posthumus and some other friends have jointly bought as a gift for the Roman Emperor. She agrees, and as Posthumus has an interest in them, says she will keep them in her bedroom. Iachimo says he will have them sent to her just for tonight, as he must leave tomorrow. She tries to persuade Iachimo to stay, but he cannot. He suggests that she write Posthumus a letter tonight so that he can return with it tomorrow.\\n\\tAnalysis\\n\\tIachimo\\'s base nature is displayed in his use of animal imagery (lines 39-50). Apes, he says, would discriminate better than Posthumus does between Imogen and the imaginary \"slut.\" He likens Posthumus to a predator which devours first the lamb (Imogen) but, still hungry, wants to feed on \"garbage.\"\\n\\tIachimo\\'s description of Posthumus in exile as \"the Briton reveler\" is calculated to upset Imogen and make her suspicious of her husband\\'s loyalty. He uses images of rot, decay, disease and poison to excite disgust at Posthumus\\'s supposed life of whoring: \"Such boil\\'d stuff / As well might poison poison!\" (line 126) is thought to refer to the sweating treatment given to people suffering from venereal disease. Note that he also tries to set Imogen against Posthumus by accusing Posthumus of going whoring on her money, a continuation the theme of buying and selling.\\n\\tIachimo\\'s dedication of himself to Imogen\\'s \"sweet pleasure\" may be taken to mean he will do what she wishes by way of helping her take revenge, or may be a seduction attempt. Probably, it carries both meanings. His mind constantly runs along animalistic and sexual tracks, debasing the love relationship between Posthumus and Imogen.\\n\\tThe rapidity with which Iachimo changes track once Imogen sees through him, and appeals to her naturally open nature, indicates his great skill in manipulating people. Imogen\\'s willingness to forgive Iachimo contrasts markedly with her father\\'s failure to forgive her for marrying against his wishes.\\n'"
      ]
     },
     "execution_count": 390,
     "metadata": {},
     "output_type": "execute_result"
    }
   ],
   "source": [
    "main_df.iloc[70]['chapter_summary']"
   ]
  },
  {
   "cell_type": "markdown",
   "metadata": {},
   "source": [
    "Act 1 and Act 2 in the full text of Cymbeline have one less scene than indicated in the scene summaries. The full text scenes and scene sumamries appear at least in some cases to be mismatched. In the interest of time, Cymbeline will be dropped from the dataset for now. The data for this book can be cleaned up and added back in order to improve models in the future."
   ]
  },
  {
   "cell_type": "code",
   "execution_count": 391,
   "metadata": {},
   "outputs": [
    {
     "data": {
      "text/plain": [
       "(323, 5)"
      ]
     },
     "execution_count": 391,
     "metadata": {},
     "output_type": "execute_result"
    }
   ],
   "source": [
    "main_df.shape"
   ]
  },
  {
   "cell_type": "code",
   "execution_count": 392,
   "metadata": {},
   "outputs": [
    {
     "data": {
      "text/plain": [
       "(295, 5)"
      ]
     },
     "execution_count": 392,
     "metadata": {},
     "output_type": "execute_result"
    }
   ],
   "source": [
    "main_df.drop(index=list(range(64, 92))).shape"
   ]
  },
  {
   "cell_type": "code",
   "execution_count": 393,
   "metadata": {},
   "outputs": [],
   "source": [
    "main_df.drop(index=list(range(64, 92)), inplace=True)"
   ]
  },
  {
   "cell_type": "code",
   "execution_count": 397,
   "metadata": {},
   "outputs": [],
   "source": [
    "main_df.reset_index(inplace=True)"
   ]
  },
  {
   "cell_type": "code",
   "execution_count": 398,
   "metadata": {},
   "outputs": [],
   "source": [
    "main_df.drop(columns='index', inplace=True)"
   ]
  },
  {
   "cell_type": "markdown",
   "metadata": {},
   "source": [
    "##### Merry Wives of Windsor"
   ]
  },
  {
   "cell_type": "code",
   "execution_count": 399,
   "metadata": {},
   "outputs": [
    {
     "data": {
      "text/html": [
       "<div>\n",
       "<style scoped>\n",
       "    .dataframe tbody tr th:only-of-type {\n",
       "        vertical-align: middle;\n",
       "    }\n",
       "\n",
       "    .dataframe tbody tr th {\n",
       "        vertical-align: top;\n",
       "    }\n",
       "\n",
       "    .dataframe thead th {\n",
       "        text-align: right;\n",
       "    }\n",
       "</style>\n",
       "<table border=\"1\" class=\"dataframe\">\n",
       "  <thead>\n",
       "    <tr style=\"text-align: right;\">\n",
       "      <th></th>\n",
       "      <th>chapter_title</th>\n",
       "      <th>chapter_summary</th>\n",
       "      <th>book_title</th>\n",
       "      <th>chapters</th>\n",
       "      <th>chapter_text</th>\n",
       "    </tr>\n",
       "  </thead>\n",
       "  <tbody>\n",
       "    <tr>\n",
       "      <th>50</th>\n",
       "      <td>Merry Wives of Windsor: Novel Summary: Act I S...</td>\n",
       "      <td>\\n\\t \\nAct I Scene 1-2\\n\\tThe Merry Wives of W...</td>\n",
       "      <td>Merry Wives of Windsor</td>\n",
       "      <td>Act I Scene 1-2</td>\n",
       "      <td>\\nSCENE:\\nWindsor, and the neighbourhood\\n\\n\\n...</td>\n",
       "    </tr>\n",
       "    <tr>\n",
       "      <th>51</th>\n",
       "      <td>Merry Wives of Windsor: Novel Summary: Act I S...</td>\n",
       "      <td>\\n\\t \\nAct I Scene 3\\n\\tFalstaff tells the Hos...</td>\n",
       "      <td>Merry Wives of Windsor</td>\n",
       "      <td>Act I Scene 3</td>\n",
       "      <td></td>\n",
       "    </tr>\n",
       "    <tr>\n",
       "      <th>52</th>\n",
       "      <td>Merry Wives of Windsor: Novel Summary: Act I S...</td>\n",
       "      <td>\\n\\t \\nAct I Scene 4\\n\\tAt Dr. Caius's house, ...</td>\n",
       "      <td>Merry Wives of Windsor</td>\n",
       "      <td>Act I Scene 4</td>\n",
       "      <td></td>\n",
       "    </tr>\n",
       "    <tr>\n",
       "      <th>53</th>\n",
       "      <td>Merry Wives of Windsor: Novel Summary: Act II ...</td>\n",
       "      <td>\\n\\t \\nAct II Scene 1\\n\\tMrs. Page reads the l...</td>\n",
       "      <td>Merry Wives of Windsor</td>\n",
       "      <td>Act II Scene 1</td>\n",
       "      <td>SCENE 1.\\n\\nBefore PAGE'S house\\n\\nEnter MIST...</td>\n",
       "    </tr>\n",
       "    <tr>\n",
       "      <th>54</th>\n",
       "      <td>Merry Wives of Windsor: Novel Summary: Act II ...</td>\n",
       "      <td>\\n\\t \\nAct II Scene 2\\n\\tPistol asks Falstaff ...</td>\n",
       "      <td>Merry Wives of Windsor</td>\n",
       "      <td>Act II Scene 2</td>\n",
       "      <td></td>\n",
       "    </tr>\n",
       "    <tr>\n",
       "      <th>55</th>\n",
       "      <td>Merry Wives of Windsor: Novel Summary: Act II ...</td>\n",
       "      <td>\\n\\t \\nAct II Scene 3\\n\\t- Act III Scene 1\\n\\t...</td>\n",
       "      <td>Merry Wives of Windsor</td>\n",
       "      <td>Act II Scene 3 - Act III Scene 1</td>\n",
       "      <td></td>\n",
       "    </tr>\n",
       "    <tr>\n",
       "      <th>56</th>\n",
       "      <td>Merry Wives of Windsor: Novel Summary: Act III...</td>\n",
       "      <td>\\n\\t \\nAct III Scene 2\\n\\tFord encounters Mrs....</td>\n",
       "      <td>Merry Wives of Windsor</td>\n",
       "      <td>Act III Scene 2</td>\n",
       "      <td></td>\n",
       "    </tr>\n",
       "    <tr>\n",
       "      <th>57</th>\n",
       "      <td>Merry Wives of Windsor: Novel Summary: Act III...</td>\n",
       "      <td>\\n\\t \\nAct III Scene 3\\n\\tAt Ford's house, Mrs...</td>\n",
       "      <td>Merry Wives of Windsor</td>\n",
       "      <td>Act III Scene 3</td>\n",
       "      <td></td>\n",
       "    </tr>\n",
       "    <tr>\n",
       "      <th>58</th>\n",
       "      <td>Merry Wives of Windsor: Novel Summary: Act III...</td>\n",
       "      <td>\\n\\t \\nAct III Scene 4\\n\\tFenton tells Anne Pa...</td>\n",
       "      <td>Merry Wives of Windsor</td>\n",
       "      <td>Act III Scene 4</td>\n",
       "      <td></td>\n",
       "    </tr>\n",
       "    <tr>\n",
       "      <th>59</th>\n",
       "      <td>Merry Wives of Windsor: Novel Summary: Act III...</td>\n",
       "      <td>\\n\\t \\nAct III Scene 5\\n\\tFalstaff tells Bardo...</td>\n",
       "      <td>Merry Wives of Windsor</td>\n",
       "      <td>Act III Scene 5</td>\n",
       "      <td></td>\n",
       "    </tr>\n",
       "    <tr>\n",
       "      <th>60</th>\n",
       "      <td>Merry Wives of Windsor: Novel Summary: Act IV ...</td>\n",
       "      <td>\\n\\t \\nAct IV\\n\\tScene 1-2\\n\\tScene 1 is a sho...</td>\n",
       "      <td>Merry Wives of Windsor</td>\n",
       "      <td>Act IV Scene 1-2</td>\n",
       "      <td></td>\n",
       "    </tr>\n",
       "    <tr>\n",
       "      <th>61</th>\n",
       "      <td>Merry Wives of Windsor: Novel Summary: Act IV ...</td>\n",
       "      <td>\\n\\t \\nAct IV\\n\\tScene 3-4\\n\\tIn scene 3, Bard...</td>\n",
       "      <td>Merry Wives of Windsor</td>\n",
       "      <td>Act IV Scene 3-4</td>\n",
       "      <td></td>\n",
       "    </tr>\n",
       "    <tr>\n",
       "      <th>62</th>\n",
       "      <td>Merry Wives of Windsor: Novel Summary: Act IV ...</td>\n",
       "      <td>\\n\\t \\nAct IV\\n\\tScene 5-6\\n\\tAt the Garter In...</td>\n",
       "      <td>Merry Wives of Windsor</td>\n",
       "      <td>Act IV Scene 5-6</td>\n",
       "      <td></td>\n",
       "    </tr>\n",
       "    <tr>\n",
       "      <th>63</th>\n",
       "      <td>Merry Wives of Windsor: Novel Summary: Act V S...</td>\n",
       "      <td>\\n\\t \\nAct V\\n\\tScene 1-5\\n\\tFalstaff has agre...</td>\n",
       "      <td>Merry Wives of Windsor</td>\n",
       "      <td>Act V Scene 1-5</td>\n",
       "      <td>. SCENE 1.\\n\\nThe Garter Inn\\n\\nEnter FALSTAF...</td>\n",
       "    </tr>\n",
       "  </tbody>\n",
       "</table>\n",
       "</div>"
      ],
      "text/plain": [
       "                                        chapter_title  \\\n",
       "50  Merry Wives of Windsor: Novel Summary: Act I S...   \n",
       "51  Merry Wives of Windsor: Novel Summary: Act I S...   \n",
       "52  Merry Wives of Windsor: Novel Summary: Act I S...   \n",
       "53  Merry Wives of Windsor: Novel Summary: Act II ...   \n",
       "54  Merry Wives of Windsor: Novel Summary: Act II ...   \n",
       "55  Merry Wives of Windsor: Novel Summary: Act II ...   \n",
       "56  Merry Wives of Windsor: Novel Summary: Act III...   \n",
       "57  Merry Wives of Windsor: Novel Summary: Act III...   \n",
       "58  Merry Wives of Windsor: Novel Summary: Act III...   \n",
       "59  Merry Wives of Windsor: Novel Summary: Act III...   \n",
       "60  Merry Wives of Windsor: Novel Summary: Act IV ...   \n",
       "61  Merry Wives of Windsor: Novel Summary: Act IV ...   \n",
       "62  Merry Wives of Windsor: Novel Summary: Act IV ...   \n",
       "63  Merry Wives of Windsor: Novel Summary: Act V S...   \n",
       "\n",
       "                                      chapter_summary              book_title  \\\n",
       "50  \\n\\t \\nAct I Scene 1-2\\n\\tThe Merry Wives of W...  Merry Wives of Windsor   \n",
       "51  \\n\\t \\nAct I Scene 3\\n\\tFalstaff tells the Hos...  Merry Wives of Windsor   \n",
       "52  \\n\\t \\nAct I Scene 4\\n\\tAt Dr. Caius's house, ...  Merry Wives of Windsor   \n",
       "53  \\n\\t \\nAct II Scene 1\\n\\tMrs. Page reads the l...  Merry Wives of Windsor   \n",
       "54  \\n\\t \\nAct II Scene 2\\n\\tPistol asks Falstaff ...  Merry Wives of Windsor   \n",
       "55  \\n\\t \\nAct II Scene 3\\n\\t- Act III Scene 1\\n\\t...  Merry Wives of Windsor   \n",
       "56  \\n\\t \\nAct III Scene 2\\n\\tFord encounters Mrs....  Merry Wives of Windsor   \n",
       "57  \\n\\t \\nAct III Scene 3\\n\\tAt Ford's house, Mrs...  Merry Wives of Windsor   \n",
       "58  \\n\\t \\nAct III Scene 4\\n\\tFenton tells Anne Pa...  Merry Wives of Windsor   \n",
       "59  \\n\\t \\nAct III Scene 5\\n\\tFalstaff tells Bardo...  Merry Wives of Windsor   \n",
       "60  \\n\\t \\nAct IV\\n\\tScene 1-2\\n\\tScene 1 is a sho...  Merry Wives of Windsor   \n",
       "61  \\n\\t \\nAct IV\\n\\tScene 3-4\\n\\tIn scene 3, Bard...  Merry Wives of Windsor   \n",
       "62  \\n\\t \\nAct IV\\n\\tScene 5-6\\n\\tAt the Garter In...  Merry Wives of Windsor   \n",
       "63  \\n\\t \\nAct V\\n\\tScene 1-5\\n\\tFalstaff has agre...  Merry Wives of Windsor   \n",
       "\n",
       "                            chapters  \\\n",
       "50                   Act I Scene 1-2   \n",
       "51                     Act I Scene 3   \n",
       "52                     Act I Scene 4   \n",
       "53                    Act II Scene 1   \n",
       "54                    Act II Scene 2   \n",
       "55  Act II Scene 3 - Act III Scene 1   \n",
       "56                   Act III Scene 2   \n",
       "57                   Act III Scene 3   \n",
       "58                   Act III Scene 4   \n",
       "59                   Act III Scene 5   \n",
       "60                  Act IV Scene 1-2   \n",
       "61                  Act IV Scene 3-4   \n",
       "62                  Act IV Scene 5-6   \n",
       "63                   Act V Scene 1-5   \n",
       "\n",
       "                                         chapter_text  \n",
       "50  \\nSCENE:\\nWindsor, and the neighbourhood\\n\\n\\n...  \n",
       "51                                                     \n",
       "52                                                     \n",
       "53   SCENE 1.\\n\\nBefore PAGE'S house\\n\\nEnter MIST...  \n",
       "54                                                     \n",
       "55                                                     \n",
       "56                                                     \n",
       "57                                                     \n",
       "58                                                     \n",
       "59                                                     \n",
       "60                                                     \n",
       "61                                                     \n",
       "62                                                     \n",
       "63   . SCENE 1.\\n\\nThe Garter Inn\\n\\nEnter FALSTAF...  "
      ]
     },
     "execution_count": 399,
     "metadata": {},
     "output_type": "execute_result"
    }
   ],
   "source": [
    "main_df[main_df['book_title']=='Merry Wives of Windsor']"
   ]
  },
  {
   "cell_type": "markdown",
   "metadata": {},
   "source": [
    "A large portion of the chapter texts from this book were not saved correctly. Chapter texts will be re-added to all rows"
   ]
  },
  {
   "cell_type": "code",
   "execution_count": 400,
   "metadata": {},
   "outputs": [],
   "source": [
    "mw_text = get_text('Merry Wives of Windsor')"
   ]
  },
  {
   "cell_type": "code",
   "execution_count": 401,
   "metadata": {},
   "outputs": [
    {
     "data": {
      "text/plain": [
       "\"\\nSCENE:\\nWindsor, and the neighbourhood\\n\\n\\nThe Merry Wives of Windsor\\n\\n\\n\\nACT I. SCENE 1.\\n\\nWindsor. Before PAGE'S house\\n\\nEnter JUSTICE SHALLOW, SLENDER, and SIR HUGH EVANS\\n\\n  SHALLOW. Sir Hugh, persuade me not; I will make a Star\\n    Chamber matter of it; if he were twenty Sir John Falstaffs,\\n    he sh\""
      ]
     },
     "execution_count": 401,
     "metadata": {},
     "output_type": "execute_result"
    }
   ],
   "source": [
    "mw_act1 = mw_text.partition('ACT II. SCENE 1.')[0]\n",
    "mw_act1[:300]"
   ]
  },
  {
   "cell_type": "code",
   "execution_count": 402,
   "metadata": {},
   "outputs": [
    {
     "data": {
      "text/plain": [
       "\"  FENTON. Well, farewell; I am in great haste now.\\n  QUICKLY. Farewell to your worship.  [Exit FENTON]  Truly,\\n    an honest gentleman; but Anne loves him not; for I know \\n    Anne's mind as well as another does. Out upon 't, what\\n    have I forgot?                                          Exit\\n\\n\\n\\n\\n\""
      ]
     },
     "execution_count": 402,
     "metadata": {},
     "output_type": "execute_result"
    }
   ],
   "source": [
    "mw_act1[-300:]"
   ]
  },
  {
   "cell_type": "code",
   "execution_count": 403,
   "metadata": {},
   "outputs": [
    {
     "data": {
      "text/plain": [
       "\"\\n\\nBefore PAGE'S house\\n\\nEnter MISTRESS PAGE, with a letter\\n\\n  MRS. PAGE. What! have I scap'd love-letters in the holiday-time\\n    of my beauty, and am I now a subject for them? Let\\n    me see.                                              [Reads]\\n    'Ask me no reason why I love you; for though Love u\""
      ]
     },
     "execution_count": 403,
     "metadata": {},
     "output_type": "execute_result"
    }
   ],
   "source": [
    "mw_act2 = (mw_text.partition('ACT II. SCENE 1.')[2]).partition('ACT III SCENE 1.')[0]\n",
    "mw_act2[:300]"
   ]
  },
  {
   "cell_type": "code",
   "execution_count": 404,
   "metadata": {},
   "outputs": [],
   "source": [
    "mw_act3 = (mw_text.partition('ACT III SCENE 1.')[2]).partition('ACT IV. SCENE I.')[0]"
   ]
  },
  {
   "cell_type": "code",
   "execution_count": 405,
   "metadata": {},
   "outputs": [],
   "source": [
    "mw_act4 = (mw_text.partition('ACT IV. SCENE I.')[2]).partition('ACT V. SCENE 1.')[0]"
   ]
  },
  {
   "cell_type": "code",
   "execution_count": 406,
   "metadata": {},
   "outputs": [],
   "source": [
    "mw_act5 = mw_text.partition('ACT V. SCENE 1.')[2]"
   ]
  },
  {
   "cell_type": "code",
   "execution_count": 407,
   "metadata": {},
   "outputs": [],
   "source": [
    "mw_act1_1 = mw_act1.partition('SCENE 2.')[0]\n",
    "mw_act1_2 = (mw_act1.partition('SCENE 2.')[2]).partition('SCENE 3.')[0]\n",
    "mw_act1_3 = (mw_act1.partition('SCENE 3.')[2]).partition('SCENE 4.')[0]\n",
    "mw_act1_4 = mw_act1.partition('SCENE 4.')[2]"
   ]
  },
  {
   "cell_type": "code",
   "execution_count": 408,
   "metadata": {},
   "outputs": [],
   "source": [
    "mw_act2_1 = mw_act2.partition('SCENE 2.')[0]\n",
    "mw_act2_2 = (mw_act2.partition('SCENE 2.')[2]).partition('SCENE 3.')[0]\n",
    "mw_act2_3 = mw_act2.partition('SCENE 3.')[2]"
   ]
  },
  {
   "cell_type": "code",
   "execution_count": 409,
   "metadata": {},
   "outputs": [],
   "source": [
    "mw_act3_1 = mw_act3.partition('SCENE 2.')[0]\n",
    "mw_act3_2 = (mw_act3.partition('SCENE 2.')[2]).partition('SCENE 3.')[0]\n",
    "mw_act3_3 = (mw_act3.partition('SCENE 3.')[2]).partition('SCENE 4.')[0]\n",
    "mw_act3_4 = (mw_act3.partition('SCENE 4.')[2]).partition('SCENE 5.')[0]\n",
    "mw_act3_5 = mw_act3.partition('SCENE 5.')[2]"
   ]
  },
  {
   "cell_type": "code",
   "execution_count": 410,
   "metadata": {},
   "outputs": [],
   "source": [
    "mw_act4_1 = mw_act4.partition('SCENE 2.')[0]\n",
    "mw_act4_2 = (mw_act4.partition('SCENE 2.')[2]).partition('SCENE 3.')[0]\n",
    "mw_act4_3 = (mw_act4.partition('SCENE 3.')[2]).partition('SCENE 4')[0]\n",
    "mw_act4_4 = (mw_act4.partition('SCENE 4')[2]).partition('SCENE 5.')[0]\n",
    "mw_act4_5 = (mw_act4.partition('SCENE 5.')[2]).partition('SCENE 6.')[0]\n",
    "mw_act4_6 = mw_act4.partition('SCENE 6.')[2]"
   ]
  },
  {
   "cell_type": "code",
   "execution_count": 411,
   "metadata": {},
   "outputs": [
    {
     "data": {
      "text/html": [
       "<div>\n",
       "<style scoped>\n",
       "    .dataframe tbody tr th:only-of-type {\n",
       "        vertical-align: middle;\n",
       "    }\n",
       "\n",
       "    .dataframe tbody tr th {\n",
       "        vertical-align: top;\n",
       "    }\n",
       "\n",
       "    .dataframe thead th {\n",
       "        text-align: right;\n",
       "    }\n",
       "</style>\n",
       "<table border=\"1\" class=\"dataframe\">\n",
       "  <thead>\n",
       "    <tr style=\"text-align: right;\">\n",
       "      <th></th>\n",
       "      <th>chapter_title</th>\n",
       "      <th>chapter_summary</th>\n",
       "      <th>book_title</th>\n",
       "      <th>chapters</th>\n",
       "      <th>chapter_text</th>\n",
       "    </tr>\n",
       "  </thead>\n",
       "  <tbody>\n",
       "    <tr>\n",
       "      <th>50</th>\n",
       "      <td>Merry Wives of Windsor: Novel Summary: Act I S...</td>\n",
       "      <td>\\n\\t \\nAct I Scene 1-2\\n\\tThe Merry Wives of W...</td>\n",
       "      <td>Merry Wives of Windsor</td>\n",
       "      <td>Act I Scene 1-2</td>\n",
       "      <td>\\nSCENE:\\nWindsor, and the neighbourhood\\n\\n\\n...</td>\n",
       "    </tr>\n",
       "    <tr>\n",
       "      <th>51</th>\n",
       "      <td>Merry Wives of Windsor: Novel Summary: Act I S...</td>\n",
       "      <td>\\n\\t \\nAct I Scene 3\\n\\tFalstaff tells the Hos...</td>\n",
       "      <td>Merry Wives of Windsor</td>\n",
       "      <td>Act I Scene 3</td>\n",
       "      <td></td>\n",
       "    </tr>\n",
       "    <tr>\n",
       "      <th>52</th>\n",
       "      <td>Merry Wives of Windsor: Novel Summary: Act I S...</td>\n",
       "      <td>\\n\\t \\nAct I Scene 4\\n\\tAt Dr. Caius's house, ...</td>\n",
       "      <td>Merry Wives of Windsor</td>\n",
       "      <td>Act I Scene 4</td>\n",
       "      <td></td>\n",
       "    </tr>\n",
       "    <tr>\n",
       "      <th>53</th>\n",
       "      <td>Merry Wives of Windsor: Novel Summary: Act II ...</td>\n",
       "      <td>\\n\\t \\nAct II Scene 1\\n\\tMrs. Page reads the l...</td>\n",
       "      <td>Merry Wives of Windsor</td>\n",
       "      <td>Act II Scene 1</td>\n",
       "      <td>SCENE 1.\\n\\nBefore PAGE'S house\\n\\nEnter MIST...</td>\n",
       "    </tr>\n",
       "    <tr>\n",
       "      <th>54</th>\n",
       "      <td>Merry Wives of Windsor: Novel Summary: Act II ...</td>\n",
       "      <td>\\n\\t \\nAct II Scene 2\\n\\tPistol asks Falstaff ...</td>\n",
       "      <td>Merry Wives of Windsor</td>\n",
       "      <td>Act II Scene 2</td>\n",
       "      <td></td>\n",
       "    </tr>\n",
       "    <tr>\n",
       "      <th>55</th>\n",
       "      <td>Merry Wives of Windsor: Novel Summary: Act II ...</td>\n",
       "      <td>\\n\\t \\nAct II Scene 3\\n\\t- Act III Scene 1\\n\\t...</td>\n",
       "      <td>Merry Wives of Windsor</td>\n",
       "      <td>Act II Scene 3 - Act III Scene 1</td>\n",
       "      <td></td>\n",
       "    </tr>\n",
       "    <tr>\n",
       "      <th>56</th>\n",
       "      <td>Merry Wives of Windsor: Novel Summary: Act III...</td>\n",
       "      <td>\\n\\t \\nAct III Scene 2\\n\\tFord encounters Mrs....</td>\n",
       "      <td>Merry Wives of Windsor</td>\n",
       "      <td>Act III Scene 2</td>\n",
       "      <td></td>\n",
       "    </tr>\n",
       "    <tr>\n",
       "      <th>57</th>\n",
       "      <td>Merry Wives of Windsor: Novel Summary: Act III...</td>\n",
       "      <td>\\n\\t \\nAct III Scene 3\\n\\tAt Ford's house, Mrs...</td>\n",
       "      <td>Merry Wives of Windsor</td>\n",
       "      <td>Act III Scene 3</td>\n",
       "      <td></td>\n",
       "    </tr>\n",
       "    <tr>\n",
       "      <th>58</th>\n",
       "      <td>Merry Wives of Windsor: Novel Summary: Act III...</td>\n",
       "      <td>\\n\\t \\nAct III Scene 4\\n\\tFenton tells Anne Pa...</td>\n",
       "      <td>Merry Wives of Windsor</td>\n",
       "      <td>Act III Scene 4</td>\n",
       "      <td></td>\n",
       "    </tr>\n",
       "    <tr>\n",
       "      <th>59</th>\n",
       "      <td>Merry Wives of Windsor: Novel Summary: Act III...</td>\n",
       "      <td>\\n\\t \\nAct III Scene 5\\n\\tFalstaff tells Bardo...</td>\n",
       "      <td>Merry Wives of Windsor</td>\n",
       "      <td>Act III Scene 5</td>\n",
       "      <td></td>\n",
       "    </tr>\n",
       "    <tr>\n",
       "      <th>60</th>\n",
       "      <td>Merry Wives of Windsor: Novel Summary: Act IV ...</td>\n",
       "      <td>\\n\\t \\nAct IV\\n\\tScene 1-2\\n\\tScene 1 is a sho...</td>\n",
       "      <td>Merry Wives of Windsor</td>\n",
       "      <td>Act IV Scene 1-2</td>\n",
       "      <td></td>\n",
       "    </tr>\n",
       "    <tr>\n",
       "      <th>61</th>\n",
       "      <td>Merry Wives of Windsor: Novel Summary: Act IV ...</td>\n",
       "      <td>\\n\\t \\nAct IV\\n\\tScene 3-4\\n\\tIn scene 3, Bard...</td>\n",
       "      <td>Merry Wives of Windsor</td>\n",
       "      <td>Act IV Scene 3-4</td>\n",
       "      <td></td>\n",
       "    </tr>\n",
       "    <tr>\n",
       "      <th>62</th>\n",
       "      <td>Merry Wives of Windsor: Novel Summary: Act IV ...</td>\n",
       "      <td>\\n\\t \\nAct IV\\n\\tScene 5-6\\n\\tAt the Garter In...</td>\n",
       "      <td>Merry Wives of Windsor</td>\n",
       "      <td>Act IV Scene 5-6</td>\n",
       "      <td></td>\n",
       "    </tr>\n",
       "    <tr>\n",
       "      <th>63</th>\n",
       "      <td>Merry Wives of Windsor: Novel Summary: Act V S...</td>\n",
       "      <td>\\n\\t \\nAct V\\n\\tScene 1-5\\n\\tFalstaff has agre...</td>\n",
       "      <td>Merry Wives of Windsor</td>\n",
       "      <td>Act V Scene 1-5</td>\n",
       "      <td>. SCENE 1.\\n\\nThe Garter Inn\\n\\nEnter FALSTAF...</td>\n",
       "    </tr>\n",
       "  </tbody>\n",
       "</table>\n",
       "</div>"
      ],
      "text/plain": [
       "                                        chapter_title  \\\n",
       "50  Merry Wives of Windsor: Novel Summary: Act I S...   \n",
       "51  Merry Wives of Windsor: Novel Summary: Act I S...   \n",
       "52  Merry Wives of Windsor: Novel Summary: Act I S...   \n",
       "53  Merry Wives of Windsor: Novel Summary: Act II ...   \n",
       "54  Merry Wives of Windsor: Novel Summary: Act II ...   \n",
       "55  Merry Wives of Windsor: Novel Summary: Act II ...   \n",
       "56  Merry Wives of Windsor: Novel Summary: Act III...   \n",
       "57  Merry Wives of Windsor: Novel Summary: Act III...   \n",
       "58  Merry Wives of Windsor: Novel Summary: Act III...   \n",
       "59  Merry Wives of Windsor: Novel Summary: Act III...   \n",
       "60  Merry Wives of Windsor: Novel Summary: Act IV ...   \n",
       "61  Merry Wives of Windsor: Novel Summary: Act IV ...   \n",
       "62  Merry Wives of Windsor: Novel Summary: Act IV ...   \n",
       "63  Merry Wives of Windsor: Novel Summary: Act V S...   \n",
       "\n",
       "                                      chapter_summary              book_title  \\\n",
       "50  \\n\\t \\nAct I Scene 1-2\\n\\tThe Merry Wives of W...  Merry Wives of Windsor   \n",
       "51  \\n\\t \\nAct I Scene 3\\n\\tFalstaff tells the Hos...  Merry Wives of Windsor   \n",
       "52  \\n\\t \\nAct I Scene 4\\n\\tAt Dr. Caius's house, ...  Merry Wives of Windsor   \n",
       "53  \\n\\t \\nAct II Scene 1\\n\\tMrs. Page reads the l...  Merry Wives of Windsor   \n",
       "54  \\n\\t \\nAct II Scene 2\\n\\tPistol asks Falstaff ...  Merry Wives of Windsor   \n",
       "55  \\n\\t \\nAct II Scene 3\\n\\t- Act III Scene 1\\n\\t...  Merry Wives of Windsor   \n",
       "56  \\n\\t \\nAct III Scene 2\\n\\tFord encounters Mrs....  Merry Wives of Windsor   \n",
       "57  \\n\\t \\nAct III Scene 3\\n\\tAt Ford's house, Mrs...  Merry Wives of Windsor   \n",
       "58  \\n\\t \\nAct III Scene 4\\n\\tFenton tells Anne Pa...  Merry Wives of Windsor   \n",
       "59  \\n\\t \\nAct III Scene 5\\n\\tFalstaff tells Bardo...  Merry Wives of Windsor   \n",
       "60  \\n\\t \\nAct IV\\n\\tScene 1-2\\n\\tScene 1 is a sho...  Merry Wives of Windsor   \n",
       "61  \\n\\t \\nAct IV\\n\\tScene 3-4\\n\\tIn scene 3, Bard...  Merry Wives of Windsor   \n",
       "62  \\n\\t \\nAct IV\\n\\tScene 5-6\\n\\tAt the Garter In...  Merry Wives of Windsor   \n",
       "63  \\n\\t \\nAct V\\n\\tScene 1-5\\n\\tFalstaff has agre...  Merry Wives of Windsor   \n",
       "\n",
       "                            chapters  \\\n",
       "50                   Act I Scene 1-2   \n",
       "51                     Act I Scene 3   \n",
       "52                     Act I Scene 4   \n",
       "53                    Act II Scene 1   \n",
       "54                    Act II Scene 2   \n",
       "55  Act II Scene 3 - Act III Scene 1   \n",
       "56                   Act III Scene 2   \n",
       "57                   Act III Scene 3   \n",
       "58                   Act III Scene 4   \n",
       "59                   Act III Scene 5   \n",
       "60                  Act IV Scene 1-2   \n",
       "61                  Act IV Scene 3-4   \n",
       "62                  Act IV Scene 5-6   \n",
       "63                   Act V Scene 1-5   \n",
       "\n",
       "                                         chapter_text  \n",
       "50  \\nSCENE:\\nWindsor, and the neighbourhood\\n\\n\\n...  \n",
       "51                                                     \n",
       "52                                                     \n",
       "53   SCENE 1.\\n\\nBefore PAGE'S house\\n\\nEnter MIST...  \n",
       "54                                                     \n",
       "55                                                     \n",
       "56                                                     \n",
       "57                                                     \n",
       "58                                                     \n",
       "59                                                     \n",
       "60                                                     \n",
       "61                                                     \n",
       "62                                                     \n",
       "63   . SCENE 1.\\n\\nThe Garter Inn\\n\\nEnter FALSTAF...  "
      ]
     },
     "execution_count": 411,
     "metadata": {},
     "output_type": "execute_result"
    }
   ],
   "source": [
    "main_df[main_df['book_title']=='Merry Wives of Windsor']"
   ]
  },
  {
   "cell_type": "code",
   "execution_count": 412,
   "metadata": {},
   "outputs": [],
   "source": [
    "mw_chapter_text = [\n",
    "    ' '.join([mw_act1_1, mw_act1_2]),\n",
    "    mw_act1_3,\n",
    "    mw_act1_4,\n",
    "    mw_act2_1,\n",
    "    mw_act2_2,\n",
    "    ' '.join([mw_act2_3, mw_act3_1]),\n",
    "    mw_act3_2,\n",
    "    mw_act3_3,\n",
    "    mw_act3_4,\n",
    "    mw_act3_5,\n",
    "    ' '.join([mw_act4_1, mw_act4_2]),\n",
    "    ' '.join([mw_act4_3, mw_act4_4]),\n",
    "    ' '.join([mw_act4_5, mw_act4_6]),\n",
    "    mw_act5\n",
    "]"
   ]
  },
  {
   "cell_type": "code",
   "execution_count": 413,
   "metadata": {},
   "outputs": [],
   "source": [
    "main_df.iloc[50]['chapter_text'] = mw_chapter_text[0]\n",
    "main_df.iloc[51]['chapter_text'] = mw_chapter_text[1]\n",
    "main_df.iloc[52]['chapter_text'] = mw_chapter_text[2]\n",
    "main_df.iloc[53]['chapter_text'] = mw_chapter_text[3]\n",
    "main_df.iloc[54]['chapter_text'] = mw_chapter_text[4]\n",
    "main_df.iloc[55]['chapter_text'] = mw_chapter_text[5]\n",
    "main_df.iloc[56]['chapter_text'] = mw_chapter_text[6]\n",
    "main_df.iloc[57]['chapter_text'] = mw_chapter_text[7]\n",
    "main_df.iloc[58]['chapter_text'] = mw_chapter_text[8]\n",
    "main_df.iloc[59]['chapter_text'] = mw_chapter_text[9]\n",
    "main_df.iloc[60]['chapter_text'] = mw_chapter_text[10]\n",
    "main_df.iloc[61]['chapter_text'] = mw_chapter_text[11]\n",
    "main_df.iloc[62]['chapter_text'] = mw_chapter_text[12]\n",
    "main_df.iloc[63]['chapter_text'] = mw_chapter_text[13]"
   ]
  },
  {
   "cell_type": "code",
   "execution_count": 414,
   "metadata": {},
   "outputs": [
    {
     "data": {
      "text/html": [
       "<div>\n",
       "<style scoped>\n",
       "    .dataframe tbody tr th:only-of-type {\n",
       "        vertical-align: middle;\n",
       "    }\n",
       "\n",
       "    .dataframe tbody tr th {\n",
       "        vertical-align: top;\n",
       "    }\n",
       "\n",
       "    .dataframe thead th {\n",
       "        text-align: right;\n",
       "    }\n",
       "</style>\n",
       "<table border=\"1\" class=\"dataframe\">\n",
       "  <thead>\n",
       "    <tr style=\"text-align: right;\">\n",
       "      <th></th>\n",
       "      <th>chapter_title</th>\n",
       "      <th>chapter_summary</th>\n",
       "      <th>book_title</th>\n",
       "      <th>chapters</th>\n",
       "      <th>chapter_text</th>\n",
       "    </tr>\n",
       "  </thead>\n",
       "  <tbody>\n",
       "    <tr>\n",
       "      <th>50</th>\n",
       "      <td>Merry Wives of Windsor: Novel Summary: Act I S...</td>\n",
       "      <td>\\n\\t \\nAct I Scene 1-2\\n\\tThe Merry Wives of W...</td>\n",
       "      <td>Merry Wives of Windsor</td>\n",
       "      <td>Act I Scene 1-2</td>\n",
       "      <td>\\nSCENE:\\nWindsor, and the neighbourhood\\n\\n\\n...</td>\n",
       "    </tr>\n",
       "    <tr>\n",
       "      <th>51</th>\n",
       "      <td>Merry Wives of Windsor: Novel Summary: Act I S...</td>\n",
       "      <td>\\n\\t \\nAct I Scene 3\\n\\tFalstaff tells the Hos...</td>\n",
       "      <td>Merry Wives of Windsor</td>\n",
       "      <td>Act I Scene 3</td>\n",
       "      <td>\\n\\nThe Garter Inn\\n\\nEnter FALSTAFF, HOST, BA...</td>\n",
       "    </tr>\n",
       "    <tr>\n",
       "      <th>52</th>\n",
       "      <td>Merry Wives of Windsor: Novel Summary: Act I S...</td>\n",
       "      <td>\\n\\t \\nAct I Scene 4\\n\\tAt Dr. Caius's house, ...</td>\n",
       "      <td>Merry Wives of Windsor</td>\n",
       "      <td>Act I Scene 4</td>\n",
       "      <td>\\n\\nDOCTOR CAIUS'S house\\n\\nEnter MISTRESS QUI...</td>\n",
       "    </tr>\n",
       "    <tr>\n",
       "      <th>53</th>\n",
       "      <td>Merry Wives of Windsor: Novel Summary: Act II ...</td>\n",
       "      <td>\\n\\t \\nAct II Scene 1\\n\\tMrs. Page reads the l...</td>\n",
       "      <td>Merry Wives of Windsor</td>\n",
       "      <td>Act II Scene 1</td>\n",
       "      <td>\\n\\nBefore PAGE'S house\\n\\nEnter MISTRESS PAGE...</td>\n",
       "    </tr>\n",
       "    <tr>\n",
       "      <th>54</th>\n",
       "      <td>Merry Wives of Windsor: Novel Summary: Act II ...</td>\n",
       "      <td>\\n\\t \\nAct II Scene 2\\n\\tPistol asks Falstaff ...</td>\n",
       "      <td>Merry Wives of Windsor</td>\n",
       "      <td>Act II Scene 2</td>\n",
       "      <td>\\n\\nA room in the Garter Inn\\n\\nEnter FALSTAFF...</td>\n",
       "    </tr>\n",
       "    <tr>\n",
       "      <th>55</th>\n",
       "      <td>Merry Wives of Windsor: Novel Summary: Act II ...</td>\n",
       "      <td>\\n\\t \\nAct II Scene 3\\n\\t- Act III Scene 1\\n\\t...</td>\n",
       "      <td>Merry Wives of Windsor</td>\n",
       "      <td>Act II Scene 3 - Act III Scene 1</td>\n",
       "      <td>\\n\\nA field near Windsor\\n\\nEnter CAIUS and RU...</td>\n",
       "    </tr>\n",
       "    <tr>\n",
       "      <th>56</th>\n",
       "      <td>Merry Wives of Windsor: Novel Summary: Act III...</td>\n",
       "      <td>\\n\\t \\nAct III Scene 2\\n\\tFord encounters Mrs....</td>\n",
       "      <td>Merry Wives of Windsor</td>\n",
       "      <td>Act III Scene 2</td>\n",
       "      <td>\\n\\nThe street in Windsor\\n\\nEnter MISTRESS PA...</td>\n",
       "    </tr>\n",
       "    <tr>\n",
       "      <th>57</th>\n",
       "      <td>Merry Wives of Windsor: Novel Summary: Act III...</td>\n",
       "      <td>\\n\\t \\nAct III Scene 3\\n\\tAt Ford's house, Mrs...</td>\n",
       "      <td>Merry Wives of Windsor</td>\n",
       "      <td>Act III Scene 3</td>\n",
       "      <td>\\n\\nFORD'S house\\n\\nEnter MISTRESS FORD and MI...</td>\n",
       "    </tr>\n",
       "    <tr>\n",
       "      <th>58</th>\n",
       "      <td>Merry Wives of Windsor: Novel Summary: Act III...</td>\n",
       "      <td>\\n\\t \\nAct III Scene 4\\n\\tFenton tells Anne Pa...</td>\n",
       "      <td>Merry Wives of Windsor</td>\n",
       "      <td>Act III Scene 4</td>\n",
       "      <td>\\n\\nBefore PAGE'S house\\n\\nEnter FENTON and AN...</td>\n",
       "    </tr>\n",
       "    <tr>\n",
       "      <th>59</th>\n",
       "      <td>Merry Wives of Windsor: Novel Summary: Act III...</td>\n",
       "      <td>\\n\\t \\nAct III Scene 5\\n\\tFalstaff tells Bardo...</td>\n",
       "      <td>Merry Wives of Windsor</td>\n",
       "      <td>Act III Scene 5</td>\n",
       "      <td>\\n\\nThe Garter Inn\\n\\nEnter FALSTAFF and BARDO...</td>\n",
       "    </tr>\n",
       "    <tr>\n",
       "      <th>60</th>\n",
       "      <td>Merry Wives of Windsor: Novel Summary: Act IV ...</td>\n",
       "      <td>\\n\\t \\nAct IV\\n\\tScene 1-2\\n\\tScene 1 is a sho...</td>\n",
       "      <td>Merry Wives of Windsor</td>\n",
       "      <td>Act IV Scene 1-2</td>\n",
       "      <td>\\n\\nWindsor. A street\\n\\nEnter MISTRESS PAGE, ...</td>\n",
       "    </tr>\n",
       "    <tr>\n",
       "      <th>61</th>\n",
       "      <td>Merry Wives of Windsor: Novel Summary: Act IV ...</td>\n",
       "      <td>\\n\\t \\nAct IV\\n\\tScene 3-4\\n\\tIn scene 3, Bard...</td>\n",
       "      <td>Merry Wives of Windsor</td>\n",
       "      <td>Act IV Scene 3-4</td>\n",
       "      <td>\\n\\nThe Garter Inn\\n\\nEnter HOST and BARDOLPH\\...</td>\n",
       "    </tr>\n",
       "    <tr>\n",
       "      <th>62</th>\n",
       "      <td>Merry Wives of Windsor: Novel Summary: Act IV ...</td>\n",
       "      <td>\\n\\t \\nAct IV\\n\\tScene 5-6\\n\\tAt the Garter In...</td>\n",
       "      <td>Merry Wives of Windsor</td>\n",
       "      <td>Act IV Scene 5-6</td>\n",
       "      <td>\\n\\nThe Garter Inn\\n\\nEnter HOST and SIMPLE\\n\\...</td>\n",
       "    </tr>\n",
       "    <tr>\n",
       "      <th>63</th>\n",
       "      <td>Merry Wives of Windsor: Novel Summary: Act V S...</td>\n",
       "      <td>\\n\\t \\nAct V\\n\\tScene 1-5\\n\\tFalstaff has agre...</td>\n",
       "      <td>Merry Wives of Windsor</td>\n",
       "      <td>Act V Scene 1-5</td>\n",
       "      <td>\\n\\nThe Garter Inn\\n\\nEnter FALSTAFF and MISTR...</td>\n",
       "    </tr>\n",
       "  </tbody>\n",
       "</table>\n",
       "</div>"
      ],
      "text/plain": [
       "                                        chapter_title  \\\n",
       "50  Merry Wives of Windsor: Novel Summary: Act I S...   \n",
       "51  Merry Wives of Windsor: Novel Summary: Act I S...   \n",
       "52  Merry Wives of Windsor: Novel Summary: Act I S...   \n",
       "53  Merry Wives of Windsor: Novel Summary: Act II ...   \n",
       "54  Merry Wives of Windsor: Novel Summary: Act II ...   \n",
       "55  Merry Wives of Windsor: Novel Summary: Act II ...   \n",
       "56  Merry Wives of Windsor: Novel Summary: Act III...   \n",
       "57  Merry Wives of Windsor: Novel Summary: Act III...   \n",
       "58  Merry Wives of Windsor: Novel Summary: Act III...   \n",
       "59  Merry Wives of Windsor: Novel Summary: Act III...   \n",
       "60  Merry Wives of Windsor: Novel Summary: Act IV ...   \n",
       "61  Merry Wives of Windsor: Novel Summary: Act IV ...   \n",
       "62  Merry Wives of Windsor: Novel Summary: Act IV ...   \n",
       "63  Merry Wives of Windsor: Novel Summary: Act V S...   \n",
       "\n",
       "                                      chapter_summary              book_title  \\\n",
       "50  \\n\\t \\nAct I Scene 1-2\\n\\tThe Merry Wives of W...  Merry Wives of Windsor   \n",
       "51  \\n\\t \\nAct I Scene 3\\n\\tFalstaff tells the Hos...  Merry Wives of Windsor   \n",
       "52  \\n\\t \\nAct I Scene 4\\n\\tAt Dr. Caius's house, ...  Merry Wives of Windsor   \n",
       "53  \\n\\t \\nAct II Scene 1\\n\\tMrs. Page reads the l...  Merry Wives of Windsor   \n",
       "54  \\n\\t \\nAct II Scene 2\\n\\tPistol asks Falstaff ...  Merry Wives of Windsor   \n",
       "55  \\n\\t \\nAct II Scene 3\\n\\t- Act III Scene 1\\n\\t...  Merry Wives of Windsor   \n",
       "56  \\n\\t \\nAct III Scene 2\\n\\tFord encounters Mrs....  Merry Wives of Windsor   \n",
       "57  \\n\\t \\nAct III Scene 3\\n\\tAt Ford's house, Mrs...  Merry Wives of Windsor   \n",
       "58  \\n\\t \\nAct III Scene 4\\n\\tFenton tells Anne Pa...  Merry Wives of Windsor   \n",
       "59  \\n\\t \\nAct III Scene 5\\n\\tFalstaff tells Bardo...  Merry Wives of Windsor   \n",
       "60  \\n\\t \\nAct IV\\n\\tScene 1-2\\n\\tScene 1 is a sho...  Merry Wives of Windsor   \n",
       "61  \\n\\t \\nAct IV\\n\\tScene 3-4\\n\\tIn scene 3, Bard...  Merry Wives of Windsor   \n",
       "62  \\n\\t \\nAct IV\\n\\tScene 5-6\\n\\tAt the Garter In...  Merry Wives of Windsor   \n",
       "63  \\n\\t \\nAct V\\n\\tScene 1-5\\n\\tFalstaff has agre...  Merry Wives of Windsor   \n",
       "\n",
       "                            chapters  \\\n",
       "50                   Act I Scene 1-2   \n",
       "51                     Act I Scene 3   \n",
       "52                     Act I Scene 4   \n",
       "53                    Act II Scene 1   \n",
       "54                    Act II Scene 2   \n",
       "55  Act II Scene 3 - Act III Scene 1   \n",
       "56                   Act III Scene 2   \n",
       "57                   Act III Scene 3   \n",
       "58                   Act III Scene 4   \n",
       "59                   Act III Scene 5   \n",
       "60                  Act IV Scene 1-2   \n",
       "61                  Act IV Scene 3-4   \n",
       "62                  Act IV Scene 5-6   \n",
       "63                   Act V Scene 1-5   \n",
       "\n",
       "                                         chapter_text  \n",
       "50  \\nSCENE:\\nWindsor, and the neighbourhood\\n\\n\\n...  \n",
       "51  \\n\\nThe Garter Inn\\n\\nEnter FALSTAFF, HOST, BA...  \n",
       "52  \\n\\nDOCTOR CAIUS'S house\\n\\nEnter MISTRESS QUI...  \n",
       "53  \\n\\nBefore PAGE'S house\\n\\nEnter MISTRESS PAGE...  \n",
       "54  \\n\\nA room in the Garter Inn\\n\\nEnter FALSTAFF...  \n",
       "55  \\n\\nA field near Windsor\\n\\nEnter CAIUS and RU...  \n",
       "56  \\n\\nThe street in Windsor\\n\\nEnter MISTRESS PA...  \n",
       "57  \\n\\nFORD'S house\\n\\nEnter MISTRESS FORD and MI...  \n",
       "58  \\n\\nBefore PAGE'S house\\n\\nEnter FENTON and AN...  \n",
       "59  \\n\\nThe Garter Inn\\n\\nEnter FALSTAFF and BARDO...  \n",
       "60  \\n\\nWindsor. A street\\n\\nEnter MISTRESS PAGE, ...  \n",
       "61  \\n\\nThe Garter Inn\\n\\nEnter HOST and BARDOLPH\\...  \n",
       "62  \\n\\nThe Garter Inn\\n\\nEnter HOST and SIMPLE\\n\\...  \n",
       "63  \\n\\nThe Garter Inn\\n\\nEnter FALSTAFF and MISTR...  "
      ]
     },
     "execution_count": 414,
     "metadata": {},
     "output_type": "execute_result"
    }
   ],
   "source": [
    "main_df[main_df['book_title']=='Merry Wives of Windsor']"
   ]
  },
  {
   "cell_type": "markdown",
   "metadata": {},
   "source": [
    "##### Check progress on filling in of missing texts"
   ]
  },
  {
   "cell_type": "code",
   "execution_count": 416,
   "metadata": {},
   "outputs": [
    {
     "data": {
      "text/html": [
       "<div>\n",
       "<style scoped>\n",
       "    .dataframe tbody tr th:only-of-type {\n",
       "        vertical-align: middle;\n",
       "    }\n",
       "\n",
       "    .dataframe tbody tr th {\n",
       "        vertical-align: top;\n",
       "    }\n",
       "\n",
       "    .dataframe thead th {\n",
       "        text-align: right;\n",
       "    }\n",
       "</style>\n",
       "<table border=\"1\" class=\"dataframe\">\n",
       "  <thead>\n",
       "    <tr style=\"text-align: right;\">\n",
       "      <th></th>\n",
       "      <th>chapter_title</th>\n",
       "      <th>chapter_summary</th>\n",
       "      <th>book_title</th>\n",
       "      <th>chapters</th>\n",
       "      <th>chapter_text</th>\n",
       "    </tr>\n",
       "  </thead>\n",
       "  <tbody>\n",
       "    <tr>\n",
       "      <th>115</th>\n",
       "      <td>Wuthering Heights: Novel Summary: Chapters 7-8</td>\n",
       "      <td>Chapter 7: Mrs. Dean cleans Heathcliff up and ...</td>\n",
       "      <td>Wuthering Heights</td>\n",
       "      <td>Chapters 7-8</td>\n",
       "      <td></td>\n",
       "    </tr>\n",
       "    <tr>\n",
       "      <th>217</th>\n",
       "      <td>Oliver Twist: Novel Summary: Chapters52-53</td>\n",
       "      <td>\\nChapter 52: Fagin was condemned to hang in ...</td>\n",
       "      <td>Oliver Twist</td>\n",
       "      <td>Chapters52-53</td>\n",
       "      <td></td>\n",
       "    </tr>\n",
       "  </tbody>\n",
       "</table>\n",
       "</div>"
      ],
      "text/plain": [
       "                                      chapter_title  \\\n",
       "115  Wuthering Heights: Novel Summary: Chapters 7-8   \n",
       "217      Oliver Twist: Novel Summary: Chapters52-53   \n",
       "\n",
       "                                       chapter_summary         book_title  \\\n",
       "115  Chapter 7: Mrs. Dean cleans Heathcliff up and ...  Wuthering Heights   \n",
       "217   \\nChapter 52: Fagin was condemned to hang in ...       Oliver Twist   \n",
       "\n",
       "          chapters chapter_text  \n",
       "115   Chapters 7-8               \n",
       "217  Chapters52-53               "
      ]
     },
     "execution_count": 416,
     "metadata": {},
     "output_type": "execute_result"
    }
   ],
   "source": [
    "main_df[main_df['chapter_text']=='']"
   ]
  },
  {
   "cell_type": "markdown",
   "metadata": {},
   "source": [
    "##### Wuthering Heights Ch 7-8"
   ]
  },
  {
   "cell_type": "code",
   "execution_count": 417,
   "metadata": {},
   "outputs": [
    {
     "data": {
      "text/plain": [
       "chapter_title         Wuthering Heights: Novel Summary: Chapters 7-8\n",
       "chapter_summary    Chapter 7: Mrs. Dean cleans Heathcliff up and ...\n",
       "book_title                                         Wuthering Heights\n",
       "chapters                                                Chapters 7-8\n",
       "chapter_text                                                        \n",
       "Name: 115, dtype: object"
      ]
     },
     "execution_count": 417,
     "metadata": {},
     "output_type": "execute_result"
    }
   ],
   "source": [
    "main_df.iloc[115]"
   ]
  },
  {
   "cell_type": "code",
   "execution_count": 418,
   "metadata": {},
   "outputs": [],
   "source": [
    "wh_text = get_text('Wuthering Heights')"
   ]
  },
  {
   "cell_type": "code",
   "execution_count": 419,
   "metadata": {},
   "outputs": [
    {
     "data": {
      "text/plain": [
       "'\\n\\n\\n\\nCATHY stayed at Thrushcross Grange five weeks:  till Christmas.  By\\nthat time her ankle was thoroughly cured, and her manners much\\nimproved.  The mistress visited her often in the interval, and\\ncommenced her plan of reform by trying to raise her self-respect\\nwith fine clothes and flattery, which'"
      ]
     },
     "execution_count": 419,
     "metadata": {},
     "output_type": "execute_result"
    }
   ],
   "source": [
    "wh_7_8 = (wh_text.partition('CHAPTER VII')[2]).partition('CHAPTER IX')[0]\n",
    "wh_7_8[:300]"
   ]
  },
  {
   "cell_type": "code",
   "execution_count": 420,
   "metadata": {},
   "outputs": [
    {
     "data": {
      "text/plain": [
       "\" of the master's fowling-piece,\\nwhich he was fond of playing with in his insane excitement, to the\\nhazard of the lives of any who provoked, or even attracted his\\nnotice too much; and I had hit upon the plan of removing it, that\\nhe might do less mischief if he did go the length of firing the\\ngun.\\n\\n\\n\\n\""
      ]
     },
     "execution_count": 420,
     "metadata": {},
     "output_type": "execute_result"
    }
   ],
   "source": [
    "wh_7_8[-300:]"
   ]
  },
  {
   "cell_type": "code",
   "execution_count": 421,
   "metadata": {},
   "outputs": [],
   "source": [
    "main_df.iloc[115]['chapter_text'] = wh_7_8"
   ]
  },
  {
   "cell_type": "code",
   "execution_count": 422,
   "metadata": {},
   "outputs": [
    {
     "data": {
      "text/plain": [
       "chapter_title         Wuthering Heights: Novel Summary: Chapters 7-8\n",
       "chapter_summary    Chapter 7: Mrs. Dean cleans Heathcliff up and ...\n",
       "book_title                                         Wuthering Heights\n",
       "chapters                                                Chapters 7-8\n",
       "chapter_text       \\n\\n\\n\\nCATHY stayed at Thrushcross Grange fiv...\n",
       "Name: 115, dtype: object"
      ]
     },
     "execution_count": 422,
     "metadata": {},
     "output_type": "execute_result"
    }
   ],
   "source": [
    "main_df.iloc[115]"
   ]
  },
  {
   "cell_type": "markdown",
   "metadata": {},
   "source": [
    "##### Oliver Twist Ch 52-53"
   ]
  },
  {
   "cell_type": "code",
   "execution_count": 423,
   "metadata": {},
   "outputs": [
    {
     "data": {
      "text/plain": [
       "chapter_title             Oliver Twist: Novel Summary: Chapters52-53\n",
       "chapter_summary     \\nChapter 52: Fagin was condemned to hang in ...\n",
       "book_title                                              Oliver Twist\n",
       "chapters                                               Chapters52-53\n",
       "chapter_text                                                        \n",
       "Name: 217, dtype: object"
      ]
     },
     "execution_count": 423,
     "metadata": {},
     "output_type": "execute_result"
    }
   ],
   "source": [
    "main_df.iloc[217]"
   ]
  },
  {
   "cell_type": "code",
   "execution_count": 424,
   "metadata": {},
   "outputs": [],
   "source": [
    "ot_text = get_text('Oliver Twist')"
   ]
  },
  {
   "cell_type": "code",
   "execution_count": 425,
   "metadata": {},
   "outputs": [
    {
     "data": {
      "text/plain": [
       "\"\\n\\nFAGIN'S LAST NIGHT ALIVE\\n\\nThe court was paved, from floor to roof, with human faces.\\nInquisitive and eager eyes peered from every inch of space. From\\nthe rail before the dock, away into the sharpest angle of the\\nsmallest corner in the galleries, all looks were fixed upon one\\nman--Fagin.  Before hi\""
      ]
     },
     "execution_count": 425,
     "metadata": {},
     "output_type": "execute_result"
    }
   ],
   "source": [
    "ot_52_53 = ot_text.partition('CHAPTER LII')[2]\n",
    "ot_52_53[:300]"
   ]
  },
  {
   "cell_type": "code",
   "execution_count": 426,
   "metadata": {},
   "outputs": [
    {
     "data": {
      "text/plain": [
       "'ad\\never come back to earth, to visit spots hallowed by the love--the\\nlove beyond the grave--of those whom they knew in life, I believe\\nthat the shade of Agnes sometimes hovers round that solemn nook.\\nI believe it none the less because that nook is in a Church, and\\nshe was weak and erring.\\n\\n\\n\\n\\n\\n\\n\\n\\n\\n\\n'"
      ]
     },
     "execution_count": 426,
     "metadata": {},
     "output_type": "execute_result"
    }
   ],
   "source": [
    "ot_52_53[-300:]"
   ]
  },
  {
   "cell_type": "code",
   "execution_count": 427,
   "metadata": {},
   "outputs": [],
   "source": [
    "main_df.iloc[217]['chapter_text'] = ot_52_53"
   ]
  },
  {
   "cell_type": "code",
   "execution_count": 428,
   "metadata": {},
   "outputs": [
    {
     "data": {
      "text/plain": [
       "chapter_title             Oliver Twist: Novel Summary: Chapters52-53\n",
       "chapter_summary     \\nChapter 52: Fagin was condemned to hang in ...\n",
       "book_title                                              Oliver Twist\n",
       "chapters                                               Chapters52-53\n",
       "chapter_text       \\n\\nFAGIN'S LAST NIGHT ALIVE\\n\\nThe court was ...\n",
       "Name: 217, dtype: object"
      ]
     },
     "execution_count": 428,
     "metadata": {},
     "output_type": "execute_result"
    }
   ],
   "source": [
    "main_df.iloc[217]"
   ]
  },
  {
   "cell_type": "markdown",
   "metadata": {},
   "source": [
    "#### Check that missing chapter texts have been filled in"
   ]
  },
  {
   "cell_type": "code",
   "execution_count": 429,
   "metadata": {},
   "outputs": [
    {
     "data": {
      "text/html": [
       "<div>\n",
       "<style scoped>\n",
       "    .dataframe tbody tr th:only-of-type {\n",
       "        vertical-align: middle;\n",
       "    }\n",
       "\n",
       "    .dataframe tbody tr th {\n",
       "        vertical-align: top;\n",
       "    }\n",
       "\n",
       "    .dataframe thead th {\n",
       "        text-align: right;\n",
       "    }\n",
       "</style>\n",
       "<table border=\"1\" class=\"dataframe\">\n",
       "  <thead>\n",
       "    <tr style=\"text-align: right;\">\n",
       "      <th></th>\n",
       "      <th>chapter_title</th>\n",
       "      <th>chapter_summary</th>\n",
       "      <th>book_title</th>\n",
       "      <th>chapters</th>\n",
       "      <th>chapter_text</th>\n",
       "    </tr>\n",
       "  </thead>\n",
       "  <tbody>\n",
       "  </tbody>\n",
       "</table>\n",
       "</div>"
      ],
      "text/plain": [
       "Empty DataFrame\n",
       "Columns: [chapter_title, chapter_summary, book_title, chapters, chapter_text]\n",
       "Index: []"
      ]
     },
     "execution_count": 429,
     "metadata": {},
     "output_type": "execute_result"
    }
   ],
   "source": [
    "main_df[main_df['chapter_text']=='']"
   ]
  },
  {
   "cell_type": "code",
   "execution_count": null,
   "metadata": {},
   "outputs": [],
   "source": []
  },
  {
   "cell_type": "markdown",
   "metadata": {},
   "source": [
    "# Export main dataframe to csv"
   ]
  },
  {
   "cell_type": "code",
   "execution_count": 430,
   "metadata": {},
   "outputs": [],
   "source": [
    "main_df.to_csv('./data/working_data/chapter_summaries_texts.csv', index=False)"
   ]
  }
 ],
 "metadata": {
  "interpreter": {
   "hash": "c90bd41498bd2909e03bc4813e3fc894d3d64fd4c32b3cf57272642761dbfb5b"
  },
  "kernelspec": {
   "display_name": "Python 3.9.7 ('base')",
   "language": "python",
   "name": "python3"
  },
  "language_info": {
   "codemirror_mode": {
    "name": "ipython",
    "version": 3
   },
   "file_extension": ".py",
   "mimetype": "text/x-python",
   "name": "python",
   "nbconvert_exporter": "python",
   "pygments_lexer": "ipython3",
   "version": "3.9.7"
  },
  "orig_nbformat": 4
 },
 "nbformat": 4,
 "nbformat_minor": 2
}
