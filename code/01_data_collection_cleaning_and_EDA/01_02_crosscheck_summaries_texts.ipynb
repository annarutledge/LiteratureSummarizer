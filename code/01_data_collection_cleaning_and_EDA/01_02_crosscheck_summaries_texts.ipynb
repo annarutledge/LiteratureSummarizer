{
 "cells": [
  {
   "cell_type": "markdown",
   "metadata": {},
   "source": [
    "# Imports"
   ]
  },
  {
   "cell_type": "code",
   "execution_count": 31,
   "metadata": {},
   "outputs": [],
   "source": [
    "import pandas as pd\n",
    "import json"
   ]
  },
  {
   "cell_type": "markdown",
   "metadata": {},
   "source": [
    "# List of book titles with summaries accessible"
   ]
  },
  {
   "cell_type": "code",
   "execution_count": 5,
   "metadata": {},
   "outputs": [],
   "source": [
    "#Read in dictionary of scraped links to book chapter summaries\n",
    "\n",
    "df_summaries = pd.read_json('./data/working_data/book_summaries/book_summary_links.json')"
   ]
  },
  {
   "cell_type": "code",
   "execution_count": 6,
   "metadata": {},
   "outputs": [
    {
     "data": {
      "text/html": [
       "<div>\n",
       "<style scoped>\n",
       "    .dataframe tbody tr th:only-of-type {\n",
       "        vertical-align: middle;\n",
       "    }\n",
       "\n",
       "    .dataframe tbody tr th {\n",
       "        vertical-align: top;\n",
       "    }\n",
       "\n",
       "    .dataframe thead th {\n",
       "        text-align: right;\n",
       "    }\n",
       "</style>\n",
       "<table border=\"1\" class=\"dataframe\">\n",
       "  <thead>\n",
       "    <tr style=\"text-align: right;\">\n",
       "      <th></th>\n",
       "      <th>title</th>\n",
       "      <th>summaries</th>\n",
       "    </tr>\n",
       "  </thead>\n",
       "  <tbody>\n",
       "    <tr>\n",
       "      <th>0</th>\n",
       "      <td>By Night in Chile</td>\n",
       "      <td>[https://novelguide.com/by-night-in-chile/nove...</td>\n",
       "    </tr>\n",
       "    <tr>\n",
       "      <th>1</th>\n",
       "      <td>Julius Caesar</td>\n",
       "      <td>[https://novelguide.com/julius-caesar/summarie...</td>\n",
       "    </tr>\n",
       "  </tbody>\n",
       "</table>\n",
       "</div>"
      ],
      "text/plain": [
       "               title                                          summaries\n",
       "0  By Night in Chile  [https://novelguide.com/by-night-in-chile/nove...\n",
       "1      Julius Caesar  [https://novelguide.com/julius-caesar/summarie..."
      ]
     },
     "execution_count": 6,
     "metadata": {},
     "output_type": "execute_result"
    }
   ],
   "source": [
    "df_summaries.head(2)"
   ]
  },
  {
   "cell_type": "code",
   "execution_count": 7,
   "metadata": {},
   "outputs": [],
   "source": [
    "#Create list of book titles for which chapter summary links have been scraped\n",
    "\n",
    "summary_titles = []\n",
    "\n",
    "for i in df_summaries.index:\n",
    "    summary_titles.append(df_summaries.iloc[i]['title'])"
   ]
  },
  {
   "cell_type": "code",
   "execution_count": 8,
   "metadata": {},
   "outputs": [
    {
     "data": {
      "text/plain": [
       "['By Night in Chile',\n",
       " 'Julius Caesar',\n",
       " 'Antigone',\n",
       " \"Aristotle's Politics\",\n",
       " 'Odysseus',\n",
       " 'David Copperfield',\n",
       " 'Crito',\n",
       " 'Madame Bovary',\n",
       " 'Henry IV Part 2',\n",
       " 'Kidnapped']"
      ]
     },
     "execution_count": 8,
     "metadata": {},
     "output_type": "execute_result"
    }
   ],
   "source": [
    "summary_titles[:10]"
   ]
  },
  {
   "cell_type": "markdown",
   "metadata": {},
   "source": [
    "# List of titles with full texts"
   ]
  },
  {
   "cell_type": "code",
   "execution_count": 9,
   "metadata": {},
   "outputs": [],
   "source": [
    "#Read in dictionary of scraped link to book full texts\n",
    "\n",
    "df_texts = pd.read_json('./data/working_data/book_texts/book_text_links_unfiltered.json')"
   ]
  },
  {
   "cell_type": "code",
   "execution_count": 10,
   "metadata": {},
   "outputs": [
    {
     "data": {
      "text/html": [
       "<div>\n",
       "<style scoped>\n",
       "    .dataframe tbody tr th:only-of-type {\n",
       "        vertical-align: middle;\n",
       "    }\n",
       "\n",
       "    .dataframe tbody tr th {\n",
       "        vertical-align: top;\n",
       "    }\n",
       "\n",
       "    .dataframe thead th {\n",
       "        text-align: right;\n",
       "    }\n",
       "</style>\n",
       "<table border=\"1\" class=\"dataframe\">\n",
       "  <thead>\n",
       "    <tr style=\"text-align: right;\">\n",
       "      <th></th>\n",
       "      <th>title</th>\n",
       "      <th>link</th>\n",
       "    </tr>\n",
       "  </thead>\n",
       "  <tbody>\n",
       "    <tr>\n",
       "      <th>0</th>\n",
       "      <td>An \"Attic\" Philosopher, entire by Emile Souvestre</td>\n",
       "      <td>http://www.fullbooks.com/An-Attic-Philosopher-...</td>\n",
       "    </tr>\n",
       "    <tr>\n",
       "      <th>1</th>\n",
       "      <td>An \"Attic\" Philosopher, v1 by Emile Souvestre</td>\n",
       "      <td>http://www.fullbooks.com/An-Attic-Philosopher-...</td>\n",
       "    </tr>\n",
       "  </tbody>\n",
       "</table>\n",
       "</div>"
      ],
      "text/plain": [
       "                                               title  \\\n",
       "0  An \"Attic\" Philosopher, entire by Emile Souvestre   \n",
       "1      An \"Attic\" Philosopher, v1 by Emile Souvestre   \n",
       "\n",
       "                                                link  \n",
       "0  http://www.fullbooks.com/An-Attic-Philosopher-...  \n",
       "1  http://www.fullbooks.com/An-Attic-Philosopher-...  "
      ]
     },
     "execution_count": 10,
     "metadata": {},
     "output_type": "execute_result"
    }
   ],
   "source": [
    "df_texts.head(2)"
   ]
  },
  {
   "cell_type": "code",
   "execution_count": 11,
   "metadata": {},
   "outputs": [],
   "source": [
    "#Create list of book titles for which full text links have been scraped\n",
    "\n",
    "text_titles = []\n",
    "\n",
    "for i in df_texts.index:\n",
    "    text_titles.append(df_texts.iloc[i]['title'])"
   ]
  },
  {
   "cell_type": "code",
   "execution_count": 12,
   "metadata": {},
   "outputs": [
    {
     "data": {
      "text/plain": [
       "['An \"Attic\" Philosopher, entire by Emile Souvestre',\n",
       " 'An \"Attic\" Philosopher, v1 by Emile Souvestre',\n",
       " 'An \"Attic\" Philosopher, v2 by Emile Souvestre',\n",
       " 'An \"Attic\" Philosopher, v3 by Emile Souvestre',\n",
       " '\"Co. Aytch\" by Sam R. Watkins',\n",
       " 'The \"Goldfish\" by Arthur Train',\n",
       " '\"In Darkest England and The Way Out\" by General William Booth',\n",
       " '\"Speaking of Operations--\" by Irvin S. Cobb',\n",
       " \"'Lena Rivers by Mary J. Holmes\",\n",
       " \"'Tis Sixty Years Since by Charles Francis Adams\"]"
      ]
     },
     "execution_count": 12,
     "metadata": {},
     "output_type": "execute_result"
    }
   ],
   "source": [
    "text_titles[:10]"
   ]
  },
  {
   "cell_type": "markdown",
   "metadata": {},
   "source": [
    "# Cross check lists"
   ]
  },
  {
   "cell_type": "code",
   "execution_count": 23,
   "metadata": {},
   "outputs": [],
   "source": [
    "#Loop through lists of titles to find titles included in both summary titles and text titles\n",
    "#Titles do not match up exactly (full text titles are usually longer form with the author included), so matches are approximated\n",
    "# by searching for each title in the summary titles as a substring in each of the full text titles\n",
    "\n",
    "#Add all matches found to a dictionary with the form {'summary title' : 'corresponding full text title'} \n",
    "\n",
    "usable_books = {}\n",
    "\n",
    "for st in summary_titles:\n",
    "    for tt in text_titles:\n",
    "        if st in tt:\n",
    "            usable_books[st] = tt"
   ]
  },
  {
   "cell_type": "code",
   "execution_count": 25,
   "metadata": {},
   "outputs": [
    {
     "data": {
      "text/plain": [
       "{'Julius Caesar': 'The Tragedie of Julius Caesar by William Shakespeare',\n",
       " 'David Copperfield': 'David Copperfield by Charles Dickens',\n",
       " 'Crito': 'Crito by Plato',\n",
       " 'Madame Bovary': 'Madame Bovary by Gustave Flaubert',\n",
       " 'Kidnapped': 'A Kidnapped Santa Claus by L. Frank Baum',\n",
       " 'Night': 'Twelfth Night; or, What You Will by William Shakespeare [Hudson edition]',\n",
       " 'Of Human Bondage': 'Of Human Bondage by W. Somerset Maugham',\n",
       " 'Oliver Twist': 'Oliver Twist by Charles Dickens',\n",
       " 'Cyrano de Bergerac': 'Cyrano de Bergerac by Edmond Rostand',\n",
       " 'A Tale of Two Cities': 'A Tale of Two Cities, by Charles Dickens [A story of the French Revolution]',\n",
       " 'Cymbeline': 'The Tragedie of Cymbeline by William Shakespeare',\n",
       " \"Uncle Tom's Cabin\": \"Uncle Tom's Cabin, Young Folks' Edition by Harriet Beecher Stowe\",\n",
       " 'Little Women': 'Little Women by Louisa May Alcott',\n",
       " 'Walden': 'Walden, by Henry David Thoreau',\n",
       " 'Macbeth': 'The Tragedie of Macbeth by William Shakespeare',\n",
       " \"Gulliver's Travels\": \"Gulliver's Travels by Jonathan Swift\",\n",
       " 'The Awakening': 'The Awakening and Selected Short Stories by Kate Chopin',\n",
       " 'Dubliners': 'Dubliners by James Joyce',\n",
       " 'Bleak House': 'Bleak House by Charles Dickens',\n",
       " 'A Christmas Carol': 'A Christmas Carol by Charles Dickens',\n",
       " 'Emma': 'Polly and the Princess by Emma C. Dowd',\n",
       " 'Beowulf': 'Beowulf by James A. Harrison and Robert Sharp, eds.',\n",
       " 'Merry Wives of Windsor': 'The Merry Wives of Windsor by William Shakespeare [Craig, Oxford edition]',\n",
       " 'The Portrait of a Lady': 'The Portrait of a Lady  [Volume 2] by Henry James',\n",
       " 'Silas Marner': 'Silas Marner by George Eliot',\n",
       " 'Wuthering Heights': 'Wuthering Heights by Emily Bronte',\n",
       " 'The Call of the Wild': 'The Call of the Wild, by Jack London',\n",
       " 'The Chosen': 'The Chosen People by Charlotte Mary Yonge',\n",
       " 'Middlemarch': 'Middlemarch by George Eliot',\n",
       " 'The Canterbury Tales': 'The Canterbury Tales and Other Poems by Geoffrey Chaucer',\n",
       " 'Siddhartha': 'Siddhartha by Hermann Hesse',\n",
       " \"A Connecticut Yankee in King Arthur's Court\": \"A Connecticut Yankee in King Arthur's Court, Part 9. by Mark Twain (Samuel Clemens)\",\n",
       " 'Les Miserables': 'Les Miserables by Victor Hugo, trans. Isabel F. Hapgood',\n",
       " 'Divine Comedy': 'The Divine Comedy, Volume 3, Paradise [Paradiso] by Dante Aligheri',\n",
       " 'Ivanhoe': 'Ivanhoe by Walter Scott',\n",
       " 'My Antonia': 'My Antonia by Willa Cather',\n",
       " 'Hard Times': 'Hard Times by Charles Dickens*',\n",
       " 'Phaedo': 'Phaedo by Plato',\n",
       " 'Dracula': \"Dracula's Guest by Bram Stoker\",\n",
       " 'Candide': 'Candide by Voltaire',\n",
       " 'Henry VIII': 'The Life of Henry VIII by William Shakespeare [Dunlap edition]',\n",
       " 'Native Son': 'The Native Son by Inez Haynes Irwin',\n",
       " 'Meno': 'Meno by Plato',\n",
       " 'Notes from the Underground': 'Notes from the Underground, by Feodor Dostoevsky',\n",
       " 'The Count of Monte Cristo': 'The Count of Monte Cristo by Alexandre Dumas [Pere]',\n",
       " 'Daisy Miller': 'Daisy Miller, by Henry James',\n",
       " 'The Comedy of Errors': 'The Complete Works of William Shakespeare The Comedy of Errors',\n",
       " 'King Lear': 'The Tragedy of King Lear by William Shakespeare [Collins edition]',\n",
       " 'Adam Bede': 'Adam Bede by George Eliot  [pseudonym of Mary Anne Evans]',\n",
       " 'Crime and Punishment': 'Crime and Punishment by Fyodor Dostoevsky',\n",
       " 'Beloved': 'The Well-Beloved by Thomas Hardy',\n",
       " 'The Beast in the Jungle': 'The Beast in the Jungle by Henry James',\n",
       " 'As You Like It': 'The Complete Works of William Shakespeare As You Like It',\n",
       " 'The Adventures of Tom Sawyer': 'The Adventures of Tom Sawyer, Part 7. by Mark Twain (Samuel Clemens)',\n",
       " 'The Age of Innocence': 'The Age of Innocence by Edith Wharton',\n",
       " 'The Scarlet Letter': 'The Scarlet Letter by Hawthorne',\n",
       " 'The Secret Sharer': 'The Secret Sharer, by Joseph Conrad',\n",
       " 'An Ideal Husband': 'An Ideal Husband by Oscar Wilde',\n",
       " 'Pygmalion': 'Liber Amoris, or, The New Pygmalion by William Hazlitt',\n",
       " 'Common Sense': 'Nerves and Common Sense by Annie Payson Call',\n",
       " 'Washington Square': 'Washington Square Plays by Various',\n",
       " 'Timon of Athens': 'The Life of Timon of Athens by William Shakespeare [Craig edition]',\n",
       " 'The Republic': 'The Republic by Plato, translated by B. Jowett',\n",
       " 'Pride and Prejudice': 'Pride and Prejudice by Jane Austen',\n",
       " 'Turn of the Screw': 'The Turn of the Screw, by Henry James',\n",
       " 'The Jew of Malta': 'The Jew of Malta by Christopher Marlowe',\n",
       " \"The Winter's Tale\": \"The Winter's Tale by William Shakespeare [Collins edition]\",\n",
       " 'Kindred': 'On Nothing & Kindred Subjects by Hilaire Belloc',\n",
       " 'The Tempest': 'The Tempest by William Shakespeare [Craig, Oxford edition]',\n",
       " 'The Red Badge of Courage': 'The Red Badge of Courage by Stephen Crane',\n",
       " 'Sister Carrie': 'Sister Carrie, by Theodore Dreiser',\n",
       " 'Mansfield Park': 'Mansfield Park, by Jane Austen (1775-1817)',\n",
       " 'Ulysses': 'Personal Memoirs of U. S. Grant, Volume Two by Ulysses S. Grant',\n",
       " 'Othello': 'The Tragedie of Othello, the Moore of Venice by William Shakespeare',\n",
       " 'The Iliad': 'The Iliad of Homer by Homer (Lang, Leaf, Myers trans.)',\n",
       " 'Winesburg, Ohio': 'Winesburg, Ohio by Sherwood Anderson',\n",
       " 'Twelfth Night': 'Twelfth Night; or, What You Will by William Shakespeare [Hudson edition]',\n",
       " 'The Inferno': 'The Inferno by Henri Barbusse',\n",
       " 'Jazz': 'Tales of the Jazz Age by F. Scott Fitzgerald',\n",
       " 'The Hound of the Baskervilles': 'The Hound of the Baskervilles by A. Conan Doyle',\n",
       " 'The Adventures of Huckleberry Finn': 'The Adventures of Huckleberry Finn, Complete by Mark Twain (Samuel Clemens)',\n",
       " 'The Prince': 'Two Years in the Forbidden City by The Princess Der Ling',\n",
       " 'Jude the Obscure': 'Jude the Obscure by Thomas Hardy',\n",
       " 'The Pearl': 'The Pearl Story Book by Mrs. Colman',\n",
       " 'Persuasion': 'Persuasion, by Jane Austen',\n",
       " 'Robinson Crusoe': 'The Solitary of Juan Fernandez, or The Real Robinson Crusoe by Joseph Xavier Saintine',\n",
       " 'Richard III': 'The Life and Death of King Richard III by William Shakespeare [Collins edition]',\n",
       " 'The Jungle': 'The Jungle, by Upton Sinclair',\n",
       " 'Consolation of Philosophy': 'The Theological Tractates and The Consolation of Philosophy by Anicius Manlius Severinus Boethius',\n",
       " 'Under the Greenwood Tree': 'Under the Greenwood Tree by Thomas Hardy'}"
      ]
     },
     "execution_count": 25,
     "metadata": {},
     "output_type": "execute_result"
    }
   ],
   "source": [
    "#Dictionary of usable books returned by nested loop above\n",
    "\n",
    "usable_books"
   ]
  },
  {
   "cell_type": "code",
   "execution_count": 27,
   "metadata": {},
   "outputs": [],
   "source": [
    "#Manually select titles that have been obviously inaccurately matched to drop from dictionary\n",
    "\n",
    "to_drop = [\n",
    "    'Kidnapped', 'Night', 'Emma', 'The Chosen', 'Dracula', 'Beloved', \n",
    "    'Pygmalion', 'Common Sense', 'Washington Square', 'Kindred', 'Ulysses', \n",
    "    'Jazz', 'The Prince', 'Robinson Crusoe', 'Consolation of Philosophy'\n",
    "    ]"
   ]
  },
  {
   "cell_type": "code",
   "execution_count": 28,
   "metadata": {},
   "outputs": [],
   "source": [
    "#Drop titles selected above from usable books dictionary\n",
    "\n",
    "for key in to_drop:\n",
    "    del usable_books[key]"
   ]
  },
  {
   "cell_type": "code",
   "execution_count": 30,
   "metadata": {},
   "outputs": [
    {
     "data": {
      "text/plain": [
       "75"
      ]
     },
     "execution_count": 30,
     "metadata": {},
     "output_type": "execute_result"
    }
   ],
   "source": [
    "#Final number of titles in usable books dictionary\n",
    "\n",
    "len(usable_books)"
   ]
  },
  {
   "cell_type": "markdown",
   "metadata": {},
   "source": [
    "# Save usable books list to json file"
   ]
  },
  {
   "cell_type": "code",
   "execution_count": 33,
   "metadata": {},
   "outputs": [],
   "source": [
    "with open('./data/working_data/usable_books.json', 'w') as fp:\n",
    "    json.dump(usable_books, fp)"
   ]
  }
 ],
 "metadata": {
  "interpreter": {
   "hash": "c90bd41498bd2909e03bc4813e3fc894d3d64fd4c32b3cf57272642761dbfb5b"
  },
  "kernelspec": {
   "display_name": "Python 3.9.7 ('base')",
   "language": "python",
   "name": "python3"
  },
  "language_info": {
   "codemirror_mode": {
    "name": "ipython",
    "version": 3
   },
   "file_extension": ".py",
   "mimetype": "text/x-python",
   "name": "python",
   "nbconvert_exporter": "python",
   "pygments_lexer": "ipython3",
   "version": "3.9.7"
  },
  "orig_nbformat": 4
 },
 "nbformat": 4,
 "nbformat_minor": 2
}
