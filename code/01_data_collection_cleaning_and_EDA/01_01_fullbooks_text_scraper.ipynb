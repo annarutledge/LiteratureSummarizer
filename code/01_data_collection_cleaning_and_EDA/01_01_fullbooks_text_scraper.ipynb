{
 "cells": [
  {
   "cell_type": "markdown",
   "metadata": {},
   "source": [
    "# Imports"
   ]
  },
  {
   "cell_type": "code",
   "execution_count": 41,
   "metadata": {},
   "outputs": [],
   "source": [
    "import requests\n",
    "from bs4 import BeautifulSoup\n",
    "import time\n",
    "import json\n",
    "import pandas as pd\n",
    "import numpy as np"
   ]
  },
  {
   "cell_type": "markdown",
   "metadata": {},
   "source": [
    "# Scrape links to full texts of all books accessible at fullbooks.com"
   ]
  },
  {
   "cell_type": "code",
   "execution_count": 42,
   "metadata": {},
   "outputs": [],
   "source": [
    "#Homepage of source of texts\n",
    "\n",
    "url = 'http://www.fullbooks.com/'"
   ]
  },
  {
   "cell_type": "code",
   "execution_count": null,
   "metadata": {},
   "outputs": [],
   "source": [
    "#Check that request is successful\n",
    "\n",
    "response = requests.get(url)\n",
    "response.status_code"
   ]
  },
  {
   "cell_type": "code",
   "execution_count": 4,
   "metadata": {},
   "outputs": [],
   "source": [
    "#Pass to BeautifulSoup\n",
    "\n",
    "html = response.text\n",
    "soup = BeautifulSoup(html, 'lxml')"
   ]
  },
  {
   "cell_type": "code",
   "execution_count": 5,
   "metadata": {},
   "outputs": [
    {
     "data": {
      "text/plain": [
       "['http://www.fullbooks.com/idx1.html',\n",
       " 'http://www.fullbooks.com/idx2.html',\n",
       " 'http://www.fullbooks.com/idx3.html',\n",
       " 'http://www.fullbooks.com/idx4.html',\n",
       " 'http://www.fullbooks.com/idx5.html',\n",
       " 'http://www.fullbooks.com/idx6.html',\n",
       " 'http://www.fullbooks.com/idx7.html',\n",
       " 'http://www.fullbooks.com/idx8.html',\n",
       " 'http://www.fullbooks.com/idx9.html',\n",
       " 'http://www.fullbooks.com/idx10.html',\n",
       " 'http://www.fullbooks.com/idx11.html',\n",
       " 'http://www.fullbooks.com/idx12.html',\n",
       " 'http://www.fullbooks.com/idx13.html',\n",
       " 'http://www.fullbooks.com/idx14.html',\n",
       " 'http://www.fullbooks.com/idx15.html',\n",
       " 'http://www.fullbooks.com/idx16.html',\n",
       " 'http://www.fullbooks.com/idx17.html',\n",
       " 'http://www.fullbooks.com/idx18.html',\n",
       " 'http://www.fullbooks.com/idx19.html',\n",
       " 'http://www.fullbooks.com/idx20.html',\n",
       " 'http://www.fullbooks.com/idx21.html',\n",
       " 'http://www.fullbooks.com/idx22.html',\n",
       " 'http://www.fullbooks.com/idx23.html',\n",
       " 'http://www.fullbooks.com/idx24.html',\n",
       " 'http://www.fullbooks.com/idx25.html',\n",
       " 'http://www.fullbooks.com/idx26.html',\n",
       " 'http://www.fullbooks.com/idx27.html',\n",
       " 'http://www.fullbooks.com/idx28.html',\n",
       " 'http://www.fullbooks.com/idx29.html',\n",
       " 'http://www.fullbooks.com/idx30.html',\n",
       " 'http://www.fullbooks.com/idx31.html',\n",
       " 'http://www.fullbooks.com/idx32.html',\n",
       " 'http://www.fullbooks.com/idx33.html',\n",
       " 'http://www.fullbooks.com/idx34.html',\n",
       " 'http://www.fullbooks.com/idx35.html',\n",
       " 'http://www.fullbooks.com/idx36.html',\n",
       " 'http://www.fullbooks.com/idx37.html',\n",
       " 'http://www.fullbooks.com/idx38.html',\n",
       " 'http://www.fullbooks.com/idx39.html',\n",
       " 'http://www.fullbooks.com/idx40.html',\n",
       " 'http://www.fullbooks.com/idx41.html',\n",
       " 'http://www.fullbooks.com/idx42.html',\n",
       " 'http://www.fullbooks.com/idx43.html',\n",
       " 'http://www.fullbooks.com/idx44.html',\n",
       " 'http://www.fullbooks.com/idx45.html',\n",
       " 'http://www.fullbooks.com/idx46.html',\n",
       " 'http://www.fullbooks.com/idx47.html',\n",
       " 'http://www.fullbooks.com/idx48.html',\n",
       " 'http://www.fullbooks.com/idx49.html',\n",
       " 'http://www.fullbooks.com/idx50.html',\n",
       " 'http://www.fullbooks.com/idx51.html',\n",
       " 'http://www.fullbooks.com/idx52.html',\n",
       " 'http://www.fullbooks.com/idx53.html',\n",
       " 'http://www.fullbooks.com/idx54.html']"
      ]
     },
     "execution_count": 5,
     "metadata": {},
     "output_type": "execute_result"
    }
   ],
   "source": [
    "#Books are divided into 54 alphabetical categories on webpage\n",
    "#Create list of links to all book categories\n",
    "\n",
    "book_category_links = []\n",
    "for ul in soup.find_all('ul'):\n",
    "    for li in ul.find_all('li'):\n",
    "        book_category_links.append('http://www.fullbooks.com/' + li.find('a')['href'])\n",
    "\n",
    "book_category_links"
   ]
  },
  {
   "cell_type": "code",
   "execution_count": null,
   "metadata": {},
   "outputs": [],
   "source": [
    "#Iterate through list of links to book categories and create list of links to all books\n",
    "\n",
    "book_text_links = []\n",
    "i=1\n",
    "for link in book_category_links:\n",
    "    category_url = link\n",
    "    cat_response = requests.get(category_url)\n",
    "    time.sleep(0.5)\n",
    "    if cat_response.status_code==200:\n",
    "        cat_html = cat_response.text\n",
    "        cat_soup = BeautifulSoup(cat_html, 'lxml')\n",
    "        for li in cat_soup.find('ul'):\n",
    "            if li.find('a') != -1:\n",
    "                book = {}\n",
    "                book['title'] = li.find('a').text\n",
    "                book['link'] = 'http://www.fullbooks.com/' + li.find('a')['href']\n",
    "                book_text_links.append(book)\n",
    "        print(f'Category {i} text links added')\n",
    "        i += 1\n",
    "    else:\n",
    "        print('Error with request')"
   ]
  },
  {
   "cell_type": "code",
   "execution_count": 28,
   "metadata": {},
   "outputs": [
    {
     "data": {
      "text/plain": [
       "[{'title': 'An \"Attic\" Philosopher, entire by Emile Souvestre',\n",
       "  'link': 'http://www.fullbooks.com/An-Attic-Philosopher-entire.html'},\n",
       " {'title': 'An \"Attic\" Philosopher, v1 by Emile Souvestre',\n",
       "  'link': 'http://www.fullbooks.com/An-Attic-Philosopher-v1.html'},\n",
       " {'title': 'An \"Attic\" Philosopher, v2 by Emile Souvestre',\n",
       "  'link': 'http://www.fullbooks.com/An-Attic-Philosopher-v2.html'},\n",
       " {'title': 'An \"Attic\" Philosopher, v3 by Emile Souvestre',\n",
       "  'link': 'http://www.fullbooks.com/An-Attic-Philosopher-v3.html'},\n",
       " {'title': '\"Co. Aytch\" by Sam R. Watkins',\n",
       "  'link': 'http://www.fullbooks.com/Co-Aytch-.html'},\n",
       " {'title': 'The \"Goldfish\" by Arthur Train',\n",
       "  'link': 'http://www.fullbooks.com/The-Goldfish-.html'},\n",
       " {'title': '\"In Darkest England and The Way Out\" by General William Booth',\n",
       "  'link': 'http://www.fullbooks.com/In-Darkest-England-and-The-Way-Out-.html'},\n",
       " {'title': '\"Speaking of Operations--\" by Irvin S. Cobb',\n",
       "  'link': 'http://www.fullbooks.com/Speaking-of-Operations--.html'},\n",
       " {'title': \"'Lena Rivers by Mary J. Holmes\",\n",
       "  'link': 'http://www.fullbooks.com/Lena-Rivers.html'},\n",
       " {'title': \"'Tis Sixty Years Since by Charles Francis Adams\",\n",
       "  'link': 'http://www.fullbooks.com/Tis-Sixty-Years-Since.html'},\n",
       " {'title': \"'Twixt Land & Sea by Joseph Conrad\",\n",
       "  'link': 'http://www.fullbooks.com/Twixt-Land--Sea.html'},\n",
       " {'title': '(Extract from: Sun Tzu on the Art of War (Lionel Giles, trans.)',\n",
       "  'link': 'http://www.fullbooks.com/Extract-from-Sun-Tzu-on-the-Art-of-War.html'},\n",
       " {'title': '*These Etexts Prepared By Hundreds of Volunteers and Donations*',\n",
       "  'link': 'http://www.fullbooks.com/These-Etexts-Prepared-By-Hundreds-of.html'},\n",
       " {'title': '1.  The Lamentable Tragedy of Locrine',\n",
       "  'link': 'http://www.fullbooks.com/1--The-Lamentable-Tragedy-of-Locrine.html'},\n",
       " {'title': '10,000 Dreams Interpreted [Or. . .\"What\\'s In A Dream\"] [Or. . .Dreams, Their Scientific and Practical Interpretations]',\n",
       "  'link': 'http://www.fullbooks.com/10-000-Dreams-Interpreted-Or---What-s-In-A.html'},\n",
       " {'title': '1492 by Mary Johnston',\n",
       "  'link': 'http://www.fullbooks.com/1492.html'},\n",
       " {'title': '1601 by Mark Twain', 'link': 'http://www.fullbooks.com/1601.html'},\n",
       " {'title': '1889 Consitution of Japan',\n",
       "  'link': 'http://www.fullbooks.com/1889-Consitution-of-Japan.html'},\n",
       " {'title': 'The 1994 Edition of the CIA World Factbook',\n",
       "  'link': 'http://www.fullbooks.com/The-1994-Edition-of-the-CIA-World-Factbook.html'},\n",
       " {'title': 'The 1995 CIA World Factbook',\n",
       "  'link': 'http://www.fullbooks.com/The-1995-CIA-World-Factbook.html'}]"
      ]
     },
     "execution_count": 28,
     "metadata": {},
     "output_type": "execute_result"
    }
   ],
   "source": [
    "#Check list of books created\n",
    "\n",
    "book_text_links[:20]"
   ]
  },
  {
   "cell_type": "markdown",
   "metadata": {},
   "source": [
    "## Save book text links to json file"
   ]
  },
  {
   "cell_type": "code",
   "execution_count": 29,
   "metadata": {},
   "outputs": [],
   "source": [
    "with open('./data/working_data/book_texts/book_text_links_unfiltered.json', 'w') as fp:\n",
    "    json.dump(book_text_links, fp)"
   ]
  },
  {
   "cell_type": "markdown",
   "metadata": {},
   "source": [
    "# Filter to usable texts\n",
    "Texts for which both full text and chapter summaries are accessible\n",
    "<br>\n",
    "(see crosscheck_summaries_text.ipynb for determination of usable texts)"
   ]
  },
  {
   "cell_type": "markdown",
   "metadata": {},
   "source": [
    "## Create list of usable full text links based on full text titles"
   ]
  },
  {
   "cell_type": "code",
   "execution_count": 14,
   "metadata": {},
   "outputs": [],
   "source": [
    "#Open json file of list of links to books saved in previous command\n",
    "\n",
    "with open('./data/working_data/book_texts/book_text_links_unfiltered.json') as json_file:\n",
    "    book_text_links_unfiltered = json.load(json_file)"
   ]
  },
  {
   "cell_type": "code",
   "execution_count": 15,
   "metadata": {},
   "outputs": [
    {
     "data": {
      "text/plain": [
       "[{'title': 'An \"Attic\" Philosopher, entire by Emile Souvestre',\n",
       "  'link': 'http://www.fullbooks.com/An-Attic-Philosopher-entire.html'},\n",
       " {'title': 'An \"Attic\" Philosopher, v1 by Emile Souvestre',\n",
       "  'link': 'http://www.fullbooks.com/An-Attic-Philosopher-v1.html'},\n",
       " {'title': 'An \"Attic\" Philosopher, v2 by Emile Souvestre',\n",
       "  'link': 'http://www.fullbooks.com/An-Attic-Philosopher-v2.html'},\n",
       " {'title': 'An \"Attic\" Philosopher, v3 by Emile Souvestre',\n",
       "  'link': 'http://www.fullbooks.com/An-Attic-Philosopher-v3.html'},\n",
       " {'title': '\"Co. Aytch\" by Sam R. Watkins',\n",
       "  'link': 'http://www.fullbooks.com/Co-Aytch-.html'}]"
      ]
     },
     "execution_count": 15,
     "metadata": {},
     "output_type": "execute_result"
    }
   ],
   "source": [
    "#Check list of book full text dictionaries\n",
    "\n",
    "book_text_links_unfiltered[:5]"
   ]
  },
  {
   "cell_type": "code",
   "execution_count": 16,
   "metadata": {},
   "outputs": [
    {
     "data": {
      "text/plain": [
       "7944"
      ]
     },
     "execution_count": 16,
     "metadata": {},
     "output_type": "execute_result"
    }
   ],
   "source": [
    "#Number of links to full texts saved \n",
    "\n",
    "len(book_text_links_unfiltered)"
   ]
  },
  {
   "cell_type": "code",
   "execution_count": 17,
   "metadata": {},
   "outputs": [],
   "source": [
    "#Create list of titles of books with full texts\n",
    "\n",
    "full_texts = []\n",
    "for i in range(len(book_text_links_unfiltered)):\n",
    "    full_texts.append(book_text_links_unfiltered[i]['title'])"
   ]
  },
  {
   "cell_type": "code",
   "execution_count": 18,
   "metadata": {},
   "outputs": [
    {
     "data": {
      "text/plain": [
       "['An \"Attic\" Philosopher, entire by Emile Souvestre',\n",
       " 'An \"Attic\" Philosopher, v1 by Emile Souvestre',\n",
       " 'An \"Attic\" Philosopher, v2 by Emile Souvestre',\n",
       " 'An \"Attic\" Philosopher, v3 by Emile Souvestre',\n",
       " '\"Co. Aytch\" by Sam R. Watkins']"
      ]
     },
     "execution_count": 18,
     "metadata": {},
     "output_type": "execute_result"
    }
   ],
   "source": [
    "#Check list of full texts\n",
    "\n",
    "full_texts[:5]"
   ]
  },
  {
   "cell_type": "code",
   "execution_count": 19,
   "metadata": {},
   "outputs": [],
   "source": [
    "#Load in dictionary of usable books (created in crosscheck_summaries_text.ipynb)\n",
    "\n",
    "with open('./data/working_data/usable_books.json') as json_file:\n",
    "    usable_books = json.load(json_file)"
   ]
  },
  {
   "cell_type": "code",
   "execution_count": 20,
   "metadata": {},
   "outputs": [
    {
     "data": {
      "text/plain": [
       "dict_keys(['Julius Caesar', 'David Copperfield', 'Crito', 'Madame Bovary', 'Of Human Bondage', 'Oliver Twist', 'Cyrano de Bergerac', 'A Tale of Two Cities', 'Cymbeline', \"Uncle Tom's Cabin\", 'Little Women', 'Walden', 'Macbeth', \"Gulliver's Travels\", 'The Awakening', 'Dubliners', 'Bleak House', 'A Christmas Carol', 'Beowulf', 'Merry Wives of Windsor', 'The Portrait of a Lady', 'Silas Marner', 'Wuthering Heights', 'The Call of the Wild', 'Middlemarch', 'The Canterbury Tales', 'Siddhartha', \"A Connecticut Yankee in King Arthur's Court\", 'Les Miserables', 'Divine Comedy', 'Ivanhoe', 'My Antonia', 'Hard Times', 'Phaedo', 'Candide', 'Henry VIII', 'Native Son', 'Meno', 'Notes from the Underground', 'The Count of Monte Cristo', 'Daisy Miller', 'The Comedy of Errors', 'King Lear', 'Adam Bede', 'Crime and Punishment', 'The Beast in the Jungle', 'As You Like It', 'The Adventures of Tom Sawyer', 'The Age of Innocence', 'The Scarlet Letter', 'The Secret Sharer', 'An Ideal Husband', 'Timon of Athens', 'The Republic', 'Pride and Prejudice', 'Turn of the Screw', 'The Jew of Malta', \"The Winter's Tale\", 'The Tempest', 'The Red Badge of Courage', 'Sister Carrie', 'Mansfield Park', 'Othello', 'The Iliad', 'Winesburg, Ohio', 'Twelfth Night', 'The Inferno', 'The Hound of the Baskervilles', 'The Adventures of Huckleberry Finn', 'Jude the Obscure', 'The Pearl', 'Persuasion', 'Richard III', 'The Jungle', 'Under the Greenwood Tree'])"
      ]
     },
     "execution_count": 20,
     "metadata": {},
     "output_type": "execute_result"
    }
   ],
   "source": [
    "#Titles of usable books\n",
    "\n",
    "usable_books.keys()"
   ]
  },
  {
   "cell_type": "code",
   "execution_count": 21,
   "metadata": {},
   "outputs": [],
   "source": [
    "#Create set of titles in usable books to get only unique values\n",
    "\n",
    "usable_titles_set = set(list(usable_books.keys()))"
   ]
  },
  {
   "cell_type": "code",
   "execution_count": 22,
   "metadata": {},
   "outputs": [],
   "source": [
    "#Create set of titles of full texts to get only unique values\n",
    "\n",
    "full_text_titles_set = set(full_texts)"
   ]
  },
  {
   "cell_type": "code",
   "execution_count": 23,
   "metadata": {},
   "outputs": [],
   "source": [
    "#Titles of full texts are slightly different (usually written in a longer form with the author included) than \n",
    "# titles in the list of usable books\n",
    "#Need to create a list of of titles as written in the full texts list that are included in the usable books\n",
    "\n",
    "usable_full_texts = []\n",
    "\n",
    "#For each unique title in the titles of the usable books, if this title is a substring in one of the titles of the\n",
    "# full texts, or vice versa, the title of the full text is added to the list of \n",
    "for usable_title in usable_titles_set:\n",
    "    for ft_title in full_text_titles_set:\n",
    "        if usable_title in ft_title:\n",
    "            usable_full_texts.append(ft_title)\n",
    "        elif ft_title in usable_title:\n",
    "            usable_full_texts.append(ft_title)"
   ]
  },
  {
   "cell_type": "code",
   "execution_count": 24,
   "metadata": {},
   "outputs": [
    {
     "data": {
      "text/plain": [
       "['Little Women by Louisa May Alcott',\n",
       " 'The Age of Innocence by Edith Wharton',\n",
       " \"The Complete Works of William Shakespeare The Winter's Tale\",\n",
       " \"The Winter's Tale by William Shakespeare [Collins edition]\",\n",
       " 'The Life of Timon of Athens by William Shakespeare [Craig edition]',\n",
       " 'The Life of Timon of Athens by William Shakespeare',\n",
       " 'The Complete Works of William Shakespeare The Life of Timon of Athens',\n",
       " 'Jude the Obscure by Thomas Hardy',\n",
       " 'The Hound of the Baskervilles by A. Conan Doyle',\n",
       " 'Siddhartha by Hermann Hesse']"
      ]
     },
     "execution_count": 24,
     "metadata": {},
     "output_type": "execute_result"
    }
   ],
   "source": [
    "#Examine list of usable full text titles created\n",
    "\n",
    "usable_full_texts[:10]"
   ]
  },
  {
   "cell_type": "code",
   "execution_count": 25,
   "metadata": {},
   "outputs": [
    {
     "data": {
      "text/plain": [
       "143"
      ]
     },
     "execution_count": 25,
     "metadata": {},
     "output_type": "execute_result"
    }
   ],
   "source": [
    "#Number of usable full texts\n",
    "\n",
    "len(usable_full_texts)"
   ]
  },
  {
   "cell_type": "code",
   "execution_count": 26,
   "metadata": {},
   "outputs": [
    {
     "data": {
      "text/plain": [
       "['Julius Caesar',\n",
       " 'David Copperfield',\n",
       " 'Crito',\n",
       " 'Madame Bovary',\n",
       " 'Of Human Bondage',\n",
       " 'Oliver Twist',\n",
       " 'Cyrano de Bergerac',\n",
       " 'A Tale of Two Cities',\n",
       " 'Cymbeline',\n",
       " \"Uncle Tom's Cabin\",\n",
       " 'Little Women',\n",
       " 'Walden',\n",
       " 'Macbeth',\n",
       " \"Gulliver's Travels\",\n",
       " 'The Awakening',\n",
       " 'Dubliners',\n",
       " 'Bleak House',\n",
       " 'A Christmas Carol',\n",
       " 'Beowulf',\n",
       " 'Merry Wives of Windsor',\n",
       " 'The Portrait of a Lady',\n",
       " 'Silas Marner',\n",
       " 'Wuthering Heights',\n",
       " 'The Call of the Wild',\n",
       " 'Middlemarch',\n",
       " 'The Canterbury Tales',\n",
       " 'Siddhartha',\n",
       " \"A Connecticut Yankee in King Arthur's Court\",\n",
       " 'Les Miserables',\n",
       " 'Divine Comedy',\n",
       " 'Ivanhoe',\n",
       " 'My Antonia',\n",
       " 'Hard Times',\n",
       " 'Phaedo',\n",
       " 'Candide',\n",
       " 'Henry VIII',\n",
       " 'Native Son',\n",
       " 'Meno',\n",
       " 'Notes from the Underground',\n",
       " 'The Count of Monte Cristo',\n",
       " 'Daisy Miller',\n",
       " 'The Comedy of Errors',\n",
       " 'King Lear',\n",
       " 'Adam Bede',\n",
       " 'Crime and Punishment',\n",
       " 'The Beast in the Jungle',\n",
       " 'As You Like It',\n",
       " 'The Adventures of Tom Sawyer',\n",
       " 'The Age of Innocence',\n",
       " 'The Scarlet Letter',\n",
       " 'The Secret Sharer',\n",
       " 'An Ideal Husband',\n",
       " 'Timon of Athens',\n",
       " 'The Republic',\n",
       " 'Pride and Prejudice',\n",
       " 'Turn of the Screw',\n",
       " 'The Jew of Malta',\n",
       " \"The Winter's Tale\",\n",
       " 'The Tempest',\n",
       " 'The Red Badge of Courage',\n",
       " 'Sister Carrie',\n",
       " 'Mansfield Park',\n",
       " 'Othello',\n",
       " 'The Iliad',\n",
       " 'Winesburg, Ohio',\n",
       " 'Twelfth Night',\n",
       " 'The Inferno',\n",
       " 'The Hound of the Baskervilles',\n",
       " 'The Adventures of Huckleberry Finn',\n",
       " 'Jude the Obscure',\n",
       " 'The Pearl',\n",
       " 'Persuasion',\n",
       " 'Richard III',\n",
       " 'The Jungle',\n",
       " 'Under the Greenwood Tree']"
      ]
     },
     "execution_count": 26,
     "metadata": {},
     "output_type": "execute_result"
    }
   ],
   "source": [
    "#List of unique titles in the usable books list  - copied to separate text editor document\n",
    "\n",
    "list(usable_books.keys())"
   ]
  },
  {
   "cell_type": "markdown",
   "metadata": {},
   "source": [
    "## Crosscheck usable book titles & full text titles"
   ]
  },
  {
   "cell_type": "code",
   "execution_count": 27,
   "metadata": {},
   "outputs": [],
   "source": [
    "#To ensure accuracy, titles in usable books list and titles in usable full texts list need to be crosschecked, as the\n",
    "# matching up of titles was not exact and final full texts list may contain some errors\n",
    "\n",
    "#Titles were manually checked by going through each title in the usable full texts list\n",
    "    # Repeats of the same title were removed (attempted first to do this through multiple methods with code, but uknown error caused most repeats to not be identified)\n",
    "    # Dictionary below was created with the matching usable book title for each full text title\n",
    "\n",
    "#Dictionary of usable book titles (book title associated with summaries) & full text titles\n",
    "fulltext_to_summary_titles = {\n",
    " 'The Scarlet Letter by Hawthorne':'The Scarlet Letter',\n",
    " 'The Hound of the Baskervilles by A. Conan Doyle':'The Hound of the Baskervilles',\n",
    " 'The Life of Henry VIII by William Shakespeare [Dunlap edition]':'Henry VIII',\n",
    " 'Of Human Bondage by W. Somerset Maugham':'Of Human Bondage',\n",
    " 'The Complete Works of William Shakespeare Cymbeline':'Cymbeline',\n",
    " 'Ivanhoe by Walter Scott':'Ivanhoe',\n",
    " 'My Antonia by Willa Cather':'My Antonia',\n",
    " 'The Call of the Wild, by Jack London':'The Call of the Wild',\n",
    " 'The Adventures of Tom Sawyer, Complete by Mark Twain (Samuel Clemens)':'The Adventures of Tom Sawyer',\n",
    " 'Candide by Voltaire':'Candide',\n",
    " 'The Age of Innocence by Edith Wharton':'The Age of Innocence',\n",
    " 'The Canterbury Tales and Other Poems by Geoffrey Chaucer':'The Canterbury Tales',\n",
    " 'Daisy Miller, by Henry James':'Daisy Miller',\n",
    " 'Pride and Prejudice by Jane Austen':'Pride and Prejudice',\n",
    " 'Winesburg, Ohio by Sherwood Anderson':'Winesburg, Ohio',\n",
    " 'The Adventures of Huckleberry Finn by Mark Twain (Samuel Clemens)':'The Adventures of Huckleberry Finn',\n",
    " 'The Jungle, by Upton Sinclair':'The Jungle',\n",
    " 'Oliver Twist by Charles Dickens':'Oliver Twist',\n",
    " 'The Complete Works of William Shakespeare As You Like It':'As You Like It',\n",
    " 'Madame Bovary by Gustave Flaubert':'Madame Bovary',\n",
    " 'Middlemarch by George Eliot':'Middlemarch',\n",
    " 'A Christmas Carol by Charles Dickens':'A Christmas Carol',\n",
    " 'A Tale of Two Cities, by Charles Dickens [A story of the French Revolution]':'A Tale of Two Cities',\n",
    " 'The Jew of Malta by Christopher Marlowe':'The Jew of Malta',\n",
    " 'Under the Greenwood Tree by Thomas Hardy':'Under the Greenwood Tree',\n",
    " 'Notes from the Underground, by Feodor Dostoevsky':'Notes from the Underground',\n",
    " 'Adam Bede by George Eliot  [pseudonym of Mary Anne Evans]':'Adam Bede',\n",
    " 'The Inferno by Henri Barbusse':'The Inferno',\n",
    " 'The Pearl by Sophie Jewett':'The Pearl',\n",
    " 'The Native Son by Inez Haynes Irwin':'Native Son',\n",
    " 'The Complete Works of William Shakespeare The Winter\\'s Tale':'The Winter\\'s Tale',\n",
    " 'The Complete Works of William Shakespeare The Tragedy of Julius Caesar':'Julius Caesar',\n",
    " 'Crito by Plato':'Crito',\n",
    " 'An Ideal Husband by Oscar Wilde':'An Ideal Husband',\n",
    " 'Crime and Punishment by Fyodor Dostoevsky':'Crime and Punishment',\n",
    " 'Dante\\'s Inferno [Divine Comedy]':'Divine Comedy',\n",
    " 'The Complete Works of William Shakespeare The Merry Wives of Windsor':'Merry Wives of Windsor',\n",
    " 'The Awakening and Selected Short Stories by Kate Chopin':'The Awakening',\n",
    " 'The Complete Works of William Shakespeare Twelfth Night; or What You Will':'Twelfth Night',\n",
    " 'The Secret Sharer, by Joseph Conrad':'The Secret Sharer',\n",
    " 'The Count of Monte Cristo by Alexandre Dumas [Pere]':'The Count of Monte Cristo',\n",
    " 'The Complete Works of William Shakespeare The Life of Timon of Athens':'Timon of Athens',\n",
    " 'The Red Badge of Courage by Stephen Crane':'The Red Badge of Courage',\n",
    " 'The Complete Works of William Shakespeare The Tragedy of King Lear':'King Lear',\n",
    " 'Wuthering Heights by Emily Bronte':'Wuthering Heights',\n",
    " 'Hard Times by Charles Dickens*':'Hard Times',\n",
    " 'Little Women by Louisa May Alcott':'Little Women',\n",
    " 'Dubliners by James Joyce':'Dubliners',\n",
    " 'Persuasion, by Jane Austen':'Persuasion',\n",
    " 'Bleak House by Charles Dickens':'Bleak House',\n",
    " 'Mansfield Park, by Jane Austen (1775-1817)':'Mansfield Park',\n",
    " 'David Copperfield by Charles Dickens':'David Copperfield',\n",
    " 'Beowulf by James A. Harrison and Robert Sharp, eds.':'Beowulf',\n",
    " 'The Beast in the Jungle by Henry James':'The Beast in the Jungle',\n",
    " 'The Complete Works of William Shakespeare The Tempest':'The Tempest',\n",
    " 'The Complete Works of William Shakespeare The Tragedy of Othello, Moor of Venice':'Othello',\n",
    " 'The Complete Works of William Shakespeare The Tragedy of Macbeth':'Macbeth',\n",
    " 'The Republic by Plato, translated by B. Jowett':'The Republic',\n",
    " 'Silas Marner by George Eliot':'Silas Marner',\n",
    " 'Cyrano de Bergerac by Edmond Rostand':'Cyrano de Bergerac',\n",
    " 'The Portrait of a Lady  [Volume 2] by Henry James':'The Portrait of a Lady',\n",
    " 'The Portrait of a Lady  [Volume 1] by Henry James':'The Portrait of a Lady',\n",
    " 'A Connecticut Yankee in King Arthur\\'s Court, Complete by Mark Twain (Samuel Clemens)':'A Connecticut Yankee in King Arthur\\'s Court',\n",
    " 'Sister Carrie, by Theodore Dreiser':'Sister Carrie',\n",
    " 'Siddhartha by by Hermann Hesse':'Siddhartha',\n",
    " 'Jude the Obscure by Thomas Hardy':'Jude the Obscure',\n",
    " 'The Turn of the Screw, by Henry James':'Turn of the Screw',\n",
    " 'Uncle Tom\\'s Cabin by Harriet Beecher Stowe':'Uncle Tom\\'s Cabin',\n",
    " 'The Complete Works of William Shakespeare King Richard III':'Richard III',\n",
    " 'Walden, by Henry David Thoreau':'Walden',\n",
    " 'The Complete Works of William Shakespeare The Comedy of Errors':'The Comedy of Errors',\n",
    " 'Phaedo by Plato':'Phaedo',\n",
    " 'Meno by Plato':'Meno',\n",
    " 'Les Miserables by Victor Hugo, trans. Isabel F. Hapgood':'Les Miserables',\n",
    " 'Gulliver\\'s Travels by Jonathan Swift':'Gulliver\\'s Travels'\n",
    "}"
   ]
  },
  {
   "cell_type": "code",
   "execution_count": 28,
   "metadata": {},
   "outputs": [],
   "source": [
    "#Save titles dictionary to json file\n",
    "\n",
    "with open('./data/working_data/fulltext_to_summary_dict.json', 'w') as fp:\n",
    "    json.dump(fulltext_to_summary_titles, fp)"
   ]
  },
  {
   "cell_type": "markdown",
   "metadata": {},
   "source": [
    "## Dictionary of full texts to scrape"
   ]
  },
  {
   "cell_type": "code",
   "execution_count": 29,
   "metadata": {},
   "outputs": [],
   "source": [
    "#Create list of titles for which full text should be scraped (usable full texts)\n",
    "\n",
    "fulltext_titles_to_scrape = list(fulltext_to_summary_titles.keys())"
   ]
  },
  {
   "cell_type": "code",
   "execution_count": 30,
   "metadata": {},
   "outputs": [],
   "source": [
    "#Create dictionary of titles for which full text should be scraped along with corresponding link to full text \n",
    "\n",
    "full_texts_to_scrape = {}\n",
    "\n",
    "#For each title in full texts to be scraped, the dicitonary key is set equal to the title and the value is set equal to the link from \n",
    "# the 'book_text_links_unfiltered' dictionary of titles and links\n",
    "for i in range(len(fulltext_titles_to_scrape)):\n",
    "    title = fulltext_titles_to_scrape[i]\n",
    "    for book in range(len(book_text_links_unfiltered)):\n",
    "        if book_text_links_unfiltered[book]['title'] == title:\n",
    "            full_texts_to_scrape[title] = book_text_links_unfiltered[book]['link']"
   ]
  },
  {
   "cell_type": "code",
   "execution_count": 32,
   "metadata": {},
   "outputs": [
    {
     "data": {
      "text/plain": [
       "75"
      ]
     },
     "execution_count": 32,
     "metadata": {},
     "output_type": "execute_result"
    }
   ],
   "source": [
    "#Length of list of titles to be scraped\n",
    "\n",
    "len(fulltext_titles_to_scrape)"
   ]
  },
  {
   "cell_type": "code",
   "execution_count": 33,
   "metadata": {},
   "outputs": [
    {
     "data": {
      "text/plain": [
       "75"
      ]
     },
     "execution_count": 33,
     "metadata": {},
     "output_type": "execute_result"
    }
   ],
   "source": [
    "#Number of entries in dicitonary of full texts to be scraped (confirmed to be equal to number of titles in list to be scraped)\n",
    "\n",
    "len(full_texts_to_scrape)"
   ]
  },
  {
   "cell_type": "markdown",
   "metadata": {},
   "source": [
    "# Scrape full texts"
   ]
  },
  {
   "cell_type": "markdown",
   "metadata": {},
   "source": [
    "## Full texts scraper\n",
    "Divided into mutliple shorter list of titles as response time significantly slowed when attempting to scrape all titles at once"
   ]
  },
  {
   "cell_type": "code",
   "execution_count": 35,
   "metadata": {},
   "outputs": [
    {
     "name": "stdout",
     "output_type": "stream",
     "text": [
      "text 1 added\n",
      "text 2 added\n",
      "text 3 added\n",
      "text 4 added\n",
      "text 5 added\n",
      "text 6 added\n",
      "text 7 added\n",
      "text 8 added\n",
      "text 9 added\n",
      "text 10 added\n",
      "text 11 added\n",
      "text 12 added\n",
      "error with text 13 - Daisy Miller, by Henry James\n",
      "error\n",
      "text 14 added\n",
      "text 15 added\n",
      "text 16 added\n",
      "text 17 added\n",
      "text 18 added\n",
      "text 19 added\n",
      "text 20 added\n",
      "text 21 added\n",
      "text 22 added\n",
      "text 23 added\n",
      "text 24 added\n",
      "text 25 added\n",
      "text 26 added\n",
      "text 27 added\n",
      "text 28 added\n",
      "error with text 29 - The Pearl by Sophie Jewett\n",
      "error\n",
      "error with text 30 - The Native Son by Inez Haynes Irwin\n",
      "error\n",
      "text 31 added\n",
      "error with text 32 - The Complete Works of William Shakespeare The Tragedy of Julius Caesar\n",
      "error\n"
     ]
    }
   ],
   "source": [
    "#Scrape full texts of first 32 titles in list\n",
    "# full texts and titles collected in two lists, to be combined into dataframe after scraping\n",
    "\n",
    "titles = []\n",
    "texts = []\n",
    "i=1\n",
    "\n",
    "for title in list(full_texts_to_scrape.keys())[:32]:\n",
    "\n",
    "    try:\n",
    "\n",
    "        full_text_url = full_texts_to_scrape[title]\n",
    "        ft_response = requests.get(full_text_url)\n",
    "        time.sleep(1)\n",
    "        if ft_response.status_code==200:\n",
    "            ft_html = ft_response.text\n",
    "            ft_soup = BeautifulSoup(ft_html, 'lxml')\n",
    "            text = ''\n",
    "            for li in ft_soup.find('ul').find_all('li'):\n",
    "                full_text_section_url = 'http://www.fullbooks.com/' + li.find('a')['href']\n",
    "                fts_response = requests.get(full_text_section_url)\n",
    "                time.sleep(1)\n",
    "                if fts_response.status_code==200:\n",
    "                    fts_html = fts_response.text\n",
    "                    fts_soup = BeautifulSoup(fts_html, 'lxml')\n",
    "                    for section in fts_soup.find_all('font', {'face':'Arial'}):\n",
    "                        text = text + section.text\n",
    "            titles.append(title)\n",
    "            texts.append(text)\n",
    "            print(f'text {i} added')\n",
    "                \n",
    "    except:\n",
    "        print(f'error with text {i} - {title}')\n",
    "        print('error')\n",
    "        pass\n",
    "\n",
    "    i += 1"
   ]
  },
  {
   "cell_type": "code",
   "execution_count": 36,
   "metadata": {},
   "outputs": [
    {
     "data": {
      "text/plain": [
       "28"
      ]
     },
     "execution_count": 36,
     "metadata": {},
     "output_type": "execute_result"
    }
   ],
   "source": [
    "#Number of texts successfully scraped - 28/32\n",
    "\n",
    "len(texts)"
   ]
  },
  {
   "cell_type": "code",
   "execution_count": 37,
   "metadata": {},
   "outputs": [
    {
     "data": {
      "text/plain": [
       "28"
      ]
     },
     "execution_count": 37,
     "metadata": {},
     "output_type": "execute_result"
    }
   ],
   "source": [
    "#Confirm that same number of titles were successfully scraped\n",
    "\n",
    "len(titles)"
   ]
  },
  {
   "cell_type": "code",
   "execution_count": 38,
   "metadata": {},
   "outputs": [
    {
     "name": "stdout",
     "output_type": "stream",
     "text": [
      "error with text 1 - Crito by Plato\n",
      "text 2 added\n",
      "text 3 added\n",
      "text 4 added\n",
      "text 5 added\n",
      "text 6 added\n",
      "text 7 added\n",
      "error with text 8 - The Secret Sharer, by Joseph Conrad\n",
      "text 9 added\n",
      "error with text 10 - The Complete Works of William Shakespeare The Life of Timon of Athens\n",
      "text 11 added\n",
      "text 12 added\n",
      "text 13 added\n",
      "text 14 added\n",
      "text 15 added\n",
      "text 16 added\n",
      "text 17 added\n",
      "text 18 added\n",
      "text 19 added\n",
      "text 20 added\n",
      "error with text 21 - Beowulf by James A. Harrison and Robert Sharp, eds.\n",
      "error with text 22 - The Beast in the Jungle by Henry James\n",
      "error with text 23 - The Complete Works of William Shakespeare The Tempest\n",
      "error with text 24 - The Complete Works of William Shakespeare The Tragedy of Othello, Moor of Venice\n",
      "error with text 25 - The Complete Works of William Shakespeare The Tragedy of Macbeth\n",
      "error with text 26 - The Republic by Plato, translated by B. Jowett\n",
      "error with text 27 - Silas Marner by George Eliot\n",
      "error with text 28 - Cyrano de Bergerac by Edmond Rostand\n",
      "error with text 29 - The Portrait of a Lady  [Volume 2] by Henry James\n",
      "error with text 30 - The Portrait of a Lady  [Volume 1] by Henry James\n",
      "error with text 31 - A Connecticut Yankee in King Arthur's Court, Complete by Mark Twain (Samuel Clemens)\n",
      "error with text 32 - Sister Carrie, by Theodore Dreiser\n",
      "error with text 33 - Siddhartha by by Hermann Hesse\n",
      "error with text 34 - Jude the Obscure by Thomas Hardy\n",
      "error with text 35 - The Turn of the Screw, by Henry James\n",
      "error with text 36 - Uncle Tom's Cabin by Harriet Beecher Stowe\n",
      "error with text 37 - The Complete Works of William Shakespeare King Richard III\n",
      "error with text 38 - Walden, by Henry David Thoreau\n",
      "error with text 39 - The Complete Works of William Shakespeare The Comedy of Errors\n",
      "error with text 40 - Phaedo by Plato\n",
      "error with text 41 - Meno by Plato\n",
      "error with text 42 - Les Miserables by Victor Hugo, trans. Isabel F. Hapgood\n",
      "error with text 43 - Gulliver's Travels by Jonathan Swift\n"
     ]
    }
   ],
   "source": [
    "#Scrape texts of rest of titles in list\n",
    "\n",
    "more_titles = []\n",
    "more_texts = []\n",
    "i=1\n",
    "\n",
    "for title in list(full_texts_to_scrape.keys())[32:]:\n",
    "\n",
    "    try:\n",
    "\n",
    "        full_text_url = full_texts_to_scrape[title]\n",
    "        ft_response = requests.get(full_text_url)\n",
    "        time.sleep(1)\n",
    "        if ft_response.status_code==200:\n",
    "            ft_html = ft_response.text\n",
    "            ft_soup = BeautifulSoup(ft_html, 'lxml')\n",
    "            text = ''\n",
    "            for li in ft_soup.find('ul').find_all('li'):\n",
    "                full_text_section_url = 'http://www.fullbooks.com/' + li.find('a')['href']\n",
    "                fts_response = requests.get(full_text_section_url)\n",
    "                time.sleep(1)\n",
    "                if fts_response.status_code==200:\n",
    "                    fts_html = fts_response.text\n",
    "                    fts_soup = BeautifulSoup(fts_html, 'lxml')\n",
    "                    for section in fts_soup.find_all('font', {'face':'Arial'}):\n",
    "                        text = text + section.text\n",
    "            more_titles.append(title)\n",
    "            more_texts.append(text)\n",
    "            print(f'text {i} added')\n",
    "                \n",
    "    except:\n",
    "        print(f'error with text {i} - {title}')\n",
    "        pass\n",
    "\n",
    "    i += 1"
   ]
  },
  {
   "cell_type": "code",
   "execution_count": 39,
   "metadata": {},
   "outputs": [
    {
     "data": {
      "text/plain": [
       "17"
      ]
     },
     "execution_count": 39,
     "metadata": {},
     "output_type": "execute_result"
    }
   ],
   "source": [
    "#Number of texts successfully scraped - 17/43\n",
    "\n",
    "len(more_texts)"
   ]
  },
  {
   "cell_type": "code",
   "execution_count": 40,
   "metadata": {},
   "outputs": [
    {
     "data": {
      "text/plain": [
       "17"
      ]
     },
     "execution_count": 40,
     "metadata": {},
     "output_type": "execute_result"
    }
   ],
   "source": [
    "#Corresponding titles also succesfully scraped\n",
    "\n",
    "len(more_titles)"
   ]
  },
  {
   "cell_type": "code",
   "execution_count": 44,
   "metadata": {},
   "outputs": [],
   "source": [
    "#Manually created list of texts not scraped due to error with request\n",
    "\n",
    "texts_not_added = [\n",
    "    'Daisy Miller, by Henry James',\n",
    "    'The Pearl by Sophie Jewett',\n",
    "    'The Native Son by Inez Haynes Irwin',\n",
    "    'The Complete Works of William Shakespeare The Tragedy of Julius Caesar',\n",
    "    'Crito by Plato',\n",
    "    'The Secret Sharer, by Joseph Conrad',\n",
    "    'The Complete Works of William Shakespeare The Life of Timon of Athens',\n",
    "    'Beowulf by James A. Harrison and Robert Sharp, eds.',\n",
    "    'The Beast in the Jungle by Henry James',\n",
    "    'The Complete Works of William Shakespeare The Tempest',\n",
    "    'The Complete Works of William Shakespeare The Tragedy of Othello, Moor of Venice',\n",
    "    'The Complete Works of William Shakespeare The Tragedy of Macbeth',\n",
    "    'The Republic by Plato, translated by B. Jowett',\n",
    "    'Silas Marner by George Eliot',\n",
    "    'Cyrano de Bergerac by Edmond Rostand',\n",
    "    'The Portrait of a Lady  [Volume 2] by Henry James',\n",
    "    'The Portrait of a Lady  [Volume 1] by Henry James',\n",
    "    'A Connecticut Yankee in King Arthur\\'s Court, Complete by Mark Twain (Samuel Clemens)',\n",
    "    'Sister Carrie, by Theodore Dreiser',\n",
    "    'Siddhartha by by Hermann Hesse',\n",
    "    'Jude the Obscure by Thomas Hardy',\n",
    "    'The Turn of the Screw, by Henry James',\n",
    "    'Uncle Tom\\'s Cabin by Harriet Beecher Stowe',\n",
    "    'The Complete Works of William Shakespeare King Richard III',\n",
    "    'Walden, by Henry David Thoreau',\n",
    "    'The Complete Works of William Shakespeare The Comedy of Errors',\n",
    "    'Phaedo by Plato',\n",
    "    'Meno by Plato',\n",
    "    'Les Miserables by Victor Hugo, trans. Isabel F. Hapgood',\n",
    "    'Gulliver\\'s Travels by Jonathan Swift'\n",
    "    ]"
   ]
  },
  {
   "cell_type": "code",
   "execution_count": 46,
   "metadata": {},
   "outputs": [
    {
     "name": "stdout",
     "output_type": "stream",
     "text": [
      "error with text 0 - Daisy Miller, by Henry James\n",
      "error with text 1 - The Pearl by Sophie Jewett\n",
      "error with text 2 - The Native Son by Inez Haynes Irwin\n",
      "error with text 3 - The Complete Works of William Shakespeare The Tragedy of Julius Caesar\n",
      "error with text 4 - Crito by Plato\n",
      "error with text 5 - The Secret Sharer, by Joseph Conrad\n",
      "error with text 6 - The Complete Works of William Shakespeare The Life of Timon of Athens\n",
      "error with text 7 - Beowulf by James A. Harrison and Robert Sharp, eds.\n",
      "error with text 8 - The Beast in the Jungle by Henry James\n",
      "error with text 9 - The Complete Works of William Shakespeare The Tempest\n",
      "error with text 10 - The Complete Works of William Shakespeare The Tragedy of Othello, Moor of Venice\n",
      "error with text 11 - The Complete Works of William Shakespeare The Tragedy of Macbeth\n",
      "error with text 12 - The Republic by Plato, translated by B. Jowett\n",
      "error with text 13 - Silas Marner by George Eliot\n",
      "error with text 14 - Cyrano de Bergerac by Edmond Rostand\n",
      "error with text 15 - The Portrait of a Lady  [Volume 2] by Henry James\n",
      "error with text 16 - The Portrait of a Lady  [Volume 1] by Henry James\n",
      "error with text 17 - A Connecticut Yankee in King Arthur's Court, Complete by Mark Twain (Samuel Clemens)\n",
      "error with text 18 - Sister Carrie, by Theodore Dreiser\n",
      "error with text 19 - Siddhartha by by Hermann Hesse\n",
      "error with text 20 - Jude the Obscure by Thomas Hardy\n",
      "error with text 21 - The Turn of the Screw, by Henry James\n",
      "error with text 22 - Uncle Tom's Cabin by Harriet Beecher Stowe\n",
      "error with text 23 - The Complete Works of William Shakespeare King Richard III\n",
      "error with text 24 - Walden, by Henry David Thoreau\n",
      "error with text 25 - The Complete Works of William Shakespeare The Comedy of Errors\n",
      "error with text 26 - Phaedo by Plato\n",
      "error with text 27 - Meno by Plato\n",
      "error with text 28 - Les Miserables by Victor Hugo, trans. Isabel F. Hapgood\n",
      "error with text 29 - Gulliver's Travels by Jonathan Swift\n"
     ]
    }
   ],
   "source": [
    "#Re-attempt to scrape texts not successfully accessed\n",
    "\n",
    "#This attempt was unsuccessful. In the interest of time decided to continue with texts succesfully accessed. Next steps in the project will include coming back and attempting \n",
    "# again to add more data to models\n",
    "\n",
    "titles_missed = []\n",
    "texts_missed = []\n",
    "i=1\n",
    "\n",
    "for i in range(len(texts_not_added)):\n",
    "\n",
    "    try:\n",
    "        title = texts_not_added[i]\n",
    "        full_text_url = full_texts_to_scrape[title]\n",
    "        ft_response = requests.get(full_text_url)\n",
    "        time.sleep(1)\n",
    "        if ft_response.status_code==200:\n",
    "            ft_html = ft_response.text\n",
    "            ft_soup = BeautifulSoup(ft_html, 'lxml')\n",
    "            text = ''\n",
    "            for li in ft_soup.find('ul').find_all('li'):\n",
    "                full_text_section_url = 'http://www.fullbooks.com/' + li.find('a')['href']\n",
    "                fts_response = requests.get(full_text_section_url)\n",
    "                time.sleep(1)\n",
    "                if fts_response.status_code==200:\n",
    "                    fts_html = fts_response.text\n",
    "                    fts_soup = BeautifulSoup(fts_html, 'lxml')\n",
    "                    for section in fts_soup.find_all('font', {'face':'Arial'}):\n",
    "                        text = text + section.text\n",
    "            titles_missed.append(title)\n",
    "            texts_missed.append(text)\n",
    "            print(f'text {i} added')\n",
    "                \n",
    "    except:\n",
    "        print(f'error with text {i} - {title}')\n",
    "        pass\n",
    "\n",
    "    i += 1"
   ]
  },
  {
   "cell_type": "code",
   "execution_count": 47,
   "metadata": {},
   "outputs": [],
   "source": [
    "#Create list of all titles successfull scraped\n",
    "\n",
    "all_titles = titles + more_titles"
   ]
  },
  {
   "cell_type": "code",
   "execution_count": 48,
   "metadata": {},
   "outputs": [],
   "source": [
    "#Create list of all texts successfully scraped\n",
    "\n",
    "all_texts = texts + more_texts"
   ]
  },
  {
   "cell_type": "code",
   "execution_count": 49,
   "metadata": {},
   "outputs": [
    {
     "data": {
      "text/plain": [
       "45"
      ]
     },
     "execution_count": 49,
     "metadata": {},
     "output_type": "execute_result"
    }
   ],
   "source": [
    "#Total number of texts successfully scraped\n",
    "\n",
    "len(all_texts)"
   ]
  },
  {
   "cell_type": "code",
   "execution_count": 50,
   "metadata": {},
   "outputs": [
    {
     "data": {
      "text/plain": [
       "45"
      ]
     },
     "execution_count": 50,
     "metadata": {},
     "output_type": "execute_result"
    }
   ],
   "source": [
    "#Corresponding also sucessfully scraped\n",
    "\n",
    "len(all_titles)"
   ]
  },
  {
   "cell_type": "markdown",
   "metadata": {},
   "source": [
    "## Create dataframe of full texts scraped"
   ]
  },
  {
   "cell_type": "code",
   "execution_count": 54,
   "metadata": {},
   "outputs": [],
   "source": [
    "df_texts = pd.DataFrame(np.ones(45))"
   ]
  },
  {
   "cell_type": "code",
   "execution_count": 56,
   "metadata": {},
   "outputs": [
    {
     "data": {
      "text/html": [
       "<div>\n",
       "<style scoped>\n",
       "    .dataframe tbody tr th:only-of-type {\n",
       "        vertical-align: middle;\n",
       "    }\n",
       "\n",
       "    .dataframe tbody tr th {\n",
       "        vertical-align: top;\n",
       "    }\n",
       "\n",
       "    .dataframe thead th {\n",
       "        text-align: right;\n",
       "    }\n",
       "</style>\n",
       "<table border=\"1\" class=\"dataframe\">\n",
       "  <thead>\n",
       "    <tr style=\"text-align: right;\">\n",
       "      <th></th>\n",
       "      <th>0</th>\n",
       "      <th>title</th>\n",
       "      <th>text</th>\n",
       "    </tr>\n",
       "  </thead>\n",
       "  <tbody>\n",
       "    <tr>\n",
       "      <th>0</th>\n",
       "      <td>1.0</td>\n",
       "      <td>The Scarlet Letter by Hawthorne</td>\n",
       "      <td>The Scarlet LetterbyHawthorne\\n\\n\\n\\n\\n\\r\\nTHE...</td>\n",
       "    </tr>\n",
       "    <tr>\n",
       "      <th>1</th>\n",
       "      <td>1.0</td>\n",
       "      <td>The Hound of the Baskervilles by A. Conan Doyle</td>\n",
       "      <td>The Hound of the BaskervillesbyA. Conan Doyle\\...</td>\n",
       "    </tr>\n",
       "    <tr>\n",
       "      <th>2</th>\n",
       "      <td>1.0</td>\n",
       "      <td>The Life of Henry VIII by William Shakespeare ...</td>\n",
       "      <td>The Life of Henry VIIIbyWilliam Shakespeare [D...</td>\n",
       "    </tr>\n",
       "    <tr>\n",
       "      <th>3</th>\n",
       "      <td>1.0</td>\n",
       "      <td>Of Human Bondage by W. Somerset Maugham</td>\n",
       "      <td>Of Human BondagebyW. Somerset Maugham\\n\\n\\n\\n\\...</td>\n",
       "    </tr>\n",
       "    <tr>\n",
       "      <th>4</th>\n",
       "      <td>1.0</td>\n",
       "      <td>The Complete Works of William Shakespeare Cymb...</td>\n",
       "      <td>The Complete Works of William Shakespeare Cymb...</td>\n",
       "    </tr>\n",
       "  </tbody>\n",
       "</table>\n",
       "</div>"
      ],
      "text/plain": [
       "     0                                              title  \\\n",
       "0  1.0                    The Scarlet Letter by Hawthorne   \n",
       "1  1.0    The Hound of the Baskervilles by A. Conan Doyle   \n",
       "2  1.0  The Life of Henry VIII by William Shakespeare ...   \n",
       "3  1.0            Of Human Bondage by W. Somerset Maugham   \n",
       "4  1.0  The Complete Works of William Shakespeare Cymb...   \n",
       "\n",
       "                                                text  \n",
       "0  The Scarlet LetterbyHawthorne\\n\\n\\n\\n\\n\\r\\nTHE...  \n",
       "1  The Hound of the BaskervillesbyA. Conan Doyle\\...  \n",
       "2  The Life of Henry VIIIbyWilliam Shakespeare [D...  \n",
       "3  Of Human BondagebyW. Somerset Maugham\\n\\n\\n\\n\\...  \n",
       "4  The Complete Works of William Shakespeare Cymb...  "
      ]
     },
     "execution_count": 56,
     "metadata": {},
     "output_type": "execute_result"
    }
   ],
   "source": [
    "df_texts['title'] = all_titles\n",
    "df_texts['text'] = all_texts\n",
    "df_texts.head(5)"
   ]
  },
  {
   "cell_type": "code",
   "execution_count": 57,
   "metadata": {},
   "outputs": [],
   "source": [
    "df_texts.drop(columns=0,inplace=True)"
   ]
  },
  {
   "cell_type": "code",
   "execution_count": 58,
   "metadata": {},
   "outputs": [
    {
     "data": {
      "text/html": [
       "<div>\n",
       "<style scoped>\n",
       "    .dataframe tbody tr th:only-of-type {\n",
       "        vertical-align: middle;\n",
       "    }\n",
       "\n",
       "    .dataframe tbody tr th {\n",
       "        vertical-align: top;\n",
       "    }\n",
       "\n",
       "    .dataframe thead th {\n",
       "        text-align: right;\n",
       "    }\n",
       "</style>\n",
       "<table border=\"1\" class=\"dataframe\">\n",
       "  <thead>\n",
       "    <tr style=\"text-align: right;\">\n",
       "      <th></th>\n",
       "      <th>title</th>\n",
       "      <th>text</th>\n",
       "    </tr>\n",
       "  </thead>\n",
       "  <tbody>\n",
       "    <tr>\n",
       "      <th>0</th>\n",
       "      <td>The Scarlet Letter by Hawthorne</td>\n",
       "      <td>The Scarlet LetterbyHawthorne\\n\\n\\n\\n\\n\\r\\nTHE...</td>\n",
       "    </tr>\n",
       "    <tr>\n",
       "      <th>1</th>\n",
       "      <td>The Hound of the Baskervilles by A. Conan Doyle</td>\n",
       "      <td>The Hound of the BaskervillesbyA. Conan Doyle\\...</td>\n",
       "    </tr>\n",
       "    <tr>\n",
       "      <th>2</th>\n",
       "      <td>The Life of Henry VIII by William Shakespeare ...</td>\n",
       "      <td>The Life of Henry VIIIbyWilliam Shakespeare [D...</td>\n",
       "    </tr>\n",
       "    <tr>\n",
       "      <th>3</th>\n",
       "      <td>Of Human Bondage by W. Somerset Maugham</td>\n",
       "      <td>Of Human BondagebyW. Somerset Maugham\\n\\n\\n\\n\\...</td>\n",
       "    </tr>\n",
       "    <tr>\n",
       "      <th>4</th>\n",
       "      <td>The Complete Works of William Shakespeare Cymb...</td>\n",
       "      <td>The Complete Works of William Shakespeare Cymb...</td>\n",
       "    </tr>\n",
       "  </tbody>\n",
       "</table>\n",
       "</div>"
      ],
      "text/plain": [
       "                                               title  \\\n",
       "0                    The Scarlet Letter by Hawthorne   \n",
       "1    The Hound of the Baskervilles by A. Conan Doyle   \n",
       "2  The Life of Henry VIII by William Shakespeare ...   \n",
       "3            Of Human Bondage by W. Somerset Maugham   \n",
       "4  The Complete Works of William Shakespeare Cymb...   \n",
       "\n",
       "                                                text  \n",
       "0  The Scarlet LetterbyHawthorne\\n\\n\\n\\n\\n\\r\\nTHE...  \n",
       "1  The Hound of the BaskervillesbyA. Conan Doyle\\...  \n",
       "2  The Life of Henry VIIIbyWilliam Shakespeare [D...  \n",
       "3  Of Human BondagebyW. Somerset Maugham\\n\\n\\n\\n\\...  \n",
       "4  The Complete Works of William Shakespeare Cymb...  "
      ]
     },
     "execution_count": 58,
     "metadata": {},
     "output_type": "execute_result"
    }
   ],
   "source": [
    "df_texts.head(5)"
   ]
  },
  {
   "cell_type": "markdown",
   "metadata": {},
   "source": [
    "## Export full texts dataframe to csv"
   ]
  },
  {
   "cell_type": "code",
   "execution_count": 60,
   "metadata": {},
   "outputs": [],
   "source": [
    "df_texts.to_csv('./data/working_data/book_texts/full_texts.csv')"
   ]
  }
 ],
 "metadata": {
  "interpreter": {
   "hash": "c90bd41498bd2909e03bc4813e3fc894d3d64fd4c32b3cf57272642761dbfb5b"
  },
  "kernelspec": {
   "display_name": "Python 3.9.7 ('base')",
   "language": "python",
   "name": "python3"
  },
  "language_info": {
   "codemirror_mode": {
    "name": "ipython",
    "version": 3
   },
   "file_extension": ".py",
   "mimetype": "text/x-python",
   "name": "python",
   "nbconvert_exporter": "python",
   "pygments_lexer": "ipython3",
   "version": "3.9.7"
  },
  "orig_nbformat": 4
 },
 "nbformat": 4,
 "nbformat_minor": 2
}
